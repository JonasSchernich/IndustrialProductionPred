{
 "cells": [
  {
   "cell_type": "markdown",
   "id": "8ac265b2",
   "metadata": {},
   "source": [
    "# Tuning Notebook: xgb\n",
    "Dummy-Daten, kleine Splits, Stage A (3 Blöcke) + kurze Stage B. Exporte unter `outputs/`."
   ]
  },
  {
   "cell_type": "code",
   "execution_count": null,
   "id": "f811647d",
   "metadata": {},
   "outputs": [],
   "source": [
    "\n",
    "import os, sys\n",
    "from pathlib import Path\n",
    "\n",
    "PROJECT_ROOT = Path.cwd().resolve().parent   # wenn Notebook in repo/notebooks liegt\n",
    "os.environ[\"PROJECT_ROOT\"] = str(PROJECT_ROOT)\n",
    "if str(PROJECT_ROOT) not in sys.path:\n",
    "    sys.path.insert(0, str(PROJECT_ROOT))\n",
    "\n",
    "from src.config import GlobalConfig, DEFAULT_CORR_SPEC, EWMA_CORR_SPEC, outputs_for_model\n",
    "from src.tuning import run_stageA, run_stageB\n",
    "import numpy as np, pandas as pd\n"
   ]
  },
  {
   "cell_type": "code",
   "execution_count": null,
   "id": "831b38ef",
   "metadata": {},
   "outputs": [],
   "source": [
    "from src.models.xgb import ForecastModel"
   ]
  },
  {
   "cell_type": "code",
   "execution_count": null,
   "id": "7fd2d1ca",
   "metadata": {},
   "outputs": [],
   "source": [
    "\n",
    "# Outputs sicherstellen\n",
    "outputs_for_model(\"xgb\")\n"
   ]
  },
  {
   "cell_type": "code",
   "execution_count": null,
   "id": "a373d3cf",
   "metadata": {},
   "outputs": [],
   "source": [
    "\n",
    "# --- Dummy monthly data ---\n",
    "rng = np.random.default_rng(7)\n",
    "T = 160  # klein für Demo\n",
    "p = 20\n",
    "\n",
    "dates = pd.date_range(\"2000-01-01\", periods=T, freq=\"MS\")\n",
    "y = pd.Series(rng.normal(size=T), index=dates, name=\"delta_ip\")\n",
    "y = 0.5*y.shift(1).fillna(0) + y + rng.normal(scale=0.3, size=T)\n",
    "X = pd.DataFrame(rng.normal(size=(T,p)), index=dates, columns=[f\"f{i:03d}\" for i in range(p)])\n",
    "for j in range(min(5, p)):\n",
    "    X.iloc[:, j] = y.shift(1).fillna(0).values + rng.normal(scale=0.5, size=T)\n",
    "\n",
    "y.head(), X.head()\n"
   ]
  },
  {
   "cell_type": "code",
   "execution_count": null,
   "id": "011be237",
   "metadata": {},
   "outputs": [],
   "source": [
    "\n",
    "# --- Config ---\n",
    "cfg = GlobalConfig()\n",
    "cfg.corr_spec = dict(EWMA_CORR_SPEC)  # global, einheitlich\n",
    "cfg.lag_candidates = tuple(range(1, 4))\n",
    "cfg.top_k_lags_per_feature = 1\n",
    "cfg.k1_topk = 20\n",
    "cfg.redundancy_method = \"greedy\"\n",
    "cfg.redundancy_param = 0.9\n",
    "cfg.dr_method = \"none\"   # Modell-spezifisch ggf. im Grid ändern\n",
    "cfg.nuisance_seasonal = \"off\"\n",
    "\n",
    "# Kleine Blöcke\n",
    "cfg.W0_A = 60\n",
    "cfg.BLOCKS_A = [(61, 70), (71, 80), (81, 90)]\n",
    "cfg.W0_B = 100\n",
    "cfg.policy_window = 6\n",
    "cfg.policy_gain_min = 0.05\n",
    "cfg.policy_cooldown = 2\n"
   ]
  },
  {
   "cell_type": "code",
   "execution_count": null,
   "id": "f7c6cbc7",
   "metadata": {},
   "outputs": [],
   "source": [
    "\n",
    "model_grid = [\n",
    "    {\"learning_rate\": 0.05, \"n_estimators\": 150, \"max_depth\": 3},\n",
    "    {\"learning_rate\": 0.10, \"n_estimators\": 220, \"max_depth\": 4},\n",
    "    {\"learning_rate\": 0.03, \"n_estimators\": 250, \"max_depth\": 2, \"subsample\": 0.8},\n",
    "]\n"
   ]
  },
  {
   "cell_type": "code",
   "execution_count": null,
   "id": "2b63644a",
   "metadata": {},
   "outputs": [],
   "source": [
    "\n",
    "# --- Stage A ---\n",
    "shortlist = run_stageA(\n",
    "    model_name=\"xgb\",\n",
    "    model_ctor=lambda hp: ForecastModel(hp),\n",
    "    model_grid=model_grid,\n",
    "    X=X, y=y, cfg=cfg\n",
    ")\n",
    "shortlist\n"
   ]
  },
  {
   "cell_type": "code",
   "execution_count": null,
   "id": "113487d2",
   "metadata": {},
   "outputs": [],
   "source": [
    "\n",
    "# --- Stage B (kurz) ---\n",
    "run_stageB(\n",
    "    model_name=\"xgb\",\n",
    "    model_ctor=lambda hp: ForecastModel(hp),\n",
    "    shortlist=shortlist,\n",
    "    X=X, y=y, cfg=cfg,\n",
    "    max_months=6\n",
    ")\n",
    "print(\"Stage B done → outputs/stageB/xgb/\")\n"
   ]
  }
 ],
 "metadata": {},
 "nbformat": 4,
 "nbformat_minor": 5
}
