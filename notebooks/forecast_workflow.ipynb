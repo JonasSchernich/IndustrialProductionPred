{
 "cells": [
  {
   "cell_type": "markdown",
   "id": "6d1f8063",
   "metadata": {},
   "source": [
    "# Forecast Workflow — Multi-Model\n",
    "Load → optional manual base-feature filter (by Branche) → FE/FS → Model chunks → Run → Evaluate/Save"
   ]
  },
  {
   "cell_type": "code",
   "id": "36dc5651",
   "metadata": {
    "ExecuteTime": {
     "end_time": "2025-09-25T09:27:08.416757Z",
     "start_time": "2025-09-25T09:27:07.975433Z"
    }
   },
   "source": [
    "\n",
    "# CHUNK 1 — Load & optional manual Branchen-Filter\n",
    "import sys, os, re, json\n",
    "sys.path.append(os.path.abspath(\"../src\"))\n",
    "import pandas as pd\n",
    "from tsforecast.types import FeatureSelectCfg, FeEngCfg\n",
    "from tsforecast.evaluation.metrics import get_metric\n",
    "from tsforecast.rolling.online import online_rolling_forecast\n",
    "from tsforecast.rolling import online\n",
    "\n",
    "X = pd.read_csv('../data/processed/cleaned_features.csv', parse_dates=[\"date\"], index_col=\"date\")\n",
    "y_df = pd.read_csv('../data/processed/target.csv', parse_dates=[\"date\"], index_col=\"date\")\n",
    "y = y_df.iloc[:, 1] if y_df.shape[1] >= 2 else y_df.iloc[:, 0]\n",
    "\n",
    "# Optional: manuelle Branchen-Auswahl (leerlassen = alle nehmen)\n",
    "# industry_whitelist = [\n",
    "#     \"Herstellung_von_Nahrungs-_und_Futtermitteln\",\n",
    "#     \"Getränkeherstellung\",\n",
    "#     \"Herstellung_von_Textilien\",\n",
    "#     \"Herstellung_von_Bekleidung\",\n",
    "#     \"Herstellung_von_Leder_Lederwaren_und_Schuhen\",\n",
    "#     \"Holz-_Flecht-_Korb-_und_Korkwarenherstellung_(ohne_Möbel)\",\n",
    "#     \"Papiergewerbe\",\n",
    "#     \"Herstellung_von_Druckerzeugnissen\",\n",
    "#     \"Kokerei_und_Mineralölverarbeitung\",\n",
    "#     \"Herstellung_von_chemischen_Erzeugnissen\",\n",
    "#     \"Herstellung_von_pharmazeutischen_Erzeugnissen\",\n",
    "#     \"Herstellung_von_Gummi-_und_Kunststoffwaren\",\n",
    "#     \"Glas-_Keramikgewerbe_Verarbeitung_von_Steinen_und_Erden\",\n",
    "#     \"Metallerzeugung_und_-bearbeitung\",\n",
    "#     \"Herstellung_von_Metallerzeugnissen\",\n",
    "#     \"Datenverarbeitungsgeräte_elektronische_und_optische_Erzeugnisse\",\n",
    "#     \"Herstellung_von_elektrischen_Ausrüstungen\",\n",
    "#     \"Maschinenbau\",\n",
    "#     \"Herstellung_von_Kraftwagen_und_Kraftwagenteilen\",\n",
    "#     \"Sonstiger_Fahrzeugbau\",\n",
    "#     \"Herstellung_von_Möbeln\",\n",
    "#     \"Herstellung_von_sonstigen_Waren\"\n",
    "# ]\n",
    "\n",
    "\n",
    "industry_whitelist = [\n",
    "    \"Verarbeitendes_Gewerbe\",\n",
    "    \"Verarbeitendes_Gewerbe_(ohne_Ernährungsgewerbe)\",\n",
    "    \"Herstellung_von_Vorleistungsgütern\",\n",
    "    \"Herstellung_von_Investitionsgütern\",\n",
    "    \"Herstellung_von_Konsumgütern_(Ge-_und_Verbrauchsgüter)\",\n",
    "    \"Herstellung_von_Gebrauchsgütern\",\n",
    "    \"Herstellung_von_Verbrauchsgütern\",\n",
    "    \"Herstellung_von_Konsumgütern_(ohne_Ernährungsgewerbe)\",\n",
    "    \"Herstellung_von_Verbrauchsgütern_(ohne_Ernährungsgewerbe)\",\n",
    "    \"Ernährungsgewerbe_und_Tabakverarbeitung\",\n",
    "    \"Herstellung_von_Nahrungs-_und_Futtermitteln\",\n",
    "    \"Schlachten_und_Fleischverarbeitung\"\n",
    "]\n",
    "\n",
    "if industry_whitelist:\n",
    "    keep = []\n",
    "    wl = set(industry_whitelist)\n",
    "    for c in X.columns:\n",
    "        prefix = c.split('.', 1)[0]\n",
    "        if prefix in wl:\n",
    "            keep.append(c)\n",
    "    X = X[keep]\n",
    "    print(f\"Gefilterte Spalten: {len(keep)}\")\n",
    "\n",
    "idx = X.index.intersection(y.index)\n",
    "X = X.loc[idx].copy()\n",
    "y = y.loc[idx].copy()\n",
    "metric_fn = get_metric('rmse')\n",
    "print(X.shape, y.shape)\n"
   ],
   "outputs": [
    {
     "name": "stdout",
     "output_type": "stream",
     "text": [
      "Gefilterte Spalten: 156\n",
      "(408, 156) (408,)\n"
     ]
    }
   ],
   "execution_count": 1
  },
  {
   "cell_type": "code",
   "id": "5bf74cbd",
   "metadata": {
    "ExecuteTime": {
     "end_time": "2025-09-25T09:27:24.960225Z",
     "start_time": "2025-09-25T09:27:24.948716Z"
    }
   },
   "source": [
    "\n",
    "# CHUNK 2 — FE/FS (gefixt)\n",
    "from tsforecast.types import FeatureSelectCfg, FeEngCfg\n",
    "from tsforecast.rolling import online\n",
    "\n",
    "fe_cfg = FeEngCfg(\n",
    "    candidate_lag_sets=((3,), (6,3, 2, 1,), (1,)),  # ok\n",
    "    candidate_rm_sets=((3,),),              # <- HIER: ( (3,), ) statt ((3),)\n",
    "    candidate_ema_sets=((),),               # ok (kein EMA)\n",
    "    candidate_pca=((None, None),),          # ok\n",
    "    per_feature_lags=True,\n",
    "    optimize_fe_for_all_hp=True,\n",
    ")\n",
    "\n",
    "online.PCA_STAGE_DEFAULT = \"pre\"  # \"pre\" oder \"post\"\n",
    "\n",
    "# Optional: externe Feature-Blöcke (vorgekocht)\n",
    "#setattr(fe_cfg, \"tsfresh_path\", \"../data/processed/tsfresh_w12_slim.parquet\")\n",
    "setattr(fe_cfg, \"tsfresh_path\", \"../data/processed/tsfresh_w12_full\") #<- hier gebe ich einen ordner an mit mehreren parqets die je nur einen teil der features enthalten\n",
    "\n",
    "# setattr(fe_cfg, \"fm_pred_path\",  \"../data/processed/chronos_one_step.parquet\")\n",
    "\n",
    "# FS sehr hoch => effektiv \"keine Selektion\"\n",
    "fs_cfg = FeatureSelectCfg(mode='auto_topk', topk=500, variance_thresh=0.0)\n",
    "\n",
    "\n"
   ],
   "outputs": [],
   "execution_count": 3
  },
  {
   "cell_type": "markdown",
   "id": "95d63618",
   "metadata": {},
   "source": [
    "### ElasticNet (linear, stabil, gut mit vielen korrelierten Lags)\n",
    "- HPO: `alpha` in {1e-3…1}, `l1_ratio` in {0.1…0.9}. \n",
    "- FE: Lags 3/6/12 reichen oft; RM/EMA optional.\n",
    "- FS: `auto_topk` 100–300.\n",
    "- PCA: optional (post) zur Entkollinearisierung."
   ]
  },
  {
   "cell_type": "code",
   "id": "80a9e524",
   "metadata": {
    "ExecuteTime": {
     "end_time": "2025-09-25T09:27:28.222545Z",
     "start_time": "2025-09-25T09:27:28.220041Z"
    }
   },
   "source": [
    "\n",
    "# CHUNK 3a — ElasticNet\n",
    "model_name = \"elasticnet\"\n",
    "model_grid = {'alpha':[0.01, 0.1, 0.05], 'l1_ratio':[0.3, 0.7],\n",
    "              'max_iter':[10000], 'fit_intercept':[True],\n",
    "              'random_state':[42], 'standardize':[True]}\n"
   ],
   "outputs": [],
   "execution_count": 4
  },
  {
   "cell_type": "markdown",
   "id": "86d03736",
   "metadata": {},
   "source": [
    "### RandomForest (nichtlinear, robust)\n",
    "- HPO: `n_estimators` 300–800, `max_depth` 6–20.\n",
    "- FE: viele Lags möglich, aber aufpassen auf Dim.\n",
    "- FS: `auto_topk` 200–400.\n",
    "- PCA: eher nein (RF skaliert schlecht mit PCs)."
   ]
  },
  {
   "cell_type": "code",
   "execution_count": null,
   "id": "6cddc97c",
   "metadata": {},
   "outputs": [],
   "source": [
    "\n",
    "# CHUNK 3b — RandomForest\n",
    "# model_name = \"randomforest\"\n",
    "# model_grid = {'n_estimators':[500], 'max_depth':[12], 'n_jobs':[-1], 'random_state':[42]}\n"
   ]
  },
  {
   "cell_type": "markdown",
   "id": "b75a16e5",
   "metadata": {},
   "source": [
    "### XGBoost (stark, kann GPU)\n",
    "- HPO: `max_depth` 3–6, `eta`=learning_rate 0.03–0.1, `subsample` 0.7–0.9.\n",
    "- FE: Lags 3/6/12 + ggf. EMA(3/6).\n",
    "- FS: 200–400.\n",
    "- GPU: `use_gpu=True` (erfordert CUDA)."
   ]
  },
  {
   "cell_type": "code",
   "execution_count": null,
   "id": "f6d45f27",
   "metadata": {},
   "outputs": [],
   "source": [
    "\n",
    "# CHUNK 3c — XGBoost\n",
    "# model_name = \"xgboost\"\n",
    "# model_grid = {'n_estimators':[300], 'learning_rate':[0.05], 'max_depth':[4],\n",
    "#               'subsample':[0.8], 'colsample_bytree':[0.8], 'use_gpu':[False], 'random_state':[42]}\n"
   ]
  },
  {
   "cell_type": "markdown",
   "id": "8ab46102",
   "metadata": {},
   "source": [
    "### LightGBM (schnell, kann GPU)\n",
    "- HPO: `num_leaves` 15–63, `n_estimators` 300–1000, `learning_rate` 0.03–0.1.\n",
    "- FE: ähnlich XGB.\n",
    "- FS: 200–400.\n",
    "- GPU: `use_gpu=True` (GPU-Build nötig)."
   ]
  },
  {
   "cell_type": "code",
   "execution_count": null,
   "id": "d0021862",
   "metadata": {},
   "outputs": [],
   "source": [
    "\n",
    "# CHUNK 3d — LightGBM\n",
    "# model_name = \"lightgbm\"\n",
    "# model_grid = {'n_estimators':[500], 'learning_rate':[0.05], 'num_leaves':[31],\n",
    "#               'min_data_in_leaf':[5], 'subsample':[0.8], 'colsample_bytree':[0.8],\n",
    "#               'use_gpu':[False], 'random_state':[42]}\n"
   ]
  },
  {
   "cell_type": "markdown",
   "id": "c947ad0f",
   "metadata": {},
   "source": [
    "### TabPFN (Zero/Low-HPO, kann GPU)\n",
    "- HPO: meistens none; evtl. `use_gpu=True`.\n",
    "- FE: starke FS nötig (Top-K 100–300); PCA(post) oft gut.\n",
    "- FS: 100–300."
   ]
  },
  {
   "cell_type": "code",
   "execution_count": null,
   "id": "77307d06",
   "metadata": {},
   "outputs": [],
   "source": [
    "\n",
    "# CHUNK 3e — TabPFN\n",
    "# model_name = \"tabpfn\"\n",
    "# model_grid = {'use_gpu':[False]}\n"
   ]
  },
  {
   "cell_type": "markdown",
   "id": "96c9c62d",
   "metadata": {},
   "source": [
    "### Chronos (Foundational Model, baseline/stack)\n",
    "- Als Modell: ignoriert X, nutzt nur y.\n",
    "- Als Stacking-Feature: precompute und via `fm_pred_path` einbinden.\n",
    "- HPO: `model_id` (tiny/mini/small), `use_gpu`."
   ]
  },
  {
   "cell_type": "code",
   "execution_count": null,
   "id": "c76ae2b2",
   "metadata": {},
   "outputs": [],
   "source": [
    "\n",
    "# CHUNK 3f — Chronos\n",
    "# model_name = \"chronos\"\n",
    "# model_grid = {\"model_id\": [\"amazon/chronos-t5-tiny\"], \"use_gpu\":[False]}\n",
    "# from tsforecast.types import FeatureSelectCfg\n",
    "# fs_cfg = FeatureSelectCfg(mode='auto_topk', topk=0, variance_thresh=0.0)  # ignoriert X\n"
   ]
  },
  {
   "cell_type": "markdown",
   "id": "164dc150",
   "metadata": {},
   "source": [
    "### Baselines (Mean, RW, AR1)\n",
    "- Keine FE/FS nötig. Dienen als Untergrenze.\n",
    "- AR1 mit/ohne Intercept probieren."
   ]
  },
  {
   "cell_type": "code",
   "id": "746fb59e",
   "metadata": {
    "ExecuteTime": {
     "end_time": "2025-09-25T07:32:07.944447Z",
     "start_time": "2025-09-25T07:32:07.876324Z"
    }
   },
   "source": [
    "\n",
    "# CHUNK 3g — Baselines\n",
    "# model_name = \"mean\";  model_grid = {}\n",
    "# model_name = \"rw\";    model_grid = {}\n",
    "model_name = \"ar1\";   model_grid = {'fit_intercept':[True]}\n"
   ],
   "outputs": [],
   "execution_count": 3
  },
  {
   "cell_type": "code",
   "id": "813bd3db",
   "metadata": {
    "jupyter": {
     "is_executing": true
    },
    "ExecuteTime": {
     "start_time": "2025-09-25T09:27:30.730313Z"
    }
   },
   "source": [
    "\n",
    "# CHUNK 4 — Run\n",
    "preds, truths, cfglog = online_rolling_forecast(\n",
    "    X, y,\n",
    "    initial_window=108, step=1, horizon=1,\n",
    "    fs_cfg=fs_cfg, fe_cfg=fe_cfg,\n",
    "    model_name=model_name, model_grid=model_grid, metric_fn=get_metric('rmse'),\n",
    "    progress=True\n",
    ")\n",
    "print(preds.tail())\n",
    "print(truths.tail())\n",
    "cfglog.tail()\n"
   ],
   "outputs": [
    {
     "name": "stdout",
     "output_type": "stream",
     "text": [
      "[init_start] n_hp=6, n_fe=1, expected_evals=6\n"
     ]
    },
    {
     "name": "stderr",
     "output_type": "stream",
     "text": [
      "/Library/Frameworks/Python.framework/Versions/3.12/lib/python3.12/site-packages/numpy/lib/function_base.py:2897: RuntimeWarning: invalid value encountered in divide\n",
      "  c /= stddev[:, None]\n",
      "/Library/Frameworks/Python.framework/Versions/3.12/lib/python3.12/site-packages/numpy/lib/function_base.py:2898: RuntimeWarning: invalid value encountered in divide\n",
      "  c /= stddev[None, :]\n"
     ]
    },
    {
     "name": "stdout",
     "output_type": "stream",
     "text": [
      "[init_eval] done=1, total=6, hp_idx=1, fe_idx=1, score=1.568344\n"
     ]
    },
    {
     "name": "stderr",
     "output_type": "stream",
     "text": [
      "/Library/Frameworks/Python.framework/Versions/3.12/lib/python3.12/site-packages/numpy/lib/function_base.py:2897: RuntimeWarning: invalid value encountered in divide\n",
      "  c /= stddev[:, None]\n",
      "/Library/Frameworks/Python.framework/Versions/3.12/lib/python3.12/site-packages/numpy/lib/function_base.py:2898: RuntimeWarning: invalid value encountered in divide\n",
      "  c /= stddev[None, :]\n"
     ]
    },
    {
     "name": "stdout",
     "output_type": "stream",
     "text": [
      "[init_eval] done=2, total=6, hp_idx=2, fe_idx=1, score=1.637557\n"
     ]
    },
    {
     "name": "stderr",
     "output_type": "stream",
     "text": [
      "/Library/Frameworks/Python.framework/Versions/3.12/lib/python3.12/site-packages/numpy/lib/function_base.py:2897: RuntimeWarning: invalid value encountered in divide\n",
      "  c /= stddev[:, None]\n",
      "/Library/Frameworks/Python.framework/Versions/3.12/lib/python3.12/site-packages/numpy/lib/function_base.py:2898: RuntimeWarning: invalid value encountered in divide\n",
      "  c /= stddev[None, :]\n"
     ]
    },
    {
     "name": "stdout",
     "output_type": "stream",
     "text": [
      "[init_eval] done=3, total=6, hp_idx=3, fe_idx=1, score=1.023548\n"
     ]
    },
    {
     "name": "stderr",
     "output_type": "stream",
     "text": [
      "/Library/Frameworks/Python.framework/Versions/3.12/lib/python3.12/site-packages/numpy/lib/function_base.py:2897: RuntimeWarning: invalid value encountered in divide\n",
      "  c /= stddev[:, None]\n",
      "/Library/Frameworks/Python.framework/Versions/3.12/lib/python3.12/site-packages/numpy/lib/function_base.py:2898: RuntimeWarning: invalid value encountered in divide\n",
      "  c /= stddev[None, :]\n"
     ]
    },
    {
     "name": "stdout",
     "output_type": "stream",
     "text": [
      "[init_eval] done=4, total=6, hp_idx=4, fe_idx=1, score=1.078622\n"
     ]
    },
    {
     "name": "stderr",
     "output_type": "stream",
     "text": [
      "/Library/Frameworks/Python.framework/Versions/3.12/lib/python3.12/site-packages/numpy/lib/function_base.py:2897: RuntimeWarning: invalid value encountered in divide\n",
      "  c /= stddev[:, None]\n",
      "/Library/Frameworks/Python.framework/Versions/3.12/lib/python3.12/site-packages/numpy/lib/function_base.py:2898: RuntimeWarning: invalid value encountered in divide\n",
      "  c /= stddev[None, :]\n"
     ]
    }
   ],
   "execution_count": null
  },
  {
   "cell_type": "code",
   "id": "ed683f31",
   "metadata": {
    "ExecuteTime": {
     "end_time": "2025-09-25T08:50:43.378083Z",
     "start_time": "2025-09-25T08:50:43.369689Z"
    }
   },
   "source": [
    "\n",
    "# CHUNK 5 — Evaluate & Save\n",
    "from sklearn.metrics import mean_absolute_error, mean_squared_error\n",
    "import numpy as np, os, json\n",
    "\n",
    "rmse = np.sqrt(mean_squared_error(truths, preds))\n",
    "mae  = mean_absolute_error(truths, preds)\n",
    "mse  = mean_squared_error(truths, preds)\n",
    "print(f'RMSE={rmse:.4f}, MAE={mae:.4f}, n={len(truths)}')\n",
    "\n",
    "results = pd.DataFrame({'y_true': truths, 'y_pred': preds})\n",
    "results.index.name = 'date'\n",
    "\n",
    "os.makedirs('../reports', exist_ok=True)\n",
    "# cfglog.to_csv('../reports/rolling_cfglog.csv')\n",
    "# results.to_csv('../reports/rolling_predictions.csv')\n",
    "\n",
    "row = pd.DataFrame([{\n",
    "    'model_name': model_name,\n",
    "    'model_grid': json.dumps(model_grid, ensure_ascii=False),\n",
    "    'candidate_lag_sets': json.dumps(tuple(map(list, fe_cfg.candidate_lag_sets)), ensure_ascii=False),\n",
    "    'candidate_rm_sets':  json.dumps(tuple(map(list, fe_cfg.candidate_rm_sets)), ensure_ascii=False),\n",
    "    'candidate_ema_sets': json.dumps(tuple(map(list, fe_cfg.candidate_ema_sets)), ensure_ascii=False),\n",
    "    'candidate_pca':      json.dumps(fe_cfg.candidate_pca, ensure_ascii=False),\n",
    "    'pca_stage':          online.PCA_STAGE_DEFAULT,\n",
    "    'final_mse':          float(mse),\n",
    "    'n_steps':            int(len(truths)),\n",
    "}])\n",
    "#row.to_csv('../reports/tuning_space_and_final_mse.csv', index=False)\n",
    "print('Saved ../reports/tuning_space_and_final_mse.csv')\n"
   ],
   "outputs": [
    {
     "name": "stdout",
     "output_type": "stream",
     "text": [
      "RMSE=2.8363, MAE=1.7928, n=300\n",
      "Saved ../reports/tuning_space_and_final_mse.csv\n"
     ]
    }
   ],
   "execution_count": 5
  }
 ],
 "metadata": {
  "kernelspec": {
   "name": "python3",
   "language": "python",
   "display_name": "Python 3 (ipykernel)"
  }
 },
 "nbformat": 4,
 "nbformat_minor": 5
}
