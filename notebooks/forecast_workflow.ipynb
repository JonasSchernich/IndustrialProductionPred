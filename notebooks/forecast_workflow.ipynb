{
 "cells": [
  {
   "cell_type": "markdown",
   "id": "6d1f8063",
   "metadata": {},
   "source": [
    "# Forecast Workflow — Multi-Model\n",
    "Load → optional manual base-feature filter (by Branche) → FE/FS → Model chunks → Run → Evaluate/Save"
   ]
  },
  {
   "cell_type": "code",
   "id": "36dc5651",
   "metadata": {
    "ExecuteTime": {
     "end_time": "2025-09-21T12:40:28.768018Z",
     "start_time": "2025-09-21T12:40:28.606439Z"
    }
   },
   "source": [
    "\n",
    "# CHUNK 1 — Load & optional manual Branchen-Filter\n",
    "import sys, os, re, json\n",
    "sys.path.append(os.path.abspath(\"../src\"))\n",
    "import pandas as pd\n",
    "from tsforecast.types import FeatureSelectCfg, FeEngCfg\n",
    "from tsforecast.evaluation.metrics import get_metric\n",
    "from tsforecast.rolling.online import online_rolling_forecast\n",
    "from tsforecast.rolling import online\n",
    "\n",
    "X = pd.read_csv('../data/processed/cleaned_features.csv', parse_dates=[\"date\"], index_col=\"date\")\n",
    "y_df = pd.read_csv('../data/processed/target.csv', parse_dates=[\"date\"], index_col=\"date\")\n",
    "y = y_df.iloc[:, 1] if y_df.shape[1] >= 2 else y_df.iloc[:, 0]\n",
    "\n",
    "# Optional: manuelle Branchen-Auswahl (leerlassen = alle nehmen)\n",
    "# industry_whitelist = [\n",
    "#     \"Herstellung_von_Nahrungs-_und_Futtermitteln\",\n",
    "#     \"Getränkeherstellung\",\n",
    "#     \"Herstellung_von_Textilien\",\n",
    "#     \"Herstellung_von_Bekleidung\",\n",
    "#     \"Herstellung_von_Leder_Lederwaren_und_Schuhen\",\n",
    "#     \"Holz-_Flecht-_Korb-_und_Korkwarenherstellung_(ohne_Möbel)\",\n",
    "#     \"Papiergewerbe\",\n",
    "#     \"Herstellung_von_Druckerzeugnissen\",\n",
    "#     \"Kokerei_und_Mineralölverarbeitung\",\n",
    "#     \"Herstellung_von_chemischen_Erzeugnissen\",\n",
    "#     \"Herstellung_von_pharmazeutischen_Erzeugnissen\",\n",
    "#     \"Herstellung_von_Gummi-_und_Kunststoffwaren\",\n",
    "#     \"Glas-_Keramikgewerbe_Verarbeitung_von_Steinen_und_Erden\",\n",
    "#     \"Metallerzeugung_und_-bearbeitung\",\n",
    "#     \"Herstellung_von_Metallerzeugnissen\",\n",
    "#     \"Datenverarbeitungsgeräte_elektronische_und_optische_Erzeugnisse\",\n",
    "#     \"Herstellung_von_elektrischen_Ausrüstungen\",\n",
    "#     \"Maschinenbau\",\n",
    "#     \"Herstellung_von_Kraftwagen_und_Kraftwagenteilen\",\n",
    "#     \"Sonstiger_Fahrzeugbau\",\n",
    "#     \"Herstellung_von_Möbeln\",\n",
    "#     \"Herstellung_von_sonstigen_Waren\"\n",
    "# ]\n",
    "\n",
    "\n",
    "# industry_whitelist = [\n",
    "#     \"Verarbeitendes_Gewerbe\",\n",
    "#     \"Verarbeitendes_Gewerbe_(ohne_Ernährungsgewerbe)\",\n",
    "#     \"Herstellung_von_Vorleistungsgütern\",\n",
    "#     \"Herstellung_von_Investitionsgütern\",\n",
    "#     \"Herstellung_von_Konsumgütern_(Ge-_und_Verbrauchsgüter)\",\n",
    "#     \"Herstellung_von_Gebrauchsgütern\",\n",
    "#     \"Herstellung_von_Verbrauchsgütern\",\n",
    "#     \"Herstellung_von_Konsumgütern_(ohne_Ernährungsgewerbe)\",\n",
    "#     \"Herstellung_von_Verbrauchsgütern_(ohne_Ernährungsgewerbe)\",\n",
    "#     \"Ernährungsgewerbe_und_Tabakverarbeitung\",\n",
    "#     \"Herstellung_von_Nahrungs-_und_Futtermitteln\",\n",
    "#     \"Schlachten_und_Fleischverarbeitung\"\n",
    "# ]\n",
    "\n",
    "# if industry_whitelist:\n",
    "#     keep = []\n",
    "#     wl = set(industry_whitelist)\n",
    "#     for c in X.columns:\n",
    "#         prefix = c.split('.', 1)[0]\n",
    "#         if prefix in wl:\n",
    "#             keep.append(c)\n",
    "#     X = X[keep]\n",
    "#     print(f\"Gefilterte Spalten: {len(keep)}\")\n",
    "\n",
    "idx = X.index.intersection(y.index)\n",
    "X = X.loc[idx].copy()\n",
    "y = y.loc[idx].copy()\n",
    "metric_fn = get_metric('rmse')\n",
    "print(X.shape, y.shape)\n"
   ],
   "outputs": [
    {
     "name": "stdout",
     "output_type": "stream",
     "text": [
      "(408, 2160) (408,)\n"
     ]
    }
   ],
   "execution_count": 34
  },
  {
   "cell_type": "code",
   "id": "5bf74cbd",
   "metadata": {
    "ExecuteTime": {
     "end_time": "2025-09-21T12:22:35.369865Z",
     "start_time": "2025-09-21T12:22:35.357269Z"
    }
   },
   "source": [
    "\n",
    "# CHUNK 2 — FE/FS (gefixt)\n",
    "from tsforecast.types import FeatureSelectCfg, FeEngCfg\n",
    "from tsforecast.rolling import online\n",
    "\n",
    "fe_cfg = FeEngCfg(\n",
    "    candidate_lag_sets=((3,), (6,), (1,)),  # ok\n",
    "    candidate_rm_sets=((3,),),              # <- HIER: ( (3,), ) statt ((3),)\n",
    "    candidate_ema_sets=((),),               # ok (kein EMA)\n",
    "    candidate_pca=((None, None),),          # ok\n",
    "    per_feature_lags=False,\n",
    "    optimize_fe_for_all_hp=False,\n",
    ")\n",
    "\n",
    "online.PCA_STAGE_DEFAULT = \"pre\"  # \"pre\" oder \"post\"\n",
    "\n",
    "# Optional: externe Feature-Blöcke (vorgekocht)\n",
    "# setattr(fe_cfg, \"tsfresh_path\", \"../data/processed/tsfresh_w12.parquet\")\n",
    "# setattr(fe_cfg, \"fm_pred_path\",  \"../data/processed/chronos_one_step.parquet\")\n",
    "\n",
    "# FS sehr hoch => effektiv \"keine Selektion\"\n",
    "fs_cfg = FeatureSelectCfg(mode='auto_topk', topk=20000, variance_thresh=0.0)\n",
    "\n"
   ],
   "outputs": [],
   "execution_count": 30
  },
  {
   "cell_type": "markdown",
   "id": "95d63618",
   "metadata": {},
   "source": [
    "### ElasticNet (linear, stabil, gut mit vielen korrelierten Lags)\n",
    "- HPO: `alpha` in {1e-3…1}, `l1_ratio` in {0.1…0.9}. \n",
    "- FE: Lags 3/6/12 reichen oft; RM/EMA optional.\n",
    "- FS: `auto_topk` 100–300.\n",
    "- PCA: optional (post) zur Entkollinearisierung."
   ]
  },
  {
   "cell_type": "code",
   "id": "80a9e524",
   "metadata": {
    "ExecuteTime": {
     "end_time": "2025-09-21T12:16:35.364605Z",
     "start_time": "2025-09-21T12:16:35.352748Z"
    }
   },
   "source": [
    "\n",
    "# CHUNK 3a — ElasticNet\n",
    "model_name = \"elasticnet\"\n",
    "model_grid = {'alpha':[0.01, 0.1], 'l1_ratio':[0.3, 0.7],\n",
    "              'max_iter':[10000], 'fit_intercept':[True],\n",
    "              'random_state':[42], 'standardize':[True]}\n"
   ],
   "outputs": [],
   "execution_count": 26
  },
  {
   "cell_type": "markdown",
   "id": "86d03736",
   "metadata": {},
   "source": [
    "### RandomForest (nichtlinear, robust)\n",
    "- HPO: `n_estimators` 300–800, `max_depth` 6–20.\n",
    "- FE: viele Lags möglich, aber aufpassen auf Dim.\n",
    "- FS: `auto_topk` 200–400.\n",
    "- PCA: eher nein (RF skaliert schlecht mit PCs)."
   ]
  },
  {
   "cell_type": "code",
   "execution_count": null,
   "id": "6cddc97c",
   "metadata": {},
   "outputs": [],
   "source": [
    "\n",
    "# CHUNK 3b — RandomForest\n",
    "# model_name = \"randomforest\"\n",
    "# model_grid = {'n_estimators':[500], 'max_depth':[12], 'n_jobs':[-1], 'random_state':[42]}\n"
   ]
  },
  {
   "cell_type": "markdown",
   "id": "b75a16e5",
   "metadata": {},
   "source": [
    "### XGBoost (stark, kann GPU)\n",
    "- HPO: `max_depth` 3–6, `eta`=learning_rate 0.03–0.1, `subsample` 0.7–0.9.\n",
    "- FE: Lags 3/6/12 + ggf. EMA(3/6).\n",
    "- FS: 200–400.\n",
    "- GPU: `use_gpu=True` (erfordert CUDA)."
   ]
  },
  {
   "cell_type": "code",
   "execution_count": null,
   "id": "f6d45f27",
   "metadata": {},
   "outputs": [],
   "source": [
    "\n",
    "# CHUNK 3c — XGBoost\n",
    "# model_name = \"xgboost\"\n",
    "# model_grid = {'n_estimators':[300], 'learning_rate':[0.05], 'max_depth':[4],\n",
    "#               'subsample':[0.8], 'colsample_bytree':[0.8], 'use_gpu':[False], 'random_state':[42]}\n"
   ]
  },
  {
   "cell_type": "markdown",
   "id": "8ab46102",
   "metadata": {},
   "source": [
    "### LightGBM (schnell, kann GPU)\n",
    "- HPO: `num_leaves` 15–63, `n_estimators` 300–1000, `learning_rate` 0.03–0.1.\n",
    "- FE: ähnlich XGB.\n",
    "- FS: 200–400.\n",
    "- GPU: `use_gpu=True` (GPU-Build nötig)."
   ]
  },
  {
   "cell_type": "code",
   "execution_count": null,
   "id": "d0021862",
   "metadata": {},
   "outputs": [],
   "source": [
    "\n",
    "# CHUNK 3d — LightGBM\n",
    "# model_name = \"lightgbm\"\n",
    "# model_grid = {'n_estimators':[500], 'learning_rate':[0.05], 'num_leaves':[31],\n",
    "#               'min_data_in_leaf':[5], 'subsample':[0.8], 'colsample_bytree':[0.8],\n",
    "#               'use_gpu':[False], 'random_state':[42]}\n"
   ]
  },
  {
   "cell_type": "markdown",
   "id": "c947ad0f",
   "metadata": {},
   "source": [
    "### TabPFN (Zero/Low-HPO, kann GPU)\n",
    "- HPO: meistens none; evtl. `use_gpu=True`.\n",
    "- FE: starke FS nötig (Top-K 100–300); PCA(post) oft gut.\n",
    "- FS: 100–300."
   ]
  },
  {
   "cell_type": "code",
   "execution_count": null,
   "id": "77307d06",
   "metadata": {},
   "outputs": [],
   "source": [
    "\n",
    "# CHUNK 3e — TabPFN\n",
    "# model_name = \"tabpfn\"\n",
    "# model_grid = {'use_gpu':[False]}\n"
   ]
  },
  {
   "cell_type": "markdown",
   "id": "96c9c62d",
   "metadata": {},
   "source": [
    "### Chronos (Foundational Model, baseline/stack)\n",
    "- Als Modell: ignoriert X, nutzt nur y.\n",
    "- Als Stacking-Feature: precompute und via `fm_pred_path` einbinden.\n",
    "- HPO: `model_id` (tiny/mini/small), `use_gpu`."
   ]
  },
  {
   "cell_type": "code",
   "execution_count": null,
   "id": "c76ae2b2",
   "metadata": {},
   "outputs": [],
   "source": [
    "\n",
    "# CHUNK 3f — Chronos\n",
    "# model_name = \"chronos\"\n",
    "# model_grid = {\"model_id\": [\"amazon/chronos-t5-tiny\"], \"use_gpu\":[False]}\n",
    "# from tsforecast.types import FeatureSelectCfg\n",
    "# fs_cfg = FeatureSelectCfg(mode='auto_topk', topk=0, variance_thresh=0.0)  # ignoriert X\n"
   ]
  },
  {
   "cell_type": "markdown",
   "id": "164dc150",
   "metadata": {},
   "source": [
    "### Baselines (Mean, RW, AR1)\n",
    "- Keine FE/FS nötig. Dienen als Untergrenze.\n",
    "- AR1 mit/ohne Intercept probieren."
   ]
  },
  {
   "cell_type": "code",
   "execution_count": null,
   "id": "746fb59e",
   "metadata": {},
   "outputs": [],
   "source": [
    "\n",
    "# CHUNK 3g — Baselines\n",
    "# model_name = \"mean\";  model_grid = {}\n",
    "# model_name = \"rw\";    model_grid = {}\n",
    "# model_name = \"ar1\";   model_grid = {'fit_intercept':[True]}\n"
   ]
  },
  {
   "cell_type": "code",
   "id": "813bd3db",
   "metadata": {
    "ExecuteTime": {
     "end_time": "2025-09-21T12:33:13.064685Z",
     "start_time": "2025-09-21T12:22:39.566158Z"
    }
   },
   "source": [
    "\n",
    "# CHUNK 4 — Run\n",
    "preds, truths, cfglog = online_rolling_forecast(\n",
    "    X, y,\n",
    "    initial_window=108, step=1, horizon=1,\n",
    "    fs_cfg=fs_cfg, fe_cfg=fe_cfg,\n",
    "    model_name=model_name, model_grid=model_grid, metric_fn=get_metric('rmse'),\n",
    "    progress=True\n",
    ")\n",
    "print(preds.tail())\n",
    "print(truths.tail())\n",
    "cfglog.tail()\n"
   ],
   "outputs": [
    {
     "name": "stdout",
     "output_type": "stream",
     "text": [
      "[init_start] n_hp=4, n_fe=3, expected_evals=6\n",
      "[init_eval] done=1, total=6, hp_idx=1, fe_idx=1, score=0.545171\n"
     ]
    },
    {
     "name": "stderr",
     "output_type": "stream",
     "text": [
      "/Library/Frameworks/Python.framework/Versions/3.12/lib/python3.12/site-packages/sklearn/linear_model/_coordinate_descent.py:697: ConvergenceWarning: Objective did not converge. You might want to increase the number of iterations, check the scale of the features or consider increasing regularisation. Duality gap: 3.995e-01, tolerance: 1.976e-02\n",
      "  model = cd_fast.enet_coordinate_descent(\n"
     ]
    },
    {
     "name": "stdout",
     "output_type": "stream",
     "text": [
      "[init_eval] done=2, total=6, hp_idx=1, fe_idx=2, score=1.935954\n"
     ]
    },
    {
     "name": "stderr",
     "output_type": "stream",
     "text": [
      "/Library/Frameworks/Python.framework/Versions/3.12/lib/python3.12/site-packages/sklearn/linear_model/_coordinate_descent.py:697: ConvergenceWarning: Objective did not converge. You might want to increase the number of iterations, check the scale of the features or consider increasing regularisation. Duality gap: 8.714e-01, tolerance: 1.862e-02\n",
      "  model = cd_fast.enet_coordinate_descent(\n"
     ]
    },
    {
     "name": "stdout",
     "output_type": "stream",
     "text": [
      "[init_eval] done=3, total=6, hp_idx=1, fe_idx=3, score=0.387672\n"
     ]
    },
    {
     "name": "stderr",
     "output_type": "stream",
     "text": [
      "/Library/Frameworks/Python.framework/Versions/3.12/lib/python3.12/site-packages/sklearn/linear_model/_coordinate_descent.py:697: ConvergenceWarning: Objective did not converge. You might want to increase the number of iterations, check the scale of the features or consider increasing regularisation. Duality gap: 2.454e-01, tolerance: 1.976e-02\n",
      "  model = cd_fast.enet_coordinate_descent(\n"
     ]
    },
    {
     "name": "stdout",
     "output_type": "stream",
     "text": [
      "[init_eval] done=4, total=6, hp_idx=2, fe_idx=1, score=0.68022\n",
      "[init_eval] done=5, total=6, hp_idx=3, fe_idx=1, score=0.695929\n",
      "[init_eval] done=6, total=6, hp_idx=4, fe_idx=1, score=0.830895\n",
      "[init_done] best_score=0.387672\n",
      "[step_predict] step=1, of=299, date=2000-02-01\n",
      "[step_search_start] step=1, hp=4, fe=3, expected_evals=6\n"
     ]
    },
    {
     "name": "stderr",
     "output_type": "stream",
     "text": [
      "/Library/Frameworks/Python.framework/Versions/3.12/lib/python3.12/site-packages/sklearn/linear_model/_coordinate_descent.py:697: ConvergenceWarning: Objective did not converge. You might want to increase the number of iterations, check the scale of the features or consider increasing regularisation. Duality gap: 2.427e-01, tolerance: 1.979e-02\n",
      "  model = cd_fast.enet_coordinate_descent(\n"
     ]
    },
    {
     "name": "stdout",
     "output_type": "stream",
     "text": [
      "[step_eval] step=1, done=1, total=6, hp_idx=1, fe_idx=1, score=4.910644\n"
     ]
    },
    {
     "name": "stderr",
     "output_type": "stream",
     "text": [
      "/Library/Frameworks/Python.framework/Versions/3.12/lib/python3.12/site-packages/sklearn/linear_model/_coordinate_descent.py:697: ConvergenceWarning: Objective did not converge. You might want to increase the number of iterations, check the scale of the features or consider increasing regularisation. Duality gap: 3.629e-01, tolerance: 1.979e-02\n",
      "  model = cd_fast.enet_coordinate_descent(\n"
     ]
    },
    {
     "name": "stdout",
     "output_type": "stream",
     "text": [
      "[step_eval] step=1, done=2, total=6, hp_idx=1, fe_idx=2, score=4.783977\n"
     ]
    },
    {
     "name": "stderr",
     "output_type": "stream",
     "text": [
      "/Library/Frameworks/Python.framework/Versions/3.12/lib/python3.12/site-packages/sklearn/linear_model/_coordinate_descent.py:697: ConvergenceWarning: Objective did not converge. You might want to increase the number of iterations, check the scale of the features or consider increasing regularisation. Duality gap: 8.664e-01, tolerance: 1.865e-02\n",
      "  model = cd_fast.enet_coordinate_descent(\n"
     ]
    },
    {
     "name": "stdout",
     "output_type": "stream",
     "text": [
      "[step_eval] step=1, done=3, total=6, hp_idx=1, fe_idx=3, score=2.453842\n",
      "[step_eval] step=1, done=4, total=6, hp_idx=2, fe_idx=1, score=1.354975\n",
      "[step_eval] step=1, done=5, total=6, hp_idx=3, fe_idx=1, score=2.174346\n",
      "[step_eval] step=1, done=6, total=6, hp_idx=4, fe_idx=1, score=1.840489\n"
     ]
    },
    {
     "name": "stderr",
     "output_type": "stream",
     "text": [
      "/Library/Frameworks/Python.framework/Versions/3.12/lib/python3.12/site-packages/sklearn/linear_model/_coordinate_descent.py:697: ConvergenceWarning: Objective did not converge. You might want to increase the number of iterations, check the scale of the features or consider increasing regularisation. Duality gap: 2.427e-01, tolerance: 1.979e-02\n",
      "  model = cd_fast.enet_coordinate_descent(\n"
     ]
    },
    {
     "name": "stdout",
     "output_type": "stream",
     "text": [
      "[step_done] step=1, best_score=1.354975\n",
      "[step_predict] step=2, of=299, date=2000-03-01\n",
      "[step_search_start] step=2, hp=4, fe=3, expected_evals=6\n",
      "[step_eval] step=2, done=1, total=6, hp_idx=1, fe_idx=1, score=0.253773\n"
     ]
    },
    {
     "name": "stderr",
     "output_type": "stream",
     "text": [
      "/Library/Frameworks/Python.framework/Versions/3.12/lib/python3.12/site-packages/sklearn/linear_model/_coordinate_descent.py:697: ConvergenceWarning: Objective did not converge. You might want to increase the number of iterations, check the scale of the features or consider increasing regularisation. Duality gap: 1.109e+00, tolerance: 2.003e-02\n",
      "  model = cd_fast.enet_coordinate_descent(\n"
     ]
    },
    {
     "name": "stdout",
     "output_type": "stream",
     "text": [
      "[step_eval] step=2, done=2, total=6, hp_idx=1, fe_idx=2, score=1.857263\n"
     ]
    },
    {
     "name": "stderr",
     "output_type": "stream",
     "text": [
      "/Library/Frameworks/Python.framework/Versions/3.12/lib/python3.12/site-packages/sklearn/linear_model/_coordinate_descent.py:697: ConvergenceWarning: Objective did not converge. You might want to increase the number of iterations, check the scale of the features or consider increasing regularisation. Duality gap: 9.944e-01, tolerance: 1.889e-02\n",
      "  model = cd_fast.enet_coordinate_descent(\n"
     ]
    },
    {
     "name": "stdout",
     "output_type": "stream",
     "text": [
      "[step_eval] step=2, done=3, total=6, hp_idx=1, fe_idx=3, score=1.281815\n",
      "[step_eval] step=2, done=4, total=6, hp_idx=2, fe_idx=1, score=0.11765\n",
      "[step_eval] step=2, done=5, total=6, hp_idx=3, fe_idx=1, score=0.144378\n"
     ]
    },
    {
     "name": "stderr",
     "output_type": "stream",
     "text": [
      "/Library/Frameworks/Python.framework/Versions/3.12/lib/python3.12/site-packages/sklearn/linear_model/_coordinate_descent.py:697: ConvergenceWarning: Objective did not converge. You might want to increase the number of iterations, check the scale of the features or consider increasing regularisation. Duality gap: 1.963e-01, tolerance: 2.003e-02\n",
      "  model = cd_fast.enet_coordinate_descent(\n"
     ]
    },
    {
     "name": "stdout",
     "output_type": "stream",
     "text": [
      "[step_eval] step=2, done=6, total=6, hp_idx=4, fe_idx=1, score=0.394072\n",
      "[step_done] step=2, best_score=0.11765\n",
      "[step_predict] step=3, of=299, date=2000-04-01\n",
      "[step_search_start] step=3, hp=4, fe=3, expected_evals=6\n",
      "[step_eval] step=3, done=1, total=6, hp_idx=1, fe_idx=1, score=1.961489\n"
     ]
    },
    {
     "name": "stderr",
     "output_type": "stream",
     "text": [
      "/Library/Frameworks/Python.framework/Versions/3.12/lib/python3.12/site-packages/sklearn/linear_model/_coordinate_descent.py:697: ConvergenceWarning: Objective did not converge. You might want to increase the number of iterations, check the scale of the features or consider increasing regularisation. Duality gap: 1.382e+00, tolerance: 2.004e-02\n",
      "  model = cd_fast.enet_coordinate_descent(\n"
     ]
    },
    {
     "name": "stdout",
     "output_type": "stream",
     "text": [
      "[step_eval] step=3, done=2, total=6, hp_idx=1, fe_idx=2, score=0.55173\n"
     ]
    },
    {
     "name": "stderr",
     "output_type": "stream",
     "text": [
      "/Library/Frameworks/Python.framework/Versions/3.12/lib/python3.12/site-packages/sklearn/linear_model/_coordinate_descent.py:697: ConvergenceWarning: Objective did not converge. You might want to increase the number of iterations, check the scale of the features or consider increasing regularisation. Duality gap: 1.074e+00, tolerance: 1.890e-02\n",
      "  model = cd_fast.enet_coordinate_descent(\n"
     ]
    },
    {
     "name": "stdout",
     "output_type": "stream",
     "text": [
      "[step_eval] step=3, done=3, total=6, hp_idx=1, fe_idx=3, score=1.440443\n",
      "[step_eval] step=3, done=4, total=6, hp_idx=2, fe_idx=1, score=0.520409\n",
      "[step_eval] step=3, done=5, total=6, hp_idx=3, fe_idx=1, score=0.216124\n",
      "[step_eval] step=3, done=6, total=6, hp_idx=4, fe_idx=1, score=0.242413\n",
      "[step_done] step=3, best_score=0.216124\n",
      "[step_predict] step=4, of=299, date=2000-05-01\n"
     ]
    },
    {
     "name": "stderr",
     "output_type": "stream",
     "text": [
      "/Library/Frameworks/Python.framework/Versions/3.12/lib/python3.12/site-packages/sklearn/linear_model/_coordinate_descent.py:697: ConvergenceWarning: Objective did not converge. You might want to increase the number of iterations, check the scale of the features or consider increasing regularisation. Duality gap: 4.108e-01, tolerance: 2.004e-02\n",
      "  model = cd_fast.enet_coordinate_descent(\n"
     ]
    },
    {
     "name": "stdout",
     "output_type": "stream",
     "text": [
      "[step_search_start] step=4, hp=4, fe=3, expected_evals=6\n",
      "[step_eval] step=4, done=1, total=6, hp_idx=1, fe_idx=1, score=0.019956\n"
     ]
    },
    {
     "name": "stderr",
     "output_type": "stream",
     "text": [
      "/Library/Frameworks/Python.framework/Versions/3.12/lib/python3.12/site-packages/sklearn/linear_model/_coordinate_descent.py:697: ConvergenceWarning: Objective did not converge. You might want to increase the number of iterations, check the scale of the features or consider increasing regularisation. Duality gap: 1.300e+00, tolerance: 2.008e-02\n",
      "  model = cd_fast.enet_coordinate_descent(\n"
     ]
    },
    {
     "name": "stdout",
     "output_type": "stream",
     "text": [
      "[step_eval] step=4, done=2, total=6, hp_idx=1, fe_idx=2, score=3.195309\n"
     ]
    },
    {
     "name": "stderr",
     "output_type": "stream",
     "text": [
      "/Library/Frameworks/Python.framework/Versions/3.12/lib/python3.12/site-packages/sklearn/linear_model/_coordinate_descent.py:697: ConvergenceWarning: Objective did not converge. You might want to increase the number of iterations, check the scale of the features or consider increasing regularisation. Duality gap: 1.557e+00, tolerance: 1.894e-02\n",
      "  model = cd_fast.enet_coordinate_descent(\n"
     ]
    },
    {
     "name": "stdout",
     "output_type": "stream",
     "text": [
      "[step_eval] step=4, done=3, total=6, hp_idx=1, fe_idx=3, score=3.629673\n"
     ]
    },
    {
     "name": "stderr",
     "output_type": "stream",
     "text": [
      "/Library/Frameworks/Python.framework/Versions/3.12/lib/python3.12/site-packages/sklearn/linear_model/_coordinate_descent.py:697: ConvergenceWarning: Objective did not converge. You might want to increase the number of iterations, check the scale of the features or consider increasing regularisation. Duality gap: 1.138e+00, tolerance: 2.008e-02\n",
      "  model = cd_fast.enet_coordinate_descent(\n"
     ]
    },
    {
     "name": "stdout",
     "output_type": "stream",
     "text": [
      "[step_eval] step=4, done=4, total=6, hp_idx=2, fe_idx=1, score=0.888852\n",
      "[step_eval] step=4, done=5, total=6, hp_idx=3, fe_idx=1, score=2.780979\n",
      "[step_eval] step=4, done=6, total=6, hp_idx=4, fe_idx=1, score=2.806279\n",
      "[step_done] step=4, best_score=0.019956\n",
      "[step_predict] step=5, of=299, date=2000-06-01\n",
      "[step_search_start] step=5, hp=4, fe=3, expected_evals=6\n"
     ]
    },
    {
     "name": "stderr",
     "output_type": "stream",
     "text": [
      "/Library/Frameworks/Python.framework/Versions/3.12/lib/python3.12/site-packages/sklearn/linear_model/_coordinate_descent.py:697: ConvergenceWarning: Objective did not converge. You might want to increase the number of iterations, check the scale of the features or consider increasing regularisation. Duality gap: 6.433e-01, tolerance: 2.080e-02\n",
      "  model = cd_fast.enet_coordinate_descent(\n"
     ]
    },
    {
     "name": "stdout",
     "output_type": "stream",
     "text": [
      "[step_eval] step=5, done=1, total=6, hp_idx=1, fe_idx=1, score=2.2797\n"
     ]
    },
    {
     "name": "stderr",
     "output_type": "stream",
     "text": [
      "/Library/Frameworks/Python.framework/Versions/3.12/lib/python3.12/site-packages/sklearn/linear_model/_coordinate_descent.py:697: ConvergenceWarning: Objective did not converge. You might want to increase the number of iterations, check the scale of the features or consider increasing regularisation. Duality gap: 6.433e-01, tolerance: 2.080e-02\n",
      "  model = cd_fast.enet_coordinate_descent(\n"
     ]
    },
    {
     "name": "stdout",
     "output_type": "stream",
     "text": [
      "[step_eval] step=5, done=2, total=6, hp_idx=1, fe_idx=2, score=3.42683\n"
     ]
    },
    {
     "name": "stderr",
     "output_type": "stream",
     "text": [
      "/Library/Frameworks/Python.framework/Versions/3.12/lib/python3.12/site-packages/sklearn/linear_model/_coordinate_descent.py:697: ConvergenceWarning: Objective did not converge. You might want to increase the number of iterations, check the scale of the features or consider increasing regularisation. Duality gap: 1.502e+00, tolerance: 1.967e-02\n",
      "  model = cd_fast.enet_coordinate_descent(\n"
     ]
    },
    {
     "name": "stdout",
     "output_type": "stream",
     "text": [
      "[step_eval] step=5, done=3, total=6, hp_idx=1, fe_idx=3, score=4.533595\n",
      "[step_eval] step=5, done=4, total=6, hp_idx=2, fe_idx=1, score=1.813965\n",
      "[step_eval] step=5, done=5, total=6, hp_idx=3, fe_idx=1, score=3.049654\n"
     ]
    },
    {
     "name": "stderr",
     "output_type": "stream",
     "text": [
      "/Library/Frameworks/Python.framework/Versions/3.12/lib/python3.12/site-packages/sklearn/linear_model/_coordinate_descent.py:697: ConvergenceWarning: Objective did not converge. You might want to increase the number of iterations, check the scale of the features or consider increasing regularisation. Duality gap: 1.727e+00, tolerance: 2.080e-02\n",
      "  model = cd_fast.enet_coordinate_descent(\n"
     ]
    },
    {
     "name": "stdout",
     "output_type": "stream",
     "text": [
      "[step_eval] step=5, done=6, total=6, hp_idx=4, fe_idx=1, score=2.951637\n",
      "[step_done] step=5, best_score=1.813965\n",
      "[step_predict] step=6, of=299, date=2000-07-01\n",
      "[step_search_start] step=6, hp=4, fe=3, expected_evals=6\n",
      "[step_eval] step=6, done=1, total=6, hp_idx=1, fe_idx=1, score=2.455055\n"
     ]
    },
    {
     "name": "stderr",
     "output_type": "stream",
     "text": [
      "/Library/Frameworks/Python.framework/Versions/3.12/lib/python3.12/site-packages/sklearn/linear_model/_coordinate_descent.py:697: ConvergenceWarning: Objective did not converge. You might want to increase the number of iterations, check the scale of the features or consider increasing regularisation. Duality gap: 7.685e-01, tolerance: 2.175e-02\n",
      "  model = cd_fast.enet_coordinate_descent(\n"
     ]
    },
    {
     "name": "stdout",
     "output_type": "stream",
     "text": [
      "[step_eval] step=6, done=2, total=6, hp_idx=1, fe_idx=2, score=3.517437\n"
     ]
    },
    {
     "name": "stderr",
     "output_type": "stream",
     "text": [
      "/Library/Frameworks/Python.framework/Versions/3.12/lib/python3.12/site-packages/sklearn/linear_model/_coordinate_descent.py:697: ConvergenceWarning: Objective did not converge. You might want to increase the number of iterations, check the scale of the features or consider increasing regularisation. Duality gap: 1.921e+00, tolerance: 2.062e-02\n",
      "  model = cd_fast.enet_coordinate_descent(\n"
     ]
    },
    {
     "name": "stdout",
     "output_type": "stream",
     "text": [
      "[step_eval] step=6, done=3, total=6, hp_idx=1, fe_idx=3, score=3.18456\n"
     ]
    },
    {
     "name": "stderr",
     "output_type": "stream",
     "text": [
      "/Library/Frameworks/Python.framework/Versions/3.12/lib/python3.12/site-packages/sklearn/linear_model/_coordinate_descent.py:697: ConvergenceWarning: Objective did not converge. You might want to increase the number of iterations, check the scale of the features or consider increasing regularisation. Duality gap: 1.207e+00, tolerance: 2.175e-02\n",
      "  model = cd_fast.enet_coordinate_descent(\n"
     ]
    },
    {
     "name": "stdout",
     "output_type": "stream",
     "text": [
      "[step_eval] step=6, done=4, total=6, hp_idx=2, fe_idx=1, score=2.399288\n",
      "[step_eval] step=6, done=5, total=6, hp_idx=3, fe_idx=1, score=2.522155\n",
      "[step_eval] step=6, done=6, total=6, hp_idx=4, fe_idx=1, score=2.364321\n",
      "[step_done] step=6, best_score=2.364321\n",
      "[step_predict] step=7, of=299, date=2000-08-01\n",
      "[step_search_start] step=7, hp=4, fe=3, expected_evals=6\n",
      "[step_eval] step=7, done=1, total=6, hp_idx=1, fe_idx=1, score=0.719398\n"
     ]
    },
    {
     "name": "stderr",
     "output_type": "stream",
     "text": [
      "/Library/Frameworks/Python.framework/Versions/3.12/lib/python3.12/site-packages/sklearn/linear_model/_coordinate_descent.py:697: ConvergenceWarning: Objective did not converge. You might want to increase the number of iterations, check the scale of the features or consider increasing regularisation. Duality gap: 1.263e+00, tolerance: 2.220e-02\n",
      "  model = cd_fast.enet_coordinate_descent(\n"
     ]
    },
    {
     "name": "stdout",
     "output_type": "stream",
     "text": [
      "[step_eval] step=7, done=2, total=6, hp_idx=1, fe_idx=2, score=1.238389\n"
     ]
    },
    {
     "name": "stderr",
     "output_type": "stream",
     "text": [
      "/Library/Frameworks/Python.framework/Versions/3.12/lib/python3.12/site-packages/sklearn/linear_model/_coordinate_descent.py:697: ConvergenceWarning: Objective did not converge. You might want to increase the number of iterations, check the scale of the features or consider increasing regularisation. Duality gap: 2.084e+00, tolerance: 2.106e-02\n",
      "  model = cd_fast.enet_coordinate_descent(\n"
     ]
    },
    {
     "name": "stdout",
     "output_type": "stream",
     "text": [
      "[step_eval] step=7, done=3, total=6, hp_idx=1, fe_idx=3, score=0.383878\n"
     ]
    },
    {
     "name": "stderr",
     "output_type": "stream",
     "text": [
      "/Library/Frameworks/Python.framework/Versions/3.12/lib/python3.12/site-packages/sklearn/linear_model/_coordinate_descent.py:697: ConvergenceWarning: Objective did not converge. You might want to increase the number of iterations, check the scale of the features or consider increasing regularisation. Duality gap: 2.264e+00, tolerance: 2.220e-02\n",
      "  model = cd_fast.enet_coordinate_descent(\n"
     ]
    },
    {
     "name": "stdout",
     "output_type": "stream",
     "text": [
      "[step_eval] step=7, done=4, total=6, hp_idx=2, fe_idx=1, score=0.276441\n",
      "[step_eval] step=7, done=5, total=6, hp_idx=3, fe_idx=1, score=0.223953\n",
      "[step_eval] step=7, done=6, total=6, hp_idx=4, fe_idx=1, score=0.28229\n",
      "[step_done] step=7, best_score=0.223953\n",
      "[step_predict] step=8, of=299, date=2000-09-01\n",
      "[step_search_start] step=8, hp=4, fe=3, expected_evals=6\n",
      "[step_eval] step=8, done=1, total=6, hp_idx=1, fe_idx=1, score=0.837842\n"
     ]
    },
    {
     "name": "stderr",
     "output_type": "stream",
     "text": [
      "/Library/Frameworks/Python.framework/Versions/3.12/lib/python3.12/site-packages/sklearn/linear_model/_coordinate_descent.py:697: ConvergenceWarning: Objective did not converge. You might want to increase the number of iterations, check the scale of the features or consider increasing regularisation. Duality gap: 9.909e-01, tolerance: 2.222e-02\n",
      "  model = cd_fast.enet_coordinate_descent(\n"
     ]
    },
    {
     "name": "stdout",
     "output_type": "stream",
     "text": [
      "[step_eval] step=8, done=2, total=6, hp_idx=1, fe_idx=2, score=0.109327\n"
     ]
    },
    {
     "name": "stderr",
     "output_type": "stream",
     "text": [
      "/Library/Frameworks/Python.framework/Versions/3.12/lib/python3.12/site-packages/sklearn/linear_model/_coordinate_descent.py:697: ConvergenceWarning: Objective did not converge. You might want to increase the number of iterations, check the scale of the features or consider increasing regularisation. Duality gap: 1.879e+00, tolerance: 2.109e-02\n",
      "  model = cd_fast.enet_coordinate_descent(\n"
     ]
    },
    {
     "name": "stdout",
     "output_type": "stream",
     "text": [
      "[step_eval] step=8, done=3, total=6, hp_idx=1, fe_idx=3, score=1.085738\n",
      "[step_eval] step=8, done=4, total=6, hp_idx=2, fe_idx=1, score=0.097256\n"
     ]
    },
    {
     "name": "stderr",
     "output_type": "stream",
     "text": [
      "/Library/Frameworks/Python.framework/Versions/3.12/lib/python3.12/site-packages/sklearn/linear_model/_coordinate_descent.py:697: ConvergenceWarning: Objective did not converge. You might want to increase the number of iterations, check the scale of the features or consider increasing regularisation. Duality gap: 2.536e+00, tolerance: 2.222e-02\n",
      "  model = cd_fast.enet_coordinate_descent(\n"
     ]
    },
    {
     "name": "stdout",
     "output_type": "stream",
     "text": [
      "[step_eval] step=8, done=5, total=6, hp_idx=3, fe_idx=1, score=0.545393\n",
      "[step_eval] step=8, done=6, total=6, hp_idx=4, fe_idx=1, score=0.513156\n",
      "[step_done] step=8, best_score=0.097256\n",
      "[step_predict] step=9, of=299, date=2000-10-01\n",
      "[step_search_start] step=9, hp=4, fe=3, expected_evals=6\n",
      "[step_eval] step=9, done=1, total=6, hp_idx=1, fe_idx=1, score=0.665861\n"
     ]
    },
    {
     "name": "stderr",
     "output_type": "stream",
     "text": [
      "/Library/Frameworks/Python.framework/Versions/3.12/lib/python3.12/site-packages/sklearn/linear_model/_coordinate_descent.py:697: ConvergenceWarning: Objective did not converge. You might want to increase the number of iterations, check the scale of the features or consider increasing regularisation. Duality gap: 1.299e+00, tolerance: 2.222e-02\n",
      "  model = cd_fast.enet_coordinate_descent(\n"
     ]
    },
    {
     "name": "stdout",
     "output_type": "stream",
     "text": [
      "[step_eval] step=9, done=2, total=6, hp_idx=1, fe_idx=2, score=3.443267\n"
     ]
    },
    {
     "name": "stderr",
     "output_type": "stream",
     "text": [
      "/Library/Frameworks/Python.framework/Versions/3.12/lib/python3.12/site-packages/sklearn/linear_model/_coordinate_descent.py:697: ConvergenceWarning: Objective did not converge. You might want to increase the number of iterations, check the scale of the features or consider increasing regularisation. Duality gap: 1.796e+00, tolerance: 2.109e-02\n",
      "  model = cd_fast.enet_coordinate_descent(\n"
     ]
    },
    {
     "name": "stdout",
     "output_type": "stream",
     "text": [
      "[step_eval] step=9, done=3, total=6, hp_idx=1, fe_idx=3, score=1.759629\n",
      "[step_eval] step=9, done=4, total=6, hp_idx=2, fe_idx=1, score=1.017895\n"
     ]
    },
    {
     "name": "stderr",
     "output_type": "stream",
     "text": [
      "/Library/Frameworks/Python.framework/Versions/3.12/lib/python3.12/site-packages/sklearn/linear_model/_coordinate_descent.py:697: ConvergenceWarning: Objective did not converge. You might want to increase the number of iterations, check the scale of the features or consider increasing regularisation. Duality gap: 2.580e+00, tolerance: 2.222e-02\n",
      "  model = cd_fast.enet_coordinate_descent(\n"
     ]
    },
    {
     "name": "stdout",
     "output_type": "stream",
     "text": [
      "[step_eval] step=9, done=5, total=6, hp_idx=3, fe_idx=1, score=1.044777\n",
      "[step_eval] step=9, done=6, total=6, hp_idx=4, fe_idx=1, score=0.735218\n",
      "[step_done] step=9, best_score=0.665861\n",
      "[step_predict] step=10, of=299, date=2000-11-01\n",
      "[step_search_start] step=10, hp=4, fe=3, expected_evals=6\n"
     ]
    },
    {
     "name": "stderr",
     "output_type": "stream",
     "text": [
      "/Library/Frameworks/Python.framework/Versions/3.12/lib/python3.12/site-packages/sklearn/linear_model/_coordinate_descent.py:697: ConvergenceWarning: Objective did not converge. You might want to increase the number of iterations, check the scale of the features or consider increasing regularisation. Duality gap: 1.324e+00, tolerance: 2.226e-02\n",
      "  model = cd_fast.enet_coordinate_descent(\n"
     ]
    },
    {
     "name": "stdout",
     "output_type": "stream",
     "text": [
      "[step_eval] step=10, done=1, total=6, hp_idx=1, fe_idx=1, score=1.776424\n"
     ]
    },
    {
     "name": "stderr",
     "output_type": "stream",
     "text": [
      "/Library/Frameworks/Python.framework/Versions/3.12/lib/python3.12/site-packages/sklearn/linear_model/_coordinate_descent.py:697: ConvergenceWarning: Objective did not converge. You might want to increase the number of iterations, check the scale of the features or consider increasing regularisation. Duality gap: 1.324e+00, tolerance: 2.226e-02\n",
      "  model = cd_fast.enet_coordinate_descent(\n"
     ]
    },
    {
     "name": "stdout",
     "output_type": "stream",
     "text": [
      "[step_eval] step=10, done=2, total=6, hp_idx=1, fe_idx=2, score=1.688418\n"
     ]
    },
    {
     "name": "stderr",
     "output_type": "stream",
     "text": [
      "/Library/Frameworks/Python.framework/Versions/3.12/lib/python3.12/site-packages/sklearn/linear_model/_coordinate_descent.py:697: ConvergenceWarning: Objective did not converge. You might want to increase the number of iterations, check the scale of the features or consider increasing regularisation. Duality gap: 1.654e+00, tolerance: 2.113e-02\n",
      "  model = cd_fast.enet_coordinate_descent(\n"
     ]
    },
    {
     "name": "stdout",
     "output_type": "stream",
     "text": [
      "[step_eval] step=10, done=3, total=6, hp_idx=1, fe_idx=3, score=2.362108\n",
      "[step_eval] step=10, done=4, total=6, hp_idx=2, fe_idx=1, score=1.584666\n"
     ]
    },
    {
     "name": "stderr",
     "output_type": "stream",
     "text": [
      "/Library/Frameworks/Python.framework/Versions/3.12/lib/python3.12/site-packages/sklearn/linear_model/_coordinate_descent.py:697: ConvergenceWarning: Objective did not converge. You might want to increase the number of iterations, check the scale of the features or consider increasing regularisation. Duality gap: 1.888e+00, tolerance: 2.226e-02\n",
      "  model = cd_fast.enet_coordinate_descent(\n"
     ]
    },
    {
     "name": "stdout",
     "output_type": "stream",
     "text": [
      "[step_eval] step=10, done=5, total=6, hp_idx=3, fe_idx=1, score=0.150449\n",
      "[step_eval] step=10, done=6, total=6, hp_idx=4, fe_idx=1, score=0.223576\n",
      "[step_done] step=10, best_score=0.150449\n",
      "[step_predict] step=11, of=299, date=2000-12-01\n",
      "[step_search_start] step=11, hp=4, fe=3, expected_evals=6\n",
      "[step_eval] step=11, done=1, total=6, hp_idx=1, fe_idx=1, score=0.979394\n"
     ]
    },
    {
     "name": "stderr",
     "output_type": "stream",
     "text": [
      "/Library/Frameworks/Python.framework/Versions/3.12/lib/python3.12/site-packages/sklearn/linear_model/_coordinate_descent.py:697: ConvergenceWarning: Objective did not converge. You might want to increase the number of iterations, check the scale of the features or consider increasing regularisation. Duality gap: 1.626e+00, tolerance: 2.228e-02\n",
      "  model = cd_fast.enet_coordinate_descent(\n"
     ]
    },
    {
     "name": "stdout",
     "output_type": "stream",
     "text": [
      "[step_eval] step=11, done=2, total=6, hp_idx=1, fe_idx=2, score=3.716215\n"
     ]
    },
    {
     "name": "stderr",
     "output_type": "stream",
     "text": [
      "/Library/Frameworks/Python.framework/Versions/3.12/lib/python3.12/site-packages/sklearn/linear_model/_coordinate_descent.py:697: ConvergenceWarning: Objective did not converge. You might want to increase the number of iterations, check the scale of the features or consider increasing regularisation. Duality gap: 1.843e+00, tolerance: 2.115e-02\n",
      "  model = cd_fast.enet_coordinate_descent(\n"
     ]
    },
    {
     "name": "stdout",
     "output_type": "stream",
     "text": [
      "[step_eval] step=11, done=3, total=6, hp_idx=1, fe_idx=3, score=3.419648\n"
     ]
    },
    {
     "name": "stderr",
     "output_type": "stream",
     "text": [
      "/Library/Frameworks/Python.framework/Versions/3.12/lib/python3.12/site-packages/sklearn/linear_model/_coordinate_descent.py:697: ConvergenceWarning: Objective did not converge. You might want to increase the number of iterations, check the scale of the features or consider increasing regularisation. Duality gap: 1.511e+00, tolerance: 2.228e-02\n",
      "  model = cd_fast.enet_coordinate_descent(\n"
     ]
    },
    {
     "name": "stdout",
     "output_type": "stream",
     "text": [
      "[step_eval] step=11, done=4, total=6, hp_idx=2, fe_idx=1, score=0.714529\n",
      "[step_eval] step=11, done=5, total=6, hp_idx=3, fe_idx=1, score=0.180835\n",
      "[step_eval] step=11, done=6, total=6, hp_idx=4, fe_idx=1, score=0.069152\n",
      "[step_done] step=11, best_score=0.069152\n",
      "[step_predict] step=12, of=299, date=2001-01-01\n",
      "[step_search_start] step=12, hp=4, fe=3, expected_evals=6\n",
      "[step_eval] step=12, done=1, total=6, hp_idx=1, fe_idx=1, score=0.59967\n"
     ]
    },
    {
     "name": "stderr",
     "output_type": "stream",
     "text": [
      "/Library/Frameworks/Python.framework/Versions/3.12/lib/python3.12/site-packages/sklearn/linear_model/_coordinate_descent.py:697: ConvergenceWarning: Objective did not converge. You might want to increase the number of iterations, check the scale of the features or consider increasing regularisation. Duality gap: 9.729e-01, tolerance: 2.232e-02\n",
      "  model = cd_fast.enet_coordinate_descent(\n"
     ]
    },
    {
     "name": "stdout",
     "output_type": "stream",
     "text": [
      "[step_eval] step=12, done=2, total=6, hp_idx=1, fe_idx=2, score=2.417892\n"
     ]
    },
    {
     "name": "stderr",
     "output_type": "stream",
     "text": [
      "/Library/Frameworks/Python.framework/Versions/3.12/lib/python3.12/site-packages/sklearn/linear_model/_coordinate_descent.py:697: ConvergenceWarning: Objective did not converge. You might want to increase the number of iterations, check the scale of the features or consider increasing regularisation. Duality gap: 1.536e+00, tolerance: 2.119e-02\n",
      "  model = cd_fast.enet_coordinate_descent(\n"
     ]
    },
    {
     "name": "stdout",
     "output_type": "stream",
     "text": [
      "[step_eval] step=12, done=3, total=6, hp_idx=1, fe_idx=3, score=1.143261\n",
      "[step_eval] step=12, done=4, total=6, hp_idx=2, fe_idx=1, score=0.751418\n"
     ]
    },
    {
     "name": "stderr",
     "output_type": "stream",
     "text": [
      "/Library/Frameworks/Python.framework/Versions/3.12/lib/python3.12/site-packages/sklearn/linear_model/_coordinate_descent.py:697: ConvergenceWarning: Objective did not converge. You might want to increase the number of iterations, check the scale of the features or consider increasing regularisation. Duality gap: 1.954e+00, tolerance: 2.232e-02\n",
      "  model = cd_fast.enet_coordinate_descent(\n"
     ]
    },
    {
     "name": "stdout",
     "output_type": "stream",
     "text": [
      "[step_eval] step=12, done=5, total=6, hp_idx=3, fe_idx=1, score=0.338375\n",
      "[step_eval] step=12, done=6, total=6, hp_idx=4, fe_idx=1, score=0.475375\n",
      "[step_done] step=12, best_score=0.338375\n",
      "[step_predict] step=13, of=299, date=2001-02-01\n",
      "[step_search_start] step=13, hp=4, fe=3, expected_evals=6\n",
      "[step_eval] step=13, done=1, total=6, hp_idx=1, fe_idx=1, score=1.625532\n"
     ]
    },
    {
     "name": "stderr",
     "output_type": "stream",
     "text": [
      "/Library/Frameworks/Python.framework/Versions/3.12/lib/python3.12/site-packages/sklearn/linear_model/_coordinate_descent.py:697: ConvergenceWarning: Objective did not converge. You might want to increase the number of iterations, check the scale of the features or consider increasing regularisation. Duality gap: 9.013e-01, tolerance: 2.240e-02\n",
      "  model = cd_fast.enet_coordinate_descent(\n"
     ]
    },
    {
     "name": "stdout",
     "output_type": "stream",
     "text": [
      "[step_eval] step=13, done=2, total=6, hp_idx=1, fe_idx=2, score=0.950278\n"
     ]
    },
    {
     "name": "stderr",
     "output_type": "stream",
     "text": [
      "/Library/Frameworks/Python.framework/Versions/3.12/lib/python3.12/site-packages/sklearn/linear_model/_coordinate_descent.py:697: ConvergenceWarning: Objective did not converge. You might want to increase the number of iterations, check the scale of the features or consider increasing regularisation. Duality gap: 1.228e+00, tolerance: 2.126e-02\n",
      "  model = cd_fast.enet_coordinate_descent(\n"
     ]
    },
    {
     "name": "stdout",
     "output_type": "stream",
     "text": [
      "[step_eval] step=13, done=3, total=6, hp_idx=1, fe_idx=3, score=0.740851\n"
     ]
    },
    {
     "name": "stderr",
     "output_type": "stream",
     "text": [
      "/Library/Frameworks/Python.framework/Versions/3.12/lib/python3.12/site-packages/sklearn/linear_model/_coordinate_descent.py:697: ConvergenceWarning: Objective did not converge. You might want to increase the number of iterations, check the scale of the features or consider increasing regularisation. Duality gap: 1.714e+00, tolerance: 2.240e-02\n",
      "  model = cd_fast.enet_coordinate_descent(\n"
     ]
    },
    {
     "name": "stdout",
     "output_type": "stream",
     "text": [
      "[step_eval] step=13, done=4, total=6, hp_idx=2, fe_idx=1, score=0.13109\n",
      "[step_eval] step=13, done=5, total=6, hp_idx=3, fe_idx=1, score=0.834934\n",
      "[step_eval] step=13, done=6, total=6, hp_idx=4, fe_idx=1, score=1.467492\n",
      "[step_done] step=13, best_score=0.13109\n",
      "[step_predict] step=14, of=299, date=2001-03-01\n"
     ]
    },
    {
     "name": "stderr",
     "output_type": "stream",
     "text": [
      "/Library/Frameworks/Python.framework/Versions/3.12/lib/python3.12/site-packages/sklearn/linear_model/_coordinate_descent.py:697: ConvergenceWarning: Objective did not converge. You might want to increase the number of iterations, check the scale of the features or consider increasing regularisation. Duality gap: 5.727e-02, tolerance: 2.240e-02\n",
      "  model = cd_fast.enet_coordinate_descent(\n"
     ]
    },
    {
     "name": "stdout",
     "output_type": "stream",
     "text": [
      "[step_search_start] step=14, hp=4, fe=3, expected_evals=6\n"
     ]
    },
    {
     "name": "stderr",
     "output_type": "stream",
     "text": [
      "/Library/Frameworks/Python.framework/Versions/3.12/lib/python3.12/site-packages/sklearn/linear_model/_coordinate_descent.py:697: ConvergenceWarning: Objective did not converge. You might want to increase the number of iterations, check the scale of the features or consider increasing regularisation. Duality gap: 4.033e-02, tolerance: 2.272e-02\n",
      "  model = cd_fast.enet_coordinate_descent(\n"
     ]
    },
    {
     "name": "stdout",
     "output_type": "stream",
     "text": [
      "[step_eval] step=14, done=1, total=6, hp_idx=1, fe_idx=1, score=3.138644\n"
     ]
    },
    {
     "name": "stderr",
     "output_type": "stream",
     "text": [
      "/Library/Frameworks/Python.framework/Versions/3.12/lib/python3.12/site-packages/sklearn/linear_model/_coordinate_descent.py:697: ConvergenceWarning: Objective did not converge. You might want to increase the number of iterations, check the scale of the features or consider increasing regularisation. Duality gap: 2.813e+00, tolerance: 2.272e-02\n",
      "  model = cd_fast.enet_coordinate_descent(\n"
     ]
    },
    {
     "name": "stdout",
     "output_type": "stream",
     "text": [
      "[step_eval] step=14, done=2, total=6, hp_idx=1, fe_idx=2, score=5.467224\n"
     ]
    },
    {
     "name": "stderr",
     "output_type": "stream",
     "text": [
      "/Library/Frameworks/Python.framework/Versions/3.12/lib/python3.12/site-packages/sklearn/linear_model/_coordinate_descent.py:697: ConvergenceWarning: Objective did not converge. You might want to increase the number of iterations, check the scale of the features or consider increasing regularisation. Duality gap: 1.354e+00, tolerance: 2.159e-02\n",
      "  model = cd_fast.enet_coordinate_descent(\n"
     ]
    },
    {
     "name": "stdout",
     "output_type": "stream",
     "text": [
      "[step_eval] step=14, done=3, total=6, hp_idx=1, fe_idx=3, score=2.63803\n"
     ]
    },
    {
     "name": "stderr",
     "output_type": "stream",
     "text": [
      "/Library/Frameworks/Python.framework/Versions/3.12/lib/python3.12/site-packages/sklearn/linear_model/_coordinate_descent.py:697: ConvergenceWarning: Objective did not converge. You might want to increase the number of iterations, check the scale of the features or consider increasing regularisation. Duality gap: 7.711e-01, tolerance: 2.272e-02\n",
      "  model = cd_fast.enet_coordinate_descent(\n"
     ]
    },
    {
     "name": "stdout",
     "output_type": "stream",
     "text": [
      "[step_eval] step=14, done=4, total=6, hp_idx=2, fe_idx=1, score=3.314228\n",
      "[step_eval] step=14, done=5, total=6, hp_idx=3, fe_idx=1, score=3.698732\n",
      "[step_eval] step=14, done=6, total=6, hp_idx=4, fe_idx=1, score=3.180671\n",
      "[step_done] step=14, best_score=2.63803\n",
      "[step_predict] step=15, of=299, date=2001-04-01\n"
     ]
    },
    {
     "name": "stderr",
     "output_type": "stream",
     "text": [
      "/Library/Frameworks/Python.framework/Versions/3.12/lib/python3.12/site-packages/sklearn/linear_model/_coordinate_descent.py:697: ConvergenceWarning: Objective did not converge. You might want to increase the number of iterations, check the scale of the features or consider increasing regularisation. Duality gap: 4.033e-02, tolerance: 2.272e-02\n",
      "  model = cd_fast.enet_coordinate_descent(\n"
     ]
    },
    {
     "name": "stdout",
     "output_type": "stream",
     "text": [
      "[step_search_start] step=15, hp=4, fe=3, expected_evals=6\n"
     ]
    },
    {
     "name": "stderr",
     "output_type": "stream",
     "text": [
      "/Library/Frameworks/Python.framework/Versions/3.12/lib/python3.12/site-packages/sklearn/linear_model/_coordinate_descent.py:697: ConvergenceWarning: Objective did not converge. You might want to increase the number of iterations, check the scale of the features or consider increasing regularisation. Duality gap: 2.500e+00, tolerance: 2.323e-02\n",
      "  model = cd_fast.enet_coordinate_descent(\n"
     ]
    },
    {
     "name": "stdout",
     "output_type": "stream",
     "text": [
      "[step_eval] step=15, done=1, total=6, hp_idx=1, fe_idx=1, score=3.446741\n"
     ]
    },
    {
     "name": "stderr",
     "output_type": "stream",
     "text": [
      "/Library/Frameworks/Python.framework/Versions/3.12/lib/python3.12/site-packages/sklearn/linear_model/_coordinate_descent.py:697: ConvergenceWarning: Objective did not converge. You might want to increase the number of iterations, check the scale of the features or consider increasing regularisation. Duality gap: 1.023e+00, tolerance: 2.323e-02\n",
      "  model = cd_fast.enet_coordinate_descent(\n"
     ]
    },
    {
     "name": "stdout",
     "output_type": "stream",
     "text": [
      "[step_eval] step=15, done=2, total=6, hp_idx=1, fe_idx=2, score=1.10637\n"
     ]
    },
    {
     "name": "stderr",
     "output_type": "stream",
     "text": [
      "/Library/Frameworks/Python.framework/Versions/3.12/lib/python3.12/site-packages/sklearn/linear_model/_coordinate_descent.py:697: ConvergenceWarning: Objective did not converge. You might want to increase the number of iterations, check the scale of the features or consider increasing regularisation. Duality gap: 1.715e+00, tolerance: 2.209e-02\n",
      "  model = cd_fast.enet_coordinate_descent(\n"
     ]
    },
    {
     "name": "stdout",
     "output_type": "stream",
     "text": [
      "[step_eval] step=15, done=3, total=6, hp_idx=1, fe_idx=3, score=1.472623\n"
     ]
    },
    {
     "name": "stderr",
     "output_type": "stream",
     "text": [
      "/Library/Frameworks/Python.framework/Versions/3.12/lib/python3.12/site-packages/sklearn/linear_model/_coordinate_descent.py:697: ConvergenceWarning: Objective did not converge. You might want to increase the number of iterations, check the scale of the features or consider increasing regularisation. Duality gap: 2.500e+00, tolerance: 2.323e-02\n",
      "  model = cd_fast.enet_coordinate_descent(\n"
     ]
    },
    {
     "name": "stdout",
     "output_type": "stream",
     "text": [
      "[step_eval] step=15, done=4, total=6, hp_idx=2, fe_idx=1, score=0.551001\n",
      "[step_eval] step=15, done=5, total=6, hp_idx=3, fe_idx=1, score=0.640731\n",
      "[step_eval] step=15, done=6, total=6, hp_idx=4, fe_idx=1, score=1.051905\n",
      "[step_done] step=15, best_score=0.551001\n",
      "[step_predict] step=16, of=299, date=2001-05-01\n",
      "[step_search_start] step=16, hp=4, fe=3, expected_evals=6\n",
      "[step_eval] step=16, done=1, total=6, hp_idx=1, fe_idx=1, score=3.966765\n"
     ]
    },
    {
     "name": "stderr",
     "output_type": "stream",
     "text": [
      "/Library/Frameworks/Python.framework/Versions/3.12/lib/python3.12/site-packages/sklearn/linear_model/_coordinate_descent.py:697: ConvergenceWarning: Objective did not converge. You might want to increase the number of iterations, check the scale of the features or consider increasing regularisation. Duality gap: 2.201e+00, tolerance: 2.352e-02\n",
      "  model = cd_fast.enet_coordinate_descent(\n"
     ]
    },
    {
     "name": "stdout",
     "output_type": "stream",
     "text": [
      "[step_eval] step=16, done=2, total=6, hp_idx=1, fe_idx=2, score=3.91095\n"
     ]
    },
    {
     "name": "stderr",
     "output_type": "stream",
     "text": [
      "/Library/Frameworks/Python.framework/Versions/3.12/lib/python3.12/site-packages/sklearn/linear_model/_coordinate_descent.py:697: ConvergenceWarning: Objective did not converge. You might want to increase the number of iterations, check the scale of the features or consider increasing regularisation. Duality gap: 2.216e+00, tolerance: 2.238e-02\n",
      "  model = cd_fast.enet_coordinate_descent(\n"
     ]
    },
    {
     "name": "stdout",
     "output_type": "stream",
     "text": [
      "[step_eval] step=16, done=3, total=6, hp_idx=1, fe_idx=3, score=1.399829\n"
     ]
    },
    {
     "name": "stderr",
     "output_type": "stream",
     "text": [
      "/Library/Frameworks/Python.framework/Versions/3.12/lib/python3.12/site-packages/sklearn/linear_model/_coordinate_descent.py:697: ConvergenceWarning: Objective did not converge. You might want to increase the number of iterations, check the scale of the features or consider increasing regularisation. Duality gap: 3.390e+00, tolerance: 2.352e-02\n",
      "  model = cd_fast.enet_coordinate_descent(\n"
     ]
    },
    {
     "name": "stdout",
     "output_type": "stream",
     "text": [
      "[step_eval] step=16, done=4, total=6, hp_idx=2, fe_idx=1, score=1.412912\n",
      "[step_eval] step=16, done=5, total=6, hp_idx=3, fe_idx=1, score=1.297231\n",
      "[step_eval] step=16, done=6, total=6, hp_idx=4, fe_idx=1, score=1.493094\n",
      "[step_done] step=16, best_score=1.297231\n",
      "[step_predict] step=17, of=299, date=2001-06-01\n",
      "[step_search_start] step=17, hp=4, fe=3, expected_evals=6\n"
     ]
    },
    {
     "name": "stderr",
     "output_type": "stream",
     "text": [
      "/Library/Frameworks/Python.framework/Versions/3.12/lib/python3.12/site-packages/sklearn/linear_model/_coordinate_descent.py:697: ConvergenceWarning: Objective did not converge. You might want to increase the number of iterations, check the scale of the features or consider increasing regularisation. Duality gap: 1.298e-01, tolerance: 2.352e-02\n",
      "  model = cd_fast.enet_coordinate_descent(\n"
     ]
    },
    {
     "name": "stdout",
     "output_type": "stream",
     "text": [
      "[step_eval] step=17, done=1, total=6, hp_idx=1, fe_idx=1, score=2.554088\n"
     ]
    },
    {
     "name": "stderr",
     "output_type": "stream",
     "text": [
      "/Library/Frameworks/Python.framework/Versions/3.12/lib/python3.12/site-packages/sklearn/linear_model/_coordinate_descent.py:697: ConvergenceWarning: Objective did not converge. You might want to increase the number of iterations, check the scale of the features or consider increasing regularisation. Duality gap: 2.478e+00, tolerance: 2.378e-02\n",
      "  model = cd_fast.enet_coordinate_descent(\n"
     ]
    },
    {
     "name": "stdout",
     "output_type": "stream",
     "text": [
      "[step_eval] step=17, done=2, total=6, hp_idx=1, fe_idx=2, score=0.299775\n"
     ]
    },
    {
     "name": "stderr",
     "output_type": "stream",
     "text": [
      "/Library/Frameworks/Python.framework/Versions/3.12/lib/python3.12/site-packages/sklearn/linear_model/_coordinate_descent.py:697: ConvergenceWarning: Objective did not converge. You might want to increase the number of iterations, check the scale of the features or consider increasing regularisation. Duality gap: 2.027e+00, tolerance: 2.264e-02\n",
      "  model = cd_fast.enet_coordinate_descent(\n"
     ]
    },
    {
     "name": "stdout",
     "output_type": "stream",
     "text": [
      "[step_eval] step=17, done=3, total=6, hp_idx=1, fe_idx=3, score=0.391535\n"
     ]
    },
    {
     "name": "stderr",
     "output_type": "stream",
     "text": [
      "/Library/Frameworks/Python.framework/Versions/3.12/lib/python3.12/site-packages/sklearn/linear_model/_coordinate_descent.py:697: ConvergenceWarning: Objective did not converge. You might want to increase the number of iterations, check the scale of the features or consider increasing regularisation. Duality gap: 3.872e+00, tolerance: 2.378e-02\n",
      "  model = cd_fast.enet_coordinate_descent(\n"
     ]
    },
    {
     "name": "stdout",
     "output_type": "stream",
     "text": [
      "[step_eval] step=17, done=4, total=6, hp_idx=2, fe_idx=1, score=0.434628\n",
      "[step_eval] step=17, done=5, total=6, hp_idx=3, fe_idx=1, score=0.331972\n",
      "[step_eval] step=17, done=6, total=6, hp_idx=4, fe_idx=1, score=0.447599\n",
      "[step_done] step=17, best_score=0.299775\n",
      "[step_predict] step=18, of=299, date=2001-07-01\n"
     ]
    },
    {
     "name": "stderr",
     "output_type": "stream",
     "text": [
      "/Library/Frameworks/Python.framework/Versions/3.12/lib/python3.12/site-packages/sklearn/linear_model/_coordinate_descent.py:697: ConvergenceWarning: Objective did not converge. You might want to increase the number of iterations, check the scale of the features or consider increasing regularisation. Duality gap: 1.087e-01, tolerance: 2.264e-02\n",
      "  model = cd_fast.enet_coordinate_descent(\n"
     ]
    },
    {
     "name": "stdout",
     "output_type": "stream",
     "text": [
      "[step_search_start] step=18, hp=4, fe=3, expected_evals=6\n"
     ]
    },
    {
     "name": "stderr",
     "output_type": "stream",
     "text": [
      "/Library/Frameworks/Python.framework/Versions/3.12/lib/python3.12/site-packages/sklearn/linear_model/_coordinate_descent.py:697: ConvergenceWarning: Objective did not converge. You might want to increase the number of iterations, check the scale of the features or consider increasing regularisation. Duality gap: 1.725e+00, tolerance: 2.264e-02\n",
      "  model = cd_fast.enet_coordinate_descent(\n"
     ]
    },
    {
     "name": "stdout",
     "output_type": "stream",
     "text": [
      "[step_eval] step=18, done=1, total=6, hp_idx=1, fe_idx=1, score=0.107855\n"
     ]
    },
    {
     "name": "stderr",
     "output_type": "stream",
     "text": [
      "/Library/Frameworks/Python.framework/Versions/3.12/lib/python3.12/site-packages/sklearn/linear_model/_coordinate_descent.py:697: ConvergenceWarning: Objective did not converge. You might want to increase the number of iterations, check the scale of the features or consider increasing regularisation. Duality gap: 2.196e+00, tolerance: 2.378e-02\n",
      "  model = cd_fast.enet_coordinate_descent(\n"
     ]
    },
    {
     "name": "stdout",
     "output_type": "stream",
     "text": [
      "[step_eval] step=18, done=2, total=6, hp_idx=1, fe_idx=2, score=5.26755\n"
     ]
    },
    {
     "name": "stderr",
     "output_type": "stream",
     "text": [
      "/Library/Frameworks/Python.framework/Versions/3.12/lib/python3.12/site-packages/sklearn/linear_model/_coordinate_descent.py:697: ConvergenceWarning: Objective did not converge. You might want to increase the number of iterations, check the scale of the features or consider increasing regularisation. Duality gap: 1.725e+00, tolerance: 2.264e-02\n",
      "  model = cd_fast.enet_coordinate_descent(\n"
     ]
    },
    {
     "name": "stdout",
     "output_type": "stream",
     "text": [
      "[step_eval] step=18, done=3, total=6, hp_idx=1, fe_idx=3, score=1.434662\n"
     ]
    },
    {
     "name": "stderr",
     "output_type": "stream",
     "text": [
      "/Library/Frameworks/Python.framework/Versions/3.12/lib/python3.12/site-packages/sklearn/linear_model/_coordinate_descent.py:697: ConvergenceWarning: Objective did not converge. You might want to increase the number of iterations, check the scale of the features or consider increasing regularisation. Duality gap: 3.592e+00, tolerance: 2.378e-02\n",
      "  model = cd_fast.enet_coordinate_descent(\n"
     ]
    },
    {
     "name": "stdout",
     "output_type": "stream",
     "text": [
      "[step_eval] step=18, done=4, total=6, hp_idx=2, fe_idx=1, score=0.334428\n",
      "[step_eval] step=18, done=5, total=6, hp_idx=3, fe_idx=1, score=1.874875\n",
      "[step_eval] step=18, done=6, total=6, hp_idx=4, fe_idx=1, score=2.497924\n",
      "[step_done] step=18, best_score=0.107855\n",
      "[step_predict] step=19, of=299, date=2001-08-01\n"
     ]
    },
    {
     "name": "stderr",
     "output_type": "stream",
     "text": [
      "/Library/Frameworks/Python.framework/Versions/3.12/lib/python3.12/site-packages/sklearn/linear_model/_coordinate_descent.py:697: ConvergenceWarning: Objective did not converge. You might want to increase the number of iterations, check the scale of the features or consider increasing regularisation. Duality gap: 6.065e-02, tolerance: 2.378e-02\n",
      "  model = cd_fast.enet_coordinate_descent(\n"
     ]
    },
    {
     "name": "stdout",
     "output_type": "stream",
     "text": [
      "[step_search_start] step=19, hp=4, fe=3, expected_evals=6\n"
     ]
    },
    {
     "name": "stderr",
     "output_type": "stream",
     "text": [
      "/Library/Frameworks/Python.framework/Versions/3.12/lib/python3.12/site-packages/sklearn/linear_model/_coordinate_descent.py:697: ConvergenceWarning: Objective did not converge. You might want to increase the number of iterations, check the scale of the features or consider increasing regularisation. Duality gap: 2.323e+00, tolerance: 2.441e-02\n",
      "  model = cd_fast.enet_coordinate_descent(\n"
     ]
    },
    {
     "name": "stdout",
     "output_type": "stream",
     "text": [
      "[step_eval] step=19, done=1, total=6, hp_idx=1, fe_idx=1, score=5.925266\n"
     ]
    },
    {
     "name": "stderr",
     "output_type": "stream",
     "text": [
      "/Library/Frameworks/Python.framework/Versions/3.12/lib/python3.12/site-packages/sklearn/linear_model/_coordinate_descent.py:697: ConvergenceWarning: Objective did not converge. You might want to increase the number of iterations, check the scale of the features or consider increasing regularisation. Duality gap: 2.323e+00, tolerance: 2.441e-02\n",
      "  model = cd_fast.enet_coordinate_descent(\n"
     ]
    },
    {
     "name": "stdout",
     "output_type": "stream",
     "text": [
      "[step_eval] step=19, done=2, total=6, hp_idx=1, fe_idx=2, score=2.26173\n"
     ]
    },
    {
     "name": "stderr",
     "output_type": "stream",
     "text": [
      "/Library/Frameworks/Python.framework/Versions/3.12/lib/python3.12/site-packages/sklearn/linear_model/_coordinate_descent.py:697: ConvergenceWarning: Objective did not converge. You might want to increase the number of iterations, check the scale of the features or consider increasing regularisation. Duality gap: 1.682e+00, tolerance: 2.327e-02\n",
      "  model = cd_fast.enet_coordinate_descent(\n"
     ]
    },
    {
     "name": "stdout",
     "output_type": "stream",
     "text": [
      "[step_eval] step=19, done=3, total=6, hp_idx=1, fe_idx=3, score=5.259968\n"
     ]
    },
    {
     "name": "stderr",
     "output_type": "stream",
     "text": [
      "/Library/Frameworks/Python.framework/Versions/3.12/lib/python3.12/site-packages/sklearn/linear_model/_coordinate_descent.py:697: ConvergenceWarning: Objective did not converge. You might want to increase the number of iterations, check the scale of the features or consider increasing regularisation. Duality gap: 3.523e+00, tolerance: 2.441e-02\n",
      "  model = cd_fast.enet_coordinate_descent(\n"
     ]
    },
    {
     "name": "stdout",
     "output_type": "stream",
     "text": [
      "[step_eval] step=19, done=4, total=6, hp_idx=2, fe_idx=1, score=2.611891\n",
      "[step_eval] step=19, done=5, total=6, hp_idx=3, fe_idx=1, score=2.465889\n",
      "[step_eval] step=19, done=6, total=6, hp_idx=4, fe_idx=1, score=2.485718\n",
      "[step_done] step=19, best_score=2.26173\n",
      "[step_predict] step=20, of=299, date=2001-09-01\n",
      "[step_search_start] step=20, hp=4, fe=3, expected_evals=6\n"
     ]
    },
    {
     "name": "stderr",
     "output_type": "stream",
     "text": [
      "/Library/Frameworks/Python.framework/Versions/3.12/lib/python3.12/site-packages/sklearn/linear_model/_coordinate_descent.py:697: ConvergenceWarning: Objective did not converge. You might want to increase the number of iterations, check the scale of the features or consider increasing regularisation. Duality gap: 2.810e+00, tolerance: 2.389e-02\n",
      "  model = cd_fast.enet_coordinate_descent(\n"
     ]
    },
    {
     "name": "stdout",
     "output_type": "stream",
     "text": [
      "[step_eval] step=20, done=1, total=6, hp_idx=1, fe_idx=1, score=5.02148\n"
     ]
    },
    {
     "name": "stderr",
     "output_type": "stream",
     "text": [
      "/Library/Frameworks/Python.framework/Versions/3.12/lib/python3.12/site-packages/sklearn/linear_model/_coordinate_descent.py:697: ConvergenceWarning: Objective did not converge. You might want to increase the number of iterations, check the scale of the features or consider increasing regularisation. Duality gap: 1.258e+00, tolerance: 2.503e-02\n",
      "  model = cd_fast.enet_coordinate_descent(\n"
     ]
    },
    {
     "name": "stdout",
     "output_type": "stream",
     "text": [
      "[step_eval] step=20, done=2, total=6, hp_idx=1, fe_idx=2, score=6.630119\n"
     ]
    },
    {
     "name": "stderr",
     "output_type": "stream",
     "text": [
      "/Library/Frameworks/Python.framework/Versions/3.12/lib/python3.12/site-packages/sklearn/linear_model/_coordinate_descent.py:697: ConvergenceWarning: Objective did not converge. You might want to increase the number of iterations, check the scale of the features or consider increasing regularisation. Duality gap: 2.810e+00, tolerance: 2.389e-02\n",
      "  model = cd_fast.enet_coordinate_descent(\n"
     ]
    },
    {
     "name": "stdout",
     "output_type": "stream",
     "text": [
      "[step_eval] step=20, done=3, total=6, hp_idx=1, fe_idx=3, score=3.897612\n"
     ]
    },
    {
     "name": "stderr",
     "output_type": "stream",
     "text": [
      "/Library/Frameworks/Python.framework/Versions/3.12/lib/python3.12/site-packages/sklearn/linear_model/_coordinate_descent.py:697: ConvergenceWarning: Objective did not converge. You might want to increase the number of iterations, check the scale of the features or consider increasing regularisation. Duality gap: 4.791e+00, tolerance: 2.503e-02\n",
      "  model = cd_fast.enet_coordinate_descent(\n"
     ]
    },
    {
     "name": "stdout",
     "output_type": "stream",
     "text": [
      "[step_eval] step=20, done=4, total=6, hp_idx=2, fe_idx=1, score=4.217284\n",
      "[step_eval] step=20, done=5, total=6, hp_idx=3, fe_idx=1, score=2.380992\n",
      "[step_eval] step=20, done=6, total=6, hp_idx=4, fe_idx=1, score=1.419425\n",
      "[step_done] step=20, best_score=1.419425\n",
      "[step_predict] step=21, of=299, date=2001-10-01\n",
      "[step_search_start] step=21, hp=4, fe=3, expected_evals=6\n"
     ]
    },
    {
     "name": "stderr",
     "output_type": "stream",
     "text": [
      "/Library/Frameworks/Python.framework/Versions/3.12/lib/python3.12/site-packages/sklearn/linear_model/_coordinate_descent.py:697: ConvergenceWarning: Objective did not converge. You might want to increase the number of iterations, check the scale of the features or consider increasing regularisation. Duality gap: 3.855e-01, tolerance: 2.503e-02\n",
      "  model = cd_fast.enet_coordinate_descent(\n"
     ]
    },
    {
     "name": "stdout",
     "output_type": "stream",
     "text": [
      "[step_eval] step=21, done=1, total=6, hp_idx=1, fe_idx=1, score=0.368397\n"
     ]
    },
    {
     "name": "stderr",
     "output_type": "stream",
     "text": [
      "/Library/Frameworks/Python.framework/Versions/3.12/lib/python3.12/site-packages/sklearn/linear_model/_coordinate_descent.py:697: ConvergenceWarning: Objective did not converge. You might want to increase the number of iterations, check the scale of the features or consider increasing regularisation. Duality gap: 1.111e+00, tolerance: 2.515e-02\n",
      "  model = cd_fast.enet_coordinate_descent(\n"
     ]
    },
    {
     "name": "stdout",
     "output_type": "stream",
     "text": [
      "[step_eval] step=21, done=2, total=6, hp_idx=1, fe_idx=2, score=0.331153\n"
     ]
    },
    {
     "name": "stderr",
     "output_type": "stream",
     "text": [
      "/Library/Frameworks/Python.framework/Versions/3.12/lib/python3.12/site-packages/sklearn/linear_model/_coordinate_descent.py:697: ConvergenceWarning: Objective did not converge. You might want to increase the number of iterations, check the scale of the features or consider increasing regularisation. Duality gap: 3.733e+00, tolerance: 2.401e-02\n",
      "  model = cd_fast.enet_coordinate_descent(\n"
     ]
    },
    {
     "name": "stdout",
     "output_type": "stream",
     "text": [
      "[step_eval] step=21, done=3, total=6, hp_idx=1, fe_idx=3, score=0.938685\n"
     ]
    },
    {
     "name": "stderr",
     "output_type": "stream",
     "text": [
      "/Library/Frameworks/Python.framework/Versions/3.12/lib/python3.12/site-packages/sklearn/linear_model/_coordinate_descent.py:697: ConvergenceWarning: Objective did not converge. You might want to increase the number of iterations, check the scale of the features or consider increasing regularisation. Duality gap: 4.209e+00, tolerance: 2.515e-02\n",
      "  model = cd_fast.enet_coordinate_descent(\n"
     ]
    },
    {
     "name": "stdout",
     "output_type": "stream",
     "text": [
      "[step_eval] step=21, done=4, total=6, hp_idx=2, fe_idx=1, score=0.165558\n",
      "[step_eval] step=21, done=5, total=6, hp_idx=3, fe_idx=1, score=1.347722\n",
      "[step_eval] step=21, done=6, total=6, hp_idx=4, fe_idx=1, score=1.696116\n",
      "[step_done] step=21, best_score=0.165558\n",
      "[step_predict] step=22, of=299, date=2001-11-01\n",
      "[step_search_start] step=22, hp=4, fe=3, expected_evals=6\n",
      "[step_eval] step=22, done=1, total=6, hp_idx=1, fe_idx=1, score=0.388204\n"
     ]
    },
    {
     "name": "stderr",
     "output_type": "stream",
     "text": [
      "/Library/Frameworks/Python.framework/Versions/3.12/lib/python3.12/site-packages/sklearn/linear_model/_coordinate_descent.py:697: ConvergenceWarning: Objective did not converge. You might want to increase the number of iterations, check the scale of the features or consider increasing regularisation. Duality gap: 5.806e-01, tolerance: 2.548e-02\n",
      "  model = cd_fast.enet_coordinate_descent(\n"
     ]
    },
    {
     "name": "stdout",
     "output_type": "stream",
     "text": [
      "[step_eval] step=22, done=2, total=6, hp_idx=1, fe_idx=2, score=3.463632\n"
     ]
    },
    {
     "name": "stderr",
     "output_type": "stream",
     "text": [
      "/Library/Frameworks/Python.framework/Versions/3.12/lib/python3.12/site-packages/sklearn/linear_model/_coordinate_descent.py:697: ConvergenceWarning: Objective did not converge. You might want to increase the number of iterations, check the scale of the features or consider increasing regularisation. Duality gap: 3.541e+00, tolerance: 2.434e-02\n",
      "  model = cd_fast.enet_coordinate_descent(\n"
     ]
    },
    {
     "name": "stdout",
     "output_type": "stream",
     "text": [
      "[step_eval] step=22, done=3, total=6, hp_idx=1, fe_idx=3, score=1.296483\n",
      "[step_eval] step=22, done=4, total=6, hp_idx=2, fe_idx=1, score=0.816878\n"
     ]
    },
    {
     "name": "stderr",
     "output_type": "stream",
     "text": [
      "/Library/Frameworks/Python.framework/Versions/3.12/lib/python3.12/site-packages/sklearn/linear_model/_coordinate_descent.py:697: ConvergenceWarning: Objective did not converge. You might want to increase the number of iterations, check the scale of the features or consider increasing regularisation. Duality gap: 3.105e+00, tolerance: 2.548e-02\n",
      "  model = cd_fast.enet_coordinate_descent(\n"
     ]
    },
    {
     "name": "stdout",
     "output_type": "stream",
     "text": [
      "[step_eval] step=22, done=5, total=6, hp_idx=3, fe_idx=1, score=1.230973\n",
      "[step_eval] step=22, done=6, total=6, hp_idx=4, fe_idx=1, score=1.131227\n",
      "[step_done] step=22, best_score=0.388204\n",
      "[step_predict] step=23, of=299, date=2001-12-01\n",
      "[step_search_start] step=23, hp=4, fe=3, expected_evals=6\n"
     ]
    },
    {
     "name": "stderr",
     "output_type": "stream",
     "text": [
      "/Library/Frameworks/Python.framework/Versions/3.12/lib/python3.12/site-packages/sklearn/linear_model/_coordinate_descent.py:697: ConvergenceWarning: Objective did not converge. You might want to increase the number of iterations, check the scale of the features or consider increasing regularisation. Duality gap: 8.478e-01, tolerance: 2.556e-02\n",
      "  model = cd_fast.enet_coordinate_descent(\n"
     ]
    },
    {
     "name": "stdout",
     "output_type": "stream",
     "text": [
      "[step_eval] step=23, done=1, total=6, hp_idx=1, fe_idx=1, score=3.66267\n"
     ]
    },
    {
     "name": "stderr",
     "output_type": "stream",
     "text": [
      "/Library/Frameworks/Python.framework/Versions/3.12/lib/python3.12/site-packages/sklearn/linear_model/_coordinate_descent.py:697: ConvergenceWarning: Objective did not converge. You might want to increase the number of iterations, check the scale of the features or consider increasing regularisation. Duality gap: 8.478e-01, tolerance: 2.556e-02\n",
      "  model = cd_fast.enet_coordinate_descent(\n"
     ]
    },
    {
     "name": "stdout",
     "output_type": "stream",
     "text": [
      "[step_eval] step=23, done=2, total=6, hp_idx=1, fe_idx=2, score=2.055574\n"
     ]
    },
    {
     "name": "stderr",
     "output_type": "stream",
     "text": [
      "/Library/Frameworks/Python.framework/Versions/3.12/lib/python3.12/site-packages/sklearn/linear_model/_coordinate_descent.py:697: ConvergenceWarning: Objective did not converge. You might want to increase the number of iterations, check the scale of the features or consider increasing regularisation. Duality gap: 2.615e+00, tolerance: 2.442e-02\n",
      "  model = cd_fast.enet_coordinate_descent(\n"
     ]
    },
    {
     "name": "stdout",
     "output_type": "stream",
     "text": [
      "[step_eval] step=23, done=3, total=6, hp_idx=1, fe_idx=3, score=0.770523\n"
     ]
    },
    {
     "name": "stderr",
     "output_type": "stream",
     "text": [
      "/Library/Frameworks/Python.framework/Versions/3.12/lib/python3.12/site-packages/sklearn/linear_model/_coordinate_descent.py:697: ConvergenceWarning: Objective did not converge. You might want to increase the number of iterations, check the scale of the features or consider increasing regularisation. Duality gap: 1.865e+00, tolerance: 2.556e-02\n",
      "  model = cd_fast.enet_coordinate_descent(\n"
     ]
    },
    {
     "name": "stdout",
     "output_type": "stream",
     "text": [
      "[step_eval] step=23, done=4, total=6, hp_idx=2, fe_idx=1, score=1.1848\n",
      "[step_eval] step=23, done=5, total=6, hp_idx=3, fe_idx=1, score=0.379027\n",
      "[step_eval] step=23, done=6, total=6, hp_idx=4, fe_idx=1, score=0.665521\n",
      "[step_done] step=23, best_score=0.379027\n",
      "[step_predict] step=24, of=299, date=2002-01-01\n",
      "[step_search_start] step=24, hp=4, fe=3, expected_evals=6\n"
     ]
    },
    {
     "name": "stderr",
     "output_type": "stream",
     "text": [
      "/Library/Frameworks/Python.framework/Versions/3.12/lib/python3.12/site-packages/sklearn/linear_model/_coordinate_descent.py:697: ConvergenceWarning: Objective did not converge. You might want to increase the number of iterations, check the scale of the features or consider increasing regularisation. Duality gap: 1.800e-01, tolerance: 2.556e-02\n",
      "  model = cd_fast.enet_coordinate_descent(\n"
     ]
    },
    {
     "name": "stdout",
     "output_type": "stream",
     "text": [
      "[step_eval] step=24, done=1, total=6, hp_idx=1, fe_idx=1, score=3.019304\n"
     ]
    },
    {
     "name": "stderr",
     "output_type": "stream",
     "text": [
      "/Library/Frameworks/Python.framework/Versions/3.12/lib/python3.12/site-packages/sklearn/linear_model/_coordinate_descent.py:697: ConvergenceWarning: Objective did not converge. You might want to increase the number of iterations, check the scale of the features or consider increasing regularisation. Duality gap: 6.035e-01, tolerance: 2.563e-02\n",
      "  model = cd_fast.enet_coordinate_descent(\n"
     ]
    },
    {
     "name": "stdout",
     "output_type": "stream",
     "text": [
      "[step_eval] step=24, done=2, total=6, hp_idx=1, fe_idx=2, score=1.99645\n"
     ]
    },
    {
     "name": "stderr",
     "output_type": "stream",
     "text": [
      "/Library/Frameworks/Python.framework/Versions/3.12/lib/python3.12/site-packages/sklearn/linear_model/_coordinate_descent.py:697: ConvergenceWarning: Objective did not converge. You might want to increase the number of iterations, check the scale of the features or consider increasing regularisation. Duality gap: 1.942e+00, tolerance: 2.449e-02\n",
      "  model = cd_fast.enet_coordinate_descent(\n"
     ]
    },
    {
     "name": "stdout",
     "output_type": "stream",
     "text": [
      "[step_eval] step=24, done=3, total=6, hp_idx=1, fe_idx=3, score=3.839259\n"
     ]
    },
    {
     "name": "stderr",
     "output_type": "stream",
     "text": [
      "/Library/Frameworks/Python.framework/Versions/3.12/lib/python3.12/site-packages/sklearn/linear_model/_coordinate_descent.py:697: ConvergenceWarning: Objective did not converge. You might want to increase the number of iterations, check the scale of the features or consider increasing regularisation. Duality gap: 2.979e+00, tolerance: 2.563e-02\n",
      "  model = cd_fast.enet_coordinate_descent(\n"
     ]
    },
    {
     "name": "stdout",
     "output_type": "stream",
     "text": [
      "[step_eval] step=24, done=4, total=6, hp_idx=2, fe_idx=1, score=1.333337\n",
      "[step_eval] step=24, done=5, total=6, hp_idx=3, fe_idx=1, score=0.97828\n",
      "[step_eval] step=24, done=6, total=6, hp_idx=4, fe_idx=1, score=0.538247\n",
      "[step_done] step=24, best_score=0.538247\n",
      "[step_predict] step=25, of=299, date=2002-02-01\n",
      "[step_search_start] step=25, hp=4, fe=3, expected_evals=6\n"
     ]
    },
    {
     "name": "stderr",
     "output_type": "stream",
     "text": [
      "/Library/Frameworks/Python.framework/Versions/3.12/lib/python3.12/site-packages/sklearn/linear_model/_coordinate_descent.py:697: ConvergenceWarning: Objective did not converge. You might want to increase the number of iterations, check the scale of the features or consider increasing regularisation. Duality gap: 4.661e-02, tolerance: 2.449e-02\n",
      "  model = cd_fast.enet_coordinate_descent(\n"
     ]
    },
    {
     "name": "stdout",
     "output_type": "stream",
     "text": [
      "[step_eval] step=25, done=1, total=6, hp_idx=1, fe_idx=1, score=1.228071\n"
     ]
    },
    {
     "name": "stderr",
     "output_type": "stream",
     "text": [
      "/Library/Frameworks/Python.framework/Versions/3.12/lib/python3.12/site-packages/sklearn/linear_model/_coordinate_descent.py:697: ConvergenceWarning: Objective did not converge. You might want to increase the number of iterations, check the scale of the features or consider increasing regularisation. Duality gap: 1.117e+00, tolerance: 2.567e-02\n",
      "  model = cd_fast.enet_coordinate_descent(\n"
     ]
    },
    {
     "name": "stdout",
     "output_type": "stream",
     "text": [
      "[step_eval] step=25, done=2, total=6, hp_idx=1, fe_idx=2, score=3.269051\n"
     ]
    },
    {
     "name": "stderr",
     "output_type": "stream",
     "text": [
      "/Library/Frameworks/Python.framework/Versions/3.12/lib/python3.12/site-packages/sklearn/linear_model/_coordinate_descent.py:697: ConvergenceWarning: Objective did not converge. You might want to increase the number of iterations, check the scale of the features or consider increasing regularisation. Duality gap: 3.276e+00, tolerance: 2.453e-02\n",
      "  model = cd_fast.enet_coordinate_descent(\n"
     ]
    },
    {
     "name": "stdout",
     "output_type": "stream",
     "text": [
      "[step_eval] step=25, done=3, total=6, hp_idx=1, fe_idx=3, score=0.75601\n"
     ]
    },
    {
     "name": "stderr",
     "output_type": "stream",
     "text": [
      "/Library/Frameworks/Python.framework/Versions/3.12/lib/python3.12/site-packages/sklearn/linear_model/_coordinate_descent.py:697: ConvergenceWarning: Objective did not converge. You might want to increase the number of iterations, check the scale of the features or consider increasing regularisation. Duality gap: 2.406e+00, tolerance: 2.567e-02\n",
      "  model = cd_fast.enet_coordinate_descent(\n"
     ]
    },
    {
     "name": "stdout",
     "output_type": "stream",
     "text": [
      "[step_eval] step=25, done=4, total=6, hp_idx=2, fe_idx=1, score=0.781651\n",
      "[step_eval] step=25, done=5, total=6, hp_idx=3, fe_idx=1, score=1.141438\n"
     ]
    },
    {
     "name": "stderr",
     "output_type": "stream",
     "text": [
      "/Library/Frameworks/Python.framework/Versions/3.12/lib/python3.12/site-packages/sklearn/linear_model/_coordinate_descent.py:697: ConvergenceWarning: Objective did not converge. You might want to increase the number of iterations, check the scale of the features or consider increasing regularisation. Duality gap: 1.172e-01, tolerance: 2.567e-02\n",
      "  model = cd_fast.enet_coordinate_descent(\n"
     ]
    },
    {
     "name": "stdout",
     "output_type": "stream",
     "text": [
      "[step_eval] step=25, done=6, total=6, hp_idx=4, fe_idx=1, score=1.153826\n",
      "[step_done] step=25, best_score=0.75601\n",
      "[step_predict] step=26, of=299, date=2002-03-01\n",
      "[step_search_start] step=26, hp=4, fe=3, expected_evals=6\n"
     ]
    },
    {
     "name": "stderr",
     "output_type": "stream",
     "text": [
      "/Library/Frameworks/Python.framework/Versions/3.12/lib/python3.12/site-packages/sklearn/linear_model/_coordinate_descent.py:697: ConvergenceWarning: Objective did not converge. You might want to increase the number of iterations, check the scale of the features or consider increasing regularisation. Duality gap: 2.637e+00, tolerance: 2.573e-02\n",
      "  model = cd_fast.enet_coordinate_descent(\n"
     ]
    },
    {
     "name": "stdout",
     "output_type": "stream",
     "text": [
      "[step_eval] step=26, done=1, total=6, hp_idx=1, fe_idx=1, score=3.780643\n"
     ]
    },
    {
     "name": "stderr",
     "output_type": "stream",
     "text": [
      "/Library/Frameworks/Python.framework/Versions/3.12/lib/python3.12/site-packages/sklearn/linear_model/_coordinate_descent.py:697: ConvergenceWarning: Objective did not converge. You might want to increase the number of iterations, check the scale of the features or consider increasing regularisation. Duality gap: 8.988e-01, tolerance: 2.573e-02\n",
      "  model = cd_fast.enet_coordinate_descent(\n"
     ]
    },
    {
     "name": "stdout",
     "output_type": "stream",
     "text": [
      "[step_eval] step=26, done=2, total=6, hp_idx=1, fe_idx=2, score=2.675349\n"
     ]
    },
    {
     "name": "stderr",
     "output_type": "stream",
     "text": [
      "/Library/Frameworks/Python.framework/Versions/3.12/lib/python3.12/site-packages/sklearn/linear_model/_coordinate_descent.py:697: ConvergenceWarning: Objective did not converge. You might want to increase the number of iterations, check the scale of the features or consider increasing regularisation. Duality gap: 2.887e+00, tolerance: 2.459e-02\n",
      "  model = cd_fast.enet_coordinate_descent(\n"
     ]
    },
    {
     "name": "stdout",
     "output_type": "stream",
     "text": [
      "[step_eval] step=26, done=3, total=6, hp_idx=1, fe_idx=3, score=2.06806\n"
     ]
    },
    {
     "name": "stderr",
     "output_type": "stream",
     "text": [
      "/Library/Frameworks/Python.framework/Versions/3.12/lib/python3.12/site-packages/sklearn/linear_model/_coordinate_descent.py:697: ConvergenceWarning: Objective did not converge. You might want to increase the number of iterations, check the scale of the features or consider increasing regularisation. Duality gap: 2.637e+00, tolerance: 2.573e-02\n",
      "  model = cd_fast.enet_coordinate_descent(\n"
     ]
    },
    {
     "name": "stdout",
     "output_type": "stream",
     "text": [
      "[step_eval] step=26, done=4, total=6, hp_idx=2, fe_idx=1, score=2.35749\n"
     ]
    },
    {
     "name": "stderr",
     "output_type": "stream",
     "text": [
      "/Library/Frameworks/Python.framework/Versions/3.12/lib/python3.12/site-packages/sklearn/linear_model/_coordinate_descent.py:697: ConvergenceWarning: Objective did not converge. You might want to increase the number of iterations, check the scale of the features or consider increasing regularisation. Duality gap: 9.671e-02, tolerance: 2.573e-02\n",
      "  model = cd_fast.enet_coordinate_descent(\n"
     ]
    },
    {
     "name": "stdout",
     "output_type": "stream",
     "text": [
      "[step_eval] step=26, done=5, total=6, hp_idx=3, fe_idx=1, score=0.371626\n",
      "[step_eval] step=26, done=6, total=6, hp_idx=4, fe_idx=1, score=0.276588\n",
      "[step_done] step=26, best_score=0.276588\n",
      "[step_predict] step=27, of=299, date=2002-04-01\n",
      "[step_search_start] step=27, hp=4, fe=3, expected_evals=6\n",
      "[step_eval] step=27, done=1, total=6, hp_idx=1, fe_idx=1, score=0.103368\n"
     ]
    },
    {
     "name": "stderr",
     "output_type": "stream",
     "text": [
      "/Library/Frameworks/Python.framework/Versions/3.12/lib/python3.12/site-packages/sklearn/linear_model/_coordinate_descent.py:697: ConvergenceWarning: Objective did not converge. You might want to increase the number of iterations, check the scale of the features or consider increasing regularisation. Duality gap: 1.353e+00, tolerance: 2.575e-02\n",
      "  model = cd_fast.enet_coordinate_descent(\n"
     ]
    },
    {
     "name": "stdout",
     "output_type": "stream",
     "text": [
      "[step_eval] step=27, done=2, total=6, hp_idx=1, fe_idx=2, score=0.155018\n"
     ]
    },
    {
     "name": "stderr",
     "output_type": "stream",
     "text": [
      "/Library/Frameworks/Python.framework/Versions/3.12/lib/python3.12/site-packages/sklearn/linear_model/_coordinate_descent.py:697: ConvergenceWarning: Objective did not converge. You might want to increase the number of iterations, check the scale of the features or consider increasing regularisation. Duality gap: 3.019e+00, tolerance: 2.461e-02\n",
      "  model = cd_fast.enet_coordinate_descent(\n"
     ]
    },
    {
     "name": "stdout",
     "output_type": "stream",
     "text": [
      "[step_eval] step=27, done=3, total=6, hp_idx=1, fe_idx=3, score=0.176508\n",
      "[step_eval] step=27, done=4, total=6, hp_idx=2, fe_idx=1, score=0.021163\n"
     ]
    },
    {
     "name": "stderr",
     "output_type": "stream",
     "text": [
      "/Library/Frameworks/Python.framework/Versions/3.12/lib/python3.12/site-packages/sklearn/linear_model/_coordinate_descent.py:697: ConvergenceWarning: Objective did not converge. You might want to increase the number of iterations, check the scale of the features or consider increasing regularisation. Duality gap: 3.720e+00, tolerance: 2.575e-02\n",
      "  model = cd_fast.enet_coordinate_descent(\n"
     ]
    },
    {
     "name": "stdout",
     "output_type": "stream",
     "text": [
      "[step_eval] step=27, done=5, total=6, hp_idx=3, fe_idx=1, score=0.143429\n",
      "[step_eval] step=27, done=6, total=6, hp_idx=4, fe_idx=1, score=0.10637\n",
      "[step_done] step=27, best_score=0.021163\n",
      "[step_predict] step=28, of=299, date=2002-05-01\n",
      "[step_search_start] step=28, hp=4, fe=3, expected_evals=6\n",
      "[step_eval] step=28, done=1, total=6, hp_idx=1, fe_idx=1, score=1.800992\n"
     ]
    },
    {
     "name": "stderr",
     "output_type": "stream",
     "text": [
      "/Library/Frameworks/Python.framework/Versions/3.12/lib/python3.12/site-packages/sklearn/linear_model/_coordinate_descent.py:697: ConvergenceWarning: Objective did not converge. You might want to increase the number of iterations, check the scale of the features or consider increasing regularisation. Duality gap: 1.112e+00, tolerance: 2.576e-02\n",
      "  model = cd_fast.enet_coordinate_descent(\n"
     ]
    },
    {
     "name": "stdout",
     "output_type": "stream",
     "text": [
      "[step_eval] step=28, done=2, total=6, hp_idx=1, fe_idx=2, score=0.11656\n"
     ]
    },
    {
     "name": "stderr",
     "output_type": "stream",
     "text": [
      "/Library/Frameworks/Python.framework/Versions/3.12/lib/python3.12/site-packages/sklearn/linear_model/_coordinate_descent.py:697: ConvergenceWarning: Objective did not converge. You might want to increase the number of iterations, check the scale of the features or consider increasing regularisation. Duality gap: 2.819e+00, tolerance: 2.462e-02\n",
      "  model = cd_fast.enet_coordinate_descent(\n"
     ]
    },
    {
     "name": "stdout",
     "output_type": "stream",
     "text": [
      "[step_eval] step=28, done=3, total=6, hp_idx=1, fe_idx=3, score=1.064995\n"
     ]
    },
    {
     "name": "stderr",
     "output_type": "stream",
     "text": [
      "/Library/Frameworks/Python.framework/Versions/3.12/lib/python3.12/site-packages/sklearn/linear_model/_coordinate_descent.py:697: ConvergenceWarning: Objective did not converge. You might want to increase the number of iterations, check the scale of the features or consider increasing regularisation. Duality gap: 3.785e+00, tolerance: 2.576e-02\n",
      "  model = cd_fast.enet_coordinate_descent(\n"
     ]
    },
    {
     "name": "stdout",
     "output_type": "stream",
     "text": [
      "[step_eval] step=28, done=4, total=6, hp_idx=2, fe_idx=1, score=0.245904\n",
      "[step_eval] step=28, done=5, total=6, hp_idx=3, fe_idx=1, score=0.745136\n",
      "[step_eval] step=28, done=6, total=6, hp_idx=4, fe_idx=1, score=0.860933\n",
      "[step_done] step=28, best_score=0.11656\n",
      "[step_predict] step=29, of=299, date=2002-06-01\n",
      "[step_search_start] step=29, hp=4, fe=3, expected_evals=6\n"
     ]
    },
    {
     "name": "stderr",
     "output_type": "stream",
     "text": [
      "/Library/Frameworks/Python.framework/Versions/3.12/lib/python3.12/site-packages/sklearn/linear_model/_coordinate_descent.py:697: ConvergenceWarning: Objective did not converge. You might want to increase the number of iterations, check the scale of the features or consider increasing regularisation. Duality gap: 3.313e+00, tolerance: 2.469e-02\n",
      "  model = cd_fast.enet_coordinate_descent(\n"
     ]
    },
    {
     "name": "stdout",
     "output_type": "stream",
     "text": [
      "[step_eval] step=29, done=1, total=6, hp_idx=1, fe_idx=1, score=1.738851\n"
     ]
    },
    {
     "name": "stderr",
     "output_type": "stream",
     "text": [
      "/Library/Frameworks/Python.framework/Versions/3.12/lib/python3.12/site-packages/sklearn/linear_model/_coordinate_descent.py:697: ConvergenceWarning: Objective did not converge. You might want to increase the number of iterations, check the scale of the features or consider increasing regularisation. Duality gap: 1.235e+00, tolerance: 2.583e-02\n",
      "  model = cd_fast.enet_coordinate_descent(\n"
     ]
    },
    {
     "name": "stdout",
     "output_type": "stream",
     "text": [
      "[step_eval] step=29, done=2, total=6, hp_idx=1, fe_idx=2, score=4.076082\n"
     ]
    },
    {
     "name": "stderr",
     "output_type": "stream",
     "text": [
      "/Library/Frameworks/Python.framework/Versions/3.12/lib/python3.12/site-packages/sklearn/linear_model/_coordinate_descent.py:697: ConvergenceWarning: Objective did not converge. You might want to increase the number of iterations, check the scale of the features or consider increasing regularisation. Duality gap: 3.313e+00, tolerance: 2.469e-02\n",
      "  model = cd_fast.enet_coordinate_descent(\n"
     ]
    },
    {
     "name": "stdout",
     "output_type": "stream",
     "text": [
      "[step_eval] step=29, done=3, total=6, hp_idx=1, fe_idx=3, score=0.851678\n"
     ]
    },
    {
     "name": "stderr",
     "output_type": "stream",
     "text": [
      "/Library/Frameworks/Python.framework/Versions/3.12/lib/python3.12/site-packages/sklearn/linear_model/_coordinate_descent.py:697: ConvergenceWarning: Objective did not converge. You might want to increase the number of iterations, check the scale of the features or consider increasing regularisation. Duality gap: 3.044e+00, tolerance: 2.583e-02\n",
      "  model = cd_fast.enet_coordinate_descent(\n"
     ]
    },
    {
     "name": "stdout",
     "output_type": "stream",
     "text": [
      "[step_eval] step=29, done=4, total=6, hp_idx=2, fe_idx=1, score=0.576482\n",
      "[step_eval] step=29, done=5, total=6, hp_idx=3, fe_idx=1, score=1.175734\n",
      "[step_eval] step=29, done=6, total=6, hp_idx=4, fe_idx=1, score=1.359569\n",
      "[step_done] step=29, best_score=0.576482\n",
      "[step_predict] step=30, of=299, date=2002-07-01\n"
     ]
    },
    {
     "name": "stderr",
     "output_type": "stream",
     "text": [
      "/Library/Frameworks/Python.framework/Versions/3.12/lib/python3.12/site-packages/sklearn/linear_model/_coordinate_descent.py:697: ConvergenceWarning: Objective did not converge. You might want to increase the number of iterations, check the scale of the features or consider increasing regularisation. Duality gap: 1.678e-01, tolerance: 2.583e-02\n",
      "  model = cd_fast.enet_coordinate_descent(\n"
     ]
    },
    {
     "name": "stdout",
     "output_type": "stream",
     "text": [
      "[step_search_start] step=30, hp=4, fe=3, expected_evals=6\n"
     ]
    },
    {
     "name": "stderr",
     "output_type": "stream",
     "text": [
      "/Library/Frameworks/Python.framework/Versions/3.12/lib/python3.12/site-packages/sklearn/linear_model/_coordinate_descent.py:697: ConvergenceWarning: Objective did not converge. You might want to increase the number of iterations, check the scale of the features or consider increasing regularisation. Duality gap: 8.780e-02, tolerance: 2.615e-02\n",
      "  model = cd_fast.enet_coordinate_descent(\n"
     ]
    },
    {
     "name": "stdout",
     "output_type": "stream",
     "text": [
      "[step_eval] step=30, done=1, total=6, hp_idx=1, fe_idx=1, score=0.453799\n"
     ]
    },
    {
     "name": "stderr",
     "output_type": "stream",
     "text": [
      "/Library/Frameworks/Python.framework/Versions/3.12/lib/python3.12/site-packages/sklearn/linear_model/_coordinate_descent.py:697: ConvergenceWarning: Objective did not converge. You might want to increase the number of iterations, check the scale of the features or consider increasing regularisation. Duality gap: 1.467e+00, tolerance: 2.615e-02\n",
      "  model = cd_fast.enet_coordinate_descent(\n"
     ]
    },
    {
     "name": "stdout",
     "output_type": "stream",
     "text": [
      "[step_eval] step=30, done=2, total=6, hp_idx=1, fe_idx=2, score=4.851151\n"
     ]
    },
    {
     "name": "stderr",
     "output_type": "stream",
     "text": [
      "/Library/Frameworks/Python.framework/Versions/3.12/lib/python3.12/site-packages/sklearn/linear_model/_coordinate_descent.py:697: ConvergenceWarning: Objective did not converge. You might want to increase the number of iterations, check the scale of the features or consider increasing regularisation. Duality gap: 4.448e+00, tolerance: 2.501e-02\n",
      "  model = cd_fast.enet_coordinate_descent(\n"
     ]
    },
    {
     "name": "stdout",
     "output_type": "stream",
     "text": [
      "[step_eval] step=30, done=3, total=6, hp_idx=1, fe_idx=3, score=4.482037\n",
      "[step_eval] step=30, done=4, total=6, hp_idx=2, fe_idx=1, score=0.812463\n"
     ]
    },
    {
     "name": "stderr",
     "output_type": "stream",
     "text": [
      "/Library/Frameworks/Python.framework/Versions/3.12/lib/python3.12/site-packages/sklearn/linear_model/_coordinate_descent.py:697: ConvergenceWarning: Objective did not converge. You might want to increase the number of iterations, check the scale of the features or consider increasing regularisation. Duality gap: 3.351e+00, tolerance: 2.615e-02\n",
      "  model = cd_fast.enet_coordinate_descent(\n"
     ]
    },
    {
     "name": "stdout",
     "output_type": "stream",
     "text": [
      "[step_eval] step=30, done=5, total=6, hp_idx=3, fe_idx=1, score=1.66692\n",
      "[step_eval] step=30, done=6, total=6, hp_idx=4, fe_idx=1, score=1.509331\n",
      "[step_done] step=30, best_score=0.453799\n",
      "[step_predict] step=31, of=299, date=2002-08-01\n",
      "[step_search_start] step=31, hp=4, fe=3, expected_evals=6\n"
     ]
    },
    {
     "name": "stderr",
     "output_type": "stream",
     "text": [
      "/Library/Frameworks/Python.framework/Versions/3.12/lib/python3.12/site-packages/sklearn/linear_model/_coordinate_descent.py:697: ConvergenceWarning: Objective did not converge. You might want to increase the number of iterations, check the scale of the features or consider increasing regularisation. Duality gap: 5.770e-01, tolerance: 2.636e-02\n",
      "  model = cd_fast.enet_coordinate_descent(\n"
     ]
    },
    {
     "name": "stdout",
     "output_type": "stream",
     "text": [
      "[step_eval] step=31, done=1, total=6, hp_idx=1, fe_idx=1, score=3.507266\n"
     ]
    },
    {
     "name": "stderr",
     "output_type": "stream",
     "text": [
      "/Library/Frameworks/Python.framework/Versions/3.12/lib/python3.12/site-packages/sklearn/linear_model/_coordinate_descent.py:697: ConvergenceWarning: Objective did not converge. You might want to increase the number of iterations, check the scale of the features or consider increasing regularisation. Duality gap: 5.770e-01, tolerance: 2.636e-02\n",
      "  model = cd_fast.enet_coordinate_descent(\n"
     ]
    },
    {
     "name": "stdout",
     "output_type": "stream",
     "text": [
      "[step_eval] step=31, done=2, total=6, hp_idx=1, fe_idx=2, score=5.119999\n"
     ]
    },
    {
     "name": "stderr",
     "output_type": "stream",
     "text": [
      "/Library/Frameworks/Python.framework/Versions/3.12/lib/python3.12/site-packages/sklearn/linear_model/_coordinate_descent.py:697: ConvergenceWarning: Objective did not converge. You might want to increase the number of iterations, check the scale of the features or consider increasing regularisation. Duality gap: 2.011e+00, tolerance: 2.522e-02\n",
      "  model = cd_fast.enet_coordinate_descent(\n"
     ]
    },
    {
     "name": "stdout",
     "output_type": "stream",
     "text": [
      "[step_eval] step=31, done=3, total=6, hp_idx=1, fe_idx=3, score=5.442293\n",
      "[step_eval] step=31, done=4, total=6, hp_idx=2, fe_idx=1, score=3.716178\n"
     ]
    },
    {
     "name": "stderr",
     "output_type": "stream",
     "text": [
      "/Library/Frameworks/Python.framework/Versions/3.12/lib/python3.12/site-packages/sklearn/linear_model/_coordinate_descent.py:697: ConvergenceWarning: Objective did not converge. You might want to increase the number of iterations, check the scale of the features or consider increasing regularisation. Duality gap: 2.311e+00, tolerance: 2.636e-02\n",
      "  model = cd_fast.enet_coordinate_descent(\n"
     ]
    },
    {
     "name": "stdout",
     "output_type": "stream",
     "text": [
      "[step_eval] step=31, done=5, total=6, hp_idx=3, fe_idx=1, score=2.216308\n",
      "[step_eval] step=31, done=6, total=6, hp_idx=4, fe_idx=1, score=2.03814\n",
      "[step_done] step=31, best_score=2.03814\n",
      "[step_predict] step=32, of=299, date=2002-09-01\n",
      "[step_search_start] step=32, hp=4, fe=3, expected_evals=6\n",
      "[step_eval] step=32, done=1, total=6, hp_idx=1, fe_idx=1, score=1.750212\n"
     ]
    },
    {
     "name": "stderr",
     "output_type": "stream",
     "text": [
      "/Library/Frameworks/Python.framework/Versions/3.12/lib/python3.12/site-packages/sklearn/linear_model/_coordinate_descent.py:697: ConvergenceWarning: Objective did not converge. You might want to increase the number of iterations, check the scale of the features or consider increasing regularisation. Duality gap: 8.427e-01, tolerance: 2.677e-02\n",
      "  model = cd_fast.enet_coordinate_descent(\n"
     ]
    },
    {
     "name": "stdout",
     "output_type": "stream",
     "text": [
      "[step_eval] step=32, done=2, total=6, hp_idx=1, fe_idx=2, score=0.232421\n"
     ]
    },
    {
     "name": "stderr",
     "output_type": "stream",
     "text": [
      "/Library/Frameworks/Python.framework/Versions/3.12/lib/python3.12/site-packages/sklearn/linear_model/_coordinate_descent.py:697: ConvergenceWarning: Objective did not converge. You might want to increase the number of iterations, check the scale of the features or consider increasing regularisation. Duality gap: 2.298e+00, tolerance: 2.563e-02\n",
      "  model = cd_fast.enet_coordinate_descent(\n"
     ]
    },
    {
     "name": "stdout",
     "output_type": "stream",
     "text": [
      "[step_eval] step=32, done=3, total=6, hp_idx=1, fe_idx=3, score=2.195341\n",
      "[step_eval] step=32, done=4, total=6, hp_idx=2, fe_idx=1, score=0.044372\n"
     ]
    },
    {
     "name": "stderr",
     "output_type": "stream",
     "text": [
      "/Library/Frameworks/Python.framework/Versions/3.12/lib/python3.12/site-packages/sklearn/linear_model/_coordinate_descent.py:697: ConvergenceWarning: Objective did not converge. You might want to increase the number of iterations, check the scale of the features or consider increasing regularisation. Duality gap: 3.838e+00, tolerance: 2.677e-02\n",
      "  model = cd_fast.enet_coordinate_descent(\n"
     ]
    },
    {
     "name": "stdout",
     "output_type": "stream",
     "text": [
      "[step_eval] step=32, done=5, total=6, hp_idx=3, fe_idx=1, score=0.799291\n",
      "[step_eval] step=32, done=6, total=6, hp_idx=4, fe_idx=1, score=0.680198\n",
      "[step_done] step=32, best_score=0.044372\n",
      "[step_predict] step=33, of=299, date=2002-10-01\n",
      "[step_search_start] step=33, hp=4, fe=3, expected_evals=6\n",
      "[step_eval] step=33, done=1, total=6, hp_idx=1, fe_idx=1, score=0.137877\n"
     ]
    },
    {
     "name": "stderr",
     "output_type": "stream",
     "text": [
      "/Library/Frameworks/Python.framework/Versions/3.12/lib/python3.12/site-packages/sklearn/linear_model/_coordinate_descent.py:697: ConvergenceWarning: Objective did not converge. You might want to increase the number of iterations, check the scale of the features or consider increasing regularisation. Duality gap: 9.823e-01, tolerance: 2.684e-02\n",
      "  model = cd_fast.enet_coordinate_descent(\n"
     ]
    },
    {
     "name": "stdout",
     "output_type": "stream",
     "text": [
      "[step_eval] step=33, done=2, total=6, hp_idx=1, fe_idx=2, score=1.109581\n"
     ]
    },
    {
     "name": "stderr",
     "output_type": "stream",
     "text": [
      "/Library/Frameworks/Python.framework/Versions/3.12/lib/python3.12/site-packages/sklearn/linear_model/_coordinate_descent.py:697: ConvergenceWarning: Objective did not converge. You might want to increase the number of iterations, check the scale of the features or consider increasing regularisation. Duality gap: 2.605e+00, tolerance: 2.570e-02\n",
      "  model = cd_fast.enet_coordinate_descent(\n"
     ]
    },
    {
     "name": "stdout",
     "output_type": "stream",
     "text": [
      "[step_eval] step=33, done=3, total=6, hp_idx=1, fe_idx=3, score=3.887859\n",
      "[step_eval] step=33, done=4, total=6, hp_idx=2, fe_idx=1, score=0.338636\n",
      "[step_eval] step=33, done=5, total=6, hp_idx=3, fe_idx=1, score=1.10441\n"
     ]
    },
    {
     "name": "stderr",
     "output_type": "stream",
     "text": [
      "/Library/Frameworks/Python.framework/Versions/3.12/lib/python3.12/site-packages/sklearn/linear_model/_coordinate_descent.py:697: ConvergenceWarning: Objective did not converge. You might want to increase the number of iterations, check the scale of the features or consider increasing regularisation. Duality gap: 3.565e+00, tolerance: 2.684e-02\n",
      "  model = cd_fast.enet_coordinate_descent(\n"
     ]
    },
    {
     "name": "stdout",
     "output_type": "stream",
     "text": [
      "[step_eval] step=33, done=6, total=6, hp_idx=4, fe_idx=1, score=1.119723\n",
      "[step_done] step=33, best_score=0.137877\n",
      "[step_predict] step=34, of=299, date=2002-11-01\n",
      "[step_search_start] step=34, hp=4, fe=3, expected_evals=6\n"
     ]
    },
    {
     "name": "stderr",
     "output_type": "stream",
     "text": [
      "/Library/Frameworks/Python.framework/Versions/3.12/lib/python3.12/site-packages/sklearn/linear_model/_coordinate_descent.py:697: ConvergenceWarning: Objective did not converge. You might want to increase the number of iterations, check the scale of the features or consider increasing regularisation. Duality gap: 7.224e-01, tolerance: 2.697e-02\n",
      "  model = cd_fast.enet_coordinate_descent(\n"
     ]
    },
    {
     "name": "stdout",
     "output_type": "stream",
     "text": [
      "[step_eval] step=34, done=1, total=6, hp_idx=1, fe_idx=1, score=0.356359\n"
     ]
    },
    {
     "name": "stderr",
     "output_type": "stream",
     "text": [
      "/Library/Frameworks/Python.framework/Versions/3.12/lib/python3.12/site-packages/sklearn/linear_model/_coordinate_descent.py:697: ConvergenceWarning: Objective did not converge. You might want to increase the number of iterations, check the scale of the features or consider increasing regularisation. Duality gap: 7.224e-01, tolerance: 2.697e-02\n",
      "  model = cd_fast.enet_coordinate_descent(\n"
     ]
    },
    {
     "name": "stdout",
     "output_type": "stream",
     "text": [
      "[step_eval] step=34, done=2, total=6, hp_idx=1, fe_idx=2, score=1.816236\n"
     ]
    },
    {
     "name": "stderr",
     "output_type": "stream",
     "text": [
      "/Library/Frameworks/Python.framework/Versions/3.12/lib/python3.12/site-packages/sklearn/linear_model/_coordinate_descent.py:697: ConvergenceWarning: Objective did not converge. You might want to increase the number of iterations, check the scale of the features or consider increasing regularisation. Duality gap: 3.373e+00, tolerance: 2.583e-02\n",
      "  model = cd_fast.enet_coordinate_descent(\n"
     ]
    },
    {
     "name": "stdout",
     "output_type": "stream",
     "text": [
      "[step_eval] step=34, done=3, total=6, hp_idx=1, fe_idx=3, score=2.557374\n"
     ]
    },
    {
     "name": "stderr",
     "output_type": "stream",
     "text": [
      "/Library/Frameworks/Python.framework/Versions/3.12/lib/python3.12/site-packages/sklearn/linear_model/_coordinate_descent.py:697: ConvergenceWarning: Objective did not converge. You might want to increase the number of iterations, check the scale of the features or consider increasing regularisation. Duality gap: 2.434e+00, tolerance: 2.697e-02\n",
      "  model = cd_fast.enet_coordinate_descent(\n"
     ]
    },
    {
     "name": "stdout",
     "output_type": "stream",
     "text": [
      "[step_eval] step=34, done=4, total=6, hp_idx=2, fe_idx=1, score=0.112623\n",
      "[step_eval] step=34, done=5, total=6, hp_idx=3, fe_idx=1, score=1.440508\n",
      "[step_eval] step=34, done=6, total=6, hp_idx=4, fe_idx=1, score=1.621982\n",
      "[step_done] step=34, best_score=0.112623\n",
      "[step_predict] step=35, of=299, date=2002-12-01\n",
      "[step_search_start] step=35, hp=4, fe=3, expected_evals=6\n",
      "[step_eval] step=35, done=1, total=6, hp_idx=1, fe_idx=1, score=2.471845\n"
     ]
    },
    {
     "name": "stderr",
     "output_type": "stream",
     "text": [
      "/Library/Frameworks/Python.framework/Versions/3.12/lib/python3.12/site-packages/sklearn/linear_model/_coordinate_descent.py:697: ConvergenceWarning: Objective did not converge. You might want to increase the number of iterations, check the scale of the features or consider increasing regularisation. Duality gap: 5.710e-01, tolerance: 2.724e-02\n",
      "  model = cd_fast.enet_coordinate_descent(\n"
     ]
    },
    {
     "name": "stdout",
     "output_type": "stream",
     "text": [
      "[step_eval] step=35, done=2, total=6, hp_idx=1, fe_idx=2, score=3.931872\n"
     ]
    },
    {
     "name": "stderr",
     "output_type": "stream",
     "text": [
      "/Library/Frameworks/Python.framework/Versions/3.12/lib/python3.12/site-packages/sklearn/linear_model/_coordinate_descent.py:697: ConvergenceWarning: Objective did not converge. You might want to increase the number of iterations, check the scale of the features or consider increasing regularisation. Duality gap: 3.536e+00, tolerance: 2.610e-02\n",
      "  model = cd_fast.enet_coordinate_descent(\n"
     ]
    },
    {
     "name": "stdout",
     "output_type": "stream",
     "text": [
      "[step_eval] step=35, done=3, total=6, hp_idx=1, fe_idx=3, score=0.509669\n"
     ]
    },
    {
     "name": "stderr",
     "output_type": "stream",
     "text": [
      "/Library/Frameworks/Python.framework/Versions/3.12/lib/python3.12/site-packages/sklearn/linear_model/_coordinate_descent.py:697: ConvergenceWarning: Objective did not converge. You might want to increase the number of iterations, check the scale of the features or consider increasing regularisation. Duality gap: 4.059e+00, tolerance: 2.724e-02\n",
      "  model = cd_fast.enet_coordinate_descent(\n"
     ]
    },
    {
     "name": "stdout",
     "output_type": "stream",
     "text": [
      "[step_eval] step=35, done=4, total=6, hp_idx=2, fe_idx=1, score=0.808495\n",
      "[step_eval] step=35, done=5, total=6, hp_idx=3, fe_idx=1, score=2.277522\n",
      "[step_eval] step=35, done=6, total=6, hp_idx=4, fe_idx=1, score=2.245466\n",
      "[step_done] step=35, best_score=0.509669\n",
      "[step_predict] step=36, of=299, date=2003-01-01\n"
     ]
    },
    {
     "name": "stderr",
     "output_type": "stream",
     "text": [
      "/Library/Frameworks/Python.framework/Versions/3.12/lib/python3.12/site-packages/sklearn/linear_model/_coordinate_descent.py:697: ConvergenceWarning: Objective did not converge. You might want to increase the number of iterations, check the scale of the features or consider increasing regularisation. Duality gap: 5.986e-02, tolerance: 2.724e-02\n",
      "  model = cd_fast.enet_coordinate_descent(\n"
     ]
    },
    {
     "name": "stdout",
     "output_type": "stream",
     "text": [
      "[step_search_start] step=36, hp=4, fe=3, expected_evals=6\n"
     ]
    },
    {
     "name": "stderr",
     "output_type": "stream",
     "text": [
      "/Library/Frameworks/Python.framework/Versions/3.12/lib/python3.12/site-packages/sklearn/linear_model/_coordinate_descent.py:697: ConvergenceWarning: Objective did not converge. You might want to increase the number of iterations, check the scale of the features or consider increasing regularisation. Duality gap: 2.912e+00, tolerance: 2.776e-02\n",
      "  model = cd_fast.enet_coordinate_descent(\n"
     ]
    },
    {
     "name": "stdout",
     "output_type": "stream",
     "text": [
      "[step_eval] step=36, done=1, total=6, hp_idx=1, fe_idx=1, score=3.879648\n"
     ]
    },
    {
     "name": "stderr",
     "output_type": "stream",
     "text": [
      "/Library/Frameworks/Python.framework/Versions/3.12/lib/python3.12/site-packages/sklearn/linear_model/_coordinate_descent.py:697: ConvergenceWarning: Objective did not converge. You might want to increase the number of iterations, check the scale of the features or consider increasing regularisation. Duality gap: 9.709e-01, tolerance: 2.776e-02\n",
      "  model = cd_fast.enet_coordinate_descent(\n"
     ]
    },
    {
     "name": "stdout",
     "output_type": "stream",
     "text": [
      "[step_eval] step=36, done=2, total=6, hp_idx=1, fe_idx=2, score=2.485496\n"
     ]
    },
    {
     "name": "stderr",
     "output_type": "stream",
     "text": [
      "/Library/Frameworks/Python.framework/Versions/3.12/lib/python3.12/site-packages/sklearn/linear_model/_coordinate_descent.py:697: ConvergenceWarning: Objective did not converge. You might want to increase the number of iterations, check the scale of the features or consider increasing regularisation. Duality gap: 2.926e+00, tolerance: 2.662e-02\n",
      "  model = cd_fast.enet_coordinate_descent(\n"
     ]
    },
    {
     "name": "stdout",
     "output_type": "stream",
     "text": [
      "[step_eval] step=36, done=3, total=6, hp_idx=1, fe_idx=3, score=1.830831\n"
     ]
    },
    {
     "name": "stderr",
     "output_type": "stream",
     "text": [
      "/Library/Frameworks/Python.framework/Versions/3.12/lib/python3.12/site-packages/sklearn/linear_model/_coordinate_descent.py:697: ConvergenceWarning: Objective did not converge. You might want to increase the number of iterations, check the scale of the features or consider increasing regularisation. Duality gap: 2.912e+00, tolerance: 2.776e-02\n",
      "  model = cd_fast.enet_coordinate_descent(\n"
     ]
    },
    {
     "name": "stdout",
     "output_type": "stream",
     "text": [
      "[step_eval] step=36, done=4, total=6, hp_idx=2, fe_idx=1, score=1.918085\n",
      "[step_eval] step=36, done=5, total=6, hp_idx=3, fe_idx=1, score=1.739432\n",
      "[step_eval] step=36, done=6, total=6, hp_idx=4, fe_idx=1, score=1.293164\n",
      "[step_done] step=36, best_score=1.293164\n",
      "[step_predict] step=37, of=299, date=2003-02-01\n",
      "[step_search_start] step=37, hp=4, fe=3, expected_evals=6\n",
      "[step_eval] step=37, done=1, total=6, hp_idx=1, fe_idx=1, score=0.315585\n"
     ]
    },
    {
     "name": "stderr",
     "output_type": "stream",
     "text": [
      "/Library/Frameworks/Python.framework/Versions/3.12/lib/python3.12/site-packages/sklearn/linear_model/_coordinate_descent.py:697: ConvergenceWarning: Objective did not converge. You might want to increase the number of iterations, check the scale of the features or consider increasing regularisation. Duality gap: 1.454e+00, tolerance: 2.787e-02\n",
      "  model = cd_fast.enet_coordinate_descent(\n"
     ]
    },
    {
     "name": "stdout",
     "output_type": "stream",
     "text": [
      "[step_eval] step=37, done=2, total=6, hp_idx=1, fe_idx=2, score=0.9467\n"
     ]
    },
    {
     "name": "stderr",
     "output_type": "stream",
     "text": [
      "/Library/Frameworks/Python.framework/Versions/3.12/lib/python3.12/site-packages/sklearn/linear_model/_coordinate_descent.py:697: ConvergenceWarning: Objective did not converge. You might want to increase the number of iterations, check the scale of the features or consider increasing regularisation. Duality gap: 2.744e+00, tolerance: 2.673e-02\n",
      "  model = cd_fast.enet_coordinate_descent(\n"
     ]
    },
    {
     "name": "stdout",
     "output_type": "stream",
     "text": [
      "[step_eval] step=37, done=3, total=6, hp_idx=1, fe_idx=3, score=2.062432\n",
      "[step_eval] step=37, done=4, total=6, hp_idx=2, fe_idx=1, score=0.462615\n",
      "[step_eval] step=37, done=5, total=6, hp_idx=3, fe_idx=1, score=0.192443\n",
      "[step_eval] step=37, done=6, total=6, hp_idx=4, fe_idx=1, score=0.085415\n",
      "[step_done] step=37, best_score=0.085415\n",
      "[step_predict] step=38, of=299, date=2003-03-01\n"
     ]
    },
    {
     "name": "stderr",
     "output_type": "stream",
     "text": [
      "/Library/Frameworks/Python.framework/Versions/3.12/lib/python3.12/site-packages/sklearn/linear_model/_coordinate_descent.py:697: ConvergenceWarning: Objective did not converge. You might want to increase the number of iterations, check the scale of the features or consider increasing regularisation. Duality gap: 3.762e+00, tolerance: 2.787e-02\n",
      "  model = cd_fast.enet_coordinate_descent(\n"
     ]
    },
    {
     "name": "stdout",
     "output_type": "stream",
     "text": [
      "[step_search_start] step=38, hp=4, fe=3, expected_evals=6\n",
      "[step_eval] step=38, done=1, total=6, hp_idx=1, fe_idx=1, score=0.850997\n"
     ]
    },
    {
     "name": "stderr",
     "output_type": "stream",
     "text": [
      "/Library/Frameworks/Python.framework/Versions/3.12/lib/python3.12/site-packages/sklearn/linear_model/_coordinate_descent.py:697: ConvergenceWarning: Objective did not converge. You might want to increase the number of iterations, check the scale of the features or consider increasing regularisation. Duality gap: 1.435e+00, tolerance: 2.787e-02\n",
      "  model = cd_fast.enet_coordinate_descent(\n"
     ]
    },
    {
     "name": "stdout",
     "output_type": "stream",
     "text": [
      "[step_eval] step=38, done=2, total=6, hp_idx=1, fe_idx=2, score=1.276032\n"
     ]
    },
    {
     "name": "stderr",
     "output_type": "stream",
     "text": [
      "/Library/Frameworks/Python.framework/Versions/3.12/lib/python3.12/site-packages/sklearn/linear_model/_coordinate_descent.py:697: ConvergenceWarning: Objective did not converge. You might want to increase the number of iterations, check the scale of the features or consider increasing regularisation. Duality gap: 2.071e+00, tolerance: 2.673e-02\n",
      "  model = cd_fast.enet_coordinate_descent(\n"
     ]
    },
    {
     "name": "stdout",
     "output_type": "stream",
     "text": [
      "[step_eval] step=38, done=3, total=6, hp_idx=1, fe_idx=3, score=0.59659\n"
     ]
    },
    {
     "name": "stderr",
     "output_type": "stream",
     "text": [
      "/Library/Frameworks/Python.framework/Versions/3.12/lib/python3.12/site-packages/sklearn/linear_model/_coordinate_descent.py:697: ConvergenceWarning: Objective did not converge. You might want to increase the number of iterations, check the scale of the features or consider increasing regularisation. Duality gap: 2.830e+00, tolerance: 2.787e-02\n",
      "  model = cd_fast.enet_coordinate_descent(\n"
     ]
    },
    {
     "name": "stdout",
     "output_type": "stream",
     "text": [
      "[step_eval] step=38, done=4, total=6, hp_idx=2, fe_idx=1, score=0.813967\n",
      "[step_eval] step=38, done=5, total=6, hp_idx=3, fe_idx=1, score=0.244017\n",
      "[step_eval] step=38, done=6, total=6, hp_idx=4, fe_idx=1, score=0.428373\n",
      "[step_done] step=38, best_score=0.244017\n",
      "[step_predict] step=39, of=299, date=2003-04-01\n",
      "[step_search_start] step=39, hp=4, fe=3, expected_evals=6\n"
     ]
    },
    {
     "name": "stderr",
     "output_type": "stream",
     "text": [
      "/Library/Frameworks/Python.framework/Versions/3.12/lib/python3.12/site-packages/sklearn/linear_model/_coordinate_descent.py:697: ConvergenceWarning: Objective did not converge. You might want to increase the number of iterations, check the scale of the features or consider increasing regularisation. Duality gap: 9.224e-02, tolerance: 2.787e-02\n",
      "  model = cd_fast.enet_coordinate_descent(\n"
     ]
    },
    {
     "name": "stdout",
     "output_type": "stream",
     "text": [
      "[step_eval] step=39, done=1, total=6, hp_idx=1, fe_idx=1, score=2.692844\n"
     ]
    },
    {
     "name": "stderr",
     "output_type": "stream",
     "text": [
      "/Library/Frameworks/Python.framework/Versions/3.12/lib/python3.12/site-packages/sklearn/linear_model/_coordinate_descent.py:697: ConvergenceWarning: Objective did not converge. You might want to increase the number of iterations, check the scale of the features or consider increasing regularisation. Duality gap: 1.655e+00, tolerance: 2.792e-02\n",
      "  model = cd_fast.enet_coordinate_descent(\n"
     ]
    },
    {
     "name": "stdout",
     "output_type": "stream",
     "text": [
      "[step_eval] step=39, done=2, total=6, hp_idx=1, fe_idx=2, score=1.341072\n"
     ]
    },
    {
     "name": "stderr",
     "output_type": "stream",
     "text": [
      "/Library/Frameworks/Python.framework/Versions/3.12/lib/python3.12/site-packages/sklearn/linear_model/_coordinate_descent.py:697: ConvergenceWarning: Objective did not converge. You might want to increase the number of iterations, check the scale of the features or consider increasing regularisation. Duality gap: 1.300e+00, tolerance: 2.678e-02\n",
      "  model = cd_fast.enet_coordinate_descent(\n"
     ]
    },
    {
     "name": "stdout",
     "output_type": "stream",
     "text": [
      "[step_eval] step=39, done=3, total=6, hp_idx=1, fe_idx=3, score=1.310651\n"
     ]
    },
    {
     "name": "stderr",
     "output_type": "stream",
     "text": [
      "/Library/Frameworks/Python.framework/Versions/3.12/lib/python3.12/site-packages/sklearn/linear_model/_coordinate_descent.py:697: ConvergenceWarning: Objective did not converge. You might want to increase the number of iterations, check the scale of the features or consider increasing regularisation. Duality gap: 3.739e+00, tolerance: 2.792e-02\n",
      "  model = cd_fast.enet_coordinate_descent(\n"
     ]
    },
    {
     "name": "stdout",
     "output_type": "stream",
     "text": [
      "[step_eval] step=39, done=4, total=6, hp_idx=2, fe_idx=1, score=1.079685\n",
      "[step_eval] step=39, done=5, total=6, hp_idx=3, fe_idx=1, score=0.562878\n",
      "[step_eval] step=39, done=6, total=6, hp_idx=4, fe_idx=1, score=0.637661\n",
      "[step_done] step=39, best_score=0.562878\n",
      "[step_predict] step=40, of=299, date=2003-05-01\n",
      "[step_search_start] step=40, hp=4, fe=3, expected_evals=6\n"
     ]
    },
    {
     "name": "stderr",
     "output_type": "stream",
     "text": [
      "/Library/Frameworks/Python.framework/Versions/3.12/lib/python3.12/site-packages/sklearn/linear_model/_coordinate_descent.py:697: ConvergenceWarning: Objective did not converge. You might want to increase the number of iterations, check the scale of the features or consider increasing regularisation. Duality gap: 1.121e-01, tolerance: 2.792e-02\n",
      "  model = cd_fast.enet_coordinate_descent(\n"
     ]
    },
    {
     "name": "stdout",
     "output_type": "stream",
     "text": [
      "[step_eval] step=40, done=1, total=6, hp_idx=1, fe_idx=1, score=2.674645\n"
     ]
    },
    {
     "name": "stderr",
     "output_type": "stream",
     "text": [
      "/Library/Frameworks/Python.framework/Versions/3.12/lib/python3.12/site-packages/sklearn/linear_model/_coordinate_descent.py:697: ConvergenceWarning: Objective did not converge. You might want to increase the number of iterations, check the scale of the features or consider increasing regularisation. Duality gap: 1.251e+00, tolerance: 2.798e-02\n",
      "  model = cd_fast.enet_coordinate_descent(\n"
     ]
    },
    {
     "name": "stdout",
     "output_type": "stream",
     "text": [
      "[step_eval] step=40, done=2, total=6, hp_idx=1, fe_idx=2, score=0.323167\n"
     ]
    },
    {
     "name": "stderr",
     "output_type": "stream",
     "text": [
      "/Library/Frameworks/Python.framework/Versions/3.12/lib/python3.12/site-packages/sklearn/linear_model/_coordinate_descent.py:697: ConvergenceWarning: Objective did not converge. You might want to increase the number of iterations, check the scale of the features or consider increasing regularisation. Duality gap: 1.792e+00, tolerance: 2.684e-02\n",
      "  model = cd_fast.enet_coordinate_descent(\n"
     ]
    },
    {
     "name": "stdout",
     "output_type": "stream",
     "text": [
      "[step_eval] step=40, done=3, total=6, hp_idx=1, fe_idx=3, score=2.260222\n",
      "[step_eval] step=40, done=4, total=6, hp_idx=2, fe_idx=1, score=0.143304\n",
      "[step_eval] step=40, done=5, total=6, hp_idx=3, fe_idx=1, score=0.348888\n"
     ]
    },
    {
     "name": "stderr",
     "output_type": "stream",
     "text": [
      "/Library/Frameworks/Python.framework/Versions/3.12/lib/python3.12/site-packages/sklearn/linear_model/_coordinate_descent.py:697: ConvergenceWarning: Objective did not converge. You might want to increase the number of iterations, check the scale of the features or consider increasing regularisation. Duality gap: 2.912e+00, tolerance: 2.798e-02\n",
      "  model = cd_fast.enet_coordinate_descent(\n"
     ]
    },
    {
     "name": "stdout",
     "output_type": "stream",
     "text": [
      "[step_eval] step=40, done=6, total=6, hp_idx=4, fe_idx=1, score=0.40811\n",
      "[step_done] step=40, best_score=0.143304\n",
      "[step_predict] step=41, of=299, date=2003-06-01\n",
      "[step_search_start] step=41, hp=4, fe=3, expected_evals=6\n",
      "[step_eval] step=41, done=1, total=6, hp_idx=1, fe_idx=1, score=1.570118\n"
     ]
    },
    {
     "name": "stderr",
     "output_type": "stream",
     "text": [
      "/Library/Frameworks/Python.framework/Versions/3.12/lib/python3.12/site-packages/sklearn/linear_model/_coordinate_descent.py:697: ConvergenceWarning: Objective did not converge. You might want to increase the number of iterations, check the scale of the features or consider increasing regularisation. Duality gap: 1.136e+00, tolerance: 2.803e-02\n",
      "  model = cd_fast.enet_coordinate_descent(\n"
     ]
    },
    {
     "name": "stdout",
     "output_type": "stream",
     "text": [
      "[step_eval] step=41, done=2, total=6, hp_idx=1, fe_idx=2, score=2.641272\n"
     ]
    },
    {
     "name": "stderr",
     "output_type": "stream",
     "text": [
      "/Library/Frameworks/Python.framework/Versions/3.12/lib/python3.12/site-packages/sklearn/linear_model/_coordinate_descent.py:697: ConvergenceWarning: Objective did not converge. You might want to increase the number of iterations, check the scale of the features or consider increasing regularisation. Duality gap: 1.802e+00, tolerance: 2.689e-02\n",
      "  model = cd_fast.enet_coordinate_descent(\n"
     ]
    },
    {
     "name": "stdout",
     "output_type": "stream",
     "text": [
      "[step_eval] step=41, done=3, total=6, hp_idx=1, fe_idx=3, score=0.679059\n"
     ]
    },
    {
     "name": "stderr",
     "output_type": "stream",
     "text": [
      "/Library/Frameworks/Python.framework/Versions/3.12/lib/python3.12/site-packages/sklearn/linear_model/_coordinate_descent.py:697: ConvergenceWarning: Objective did not converge. You might want to increase the number of iterations, check the scale of the features or consider increasing regularisation. Duality gap: 3.050e+00, tolerance: 2.803e-02\n",
      "  model = cd_fast.enet_coordinate_descent(\n"
     ]
    },
    {
     "name": "stdout",
     "output_type": "stream",
     "text": [
      "[step_eval] step=41, done=4, total=6, hp_idx=2, fe_idx=1, score=0.135867\n",
      "[step_eval] step=41, done=5, total=6, hp_idx=3, fe_idx=1, score=0.244494\n",
      "[step_eval] step=41, done=6, total=6, hp_idx=4, fe_idx=1, score=0.485141\n",
      "[step_done] step=41, best_score=0.135867\n",
      "[step_predict] step=42, of=299, date=2003-07-01\n"
     ]
    },
    {
     "name": "stderr",
     "output_type": "stream",
     "text": [
      "/Library/Frameworks/Python.framework/Versions/3.12/lib/python3.12/site-packages/sklearn/linear_model/_coordinate_descent.py:697: ConvergenceWarning: Objective did not converge. You might want to increase the number of iterations, check the scale of the features or consider increasing regularisation. Duality gap: 9.582e-02, tolerance: 2.803e-02\n",
      "  model = cd_fast.enet_coordinate_descent(\n"
     ]
    },
    {
     "name": "stdout",
     "output_type": "stream",
     "text": [
      "[step_search_start] step=42, hp=4, fe=3, expected_evals=6\n"
     ]
    },
    {
     "name": "stderr",
     "output_type": "stream",
     "text": [
      "/Library/Frameworks/Python.framework/Versions/3.12/lib/python3.12/site-packages/sklearn/linear_model/_coordinate_descent.py:697: ConvergenceWarning: Objective did not converge. You might want to increase the number of iterations, check the scale of the features or consider increasing regularisation. Duality gap: 8.923e-02, tolerance: 2.806e-02\n",
      "  model = cd_fast.enet_coordinate_descent(\n"
     ]
    },
    {
     "name": "stdout",
     "output_type": "stream",
     "text": [
      "[step_eval] step=42, done=1, total=6, hp_idx=1, fe_idx=1, score=2.326569\n"
     ]
    },
    {
     "name": "stderr",
     "output_type": "stream",
     "text": [
      "/Library/Frameworks/Python.framework/Versions/3.12/lib/python3.12/site-packages/sklearn/linear_model/_coordinate_descent.py:697: ConvergenceWarning: Objective did not converge. You might want to increase the number of iterations, check the scale of the features or consider increasing regularisation. Duality gap: 1.598e+00, tolerance: 2.806e-02\n",
      "  model = cd_fast.enet_coordinate_descent(\n"
     ]
    },
    {
     "name": "stdout",
     "output_type": "stream",
     "text": [
      "[step_eval] step=42, done=2, total=6, hp_idx=1, fe_idx=2, score=3.558807\n"
     ]
    },
    {
     "name": "stderr",
     "output_type": "stream",
     "text": [
      "/Library/Frameworks/Python.framework/Versions/3.12/lib/python3.12/site-packages/sklearn/linear_model/_coordinate_descent.py:697: ConvergenceWarning: Objective did not converge. You might want to increase the number of iterations, check the scale of the features or consider increasing regularisation. Duality gap: 5.048e+00, tolerance: 2.692e-02\n",
      "  model = cd_fast.enet_coordinate_descent(\n"
     ]
    },
    {
     "name": "stdout",
     "output_type": "stream",
     "text": [
      "[step_eval] step=42, done=3, total=6, hp_idx=1, fe_idx=3, score=3.198603\n",
      "[step_eval] step=42, done=4, total=6, hp_idx=2, fe_idx=1, score=2.097718\n",
      "[step_eval] step=42, done=5, total=6, hp_idx=3, fe_idx=1, score=2.787258\n",
      "[step_eval] step=42, done=6, total=6, hp_idx=4, fe_idx=1, score=2.373621\n",
      "[step_done] step=42, best_score=2.097718\n",
      "[step_predict] step=43, of=299, date=2003-08-01\n"
     ]
    },
    {
     "name": "stderr",
     "output_type": "stream",
     "text": [
      "/Library/Frameworks/Python.framework/Versions/3.12/lib/python3.12/site-packages/sklearn/linear_model/_coordinate_descent.py:697: ConvergenceWarning: Objective did not converge. You might want to increase the number of iterations, check the scale of the features or consider increasing regularisation. Duality gap: 1.922e+00, tolerance: 2.806e-02\n",
      "  model = cd_fast.enet_coordinate_descent(\n"
     ]
    },
    {
     "name": "stdout",
     "output_type": "stream",
     "text": [
      "[step_search_start] step=43, hp=4, fe=3, expected_evals=6\n",
      "[step_eval] step=43, done=1, total=6, hp_idx=1, fe_idx=1, score=1.153768\n"
     ]
    },
    {
     "name": "stderr",
     "output_type": "stream",
     "text": [
      "/Library/Frameworks/Python.framework/Versions/3.12/lib/python3.12/site-packages/sklearn/linear_model/_coordinate_descent.py:697: ConvergenceWarning: Objective did not converge. You might want to increase the number of iterations, check the scale of the features or consider increasing regularisation. Duality gap: 1.792e+00, tolerance: 2.847e-02\n",
      "  model = cd_fast.enet_coordinate_descent(\n"
     ]
    },
    {
     "name": "stdout",
     "output_type": "stream",
     "text": [
      "[step_eval] step=43, done=2, total=6, hp_idx=1, fe_idx=2, score=2.870134\n"
     ]
    },
    {
     "name": "stderr",
     "output_type": "stream",
     "text": [
      "/Library/Frameworks/Python.framework/Versions/3.12/lib/python3.12/site-packages/sklearn/linear_model/_coordinate_descent.py:697: ConvergenceWarning: Objective did not converge. You might want to increase the number of iterations, check the scale of the features or consider increasing regularisation. Duality gap: 1.766e+00, tolerance: 2.733e-02\n",
      "  model = cd_fast.enet_coordinate_descent(\n"
     ]
    },
    {
     "name": "stdout",
     "output_type": "stream",
     "text": [
      "[step_eval] step=43, done=3, total=6, hp_idx=1, fe_idx=3, score=3.892127\n",
      "[step_eval] step=43, done=4, total=6, hp_idx=2, fe_idx=1, score=1.150387\n",
      "[step_eval] step=43, done=5, total=6, hp_idx=3, fe_idx=1, score=1.374601\n",
      "[step_eval] step=43, done=6, total=6, hp_idx=4, fe_idx=1, score=1.863703\n",
      "[step_done] step=43, best_score=1.150387\n",
      "[step_predict] step=44, of=299, date=2003-09-01\n"
     ]
    },
    {
     "name": "stderr",
     "output_type": "stream",
     "text": [
      "/Library/Frameworks/Python.framework/Versions/3.12/lib/python3.12/site-packages/sklearn/linear_model/_coordinate_descent.py:697: ConvergenceWarning: Objective did not converge. You might want to increase the number of iterations, check the scale of the features or consider increasing regularisation. Duality gap: 6.131e+00, tolerance: 2.847e-02\n",
      "  model = cd_fast.enet_coordinate_descent(\n"
     ]
    },
    {
     "name": "stdout",
     "output_type": "stream",
     "text": [
      "[step_search_start] step=44, hp=4, fe=3, expected_evals=6\n",
      "[step_eval] step=44, done=1, total=6, hp_idx=1, fe_idx=1, score=1.059443\n"
     ]
    },
    {
     "name": "stderr",
     "output_type": "stream",
     "text": [
      "/Library/Frameworks/Python.framework/Versions/3.12/lib/python3.12/site-packages/sklearn/linear_model/_coordinate_descent.py:697: ConvergenceWarning: Objective did not converge. You might want to increase the number of iterations, check the scale of the features or consider increasing regularisation. Duality gap: 1.269e+00, tolerance: 2.900e-02\n",
      "  model = cd_fast.enet_coordinate_descent(\n"
     ]
    },
    {
     "name": "stdout",
     "output_type": "stream",
     "text": [
      "[step_eval] step=44, done=2, total=6, hp_idx=1, fe_idx=2, score=0.161999\n"
     ]
    },
    {
     "name": "stderr",
     "output_type": "stream",
     "text": [
      "/Library/Frameworks/Python.framework/Versions/3.12/lib/python3.12/site-packages/sklearn/linear_model/_coordinate_descent.py:697: ConvergenceWarning: Objective did not converge. You might want to increase the number of iterations, check the scale of the features or consider increasing regularisation. Duality gap: 2.813e+00, tolerance: 2.786e-02\n",
      "  model = cd_fast.enet_coordinate_descent(\n"
     ]
    },
    {
     "name": "stdout",
     "output_type": "stream",
     "text": [
      "[step_eval] step=44, done=3, total=6, hp_idx=1, fe_idx=3, score=0.916879\n",
      "[step_eval] step=44, done=4, total=6, hp_idx=2, fe_idx=1, score=0.097834\n"
     ]
    },
    {
     "name": "stderr",
     "output_type": "stream",
     "text": [
      "/Library/Frameworks/Python.framework/Versions/3.12/lib/python3.12/site-packages/sklearn/linear_model/_coordinate_descent.py:697: ConvergenceWarning: Objective did not converge. You might want to increase the number of iterations, check the scale of the features or consider increasing regularisation. Duality gap: 1.410e+00, tolerance: 2.900e-02\n",
      "  model = cd_fast.enet_coordinate_descent(\n"
     ]
    },
    {
     "name": "stdout",
     "output_type": "stream",
     "text": [
      "[step_eval] step=44, done=5, total=6, hp_idx=3, fe_idx=1, score=0.128757\n",
      "[step_eval] step=44, done=6, total=6, hp_idx=4, fe_idx=1, score=0.095743\n",
      "[step_done] step=44, best_score=0.095743\n",
      "[step_predict] step=45, of=299, date=2003-10-01\n",
      "[step_search_start] step=45, hp=4, fe=3, expected_evals=6\n",
      "[step_eval] step=45, done=1, total=6, hp_idx=1, fe_idx=1, score=2.118541\n"
     ]
    },
    {
     "name": "stderr",
     "output_type": "stream",
     "text": [
      "/Library/Frameworks/Python.framework/Versions/3.12/lib/python3.12/site-packages/sklearn/linear_model/_coordinate_descent.py:697: ConvergenceWarning: Objective did not converge. You might want to increase the number of iterations, check the scale of the features or consider increasing regularisation. Duality gap: 1.605e+00, tolerance: 2.901e-02\n",
      "  model = cd_fast.enet_coordinate_descent(\n"
     ]
    },
    {
     "name": "stdout",
     "output_type": "stream",
     "text": [
      "[step_eval] step=45, done=2, total=6, hp_idx=1, fe_idx=2, score=3.734409\n"
     ]
    },
    {
     "name": "stderr",
     "output_type": "stream",
     "text": [
      "/Library/Frameworks/Python.framework/Versions/3.12/lib/python3.12/site-packages/sklearn/linear_model/_coordinate_descent.py:697: ConvergenceWarning: Objective did not converge. You might want to increase the number of iterations, check the scale of the features or consider increasing regularisation. Duality gap: 2.620e+00, tolerance: 2.786e-02\n",
      "  model = cd_fast.enet_coordinate_descent(\n"
     ]
    },
    {
     "name": "stdout",
     "output_type": "stream",
     "text": [
      "[step_eval] step=45, done=3, total=6, hp_idx=1, fe_idx=3, score=3.577635\n",
      "[step_eval] step=45, done=4, total=6, hp_idx=2, fe_idx=1, score=1.686839\n",
      "[step_eval] step=45, done=5, total=6, hp_idx=3, fe_idx=1, score=1.8878\n",
      "[step_eval] step=45, done=6, total=6, hp_idx=4, fe_idx=1, score=2.500886\n",
      "[step_done] step=45, best_score=1.686839\n",
      "[step_predict] step=46, of=299, date=2003-11-01\n"
     ]
    },
    {
     "name": "stderr",
     "output_type": "stream",
     "text": [
      "/Library/Frameworks/Python.framework/Versions/3.12/lib/python3.12/site-packages/sklearn/linear_model/_coordinate_descent.py:697: ConvergenceWarning: Objective did not converge. You might want to increase the number of iterations, check the scale of the features or consider increasing regularisation. Duality gap: 1.429e+00, tolerance: 2.901e-02\n",
      "  model = cd_fast.enet_coordinate_descent(\n"
     ]
    },
    {
     "name": "stdout",
     "output_type": "stream",
     "text": [
      "[step_search_start] step=46, hp=4, fe=3, expected_evals=6\n",
      "[step_eval] step=46, done=1, total=6, hp_idx=1, fe_idx=1, score=0.061833\n"
     ]
    },
    {
     "name": "stderr",
     "output_type": "stream",
     "text": [
      "/Library/Frameworks/Python.framework/Versions/3.12/lib/python3.12/site-packages/sklearn/linear_model/_coordinate_descent.py:697: ConvergenceWarning: Objective did not converge. You might want to increase the number of iterations, check the scale of the features or consider increasing regularisation. Duality gap: 1.803e+00, tolerance: 2.958e-02\n",
      "  model = cd_fast.enet_coordinate_descent(\n"
     ]
    },
    {
     "name": "stdout",
     "output_type": "stream",
     "text": [
      "[step_eval] step=46, done=2, total=6, hp_idx=1, fe_idx=2, score=3.16852\n"
     ]
    },
    {
     "name": "stderr",
     "output_type": "stream",
     "text": [
      "/Library/Frameworks/Python.framework/Versions/3.12/lib/python3.12/site-packages/sklearn/linear_model/_coordinate_descent.py:697: ConvergenceWarning: Objective did not converge. You might want to increase the number of iterations, check the scale of the features or consider increasing regularisation. Duality gap: 3.701e+00, tolerance: 2.844e-02\n",
      "  model = cd_fast.enet_coordinate_descent(\n"
     ]
    },
    {
     "name": "stdout",
     "output_type": "stream",
     "text": [
      "[step_eval] step=46, done=3, total=6, hp_idx=1, fe_idx=3, score=0.620172\n",
      "[step_eval] step=46, done=4, total=6, hp_idx=2, fe_idx=1, score=0.380896\n",
      "[step_eval] step=46, done=5, total=6, hp_idx=3, fe_idx=1, score=1.218837\n",
      "[step_eval] step=46, done=6, total=6, hp_idx=4, fe_idx=1, score=0.88885\n",
      "[step_done] step=46, best_score=0.061833\n",
      "[step_predict] step=47, of=299, date=2003-12-01\n"
     ]
    },
    {
     "name": "stderr",
     "output_type": "stream",
     "text": [
      "/Library/Frameworks/Python.framework/Versions/3.12/lib/python3.12/site-packages/sklearn/linear_model/_coordinate_descent.py:697: ConvergenceWarning: Objective did not converge. You might want to increase the number of iterations, check the scale of the features or consider increasing regularisation. Duality gap: 2.208e+00, tolerance: 2.958e-02\n",
      "  model = cd_fast.enet_coordinate_descent(\n"
     ]
    },
    {
     "name": "stdout",
     "output_type": "stream",
     "text": [
      "[step_search_start] step=47, hp=4, fe=3, expected_evals=6\n"
     ]
    },
    {
     "name": "stderr",
     "output_type": "stream",
     "text": [
      "/Library/Frameworks/Python.framework/Versions/3.12/lib/python3.12/site-packages/sklearn/linear_model/_coordinate_descent.py:697: ConvergenceWarning: Objective did not converge. You might want to increase the number of iterations, check the scale of the features or consider increasing regularisation. Duality gap: 1.396e+00, tolerance: 2.965e-02\n",
      "  model = cd_fast.enet_coordinate_descent(\n"
     ]
    },
    {
     "name": "stdout",
     "output_type": "stream",
     "text": [
      "[step_eval] step=47, done=1, total=6, hp_idx=1, fe_idx=1, score=0.25845\n"
     ]
    },
    {
     "name": "stderr",
     "output_type": "stream",
     "text": [
      "/Library/Frameworks/Python.framework/Versions/3.12/lib/python3.12/site-packages/sklearn/linear_model/_coordinate_descent.py:697: ConvergenceWarning: Objective did not converge. You might want to increase the number of iterations, check the scale of the features or consider increasing regularisation. Duality gap: 1.396e+00, tolerance: 2.965e-02\n",
      "  model = cd_fast.enet_coordinate_descent(\n"
     ]
    },
    {
     "name": "stdout",
     "output_type": "stream",
     "text": [
      "[step_eval] step=47, done=2, total=6, hp_idx=1, fe_idx=2, score=1.088511\n"
     ]
    },
    {
     "name": "stderr",
     "output_type": "stream",
     "text": [
      "/Library/Frameworks/Python.framework/Versions/3.12/lib/python3.12/site-packages/sklearn/linear_model/_coordinate_descent.py:697: ConvergenceWarning: Objective did not converge. You might want to increase the number of iterations, check the scale of the features or consider increasing regularisation. Duality gap: 3.967e+00, tolerance: 2.851e-02\n",
      "  model = cd_fast.enet_coordinate_descent(\n"
     ]
    },
    {
     "name": "stdout",
     "output_type": "stream",
     "text": [
      "[step_eval] step=47, done=3, total=6, hp_idx=1, fe_idx=3, score=0.122339\n"
     ]
    },
    {
     "name": "stderr",
     "output_type": "stream",
     "text": [
      "/Library/Frameworks/Python.framework/Versions/3.12/lib/python3.12/site-packages/sklearn/linear_model/_coordinate_descent.py:697: ConvergenceWarning: Objective did not converge. You might want to increase the number of iterations, check the scale of the features or consider increasing regularisation. Duality gap: 2.339e+00, tolerance: 2.965e-02\n",
      "  model = cd_fast.enet_coordinate_descent(\n"
     ]
    },
    {
     "name": "stdout",
     "output_type": "stream",
     "text": [
      "[step_eval] step=47, done=4, total=6, hp_idx=2, fe_idx=1, score=0.149952\n",
      "[step_eval] step=47, done=5, total=6, hp_idx=3, fe_idx=1, score=0.012291\n",
      "[step_eval] step=47, done=6, total=6, hp_idx=4, fe_idx=1, score=0.406527\n",
      "[step_done] step=47, best_score=0.012291\n",
      "[step_predict] step=48, of=299, date=2004-01-01\n",
      "[step_search_start] step=48, hp=4, fe=3, expected_evals=6\n",
      "[step_eval] step=48, done=1, total=6, hp_idx=1, fe_idx=1, score=0.522888\n"
     ]
    },
    {
     "name": "stderr",
     "output_type": "stream",
     "text": [
      "/Library/Frameworks/Python.framework/Versions/3.12/lib/python3.12/site-packages/sklearn/linear_model/_coordinate_descent.py:697: ConvergenceWarning: Objective did not converge. You might want to increase the number of iterations, check the scale of the features or consider increasing regularisation. Duality gap: 1.079e+00, tolerance: 2.965e-02\n",
      "  model = cd_fast.enet_coordinate_descent(\n"
     ]
    },
    {
     "name": "stdout",
     "output_type": "stream",
     "text": [
      "[step_eval] step=48, done=2, total=6, hp_idx=1, fe_idx=2, score=1.857823\n"
     ]
    },
    {
     "name": "stderr",
     "output_type": "stream",
     "text": [
      "/Library/Frameworks/Python.framework/Versions/3.12/lib/python3.12/site-packages/sklearn/linear_model/_coordinate_descent.py:697: ConvergenceWarning: Objective did not converge. You might want to increase the number of iterations, check the scale of the features or consider increasing regularisation. Duality gap: 3.274e+00, tolerance: 2.851e-02\n",
      "  model = cd_fast.enet_coordinate_descent(\n"
     ]
    },
    {
     "name": "stdout",
     "output_type": "stream",
     "text": [
      "[step_eval] step=48, done=3, total=6, hp_idx=1, fe_idx=3, score=0.074979\n"
     ]
    },
    {
     "name": "stderr",
     "output_type": "stream",
     "text": [
      "/Library/Frameworks/Python.framework/Versions/3.12/lib/python3.12/site-packages/sklearn/linear_model/_coordinate_descent.py:697: ConvergenceWarning: Objective did not converge. You might want to increase the number of iterations, check the scale of the features or consider increasing regularisation. Duality gap: 2.426e+00, tolerance: 2.965e-02\n",
      "  model = cd_fast.enet_coordinate_descent(\n"
     ]
    },
    {
     "name": "stdout",
     "output_type": "stream",
     "text": [
      "[step_eval] step=48, done=4, total=6, hp_idx=2, fe_idx=1, score=0.579074\n",
      "[step_eval] step=48, done=5, total=6, hp_idx=3, fe_idx=1, score=0.570727\n",
      "[step_eval] step=48, done=6, total=6, hp_idx=4, fe_idx=1, score=0.822574\n",
      "[step_done] step=48, best_score=0.074979\n",
      "[step_predict] step=49, of=299, date=2004-02-01\n",
      "[step_search_start] step=49, hp=4, fe=3, expected_evals=6\n"
     ]
    },
    {
     "name": "stderr",
     "output_type": "stream",
     "text": [
      "/Library/Frameworks/Python.framework/Versions/3.12/lib/python3.12/site-packages/sklearn/linear_model/_coordinate_descent.py:697: ConvergenceWarning: Objective did not converge. You might want to increase the number of iterations, check the scale of the features or consider increasing regularisation. Duality gap: 2.563e+00, tolerance: 2.965e-02\n",
      "  model = cd_fast.enet_coordinate_descent(\n"
     ]
    },
    {
     "name": "stdout",
     "output_type": "stream",
     "text": [
      "[step_eval] step=49, done=1, total=6, hp_idx=1, fe_idx=1, score=0.962337\n"
     ]
    },
    {
     "name": "stderr",
     "output_type": "stream",
     "text": [
      "/Library/Frameworks/Python.framework/Versions/3.12/lib/python3.12/site-packages/sklearn/linear_model/_coordinate_descent.py:697: ConvergenceWarning: Objective did not converge. You might want to increase the number of iterations, check the scale of the features or consider increasing regularisation. Duality gap: 8.118e-01, tolerance: 2.965e-02\n",
      "  model = cd_fast.enet_coordinate_descent(\n"
     ]
    },
    {
     "name": "stdout",
     "output_type": "stream",
     "text": [
      "[step_eval] step=49, done=2, total=6, hp_idx=1, fe_idx=2, score=1.626448\n"
     ]
    },
    {
     "name": "stderr",
     "output_type": "stream",
     "text": [
      "/Library/Frameworks/Python.framework/Versions/3.12/lib/python3.12/site-packages/sklearn/linear_model/_coordinate_descent.py:697: ConvergenceWarning: Objective did not converge. You might want to increase the number of iterations, check the scale of the features or consider increasing regularisation. Duality gap: 3.296e+00, tolerance: 2.851e-02\n",
      "  model = cd_fast.enet_coordinate_descent(\n"
     ]
    },
    {
     "name": "stdout",
     "output_type": "stream",
     "text": [
      "[step_eval] step=49, done=3, total=6, hp_idx=1, fe_idx=3, score=1.289513\n",
      "[step_eval] step=49, done=4, total=6, hp_idx=2, fe_idx=1, score=0.381025\n",
      "[step_eval] step=49, done=5, total=6, hp_idx=3, fe_idx=1, score=0.374321\n",
      "[step_eval] step=49, done=6, total=6, hp_idx=4, fe_idx=1, score=0.599882\n",
      "[step_done] step=49, best_score=0.374321\n",
      "[step_predict] step=50, of=299, date=2004-03-01\n"
     ]
    },
    {
     "name": "stderr",
     "output_type": "stream",
     "text": [
      "/Library/Frameworks/Python.framework/Versions/3.12/lib/python3.12/site-packages/sklearn/linear_model/_coordinate_descent.py:697: ConvergenceWarning: Objective did not converge. You might want to increase the number of iterations, check the scale of the features or consider increasing regularisation. Duality gap: 2.563e+00, tolerance: 2.965e-02\n",
      "  model = cd_fast.enet_coordinate_descent(\n"
     ]
    },
    {
     "name": "stdout",
     "output_type": "stream",
     "text": [
      "[step_search_start] step=50, hp=4, fe=3, expected_evals=6\n",
      "[step_eval] step=50, done=1, total=6, hp_idx=1, fe_idx=1, score=1.037257\n"
     ]
    },
    {
     "name": "stderr",
     "output_type": "stream",
     "text": [
      "/Library/Frameworks/Python.framework/Versions/3.12/lib/python3.12/site-packages/sklearn/linear_model/_coordinate_descent.py:697: ConvergenceWarning: Objective did not converge. You might want to increase the number of iterations, check the scale of the features or consider increasing regularisation. Duality gap: 1.001e+00, tolerance: 2.966e-02\n",
      "  model = cd_fast.enet_coordinate_descent(\n"
     ]
    },
    {
     "name": "stdout",
     "output_type": "stream",
     "text": [
      "[step_eval] step=50, done=2, total=6, hp_idx=1, fe_idx=2, score=1.142898\n"
     ]
    },
    {
     "name": "stderr",
     "output_type": "stream",
     "text": [
      "/Library/Frameworks/Python.framework/Versions/3.12/lib/python3.12/site-packages/sklearn/linear_model/_coordinate_descent.py:697: ConvergenceWarning: Objective did not converge. You might want to increase the number of iterations, check the scale of the features or consider increasing regularisation. Duality gap: 3.363e+00, tolerance: 2.852e-02\n",
      "  model = cd_fast.enet_coordinate_descent(\n"
     ]
    },
    {
     "name": "stdout",
     "output_type": "stream",
     "text": [
      "[step_eval] step=50, done=3, total=6, hp_idx=1, fe_idx=3, score=0.41279\n"
     ]
    },
    {
     "name": "stderr",
     "output_type": "stream",
     "text": [
      "/Library/Frameworks/Python.framework/Versions/3.12/lib/python3.12/site-packages/sklearn/linear_model/_coordinate_descent.py:697: ConvergenceWarning: Objective did not converge. You might want to increase the number of iterations, check the scale of the features or consider increasing regularisation. Duality gap: 1.703e+00, tolerance: 2.966e-02\n",
      "  model = cd_fast.enet_coordinate_descent(\n"
     ]
    },
    {
     "name": "stdout",
     "output_type": "stream",
     "text": [
      "[step_eval] step=50, done=4, total=6, hp_idx=2, fe_idx=1, score=0.256661\n",
      "[step_eval] step=50, done=5, total=6, hp_idx=3, fe_idx=1, score=0.221585\n",
      "[step_eval] step=50, done=6, total=6, hp_idx=4, fe_idx=1, score=0.352813\n",
      "[step_done] step=50, best_score=0.221585\n",
      "[step_predict] step=51, of=299, date=2004-04-01\n",
      "[step_search_start] step=51, hp=4, fe=3, expected_evals=6\n",
      "[step_eval] step=51, done=1, total=6, hp_idx=1, fe_idx=1, score=3.024726\n"
     ]
    },
    {
     "name": "stderr",
     "output_type": "stream",
     "text": [
      "/Library/Frameworks/Python.framework/Versions/3.12/lib/python3.12/site-packages/sklearn/linear_model/_coordinate_descent.py:697: ConvergenceWarning: Objective did not converge. You might want to increase the number of iterations, check the scale of the features or consider increasing regularisation. Duality gap: 9.139e-01, tolerance: 2.966e-02\n",
      "  model = cd_fast.enet_coordinate_descent(\n"
     ]
    },
    {
     "name": "stdout",
     "output_type": "stream",
     "text": [
      "[step_eval] step=51, done=2, total=6, hp_idx=1, fe_idx=2, score=1.520388\n"
     ]
    },
    {
     "name": "stderr",
     "output_type": "stream",
     "text": [
      "/Library/Frameworks/Python.framework/Versions/3.12/lib/python3.12/site-packages/sklearn/linear_model/_coordinate_descent.py:697: ConvergenceWarning: Objective did not converge. You might want to increase the number of iterations, check the scale of the features or consider increasing regularisation. Duality gap: 3.660e+00, tolerance: 2.852e-02\n",
      "  model = cd_fast.enet_coordinate_descent(\n"
     ]
    },
    {
     "name": "stdout",
     "output_type": "stream",
     "text": [
      "[step_eval] step=51, done=3, total=6, hp_idx=1, fe_idx=3, score=0.084923\n",
      "[step_eval] step=51, done=4, total=6, hp_idx=2, fe_idx=1, score=0.962681\n"
     ]
    },
    {
     "name": "stderr",
     "output_type": "stream",
     "text": [
      "/Library/Frameworks/Python.framework/Versions/3.12/lib/python3.12/site-packages/sklearn/linear_model/_coordinate_descent.py:697: ConvergenceWarning: Objective did not converge. You might want to increase the number of iterations, check the scale of the features or consider increasing regularisation. Duality gap: 1.725e+00, tolerance: 2.966e-02\n",
      "  model = cd_fast.enet_coordinate_descent(\n"
     ]
    },
    {
     "name": "stdout",
     "output_type": "stream",
     "text": [
      "[step_eval] step=51, done=5, total=6, hp_idx=3, fe_idx=1, score=0.444843\n",
      "[step_eval] step=51, done=6, total=6, hp_idx=4, fe_idx=1, score=0.573372\n",
      "[step_done] step=51, best_score=0.084923\n",
      "[step_predict] step=52, of=299, date=2004-05-01\n",
      "[step_search_start] step=52, hp=4, fe=3, expected_evals=6\n"
     ]
    },
    {
     "name": "stderr",
     "output_type": "stream",
     "text": [
      "/Library/Frameworks/Python.framework/Versions/3.12/lib/python3.12/site-packages/sklearn/linear_model/_coordinate_descent.py:697: ConvergenceWarning: Objective did not converge. You might want to increase the number of iterations, check the scale of the features or consider increasing regularisation. Duality gap: 1.693e+00, tolerance: 2.977e-02\n",
      "  model = cd_fast.enet_coordinate_descent(\n"
     ]
    },
    {
     "name": "stdout",
     "output_type": "stream",
     "text": [
      "[step_eval] step=52, done=1, total=6, hp_idx=1, fe_idx=1, score=0.327745\n"
     ]
    },
    {
     "name": "stderr",
     "output_type": "stream",
     "text": [
      "/Library/Frameworks/Python.framework/Versions/3.12/lib/python3.12/site-packages/sklearn/linear_model/_coordinate_descent.py:697: ConvergenceWarning: Objective did not converge. You might want to increase the number of iterations, check the scale of the features or consider increasing regularisation. Duality gap: 1.087e+00, tolerance: 2.977e-02\n",
      "  model = cd_fast.enet_coordinate_descent(\n"
     ]
    },
    {
     "name": "stdout",
     "output_type": "stream",
     "text": [
      "[step_eval] step=52, done=2, total=6, hp_idx=1, fe_idx=2, score=0.313741\n"
     ]
    },
    {
     "name": "stderr",
     "output_type": "stream",
     "text": [
      "/Library/Frameworks/Python.framework/Versions/3.12/lib/python3.12/site-packages/sklearn/linear_model/_coordinate_descent.py:697: ConvergenceWarning: Objective did not converge. You might want to increase the number of iterations, check the scale of the features or consider increasing regularisation. Duality gap: 4.368e+00, tolerance: 2.863e-02\n",
      "  model = cd_fast.enet_coordinate_descent(\n"
     ]
    },
    {
     "name": "stdout",
     "output_type": "stream",
     "text": [
      "[step_eval] step=52, done=3, total=6, hp_idx=1, fe_idx=3, score=3.911944\n"
     ]
    },
    {
     "name": "stderr",
     "output_type": "stream",
     "text": [
      "/Library/Frameworks/Python.framework/Versions/3.12/lib/python3.12/site-packages/sklearn/linear_model/_coordinate_descent.py:697: ConvergenceWarning: Objective did not converge. You might want to increase the number of iterations, check the scale of the features or consider increasing regularisation. Duality gap: 1.693e+00, tolerance: 2.977e-02\n",
      "  model = cd_fast.enet_coordinate_descent(\n"
     ]
    },
    {
     "name": "stdout",
     "output_type": "stream",
     "text": [
      "[step_eval] step=52, done=4, total=6, hp_idx=2, fe_idx=1, score=0.914839\n",
      "[step_eval] step=52, done=5, total=6, hp_idx=3, fe_idx=1, score=0.889513\n",
      "[step_eval] step=52, done=6, total=6, hp_idx=4, fe_idx=1, score=0.858979\n",
      "[step_done] step=52, best_score=0.313741\n",
      "[step_predict] step=53, of=299, date=2004-06-01\n",
      "[step_search_start] step=53, hp=4, fe=3, expected_evals=6\n"
     ]
    },
    {
     "name": "stderr",
     "output_type": "stream",
     "text": [
      "/Library/Frameworks/Python.framework/Versions/3.12/lib/python3.12/site-packages/sklearn/linear_model/_coordinate_descent.py:697: ConvergenceWarning: Objective did not converge. You might want to increase the number of iterations, check the scale of the features or consider increasing regularisation. Duality gap: 5.423e+00, tolerance: 2.871e-02\n",
      "  model = cd_fast.enet_coordinate_descent(\n"
     ]
    },
    {
     "name": "stdout",
     "output_type": "stream",
     "text": [
      "[step_eval] step=53, done=1, total=6, hp_idx=1, fe_idx=1, score=0.51432\n"
     ]
    },
    {
     "name": "stderr",
     "output_type": "stream",
     "text": [
      "/Library/Frameworks/Python.framework/Versions/3.12/lib/python3.12/site-packages/sklearn/linear_model/_coordinate_descent.py:697: ConvergenceWarning: Objective did not converge. You might want to increase the number of iterations, check the scale of the features or consider increasing regularisation. Duality gap: 1.013e+00, tolerance: 2.984e-02\n",
      "  model = cd_fast.enet_coordinate_descent(\n"
     ]
    },
    {
     "name": "stdout",
     "output_type": "stream",
     "text": [
      "[step_eval] step=53, done=2, total=6, hp_idx=1, fe_idx=2, score=0.372315\n"
     ]
    },
    {
     "name": "stderr",
     "output_type": "stream",
     "text": [
      "/Library/Frameworks/Python.framework/Versions/3.12/lib/python3.12/site-packages/sklearn/linear_model/_coordinate_descent.py:697: ConvergenceWarning: Objective did not converge. You might want to increase the number of iterations, check the scale of the features or consider increasing regularisation. Duality gap: 5.423e+00, tolerance: 2.871e-02\n",
      "  model = cd_fast.enet_coordinate_descent(\n"
     ]
    },
    {
     "name": "stdout",
     "output_type": "stream",
     "text": [
      "[step_eval] step=53, done=3, total=6, hp_idx=1, fe_idx=3, score=1.735866\n"
     ]
    },
    {
     "name": "stderr",
     "output_type": "stream",
     "text": [
      "/Library/Frameworks/Python.framework/Versions/3.12/lib/python3.12/site-packages/sklearn/linear_model/_coordinate_descent.py:697: ConvergenceWarning: Objective did not converge. You might want to increase the number of iterations, check the scale of the features or consider increasing regularisation. Duality gap: 1.583e+00, tolerance: 2.984e-02\n",
      "  model = cd_fast.enet_coordinate_descent(\n"
     ]
    },
    {
     "name": "stdout",
     "output_type": "stream",
     "text": [
      "[step_eval] step=53, done=4, total=6, hp_idx=2, fe_idx=1, score=0.767321\n",
      "[step_eval] step=53, done=5, total=6, hp_idx=3, fe_idx=1, score=1.176706\n",
      "[step_eval] step=53, done=6, total=6, hp_idx=4, fe_idx=1, score=0.981097\n",
      "[step_done] step=53, best_score=0.372315\n",
      "[step_predict] step=54, of=299, date=2004-07-01\n",
      "[step_search_start] step=54, hp=4, fe=3, expected_evals=6\n"
     ]
    },
    {
     "name": "stderr",
     "output_type": "stream",
     "text": [
      "/Library/Frameworks/Python.framework/Versions/3.12/lib/python3.12/site-packages/sklearn/linear_model/_coordinate_descent.py:697: ConvergenceWarning: Objective did not converge. You might want to increase the number of iterations, check the scale of the features or consider increasing regularisation. Duality gap: 4.463e+00, tolerance: 2.875e-02\n",
      "  model = cd_fast.enet_coordinate_descent(\n"
     ]
    },
    {
     "name": "stdout",
     "output_type": "stream",
     "text": [
      "[step_eval] step=54, done=1, total=6, hp_idx=1, fe_idx=1, score=0.410137\n"
     ]
    },
    {
     "name": "stderr",
     "output_type": "stream",
     "text": [
      "/Library/Frameworks/Python.framework/Versions/3.12/lib/python3.12/site-packages/sklearn/linear_model/_coordinate_descent.py:697: ConvergenceWarning: Objective did not converge. You might want to increase the number of iterations, check the scale of the features or consider increasing regularisation. Duality gap: 1.018e+00, tolerance: 2.988e-02\n",
      "  model = cd_fast.enet_coordinate_descent(\n"
     ]
    },
    {
     "name": "stdout",
     "output_type": "stream",
     "text": [
      "[step_eval] step=54, done=2, total=6, hp_idx=1, fe_idx=2, score=0.336755\n"
     ]
    },
    {
     "name": "stderr",
     "output_type": "stream",
     "text": [
      "/Library/Frameworks/Python.framework/Versions/3.12/lib/python3.12/site-packages/sklearn/linear_model/_coordinate_descent.py:697: ConvergenceWarning: Objective did not converge. You might want to increase the number of iterations, check the scale of the features or consider increasing regularisation. Duality gap: 4.463e+00, tolerance: 2.875e-02\n",
      "  model = cd_fast.enet_coordinate_descent(\n"
     ]
    },
    {
     "name": "stdout",
     "output_type": "stream",
     "text": [
      "[step_eval] step=54, done=3, total=6, hp_idx=1, fe_idx=3, score=2.381535\n"
     ]
    },
    {
     "name": "stderr",
     "output_type": "stream",
     "text": [
      "/Library/Frameworks/Python.framework/Versions/3.12/lib/python3.12/site-packages/sklearn/linear_model/_coordinate_descent.py:697: ConvergenceWarning: Objective did not converge. You might want to increase the number of iterations, check the scale of the features or consider increasing regularisation. Duality gap: 1.630e+00, tolerance: 2.988e-02\n",
      "  model = cd_fast.enet_coordinate_descent(\n"
     ]
    },
    {
     "name": "stdout",
     "output_type": "stream",
     "text": [
      "[step_eval] step=54, done=4, total=6, hp_idx=2, fe_idx=1, score=0.004158\n",
      "[step_eval] step=54, done=5, total=6, hp_idx=3, fe_idx=1, score=0.667897\n",
      "[step_eval] step=54, done=6, total=6, hp_idx=4, fe_idx=1, score=0.695561\n",
      "[step_done] step=54, best_score=0.004158\n",
      "[step_predict] step=55, of=299, date=2004-08-01\n",
      "[step_search_start] step=55, hp=4, fe=3, expected_evals=6\n",
      "[step_eval] step=55, done=1, total=6, hp_idx=1, fe_idx=1, score=1.951556\n"
     ]
    },
    {
     "name": "stderr",
     "output_type": "stream",
     "text": [
      "/Library/Frameworks/Python.framework/Versions/3.12/lib/python3.12/site-packages/sklearn/linear_model/_coordinate_descent.py:697: ConvergenceWarning: Objective did not converge. You might want to increase the number of iterations, check the scale of the features or consider increasing regularisation. Duality gap: 9.267e-01, tolerance: 2.996e-02\n",
      "  model = cd_fast.enet_coordinate_descent(\n"
     ]
    },
    {
     "name": "stdout",
     "output_type": "stream",
     "text": [
      "[step_eval] step=55, done=2, total=6, hp_idx=1, fe_idx=2, score=2.759458\n"
     ]
    },
    {
     "name": "stderr",
     "output_type": "stream",
     "text": [
      "/Library/Frameworks/Python.framework/Versions/3.12/lib/python3.12/site-packages/sklearn/linear_model/_coordinate_descent.py:697: ConvergenceWarning: Objective did not converge. You might want to increase the number of iterations, check the scale of the features or consider increasing regularisation. Duality gap: 5.170e+00, tolerance: 2.882e-02\n",
      "  model = cd_fast.enet_coordinate_descent(\n"
     ]
    },
    {
     "name": "stdout",
     "output_type": "stream",
     "text": [
      "[step_eval] step=55, done=3, total=6, hp_idx=1, fe_idx=3, score=1.179765\n"
     ]
    },
    {
     "name": "stderr",
     "output_type": "stream",
     "text": [
      "/Library/Frameworks/Python.framework/Versions/3.12/lib/python3.12/site-packages/sklearn/linear_model/_coordinate_descent.py:697: ConvergenceWarning: Objective did not converge. You might want to increase the number of iterations, check the scale of the features or consider increasing regularisation. Duality gap: 2.011e+00, tolerance: 2.996e-02\n",
      "  model = cd_fast.enet_coordinate_descent(\n"
     ]
    },
    {
     "name": "stdout",
     "output_type": "stream",
     "text": [
      "[step_eval] step=55, done=4, total=6, hp_idx=2, fe_idx=1, score=1.077864\n",
      "[step_eval] step=55, done=5, total=6, hp_idx=3, fe_idx=1, score=0.66657\n",
      "[step_eval] step=55, done=6, total=6, hp_idx=4, fe_idx=1, score=1.015475\n",
      "[step_done] step=55, best_score=0.66657\n",
      "[step_predict] step=56, of=299, date=2004-09-01\n",
      "[step_search_start] step=56, hp=4, fe=3, expected_evals=6\n"
     ]
    },
    {
     "name": "stderr",
     "output_type": "stream",
     "text": [
      "/Library/Frameworks/Python.framework/Versions/3.12/lib/python3.12/site-packages/sklearn/linear_model/_coordinate_descent.py:697: ConvergenceWarning: Objective did not converge. You might want to increase the number of iterations, check the scale of the features or consider increasing regularisation. Duality gap: 6.024e-02, tolerance: 2.996e-02\n",
      "  model = cd_fast.enet_coordinate_descent(\n"
     ]
    },
    {
     "name": "stdout",
     "output_type": "stream",
     "text": [
      "[step_eval] step=56, done=1, total=6, hp_idx=1, fe_idx=1, score=0.793594\n"
     ]
    },
    {
     "name": "stderr",
     "output_type": "stream",
     "text": [
      "/Library/Frameworks/Python.framework/Versions/3.12/lib/python3.12/site-packages/sklearn/linear_model/_coordinate_descent.py:697: ConvergenceWarning: Objective did not converge. You might want to increase the number of iterations, check the scale of the features or consider increasing regularisation. Duality gap: 9.372e-01, tolerance: 3.006e-02\n",
      "  model = cd_fast.enet_coordinate_descent(\n"
     ]
    },
    {
     "name": "stdout",
     "output_type": "stream",
     "text": [
      "[step_eval] step=56, done=2, total=6, hp_idx=1, fe_idx=2, score=1.622594\n"
     ]
    },
    {
     "name": "stderr",
     "output_type": "stream",
     "text": [
      "/Library/Frameworks/Python.framework/Versions/3.12/lib/python3.12/site-packages/sklearn/linear_model/_coordinate_descent.py:697: ConvergenceWarning: Objective did not converge. You might want to increase the number of iterations, check the scale of the features or consider increasing regularisation. Duality gap: 4.114e+00, tolerance: 2.892e-02\n",
      "  model = cd_fast.enet_coordinate_descent(\n"
     ]
    },
    {
     "name": "stdout",
     "output_type": "stream",
     "text": [
      "[step_eval] step=56, done=3, total=6, hp_idx=1, fe_idx=3, score=4.632531\n"
     ]
    },
    {
     "name": "stderr",
     "output_type": "stream",
     "text": [
      "/Library/Frameworks/Python.framework/Versions/3.12/lib/python3.12/site-packages/sklearn/linear_model/_coordinate_descent.py:697: ConvergenceWarning: Objective did not converge. You might want to increase the number of iterations, check the scale of the features or consider increasing regularisation. Duality gap: 1.892e+00, tolerance: 3.006e-02\n",
      "  model = cd_fast.enet_coordinate_descent(\n"
     ]
    },
    {
     "name": "stdout",
     "output_type": "stream",
     "text": [
      "[step_eval] step=56, done=4, total=6, hp_idx=2, fe_idx=1, score=0.486233\n",
      "[step_eval] step=56, done=5, total=6, hp_idx=3, fe_idx=1, score=0.194172\n",
      "[step_eval] step=56, done=6, total=6, hp_idx=4, fe_idx=1, score=0.093746\n",
      "[step_done] step=56, best_score=0.093746\n",
      "[step_predict] step=57, of=299, date=2004-10-01\n",
      "[step_search_start] step=57, hp=4, fe=3, expected_evals=6\n",
      "[step_eval] step=57, done=1, total=6, hp_idx=1, fe_idx=1, score=1.498203\n"
     ]
    },
    {
     "name": "stderr",
     "output_type": "stream",
     "text": [
      "/Library/Frameworks/Python.framework/Versions/3.12/lib/python3.12/site-packages/sklearn/linear_model/_coordinate_descent.py:697: ConvergenceWarning: Objective did not converge. You might want to increase the number of iterations, check the scale of the features or consider increasing regularisation. Duality gap: 8.199e-01, tolerance: 3.006e-02\n",
      "  model = cd_fast.enet_coordinate_descent(\n"
     ]
    },
    {
     "name": "stdout",
     "output_type": "stream",
     "text": [
      "[step_eval] step=57, done=2, total=6, hp_idx=1, fe_idx=2, score=0.326871\n"
     ]
    },
    {
     "name": "stderr",
     "output_type": "stream",
     "text": [
      "/Library/Frameworks/Python.framework/Versions/3.12/lib/python3.12/site-packages/sklearn/linear_model/_coordinate_descent.py:697: ConvergenceWarning: Objective did not converge. You might want to increase the number of iterations, check the scale of the features or consider increasing regularisation. Duality gap: 3.061e+00, tolerance: 2.892e-02\n",
      "  model = cd_fast.enet_coordinate_descent(\n"
     ]
    },
    {
     "name": "stdout",
     "output_type": "stream",
     "text": [
      "[step_eval] step=57, done=3, total=6, hp_idx=1, fe_idx=3, score=0.672315\n"
     ]
    },
    {
     "name": "stderr",
     "output_type": "stream",
     "text": [
      "/Library/Frameworks/Python.framework/Versions/3.12/lib/python3.12/site-packages/sklearn/linear_model/_coordinate_descent.py:697: ConvergenceWarning: Objective did not converge. You might want to increase the number of iterations, check the scale of the features or consider increasing regularisation. Duality gap: 2.400e+00, tolerance: 3.006e-02\n",
      "  model = cd_fast.enet_coordinate_descent(\n"
     ]
    },
    {
     "name": "stdout",
     "output_type": "stream",
     "text": [
      "[step_eval] step=57, done=4, total=6, hp_idx=2, fe_idx=1, score=0.354841\n",
      "[step_eval] step=57, done=5, total=6, hp_idx=3, fe_idx=1, score=0.541911\n",
      "[step_eval] step=57, done=6, total=6, hp_idx=4, fe_idx=1, score=0.767993\n",
      "[step_done] step=57, best_score=0.326871\n",
      "[step_predict] step=58, of=299, date=2004-11-01\n",
      "[step_search_start] step=58, hp=4, fe=3, expected_evals=6\n"
     ]
    },
    {
     "name": "stderr",
     "output_type": "stream",
     "text": [
      "/Library/Frameworks/Python.framework/Versions/3.12/lib/python3.12/site-packages/sklearn/linear_model/_coordinate_descent.py:697: ConvergenceWarning: Objective did not converge. You might want to increase the number of iterations, check the scale of the features or consider increasing regularisation. Duality gap: 2.773e+00, tolerance: 2.898e-02\n",
      "  model = cd_fast.enet_coordinate_descent(\n"
     ]
    },
    {
     "name": "stdout",
     "output_type": "stream",
     "text": [
      "[step_eval] step=58, done=1, total=6, hp_idx=1, fe_idx=1, score=6.341976\n"
     ]
    },
    {
     "name": "stderr",
     "output_type": "stream",
     "text": [
      "/Library/Frameworks/Python.framework/Versions/3.12/lib/python3.12/site-packages/sklearn/linear_model/_coordinate_descent.py:697: ConvergenceWarning: Objective did not converge. You might want to increase the number of iterations, check the scale of the features or consider increasing regularisation. Duality gap: 1.061e+00, tolerance: 3.012e-02\n",
      "  model = cd_fast.enet_coordinate_descent(\n"
     ]
    },
    {
     "name": "stdout",
     "output_type": "stream",
     "text": [
      "[step_eval] step=58, done=2, total=6, hp_idx=1, fe_idx=2, score=0.12094\n"
     ]
    },
    {
     "name": "stderr",
     "output_type": "stream",
     "text": [
      "/Library/Frameworks/Python.framework/Versions/3.12/lib/python3.12/site-packages/sklearn/linear_model/_coordinate_descent.py:697: ConvergenceWarning: Objective did not converge. You might want to increase the number of iterations, check the scale of the features or consider increasing regularisation. Duality gap: 2.773e+00, tolerance: 2.898e-02\n",
      "  model = cd_fast.enet_coordinate_descent(\n"
     ]
    },
    {
     "name": "stdout",
     "output_type": "stream",
     "text": [
      "[step_eval] step=58, done=3, total=6, hp_idx=1, fe_idx=3, score=2.170963\n",
      "[step_eval] step=58, done=4, total=6, hp_idx=2, fe_idx=1, score=0.130584\n"
     ]
    },
    {
     "name": "stderr",
     "output_type": "stream",
     "text": [
      "/Library/Frameworks/Python.framework/Versions/3.12/lib/python3.12/site-packages/sklearn/linear_model/_coordinate_descent.py:697: ConvergenceWarning: Objective did not converge. You might want to increase the number of iterations, check the scale of the features or consider increasing regularisation. Duality gap: 1.925e+00, tolerance: 3.012e-02\n",
      "  model = cd_fast.enet_coordinate_descent(\n"
     ]
    },
    {
     "name": "stdout",
     "output_type": "stream",
     "text": [
      "[step_eval] step=58, done=5, total=6, hp_idx=3, fe_idx=1, score=0.591397\n",
      "[step_eval] step=58, done=6, total=6, hp_idx=4, fe_idx=1, score=0.936403\n",
      "[step_done] step=58, best_score=0.12094\n",
      "[step_predict] step=59, of=299, date=2004-12-01\n",
      "[step_search_start] step=59, hp=4, fe=3, expected_evals=6\n"
     ]
    },
    {
     "name": "stderr",
     "output_type": "stream",
     "text": [
      "/Library/Frameworks/Python.framework/Versions/3.12/lib/python3.12/site-packages/sklearn/linear_model/_coordinate_descent.py:697: ConvergenceWarning: Objective did not converge. You might want to increase the number of iterations, check the scale of the features or consider increasing regularisation. Duality gap: 3.133e+00, tolerance: 2.918e-02\n",
      "  model = cd_fast.enet_coordinate_descent(\n"
     ]
    },
    {
     "name": "stdout",
     "output_type": "stream",
     "text": [
      "[step_eval] step=59, done=1, total=6, hp_idx=1, fe_idx=1, score=2.351538\n"
     ]
    },
    {
     "name": "stderr",
     "output_type": "stream",
     "text": [
      "/Library/Frameworks/Python.framework/Versions/3.12/lib/python3.12/site-packages/sklearn/linear_model/_coordinate_descent.py:697: ConvergenceWarning: Objective did not converge. You might want to increase the number of iterations, check the scale of the features or consider increasing regularisation. Duality gap: 2.204e+00, tolerance: 3.032e-02\n",
      "  model = cd_fast.enet_coordinate_descent(\n"
     ]
    },
    {
     "name": "stdout",
     "output_type": "stream",
     "text": [
      "[step_eval] step=59, done=2, total=6, hp_idx=1, fe_idx=2, score=1.46759\n"
     ]
    },
    {
     "name": "stderr",
     "output_type": "stream",
     "text": [
      "/Library/Frameworks/Python.framework/Versions/3.12/lib/python3.12/site-packages/sklearn/linear_model/_coordinate_descent.py:697: ConvergenceWarning: Objective did not converge. You might want to increase the number of iterations, check the scale of the features or consider increasing regularisation. Duality gap: 3.133e+00, tolerance: 2.918e-02\n",
      "  model = cd_fast.enet_coordinate_descent(\n"
     ]
    },
    {
     "name": "stdout",
     "output_type": "stream",
     "text": [
      "[step_eval] step=59, done=3, total=6, hp_idx=1, fe_idx=3, score=0.352081\n"
     ]
    },
    {
     "name": "stderr",
     "output_type": "stream",
     "text": [
      "/Library/Frameworks/Python.framework/Versions/3.12/lib/python3.12/site-packages/sklearn/linear_model/_coordinate_descent.py:697: ConvergenceWarning: Objective did not converge. You might want to increase the number of iterations, check the scale of the features or consider increasing regularisation. Duality gap: 2.396e+00, tolerance: 3.032e-02\n",
      "  model = cd_fast.enet_coordinate_descent(\n"
     ]
    },
    {
     "name": "stdout",
     "output_type": "stream",
     "text": [
      "[step_eval] step=59, done=4, total=6, hp_idx=2, fe_idx=1, score=0.607712\n",
      "[step_eval] step=59, done=5, total=6, hp_idx=3, fe_idx=1, score=0.319056\n",
      "[step_eval] step=59, done=6, total=6, hp_idx=4, fe_idx=1, score=0.082551\n",
      "[step_done] step=59, best_score=0.082551\n",
      "[step_predict] step=60, of=299, date=2005-01-01\n",
      "[step_search_start] step=60, hp=4, fe=3, expected_evals=6\n"
     ]
    },
    {
     "name": "stderr",
     "output_type": "stream",
     "text": [
      "/Library/Frameworks/Python.framework/Versions/3.12/lib/python3.12/site-packages/sklearn/linear_model/_coordinate_descent.py:697: ConvergenceWarning: Objective did not converge. You might want to increase the number of iterations, check the scale of the features or consider increasing regularisation. Duality gap: 3.588e-02, tolerance: 3.032e-02\n",
      "  model = cd_fast.enet_coordinate_descent(\n"
     ]
    },
    {
     "name": "stdout",
     "output_type": "stream",
     "text": [
      "[step_eval] step=60, done=1, total=6, hp_idx=1, fe_idx=1, score=3.149413\n"
     ]
    },
    {
     "name": "stderr",
     "output_type": "stream",
     "text": [
      "/Library/Frameworks/Python.framework/Versions/3.12/lib/python3.12/site-packages/sklearn/linear_model/_coordinate_descent.py:697: ConvergenceWarning: Objective did not converge. You might want to increase the number of iterations, check the scale of the features or consider increasing regularisation. Duality gap: 2.072e+00, tolerance: 3.032e-02\n",
      "  model = cd_fast.enet_coordinate_descent(\n"
     ]
    },
    {
     "name": "stdout",
     "output_type": "stream",
     "text": [
      "[step_eval] step=60, done=2, total=6, hp_idx=1, fe_idx=2, score=2.36227\n"
     ]
    },
    {
     "name": "stderr",
     "output_type": "stream",
     "text": [
      "/Library/Frameworks/Python.framework/Versions/3.12/lib/python3.12/site-packages/sklearn/linear_model/_coordinate_descent.py:697: ConvergenceWarning: Objective did not converge. You might want to increase the number of iterations, check the scale of the features or consider increasing regularisation. Duality gap: 2.967e+00, tolerance: 2.918e-02\n",
      "  model = cd_fast.enet_coordinate_descent(\n"
     ]
    },
    {
     "name": "stdout",
     "output_type": "stream",
     "text": [
      "[step_eval] step=60, done=3, total=6, hp_idx=1, fe_idx=3, score=2.453012\n"
     ]
    },
    {
     "name": "stderr",
     "output_type": "stream",
     "text": [
      "/Library/Frameworks/Python.framework/Versions/3.12/lib/python3.12/site-packages/sklearn/linear_model/_coordinate_descent.py:697: ConvergenceWarning: Objective did not converge. You might want to increase the number of iterations, check the scale of the features or consider increasing regularisation. Duality gap: 2.098e+00, tolerance: 3.032e-02\n",
      "  model = cd_fast.enet_coordinate_descent(\n"
     ]
    },
    {
     "name": "stdout",
     "output_type": "stream",
     "text": [
      "[step_eval] step=60, done=4, total=6, hp_idx=2, fe_idx=1, score=2.499138\n",
      "[step_eval] step=60, done=5, total=6, hp_idx=3, fe_idx=1, score=2.821486\n",
      "[step_eval] step=60, done=6, total=6, hp_idx=4, fe_idx=1, score=2.588917\n",
      "[step_done] step=60, best_score=2.36227\n",
      "[step_predict] step=61, of=299, date=2005-02-01\n",
      "[step_search_start] step=61, hp=4, fe=3, expected_evals=6\n"
     ]
    },
    {
     "name": "stderr",
     "output_type": "stream",
     "text": [
      "/Library/Frameworks/Python.framework/Versions/3.12/lib/python3.12/site-packages/sklearn/linear_model/_coordinate_descent.py:697: ConvergenceWarning: Objective did not converge. You might want to increase the number of iterations, check the scale of the features or consider increasing regularisation. Duality gap: 3.704e+00, tolerance: 2.961e-02\n",
      "  model = cd_fast.enet_coordinate_descent(\n"
     ]
    },
    {
     "name": "stdout",
     "output_type": "stream",
     "text": [
      "[step_eval] step=61, done=1, total=6, hp_idx=1, fe_idx=1, score=1.473515\n"
     ]
    },
    {
     "name": "stderr",
     "output_type": "stream",
     "text": [
      "/Library/Frameworks/Python.framework/Versions/3.12/lib/python3.12/site-packages/sklearn/linear_model/_coordinate_descent.py:697: ConvergenceWarning: Objective did not converge. You might want to increase the number of iterations, check the scale of the features or consider increasing regularisation. Duality gap: 2.422e+00, tolerance: 3.075e-02\n",
      "  model = cd_fast.enet_coordinate_descent(\n"
     ]
    },
    {
     "name": "stdout",
     "output_type": "stream",
     "text": [
      "[step_eval] step=61, done=2, total=6, hp_idx=1, fe_idx=2, score=2.801197\n"
     ]
    },
    {
     "name": "stderr",
     "output_type": "stream",
     "text": [
      "/Library/Frameworks/Python.framework/Versions/3.12/lib/python3.12/site-packages/sklearn/linear_model/_coordinate_descent.py:697: ConvergenceWarning: Objective did not converge. You might want to increase the number of iterations, check the scale of the features or consider increasing regularisation. Duality gap: 3.704e+00, tolerance: 2.961e-02\n",
      "  model = cd_fast.enet_coordinate_descent(\n"
     ]
    },
    {
     "name": "stdout",
     "output_type": "stream",
     "text": [
      "[step_eval] step=61, done=3, total=6, hp_idx=1, fe_idx=3, score=2.073935\n"
     ]
    },
    {
     "name": "stderr",
     "output_type": "stream",
     "text": [
      "/Library/Frameworks/Python.framework/Versions/3.12/lib/python3.12/site-packages/sklearn/linear_model/_coordinate_descent.py:697: ConvergenceWarning: Objective did not converge. You might want to increase the number of iterations, check the scale of the features or consider increasing regularisation. Duality gap: 1.658e+00, tolerance: 3.075e-02\n",
      "  model = cd_fast.enet_coordinate_descent(\n"
     ]
    },
    {
     "name": "stdout",
     "output_type": "stream",
     "text": [
      "[step_eval] step=61, done=4, total=6, hp_idx=2, fe_idx=1, score=1.32392\n",
      "[step_eval] step=61, done=5, total=6, hp_idx=3, fe_idx=1, score=1.652862\n",
      "[step_eval] step=61, done=6, total=6, hp_idx=4, fe_idx=1, score=1.697968\n",
      "[step_done] step=61, best_score=1.32392\n",
      "[step_predict] step=62, of=299, date=2005-03-01\n",
      "[step_search_start] step=62, hp=4, fe=3, expected_evals=6\n",
      "[step_eval] step=62, done=1, total=6, hp_idx=1, fe_idx=1, score=1.888048\n"
     ]
    },
    {
     "name": "stderr",
     "output_type": "stream",
     "text": [
      "/Library/Frameworks/Python.framework/Versions/3.12/lib/python3.12/site-packages/sklearn/linear_model/_coordinate_descent.py:697: ConvergenceWarning: Objective did not converge. You might want to increase the number of iterations, check the scale of the features or consider increasing regularisation. Duality gap: 2.339e+00, tolerance: 3.099e-02\n",
      "  model = cd_fast.enet_coordinate_descent(\n"
     ]
    },
    {
     "name": "stdout",
     "output_type": "stream",
     "text": [
      "[step_eval] step=62, done=2, total=6, hp_idx=1, fe_idx=2, score=5.670056\n"
     ]
    },
    {
     "name": "stderr",
     "output_type": "stream",
     "text": [
      "/Library/Frameworks/Python.framework/Versions/3.12/lib/python3.12/site-packages/sklearn/linear_model/_coordinate_descent.py:697: ConvergenceWarning: Objective did not converge. You might want to increase the number of iterations, check the scale of the features or consider increasing regularisation. Duality gap: 3.180e+00, tolerance: 2.985e-02\n",
      "  model = cd_fast.enet_coordinate_descent(\n"
     ]
    },
    {
     "name": "stdout",
     "output_type": "stream",
     "text": [
      "[step_eval] step=62, done=3, total=6, hp_idx=1, fe_idx=3, score=0.156538\n"
     ]
    },
    {
     "name": "stderr",
     "output_type": "stream",
     "text": [
      "/Library/Frameworks/Python.framework/Versions/3.12/lib/python3.12/site-packages/sklearn/linear_model/_coordinate_descent.py:697: ConvergenceWarning: Objective did not converge. You might want to increase the number of iterations, check the scale of the features or consider increasing regularisation. Duality gap: 3.533e+00, tolerance: 3.099e-02\n",
      "  model = cd_fast.enet_coordinate_descent(\n"
     ]
    },
    {
     "name": "stdout",
     "output_type": "stream",
     "text": [
      "[step_eval] step=62, done=4, total=6, hp_idx=2, fe_idx=1, score=0.1455\n",
      "[step_eval] step=62, done=5, total=6, hp_idx=3, fe_idx=1, score=0.780712\n",
      "[step_eval] step=62, done=6, total=6, hp_idx=4, fe_idx=1, score=0.679114\n",
      "[step_done] step=62, best_score=0.1455\n",
      "[step_predict] step=63, of=299, date=2005-04-01\n",
      "[step_search_start] step=63, hp=4, fe=3, expected_evals=6\n",
      "[step_eval] step=63, done=1, total=6, hp_idx=1, fe_idx=1, score=2.825868\n"
     ]
    },
    {
     "name": "stderr",
     "output_type": "stream",
     "text": [
      "/Library/Frameworks/Python.framework/Versions/3.12/lib/python3.12/site-packages/sklearn/linear_model/_coordinate_descent.py:697: ConvergenceWarning: Objective did not converge. You might want to increase the number of iterations, check the scale of the features or consider increasing regularisation. Duality gap: 2.835e+00, tolerance: 3.100e-02\n",
      "  model = cd_fast.enet_coordinate_descent(\n"
     ]
    },
    {
     "name": "stdout",
     "output_type": "stream",
     "text": [
      "[step_eval] step=63, done=2, total=6, hp_idx=1, fe_idx=2, score=0.04913\n"
     ]
    },
    {
     "name": "stderr",
     "output_type": "stream",
     "text": [
      "/Library/Frameworks/Python.framework/Versions/3.12/lib/python3.12/site-packages/sklearn/linear_model/_coordinate_descent.py:697: ConvergenceWarning: Objective did not converge. You might want to increase the number of iterations, check the scale of the features or consider increasing regularisation. Duality gap: 1.791e+00, tolerance: 2.986e-02\n",
      "  model = cd_fast.enet_coordinate_descent(\n"
     ]
    },
    {
     "name": "stdout",
     "output_type": "stream",
     "text": [
      "[step_eval] step=63, done=3, total=6, hp_idx=1, fe_idx=3, score=2.294946\n"
     ]
    },
    {
     "name": "stderr",
     "output_type": "stream",
     "text": [
      "/Library/Frameworks/Python.framework/Versions/3.12/lib/python3.12/site-packages/sklearn/linear_model/_coordinate_descent.py:697: ConvergenceWarning: Objective did not converge. You might want to increase the number of iterations, check the scale of the features or consider increasing regularisation. Duality gap: 3.324e+00, tolerance: 3.100e-02\n",
      "  model = cd_fast.enet_coordinate_descent(\n"
     ]
    },
    {
     "name": "stdout",
     "output_type": "stream",
     "text": [
      "[step_eval] step=63, done=4, total=6, hp_idx=2, fe_idx=1, score=0.688178\n",
      "[step_eval] step=63, done=5, total=6, hp_idx=3, fe_idx=1, score=1.692159\n",
      "[step_eval] step=63, done=6, total=6, hp_idx=4, fe_idx=1, score=1.508184\n",
      "[step_done] step=63, best_score=0.04913\n",
      "[step_predict] step=64, of=299, date=2005-05-01\n",
      "[step_search_start] step=64, hp=4, fe=3, expected_evals=6\n"
     ]
    },
    {
     "name": "stderr",
     "output_type": "stream",
     "text": [
      "/Library/Frameworks/Python.framework/Versions/3.12/lib/python3.12/site-packages/sklearn/linear_model/_coordinate_descent.py:697: ConvergenceWarning: Objective did not converge. You might want to increase the number of iterations, check the scale of the features or consider increasing regularisation. Duality gap: 1.800e+00, tolerance: 3.007e-02\n",
      "  model = cd_fast.enet_coordinate_descent(\n"
     ]
    },
    {
     "name": "stdout",
     "output_type": "stream",
     "text": [
      "[step_eval] step=64, done=1, total=6, hp_idx=1, fe_idx=1, score=1.085155\n"
     ]
    },
    {
     "name": "stderr",
     "output_type": "stream",
     "text": [
      "/Library/Frameworks/Python.framework/Versions/3.12/lib/python3.12/site-packages/sklearn/linear_model/_coordinate_descent.py:697: ConvergenceWarning: Objective did not converge. You might want to increase the number of iterations, check the scale of the features or consider increasing regularisation. Duality gap: 3.696e+00, tolerance: 3.121e-02\n",
      "  model = cd_fast.enet_coordinate_descent(\n"
     ]
    },
    {
     "name": "stdout",
     "output_type": "stream",
     "text": [
      "[step_eval] step=64, done=2, total=6, hp_idx=1, fe_idx=2, score=2.599095\n"
     ]
    },
    {
     "name": "stderr",
     "output_type": "stream",
     "text": [
      "/Library/Frameworks/Python.framework/Versions/3.12/lib/python3.12/site-packages/sklearn/linear_model/_coordinate_descent.py:697: ConvergenceWarning: Objective did not converge. You might want to increase the number of iterations, check the scale of the features or consider increasing regularisation. Duality gap: 1.800e+00, tolerance: 3.007e-02\n",
      "  model = cd_fast.enet_coordinate_descent(\n"
     ]
    },
    {
     "name": "stdout",
     "output_type": "stream",
     "text": [
      "[step_eval] step=64, done=3, total=6, hp_idx=1, fe_idx=3, score=1.925459\n"
     ]
    },
    {
     "name": "stderr",
     "output_type": "stream",
     "text": [
      "/Library/Frameworks/Python.framework/Versions/3.12/lib/python3.12/site-packages/sklearn/linear_model/_coordinate_descent.py:697: ConvergenceWarning: Objective did not converge. You might want to increase the number of iterations, check the scale of the features or consider increasing regularisation. Duality gap: 2.218e+00, tolerance: 3.121e-02\n",
      "  model = cd_fast.enet_coordinate_descent(\n"
     ]
    },
    {
     "name": "stdout",
     "output_type": "stream",
     "text": [
      "[step_eval] step=64, done=4, total=6, hp_idx=2, fe_idx=1, score=0.693008\n",
      "[step_eval] step=64, done=5, total=6, hp_idx=3, fe_idx=1, score=1.09127\n",
      "[step_eval] step=64, done=6, total=6, hp_idx=4, fe_idx=1, score=1.300911\n",
      "[step_done] step=64, best_score=0.693008\n",
      "[step_predict] step=65, of=299, date=2005-06-01\n",
      "[step_search_start] step=65, hp=4, fe=3, expected_evals=6\n",
      "[step_eval] step=65, done=1, total=6, hp_idx=1, fe_idx=1, score=3.114008\n"
     ]
    },
    {
     "name": "stderr",
     "output_type": "stream",
     "text": [
      "/Library/Frameworks/Python.framework/Versions/3.12/lib/python3.12/site-packages/sklearn/linear_model/_coordinate_descent.py:697: ConvergenceWarning: Objective did not converge. You might want to increase the number of iterations, check the scale of the features or consider increasing regularisation. Duality gap: 2.701e+00, tolerance: 3.132e-02\n",
      "  model = cd_fast.enet_coordinate_descent(\n"
     ]
    },
    {
     "name": "stdout",
     "output_type": "stream",
     "text": [
      "[step_eval] step=65, done=2, total=6, hp_idx=1, fe_idx=2, score=1.522112\n"
     ]
    },
    {
     "name": "stderr",
     "output_type": "stream",
     "text": [
      "/Library/Frameworks/Python.framework/Versions/3.12/lib/python3.12/site-packages/sklearn/linear_model/_coordinate_descent.py:697: ConvergenceWarning: Objective did not converge. You might want to increase the number of iterations, check the scale of the features or consider increasing regularisation. Duality gap: 3.073e+00, tolerance: 3.019e-02\n",
      "  model = cd_fast.enet_coordinate_descent(\n"
     ]
    },
    {
     "name": "stdout",
     "output_type": "stream",
     "text": [
      "[step_eval] step=65, done=3, total=6, hp_idx=1, fe_idx=3, score=2.164051\n"
     ]
    },
    {
     "name": "stderr",
     "output_type": "stream",
     "text": [
      "/Library/Frameworks/Python.framework/Versions/3.12/lib/python3.12/site-packages/sklearn/linear_model/_coordinate_descent.py:697: ConvergenceWarning: Objective did not converge. You might want to increase the number of iterations, check the scale of the features or consider increasing regularisation. Duality gap: 2.648e+00, tolerance: 3.132e-02\n",
      "  model = cd_fast.enet_coordinate_descent(\n"
     ]
    },
    {
     "name": "stdout",
     "output_type": "stream",
     "text": [
      "[step_eval] step=65, done=4, total=6, hp_idx=2, fe_idx=1, score=1.379244\n",
      "[step_eval] step=65, done=5, total=6, hp_idx=3, fe_idx=1, score=1.821545\n",
      "[step_eval] step=65, done=6, total=6, hp_idx=4, fe_idx=1, score=1.962721\n",
      "[step_done] step=65, best_score=1.379244\n",
      "[step_predict] step=66, of=299, date=2005-07-01\n",
      "[step_search_start] step=66, hp=4, fe=3, expected_evals=6\n",
      "[step_eval] step=66, done=1, total=6, hp_idx=1, fe_idx=1, score=0.240847\n"
     ]
    },
    {
     "name": "stderr",
     "output_type": "stream",
     "text": [
      "/Library/Frameworks/Python.framework/Versions/3.12/lib/python3.12/site-packages/sklearn/linear_model/_coordinate_descent.py:697: ConvergenceWarning: Objective did not converge. You might want to increase the number of iterations, check the scale of the features or consider increasing regularisation. Duality gap: 3.854e+00, tolerance: 3.164e-02\n",
      "  model = cd_fast.enet_coordinate_descent(\n"
     ]
    },
    {
     "name": "stdout",
     "output_type": "stream",
     "text": [
      "[step_eval] step=66, done=2, total=6, hp_idx=1, fe_idx=2, score=0.046553\n"
     ]
    },
    {
     "name": "stderr",
     "output_type": "stream",
     "text": [
      "/Library/Frameworks/Python.framework/Versions/3.12/lib/python3.12/site-packages/sklearn/linear_model/_coordinate_descent.py:697: ConvergenceWarning: Objective did not converge. You might want to increase the number of iterations, check the scale of the features or consider increasing regularisation. Duality gap: 2.097e+00, tolerance: 3.051e-02\n",
      "  model = cd_fast.enet_coordinate_descent(\n"
     ]
    },
    {
     "name": "stdout",
     "output_type": "stream",
     "text": [
      "[step_eval] step=66, done=3, total=6, hp_idx=1, fe_idx=3, score=0.023039\n"
     ]
    },
    {
     "name": "stderr",
     "output_type": "stream",
     "text": [
      "/Library/Frameworks/Python.framework/Versions/3.12/lib/python3.12/site-packages/sklearn/linear_model/_coordinate_descent.py:697: ConvergenceWarning: Objective did not converge. You might want to increase the number of iterations, check the scale of the features or consider increasing regularisation. Duality gap: 1.444e+00, tolerance: 3.164e-02\n",
      "  model = cd_fast.enet_coordinate_descent(\n"
     ]
    },
    {
     "name": "stdout",
     "output_type": "stream",
     "text": [
      "[step_eval] step=66, done=4, total=6, hp_idx=2, fe_idx=1, score=0.209029\n",
      "[step_eval] step=66, done=5, total=6, hp_idx=3, fe_idx=1, score=0.928098\n",
      "[step_eval] step=66, done=6, total=6, hp_idx=4, fe_idx=1, score=1.169946\n",
      "[step_done] step=66, best_score=0.023039\n",
      "[step_predict] step=67, of=299, date=2005-08-01\n",
      "[step_search_start] step=67, hp=4, fe=3, expected_evals=6\n"
     ]
    },
    {
     "name": "stderr",
     "output_type": "stream",
     "text": [
      "/Library/Frameworks/Python.framework/Versions/3.12/lib/python3.12/site-packages/sklearn/linear_model/_coordinate_descent.py:697: ConvergenceWarning: Objective did not converge. You might want to increase the number of iterations, check the scale of the features or consider increasing regularisation. Duality gap: 1.504e+00, tolerance: 3.181e-02\n",
      "  model = cd_fast.enet_coordinate_descent(\n"
     ]
    },
    {
     "name": "stdout",
     "output_type": "stream",
     "text": [
      "[step_eval] step=67, done=1, total=6, hp_idx=1, fe_idx=1, score=2.237979\n"
     ]
    },
    {
     "name": "stderr",
     "output_type": "stream",
     "text": [
      "/Library/Frameworks/Python.framework/Versions/3.12/lib/python3.12/site-packages/sklearn/linear_model/_coordinate_descent.py:697: ConvergenceWarning: Objective did not converge. You might want to increase the number of iterations, check the scale of the features or consider increasing regularisation. Duality gap: 2.671e+00, tolerance: 3.181e-02\n",
      "  model = cd_fast.enet_coordinate_descent(\n"
     ]
    },
    {
     "name": "stdout",
     "output_type": "stream",
     "text": [
      "[step_eval] step=67, done=2, total=6, hp_idx=1, fe_idx=2, score=0.288138\n"
     ]
    },
    {
     "name": "stderr",
     "output_type": "stream",
     "text": [
      "/Library/Frameworks/Python.framework/Versions/3.12/lib/python3.12/site-packages/sklearn/linear_model/_coordinate_descent.py:697: ConvergenceWarning: Objective did not converge. You might want to increase the number of iterations, check the scale of the features or consider increasing regularisation. Duality gap: 1.655e+00, tolerance: 3.068e-02\n",
      "  model = cd_fast.enet_coordinate_descent(\n"
     ]
    },
    {
     "name": "stdout",
     "output_type": "stream",
     "text": [
      "[step_eval] step=67, done=3, total=6, hp_idx=1, fe_idx=3, score=2.530568\n",
      "[step_eval] step=67, done=4, total=6, hp_idx=2, fe_idx=1, score=1.421411\n"
     ]
    },
    {
     "name": "stderr",
     "output_type": "stream",
     "text": [
      "/Library/Frameworks/Python.framework/Versions/3.12/lib/python3.12/site-packages/sklearn/linear_model/_coordinate_descent.py:697: ConvergenceWarning: Objective did not converge. You might want to increase the number of iterations, check the scale of the features or consider increasing regularisation. Duality gap: 1.504e+00, tolerance: 3.181e-02\n",
      "  model = cd_fast.enet_coordinate_descent(\n"
     ]
    },
    {
     "name": "stdout",
     "output_type": "stream",
     "text": [
      "[step_eval] step=67, done=5, total=6, hp_idx=3, fe_idx=1, score=2.687412\n",
      "[step_eval] step=67, done=6, total=6, hp_idx=4, fe_idx=1, score=2.761488\n",
      "[step_done] step=67, best_score=0.288138\n",
      "[step_predict] step=68, of=299, date=2005-09-01\n",
      "[step_search_start] step=68, hp=4, fe=3, expected_evals=6\n"
     ]
    },
    {
     "name": "stderr",
     "output_type": "stream",
     "text": [
      "/Library/Frameworks/Python.framework/Versions/3.12/lib/python3.12/site-packages/sklearn/linear_model/_coordinate_descent.py:697: ConvergenceWarning: Objective did not converge. You might want to increase the number of iterations, check the scale of the features or consider increasing regularisation. Duality gap: 2.706e+00, tolerance: 3.143e-02\n",
      "  model = cd_fast.enet_coordinate_descent(\n"
     ]
    },
    {
     "name": "stdout",
     "output_type": "stream",
     "text": [
      "[step_eval] step=68, done=1, total=6, hp_idx=1, fe_idx=1, score=2.45387\n"
     ]
    },
    {
     "name": "stderr",
     "output_type": "stream",
     "text": [
      "/Library/Frameworks/Python.framework/Versions/3.12/lib/python3.12/site-packages/sklearn/linear_model/_coordinate_descent.py:697: ConvergenceWarning: Objective did not converge. You might want to increase the number of iterations, check the scale of the features or consider increasing regularisation. Duality gap: 2.897e+00, tolerance: 3.257e-02\n",
      "  model = cd_fast.enet_coordinate_descent(\n"
     ]
    },
    {
     "name": "stdout",
     "output_type": "stream",
     "text": [
      "[step_eval] step=68, done=2, total=6, hp_idx=1, fe_idx=2, score=5.876103\n"
     ]
    },
    {
     "name": "stderr",
     "output_type": "stream",
     "text": [
      "/Library/Frameworks/Python.framework/Versions/3.12/lib/python3.12/site-packages/sklearn/linear_model/_coordinate_descent.py:697: ConvergenceWarning: Objective did not converge. You might want to increase the number of iterations, check the scale of the features or consider increasing regularisation. Duality gap: 2.706e+00, tolerance: 3.143e-02\n",
      "  model = cd_fast.enet_coordinate_descent(\n"
     ]
    },
    {
     "name": "stdout",
     "output_type": "stream",
     "text": [
      "[step_eval] step=68, done=3, total=6, hp_idx=1, fe_idx=3, score=1.961799\n"
     ]
    },
    {
     "name": "stderr",
     "output_type": "stream",
     "text": [
      "/Library/Frameworks/Python.framework/Versions/3.12/lib/python3.12/site-packages/sklearn/linear_model/_coordinate_descent.py:697: ConvergenceWarning: Objective did not converge. You might want to increase the number of iterations, check the scale of the features or consider increasing regularisation. Duality gap: 3.183e+00, tolerance: 3.257e-02\n",
      "  model = cd_fast.enet_coordinate_descent(\n"
     ]
    },
    {
     "name": "stdout",
     "output_type": "stream",
     "text": [
      "[step_eval] step=68, done=4, total=6, hp_idx=2, fe_idx=1, score=1.813012\n",
      "[step_eval] step=68, done=5, total=6, hp_idx=3, fe_idx=1, score=1.774615\n",
      "[step_eval] step=68, done=6, total=6, hp_idx=4, fe_idx=1, score=2.094558\n",
      "[step_done] step=68, best_score=1.774615\n",
      "[step_predict] step=69, of=299, date=2005-10-01\n",
      "[step_search_start] step=69, hp=4, fe=3, expected_evals=6\n",
      "[step_eval] step=69, done=1, total=6, hp_idx=1, fe_idx=1, score=0.296162\n"
     ]
    },
    {
     "name": "stderr",
     "output_type": "stream",
     "text": [
      "/Library/Frameworks/Python.framework/Versions/3.12/lib/python3.12/site-packages/sklearn/linear_model/_coordinate_descent.py:697: ConvergenceWarning: Objective did not converge. You might want to increase the number of iterations, check the scale of the features or consider increasing regularisation. Duality gap: 2.582e+00, tolerance: 3.307e-02\n",
      "  model = cd_fast.enet_coordinate_descent(\n"
     ]
    },
    {
     "name": "stdout",
     "output_type": "stream",
     "text": [
      "[step_eval] step=69, done=2, total=6, hp_idx=1, fe_idx=2, score=1.975923\n"
     ]
    },
    {
     "name": "stderr",
     "output_type": "stream",
     "text": [
      "/Library/Frameworks/Python.framework/Versions/3.12/lib/python3.12/site-packages/sklearn/linear_model/_coordinate_descent.py:697: ConvergenceWarning: Objective did not converge. You might want to increase the number of iterations, check the scale of the features or consider increasing regularisation. Duality gap: 2.012e+00, tolerance: 3.193e-02\n",
      "  model = cd_fast.enet_coordinate_descent(\n"
     ]
    },
    {
     "name": "stdout",
     "output_type": "stream",
     "text": [
      "[step_eval] step=69, done=3, total=6, hp_idx=1, fe_idx=3, score=0.781481\n"
     ]
    },
    {
     "name": "stderr",
     "output_type": "stream",
     "text": [
      "/Library/Frameworks/Python.framework/Versions/3.12/lib/python3.12/site-packages/sklearn/linear_model/_coordinate_descent.py:697: ConvergenceWarning: Objective did not converge. You might want to increase the number of iterations, check the scale of the features or consider increasing regularisation. Duality gap: 1.476e+00, tolerance: 3.307e-02\n",
      "  model = cd_fast.enet_coordinate_descent(\n"
     ]
    },
    {
     "name": "stdout",
     "output_type": "stream",
     "text": [
      "[step_eval] step=69, done=4, total=6, hp_idx=2, fe_idx=1, score=0.083242\n",
      "[step_eval] step=69, done=5, total=6, hp_idx=3, fe_idx=1, score=1.155555\n",
      "[step_eval] step=69, done=6, total=6, hp_idx=4, fe_idx=1, score=1.426913\n",
      "[step_done] step=69, best_score=0.083242\n",
      "[step_predict] step=70, of=299, date=2005-11-01\n",
      "[step_search_start] step=70, hp=4, fe=3, expected_evals=6\n",
      "[step_eval] step=70, done=1, total=6, hp_idx=1, fe_idx=1, score=2.370058\n"
     ]
    },
    {
     "name": "stderr",
     "output_type": "stream",
     "text": [
      "/Library/Frameworks/Python.framework/Versions/3.12/lib/python3.12/site-packages/sklearn/linear_model/_coordinate_descent.py:697: ConvergenceWarning: Objective did not converge. You might want to increase the number of iterations, check the scale of the features or consider increasing regularisation. Duality gap: 1.312e+00, tolerance: 3.337e-02\n",
      "  model = cd_fast.enet_coordinate_descent(\n"
     ]
    },
    {
     "name": "stdout",
     "output_type": "stream",
     "text": [
      "[step_eval] step=70, done=2, total=6, hp_idx=1, fe_idx=2, score=1.538767\n"
     ]
    },
    {
     "name": "stderr",
     "output_type": "stream",
     "text": [
      "/Library/Frameworks/Python.framework/Versions/3.12/lib/python3.12/site-packages/sklearn/linear_model/_coordinate_descent.py:697: ConvergenceWarning: Objective did not converge. You might want to increase the number of iterations, check the scale of the features or consider increasing regularisation. Duality gap: 1.640e+00, tolerance: 3.223e-02\n",
      "  model = cd_fast.enet_coordinate_descent(\n"
     ]
    },
    {
     "name": "stdout",
     "output_type": "stream",
     "text": [
      "[step_eval] step=70, done=3, total=6, hp_idx=1, fe_idx=3, score=1.927131\n"
     ]
    },
    {
     "name": "stderr",
     "output_type": "stream",
     "text": [
      "/Library/Frameworks/Python.framework/Versions/3.12/lib/python3.12/site-packages/sklearn/linear_model/_coordinate_descent.py:697: ConvergenceWarning: Objective did not converge. You might want to increase the number of iterations, check the scale of the features or consider increasing regularisation. Duality gap: 5.622e-01, tolerance: 3.337e-02\n",
      "  model = cd_fast.enet_coordinate_descent(\n"
     ]
    },
    {
     "name": "stdout",
     "output_type": "stream",
     "text": [
      "[step_eval] step=70, done=4, total=6, hp_idx=2, fe_idx=1, score=1.276038\n",
      "[step_eval] step=70, done=5, total=6, hp_idx=3, fe_idx=1, score=1.565433\n",
      "[step_eval] step=70, done=6, total=6, hp_idx=4, fe_idx=1, score=1.368298\n",
      "[step_done] step=70, best_score=1.276038\n",
      "[step_predict] step=71, of=299, date=2005-12-01\n",
      "[step_search_start] step=71, hp=4, fe=3, expected_evals=6\n",
      "[step_eval] step=71, done=1, total=6, hp_idx=1, fe_idx=1, score=0.66701\n"
     ]
    },
    {
     "name": "stderr",
     "output_type": "stream",
     "text": [
      "/Library/Frameworks/Python.framework/Versions/3.12/lib/python3.12/site-packages/sklearn/linear_model/_coordinate_descent.py:697: ConvergenceWarning: Objective did not converge. You might want to increase the number of iterations, check the scale of the features or consider increasing regularisation. Duality gap: 2.439e+00, tolerance: 3.348e-02\n",
      "  model = cd_fast.enet_coordinate_descent(\n"
     ]
    },
    {
     "name": "stdout",
     "output_type": "stream",
     "text": [
      "[step_eval] step=71, done=2, total=6, hp_idx=1, fe_idx=2, score=0.447452\n"
     ]
    },
    {
     "name": "stderr",
     "output_type": "stream",
     "text": [
      "/Library/Frameworks/Python.framework/Versions/3.12/lib/python3.12/site-packages/sklearn/linear_model/_coordinate_descent.py:697: ConvergenceWarning: Objective did not converge. You might want to increase the number of iterations, check the scale of the features or consider increasing regularisation. Duality gap: 2.014e+00, tolerance: 3.235e-02\n",
      "  model = cd_fast.enet_coordinate_descent(\n"
     ]
    },
    {
     "name": "stdout",
     "output_type": "stream",
     "text": [
      "[step_eval] step=71, done=3, total=6, hp_idx=1, fe_idx=3, score=0.23363\n"
     ]
    },
    {
     "name": "stderr",
     "output_type": "stream",
     "text": [
      "/Library/Frameworks/Python.framework/Versions/3.12/lib/python3.12/site-packages/sklearn/linear_model/_coordinate_descent.py:697: ConvergenceWarning: Objective did not converge. You might want to increase the number of iterations, check the scale of the features or consider increasing regularisation. Duality gap: 1.755e+00, tolerance: 3.348e-02\n",
      "  model = cd_fast.enet_coordinate_descent(\n"
     ]
    },
    {
     "name": "stdout",
     "output_type": "stream",
     "text": [
      "[step_eval] step=71, done=4, total=6, hp_idx=2, fe_idx=1, score=0.154338\n",
      "[step_eval] step=71, done=5, total=6, hp_idx=3, fe_idx=1, score=0.540958\n",
      "[step_eval] step=71, done=6, total=6, hp_idx=4, fe_idx=1, score=0.228863\n",
      "[step_done] step=71, best_score=0.154338\n",
      "[step_predict] step=72, of=299, date=2006-01-01\n"
     ]
    },
    {
     "name": "stderr",
     "output_type": "stream",
     "text": [
      "/Library/Frameworks/Python.framework/Versions/3.12/lib/python3.12/site-packages/sklearn/linear_model/_coordinate_descent.py:697: ConvergenceWarning: Objective did not converge. You might want to increase the number of iterations, check the scale of the features or consider increasing regularisation. Duality gap: 4.495e-02, tolerance: 3.348e-02\n",
      "  model = cd_fast.enet_coordinate_descent(\n"
     ]
    },
    {
     "name": "stdout",
     "output_type": "stream",
     "text": [
      "[step_search_start] step=72, hp=4, fe=3, expected_evals=6\n"
     ]
    },
    {
     "name": "stderr",
     "output_type": "stream",
     "text": [
      "/Library/Frameworks/Python.framework/Versions/3.12/lib/python3.12/site-packages/sklearn/linear_model/_coordinate_descent.py:697: ConvergenceWarning: Objective did not converge. You might want to increase the number of iterations, check the scale of the features or consider increasing regularisation. Duality gap: 4.534e-02, tolerance: 3.349e-02\n",
      "  model = cd_fast.enet_coordinate_descent(\n"
     ]
    },
    {
     "name": "stdout",
     "output_type": "stream",
     "text": [
      "[step_eval] step=72, done=1, total=6, hp_idx=1, fe_idx=1, score=0.297549\n"
     ]
    },
    {
     "name": "stderr",
     "output_type": "stream",
     "text": [
      "/Library/Frameworks/Python.framework/Versions/3.12/lib/python3.12/site-packages/sklearn/linear_model/_coordinate_descent.py:697: ConvergenceWarning: Objective did not converge. You might want to increase the number of iterations, check the scale of the features or consider increasing regularisation. Duality gap: 1.929e+00, tolerance: 3.349e-02\n",
      "  model = cd_fast.enet_coordinate_descent(\n"
     ]
    },
    {
     "name": "stdout",
     "output_type": "stream",
     "text": [
      "[step_eval] step=72, done=2, total=6, hp_idx=1, fe_idx=2, score=0.256728\n"
     ]
    },
    {
     "name": "stderr",
     "output_type": "stream",
     "text": [
      "/Library/Frameworks/Python.framework/Versions/3.12/lib/python3.12/site-packages/sklearn/linear_model/_coordinate_descent.py:697: ConvergenceWarning: Objective did not converge. You might want to increase the number of iterations, check the scale of the features or consider increasing regularisation. Duality gap: 1.626e+00, tolerance: 3.235e-02\n",
      "  model = cd_fast.enet_coordinate_descent(\n"
     ]
    },
    {
     "name": "stdout",
     "output_type": "stream",
     "text": [
      "[step_eval] step=72, done=3, total=6, hp_idx=1, fe_idx=3, score=0.236782\n"
     ]
    },
    {
     "name": "stderr",
     "output_type": "stream",
     "text": [
      "/Library/Frameworks/Python.framework/Versions/3.12/lib/python3.12/site-packages/sklearn/linear_model/_coordinate_descent.py:697: ConvergenceWarning: Objective did not converge. You might want to increase the number of iterations, check the scale of the features or consider increasing regularisation. Duality gap: 1.278e+00, tolerance: 3.349e-02\n",
      "  model = cd_fast.enet_coordinate_descent(\n"
     ]
    },
    {
     "name": "stdout",
     "output_type": "stream",
     "text": [
      "[step_eval] step=72, done=4, total=6, hp_idx=2, fe_idx=1, score=0.310092\n",
      "[step_eval] step=72, done=5, total=6, hp_idx=3, fe_idx=1, score=0.119809\n",
      "[step_eval] step=72, done=6, total=6, hp_idx=4, fe_idx=1, score=0.000628\n",
      "[step_done] step=72, best_score=0.000628\n",
      "[step_predict] step=73, of=299, date=2006-02-01\n",
      "[step_search_start] step=73, hp=4, fe=3, expected_evals=6\n"
     ]
    },
    {
     "name": "stderr",
     "output_type": "stream",
     "text": [
      "/Library/Frameworks/Python.framework/Versions/3.12/lib/python3.12/site-packages/sklearn/linear_model/_coordinate_descent.py:697: ConvergenceWarning: Objective did not converge. You might want to increase the number of iterations, check the scale of the features or consider increasing regularisation. Duality gap: 4.534e-02, tolerance: 3.349e-02\n",
      "  model = cd_fast.enet_coordinate_descent(\n"
     ]
    },
    {
     "name": "stdout",
     "output_type": "stream",
     "text": [
      "[step_eval] step=73, done=1, total=6, hp_idx=1, fe_idx=1, score=2.241198\n"
     ]
    },
    {
     "name": "stderr",
     "output_type": "stream",
     "text": [
      "/Library/Frameworks/Python.framework/Versions/3.12/lib/python3.12/site-packages/sklearn/linear_model/_coordinate_descent.py:697: ConvergenceWarning: Objective did not converge. You might want to increase the number of iterations, check the scale of the features or consider increasing regularisation. Duality gap: 1.653e+00, tolerance: 3.351e-02\n",
      "  model = cd_fast.enet_coordinate_descent(\n"
     ]
    },
    {
     "name": "stdout",
     "output_type": "stream",
     "text": [
      "[step_eval] step=73, done=2, total=6, hp_idx=1, fe_idx=2, score=0.206594\n"
     ]
    },
    {
     "name": "stderr",
     "output_type": "stream",
     "text": [
      "/Library/Frameworks/Python.framework/Versions/3.12/lib/python3.12/site-packages/sklearn/linear_model/_coordinate_descent.py:697: ConvergenceWarning: Objective did not converge. You might want to increase the number of iterations, check the scale of the features or consider increasing regularisation. Duality gap: 1.422e+00, tolerance: 3.238e-02\n",
      "  model = cd_fast.enet_coordinate_descent(\n"
     ]
    },
    {
     "name": "stdout",
     "output_type": "stream",
     "text": [
      "[step_eval] step=73, done=3, total=6, hp_idx=1, fe_idx=3, score=1.380585\n"
     ]
    },
    {
     "name": "stderr",
     "output_type": "stream",
     "text": [
      "/Library/Frameworks/Python.framework/Versions/3.12/lib/python3.12/site-packages/sklearn/linear_model/_coordinate_descent.py:697: ConvergenceWarning: Objective did not converge. You might want to increase the number of iterations, check the scale of the features or consider increasing regularisation. Duality gap: 8.251e-01, tolerance: 3.351e-02\n",
      "  model = cd_fast.enet_coordinate_descent(\n"
     ]
    },
    {
     "name": "stdout",
     "output_type": "stream",
     "text": [
      "[step_eval] step=73, done=4, total=6, hp_idx=2, fe_idx=1, score=0.255025\n",
      "[step_eval] step=73, done=5, total=6, hp_idx=3, fe_idx=1, score=0.187669\n",
      "[step_eval] step=73, done=6, total=6, hp_idx=4, fe_idx=1, score=0.333436\n",
      "[step_done] step=73, best_score=0.187669\n",
      "[step_predict] step=74, of=299, date=2006-03-01\n",
      "[step_search_start] step=74, hp=4, fe=3, expected_evals=6\n",
      "[step_eval] step=74, done=1, total=6, hp_idx=1, fe_idx=1, score=2.122776\n"
     ]
    },
    {
     "name": "stderr",
     "output_type": "stream",
     "text": [
      "/Library/Frameworks/Python.framework/Versions/3.12/lib/python3.12/site-packages/sklearn/linear_model/_coordinate_descent.py:697: ConvergenceWarning: Objective did not converge. You might want to increase the number of iterations, check the scale of the features or consider increasing regularisation. Duality gap: 1.020e+00, tolerance: 3.351e-02\n",
      "  model = cd_fast.enet_coordinate_descent(\n"
     ]
    },
    {
     "name": "stdout",
     "output_type": "stream",
     "text": [
      "[step_eval] step=74, done=2, total=6, hp_idx=1, fe_idx=2, score=0.890448\n"
     ]
    },
    {
     "name": "stderr",
     "output_type": "stream",
     "text": [
      "/Library/Frameworks/Python.framework/Versions/3.12/lib/python3.12/site-packages/sklearn/linear_model/_coordinate_descent.py:697: ConvergenceWarning: Objective did not converge. You might want to increase the number of iterations, check the scale of the features or consider increasing regularisation. Duality gap: 1.311e+00, tolerance: 3.238e-02\n",
      "  model = cd_fast.enet_coordinate_descent(\n"
     ]
    },
    {
     "name": "stdout",
     "output_type": "stream",
     "text": [
      "[step_eval] step=74, done=3, total=6, hp_idx=1, fe_idx=3, score=2.150905\n",
      "[step_eval] step=74, done=4, total=6, hp_idx=2, fe_idx=1, score=1.778022\n"
     ]
    },
    {
     "name": "stderr",
     "output_type": "stream",
     "text": [
      "/Library/Frameworks/Python.framework/Versions/3.12/lib/python3.12/site-packages/sklearn/linear_model/_coordinate_descent.py:697: ConvergenceWarning: Objective did not converge. You might want to increase the number of iterations, check the scale of the features or consider increasing regularisation. Duality gap: 1.096e+00, tolerance: 3.351e-02\n",
      "  model = cd_fast.enet_coordinate_descent(\n"
     ]
    },
    {
     "name": "stdout",
     "output_type": "stream",
     "text": [
      "[step_eval] step=74, done=5, total=6, hp_idx=3, fe_idx=1, score=1.814009\n",
      "[step_eval] step=74, done=6, total=6, hp_idx=4, fe_idx=1, score=1.903735\n",
      "[step_done] step=74, best_score=0.890448\n",
      "[step_predict] step=75, of=299, date=2006-04-01\n",
      "[step_search_start] step=75, hp=4, fe=3, expected_evals=6\n"
     ]
    },
    {
     "name": "stderr",
     "output_type": "stream",
     "text": [
      "/Library/Frameworks/Python.framework/Versions/3.12/lib/python3.12/site-packages/sklearn/linear_model/_coordinate_descent.py:697: ConvergenceWarning: Objective did not converge. You might want to increase the number of iterations, check the scale of the features or consider increasing regularisation. Duality gap: 9.470e-01, tolerance: 3.261e-02\n",
      "  model = cd_fast.enet_coordinate_descent(\n"
     ]
    },
    {
     "name": "stdout",
     "output_type": "stream",
     "text": [
      "[step_eval] step=75, done=1, total=6, hp_idx=1, fe_idx=1, score=3.482127\n"
     ]
    },
    {
     "name": "stderr",
     "output_type": "stream",
     "text": [
      "/Library/Frameworks/Python.framework/Versions/3.12/lib/python3.12/site-packages/sklearn/linear_model/_coordinate_descent.py:697: ConvergenceWarning: Objective did not converge. You might want to increase the number of iterations, check the scale of the features or consider increasing regularisation. Duality gap: 3.571e+00, tolerance: 3.374e-02\n",
      "  model = cd_fast.enet_coordinate_descent(\n"
     ]
    },
    {
     "name": "stdout",
     "output_type": "stream",
     "text": [
      "[step_eval] step=75, done=2, total=6, hp_idx=1, fe_idx=2, score=3.7414\n"
     ]
    },
    {
     "name": "stderr",
     "output_type": "stream",
     "text": [
      "/Library/Frameworks/Python.framework/Versions/3.12/lib/python3.12/site-packages/sklearn/linear_model/_coordinate_descent.py:697: ConvergenceWarning: Objective did not converge. You might want to increase the number of iterations, check the scale of the features or consider increasing regularisation. Duality gap: 9.470e-01, tolerance: 3.261e-02\n",
      "  model = cd_fast.enet_coordinate_descent(\n"
     ]
    },
    {
     "name": "stdout",
     "output_type": "stream",
     "text": [
      "[step_eval] step=75, done=3, total=6, hp_idx=1, fe_idx=3, score=3.211334\n"
     ]
    },
    {
     "name": "stderr",
     "output_type": "stream",
     "text": [
      "/Library/Frameworks/Python.framework/Versions/3.12/lib/python3.12/site-packages/sklearn/linear_model/_coordinate_descent.py:697: ConvergenceWarning: Objective did not converge. You might want to increase the number of iterations, check the scale of the features or consider increasing regularisation. Duality gap: 4.828e+00, tolerance: 3.374e-02\n",
      "  model = cd_fast.enet_coordinate_descent(\n"
     ]
    },
    {
     "name": "stdout",
     "output_type": "stream",
     "text": [
      "[step_eval] step=75, done=4, total=6, hp_idx=2, fe_idx=1, score=3.114622\n",
      "[step_eval] step=75, done=5, total=6, hp_idx=3, fe_idx=1, score=2.177897\n",
      "[step_eval] step=75, done=6, total=6, hp_idx=4, fe_idx=1, score=2.170661\n",
      "[step_done] step=75, best_score=2.170661\n",
      "[step_predict] step=76, of=299, date=2006-05-01\n",
      "[step_search_start] step=76, hp=4, fe=3, expected_evals=6\n"
     ]
    },
    {
     "name": "stderr",
     "output_type": "stream",
     "text": [
      "/Library/Frameworks/Python.framework/Versions/3.12/lib/python3.12/site-packages/sklearn/linear_model/_coordinate_descent.py:697: ConvergenceWarning: Objective did not converge. You might want to increase the number of iterations, check the scale of the features or consider increasing regularisation. Duality gap: 5.184e-02, tolerance: 3.374e-02\n",
      "  model = cd_fast.enet_coordinate_descent(\n"
     ]
    },
    {
     "name": "stdout",
     "output_type": "stream",
     "text": [
      "[step_eval] step=76, done=1, total=6, hp_idx=1, fe_idx=1, score=0.691804\n"
     ]
    },
    {
     "name": "stderr",
     "output_type": "stream",
     "text": [
      "/Library/Frameworks/Python.framework/Versions/3.12/lib/python3.12/site-packages/sklearn/linear_model/_coordinate_descent.py:697: ConvergenceWarning: Objective did not converge. You might want to increase the number of iterations, check the scale of the features or consider increasing regularisation. Duality gap: 1.574e+00, tolerance: 3.454e-02\n",
      "  model = cd_fast.enet_coordinate_descent(\n"
     ]
    },
    {
     "name": "stdout",
     "output_type": "stream",
     "text": [
      "[step_eval] step=76, done=2, total=6, hp_idx=1, fe_idx=2, score=0.774473\n"
     ]
    },
    {
     "name": "stderr",
     "output_type": "stream",
     "text": [
      "/Library/Frameworks/Python.framework/Versions/3.12/lib/python3.12/site-packages/sklearn/linear_model/_coordinate_descent.py:697: ConvergenceWarning: Objective did not converge. You might want to increase the number of iterations, check the scale of the features or consider increasing regularisation. Duality gap: 2.824e+00, tolerance: 3.341e-02\n",
      "  model = cd_fast.enet_coordinate_descent(\n"
     ]
    },
    {
     "name": "stdout",
     "output_type": "stream",
     "text": [
      "[step_eval] step=76, done=3, total=6, hp_idx=1, fe_idx=3, score=0.495248\n"
     ]
    },
    {
     "name": "stderr",
     "output_type": "stream",
     "text": [
      "/Library/Frameworks/Python.framework/Versions/3.12/lib/python3.12/site-packages/sklearn/linear_model/_coordinate_descent.py:697: ConvergenceWarning: Objective did not converge. You might want to increase the number of iterations, check the scale of the features or consider increasing regularisation. Duality gap: 5.167e-01, tolerance: 3.454e-02\n",
      "  model = cd_fast.enet_coordinate_descent(\n"
     ]
    },
    {
     "name": "stdout",
     "output_type": "stream",
     "text": [
      "[step_eval] step=76, done=4, total=6, hp_idx=2, fe_idx=1, score=0.359616\n",
      "[step_eval] step=76, done=5, total=6, hp_idx=3, fe_idx=1, score=0.20502\n",
      "[step_eval] step=76, done=6, total=6, hp_idx=4, fe_idx=1, score=0.420795\n",
      "[step_done] step=76, best_score=0.20502\n",
      "[step_predict] step=77, of=299, date=2006-06-01\n",
      "[step_search_start] step=77, hp=4, fe=3, expected_evals=6\n",
      "[step_eval] step=77, done=1, total=6, hp_idx=1, fe_idx=1, score=0.105863\n"
     ]
    },
    {
     "name": "stderr",
     "output_type": "stream",
     "text": [
      "/Library/Frameworks/Python.framework/Versions/3.12/lib/python3.12/site-packages/sklearn/linear_model/_coordinate_descent.py:697: ConvergenceWarning: Objective did not converge. You might want to increase the number of iterations, check the scale of the features or consider increasing regularisation. Duality gap: 1.500e+00, tolerance: 3.464e-02\n",
      "  model = cd_fast.enet_coordinate_descent(\n"
     ]
    },
    {
     "name": "stdout",
     "output_type": "stream",
     "text": [
      "[step_eval] step=77, done=2, total=6, hp_idx=1, fe_idx=2, score=0.749068\n"
     ]
    },
    {
     "name": "stderr",
     "output_type": "stream",
     "text": [
      "/Library/Frameworks/Python.framework/Versions/3.12/lib/python3.12/site-packages/sklearn/linear_model/_coordinate_descent.py:697: ConvergenceWarning: Objective did not converge. You might want to increase the number of iterations, check the scale of the features or consider increasing regularisation. Duality gap: 2.406e+00, tolerance: 3.351e-02\n",
      "  model = cd_fast.enet_coordinate_descent(\n"
     ]
    },
    {
     "name": "stdout",
     "output_type": "stream",
     "text": [
      "[step_eval] step=77, done=3, total=6, hp_idx=1, fe_idx=3, score=1.1832\n",
      "[step_eval] step=77, done=4, total=6, hp_idx=2, fe_idx=1, score=0.374285\n",
      "[step_eval] step=77, done=5, total=6, hp_idx=3, fe_idx=1, score=0.720872\n"
     ]
    },
    {
     "name": "stderr",
     "output_type": "stream",
     "text": [
      "/Library/Frameworks/Python.framework/Versions/3.12/lib/python3.12/site-packages/sklearn/linear_model/_coordinate_descent.py:697: ConvergenceWarning: Objective did not converge. You might want to increase the number of iterations, check the scale of the features or consider increasing regularisation. Duality gap: 7.163e-01, tolerance: 3.464e-02\n",
      "  model = cd_fast.enet_coordinate_descent(\n"
     ]
    },
    {
     "name": "stdout",
     "output_type": "stream",
     "text": [
      "[step_eval] step=77, done=6, total=6, hp_idx=4, fe_idx=1, score=0.747386\n",
      "[step_done] step=77, best_score=0.105863\n",
      "[step_predict] step=78, of=299, date=2006-07-01\n",
      "[step_search_start] step=78, hp=4, fe=3, expected_evals=6\n"
     ]
    },
    {
     "name": "stderr",
     "output_type": "stream",
     "text": [
      "/Library/Frameworks/Python.framework/Versions/3.12/lib/python3.12/site-packages/sklearn/linear_model/_coordinate_descent.py:697: ConvergenceWarning: Objective did not converge. You might want to increase the number of iterations, check the scale of the features or consider increasing regularisation. Duality gap: 1.615e+00, tolerance: 3.465e-02\n",
      "  model = cd_fast.enet_coordinate_descent(\n"
     ]
    },
    {
     "name": "stdout",
     "output_type": "stream",
     "text": [
      "[step_eval] step=78, done=1, total=6, hp_idx=1, fe_idx=1, score=2.994393\n"
     ]
    },
    {
     "name": "stderr",
     "output_type": "stream",
     "text": [
      "/Library/Frameworks/Python.framework/Versions/3.12/lib/python3.12/site-packages/sklearn/linear_model/_coordinate_descent.py:697: ConvergenceWarning: Objective did not converge. You might want to increase the number of iterations, check the scale of the features or consider increasing regularisation. Duality gap: 1.615e+00, tolerance: 3.465e-02\n",
      "  model = cd_fast.enet_coordinate_descent(\n"
     ]
    },
    {
     "name": "stdout",
     "output_type": "stream",
     "text": [
      "[step_eval] step=78, done=2, total=6, hp_idx=1, fe_idx=2, score=2.307921\n"
     ]
    },
    {
     "name": "stderr",
     "output_type": "stream",
     "text": [
      "/Library/Frameworks/Python.framework/Versions/3.12/lib/python3.12/site-packages/sklearn/linear_model/_coordinate_descent.py:697: ConvergenceWarning: Objective did not converge. You might want to increase the number of iterations, check the scale of the features or consider increasing regularisation. Duality gap: 3.228e+00, tolerance: 3.352e-02\n",
      "  model = cd_fast.enet_coordinate_descent(\n"
     ]
    },
    {
     "name": "stdout",
     "output_type": "stream",
     "text": [
      "[step_eval] step=78, done=3, total=6, hp_idx=1, fe_idx=3, score=0.652391\n"
     ]
    },
    {
     "name": "stderr",
     "output_type": "stream",
     "text": [
      "/Library/Frameworks/Python.framework/Versions/3.12/lib/python3.12/site-packages/sklearn/linear_model/_coordinate_descent.py:697: ConvergenceWarning: Objective did not converge. You might want to increase the number of iterations, check the scale of the features or consider increasing regularisation. Duality gap: 1.262e+00, tolerance: 3.465e-02\n",
      "  model = cd_fast.enet_coordinate_descent(\n"
     ]
    },
    {
     "name": "stdout",
     "output_type": "stream",
     "text": [
      "[step_eval] step=78, done=4, total=6, hp_idx=2, fe_idx=1, score=0.846631\n",
      "[step_eval] step=78, done=5, total=6, hp_idx=3, fe_idx=1, score=1.188141\n",
      "[step_eval] step=78, done=6, total=6, hp_idx=4, fe_idx=1, score=1.054639\n",
      "[step_done] step=78, best_score=0.652391\n",
      "[step_predict] step=79, of=299, date=2006-08-01\n",
      "[step_search_start] step=79, hp=4, fe=3, expected_evals=6\n"
     ]
    },
    {
     "name": "stderr",
     "output_type": "stream",
     "text": [
      "/Library/Frameworks/Python.framework/Versions/3.12/lib/python3.12/site-packages/sklearn/linear_model/_coordinate_descent.py:697: ConvergenceWarning: Objective did not converge. You might want to increase the number of iterations, check the scale of the features or consider increasing regularisation. Duality gap: 2.139e+00, tolerance: 3.485e-02\n",
      "  model = cd_fast.enet_coordinate_descent(\n"
     ]
    },
    {
     "name": "stdout",
     "output_type": "stream",
     "text": [
      "[step_eval] step=79, done=1, total=6, hp_idx=1, fe_idx=1, score=0.063086\n"
     ]
    },
    {
     "name": "stderr",
     "output_type": "stream",
     "text": [
      "/Library/Frameworks/Python.framework/Versions/3.12/lib/python3.12/site-packages/sklearn/linear_model/_coordinate_descent.py:697: ConvergenceWarning: Objective did not converge. You might want to increase the number of iterations, check the scale of the features or consider increasing regularisation. Duality gap: 1.379e+00, tolerance: 3.485e-02\n",
      "  model = cd_fast.enet_coordinate_descent(\n"
     ]
    },
    {
     "name": "stdout",
     "output_type": "stream",
     "text": [
      "[step_eval] step=79, done=2, total=6, hp_idx=1, fe_idx=2, score=2.471219\n"
     ]
    },
    {
     "name": "stderr",
     "output_type": "stream",
     "text": [
      "/Library/Frameworks/Python.framework/Versions/3.12/lib/python3.12/site-packages/sklearn/linear_model/_coordinate_descent.py:697: ConvergenceWarning: Objective did not converge. You might want to increase the number of iterations, check the scale of the features or consider increasing regularisation. Duality gap: 1.395e+00, tolerance: 3.372e-02\n",
      "  model = cd_fast.enet_coordinate_descent(\n"
     ]
    },
    {
     "name": "stdout",
     "output_type": "stream",
     "text": [
      "[step_eval] step=79, done=3, total=6, hp_idx=1, fe_idx=3, score=1.644298\n",
      "[step_eval] step=79, done=4, total=6, hp_idx=2, fe_idx=1, score=0.025267\n"
     ]
    },
    {
     "name": "stderr",
     "output_type": "stream",
     "text": [
      "/Library/Frameworks/Python.framework/Versions/3.12/lib/python3.12/site-packages/sklearn/linear_model/_coordinate_descent.py:697: ConvergenceWarning: Objective did not converge. You might want to increase the number of iterations, check the scale of the features or consider increasing regularisation. Duality gap: 2.139e+00, tolerance: 3.485e-02\n",
      "  model = cd_fast.enet_coordinate_descent(\n"
     ]
    },
    {
     "name": "stdout",
     "output_type": "stream",
     "text": [
      "[step_eval] step=79, done=5, total=6, hp_idx=3, fe_idx=1, score=0.393603\n",
      "[step_eval] step=79, done=6, total=6, hp_idx=4, fe_idx=1, score=0.303643\n",
      "[step_done] step=79, best_score=0.025267\n",
      "[step_predict] step=80, of=299, date=2006-09-01\n",
      "[step_search_start] step=80, hp=4, fe=3, expected_evals=6\n",
      "[step_eval] step=80, done=1, total=6, hp_idx=1, fe_idx=1, score=1.890948\n"
     ]
    },
    {
     "name": "stderr",
     "output_type": "stream",
     "text": [
      "/Library/Frameworks/Python.framework/Versions/3.12/lib/python3.12/site-packages/sklearn/linear_model/_coordinate_descent.py:697: ConvergenceWarning: Objective did not converge. You might want to increase the number of iterations, check the scale of the features or consider increasing regularisation. Duality gap: 1.403e+00, tolerance: 3.486e-02\n",
      "  model = cd_fast.enet_coordinate_descent(\n"
     ]
    },
    {
     "name": "stdout",
     "output_type": "stream",
     "text": [
      "[step_eval] step=80, done=2, total=6, hp_idx=1, fe_idx=2, score=0.181451\n"
     ]
    },
    {
     "name": "stderr",
     "output_type": "stream",
     "text": [
      "/Library/Frameworks/Python.framework/Versions/3.12/lib/python3.12/site-packages/sklearn/linear_model/_coordinate_descent.py:697: ConvergenceWarning: Objective did not converge. You might want to increase the number of iterations, check the scale of the features or consider increasing regularisation. Duality gap: 1.176e+00, tolerance: 3.373e-02\n",
      "  model = cd_fast.enet_coordinate_descent(\n"
     ]
    },
    {
     "name": "stdout",
     "output_type": "stream",
     "text": [
      "[step_eval] step=80, done=3, total=6, hp_idx=1, fe_idx=3, score=1.552412\n"
     ]
    },
    {
     "name": "stderr",
     "output_type": "stream",
     "text": [
      "/Library/Frameworks/Python.framework/Versions/3.12/lib/python3.12/site-packages/sklearn/linear_model/_coordinate_descent.py:697: ConvergenceWarning: Objective did not converge. You might want to increase the number of iterations, check the scale of the features or consider increasing regularisation. Duality gap: 1.835e+00, tolerance: 3.486e-02\n",
      "  model = cd_fast.enet_coordinate_descent(\n"
     ]
    },
    {
     "name": "stdout",
     "output_type": "stream",
     "text": [
      "[step_eval] step=80, done=4, total=6, hp_idx=2, fe_idx=1, score=0.211687\n",
      "[step_eval] step=80, done=5, total=6, hp_idx=3, fe_idx=1, score=0.242795\n",
      "[step_eval] step=80, done=6, total=6, hp_idx=4, fe_idx=1, score=0.402269\n",
      "[step_done] step=80, best_score=0.181451\n",
      "[step_predict] step=81, of=299, date=2006-10-01\n",
      "[step_search_start] step=81, hp=4, fe=3, expected_evals=6\n"
     ]
    },
    {
     "name": "stderr",
     "output_type": "stream",
     "text": [
      "/Library/Frameworks/Python.framework/Versions/3.12/lib/python3.12/site-packages/sklearn/linear_model/_coordinate_descent.py:697: ConvergenceWarning: Objective did not converge. You might want to increase the number of iterations, check the scale of the features or consider increasing regularisation. Duality gap: 1.437e+00, tolerance: 3.374e-02\n",
      "  model = cd_fast.enet_coordinate_descent(\n"
     ]
    },
    {
     "name": "stdout",
     "output_type": "stream",
     "text": [
      "[step_eval] step=81, done=1, total=6, hp_idx=1, fe_idx=1, score=1.439492\n"
     ]
    },
    {
     "name": "stderr",
     "output_type": "stream",
     "text": [
      "/Library/Frameworks/Python.framework/Versions/3.12/lib/python3.12/site-packages/sklearn/linear_model/_coordinate_descent.py:697: ConvergenceWarning: Objective did not converge. You might want to increase the number of iterations, check the scale of the features or consider increasing regularisation. Duality gap: 9.230e-01, tolerance: 3.487e-02\n",
      "  model = cd_fast.enet_coordinate_descent(\n"
     ]
    },
    {
     "name": "stdout",
     "output_type": "stream",
     "text": [
      "[step_eval] step=81, done=2, total=6, hp_idx=1, fe_idx=2, score=0.82456\n"
     ]
    },
    {
     "name": "stderr",
     "output_type": "stream",
     "text": [
      "/Library/Frameworks/Python.framework/Versions/3.12/lib/python3.12/site-packages/sklearn/linear_model/_coordinate_descent.py:697: ConvergenceWarning: Objective did not converge. You might want to increase the number of iterations, check the scale of the features or consider increasing regularisation. Duality gap: 1.437e+00, tolerance: 3.374e-02\n",
      "  model = cd_fast.enet_coordinate_descent(\n"
     ]
    },
    {
     "name": "stdout",
     "output_type": "stream",
     "text": [
      "[step_eval] step=81, done=3, total=6, hp_idx=1, fe_idx=3, score=0.995604\n"
     ]
    },
    {
     "name": "stderr",
     "output_type": "stream",
     "text": [
      "/Library/Frameworks/Python.framework/Versions/3.12/lib/python3.12/site-packages/sklearn/linear_model/_coordinate_descent.py:697: ConvergenceWarning: Objective did not converge. You might want to increase the number of iterations, check the scale of the features or consider increasing regularisation. Duality gap: 1.765e+00, tolerance: 3.487e-02\n",
      "  model = cd_fast.enet_coordinate_descent(\n"
     ]
    },
    {
     "name": "stdout",
     "output_type": "stream",
     "text": [
      "[step_eval] step=81, done=4, total=6, hp_idx=2, fe_idx=1, score=0.648198\n",
      "[step_eval] step=81, done=5, total=6, hp_idx=3, fe_idx=1, score=0.425973\n",
      "[step_eval] step=81, done=6, total=6, hp_idx=4, fe_idx=1, score=0.737171\n",
      "[step_done] step=81, best_score=0.425973\n",
      "[step_predict] step=82, of=299, date=2006-11-01\n",
      "[step_search_start] step=82, hp=4, fe=3, expected_evals=6\n",
      "[step_eval] step=82, done=1, total=6, hp_idx=1, fe_idx=1, score=3.949284\n"
     ]
    },
    {
     "name": "stderr",
     "output_type": "stream",
     "text": [
      "/Library/Frameworks/Python.framework/Versions/3.12/lib/python3.12/site-packages/sklearn/linear_model/_coordinate_descent.py:697: ConvergenceWarning: Objective did not converge. You might want to increase the number of iterations, check the scale of the features or consider increasing regularisation. Duality gap: 1.629e+00, tolerance: 3.488e-02\n",
      "  model = cd_fast.enet_coordinate_descent(\n"
     ]
    },
    {
     "name": "stdout",
     "output_type": "stream",
     "text": [
      "[step_eval] step=82, done=2, total=6, hp_idx=1, fe_idx=2, score=3.583939\n"
     ]
    },
    {
     "name": "stderr",
     "output_type": "stream",
     "text": [
      "/Library/Frameworks/Python.framework/Versions/3.12/lib/python3.12/site-packages/sklearn/linear_model/_coordinate_descent.py:697: ConvergenceWarning: Objective did not converge. You might want to increase the number of iterations, check the scale of the features or consider increasing regularisation. Duality gap: 1.785e+00, tolerance: 3.375e-02\n",
      "  model = cd_fast.enet_coordinate_descent(\n"
     ]
    },
    {
     "name": "stdout",
     "output_type": "stream",
     "text": [
      "[step_eval] step=82, done=3, total=6, hp_idx=1, fe_idx=3, score=0.289844\n"
     ]
    },
    {
     "name": "stderr",
     "output_type": "stream",
     "text": [
      "/Library/Frameworks/Python.framework/Versions/3.12/lib/python3.12/site-packages/sklearn/linear_model/_coordinate_descent.py:697: ConvergenceWarning: Objective did not converge. You might want to increase the number of iterations, check the scale of the features or consider increasing regularisation. Duality gap: 1.325e+00, tolerance: 3.488e-02\n",
      "  model = cd_fast.enet_coordinate_descent(\n"
     ]
    },
    {
     "name": "stdout",
     "output_type": "stream",
     "text": [
      "[step_eval] step=82, done=4, total=6, hp_idx=2, fe_idx=1, score=0.097753\n",
      "[step_eval] step=82, done=5, total=6, hp_idx=3, fe_idx=1, score=0.861806\n",
      "[step_eval] step=82, done=6, total=6, hp_idx=4, fe_idx=1, score=0.856137\n",
      "[step_done] step=82, best_score=0.097753\n",
      "[step_predict] step=83, of=299, date=2006-12-01\n",
      "[step_search_start] step=83, hp=4, fe=3, expected_evals=6\n",
      "[step_eval] step=83, done=1, total=6, hp_idx=1, fe_idx=1, score=1.67974\n"
     ]
    },
    {
     "name": "stderr",
     "output_type": "stream",
     "text": [
      "/Library/Frameworks/Python.framework/Versions/3.12/lib/python3.12/site-packages/sklearn/linear_model/_coordinate_descent.py:697: ConvergenceWarning: Objective did not converge. You might want to increase the number of iterations, check the scale of the features or consider increasing regularisation. Duality gap: 4.236e-01, tolerance: 3.514e-02\n",
      "  model = cd_fast.enet_coordinate_descent(\n"
     ]
    },
    {
     "name": "stdout",
     "output_type": "stream",
     "text": [
      "[step_eval] step=83, done=2, total=6, hp_idx=1, fe_idx=2, score=0.666324\n"
     ]
    },
    {
     "name": "stderr",
     "output_type": "stream",
     "text": [
      "/Library/Frameworks/Python.framework/Versions/3.12/lib/python3.12/site-packages/sklearn/linear_model/_coordinate_descent.py:697: ConvergenceWarning: Objective did not converge. You might want to increase the number of iterations, check the scale of the features or consider increasing regularisation. Duality gap: 1.880e+00, tolerance: 3.401e-02\n",
      "  model = cd_fast.enet_coordinate_descent(\n"
     ]
    },
    {
     "name": "stdout",
     "output_type": "stream",
     "text": [
      "[step_eval] step=83, done=3, total=6, hp_idx=1, fe_idx=3, score=0.947317\n"
     ]
    },
    {
     "name": "stderr",
     "output_type": "stream",
     "text": [
      "/Library/Frameworks/Python.framework/Versions/3.12/lib/python3.12/site-packages/sklearn/linear_model/_coordinate_descent.py:697: ConvergenceWarning: Objective did not converge. You might want to increase the number of iterations, check the scale of the features or consider increasing regularisation. Duality gap: 1.430e+00, tolerance: 3.514e-02\n",
      "  model = cd_fast.enet_coordinate_descent(\n"
     ]
    },
    {
     "name": "stdout",
     "output_type": "stream",
     "text": [
      "[step_eval] step=83, done=4, total=6, hp_idx=2, fe_idx=1, score=1.003272\n",
      "[step_eval] step=83, done=5, total=6, hp_idx=3, fe_idx=1, score=0.218637\n",
      "[step_eval] step=83, done=6, total=6, hp_idx=4, fe_idx=1, score=0.18205\n",
      "[step_done] step=83, best_score=0.18205\n",
      "[step_predict] step=84, of=299, date=2007-01-01\n",
      "[step_search_start] step=84, hp=4, fe=3, expected_evals=6\n",
      "[step_eval] step=84, done=1, total=6, hp_idx=1, fe_idx=1, score=0.154625\n"
     ]
    },
    {
     "name": "stderr",
     "output_type": "stream",
     "text": [
      "/Library/Frameworks/Python.framework/Versions/3.12/lib/python3.12/site-packages/sklearn/linear_model/_coordinate_descent.py:697: ConvergenceWarning: Objective did not converge. You might want to increase the number of iterations, check the scale of the features or consider increasing regularisation. Duality gap: 5.532e-01, tolerance: 3.521e-02\n",
      "  model = cd_fast.enet_coordinate_descent(\n"
     ]
    },
    {
     "name": "stdout",
     "output_type": "stream",
     "text": [
      "[step_eval] step=84, done=2, total=6, hp_idx=1, fe_idx=2, score=2.918592\n"
     ]
    },
    {
     "name": "stderr",
     "output_type": "stream",
     "text": [
      "/Library/Frameworks/Python.framework/Versions/3.12/lib/python3.12/site-packages/sklearn/linear_model/_coordinate_descent.py:697: ConvergenceWarning: Objective did not converge. You might want to increase the number of iterations, check the scale of the features or consider increasing regularisation. Duality gap: 1.471e+00, tolerance: 3.408e-02\n",
      "  model = cd_fast.enet_coordinate_descent(\n"
     ]
    },
    {
     "name": "stdout",
     "output_type": "stream",
     "text": [
      "[step_eval] step=84, done=3, total=6, hp_idx=1, fe_idx=3, score=1.202754\n"
     ]
    },
    {
     "name": "stderr",
     "output_type": "stream",
     "text": [
      "/Library/Frameworks/Python.framework/Versions/3.12/lib/python3.12/site-packages/sklearn/linear_model/_coordinate_descent.py:697: ConvergenceWarning: Objective did not converge. You might want to increase the number of iterations, check the scale of the features or consider increasing regularisation. Duality gap: 1.300e+00, tolerance: 3.521e-02\n",
      "  model = cd_fast.enet_coordinate_descent(\n"
     ]
    },
    {
     "name": "stdout",
     "output_type": "stream",
     "text": [
      "[step_eval] step=84, done=4, total=6, hp_idx=2, fe_idx=1, score=0.165813\n",
      "[step_eval] step=84, done=5, total=6, hp_idx=3, fe_idx=1, score=0.329877\n",
      "[step_eval] step=84, done=6, total=6, hp_idx=4, fe_idx=1, score=0.583933\n",
      "[step_done] step=84, best_score=0.154625\n",
      "[step_predict] step=85, of=299, date=2007-02-01\n",
      "[step_search_start] step=85, hp=4, fe=3, expected_evals=6\n"
     ]
    },
    {
     "name": "stderr",
     "output_type": "stream",
     "text": [
      "/Library/Frameworks/Python.framework/Versions/3.12/lib/python3.12/site-packages/sklearn/linear_model/_coordinate_descent.py:697: ConvergenceWarning: Objective did not converge. You might want to increase the number of iterations, check the scale of the features or consider increasing regularisation. Duality gap: 4.161e-01, tolerance: 3.523e-02\n",
      "  model = cd_fast.enet_coordinate_descent(\n"
     ]
    },
    {
     "name": "stdout",
     "output_type": "stream",
     "text": [
      "[step_eval] step=85, done=1, total=6, hp_idx=1, fe_idx=1, score=2.163575\n"
     ]
    },
    {
     "name": "stderr",
     "output_type": "stream",
     "text": [
      "/Library/Frameworks/Python.framework/Versions/3.12/lib/python3.12/site-packages/sklearn/linear_model/_coordinate_descent.py:697: ConvergenceWarning: Objective did not converge. You might want to increase the number of iterations, check the scale of the features or consider increasing regularisation. Duality gap: 4.161e-01, tolerance: 3.523e-02\n",
      "  model = cd_fast.enet_coordinate_descent(\n"
     ]
    },
    {
     "name": "stdout",
     "output_type": "stream",
     "text": [
      "[step_eval] step=85, done=2, total=6, hp_idx=1, fe_idx=2, score=2.558111\n"
     ]
    },
    {
     "name": "stderr",
     "output_type": "stream",
     "text": [
      "/Library/Frameworks/Python.framework/Versions/3.12/lib/python3.12/site-packages/sklearn/linear_model/_coordinate_descent.py:697: ConvergenceWarning: Objective did not converge. You might want to increase the number of iterations, check the scale of the features or consider increasing regularisation. Duality gap: 2.443e+00, tolerance: 3.410e-02\n",
      "  model = cd_fast.enet_coordinate_descent(\n"
     ]
    },
    {
     "name": "stdout",
     "output_type": "stream",
     "text": [
      "[step_eval] step=85, done=3, total=6, hp_idx=1, fe_idx=3, score=3.271468\n",
      "[step_eval] step=85, done=4, total=6, hp_idx=2, fe_idx=1, score=2.068503\n",
      "[step_eval] step=85, done=5, total=6, hp_idx=3, fe_idx=1, score=0.854054\n",
      "[step_eval] step=85, done=6, total=6, hp_idx=4, fe_idx=1, score=0.440804\n",
      "[step_done] step=85, best_score=0.440804\n",
      "[step_predict] step=86, of=299, date=2007-03-01\n",
      "[step_search_start] step=86, hp=4, fe=3, expected_evals=6\n"
     ]
    },
    {
     "name": "stderr",
     "output_type": "stream",
     "text": [
      "/Library/Frameworks/Python.framework/Versions/3.12/lib/python3.12/site-packages/sklearn/linear_model/_coordinate_descent.py:697: ConvergenceWarning: Objective did not converge. You might want to increase the number of iterations, check the scale of the features or consider increasing regularisation. Duality gap: 1.580e+00, tolerance: 3.523e-02\n",
      "  model = cd_fast.enet_coordinate_descent(\n"
     ]
    },
    {
     "name": "stdout",
     "output_type": "stream",
     "text": [
      "[step_eval] step=86, done=1, total=6, hp_idx=1, fe_idx=1, score=0.27621\n"
     ]
    },
    {
     "name": "stderr",
     "output_type": "stream",
     "text": [
      "/Library/Frameworks/Python.framework/Versions/3.12/lib/python3.12/site-packages/sklearn/linear_model/_coordinate_descent.py:697: ConvergenceWarning: Objective did not converge. You might want to increase the number of iterations, check the scale of the features or consider increasing regularisation. Duality gap: 6.844e-01, tolerance: 3.528e-02\n",
      "  model = cd_fast.enet_coordinate_descent(\n"
     ]
    },
    {
     "name": "stdout",
     "output_type": "stream",
     "text": [
      "[step_eval] step=86, done=2, total=6, hp_idx=1, fe_idx=2, score=0.224738\n"
     ]
    },
    {
     "name": "stderr",
     "output_type": "stream",
     "text": [
      "/Library/Frameworks/Python.framework/Versions/3.12/lib/python3.12/site-packages/sklearn/linear_model/_coordinate_descent.py:697: ConvergenceWarning: Objective did not converge. You might want to increase the number of iterations, check the scale of the features or consider increasing regularisation. Duality gap: 1.692e+00, tolerance: 3.415e-02\n",
      "  model = cd_fast.enet_coordinate_descent(\n"
     ]
    },
    {
     "name": "stdout",
     "output_type": "stream",
     "text": [
      "[step_eval] step=86, done=3, total=6, hp_idx=1, fe_idx=3, score=1.360678\n",
      "[step_eval] step=86, done=4, total=6, hp_idx=2, fe_idx=1, score=0.068353\n",
      "[step_eval] step=86, done=5, total=6, hp_idx=3, fe_idx=1, score=0.007928\n"
     ]
    },
    {
     "name": "stderr",
     "output_type": "stream",
     "text": [
      "/Library/Frameworks/Python.framework/Versions/3.12/lib/python3.12/site-packages/sklearn/linear_model/_coordinate_descent.py:697: ConvergenceWarning: Objective did not converge. You might want to increase the number of iterations, check the scale of the features or consider increasing regularisation. Duality gap: 1.086e+00, tolerance: 3.528e-02\n",
      "  model = cd_fast.enet_coordinate_descent(\n"
     ]
    },
    {
     "name": "stdout",
     "output_type": "stream",
     "text": [
      "[step_eval] step=86, done=6, total=6, hp_idx=4, fe_idx=1, score=0.175091\n",
      "[step_done] step=86, best_score=0.007928\n",
      "[step_predict] step=87, of=299, date=2007-04-01\n",
      "[step_search_start] step=87, hp=4, fe=3, expected_evals=6\n",
      "[step_eval] step=87, done=1, total=6, hp_idx=1, fe_idx=1, score=0.095144\n"
     ]
    },
    {
     "name": "stderr",
     "output_type": "stream",
     "text": [
      "/Library/Frameworks/Python.framework/Versions/3.12/lib/python3.12/site-packages/sklearn/linear_model/_coordinate_descent.py:697: ConvergenceWarning: Objective did not converge. You might want to increase the number of iterations, check the scale of the features or consider increasing regularisation. Duality gap: 4.863e-01, tolerance: 3.528e-02\n",
      "  model = cd_fast.enet_coordinate_descent(\n"
     ]
    },
    {
     "name": "stdout",
     "output_type": "stream",
     "text": [
      "[step_eval] step=87, done=2, total=6, hp_idx=1, fe_idx=2, score=0.939948\n"
     ]
    },
    {
     "name": "stderr",
     "output_type": "stream",
     "text": [
      "/Library/Frameworks/Python.framework/Versions/3.12/lib/python3.12/site-packages/sklearn/linear_model/_coordinate_descent.py:697: ConvergenceWarning: Objective did not converge. You might want to increase the number of iterations, check the scale of the features or consider increasing regularisation. Duality gap: 1.668e+00, tolerance: 3.415e-02\n",
      "  model = cd_fast.enet_coordinate_descent(\n"
     ]
    },
    {
     "name": "stdout",
     "output_type": "stream",
     "text": [
      "[step_eval] step=87, done=3, total=6, hp_idx=1, fe_idx=3, score=0.367393\n",
      "[step_eval] step=87, done=4, total=6, hp_idx=2, fe_idx=1, score=0.195886\n",
      "[step_eval] step=87, done=5, total=6, hp_idx=3, fe_idx=1, score=1.325286\n"
     ]
    },
    {
     "name": "stderr",
     "output_type": "stream",
     "text": [
      "/Library/Frameworks/Python.framework/Versions/3.12/lib/python3.12/site-packages/sklearn/linear_model/_coordinate_descent.py:697: ConvergenceWarning: Objective did not converge. You might want to increase the number of iterations, check the scale of the features or consider increasing regularisation. Duality gap: 1.241e+00, tolerance: 3.528e-02\n",
      "  model = cd_fast.enet_coordinate_descent(\n"
     ]
    },
    {
     "name": "stdout",
     "output_type": "stream",
     "text": [
      "[step_eval] step=87, done=6, total=6, hp_idx=4, fe_idx=1, score=1.321176\n",
      "[step_done] step=87, best_score=0.095144\n",
      "[step_predict] step=88, of=299, date=2007-05-01\n",
      "[step_search_start] step=88, hp=4, fe=3, expected_evals=6\n"
     ]
    },
    {
     "name": "stderr",
     "output_type": "stream",
     "text": [
      "/Library/Frameworks/Python.framework/Versions/3.12/lib/python3.12/site-packages/sklearn/linear_model/_coordinate_descent.py:697: ConvergenceWarning: Objective did not converge. You might want to increase the number of iterations, check the scale of the features or consider increasing regularisation. Duality gap: 2.114e-01, tolerance: 3.541e-02\n",
      "  model = cd_fast.enet_coordinate_descent(\n"
     ]
    },
    {
     "name": "stdout",
     "output_type": "stream",
     "text": [
      "[step_eval] step=88, done=1, total=6, hp_idx=1, fe_idx=1, score=0.46969\n"
     ]
    },
    {
     "name": "stderr",
     "output_type": "stream",
     "text": [
      "/Library/Frameworks/Python.framework/Versions/3.12/lib/python3.12/site-packages/sklearn/linear_model/_coordinate_descent.py:697: ConvergenceWarning: Objective did not converge. You might want to increase the number of iterations, check the scale of the features or consider increasing regularisation. Duality gap: 2.114e-01, tolerance: 3.541e-02\n",
      "  model = cd_fast.enet_coordinate_descent(\n"
     ]
    },
    {
     "name": "stdout",
     "output_type": "stream",
     "text": [
      "[step_eval] step=88, done=2, total=6, hp_idx=1, fe_idx=2, score=2.394311\n"
     ]
    },
    {
     "name": "stderr",
     "output_type": "stream",
     "text": [
      "/Library/Frameworks/Python.framework/Versions/3.12/lib/python3.12/site-packages/sklearn/linear_model/_coordinate_descent.py:697: ConvergenceWarning: Objective did not converge. You might want to increase the number of iterations, check the scale of the features or consider increasing regularisation. Duality gap: 2.342e+00, tolerance: 3.428e-02\n",
      "  model = cd_fast.enet_coordinate_descent(\n"
     ]
    },
    {
     "name": "stdout",
     "output_type": "stream",
     "text": [
      "[step_eval] step=88, done=3, total=6, hp_idx=1, fe_idx=3, score=2.051253\n",
      "[step_eval] step=88, done=4, total=6, hp_idx=2, fe_idx=1, score=0.615722\n",
      "[step_eval] step=88, done=5, total=6, hp_idx=3, fe_idx=1, score=1.012935\n"
     ]
    },
    {
     "name": "stderr",
     "output_type": "stream",
     "text": [
      "/Library/Frameworks/Python.framework/Versions/3.12/lib/python3.12/site-packages/sklearn/linear_model/_coordinate_descent.py:697: ConvergenceWarning: Objective did not converge. You might want to increase the number of iterations, check the scale of the features or consider increasing regularisation. Duality gap: 1.454e+00, tolerance: 3.541e-02\n",
      "  model = cd_fast.enet_coordinate_descent(\n"
     ]
    },
    {
     "name": "stdout",
     "output_type": "stream",
     "text": [
      "[step_eval] step=88, done=6, total=6, hp_idx=4, fe_idx=1, score=1.417401\n",
      "[step_done] step=88, best_score=0.46969\n",
      "[step_predict] step=89, of=299, date=2007-06-01\n",
      "[step_search_start] step=89, hp=4, fe=3, expected_evals=6\n"
     ]
    },
    {
     "name": "stderr",
     "output_type": "stream",
     "text": [
      "/Library/Frameworks/Python.framework/Versions/3.12/lib/python3.12/site-packages/sklearn/linear_model/_coordinate_descent.py:697: ConvergenceWarning: Objective did not converge. You might want to increase the number of iterations, check the scale of the features or consider increasing regularisation. Duality gap: 6.517e-01, tolerance: 3.576e-02\n",
      "  model = cd_fast.enet_coordinate_descent(\n"
     ]
    },
    {
     "name": "stdout",
     "output_type": "stream",
     "text": [
      "[step_eval] step=89, done=1, total=6, hp_idx=1, fe_idx=1, score=0.28742\n"
     ]
    },
    {
     "name": "stderr",
     "output_type": "stream",
     "text": [
      "/Library/Frameworks/Python.framework/Versions/3.12/lib/python3.12/site-packages/sklearn/linear_model/_coordinate_descent.py:697: ConvergenceWarning: Objective did not converge. You might want to increase the number of iterations, check the scale of the features or consider increasing regularisation. Duality gap: 6.517e-01, tolerance: 3.576e-02\n",
      "  model = cd_fast.enet_coordinate_descent(\n"
     ]
    },
    {
     "name": "stdout",
     "output_type": "stream",
     "text": [
      "[step_eval] step=89, done=2, total=6, hp_idx=1, fe_idx=2, score=0.309895\n"
     ]
    },
    {
     "name": "stderr",
     "output_type": "stream",
     "text": [
      "/Library/Frameworks/Python.framework/Versions/3.12/lib/python3.12/site-packages/sklearn/linear_model/_coordinate_descent.py:697: ConvergenceWarning: Objective did not converge. You might want to increase the number of iterations, check the scale of the features or consider increasing regularisation. Duality gap: 1.459e+00, tolerance: 3.463e-02\n",
      "  model = cd_fast.enet_coordinate_descent(\n"
     ]
    },
    {
     "name": "stdout",
     "output_type": "stream",
     "text": [
      "[step_eval] step=89, done=3, total=6, hp_idx=1, fe_idx=3, score=0.86774\n",
      "[step_eval] step=89, done=4, total=6, hp_idx=2, fe_idx=1, score=0.0653\n",
      "[step_eval] step=89, done=5, total=6, hp_idx=3, fe_idx=1, score=0.303199\n"
     ]
    },
    {
     "name": "stderr",
     "output_type": "stream",
     "text": [
      "/Library/Frameworks/Python.framework/Versions/3.12/lib/python3.12/site-packages/sklearn/linear_model/_coordinate_descent.py:697: ConvergenceWarning: Objective did not converge. You might want to increase the number of iterations, check the scale of the features or consider increasing regularisation. Duality gap: 1.136e+00, tolerance: 3.576e-02\n",
      "  model = cd_fast.enet_coordinate_descent(\n"
     ]
    },
    {
     "name": "stdout",
     "output_type": "stream",
     "text": [
      "[step_eval] step=89, done=6, total=6, hp_idx=4, fe_idx=1, score=0.232178\n",
      "[step_done] step=89, best_score=0.0653\n",
      "[step_predict] step=90, of=299, date=2007-07-01\n",
      "[step_search_start] step=90, hp=4, fe=3, expected_evals=6\n",
      "[step_eval] step=90, done=1, total=6, hp_idx=1, fe_idx=1, score=0.930253\n"
     ]
    },
    {
     "name": "stderr",
     "output_type": "stream",
     "text": [
      "/Library/Frameworks/Python.framework/Versions/3.12/lib/python3.12/site-packages/sklearn/linear_model/_coordinate_descent.py:697: ConvergenceWarning: Objective did not converge. You might want to increase the number of iterations, check the scale of the features or consider increasing regularisation. Duality gap: 6.159e-01, tolerance: 3.576e-02\n",
      "  model = cd_fast.enet_coordinate_descent(\n"
     ]
    },
    {
     "name": "stdout",
     "output_type": "stream",
     "text": [
      "[step_eval] step=90, done=2, total=6, hp_idx=1, fe_idx=2, score=1.57558\n"
     ]
    },
    {
     "name": "stderr",
     "output_type": "stream",
     "text": [
      "/Library/Frameworks/Python.framework/Versions/3.12/lib/python3.12/site-packages/sklearn/linear_model/_coordinate_descent.py:697: ConvergenceWarning: Objective did not converge. You might want to increase the number of iterations, check the scale of the features or consider increasing regularisation. Duality gap: 1.391e+00, tolerance: 3.463e-02\n",
      "  model = cd_fast.enet_coordinate_descent(\n"
     ]
    },
    {
     "name": "stdout",
     "output_type": "stream",
     "text": [
      "[step_eval] step=90, done=3, total=6, hp_idx=1, fe_idx=3, score=0.826572\n"
     ]
    },
    {
     "name": "stderr",
     "output_type": "stream",
     "text": [
      "/Library/Frameworks/Python.framework/Versions/3.12/lib/python3.12/site-packages/sklearn/linear_model/_coordinate_descent.py:697: ConvergenceWarning: Objective did not converge. You might want to increase the number of iterations, check the scale of the features or consider increasing regularisation. Duality gap: 1.448e+00, tolerance: 3.576e-02\n",
      "  model = cd_fast.enet_coordinate_descent(\n"
     ]
    },
    {
     "name": "stdout",
     "output_type": "stream",
     "text": [
      "[step_eval] step=90, done=4, total=6, hp_idx=2, fe_idx=1, score=0.6691\n",
      "[step_eval] step=90, done=5, total=6, hp_idx=3, fe_idx=1, score=0.314117\n",
      "[step_eval] step=90, done=6, total=6, hp_idx=4, fe_idx=1, score=0.318676\n",
      "[step_done] step=90, best_score=0.314117\n",
      "[step_predict] step=91, of=299, date=2007-08-01\n",
      "[step_search_start] step=91, hp=4, fe=3, expected_evals=6\n",
      "[step_eval] step=91, done=1, total=6, hp_idx=1, fe_idx=1, score=1.485649\n"
     ]
    },
    {
     "name": "stderr",
     "output_type": "stream",
     "text": [
      "/Library/Frameworks/Python.framework/Versions/3.12/lib/python3.12/site-packages/sklearn/linear_model/_coordinate_descent.py:697: ConvergenceWarning: Objective did not converge. You might want to increase the number of iterations, check the scale of the features or consider increasing regularisation. Duality gap: 4.514e-01, tolerance: 3.578e-02\n",
      "  model = cd_fast.enet_coordinate_descent(\n"
     ]
    },
    {
     "name": "stdout",
     "output_type": "stream",
     "text": [
      "[step_eval] step=91, done=2, total=6, hp_idx=1, fe_idx=2, score=0.903457\n"
     ]
    },
    {
     "name": "stderr",
     "output_type": "stream",
     "text": [
      "/Library/Frameworks/Python.framework/Versions/3.12/lib/python3.12/site-packages/sklearn/linear_model/_coordinate_descent.py:697: ConvergenceWarning: Objective did not converge. You might want to increase the number of iterations, check the scale of the features or consider increasing regularisation. Duality gap: 6.609e-01, tolerance: 3.465e-02\n",
      "  model = cd_fast.enet_coordinate_descent(\n"
     ]
    },
    {
     "name": "stdout",
     "output_type": "stream",
     "text": [
      "[step_eval] step=91, done=3, total=6, hp_idx=1, fe_idx=3, score=0.42541\n"
     ]
    },
    {
     "name": "stderr",
     "output_type": "stream",
     "text": [
      "/Library/Frameworks/Python.framework/Versions/3.12/lib/python3.12/site-packages/sklearn/linear_model/_coordinate_descent.py:697: ConvergenceWarning: Objective did not converge. You might want to increase the number of iterations, check the scale of the features or consider increasing regularisation. Duality gap: 1.441e+00, tolerance: 3.578e-02\n",
      "  model = cd_fast.enet_coordinate_descent(\n"
     ]
    },
    {
     "name": "stdout",
     "output_type": "stream",
     "text": [
      "[step_eval] step=91, done=4, total=6, hp_idx=2, fe_idx=1, score=0.322413\n",
      "[step_eval] step=91, done=5, total=6, hp_idx=3, fe_idx=1, score=0.021593\n",
      "[step_eval] step=91, done=6, total=6, hp_idx=4, fe_idx=1, score=0.034352\n",
      "[step_done] step=91, best_score=0.021593\n",
      "[step_predict] step=92, of=299, date=2007-09-01\n",
      "[step_search_start] step=92, hp=4, fe=3, expected_evals=6\n",
      "[step_eval] step=92, done=1, total=6, hp_idx=1, fe_idx=1, score=1.356516\n"
     ]
    },
    {
     "name": "stderr",
     "output_type": "stream",
     "text": [
      "/Library/Frameworks/Python.framework/Versions/3.12/lib/python3.12/site-packages/sklearn/linear_model/_coordinate_descent.py:697: ConvergenceWarning: Objective did not converge. You might want to increase the number of iterations, check the scale of the features or consider increasing regularisation. Duality gap: 4.477e-01, tolerance: 3.578e-02\n",
      "  model = cd_fast.enet_coordinate_descent(\n"
     ]
    },
    {
     "name": "stdout",
     "output_type": "stream",
     "text": [
      "[step_eval] step=92, done=2, total=6, hp_idx=1, fe_idx=2, score=1.574711\n"
     ]
    },
    {
     "name": "stderr",
     "output_type": "stream",
     "text": [
      "/Library/Frameworks/Python.framework/Versions/3.12/lib/python3.12/site-packages/sklearn/linear_model/_coordinate_descent.py:697: ConvergenceWarning: Objective did not converge. You might want to increase the number of iterations, check the scale of the features or consider increasing regularisation. Duality gap: 7.063e-01, tolerance: 3.465e-02\n",
      "  model = cd_fast.enet_coordinate_descent(\n"
     ]
    },
    {
     "name": "stdout",
     "output_type": "stream",
     "text": [
      "[step_eval] step=92, done=3, total=6, hp_idx=1, fe_idx=3, score=2.099584\n",
      "[step_eval] step=92, done=4, total=6, hp_idx=2, fe_idx=1, score=1.513583\n",
      "[step_eval] step=92, done=5, total=6, hp_idx=3, fe_idx=1, score=0.735949\n",
      "[step_eval] step=92, done=6, total=6, hp_idx=4, fe_idx=1, score=0.608223\n",
      "[step_done] step=92, best_score=0.608223\n",
      "[step_predict] step=93, of=299, date=2007-10-01\n"
     ]
    },
    {
     "name": "stderr",
     "output_type": "stream",
     "text": [
      "/Library/Frameworks/Python.framework/Versions/3.12/lib/python3.12/site-packages/sklearn/linear_model/_coordinate_descent.py:697: ConvergenceWarning: Objective did not converge. You might want to increase the number of iterations, check the scale of the features or consider increasing regularisation. Duality gap: 1.919e+00, tolerance: 3.578e-02\n",
      "  model = cd_fast.enet_coordinate_descent(\n"
     ]
    },
    {
     "name": "stdout",
     "output_type": "stream",
     "text": [
      "[step_search_start] step=93, hp=4, fe=3, expected_evals=6\n",
      "[step_eval] step=93, done=1, total=6, hp_idx=1, fe_idx=1, score=0.556312\n"
     ]
    },
    {
     "name": "stderr",
     "output_type": "stream",
     "text": [
      "/Library/Frameworks/Python.framework/Versions/3.12/lib/python3.12/site-packages/sklearn/linear_model/_coordinate_descent.py:697: ConvergenceWarning: Objective did not converge. You might want to increase the number of iterations, check the scale of the features or consider increasing regularisation. Duality gap: 4.526e-01, tolerance: 3.588e-02\n",
      "  model = cd_fast.enet_coordinate_descent(\n"
     ]
    },
    {
     "name": "stdout",
     "output_type": "stream",
     "text": [
      "[step_eval] step=93, done=2, total=6, hp_idx=1, fe_idx=2, score=1.261274\n"
     ]
    },
    {
     "name": "stderr",
     "output_type": "stream",
     "text": [
      "/Library/Frameworks/Python.framework/Versions/3.12/lib/python3.12/site-packages/sklearn/linear_model/_coordinate_descent.py:697: ConvergenceWarning: Objective did not converge. You might want to increase the number of iterations, check the scale of the features or consider increasing regularisation. Duality gap: 7.150e-01, tolerance: 3.475e-02\n",
      "  model = cd_fast.enet_coordinate_descent(\n"
     ]
    },
    {
     "name": "stdout",
     "output_type": "stream",
     "text": [
      "[step_eval] step=93, done=3, total=6, hp_idx=1, fe_idx=3, score=2.143495\n",
      "[step_eval] step=93, done=4, total=6, hp_idx=2, fe_idx=1, score=0.424556\n"
     ]
    },
    {
     "name": "stderr",
     "output_type": "stream",
     "text": [
      "/Library/Frameworks/Python.framework/Versions/3.12/lib/python3.12/site-packages/sklearn/linear_model/_coordinate_descent.py:697: ConvergenceWarning: Objective did not converge. You might want to increase the number of iterations, check the scale of the features or consider increasing regularisation. Duality gap: 1.587e+00, tolerance: 3.588e-02\n",
      "  model = cd_fast.enet_coordinate_descent(\n"
     ]
    },
    {
     "name": "stdout",
     "output_type": "stream",
     "text": [
      "[step_eval] step=93, done=5, total=6, hp_idx=3, fe_idx=1, score=0.02942\n",
      "[step_eval] step=93, done=6, total=6, hp_idx=4, fe_idx=1, score=0.196914\n",
      "[step_done] step=93, best_score=0.02942\n",
      "[step_predict] step=94, of=299, date=2007-11-01\n",
      "[step_search_start] step=94, hp=4, fe=3, expected_evals=6\n",
      "[step_eval] step=94, done=1, total=6, hp_idx=1, fe_idx=1, score=0.987234\n"
     ]
    },
    {
     "name": "stderr",
     "output_type": "stream",
     "text": [
      "/Library/Frameworks/Python.framework/Versions/3.12/lib/python3.12/site-packages/sklearn/linear_model/_coordinate_descent.py:697: ConvergenceWarning: Objective did not converge. You might want to increase the number of iterations, check the scale of the features or consider increasing regularisation. Duality gap: 4.071e-01, tolerance: 3.588e-02\n",
      "  model = cd_fast.enet_coordinate_descent(\n"
     ]
    },
    {
     "name": "stdout",
     "output_type": "stream",
     "text": [
      "[step_eval] step=94, done=2, total=6, hp_idx=1, fe_idx=2, score=1.127687\n"
     ]
    },
    {
     "name": "stderr",
     "output_type": "stream",
     "text": [
      "/Library/Frameworks/Python.framework/Versions/3.12/lib/python3.12/site-packages/sklearn/linear_model/_coordinate_descent.py:697: ConvergenceWarning: Objective did not converge. You might want to increase the number of iterations, check the scale of the features or consider increasing regularisation. Duality gap: 8.572e-01, tolerance: 3.475e-02\n",
      "  model = cd_fast.enet_coordinate_descent(\n"
     ]
    },
    {
     "name": "stdout",
     "output_type": "stream",
     "text": [
      "[step_eval] step=94, done=3, total=6, hp_idx=1, fe_idx=3, score=1.462485\n",
      "[step_eval] step=94, done=4, total=6, hp_idx=2, fe_idx=1, score=0.740937\n",
      "[step_eval] step=94, done=5, total=6, hp_idx=3, fe_idx=1, score=0.493629\n"
     ]
    },
    {
     "name": "stderr",
     "output_type": "stream",
     "text": [
      "/Library/Frameworks/Python.framework/Versions/3.12/lib/python3.12/site-packages/sklearn/linear_model/_coordinate_descent.py:697: ConvergenceWarning: Objective did not converge. You might want to increase the number of iterations, check the scale of the features or consider increasing regularisation. Duality gap: 2.157e+00, tolerance: 3.588e-02\n",
      "  model = cd_fast.enet_coordinate_descent(\n"
     ]
    },
    {
     "name": "stdout",
     "output_type": "stream",
     "text": [
      "[step_eval] step=94, done=6, total=6, hp_idx=4, fe_idx=1, score=0.364702\n",
      "[step_done] step=94, best_score=0.364702\n",
      "[step_predict] step=95, of=299, date=2007-12-01\n",
      "[step_search_start] step=95, hp=4, fe=3, expected_evals=6\n",
      "[step_eval] step=95, done=1, total=6, hp_idx=1, fe_idx=1, score=0.281949\n"
     ]
    },
    {
     "name": "stderr",
     "output_type": "stream",
     "text": [
      "/Library/Frameworks/Python.framework/Versions/3.12/lib/python3.12/site-packages/sklearn/linear_model/_coordinate_descent.py:697: ConvergenceWarning: Objective did not converge. You might want to increase the number of iterations, check the scale of the features or consider increasing regularisation. Duality gap: 4.019e-01, tolerance: 3.589e-02\n",
      "  model = cd_fast.enet_coordinate_descent(\n"
     ]
    },
    {
     "name": "stdout",
     "output_type": "stream",
     "text": [
      "[step_eval] step=95, done=2, total=6, hp_idx=1, fe_idx=2, score=2.009011\n"
     ]
    },
    {
     "name": "stderr",
     "output_type": "stream",
     "text": [
      "/Library/Frameworks/Python.framework/Versions/3.12/lib/python3.12/site-packages/sklearn/linear_model/_coordinate_descent.py:697: ConvergenceWarning: Objective did not converge. You might want to increase the number of iterations, check the scale of the features or consider increasing regularisation. Duality gap: 6.472e-01, tolerance: 3.476e-02\n",
      "  model = cd_fast.enet_coordinate_descent(\n"
     ]
    },
    {
     "name": "stdout",
     "output_type": "stream",
     "text": [
      "[step_eval] step=95, done=3, total=6, hp_idx=1, fe_idx=3, score=1.62314\n",
      "[step_eval] step=95, done=4, total=6, hp_idx=2, fe_idx=1, score=0.167834\n"
     ]
    },
    {
     "name": "stderr",
     "output_type": "stream",
     "text": [
      "/Library/Frameworks/Python.framework/Versions/3.12/lib/python3.12/site-packages/sklearn/linear_model/_coordinate_descent.py:697: ConvergenceWarning: Objective did not converge. You might want to increase the number of iterations, check the scale of the features or consider increasing regularisation. Duality gap: 2.460e+00, tolerance: 3.589e-02\n",
      "  model = cd_fast.enet_coordinate_descent(\n"
     ]
    },
    {
     "name": "stdout",
     "output_type": "stream",
     "text": [
      "[step_eval] step=95, done=5, total=6, hp_idx=3, fe_idx=1, score=0.186489\n",
      "[step_eval] step=95, done=6, total=6, hp_idx=4, fe_idx=1, score=0.390283\n",
      "[step_done] step=95, best_score=0.167834\n",
      "[step_predict] step=96, of=299, date=2008-01-01\n",
      "[step_search_start] step=96, hp=4, fe=3, expected_evals=6\n",
      "[step_eval] step=96, done=1, total=6, hp_idx=1, fe_idx=1, score=0.107698\n"
     ]
    },
    {
     "name": "stderr",
     "output_type": "stream",
     "text": [
      "/Library/Frameworks/Python.framework/Versions/3.12/lib/python3.12/site-packages/sklearn/linear_model/_coordinate_descent.py:697: ConvergenceWarning: Objective did not converge. You might want to increase the number of iterations, check the scale of the features or consider increasing regularisation. Duality gap: 3.838e-01, tolerance: 3.592e-02\n",
      "  model = cd_fast.enet_coordinate_descent(\n"
     ]
    },
    {
     "name": "stdout",
     "output_type": "stream",
     "text": [
      "[step_eval] step=96, done=2, total=6, hp_idx=1, fe_idx=2, score=1.635157\n"
     ]
    },
    {
     "name": "stderr",
     "output_type": "stream",
     "text": [
      "/Library/Frameworks/Python.framework/Versions/3.12/lib/python3.12/site-packages/sklearn/linear_model/_coordinate_descent.py:697: ConvergenceWarning: Objective did not converge. You might want to increase the number of iterations, check the scale of the features or consider increasing regularisation. Duality gap: 1.030e+00, tolerance: 3.480e-02\n",
      "  model = cd_fast.enet_coordinate_descent(\n"
     ]
    },
    {
     "name": "stdout",
     "output_type": "stream",
     "text": [
      "[step_eval] step=96, done=3, total=6, hp_idx=1, fe_idx=3, score=0.240547\n",
      "[step_eval] step=96, done=4, total=6, hp_idx=2, fe_idx=1, score=0.60618\n"
     ]
    },
    {
     "name": "stderr",
     "output_type": "stream",
     "text": [
      "/Library/Frameworks/Python.framework/Versions/3.12/lib/python3.12/site-packages/sklearn/linear_model/_coordinate_descent.py:697: ConvergenceWarning: Objective did not converge. You might want to increase the number of iterations, check the scale of the features or consider increasing regularisation. Duality gap: 2.128e+00, tolerance: 3.592e-02\n",
      "  model = cd_fast.enet_coordinate_descent(\n"
     ]
    },
    {
     "name": "stdout",
     "output_type": "stream",
     "text": [
      "[step_eval] step=96, done=5, total=6, hp_idx=3, fe_idx=1, score=1.254519\n",
      "[step_eval] step=96, done=6, total=6, hp_idx=4, fe_idx=1, score=1.531112\n",
      "[step_done] step=96, best_score=0.107698\n",
      "[step_predict] step=97, of=299, date=2008-02-01\n",
      "[step_search_start] step=97, hp=4, fe=3, expected_evals=6\n"
     ]
    },
    {
     "name": "stderr",
     "output_type": "stream",
     "text": [
      "/Library/Frameworks/Python.framework/Versions/3.12/lib/python3.12/site-packages/sklearn/linear_model/_coordinate_descent.py:697: ConvergenceWarning: Objective did not converge. You might want to increase the number of iterations, check the scale of the features or consider increasing regularisation. Duality gap: 7.948e-01, tolerance: 3.614e-02\n",
      "  model = cd_fast.enet_coordinate_descent(\n"
     ]
    },
    {
     "name": "stdout",
     "output_type": "stream",
     "text": [
      "[step_eval] step=97, done=1, total=6, hp_idx=1, fe_idx=1, score=0.351797\n"
     ]
    },
    {
     "name": "stderr",
     "output_type": "stream",
     "text": [
      "/Library/Frameworks/Python.framework/Versions/3.12/lib/python3.12/site-packages/sklearn/linear_model/_coordinate_descent.py:697: ConvergenceWarning: Objective did not converge. You might want to increase the number of iterations, check the scale of the features or consider increasing regularisation. Duality gap: 7.948e-01, tolerance: 3.614e-02\n",
      "  model = cd_fast.enet_coordinate_descent(\n"
     ]
    },
    {
     "name": "stdout",
     "output_type": "stream",
     "text": [
      "[step_eval] step=97, done=2, total=6, hp_idx=1, fe_idx=2, score=3.883084\n"
     ]
    },
    {
     "name": "stderr",
     "output_type": "stream",
     "text": [
      "/Library/Frameworks/Python.framework/Versions/3.12/lib/python3.12/site-packages/sklearn/linear_model/_coordinate_descent.py:697: ConvergenceWarning: Objective did not converge. You might want to increase the number of iterations, check the scale of the features or consider increasing regularisation. Duality gap: 2.118e+00, tolerance: 3.501e-02\n",
      "  model = cd_fast.enet_coordinate_descent(\n"
     ]
    },
    {
     "name": "stdout",
     "output_type": "stream",
     "text": [
      "[step_eval] step=97, done=3, total=6, hp_idx=1, fe_idx=3, score=1.026896\n",
      "[step_eval] step=97, done=4, total=6, hp_idx=2, fe_idx=1, score=0.901587\n",
      "[step_eval] step=97, done=5, total=6, hp_idx=3, fe_idx=1, score=0.671293\n"
     ]
    },
    {
     "name": "stderr",
     "output_type": "stream",
     "text": [
      "/Library/Frameworks/Python.framework/Versions/3.12/lib/python3.12/site-packages/sklearn/linear_model/_coordinate_descent.py:697: ConvergenceWarning: Objective did not converge. You might want to increase the number of iterations, check the scale of the features or consider increasing regularisation. Duality gap: 2.024e+00, tolerance: 3.614e-02\n",
      "  model = cd_fast.enet_coordinate_descent(\n"
     ]
    },
    {
     "name": "stdout",
     "output_type": "stream",
     "text": [
      "[step_eval] step=97, done=6, total=6, hp_idx=4, fe_idx=1, score=0.775726\n",
      "[step_done] step=97, best_score=0.351797\n",
      "[step_predict] step=98, of=299, date=2008-03-01\n",
      "[step_search_start] step=98, hp=4, fe=3, expected_evals=6\n"
     ]
    },
    {
     "name": "stderr",
     "output_type": "stream",
     "text": [
      "/Library/Frameworks/Python.framework/Versions/3.12/lib/python3.12/site-packages/sklearn/linear_model/_coordinate_descent.py:697: ConvergenceWarning: Objective did not converge. You might want to increase the number of iterations, check the scale of the features or consider increasing regularisation. Duality gap: 6.097e-01, tolerance: 3.618e-02\n",
      "  model = cd_fast.enet_coordinate_descent(\n"
     ]
    },
    {
     "name": "stdout",
     "output_type": "stream",
     "text": [
      "[step_eval] step=98, done=1, total=6, hp_idx=1, fe_idx=1, score=1.224142\n"
     ]
    },
    {
     "name": "stderr",
     "output_type": "stream",
     "text": [
      "/Library/Frameworks/Python.framework/Versions/3.12/lib/python3.12/site-packages/sklearn/linear_model/_coordinate_descent.py:697: ConvergenceWarning: Objective did not converge. You might want to increase the number of iterations, check the scale of the features or consider increasing regularisation. Duality gap: 6.097e-01, tolerance: 3.618e-02\n",
      "  model = cd_fast.enet_coordinate_descent(\n"
     ]
    },
    {
     "name": "stdout",
     "output_type": "stream",
     "text": [
      "[step_eval] step=98, done=2, total=6, hp_idx=1, fe_idx=2, score=0.644962\n"
     ]
    },
    {
     "name": "stderr",
     "output_type": "stream",
     "text": [
      "/Library/Frameworks/Python.framework/Versions/3.12/lib/python3.12/site-packages/sklearn/linear_model/_coordinate_descent.py:697: ConvergenceWarning: Objective did not converge. You might want to increase the number of iterations, check the scale of the features or consider increasing regularisation. Duality gap: 8.427e-01, tolerance: 3.505e-02\n",
      "  model = cd_fast.enet_coordinate_descent(\n"
     ]
    },
    {
     "name": "stdout",
     "output_type": "stream",
     "text": [
      "[step_eval] step=98, done=3, total=6, hp_idx=1, fe_idx=3, score=1.18842\n",
      "[step_eval] step=98, done=4, total=6, hp_idx=2, fe_idx=1, score=0.99699\n",
      "[step_eval] step=98, done=5, total=6, hp_idx=3, fe_idx=1, score=0.723929\n",
      "[step_eval] step=98, done=6, total=6, hp_idx=4, fe_idx=1, score=0.870431\n"
     ]
    },
    {
     "name": "stderr",
     "output_type": "stream",
     "text": [
      "/Library/Frameworks/Python.framework/Versions/3.12/lib/python3.12/site-packages/sklearn/linear_model/_coordinate_descent.py:697: ConvergenceWarning: Objective did not converge. You might want to increase the number of iterations, check the scale of the features or consider increasing regularisation. Duality gap: 1.640e+00, tolerance: 3.618e-02\n",
      "  model = cd_fast.enet_coordinate_descent(\n"
     ]
    },
    {
     "name": "stdout",
     "output_type": "stream",
     "text": [
      "[step_done] step=98, best_score=0.644962\n",
      "[step_predict] step=99, of=299, date=2008-04-01\n",
      "[step_search_start] step=99, hp=4, fe=3, expected_evals=6\n"
     ]
    },
    {
     "name": "stderr",
     "output_type": "stream",
     "text": [
      "/Library/Frameworks/Python.framework/Versions/3.12/lib/python3.12/site-packages/sklearn/linear_model/_coordinate_descent.py:697: ConvergenceWarning: Objective did not converge. You might want to increase the number of iterations, check the scale of the features or consider increasing regularisation. Duality gap: 1.004e+00, tolerance: 3.515e-02\n",
      "  model = cd_fast.enet_coordinate_descent(\n"
     ]
    },
    {
     "name": "stdout",
     "output_type": "stream",
     "text": [
      "[step_eval] step=99, done=1, total=6, hp_idx=1, fe_idx=1, score=1.530101\n"
     ]
    },
    {
     "name": "stderr",
     "output_type": "stream",
     "text": [
      "/Library/Frameworks/Python.framework/Versions/3.12/lib/python3.12/site-packages/sklearn/linear_model/_coordinate_descent.py:697: ConvergenceWarning: Objective did not converge. You might want to increase the number of iterations, check the scale of the features or consider increasing regularisation. Duality gap: 4.480e-01, tolerance: 3.628e-02\n",
      "  model = cd_fast.enet_coordinate_descent(\n"
     ]
    },
    {
     "name": "stdout",
     "output_type": "stream",
     "text": [
      "[step_eval] step=99, done=2, total=6, hp_idx=1, fe_idx=2, score=0.214766\n"
     ]
    },
    {
     "name": "stderr",
     "output_type": "stream",
     "text": [
      "/Library/Frameworks/Python.framework/Versions/3.12/lib/python3.12/site-packages/sklearn/linear_model/_coordinate_descent.py:697: ConvergenceWarning: Objective did not converge. You might want to increase the number of iterations, check the scale of the features or consider increasing regularisation. Duality gap: 1.004e+00, tolerance: 3.515e-02\n",
      "  model = cd_fast.enet_coordinate_descent(\n"
     ]
    },
    {
     "name": "stdout",
     "output_type": "stream",
     "text": [
      "[step_eval] step=99, done=3, total=6, hp_idx=1, fe_idx=3, score=0.180328\n"
     ]
    },
    {
     "name": "stderr",
     "output_type": "stream",
     "text": [
      "/Library/Frameworks/Python.framework/Versions/3.12/lib/python3.12/site-packages/sklearn/linear_model/_coordinate_descent.py:697: ConvergenceWarning: Objective did not converge. You might want to increase the number of iterations, check the scale of the features or consider increasing regularisation. Duality gap: 2.226e+00, tolerance: 3.628e-02\n",
      "  model = cd_fast.enet_coordinate_descent(\n"
     ]
    },
    {
     "name": "stdout",
     "output_type": "stream",
     "text": [
      "[step_eval] step=99, done=4, total=6, hp_idx=2, fe_idx=1, score=0.246541\n",
      "[step_eval] step=99, done=5, total=6, hp_idx=3, fe_idx=1, score=0.074373\n",
      "[step_eval] step=99, done=6, total=6, hp_idx=4, fe_idx=1, score=0.315023\n",
      "[step_done] step=99, best_score=0.074373\n",
      "[step_predict] step=100, of=299, date=2008-05-01\n",
      "[step_search_start] step=100, hp=4, fe=3, expected_evals=6\n",
      "[step_eval] step=100, done=1, total=6, hp_idx=1, fe_idx=1, score=0.917375\n"
     ]
    },
    {
     "name": "stderr",
     "output_type": "stream",
     "text": [
      "/Library/Frameworks/Python.framework/Versions/3.12/lib/python3.12/site-packages/sklearn/linear_model/_coordinate_descent.py:697: ConvergenceWarning: Objective did not converge. You might want to increase the number of iterations, check the scale of the features or consider increasing regularisation. Duality gap: 5.319e-01, tolerance: 3.629e-02\n",
      "  model = cd_fast.enet_coordinate_descent(\n"
     ]
    },
    {
     "name": "stdout",
     "output_type": "stream",
     "text": [
      "[step_eval] step=100, done=2, total=6, hp_idx=1, fe_idx=2, score=2.825882\n"
     ]
    },
    {
     "name": "stderr",
     "output_type": "stream",
     "text": [
      "/Library/Frameworks/Python.framework/Versions/3.12/lib/python3.12/site-packages/sklearn/linear_model/_coordinate_descent.py:697: ConvergenceWarning: Objective did not converge. You might want to increase the number of iterations, check the scale of the features or consider increasing regularisation. Duality gap: 7.015e-01, tolerance: 3.517e-02\n",
      "  model = cd_fast.enet_coordinate_descent(\n"
     ]
    },
    {
     "name": "stdout",
     "output_type": "stream",
     "text": [
      "[step_eval] step=100, done=3, total=6, hp_idx=1, fe_idx=3, score=2.279898\n",
      "[step_eval] step=100, done=4, total=6, hp_idx=2, fe_idx=1, score=1.029358\n",
      "[step_eval] step=100, done=5, total=6, hp_idx=3, fe_idx=1, score=1.757604\n"
     ]
    },
    {
     "name": "stderr",
     "output_type": "stream",
     "text": [
      "/Library/Frameworks/Python.framework/Versions/3.12/lib/python3.12/site-packages/sklearn/linear_model/_coordinate_descent.py:697: ConvergenceWarning: Objective did not converge. You might want to increase the number of iterations, check the scale of the features or consider increasing regularisation. Duality gap: 2.208e+00, tolerance: 3.629e-02\n",
      "  model = cd_fast.enet_coordinate_descent(\n"
     ]
    },
    {
     "name": "stdout",
     "output_type": "stream",
     "text": [
      "[step_eval] step=100, done=6, total=6, hp_idx=4, fe_idx=1, score=2.16103\n",
      "[step_done] step=100, best_score=0.917375\n",
      "[step_predict] step=101, of=299, date=2008-06-01\n",
      "[step_search_start] step=101, hp=4, fe=3, expected_evals=6\n"
     ]
    },
    {
     "name": "stderr",
     "output_type": "stream",
     "text": [
      "/Library/Frameworks/Python.framework/Versions/3.12/lib/python3.12/site-packages/sklearn/linear_model/_coordinate_descent.py:697: ConvergenceWarning: Objective did not converge. You might want to increase the number of iterations, check the scale of the features or consider increasing regularisation. Duality gap: 5.991e-01, tolerance: 3.677e-02\n",
      "  model = cd_fast.enet_coordinate_descent(\n"
     ]
    },
    {
     "name": "stdout",
     "output_type": "stream",
     "text": [
      "[step_eval] step=101, done=1, total=6, hp_idx=1, fe_idx=1, score=1.105854\n"
     ]
    },
    {
     "name": "stderr",
     "output_type": "stream",
     "text": [
      "/Library/Frameworks/Python.framework/Versions/3.12/lib/python3.12/site-packages/sklearn/linear_model/_coordinate_descent.py:697: ConvergenceWarning: Objective did not converge. You might want to increase the number of iterations, check the scale of the features or consider increasing regularisation. Duality gap: 5.991e-01, tolerance: 3.677e-02\n",
      "  model = cd_fast.enet_coordinate_descent(\n"
     ]
    },
    {
     "name": "stdout",
     "output_type": "stream",
     "text": [
      "[step_eval] step=101, done=2, total=6, hp_idx=1, fe_idx=2, score=2.04625\n"
     ]
    },
    {
     "name": "stderr",
     "output_type": "stream",
     "text": [
      "/Library/Frameworks/Python.framework/Versions/3.12/lib/python3.12/site-packages/sklearn/linear_model/_coordinate_descent.py:697: ConvergenceWarning: Objective did not converge. You might want to increase the number of iterations, check the scale of the features or consider increasing regularisation. Duality gap: 1.969e+00, tolerance: 3.564e-02\n",
      "  model = cd_fast.enet_coordinate_descent(\n"
     ]
    },
    {
     "name": "stdout",
     "output_type": "stream",
     "text": [
      "[step_eval] step=101, done=3, total=6, hp_idx=1, fe_idx=3, score=0.877179\n"
     ]
    },
    {
     "name": "stderr",
     "output_type": "stream",
     "text": [
      "/Library/Frameworks/Python.framework/Versions/3.12/lib/python3.12/site-packages/sklearn/linear_model/_coordinate_descent.py:697: ConvergenceWarning: Objective did not converge. You might want to increase the number of iterations, check the scale of the features or consider increasing regularisation. Duality gap: 2.754e+00, tolerance: 3.677e-02\n",
      "  model = cd_fast.enet_coordinate_descent(\n"
     ]
    },
    {
     "name": "stdout",
     "output_type": "stream",
     "text": [
      "[step_eval] step=101, done=4, total=6, hp_idx=2, fe_idx=1, score=0.72157\n",
      "[step_eval] step=101, done=5, total=6, hp_idx=3, fe_idx=1, score=0.892434\n",
      "[step_eval] step=101, done=6, total=6, hp_idx=4, fe_idx=1, score=0.841729\n",
      "[step_done] step=101, best_score=0.72157\n",
      "[step_predict] step=102, of=299, date=2008-07-01\n",
      "[step_search_start] step=102, hp=4, fe=3, expected_evals=6\n",
      "[step_eval] step=102, done=1, total=6, hp_idx=1, fe_idx=1, score=1.478197\n"
     ]
    },
    {
     "name": "stderr",
     "output_type": "stream",
     "text": [
      "/Library/Frameworks/Python.framework/Versions/3.12/lib/python3.12/site-packages/sklearn/linear_model/_coordinate_descent.py:697: ConvergenceWarning: Objective did not converge. You might want to increase the number of iterations, check the scale of the features or consider increasing regularisation. Duality gap: 4.938e-01, tolerance: 3.683e-02\n",
      "  model = cd_fast.enet_coordinate_descent(\n"
     ]
    },
    {
     "name": "stdout",
     "output_type": "stream",
     "text": [
      "[step_eval] step=102, done=2, total=6, hp_idx=1, fe_idx=2, score=0.625337\n"
     ]
    },
    {
     "name": "stderr",
     "output_type": "stream",
     "text": [
      "/Library/Frameworks/Python.framework/Versions/3.12/lib/python3.12/site-packages/sklearn/linear_model/_coordinate_descent.py:697: ConvergenceWarning: Objective did not converge. You might want to increase the number of iterations, check the scale of the features or consider increasing regularisation. Duality gap: 1.536e+00, tolerance: 3.571e-02\n",
      "  model = cd_fast.enet_coordinate_descent(\n"
     ]
    },
    {
     "name": "stdout",
     "output_type": "stream",
     "text": [
      "[step_eval] step=102, done=3, total=6, hp_idx=1, fe_idx=3, score=1.244131\n",
      "[step_eval] step=102, done=4, total=6, hp_idx=2, fe_idx=1, score=0.9503\n"
     ]
    },
    {
     "name": "stderr",
     "output_type": "stream",
     "text": [
      "/Library/Frameworks/Python.framework/Versions/3.12/lib/python3.12/site-packages/sklearn/linear_model/_coordinate_descent.py:697: ConvergenceWarning: Objective did not converge. You might want to increase the number of iterations, check the scale of the features or consider increasing regularisation. Duality gap: 2.799e+00, tolerance: 3.683e-02\n",
      "  model = cd_fast.enet_coordinate_descent(\n"
     ]
    },
    {
     "name": "stdout",
     "output_type": "stream",
     "text": [
      "[step_eval] step=102, done=5, total=6, hp_idx=3, fe_idx=1, score=1.013259\n",
      "[step_eval] step=102, done=6, total=6, hp_idx=4, fe_idx=1, score=1.348635\n",
      "[step_done] step=102, best_score=0.625337\n",
      "[step_predict] step=103, of=299, date=2008-08-01\n",
      "[step_search_start] step=103, hp=4, fe=3, expected_evals=6\n"
     ]
    },
    {
     "name": "stderr",
     "output_type": "stream",
     "text": [
      "/Library/Frameworks/Python.framework/Versions/3.12/lib/python3.12/site-packages/sklearn/linear_model/_coordinate_descent.py:697: ConvergenceWarning: Objective did not converge. You might want to increase the number of iterations, check the scale of the features or consider increasing regularisation. Duality gap: 2.864e+00, tolerance: 3.597e-02\n",
      "  model = cd_fast.enet_coordinate_descent(\n"
     ]
    },
    {
     "name": "stdout",
     "output_type": "stream",
     "text": [
      "[step_eval] step=103, done=1, total=6, hp_idx=1, fe_idx=1, score=5.145514\n"
     ]
    },
    {
     "name": "stderr",
     "output_type": "stream",
     "text": [
      "/Library/Frameworks/Python.framework/Versions/3.12/lib/python3.12/site-packages/sklearn/linear_model/_coordinate_descent.py:697: ConvergenceWarning: Objective did not converge. You might want to increase the number of iterations, check the scale of the features or consider increasing regularisation. Duality gap: 6.918e-01, tolerance: 3.709e-02\n",
      "  model = cd_fast.enet_coordinate_descent(\n"
     ]
    },
    {
     "name": "stdout",
     "output_type": "stream",
     "text": [
      "[step_eval] step=103, done=2, total=6, hp_idx=1, fe_idx=2, score=1.096518\n"
     ]
    },
    {
     "name": "stderr",
     "output_type": "stream",
     "text": [
      "/Library/Frameworks/Python.framework/Versions/3.12/lib/python3.12/site-packages/sklearn/linear_model/_coordinate_descent.py:697: ConvergenceWarning: Objective did not converge. You might want to increase the number of iterations, check the scale of the features or consider increasing regularisation. Duality gap: 2.864e+00, tolerance: 3.597e-02\n",
      "  model = cd_fast.enet_coordinate_descent(\n"
     ]
    },
    {
     "name": "stdout",
     "output_type": "stream",
     "text": [
      "[step_eval] step=103, done=3, total=6, hp_idx=1, fe_idx=3, score=3.247357\n"
     ]
    },
    {
     "name": "stderr",
     "output_type": "stream",
     "text": [
      "/Library/Frameworks/Python.framework/Versions/3.12/lib/python3.12/site-packages/sklearn/linear_model/_coordinate_descent.py:697: ConvergenceWarning: Objective did not converge. You might want to increase the number of iterations, check the scale of the features or consider increasing regularisation. Duality gap: 2.665e+00, tolerance: 3.709e-02\n",
      "  model = cd_fast.enet_coordinate_descent(\n"
     ]
    },
    {
     "name": "stdout",
     "output_type": "stream",
     "text": [
      "[step_eval] step=103, done=4, total=6, hp_idx=2, fe_idx=1, score=1.380512\n",
      "[step_eval] step=103, done=5, total=6, hp_idx=3, fe_idx=1, score=1.998785\n",
      "[step_eval] step=103, done=6, total=6, hp_idx=4, fe_idx=1, score=1.811179\n",
      "[step_done] step=103, best_score=1.096518\n",
      "[step_predict] step=104, of=299, date=2008-09-01\n",
      "[step_search_start] step=104, hp=4, fe=3, expected_evals=6\n"
     ]
    },
    {
     "name": "stderr",
     "output_type": "stream",
     "text": [
      "/Library/Frameworks/Python.framework/Versions/3.12/lib/python3.12/site-packages/sklearn/linear_model/_coordinate_descent.py:697: ConvergenceWarning: Objective did not converge. You might want to increase the number of iterations, check the scale of the features or consider increasing regularisation. Duality gap: 1.964e+00, tolerance: 3.623e-02\n",
      "  model = cd_fast.enet_coordinate_descent(\n"
     ]
    },
    {
     "name": "stdout",
     "output_type": "stream",
     "text": [
      "[step_eval] step=104, done=1, total=6, hp_idx=1, fe_idx=1, score=0.514805\n"
     ]
    },
    {
     "name": "stderr",
     "output_type": "stream",
     "text": [
      "/Library/Frameworks/Python.framework/Versions/3.12/lib/python3.12/site-packages/sklearn/linear_model/_coordinate_descent.py:697: ConvergenceWarning: Objective did not converge. You might want to increase the number of iterations, check the scale of the features or consider increasing regularisation. Duality gap: 4.186e-01, tolerance: 3.735e-02\n",
      "  model = cd_fast.enet_coordinate_descent(\n"
     ]
    },
    {
     "name": "stdout",
     "output_type": "stream",
     "text": [
      "[step_eval] step=104, done=2, total=6, hp_idx=1, fe_idx=2, score=2.202564\n"
     ]
    },
    {
     "name": "stderr",
     "output_type": "stream",
     "text": [
      "/Library/Frameworks/Python.framework/Versions/3.12/lib/python3.12/site-packages/sklearn/linear_model/_coordinate_descent.py:697: ConvergenceWarning: Objective did not converge. You might want to increase the number of iterations, check the scale of the features or consider increasing regularisation. Duality gap: 1.964e+00, tolerance: 3.623e-02\n",
      "  model = cd_fast.enet_coordinate_descent(\n"
     ]
    },
    {
     "name": "stdout",
     "output_type": "stream",
     "text": [
      "[step_eval] step=104, done=3, total=6, hp_idx=1, fe_idx=3, score=2.260358\n",
      "[step_eval] step=104, done=4, total=6, hp_idx=2, fe_idx=1, score=0.806432\n",
      "[step_eval] step=104, done=5, total=6, hp_idx=3, fe_idx=1, score=1.443677\n",
      "[step_eval] step=104, done=6, total=6, hp_idx=4, fe_idx=1, score=1.746164\n",
      "[step_done] step=104, best_score=0.514805\n",
      "[step_predict] step=105, of=299, date=2008-10-01\n"
     ]
    },
    {
     "name": "stderr",
     "output_type": "stream",
     "text": [
      "/Library/Frameworks/Python.framework/Versions/3.12/lib/python3.12/site-packages/sklearn/linear_model/_coordinate_descent.py:697: ConvergenceWarning: Objective did not converge. You might want to increase the number of iterations, check the scale of the features or consider increasing regularisation. Duality gap: 2.738e+00, tolerance: 3.735e-02\n",
      "  model = cd_fast.enet_coordinate_descent(\n"
     ]
    },
    {
     "name": "stdout",
     "output_type": "stream",
     "text": [
      "[step_search_start] step=105, hp=4, fe=3, expected_evals=6\n"
     ]
    },
    {
     "name": "stderr",
     "output_type": "stream",
     "text": [
      "/Library/Frameworks/Python.framework/Versions/3.12/lib/python3.12/site-packages/sklearn/linear_model/_coordinate_descent.py:697: ConvergenceWarning: Objective did not converge. You might want to increase the number of iterations, check the scale of the features or consider increasing regularisation. Duality gap: 1.863e-01, tolerance: 3.772e-02\n",
      "  model = cd_fast.enet_coordinate_descent(\n"
     ]
    },
    {
     "name": "stdout",
     "output_type": "stream",
     "text": [
      "[step_eval] step=105, done=1, total=6, hp_idx=1, fe_idx=1, score=0.051718\n"
     ]
    },
    {
     "name": "stderr",
     "output_type": "stream",
     "text": [
      "/Library/Frameworks/Python.framework/Versions/3.12/lib/python3.12/site-packages/sklearn/linear_model/_coordinate_descent.py:697: ConvergenceWarning: Objective did not converge. You might want to increase the number of iterations, check the scale of the features or consider increasing regularisation. Duality gap: 1.863e-01, tolerance: 3.772e-02\n",
      "  model = cd_fast.enet_coordinate_descent(\n"
     ]
    },
    {
     "name": "stdout",
     "output_type": "stream",
     "text": [
      "[step_eval] step=105, done=2, total=6, hp_idx=1, fe_idx=2, score=1.99123\n"
     ]
    },
    {
     "name": "stderr",
     "output_type": "stream",
     "text": [
      "/Library/Frameworks/Python.framework/Versions/3.12/lib/python3.12/site-packages/sklearn/linear_model/_coordinate_descent.py:697: ConvergenceWarning: Objective did not converge. You might want to increase the number of iterations, check the scale of the features or consider increasing regularisation. Duality gap: 1.515e+00, tolerance: 3.659e-02\n",
      "  model = cd_fast.enet_coordinate_descent(\n"
     ]
    },
    {
     "name": "stdout",
     "output_type": "stream",
     "text": [
      "[step_eval] step=105, done=3, total=6, hp_idx=1, fe_idx=3, score=1.442962\n",
      "[step_eval] step=105, done=4, total=6, hp_idx=2, fe_idx=1, score=0.173937\n",
      "[step_eval] step=105, done=5, total=6, hp_idx=3, fe_idx=1, score=1.163522\n"
     ]
    },
    {
     "name": "stderr",
     "output_type": "stream",
     "text": [
      "/Library/Frameworks/Python.framework/Versions/3.12/lib/python3.12/site-packages/sklearn/linear_model/_coordinate_descent.py:697: ConvergenceWarning: Objective did not converge. You might want to increase the number of iterations, check the scale of the features or consider increasing regularisation. Duality gap: 2.291e+00, tolerance: 3.772e-02\n",
      "  model = cd_fast.enet_coordinate_descent(\n"
     ]
    },
    {
     "name": "stdout",
     "output_type": "stream",
     "text": [
      "[step_eval] step=105, done=6, total=6, hp_idx=4, fe_idx=1, score=1.765672\n",
      "[step_done] step=105, best_score=0.051718\n",
      "[step_predict] step=106, of=299, date=2008-11-01\n",
      "[step_search_start] step=106, hp=4, fe=3, expected_evals=6\n"
     ]
    },
    {
     "name": "stderr",
     "output_type": "stream",
     "text": [
      "/Library/Frameworks/Python.framework/Versions/3.12/lib/python3.12/site-packages/sklearn/linear_model/_coordinate_descent.py:697: ConvergenceWarning: Objective did not converge. You might want to increase the number of iterations, check the scale of the features or consider increasing regularisation. Duality gap: 6.173e-01, tolerance: 3.822e-02\n",
      "  model = cd_fast.enet_coordinate_descent(\n"
     ]
    },
    {
     "name": "stdout",
     "output_type": "stream",
     "text": [
      "[step_eval] step=106, done=1, total=6, hp_idx=1, fe_idx=1, score=4.043924\n"
     ]
    },
    {
     "name": "stderr",
     "output_type": "stream",
     "text": [
      "/Library/Frameworks/Python.framework/Versions/3.12/lib/python3.12/site-packages/sklearn/linear_model/_coordinate_descent.py:697: ConvergenceWarning: Objective did not converge. You might want to increase the number of iterations, check the scale of the features or consider increasing regularisation. Duality gap: 6.173e-01, tolerance: 3.822e-02\n",
      "  model = cd_fast.enet_coordinate_descent(\n"
     ]
    },
    {
     "name": "stdout",
     "output_type": "stream",
     "text": [
      "[step_eval] step=106, done=2, total=6, hp_idx=1, fe_idx=2, score=4.555108\n"
     ]
    },
    {
     "name": "stderr",
     "output_type": "stream",
     "text": [
      "/Library/Frameworks/Python.framework/Versions/3.12/lib/python3.12/site-packages/sklearn/linear_model/_coordinate_descent.py:697: ConvergenceWarning: Objective did not converge. You might want to increase the number of iterations, check the scale of the features or consider increasing regularisation. Duality gap: 3.592e+00, tolerance: 3.709e-02\n",
      "  model = cd_fast.enet_coordinate_descent(\n"
     ]
    },
    {
     "name": "stdout",
     "output_type": "stream",
     "text": [
      "[step_eval] step=106, done=3, total=6, hp_idx=1, fe_idx=3, score=2.989979\n"
     ]
    },
    {
     "name": "stderr",
     "output_type": "stream",
     "text": [
      "/Library/Frameworks/Python.framework/Versions/3.12/lib/python3.12/site-packages/sklearn/linear_model/_coordinate_descent.py:697: ConvergenceWarning: Objective did not converge. You might want to increase the number of iterations, check the scale of the features or consider increasing regularisation. Duality gap: 3.330e+00, tolerance: 3.822e-02\n",
      "  model = cd_fast.enet_coordinate_descent(\n"
     ]
    },
    {
     "name": "stdout",
     "output_type": "stream",
     "text": [
      "[step_eval] step=106, done=4, total=6, hp_idx=2, fe_idx=1, score=3.256709\n",
      "[step_eval] step=106, done=5, total=6, hp_idx=3, fe_idx=1, score=3.454189\n",
      "[step_eval] step=106, done=6, total=6, hp_idx=4, fe_idx=1, score=3.550533\n",
      "[step_done] step=106, best_score=2.989979\n",
      "[step_predict] step=107, of=299, date=2008-12-01\n",
      "[step_search_start] step=107, hp=4, fe=3, expected_evals=6\n"
     ]
    },
    {
     "name": "stderr",
     "output_type": "stream",
     "text": [
      "/Library/Frameworks/Python.framework/Versions/3.12/lib/python3.12/site-packages/sklearn/linear_model/_coordinate_descent.py:697: ConvergenceWarning: Objective did not converge. You might want to increase the number of iterations, check the scale of the features or consider increasing regularisation. Duality gap: 2.391e+00, tolerance: 4.001e-02\n",
      "  model = cd_fast.enet_coordinate_descent(\n"
     ]
    },
    {
     "name": "stdout",
     "output_type": "stream",
     "text": [
      "[step_eval] step=107, done=1, total=6, hp_idx=1, fe_idx=1, score=0.078949\n"
     ]
    },
    {
     "name": "stderr",
     "output_type": "stream",
     "text": [
      "/Library/Frameworks/Python.framework/Versions/3.12/lib/python3.12/site-packages/sklearn/linear_model/_coordinate_descent.py:697: ConvergenceWarning: Objective did not converge. You might want to increase the number of iterations, check the scale of the features or consider increasing regularisation. Duality gap: 2.848e+00, tolerance: 4.001e-02\n",
      "  model = cd_fast.enet_coordinate_descent(\n"
     ]
    },
    {
     "name": "stdout",
     "output_type": "stream",
     "text": [
      "[step_eval] step=107, done=2, total=6, hp_idx=1, fe_idx=2, score=2.480714\n"
     ]
    },
    {
     "name": "stderr",
     "output_type": "stream",
     "text": [
      "/Library/Frameworks/Python.framework/Versions/3.12/lib/python3.12/site-packages/sklearn/linear_model/_coordinate_descent.py:697: ConvergenceWarning: Objective did not converge. You might want to increase the number of iterations, check the scale of the features or consider increasing regularisation. Duality gap: 2.099e+00, tolerance: 3.887e-02\n",
      "  model = cd_fast.enet_coordinate_descent(\n"
     ]
    },
    {
     "name": "stdout",
     "output_type": "stream",
     "text": [
      "[step_eval] step=107, done=3, total=6, hp_idx=1, fe_idx=3, score=0.812891\n",
      "[step_eval] step=107, done=4, total=6, hp_idx=2, fe_idx=1, score=0.311401\n"
     ]
    },
    {
     "name": "stderr",
     "output_type": "stream",
     "text": [
      "/Library/Frameworks/Python.framework/Versions/3.12/lib/python3.12/site-packages/sklearn/linear_model/_coordinate_descent.py:697: ConvergenceWarning: Objective did not converge. You might want to increase the number of iterations, check the scale of the features or consider increasing regularisation. Duality gap: 2.391e+00, tolerance: 4.001e-02\n",
      "  model = cd_fast.enet_coordinate_descent(\n"
     ]
    },
    {
     "name": "stdout",
     "output_type": "stream",
     "text": [
      "[step_eval] step=107, done=5, total=6, hp_idx=3, fe_idx=1, score=1.216623\n",
      "[step_eval] step=107, done=6, total=6, hp_idx=4, fe_idx=1, score=1.987819\n",
      "[step_done] step=107, best_score=0.078949\n",
      "[step_predict] step=108, of=299, date=2009-01-01\n",
      "[step_search_start] step=108, hp=4, fe=3, expected_evals=6\n"
     ]
    },
    {
     "name": "stderr",
     "output_type": "stream",
     "text": [
      "/Library/Frameworks/Python.framework/Versions/3.12/lib/python3.12/site-packages/sklearn/linear_model/_coordinate_descent.py:697: ConvergenceWarning: Objective did not converge. You might want to increase the number of iterations, check the scale of the features or consider increasing regularisation. Duality gap: 1.362e+00, tolerance: 4.104e-02\n",
      "  model = cd_fast.enet_coordinate_descent(\n"
     ]
    },
    {
     "name": "stdout",
     "output_type": "stream",
     "text": [
      "[step_eval] step=108, done=1, total=6, hp_idx=1, fe_idx=1, score=5.883766\n"
     ]
    },
    {
     "name": "stderr",
     "output_type": "stream",
     "text": [
      "/Library/Frameworks/Python.framework/Versions/3.12/lib/python3.12/site-packages/sklearn/linear_model/_coordinate_descent.py:697: ConvergenceWarning: Objective did not converge. You might want to increase the number of iterations, check the scale of the features or consider increasing regularisation. Duality gap: 1.362e+00, tolerance: 4.104e-02\n",
      "  model = cd_fast.enet_coordinate_descent(\n"
     ]
    },
    {
     "name": "stdout",
     "output_type": "stream",
     "text": [
      "[step_eval] step=108, done=2, total=6, hp_idx=1, fe_idx=2, score=3.331478\n"
     ]
    },
    {
     "name": "stderr",
     "output_type": "stream",
     "text": [
      "/Library/Frameworks/Python.framework/Versions/3.12/lib/python3.12/site-packages/sklearn/linear_model/_coordinate_descent.py:697: ConvergenceWarning: Objective did not converge. You might want to increase the number of iterations, check the scale of the features or consider increasing regularisation. Duality gap: 2.035e+00, tolerance: 3.990e-02\n",
      "  model = cd_fast.enet_coordinate_descent(\n"
     ]
    },
    {
     "name": "stdout",
     "output_type": "stream",
     "text": [
      "[step_eval] step=108, done=3, total=6, hp_idx=1, fe_idx=3, score=4.767213\n"
     ]
    },
    {
     "name": "stderr",
     "output_type": "stream",
     "text": [
      "/Library/Frameworks/Python.framework/Versions/3.12/lib/python3.12/site-packages/sklearn/linear_model/_coordinate_descent.py:697: ConvergenceWarning: Objective did not converge. You might want to increase the number of iterations, check the scale of the features or consider increasing regularisation. Duality gap: 1.336e+00, tolerance: 4.104e-02\n",
      "  model = cd_fast.enet_coordinate_descent(\n"
     ]
    },
    {
     "name": "stdout",
     "output_type": "stream",
     "text": [
      "[step_eval] step=108, done=4, total=6, hp_idx=2, fe_idx=1, score=2.99422\n",
      "[step_eval] step=108, done=5, total=6, hp_idx=3, fe_idx=1, score=4.723687\n",
      "[step_eval] step=108, done=6, total=6, hp_idx=4, fe_idx=1, score=5.378197\n",
      "[step_done] step=108, best_score=2.99422\n",
      "[step_predict] step=109, of=299, date=2009-02-01\n",
      "[step_search_start] step=109, hp=4, fe=3, expected_evals=6\n",
      "[step_eval] step=109, done=1, total=6, hp_idx=1, fe_idx=1, score=1.060809\n"
     ]
    },
    {
     "name": "stderr",
     "output_type": "stream",
     "text": [
      "/Library/Frameworks/Python.framework/Versions/3.12/lib/python3.12/site-packages/sklearn/linear_model/_coordinate_descent.py:697: ConvergenceWarning: Objective did not converge. You might want to increase the number of iterations, check the scale of the features or consider increasing regularisation. Duality gap: 4.343e+00, tolerance: 4.589e-02\n",
      "  model = cd_fast.enet_coordinate_descent(\n"
     ]
    },
    {
     "name": "stdout",
     "output_type": "stream",
     "text": [
      "[step_eval] step=109, done=2, total=6, hp_idx=1, fe_idx=2, score=0.9734\n"
     ]
    },
    {
     "name": "stderr",
     "output_type": "stream",
     "text": [
      "/Library/Frameworks/Python.framework/Versions/3.12/lib/python3.12/site-packages/sklearn/linear_model/_coordinate_descent.py:697: ConvergenceWarning: Objective did not converge. You might want to increase the number of iterations, check the scale of the features or consider increasing regularisation. Duality gap: 4.316e-01, tolerance: 4.475e-02\n",
      "  model = cd_fast.enet_coordinate_descent(\n"
     ]
    },
    {
     "name": "stdout",
     "output_type": "stream",
     "text": [
      "[step_eval] step=109, done=3, total=6, hp_idx=1, fe_idx=3, score=1.196206\n",
      "[step_eval] step=109, done=4, total=6, hp_idx=2, fe_idx=1, score=1.114578\n"
     ]
    },
    {
     "name": "stderr",
     "output_type": "stream",
     "text": [
      "/Library/Frameworks/Python.framework/Versions/3.12/lib/python3.12/site-packages/sklearn/linear_model/_coordinate_descent.py:697: ConvergenceWarning: Objective did not converge. You might want to increase the number of iterations, check the scale of the features or consider increasing regularisation. Duality gap: 7.076e-01, tolerance: 4.589e-02\n",
      "  model = cd_fast.enet_coordinate_descent(\n"
     ]
    },
    {
     "name": "stdout",
     "output_type": "stream",
     "text": [
      "[step_eval] step=109, done=5, total=6, hp_idx=3, fe_idx=1, score=0.142134\n",
      "[step_eval] step=109, done=6, total=6, hp_idx=4, fe_idx=1, score=0.394625\n",
      "[step_done] step=109, best_score=0.142134\n",
      "[step_predict] step=110, of=299, date=2009-03-01\n",
      "[step_search_start] step=110, hp=4, fe=3, expected_evals=6\n",
      "[step_eval] step=110, done=1, total=6, hp_idx=1, fe_idx=1, score=4.00604\n"
     ]
    },
    {
     "name": "stderr",
     "output_type": "stream",
     "text": [
      "/Library/Frameworks/Python.framework/Versions/3.12/lib/python3.12/site-packages/sklearn/linear_model/_coordinate_descent.py:697: ConvergenceWarning: Objective did not converge. You might want to increase the number of iterations, check the scale of the features or consider increasing regularisation. Duality gap: 4.705e+00, tolerance: 4.680e-02\n",
      "  model = cd_fast.enet_coordinate_descent(\n"
     ]
    },
    {
     "name": "stdout",
     "output_type": "stream",
     "text": [
      "[step_eval] step=110, done=2, total=6, hp_idx=1, fe_idx=2, score=6.520321\n"
     ]
    },
    {
     "name": "stderr",
     "output_type": "stream",
     "text": [
      "/Library/Frameworks/Python.framework/Versions/3.12/lib/python3.12/site-packages/sklearn/linear_model/_coordinate_descent.py:697: ConvergenceWarning: Objective did not converge. You might want to increase the number of iterations, check the scale of the features or consider increasing regularisation. Duality gap: 6.517e-01, tolerance: 4.566e-02\n",
      "  model = cd_fast.enet_coordinate_descent(\n"
     ]
    },
    {
     "name": "stdout",
     "output_type": "stream",
     "text": [
      "[step_eval] step=110, done=3, total=6, hp_idx=1, fe_idx=3, score=1.767634\n",
      "[step_eval] step=110, done=4, total=6, hp_idx=2, fe_idx=1, score=1.86597\n"
     ]
    },
    {
     "name": "stderr",
     "output_type": "stream",
     "text": [
      "/Library/Frameworks/Python.framework/Versions/3.12/lib/python3.12/site-packages/sklearn/linear_model/_coordinate_descent.py:697: ConvergenceWarning: Objective did not converge. You might want to increase the number of iterations, check the scale of the features or consider increasing regularisation. Duality gap: 5.856e-01, tolerance: 4.680e-02\n",
      "  model = cd_fast.enet_coordinate_descent(\n"
     ]
    },
    {
     "name": "stdout",
     "output_type": "stream",
     "text": [
      "[step_eval] step=110, done=5, total=6, hp_idx=3, fe_idx=1, score=3.207481\n",
      "[step_eval] step=110, done=6, total=6, hp_idx=4, fe_idx=1, score=2.594607\n",
      "[step_done] step=110, best_score=1.767634\n",
      "[step_predict] step=111, of=299, date=2009-04-01\n",
      "[step_search_start] step=111, hp=4, fe=3, expected_evals=6\n"
     ]
    },
    {
     "name": "stderr",
     "output_type": "stream",
     "text": [
      "/Library/Frameworks/Python.framework/Versions/3.12/lib/python3.12/site-packages/sklearn/linear_model/_coordinate_descent.py:697: ConvergenceWarning: Objective did not converge. You might want to increase the number of iterations, check the scale of the features or consider increasing regularisation. Duality gap: 5.627e-01, tolerance: 4.682e-02\n",
      "  model = cd_fast.enet_coordinate_descent(\n"
     ]
    },
    {
     "name": "stdout",
     "output_type": "stream",
     "text": [
      "[step_eval] step=111, done=1, total=6, hp_idx=1, fe_idx=1, score=0.176076\n"
     ]
    },
    {
     "name": "stderr",
     "output_type": "stream",
     "text": [
      "/Library/Frameworks/Python.framework/Versions/3.12/lib/python3.12/site-packages/sklearn/linear_model/_coordinate_descent.py:697: ConvergenceWarning: Objective did not converge. You might want to increase the number of iterations, check the scale of the features or consider increasing regularisation. Duality gap: 3.947e+00, tolerance: 4.682e-02\n",
      "  model = cd_fast.enet_coordinate_descent(\n"
     ]
    },
    {
     "name": "stdout",
     "output_type": "stream",
     "text": [
      "[step_eval] step=111, done=2, total=6, hp_idx=1, fe_idx=2, score=2.421375\n"
     ]
    },
    {
     "name": "stderr",
     "output_type": "stream",
     "text": [
      "/Library/Frameworks/Python.framework/Versions/3.12/lib/python3.12/site-packages/sklearn/linear_model/_coordinate_descent.py:697: ConvergenceWarning: Objective did not converge. You might want to increase the number of iterations, check the scale of the features or consider increasing regularisation. Duality gap: 3.962e-01, tolerance: 4.567e-02\n",
      "  model = cd_fast.enet_coordinate_descent(\n"
     ]
    },
    {
     "name": "stdout",
     "output_type": "stream",
     "text": [
      "[step_eval] step=111, done=3, total=6, hp_idx=1, fe_idx=3, score=1.580481\n"
     ]
    },
    {
     "name": "stderr",
     "output_type": "stream",
     "text": [
      "/Library/Frameworks/Python.framework/Versions/3.12/lib/python3.12/site-packages/sklearn/linear_model/_coordinate_descent.py:697: ConvergenceWarning: Objective did not converge. You might want to increase the number of iterations, check the scale of the features or consider increasing regularisation. Duality gap: 5.627e-01, tolerance: 4.682e-02\n",
      "  model = cd_fast.enet_coordinate_descent(\n"
     ]
    },
    {
     "name": "stdout",
     "output_type": "stream",
     "text": [
      "[step_eval] step=111, done=4, total=6, hp_idx=2, fe_idx=1, score=0.114115\n",
      "[step_eval] step=111, done=5, total=6, hp_idx=3, fe_idx=1, score=0.444353\n",
      "[step_eval] step=111, done=6, total=6, hp_idx=4, fe_idx=1, score=1.211107\n",
      "[step_done] step=111, best_score=0.114115\n",
      "[step_predict] step=112, of=299, date=2009-05-01\n",
      "[step_search_start] step=112, hp=4, fe=3, expected_evals=6\n",
      "[step_eval] step=112, done=1, total=6, hp_idx=1, fe_idx=1, score=2.435129\n"
     ]
    },
    {
     "name": "stderr",
     "output_type": "stream",
     "text": [
      "/Library/Frameworks/Python.framework/Versions/3.12/lib/python3.12/site-packages/sklearn/linear_model/_coordinate_descent.py:697: ConvergenceWarning: Objective did not converge. You might want to increase the number of iterations, check the scale of the features or consider increasing regularisation. Duality gap: 4.399e+00, tolerance: 4.756e-02\n",
      "  model = cd_fast.enet_coordinate_descent(\n"
     ]
    },
    {
     "name": "stdout",
     "output_type": "stream",
     "text": [
      "[step_eval] step=112, done=2, total=6, hp_idx=1, fe_idx=2, score=4.701642\n"
     ]
    },
    {
     "name": "stderr",
     "output_type": "stream",
     "text": [
      "/Library/Frameworks/Python.framework/Versions/3.12/lib/python3.12/site-packages/sklearn/linear_model/_coordinate_descent.py:697: ConvergenceWarning: Objective did not converge. You might want to increase the number of iterations, check the scale of the features or consider increasing regularisation. Duality gap: 8.786e-01, tolerance: 4.641e-02\n",
      "  model = cd_fast.enet_coordinate_descent(\n"
     ]
    },
    {
     "name": "stdout",
     "output_type": "stream",
     "text": [
      "[step_eval] step=112, done=3, total=6, hp_idx=1, fe_idx=3, score=5.846365\n",
      "[step_eval] step=112, done=4, total=6, hp_idx=2, fe_idx=1, score=3.626367\n"
     ]
    },
    {
     "name": "stderr",
     "output_type": "stream",
     "text": [
      "/Library/Frameworks/Python.framework/Versions/3.12/lib/python3.12/site-packages/sklearn/linear_model/_coordinate_descent.py:697: ConvergenceWarning: Objective did not converge. You might want to increase the number of iterations, check the scale of the features or consider increasing regularisation. Duality gap: 1.748e-01, tolerance: 4.756e-02\n",
      "  model = cd_fast.enet_coordinate_descent(\n"
     ]
    },
    {
     "name": "stdout",
     "output_type": "stream",
     "text": [
      "[step_eval] step=112, done=5, total=6, hp_idx=3, fe_idx=1, score=4.880309\n",
      "[step_eval] step=112, done=6, total=6, hp_idx=4, fe_idx=1, score=5.230505\n",
      "[step_done] step=112, best_score=2.435129\n",
      "[step_predict] step=113, of=299, date=2009-06-01\n",
      "[step_search_start] step=113, hp=4, fe=3, expected_evals=6\n"
     ]
    },
    {
     "name": "stderr",
     "output_type": "stream",
     "text": [
      "/Library/Frameworks/Python.framework/Versions/3.12/lib/python3.12/site-packages/sklearn/linear_model/_coordinate_descent.py:697: ConvergenceWarning: Objective did not converge. You might want to increase the number of iterations, check the scale of the features or consider increasing regularisation. Duality gap: 3.770e+00, tolerance: 4.899e-02\n",
      "  model = cd_fast.enet_coordinate_descent(\n"
     ]
    },
    {
     "name": "stdout",
     "output_type": "stream",
     "text": [
      "[step_eval] step=113, done=1, total=6, hp_idx=1, fe_idx=1, score=0.728671\n"
     ]
    },
    {
     "name": "stderr",
     "output_type": "stream",
     "text": [
      "/Library/Frameworks/Python.framework/Versions/3.12/lib/python3.12/site-packages/sklearn/linear_model/_coordinate_descent.py:697: ConvergenceWarning: Objective did not converge. You might want to increase the number of iterations, check the scale of the features or consider increasing regularisation. Duality gap: 3.770e+00, tolerance: 4.899e-02\n",
      "  model = cd_fast.enet_coordinate_descent(\n"
     ]
    },
    {
     "name": "stdout",
     "output_type": "stream",
     "text": [
      "[step_eval] step=113, done=2, total=6, hp_idx=1, fe_idx=2, score=1.601444\n"
     ]
    },
    {
     "name": "stderr",
     "output_type": "stream",
     "text": [
      "/Library/Frameworks/Python.framework/Versions/3.12/lib/python3.12/site-packages/sklearn/linear_model/_coordinate_descent.py:697: ConvergenceWarning: Objective did not converge. You might want to increase the number of iterations, check the scale of the features or consider increasing regularisation. Duality gap: 5.465e-01, tolerance: 4.784e-02\n",
      "  model = cd_fast.enet_coordinate_descent(\n"
     ]
    },
    {
     "name": "stdout",
     "output_type": "stream",
     "text": [
      "[step_eval] step=113, done=3, total=6, hp_idx=1, fe_idx=3, score=1.347047\n"
     ]
    },
    {
     "name": "stderr",
     "output_type": "stream",
     "text": [
      "/Library/Frameworks/Python.framework/Versions/3.12/lib/python3.12/site-packages/sklearn/linear_model/_coordinate_descent.py:697: ConvergenceWarning: Objective did not converge. You might want to increase the number of iterations, check the scale of the features or consider increasing regularisation. Duality gap: 1.370e+00, tolerance: 4.899e-02\n",
      "  model = cd_fast.enet_coordinate_descent(\n"
     ]
    },
    {
     "name": "stdout",
     "output_type": "stream",
     "text": [
      "[step_eval] step=113, done=4, total=6, hp_idx=2, fe_idx=1, score=0.906564\n",
      "[step_eval] step=113, done=5, total=6, hp_idx=3, fe_idx=1, score=1.561568\n",
      "[step_eval] step=113, done=6, total=6, hp_idx=4, fe_idx=1, score=2.046926\n",
      "[step_done] step=113, best_score=0.728671\n",
      "[step_predict] step=114, of=299, date=2009-07-01\n",
      "[step_search_start] step=114, hp=4, fe=3, expected_evals=6\n"
     ]
    },
    {
     "name": "stderr",
     "output_type": "stream",
     "text": [
      "/Library/Frameworks/Python.framework/Versions/3.12/lib/python3.12/site-packages/sklearn/linear_model/_coordinate_descent.py:697: ConvergenceWarning: Objective did not converge. You might want to increase the number of iterations, check the scale of the features or consider increasing regularisation. Duality gap: 9.747e-01, tolerance: 4.927e-02\n",
      "  model = cd_fast.enet_coordinate_descent(\n"
     ]
    },
    {
     "name": "stdout",
     "output_type": "stream",
     "text": [
      "[step_eval] step=114, done=1, total=6, hp_idx=1, fe_idx=1, score=3.432547\n"
     ]
    },
    {
     "name": "stderr",
     "output_type": "stream",
     "text": [
      "/Library/Frameworks/Python.framework/Versions/3.12/lib/python3.12/site-packages/sklearn/linear_model/_coordinate_descent.py:697: ConvergenceWarning: Objective did not converge. You might want to increase the number of iterations, check the scale of the features or consider increasing regularisation. Duality gap: 9.747e-01, tolerance: 4.927e-02\n",
      "  model = cd_fast.enet_coordinate_descent(\n"
     ]
    },
    {
     "name": "stdout",
     "output_type": "stream",
     "text": [
      "[step_eval] step=114, done=2, total=6, hp_idx=1, fe_idx=2, score=3.881601\n"
     ]
    },
    {
     "name": "stderr",
     "output_type": "stream",
     "text": [
      "/Library/Frameworks/Python.framework/Versions/3.12/lib/python3.12/site-packages/sklearn/linear_model/_coordinate_descent.py:697: ConvergenceWarning: Objective did not converge. You might want to increase the number of iterations, check the scale of the features or consider increasing regularisation. Duality gap: 5.316e-01, tolerance: 4.813e-02\n",
      "  model = cd_fast.enet_coordinate_descent(\n"
     ]
    },
    {
     "name": "stdout",
     "output_type": "stream",
     "text": [
      "[step_eval] step=114, done=3, total=6, hp_idx=1, fe_idx=3, score=3.106104\n"
     ]
    },
    {
     "name": "stderr",
     "output_type": "stream",
     "text": [
      "/Library/Frameworks/Python.framework/Versions/3.12/lib/python3.12/site-packages/sklearn/linear_model/_coordinate_descent.py:697: ConvergenceWarning: Objective did not converge. You might want to increase the number of iterations, check the scale of the features or consider increasing regularisation. Duality gap: 2.560e+00, tolerance: 4.927e-02\n",
      "  model = cd_fast.enet_coordinate_descent(\n"
     ]
    },
    {
     "name": "stdout",
     "output_type": "stream",
     "text": [
      "[step_eval] step=114, done=4, total=6, hp_idx=2, fe_idx=1, score=2.918026\n",
      "[step_eval] step=114, done=5, total=6, hp_idx=3, fe_idx=1, score=1.758104\n",
      "[step_eval] step=114, done=6, total=6, hp_idx=4, fe_idx=1, score=1.154774\n",
      "[step_done] step=114, best_score=1.154774\n",
      "[step_predict] step=115, of=299, date=2009-08-01\n",
      "[step_search_start] step=115, hp=4, fe=3, expected_evals=6\n",
      "[step_eval] step=115, done=1, total=6, hp_idx=1, fe_idx=1, score=0.51411\n"
     ]
    },
    {
     "name": "stderr",
     "output_type": "stream",
     "text": [
      "/Library/Frameworks/Python.framework/Versions/3.12/lib/python3.12/site-packages/sklearn/linear_model/_coordinate_descent.py:697: ConvergenceWarning: Objective did not converge. You might want to increase the number of iterations, check the scale of the features or consider increasing regularisation. Duality gap: 2.957e+00, tolerance: 4.942e-02\n",
      "  model = cd_fast.enet_coordinate_descent(\n"
     ]
    },
    {
     "name": "stdout",
     "output_type": "stream",
     "text": [
      "[step_eval] step=115, done=2, total=6, hp_idx=1, fe_idx=2, score=0.181484\n"
     ]
    },
    {
     "name": "stderr",
     "output_type": "stream",
     "text": [
      "/Library/Frameworks/Python.framework/Versions/3.12/lib/python3.12/site-packages/sklearn/linear_model/_coordinate_descent.py:697: ConvergenceWarning: Objective did not converge. You might want to increase the number of iterations, check the scale of the features or consider increasing regularisation. Duality gap: 7.115e-01, tolerance: 4.828e-02\n",
      "  model = cd_fast.enet_coordinate_descent(\n"
     ]
    },
    {
     "name": "stdout",
     "output_type": "stream",
     "text": [
      "[step_eval] step=115, done=3, total=6, hp_idx=1, fe_idx=3, score=0.237763\n",
      "[step_eval] step=115, done=4, total=6, hp_idx=2, fe_idx=1, score=0.226603\n",
      "[step_eval] step=115, done=5, total=6, hp_idx=3, fe_idx=1, score=0.640318\n",
      "[step_eval] step=115, done=6, total=6, hp_idx=4, fe_idx=1, score=1.320463\n",
      "[step_done] step=115, best_score=0.181484\n",
      "[step_predict] step=116, of=299, date=2009-09-01\n"
     ]
    },
    {
     "name": "stderr",
     "output_type": "stream",
     "text": [
      "/Library/Frameworks/Python.framework/Versions/3.12/lib/python3.12/site-packages/sklearn/linear_model/_coordinate_descent.py:697: ConvergenceWarning: Objective did not converge. You might want to increase the number of iterations, check the scale of the features or consider increasing regularisation. Duality gap: 2.074e+00, tolerance: 4.942e-02\n",
      "  model = cd_fast.enet_coordinate_descent(\n"
     ]
    },
    {
     "name": "stdout",
     "output_type": "stream",
     "text": [
      "[step_search_start] step=116, hp=4, fe=3, expected_evals=6\n"
     ]
    },
    {
     "name": "stderr",
     "output_type": "stream",
     "text": [
      "/Library/Frameworks/Python.framework/Versions/3.12/lib/python3.12/site-packages/sklearn/linear_model/_coordinate_descent.py:697: ConvergenceWarning: Objective did not converge. You might want to increase the number of iterations, check the scale of the features or consider increasing regularisation. Duality gap: 4.964e-01, tolerance: 4.856e-02\n",
      "  model = cd_fast.enet_coordinate_descent(\n"
     ]
    },
    {
     "name": "stdout",
     "output_type": "stream",
     "text": [
      "[step_eval] step=116, done=1, total=6, hp_idx=1, fe_idx=1, score=2.256153\n"
     ]
    },
    {
     "name": "stderr",
     "output_type": "stream",
     "text": [
      "/Library/Frameworks/Python.framework/Versions/3.12/lib/python3.12/site-packages/sklearn/linear_model/_coordinate_descent.py:697: ConvergenceWarning: Objective did not converge. You might want to increase the number of iterations, check the scale of the features or consider increasing regularisation. Duality gap: 5.932e-01, tolerance: 4.970e-02\n",
      "  model = cd_fast.enet_coordinate_descent(\n"
     ]
    },
    {
     "name": "stdout",
     "output_type": "stream",
     "text": [
      "[step_eval] step=116, done=2, total=6, hp_idx=1, fe_idx=2, score=2.781324\n"
     ]
    },
    {
     "name": "stderr",
     "output_type": "stream",
     "text": [
      "/Library/Frameworks/Python.framework/Versions/3.12/lib/python3.12/site-packages/sklearn/linear_model/_coordinate_descent.py:697: ConvergenceWarning: Objective did not converge. You might want to increase the number of iterations, check the scale of the features or consider increasing regularisation. Duality gap: 4.964e-01, tolerance: 4.856e-02\n",
      "  model = cd_fast.enet_coordinate_descent(\n"
     ]
    },
    {
     "name": "stdout",
     "output_type": "stream",
     "text": [
      "[step_eval] step=116, done=3, total=6, hp_idx=1, fe_idx=3, score=1.494501\n",
      "[step_eval] step=116, done=4, total=6, hp_idx=2, fe_idx=1, score=1.160714\n"
     ]
    },
    {
     "name": "stderr",
     "output_type": "stream",
     "text": [
      "/Library/Frameworks/Python.framework/Versions/3.12/lib/python3.12/site-packages/sklearn/linear_model/_coordinate_descent.py:697: ConvergenceWarning: Objective did not converge. You might want to increase the number of iterations, check the scale of the features or consider increasing regularisation. Duality gap: 2.002e+00, tolerance: 4.970e-02\n",
      "  model = cd_fast.enet_coordinate_descent(\n"
     ]
    },
    {
     "name": "stdout",
     "output_type": "stream",
     "text": [
      "[step_eval] step=116, done=5, total=6, hp_idx=3, fe_idx=1, score=2.101998\n",
      "[step_eval] step=116, done=6, total=6, hp_idx=4, fe_idx=1, score=2.704381\n",
      "[step_done] step=116, best_score=1.160714\n",
      "[step_predict] step=117, of=299, date=2009-10-01\n",
      "[step_search_start] step=117, hp=4, fe=3, expected_evals=6\n",
      "[step_eval] step=117, done=1, total=6, hp_idx=1, fe_idx=1, score=5.020564\n"
     ]
    },
    {
     "name": "stderr",
     "output_type": "stream",
     "text": [
      "/Library/Frameworks/Python.framework/Versions/3.12/lib/python3.12/site-packages/sklearn/linear_model/_coordinate_descent.py:697: ConvergenceWarning: Objective did not converge. You might want to increase the number of iterations, check the scale of the features or consider increasing regularisation. Duality gap: 8.348e-01, tolerance: 5.087e-02\n",
      "  model = cd_fast.enet_coordinate_descent(\n"
     ]
    },
    {
     "name": "stdout",
     "output_type": "stream",
     "text": [
      "[step_eval] step=117, done=2, total=6, hp_idx=1, fe_idx=2, score=5.357745\n"
     ]
    },
    {
     "name": "stderr",
     "output_type": "stream",
     "text": [
      "/Library/Frameworks/Python.framework/Versions/3.12/lib/python3.12/site-packages/sklearn/linear_model/_coordinate_descent.py:697: ConvergenceWarning: Objective did not converge. You might want to increase the number of iterations, check the scale of the features or consider increasing regularisation. Duality gap: 4.058e+00, tolerance: 4.973e-02\n",
      "  model = cd_fast.enet_coordinate_descent(\n"
     ]
    },
    {
     "name": "stdout",
     "output_type": "stream",
     "text": [
      "[step_eval] step=117, done=3, total=6, hp_idx=1, fe_idx=3, score=3.014348\n",
      "[step_eval] step=117, done=4, total=6, hp_idx=2, fe_idx=1, score=3.26907\n"
     ]
    },
    {
     "name": "stderr",
     "output_type": "stream",
     "text": [
      "/Library/Frameworks/Python.framework/Versions/3.12/lib/python3.12/site-packages/sklearn/linear_model/_coordinate_descent.py:697: ConvergenceWarning: Objective did not converge. You might want to increase the number of iterations, check the scale of the features or consider increasing regularisation. Duality gap: 1.697e+00, tolerance: 5.087e-02\n",
      "  model = cd_fast.enet_coordinate_descent(\n"
     ]
    },
    {
     "name": "stdout",
     "output_type": "stream",
     "text": [
      "[step_eval] step=117, done=5, total=6, hp_idx=3, fe_idx=1, score=3.711416\n",
      "[step_eval] step=117, done=6, total=6, hp_idx=4, fe_idx=1, score=3.294053\n",
      "[step_done] step=117, best_score=3.014348\n",
      "[step_predict] step=118, of=299, date=2009-11-01\n",
      "[step_search_start] step=118, hp=4, fe=3, expected_evals=6\n"
     ]
    },
    {
     "name": "stderr",
     "output_type": "stream",
     "text": [
      "/Library/Frameworks/Python.framework/Versions/3.12/lib/python3.12/site-packages/sklearn/linear_model/_coordinate_descent.py:697: ConvergenceWarning: Objective did not converge. You might want to increase the number of iterations, check the scale of the features or consider increasing regularisation. Duality gap: 1.890e+00, tolerance: 5.132e-02\n",
      "  model = cd_fast.enet_coordinate_descent(\n"
     ]
    },
    {
     "name": "stdout",
     "output_type": "stream",
     "text": [
      "[step_eval] step=118, done=1, total=6, hp_idx=1, fe_idx=1, score=2.840841\n"
     ]
    },
    {
     "name": "stderr",
     "output_type": "stream",
     "text": [
      "/Library/Frameworks/Python.framework/Versions/3.12/lib/python3.12/site-packages/sklearn/linear_model/_coordinate_descent.py:697: ConvergenceWarning: Objective did not converge. You might want to increase the number of iterations, check the scale of the features or consider increasing regularisation. Duality gap: 8.791e-01, tolerance: 5.132e-02\n",
      "  model = cd_fast.enet_coordinate_descent(\n"
     ]
    },
    {
     "name": "stdout",
     "output_type": "stream",
     "text": [
      "[step_eval] step=118, done=2, total=6, hp_idx=1, fe_idx=2, score=1.895286\n"
     ]
    },
    {
     "name": "stderr",
     "output_type": "stream",
     "text": [
      "/Library/Frameworks/Python.framework/Versions/3.12/lib/python3.12/site-packages/sklearn/linear_model/_coordinate_descent.py:697: ConvergenceWarning: Objective did not converge. You might want to increase the number of iterations, check the scale of the features or consider increasing regularisation. Duality gap: 1.073e+00, tolerance: 5.018e-02\n",
      "  model = cd_fast.enet_coordinate_descent(\n"
     ]
    },
    {
     "name": "stdout",
     "output_type": "stream",
     "text": [
      "[step_eval] step=118, done=3, total=6, hp_idx=1, fe_idx=3, score=1.017469\n"
     ]
    },
    {
     "name": "stderr",
     "output_type": "stream",
     "text": [
      "/Library/Frameworks/Python.framework/Versions/3.12/lib/python3.12/site-packages/sklearn/linear_model/_coordinate_descent.py:697: ConvergenceWarning: Objective did not converge. You might want to increase the number of iterations, check the scale of the features or consider increasing regularisation. Duality gap: 1.890e+00, tolerance: 5.132e-02\n",
      "  model = cd_fast.enet_coordinate_descent(\n"
     ]
    },
    {
     "name": "stdout",
     "output_type": "stream",
     "text": [
      "[step_eval] step=118, done=4, total=6, hp_idx=2, fe_idx=1, score=0.982675\n",
      "[step_eval] step=118, done=5, total=6, hp_idx=3, fe_idx=1, score=0.102112\n",
      "[step_eval] step=118, done=6, total=6, hp_idx=4, fe_idx=1, score=0.03543\n",
      "[step_done] step=118, best_score=0.03543\n",
      "[step_predict] step=119, of=299, date=2009-12-01\n",
      "[step_search_start] step=119, hp=4, fe=3, expected_evals=6\n",
      "[step_eval] step=119, done=1, total=6, hp_idx=1, fe_idx=1, score=1.05199\n"
     ]
    },
    {
     "name": "stderr",
     "output_type": "stream",
     "text": [
      "/Library/Frameworks/Python.framework/Versions/3.12/lib/python3.12/site-packages/sklearn/linear_model/_coordinate_descent.py:697: ConvergenceWarning: Objective did not converge. You might want to increase the number of iterations, check the scale of the features or consider increasing regularisation. Duality gap: 8.486e-01, tolerance: 5.138e-02\n",
      "  model = cd_fast.enet_coordinate_descent(\n"
     ]
    },
    {
     "name": "stdout",
     "output_type": "stream",
     "text": [
      "[step_eval] step=119, done=2, total=6, hp_idx=1, fe_idx=2, score=0.240609\n"
     ]
    },
    {
     "name": "stderr",
     "output_type": "stream",
     "text": [
      "/Library/Frameworks/Python.framework/Versions/3.12/lib/python3.12/site-packages/sklearn/linear_model/_coordinate_descent.py:697: ConvergenceWarning: Objective did not converge. You might want to increase the number of iterations, check the scale of the features or consider increasing regularisation. Duality gap: 2.155e+00, tolerance: 5.024e-02\n",
      "  model = cd_fast.enet_coordinate_descent(\n"
     ]
    },
    {
     "name": "stdout",
     "output_type": "stream",
     "text": [
      "[step_eval] step=119, done=3, total=6, hp_idx=1, fe_idx=3, score=1.570092\n"
     ]
    },
    {
     "name": "stderr",
     "output_type": "stream",
     "text": [
      "/Library/Frameworks/Python.framework/Versions/3.12/lib/python3.12/site-packages/sklearn/linear_model/_coordinate_descent.py:697: ConvergenceWarning: Objective did not converge. You might want to increase the number of iterations, check the scale of the features or consider increasing regularisation. Duality gap: 2.429e+00, tolerance: 5.138e-02\n",
      "  model = cd_fast.enet_coordinate_descent(\n"
     ]
    },
    {
     "name": "stdout",
     "output_type": "stream",
     "text": [
      "[step_eval] step=119, done=4, total=6, hp_idx=2, fe_idx=1, score=0.172559\n",
      "[step_eval] step=119, done=5, total=6, hp_idx=3, fe_idx=1, score=0.508536\n",
      "[step_eval] step=119, done=6, total=6, hp_idx=4, fe_idx=1, score=0.426449\n",
      "[step_done] step=119, best_score=0.172559\n",
      "[step_predict] step=120, of=299, date=2010-01-01\n",
      "[step_search_start] step=120, hp=4, fe=3, expected_evals=6\n",
      "[step_eval] step=120, done=1, total=6, hp_idx=1, fe_idx=1, score=0.185887\n"
     ]
    },
    {
     "name": "stderr",
     "output_type": "stream",
     "text": [
      "/Library/Frameworks/Python.framework/Versions/3.12/lib/python3.12/site-packages/sklearn/linear_model/_coordinate_descent.py:697: ConvergenceWarning: Objective did not converge. You might want to increase the number of iterations, check the scale of the features or consider increasing regularisation. Duality gap: 9.657e-01, tolerance: 5.138e-02\n",
      "  model = cd_fast.enet_coordinate_descent(\n"
     ]
    },
    {
     "name": "stdout",
     "output_type": "stream",
     "text": [
      "[step_eval] step=120, done=2, total=6, hp_idx=1, fe_idx=2, score=1.589873\n"
     ]
    },
    {
     "name": "stderr",
     "output_type": "stream",
     "text": [
      "/Library/Frameworks/Python.framework/Versions/3.12/lib/python3.12/site-packages/sklearn/linear_model/_coordinate_descent.py:697: ConvergenceWarning: Objective did not converge. You might want to increase the number of iterations, check the scale of the features or consider increasing regularisation. Duality gap: 2.253e+00, tolerance: 5.024e-02\n",
      "  model = cd_fast.enet_coordinate_descent(\n"
     ]
    },
    {
     "name": "stdout",
     "output_type": "stream",
     "text": [
      "[step_eval] step=120, done=3, total=6, hp_idx=1, fe_idx=3, score=0.893767\n",
      "[step_eval] step=120, done=4, total=6, hp_idx=2, fe_idx=1, score=0.442881\n"
     ]
    },
    {
     "name": "stderr",
     "output_type": "stream",
     "text": [
      "/Library/Frameworks/Python.framework/Versions/3.12/lib/python3.12/site-packages/sklearn/linear_model/_coordinate_descent.py:697: ConvergenceWarning: Objective did not converge. You might want to increase the number of iterations, check the scale of the features or consider increasing regularisation. Duality gap: 2.706e+00, tolerance: 5.138e-02\n",
      "  model = cd_fast.enet_coordinate_descent(\n"
     ]
    },
    {
     "name": "stdout",
     "output_type": "stream",
     "text": [
      "[step_eval] step=120, done=5, total=6, hp_idx=3, fe_idx=1, score=0.231047\n",
      "[step_eval] step=120, done=6, total=6, hp_idx=4, fe_idx=1, score=0.157604\n",
      "[step_done] step=120, best_score=0.157604\n",
      "[step_predict] step=121, of=299, date=2010-02-01\n",
      "[step_search_start] step=121, hp=4, fe=3, expected_evals=6\n",
      "[step_eval] step=121, done=1, total=6, hp_idx=1, fe_idx=1, score=1.7693\n"
     ]
    },
    {
     "name": "stderr",
     "output_type": "stream",
     "text": [
      "/Library/Frameworks/Python.framework/Versions/3.12/lib/python3.12/site-packages/sklearn/linear_model/_coordinate_descent.py:697: ConvergenceWarning: Objective did not converge. You might want to increase the number of iterations, check the scale of the features or consider increasing regularisation. Duality gap: 7.483e-01, tolerance: 5.148e-02\n",
      "  model = cd_fast.enet_coordinate_descent(\n"
     ]
    },
    {
     "name": "stdout",
     "output_type": "stream",
     "text": [
      "[step_eval] step=121, done=2, total=6, hp_idx=1, fe_idx=2, score=1.712192\n"
     ]
    },
    {
     "name": "stderr",
     "output_type": "stream",
     "text": [
      "/Library/Frameworks/Python.framework/Versions/3.12/lib/python3.12/site-packages/sklearn/linear_model/_coordinate_descent.py:697: ConvergenceWarning: Objective did not converge. You might want to increase the number of iterations, check the scale of the features or consider increasing regularisation. Duality gap: 2.419e+00, tolerance: 5.035e-02\n",
      "  model = cd_fast.enet_coordinate_descent(\n"
     ]
    },
    {
     "name": "stdout",
     "output_type": "stream",
     "text": [
      "[step_eval] step=121, done=3, total=6, hp_idx=1, fe_idx=3, score=3.278457\n"
     ]
    },
    {
     "name": "stderr",
     "output_type": "stream",
     "text": [
      "/Library/Frameworks/Python.framework/Versions/3.12/lib/python3.12/site-packages/sklearn/linear_model/_coordinate_descent.py:697: ConvergenceWarning: Objective did not converge. You might want to increase the number of iterations, check the scale of the features or consider increasing regularisation. Duality gap: 2.650e+00, tolerance: 5.148e-02\n",
      "  model = cd_fast.enet_coordinate_descent(\n"
     ]
    },
    {
     "name": "stdout",
     "output_type": "stream",
     "text": [
      "[step_eval] step=121, done=4, total=6, hp_idx=2, fe_idx=1, score=1.206188\n",
      "[step_eval] step=121, done=5, total=6, hp_idx=3, fe_idx=1, score=1.870074\n",
      "[step_eval] step=121, done=6, total=6, hp_idx=4, fe_idx=1, score=2.164959\n",
      "[step_done] step=121, best_score=1.206188\n",
      "[step_predict] step=122, of=299, date=2010-03-01\n",
      "[step_search_start] step=122, hp=4, fe=3, expected_evals=6\n",
      "[step_eval] step=122, done=1, total=6, hp_idx=1, fe_idx=1, score=2.62632\n"
     ]
    },
    {
     "name": "stderr",
     "output_type": "stream",
     "text": [
      "/Library/Frameworks/Python.framework/Versions/3.12/lib/python3.12/site-packages/sklearn/linear_model/_coordinate_descent.py:697: ConvergenceWarning: Objective did not converge. You might want to increase the number of iterations, check the scale of the features or consider increasing regularisation. Duality gap: 1.085e+00, tolerance: 5.166e-02\n",
      "  model = cd_fast.enet_coordinate_descent(\n"
     ]
    },
    {
     "name": "stdout",
     "output_type": "stream",
     "text": [
      "[step_eval] step=122, done=2, total=6, hp_idx=1, fe_idx=2, score=3.61546\n"
     ]
    },
    {
     "name": "stderr",
     "output_type": "stream",
     "text": [
      "/Library/Frameworks/Python.framework/Versions/3.12/lib/python3.12/site-packages/sklearn/linear_model/_coordinate_descent.py:697: ConvergenceWarning: Objective did not converge. You might want to increase the number of iterations, check the scale of the features or consider increasing regularisation. Duality gap: 1.915e+00, tolerance: 5.052e-02\n",
      "  model = cd_fast.enet_coordinate_descent(\n"
     ]
    },
    {
     "name": "stdout",
     "output_type": "stream",
     "text": [
      "[step_eval] step=122, done=3, total=6, hp_idx=1, fe_idx=3, score=4.728829\n"
     ]
    },
    {
     "name": "stderr",
     "output_type": "stream",
     "text": [
      "/Library/Frameworks/Python.framework/Versions/3.12/lib/python3.12/site-packages/sklearn/linear_model/_coordinate_descent.py:697: ConvergenceWarning: Objective did not converge. You might want to increase the number of iterations, check the scale of the features or consider increasing regularisation. Duality gap: 3.276e+00, tolerance: 5.166e-02\n",
      "  model = cd_fast.enet_coordinate_descent(\n"
     ]
    },
    {
     "name": "stdout",
     "output_type": "stream",
     "text": [
      "[step_eval] step=122, done=4, total=6, hp_idx=2, fe_idx=1, score=2.968697\n",
      "[step_eval] step=122, done=5, total=6, hp_idx=3, fe_idx=1, score=2.8589\n",
      "[step_eval] step=122, done=6, total=6, hp_idx=4, fe_idx=1, score=2.562664\n",
      "[step_done] step=122, best_score=2.562664\n",
      "[step_predict] step=123, of=299, date=2010-04-01\n",
      "[step_search_start] step=123, hp=4, fe=3, expected_evals=6\n",
      "[step_eval] step=123, done=1, total=6, hp_idx=1, fe_idx=1, score=0.882073\n"
     ]
    },
    {
     "name": "stderr",
     "output_type": "stream",
     "text": [
      "/Library/Frameworks/Python.framework/Versions/3.12/lib/python3.12/site-packages/sklearn/linear_model/_coordinate_descent.py:697: ConvergenceWarning: Objective did not converge. You might want to increase the number of iterations, check the scale of the features or consider increasing regularisation. Duality gap: 7.741e-01, tolerance: 5.248e-02\n",
      "  model = cd_fast.enet_coordinate_descent(\n"
     ]
    },
    {
     "name": "stdout",
     "output_type": "stream",
     "text": [
      "[step_eval] step=123, done=2, total=6, hp_idx=1, fe_idx=2, score=2.869118\n"
     ]
    },
    {
     "name": "stderr",
     "output_type": "stream",
     "text": [
      "/Library/Frameworks/Python.framework/Versions/3.12/lib/python3.12/site-packages/sklearn/linear_model/_coordinate_descent.py:697: ConvergenceWarning: Objective did not converge. You might want to increase the number of iterations, check the scale of the features or consider increasing regularisation. Duality gap: 1.781e+00, tolerance: 5.134e-02\n",
      "  model = cd_fast.enet_coordinate_descent(\n"
     ]
    },
    {
     "name": "stdout",
     "output_type": "stream",
     "text": [
      "[step_eval] step=123, done=3, total=6, hp_idx=1, fe_idx=3, score=0.504385\n"
     ]
    },
    {
     "name": "stderr",
     "output_type": "stream",
     "text": [
      "/Library/Frameworks/Python.framework/Versions/3.12/lib/python3.12/site-packages/sklearn/linear_model/_coordinate_descent.py:697: ConvergenceWarning: Objective did not converge. You might want to increase the number of iterations, check the scale of the features or consider increasing regularisation. Duality gap: 1.944e+00, tolerance: 5.248e-02\n",
      "  model = cd_fast.enet_coordinate_descent(\n"
     ]
    },
    {
     "name": "stdout",
     "output_type": "stream",
     "text": [
      "[step_eval] step=123, done=4, total=6, hp_idx=2, fe_idx=1, score=0.211073\n",
      "[step_eval] step=123, done=5, total=6, hp_idx=3, fe_idx=1, score=1.17082\n",
      "[step_eval] step=123, done=6, total=6, hp_idx=4, fe_idx=1, score=1.326186\n",
      "[step_done] step=123, best_score=0.211073\n",
      "[step_predict] step=124, of=299, date=2010-05-01\n",
      "[step_search_start] step=124, hp=4, fe=3, expected_evals=6\n"
     ]
    },
    {
     "name": "stderr",
     "output_type": "stream",
     "text": [
      "/Library/Frameworks/Python.framework/Versions/3.12/lib/python3.12/site-packages/sklearn/linear_model/_coordinate_descent.py:697: ConvergenceWarning: Objective did not converge. You might want to increase the number of iterations, check the scale of the features or consider increasing regularisation. Duality gap: 6.215e-02, tolerance: 5.302e-02\n",
      "  model = cd_fast.enet_coordinate_descent(\n"
     ]
    },
    {
     "name": "stdout",
     "output_type": "stream",
     "text": [
      "[step_eval] step=124, done=1, total=6, hp_idx=1, fe_idx=1, score=1.229114\n"
     ]
    },
    {
     "name": "stderr",
     "output_type": "stream",
     "text": [
      "/Library/Frameworks/Python.framework/Versions/3.12/lib/python3.12/site-packages/sklearn/linear_model/_coordinate_descent.py:697: ConvergenceWarning: Objective did not converge. You might want to increase the number of iterations, check the scale of the features or consider increasing regularisation. Duality gap: 2.171e-01, tolerance: 5.302e-02\n",
      "  model = cd_fast.enet_coordinate_descent(\n"
     ]
    },
    {
     "name": "stdout",
     "output_type": "stream",
     "text": [
      "[step_eval] step=124, done=2, total=6, hp_idx=1, fe_idx=2, score=2.038533\n"
     ]
    },
    {
     "name": "stderr",
     "output_type": "stream",
     "text": [
      "/Library/Frameworks/Python.framework/Versions/3.12/lib/python3.12/site-packages/sklearn/linear_model/_coordinate_descent.py:697: ConvergenceWarning: Objective did not converge. You might want to increase the number of iterations, check the scale of the features or consider increasing regularisation. Duality gap: 1.546e+00, tolerance: 5.189e-02\n",
      "  model = cd_fast.enet_coordinate_descent(\n"
     ]
    },
    {
     "name": "stdout",
     "output_type": "stream",
     "text": [
      "[step_eval] step=124, done=3, total=6, hp_idx=1, fe_idx=3, score=1.210995\n"
     ]
    },
    {
     "name": "stderr",
     "output_type": "stream",
     "text": [
      "/Library/Frameworks/Python.framework/Versions/3.12/lib/python3.12/site-packages/sklearn/linear_model/_coordinate_descent.py:697: ConvergenceWarning: Objective did not converge. You might want to increase the number of iterations, check the scale of the features or consider increasing regularisation. Duality gap: 1.720e+00, tolerance: 5.302e-02\n",
      "  model = cd_fast.enet_coordinate_descent(\n"
     ]
    },
    {
     "name": "stdout",
     "output_type": "stream",
     "text": [
      "[step_eval] step=124, done=4, total=6, hp_idx=2, fe_idx=1, score=1.500154\n",
      "[step_eval] step=124, done=5, total=6, hp_idx=3, fe_idx=1, score=1.460931\n",
      "[step_eval] step=124, done=6, total=6, hp_idx=4, fe_idx=1, score=1.391862\n",
      "[step_done] step=124, best_score=1.210995\n",
      "[step_predict] step=125, of=299, date=2010-06-01\n"
     ]
    },
    {
     "name": "stderr",
     "output_type": "stream",
     "text": [
      "/Library/Frameworks/Python.framework/Versions/3.12/lib/python3.12/site-packages/sklearn/linear_model/_coordinate_descent.py:697: ConvergenceWarning: Objective did not converge. You might want to increase the number of iterations, check the scale of the features or consider increasing regularisation. Duality gap: 6.215e-02, tolerance: 5.302e-02\n",
      "  model = cd_fast.enet_coordinate_descent(\n"
     ]
    },
    {
     "name": "stdout",
     "output_type": "stream",
     "text": [
      "[step_search_start] step=125, hp=4, fe=3, expected_evals=6\n"
     ]
    },
    {
     "name": "stderr",
     "output_type": "stream",
     "text": [
      "/Library/Frameworks/Python.framework/Versions/3.12/lib/python3.12/site-packages/sklearn/linear_model/_coordinate_descent.py:697: ConvergenceWarning: Objective did not converge. You might want to increase the number of iterations, check the scale of the features or consider increasing regularisation. Duality gap: 1.351e+00, tolerance: 5.375e-02\n",
      "  model = cd_fast.enet_coordinate_descent(\n"
     ]
    },
    {
     "name": "stdout",
     "output_type": "stream",
     "text": [
      "[step_eval] step=125, done=1, total=6, hp_idx=1, fe_idx=1, score=0.149697\n"
     ]
    },
    {
     "name": "stderr",
     "output_type": "stream",
     "text": [
      "/Library/Frameworks/Python.framework/Versions/3.12/lib/python3.12/site-packages/sklearn/linear_model/_coordinate_descent.py:697: ConvergenceWarning: Objective did not converge. You might want to increase the number of iterations, check the scale of the features or consider increasing regularisation. Duality gap: 6.110e-01, tolerance: 5.375e-02\n",
      "  model = cd_fast.enet_coordinate_descent(\n"
     ]
    },
    {
     "name": "stdout",
     "output_type": "stream",
     "text": [
      "[step_eval] step=125, done=2, total=6, hp_idx=1, fe_idx=2, score=0.409448\n"
     ]
    },
    {
     "name": "stderr",
     "output_type": "stream",
     "text": [
      "/Library/Frameworks/Python.framework/Versions/3.12/lib/python3.12/site-packages/sklearn/linear_model/_coordinate_descent.py:697: ConvergenceWarning: Objective did not converge. You might want to increase the number of iterations, check the scale of the features or consider increasing regularisation. Duality gap: 1.458e+00, tolerance: 5.262e-02\n",
      "  model = cd_fast.enet_coordinate_descent(\n"
     ]
    },
    {
     "name": "stdout",
     "output_type": "stream",
     "text": [
      "[step_eval] step=125, done=3, total=6, hp_idx=1, fe_idx=3, score=1.222679\n"
     ]
    },
    {
     "name": "stderr",
     "output_type": "stream",
     "text": [
      "/Library/Frameworks/Python.framework/Versions/3.12/lib/python3.12/site-packages/sklearn/linear_model/_coordinate_descent.py:697: ConvergenceWarning: Objective did not converge. You might want to increase the number of iterations, check the scale of the features or consider increasing regularisation. Duality gap: 1.351e+00, tolerance: 5.375e-02\n",
      "  model = cd_fast.enet_coordinate_descent(\n"
     ]
    },
    {
     "name": "stdout",
     "output_type": "stream",
     "text": [
      "[step_eval] step=125, done=4, total=6, hp_idx=2, fe_idx=1, score=0.009451\n",
      "[step_eval] step=125, done=5, total=6, hp_idx=3, fe_idx=1, score=1.483418\n",
      "[step_eval] step=125, done=6, total=6, hp_idx=4, fe_idx=1, score=1.88963\n",
      "[step_done] step=125, best_score=0.009451\n",
      "[step_predict] step=126, of=299, date=2010-07-01\n",
      "[step_search_start] step=126, hp=4, fe=3, expected_evals=6\n",
      "[step_eval] step=126, done=1, total=6, hp_idx=1, fe_idx=1, score=1.404923\n"
     ]
    },
    {
     "name": "stderr",
     "output_type": "stream",
     "text": [
      "/Library/Frameworks/Python.framework/Versions/3.12/lib/python3.12/site-packages/sklearn/linear_model/_coordinate_descent.py:697: ConvergenceWarning: Objective did not converge. You might want to increase the number of iterations, check the scale of the features or consider increasing regularisation. Duality gap: 6.178e-01, tolerance: 5.382e-02\n",
      "  model = cd_fast.enet_coordinate_descent(\n"
     ]
    },
    {
     "name": "stdout",
     "output_type": "stream",
     "text": [
      "[step_eval] step=126, done=2, total=6, hp_idx=1, fe_idx=2, score=0.8569\n"
     ]
    },
    {
     "name": "stderr",
     "output_type": "stream",
     "text": [
      "/Library/Frameworks/Python.framework/Versions/3.12/lib/python3.12/site-packages/sklearn/linear_model/_coordinate_descent.py:697: ConvergenceWarning: Objective did not converge. You might want to increase the number of iterations, check the scale of the features or consider increasing regularisation. Duality gap: 1.527e+00, tolerance: 5.269e-02\n",
      "  model = cd_fast.enet_coordinate_descent(\n"
     ]
    },
    {
     "name": "stdout",
     "output_type": "stream",
     "text": [
      "[step_eval] step=126, done=3, total=6, hp_idx=1, fe_idx=3, score=0.753863\n"
     ]
    },
    {
     "name": "stderr",
     "output_type": "stream",
     "text": [
      "/Library/Frameworks/Python.framework/Versions/3.12/lib/python3.12/site-packages/sklearn/linear_model/_coordinate_descent.py:697: ConvergenceWarning: Objective did not converge. You might want to increase the number of iterations, check the scale of the features or consider increasing regularisation. Duality gap: 1.548e+00, tolerance: 5.382e-02\n",
      "  model = cd_fast.enet_coordinate_descent(\n"
     ]
    },
    {
     "name": "stdout",
     "output_type": "stream",
     "text": [
      "[step_eval] step=126, done=4, total=6, hp_idx=2, fe_idx=1, score=0.978836\n",
      "[step_eval] step=126, done=5, total=6, hp_idx=3, fe_idx=1, score=1.304777\n",
      "[step_eval] step=126, done=6, total=6, hp_idx=4, fe_idx=1, score=1.300489\n",
      "[step_done] step=126, best_score=0.753863\n",
      "[step_predict] step=127, of=299, date=2010-08-01\n"
     ]
    },
    {
     "name": "stderr",
     "output_type": "stream",
     "text": [
      "/Library/Frameworks/Python.framework/Versions/3.12/lib/python3.12/site-packages/sklearn/linear_model/_coordinate_descent.py:697: ConvergenceWarning: Objective did not converge. You might want to increase the number of iterations, check the scale of the features or consider increasing regularisation. Duality gap: 6.230e-02, tolerance: 5.382e-02\n",
      "  model = cd_fast.enet_coordinate_descent(\n"
     ]
    },
    {
     "name": "stdout",
     "output_type": "stream",
     "text": [
      "[step_search_start] step=127, hp=4, fe=3, expected_evals=6\n"
     ]
    },
    {
     "name": "stderr",
     "output_type": "stream",
     "text": [
      "/Library/Frameworks/Python.framework/Versions/3.12/lib/python3.12/site-packages/sklearn/linear_model/_coordinate_descent.py:697: ConvergenceWarning: Objective did not converge. You might want to increase the number of iterations, check the scale of the features or consider increasing regularisation. Duality gap: 1.754e+00, tolerance: 5.384e-02\n",
      "  model = cd_fast.enet_coordinate_descent(\n"
     ]
    },
    {
     "name": "stdout",
     "output_type": "stream",
     "text": [
      "[step_eval] step=127, done=1, total=6, hp_idx=1, fe_idx=1, score=1.918089\n"
     ]
    },
    {
     "name": "stderr",
     "output_type": "stream",
     "text": [
      "/Library/Frameworks/Python.framework/Versions/3.12/lib/python3.12/site-packages/sklearn/linear_model/_coordinate_descent.py:697: ConvergenceWarning: Objective did not converge. You might want to increase the number of iterations, check the scale of the features or consider increasing regularisation. Duality gap: 1.063e+00, tolerance: 5.384e-02\n",
      "  model = cd_fast.enet_coordinate_descent(\n"
     ]
    },
    {
     "name": "stdout",
     "output_type": "stream",
     "text": [
      "[step_eval] step=127, done=2, total=6, hp_idx=1, fe_idx=2, score=1.1073\n"
     ]
    },
    {
     "name": "stderr",
     "output_type": "stream",
     "text": [
      "/Library/Frameworks/Python.framework/Versions/3.12/lib/python3.12/site-packages/sklearn/linear_model/_coordinate_descent.py:697: ConvergenceWarning: Objective did not converge. You might want to increase the number of iterations, check the scale of the features or consider increasing regularisation. Duality gap: 1.399e+00, tolerance: 5.270e-02\n",
      "  model = cd_fast.enet_coordinate_descent(\n"
     ]
    },
    {
     "name": "stdout",
     "output_type": "stream",
     "text": [
      "[step_eval] step=127, done=3, total=6, hp_idx=1, fe_idx=3, score=0.107364\n"
     ]
    },
    {
     "name": "stderr",
     "output_type": "stream",
     "text": [
      "/Library/Frameworks/Python.framework/Versions/3.12/lib/python3.12/site-packages/sklearn/linear_model/_coordinate_descent.py:697: ConvergenceWarning: Objective did not converge. You might want to increase the number of iterations, check the scale of the features or consider increasing regularisation. Duality gap: 1.754e+00, tolerance: 5.384e-02\n",
      "  model = cd_fast.enet_coordinate_descent(\n"
     ]
    },
    {
     "name": "stdout",
     "output_type": "stream",
     "text": [
      "[step_eval] step=127, done=4, total=6, hp_idx=2, fe_idx=1, score=0.355289\n",
      "[step_eval] step=127, done=5, total=6, hp_idx=3, fe_idx=1, score=0.235693\n",
      "[step_eval] step=127, done=6, total=6, hp_idx=4, fe_idx=1, score=0.619956\n",
      "[step_done] step=127, best_score=0.107364\n",
      "[step_predict] step=128, of=299, date=2010-09-01\n"
     ]
    },
    {
     "name": "stderr",
     "output_type": "stream",
     "text": [
      "/Library/Frameworks/Python.framework/Versions/3.12/lib/python3.12/site-packages/sklearn/linear_model/_coordinate_descent.py:697: ConvergenceWarning: Objective did not converge. You might want to increase the number of iterations, check the scale of the features or consider increasing regularisation. Duality gap: 6.786e-02, tolerance: 5.384e-02\n",
      "  model = cd_fast.enet_coordinate_descent(\n"
     ]
    },
    {
     "name": "stdout",
     "output_type": "stream",
     "text": [
      "[step_search_start] step=128, hp=4, fe=3, expected_evals=6\n"
     ]
    },
    {
     "name": "stderr",
     "output_type": "stream",
     "text": [
      "/Library/Frameworks/Python.framework/Versions/3.12/lib/python3.12/site-packages/sklearn/linear_model/_coordinate_descent.py:697: ConvergenceWarning: Objective did not converge. You might want to increase the number of iterations, check the scale of the features or consider increasing regularisation. Duality gap: 1.134e+00, tolerance: 5.402e-02\n",
      "  model = cd_fast.enet_coordinate_descent(\n"
     ]
    },
    {
     "name": "stdout",
     "output_type": "stream",
     "text": [
      "[step_eval] step=128, done=1, total=6, hp_idx=1, fe_idx=1, score=0.215436\n"
     ]
    },
    {
     "name": "stderr",
     "output_type": "stream",
     "text": [
      "/Library/Frameworks/Python.framework/Versions/3.12/lib/python3.12/site-packages/sklearn/linear_model/_coordinate_descent.py:697: ConvergenceWarning: Objective did not converge. You might want to increase the number of iterations, check the scale of the features or consider increasing regularisation. Duality gap: 7.090e-01, tolerance: 5.402e-02\n",
      "  model = cd_fast.enet_coordinate_descent(\n"
     ]
    },
    {
     "name": "stdout",
     "output_type": "stream",
     "text": [
      "[step_eval] step=128, done=2, total=6, hp_idx=1, fe_idx=2, score=0.787176\n"
     ]
    },
    {
     "name": "stderr",
     "output_type": "stream",
     "text": [
      "/Library/Frameworks/Python.framework/Versions/3.12/lib/python3.12/site-packages/sklearn/linear_model/_coordinate_descent.py:697: ConvergenceWarning: Objective did not converge. You might want to increase the number of iterations, check the scale of the features or consider increasing regularisation. Duality gap: 1.057e+00, tolerance: 5.288e-02\n",
      "  model = cd_fast.enet_coordinate_descent(\n"
     ]
    },
    {
     "name": "stdout",
     "output_type": "stream",
     "text": [
      "[step_eval] step=128, done=3, total=6, hp_idx=1, fe_idx=3, score=0.709781\n"
     ]
    },
    {
     "name": "stderr",
     "output_type": "stream",
     "text": [
      "/Library/Frameworks/Python.framework/Versions/3.12/lib/python3.12/site-packages/sklearn/linear_model/_coordinate_descent.py:697: ConvergenceWarning: Objective did not converge. You might want to increase the number of iterations, check the scale of the features or consider increasing regularisation. Duality gap: 1.134e+00, tolerance: 5.402e-02\n",
      "  model = cd_fast.enet_coordinate_descent(\n"
     ]
    },
    {
     "name": "stdout",
     "output_type": "stream",
     "text": [
      "[step_eval] step=128, done=4, total=6, hp_idx=2, fe_idx=1, score=0.119104\n",
      "[step_eval] step=128, done=5, total=6, hp_idx=3, fe_idx=1, score=0.145324\n",
      "[step_eval] step=128, done=6, total=6, hp_idx=4, fe_idx=1, score=0.42367\n",
      "[step_done] step=128, best_score=0.119104\n",
      "[step_predict] step=129, of=299, date=2010-10-01\n",
      "[step_search_start] step=129, hp=4, fe=3, expected_evals=6\n",
      "[step_eval] step=129, done=1, total=6, hp_idx=1, fe_idx=1, score=2.543996\n"
     ]
    },
    {
     "name": "stderr",
     "output_type": "stream",
     "text": [
      "/Library/Frameworks/Python.framework/Versions/3.12/lib/python3.12/site-packages/sklearn/linear_model/_coordinate_descent.py:697: ConvergenceWarning: Objective did not converge. You might want to increase the number of iterations, check the scale of the features or consider increasing regularisation. Duality gap: 6.709e-01, tolerance: 5.414e-02\n",
      "  model = cd_fast.enet_coordinate_descent(\n"
     ]
    },
    {
     "name": "stdout",
     "output_type": "stream",
     "text": [
      "[step_eval] step=129, done=2, total=6, hp_idx=1, fe_idx=2, score=0.505407\n"
     ]
    },
    {
     "name": "stderr",
     "output_type": "stream",
     "text": [
      "/Library/Frameworks/Python.framework/Versions/3.12/lib/python3.12/site-packages/sklearn/linear_model/_coordinate_descent.py:697: ConvergenceWarning: Objective did not converge. You might want to increase the number of iterations, check the scale of the features or consider increasing regularisation. Duality gap: 1.273e+00, tolerance: 5.300e-02\n",
      "  model = cd_fast.enet_coordinate_descent(\n"
     ]
    },
    {
     "name": "stdout",
     "output_type": "stream",
     "text": [
      "[step_eval] step=129, done=3, total=6, hp_idx=1, fe_idx=3, score=1.759893\n"
     ]
    },
    {
     "name": "stderr",
     "output_type": "stream",
     "text": [
      "/Library/Frameworks/Python.framework/Versions/3.12/lib/python3.12/site-packages/sklearn/linear_model/_coordinate_descent.py:697: ConvergenceWarning: Objective did not converge. You might want to increase the number of iterations, check the scale of the features or consider increasing regularisation. Duality gap: 1.508e+00, tolerance: 5.414e-02\n",
      "  model = cd_fast.enet_coordinate_descent(\n"
     ]
    },
    {
     "name": "stdout",
     "output_type": "stream",
     "text": [
      "[step_eval] step=129, done=4, total=6, hp_idx=2, fe_idx=1, score=0.698587\n",
      "[step_eval] step=129, done=5, total=6, hp_idx=3, fe_idx=1, score=1.217863\n",
      "[step_eval] step=129, done=6, total=6, hp_idx=4, fe_idx=1, score=1.057555\n",
      "[step_done] step=129, best_score=0.505407\n",
      "[step_predict] step=130, of=299, date=2010-11-01\n",
      "[step_search_start] step=130, hp=4, fe=3, expected_evals=6\n"
     ]
    },
    {
     "name": "stderr",
     "output_type": "stream",
     "text": [
      "/Library/Frameworks/Python.framework/Versions/3.12/lib/python3.12/site-packages/sklearn/linear_model/_coordinate_descent.py:697: ConvergenceWarning: Objective did not converge. You might want to increase the number of iterations, check the scale of the features or consider increasing regularisation. Duality gap: 1.694e+00, tolerance: 5.327e-02\n",
      "  model = cd_fast.enet_coordinate_descent(\n"
     ]
    },
    {
     "name": "stdout",
     "output_type": "stream",
     "text": [
      "[step_eval] step=130, done=1, total=6, hp_idx=1, fe_idx=1, score=0.041426\n"
     ]
    },
    {
     "name": "stderr",
     "output_type": "stream",
     "text": [
      "/Library/Frameworks/Python.framework/Versions/3.12/lib/python3.12/site-packages/sklearn/linear_model/_coordinate_descent.py:697: ConvergenceWarning: Objective did not converge. You might want to increase the number of iterations, check the scale of the features or consider increasing regularisation. Duality gap: 7.504e-01, tolerance: 5.440e-02\n",
      "  model = cd_fast.enet_coordinate_descent(\n"
     ]
    },
    {
     "name": "stdout",
     "output_type": "stream",
     "text": [
      "[step_eval] step=130, done=2, total=6, hp_idx=1, fe_idx=2, score=0.016525\n"
     ]
    },
    {
     "name": "stderr",
     "output_type": "stream",
     "text": [
      "/Library/Frameworks/Python.framework/Versions/3.12/lib/python3.12/site-packages/sklearn/linear_model/_coordinate_descent.py:697: ConvergenceWarning: Objective did not converge. You might want to increase the number of iterations, check the scale of the features or consider increasing regularisation. Duality gap: 1.694e+00, tolerance: 5.327e-02\n",
      "  model = cd_fast.enet_coordinate_descent(\n"
     ]
    },
    {
     "name": "stdout",
     "output_type": "stream",
     "text": [
      "[step_eval] step=130, done=3, total=6, hp_idx=1, fe_idx=3, score=1.930548\n"
     ]
    },
    {
     "name": "stderr",
     "output_type": "stream",
     "text": [
      "/Library/Frameworks/Python.framework/Versions/3.12/lib/python3.12/site-packages/sklearn/linear_model/_coordinate_descent.py:697: ConvergenceWarning: Objective did not converge. You might want to increase the number of iterations, check the scale of the features or consider increasing regularisation. Duality gap: 1.364e+00, tolerance: 5.440e-02\n",
      "  model = cd_fast.enet_coordinate_descent(\n"
     ]
    },
    {
     "name": "stdout",
     "output_type": "stream",
     "text": [
      "[step_eval] step=130, done=4, total=6, hp_idx=2, fe_idx=1, score=0.239822\n",
      "[step_eval] step=130, done=5, total=6, hp_idx=3, fe_idx=1, score=0.875584\n",
      "[step_eval] step=130, done=6, total=6, hp_idx=4, fe_idx=1, score=1.080456\n",
      "[step_done] step=130, best_score=0.016525\n",
      "[step_predict] step=131, of=299, date=2010-12-01\n",
      "[step_search_start] step=131, hp=4, fe=3, expected_evals=6\n"
     ]
    },
    {
     "name": "stderr",
     "output_type": "stream",
     "text": [
      "/Library/Frameworks/Python.framework/Versions/3.12/lib/python3.12/site-packages/sklearn/linear_model/_coordinate_descent.py:697: ConvergenceWarning: Objective did not converge. You might want to increase the number of iterations, check the scale of the features or consider increasing regularisation. Duality gap: 1.594e+00, tolerance: 5.332e-02\n",
      "  model = cd_fast.enet_coordinate_descent(\n"
     ]
    },
    {
     "name": "stdout",
     "output_type": "stream",
     "text": [
      "[step_eval] step=131, done=1, total=6, hp_idx=1, fe_idx=1, score=1.012764\n"
     ]
    },
    {
     "name": "stderr",
     "output_type": "stream",
     "text": [
      "/Library/Frameworks/Python.framework/Versions/3.12/lib/python3.12/site-packages/sklearn/linear_model/_coordinate_descent.py:697: ConvergenceWarning: Objective did not converge. You might want to increase the number of iterations, check the scale of the features or consider increasing regularisation. Duality gap: 7.179e-01, tolerance: 5.445e-02\n",
      "  model = cd_fast.enet_coordinate_descent(\n"
     ]
    },
    {
     "name": "stdout",
     "output_type": "stream",
     "text": [
      "[step_eval] step=131, done=2, total=6, hp_idx=1, fe_idx=2, score=0.686\n"
     ]
    },
    {
     "name": "stderr",
     "output_type": "stream",
     "text": [
      "/Library/Frameworks/Python.framework/Versions/3.12/lib/python3.12/site-packages/sklearn/linear_model/_coordinate_descent.py:697: ConvergenceWarning: Objective did not converge. You might want to increase the number of iterations, check the scale of the features or consider increasing regularisation. Duality gap: 1.594e+00, tolerance: 5.332e-02\n",
      "  model = cd_fast.enet_coordinate_descent(\n"
     ]
    },
    {
     "name": "stdout",
     "output_type": "stream",
     "text": [
      "[step_eval] step=131, done=3, total=6, hp_idx=1, fe_idx=3, score=1.324734\n"
     ]
    },
    {
     "name": "stderr",
     "output_type": "stream",
     "text": [
      "/Library/Frameworks/Python.framework/Versions/3.12/lib/python3.12/site-packages/sklearn/linear_model/_coordinate_descent.py:697: ConvergenceWarning: Objective did not converge. You might want to increase the number of iterations, check the scale of the features or consider increasing regularisation. Duality gap: 1.036e+00, tolerance: 5.445e-02\n",
      "  model = cd_fast.enet_coordinate_descent(\n"
     ]
    },
    {
     "name": "stdout",
     "output_type": "stream",
     "text": [
      "[step_eval] step=131, done=4, total=6, hp_idx=2, fe_idx=1, score=0.026115\n",
      "[step_eval] step=131, done=5, total=6, hp_idx=3, fe_idx=1, score=0.426897\n",
      "[step_eval] step=131, done=6, total=6, hp_idx=4, fe_idx=1, score=0.377883\n",
      "[step_done] step=131, best_score=0.026115\n",
      "[step_predict] step=132, of=299, date=2011-01-01\n",
      "[step_search_start] step=132, hp=4, fe=3, expected_evals=6\n",
      "[step_eval] step=132, done=1, total=6, hp_idx=1, fe_idx=1, score=0.908551\n"
     ]
    },
    {
     "name": "stderr",
     "output_type": "stream",
     "text": [
      "/Library/Frameworks/Python.framework/Versions/3.12/lib/python3.12/site-packages/sklearn/linear_model/_coordinate_descent.py:697: ConvergenceWarning: Objective did not converge. You might want to increase the number of iterations, check the scale of the features or consider increasing regularisation. Duality gap: 8.780e-01, tolerance: 5.449e-02\n",
      "  model = cd_fast.enet_coordinate_descent(\n"
     ]
    },
    {
     "name": "stdout",
     "output_type": "stream",
     "text": [
      "[step_eval] step=132, done=2, total=6, hp_idx=1, fe_idx=2, score=0.166074\n"
     ]
    },
    {
     "name": "stderr",
     "output_type": "stream",
     "text": [
      "/Library/Frameworks/Python.framework/Versions/3.12/lib/python3.12/site-packages/sklearn/linear_model/_coordinate_descent.py:697: ConvergenceWarning: Objective did not converge. You might want to increase the number of iterations, check the scale of the features or consider increasing regularisation. Duality gap: 1.140e+00, tolerance: 5.336e-02\n",
      "  model = cd_fast.enet_coordinate_descent(\n"
     ]
    },
    {
     "name": "stdout",
     "output_type": "stream",
     "text": [
      "[step_eval] step=132, done=3, total=6, hp_idx=1, fe_idx=3, score=0.216195\n"
     ]
    },
    {
     "name": "stderr",
     "output_type": "stream",
     "text": [
      "/Library/Frameworks/Python.framework/Versions/3.12/lib/python3.12/site-packages/sklearn/linear_model/_coordinate_descent.py:697: ConvergenceWarning: Objective did not converge. You might want to increase the number of iterations, check the scale of the features or consider increasing regularisation. Duality gap: 1.414e+00, tolerance: 5.449e-02\n",
      "  model = cd_fast.enet_coordinate_descent(\n"
     ]
    },
    {
     "name": "stdout",
     "output_type": "stream",
     "text": [
      "[step_eval] step=132, done=4, total=6, hp_idx=2, fe_idx=1, score=0.488909\n",
      "[step_eval] step=132, done=5, total=6, hp_idx=3, fe_idx=1, score=0.617215\n",
      "[step_eval] step=132, done=6, total=6, hp_idx=4, fe_idx=1, score=0.448179\n",
      "[step_done] step=132, best_score=0.166074\n",
      "[step_predict] step=133, of=299, date=2011-02-01\n",
      "[step_search_start] step=133, hp=4, fe=3, expected_evals=6\n"
     ]
    },
    {
     "name": "stderr",
     "output_type": "stream",
     "text": [
      "/Library/Frameworks/Python.framework/Versions/3.12/lib/python3.12/site-packages/sklearn/linear_model/_coordinate_descent.py:697: ConvergenceWarning: Objective did not converge. You might want to increase the number of iterations, check the scale of the features or consider increasing regularisation. Duality gap: 1.223e+00, tolerance: 5.342e-02\n",
      "  model = cd_fast.enet_coordinate_descent(\n"
     ]
    },
    {
     "name": "stdout",
     "output_type": "stream",
     "text": [
      "[step_eval] step=133, done=1, total=6, hp_idx=1, fe_idx=1, score=0.041703\n"
     ]
    },
    {
     "name": "stderr",
     "output_type": "stream",
     "text": [
      "/Library/Frameworks/Python.framework/Versions/3.12/lib/python3.12/site-packages/sklearn/linear_model/_coordinate_descent.py:697: ConvergenceWarning: Objective did not converge. You might want to increase the number of iterations, check the scale of the features or consider increasing regularisation. Duality gap: 5.613e-01, tolerance: 5.455e-02\n",
      "  model = cd_fast.enet_coordinate_descent(\n"
     ]
    },
    {
     "name": "stdout",
     "output_type": "stream",
     "text": [
      "[step_eval] step=133, done=2, total=6, hp_idx=1, fe_idx=2, score=1.27033\n"
     ]
    },
    {
     "name": "stderr",
     "output_type": "stream",
     "text": [
      "/Library/Frameworks/Python.framework/Versions/3.12/lib/python3.12/site-packages/sklearn/linear_model/_coordinate_descent.py:697: ConvergenceWarning: Objective did not converge. You might want to increase the number of iterations, check the scale of the features or consider increasing regularisation. Duality gap: 1.223e+00, tolerance: 5.342e-02\n",
      "  model = cd_fast.enet_coordinate_descent(\n"
     ]
    },
    {
     "name": "stdout",
     "output_type": "stream",
     "text": [
      "[step_eval] step=133, done=3, total=6, hp_idx=1, fe_idx=3, score=0.240071\n"
     ]
    },
    {
     "name": "stderr",
     "output_type": "stream",
     "text": [
      "/Library/Frameworks/Python.framework/Versions/3.12/lib/python3.12/site-packages/sklearn/linear_model/_coordinate_descent.py:697: ConvergenceWarning: Objective did not converge. You might want to increase the number of iterations, check the scale of the features or consider increasing regularisation. Duality gap: 1.446e+00, tolerance: 5.455e-02\n",
      "  model = cd_fast.enet_coordinate_descent(\n"
     ]
    },
    {
     "name": "stdout",
     "output_type": "stream",
     "text": [
      "[step_eval] step=133, done=4, total=6, hp_idx=2, fe_idx=1, score=0.271844\n",
      "[step_eval] step=133, done=5, total=6, hp_idx=3, fe_idx=1, score=0.125453\n",
      "[step_eval] step=133, done=6, total=6, hp_idx=4, fe_idx=1, score=0.351482\n",
      "[step_done] step=133, best_score=0.041703\n",
      "[step_predict] step=134, of=299, date=2011-03-01\n",
      "[step_search_start] step=134, hp=4, fe=3, expected_evals=6\n"
     ]
    },
    {
     "name": "stderr",
     "output_type": "stream",
     "text": [
      "/Library/Frameworks/Python.framework/Versions/3.12/lib/python3.12/site-packages/sklearn/linear_model/_coordinate_descent.py:697: ConvergenceWarning: Objective did not converge. You might want to increase the number of iterations, check the scale of the features or consider increasing regularisation. Duality gap: 6.281e-01, tolerance: 5.462e-02\n",
      "  model = cd_fast.enet_coordinate_descent(\n"
     ]
    },
    {
     "name": "stdout",
     "output_type": "stream",
     "text": [
      "[step_eval] step=134, done=1, total=6, hp_idx=1, fe_idx=1, score=0.863959\n"
     ]
    },
    {
     "name": "stderr",
     "output_type": "stream",
     "text": [
      "/Library/Frameworks/Python.framework/Versions/3.12/lib/python3.12/site-packages/sklearn/linear_model/_coordinate_descent.py:697: ConvergenceWarning: Objective did not converge. You might want to increase the number of iterations, check the scale of the features or consider increasing regularisation. Duality gap: 6.281e-01, tolerance: 5.462e-02\n",
      "  model = cd_fast.enet_coordinate_descent(\n"
     ]
    },
    {
     "name": "stdout",
     "output_type": "stream",
     "text": [
      "[step_eval] step=134, done=2, total=6, hp_idx=1, fe_idx=2, score=0.699948\n"
     ]
    },
    {
     "name": "stderr",
     "output_type": "stream",
     "text": [
      "/Library/Frameworks/Python.framework/Versions/3.12/lib/python3.12/site-packages/sklearn/linear_model/_coordinate_descent.py:697: ConvergenceWarning: Objective did not converge. You might want to increase the number of iterations, check the scale of the features or consider increasing regularisation. Duality gap: 2.022e+00, tolerance: 5.349e-02\n",
      "  model = cd_fast.enet_coordinate_descent(\n"
     ]
    },
    {
     "name": "stdout",
     "output_type": "stream",
     "text": [
      "[step_eval] step=134, done=3, total=6, hp_idx=1, fe_idx=3, score=1.580415\n"
     ]
    },
    {
     "name": "stderr",
     "output_type": "stream",
     "text": [
      "/Library/Frameworks/Python.framework/Versions/3.12/lib/python3.12/site-packages/sklearn/linear_model/_coordinate_descent.py:697: ConvergenceWarning: Objective did not converge. You might want to increase the number of iterations, check the scale of the features or consider increasing regularisation. Duality gap: 1.450e+00, tolerance: 5.462e-02\n",
      "  model = cd_fast.enet_coordinate_descent(\n"
     ]
    },
    {
     "name": "stdout",
     "output_type": "stream",
     "text": [
      "[step_eval] step=134, done=4, total=6, hp_idx=2, fe_idx=1, score=0.656516\n",
      "[step_eval] step=134, done=5, total=6, hp_idx=3, fe_idx=1, score=0.423079\n",
      "[step_eval] step=134, done=6, total=6, hp_idx=4, fe_idx=1, score=0.199959\n",
      "[step_done] step=134, best_score=0.199959\n",
      "[step_predict] step=135, of=299, date=2011-04-01\n",
      "[step_search_start] step=135, hp=4, fe=3, expected_evals=6\n",
      "[step_eval] step=135, done=1, total=6, hp_idx=1, fe_idx=1, score=2.1062\n"
     ]
    },
    {
     "name": "stderr",
     "output_type": "stream",
     "text": [
      "/Library/Frameworks/Python.framework/Versions/3.12/lib/python3.12/site-packages/sklearn/linear_model/_coordinate_descent.py:697: ConvergenceWarning: Objective did not converge. You might want to increase the number of iterations, check the scale of the features or consider increasing regularisation. Duality gap: 5.825e-01, tolerance: 5.462e-02\n",
      "  model = cd_fast.enet_coordinate_descent(\n"
     ]
    },
    {
     "name": "stdout",
     "output_type": "stream",
     "text": [
      "[step_eval] step=135, done=2, total=6, hp_idx=1, fe_idx=2, score=0.467634\n"
     ]
    },
    {
     "name": "stderr",
     "output_type": "stream",
     "text": [
      "/Library/Frameworks/Python.framework/Versions/3.12/lib/python3.12/site-packages/sklearn/linear_model/_coordinate_descent.py:697: ConvergenceWarning: Objective did not converge. You might want to increase the number of iterations, check the scale of the features or consider increasing regularisation. Duality gap: 2.259e+00, tolerance: 5.349e-02\n",
      "  model = cd_fast.enet_coordinate_descent(\n"
     ]
    },
    {
     "name": "stdout",
     "output_type": "stream",
     "text": [
      "[step_eval] step=135, done=3, total=6, hp_idx=1, fe_idx=3, score=0.221455\n"
     ]
    },
    {
     "name": "stderr",
     "output_type": "stream",
     "text": [
      "/Library/Frameworks/Python.framework/Versions/3.12/lib/python3.12/site-packages/sklearn/linear_model/_coordinate_descent.py:697: ConvergenceWarning: Objective did not converge. You might want to increase the number of iterations, check the scale of the features or consider increasing regularisation. Duality gap: 1.553e+00, tolerance: 5.462e-02\n",
      "  model = cd_fast.enet_coordinate_descent(\n"
     ]
    },
    {
     "name": "stdout",
     "output_type": "stream",
     "text": [
      "[step_eval] step=135, done=4, total=6, hp_idx=2, fe_idx=1, score=0.206545\n",
      "[step_eval] step=135, done=5, total=6, hp_idx=3, fe_idx=1, score=0.188114\n",
      "[step_eval] step=135, done=6, total=6, hp_idx=4, fe_idx=1, score=0.041303\n",
      "[step_done] step=135, best_score=0.041303\n",
      "[step_predict] step=136, of=299, date=2011-05-01\n",
      "[step_search_start] step=136, hp=4, fe=3, expected_evals=6\n",
      "[step_eval] step=136, done=1, total=6, hp_idx=1, fe_idx=1, score=1.29372\n"
     ]
    },
    {
     "name": "stderr",
     "output_type": "stream",
     "text": [
      "/Library/Frameworks/Python.framework/Versions/3.12/lib/python3.12/site-packages/sklearn/linear_model/_coordinate_descent.py:697: ConvergenceWarning: Objective did not converge. You might want to increase the number of iterations, check the scale of the features or consider increasing regularisation. Duality gap: 7.354e-01, tolerance: 5.462e-02\n",
      "  model = cd_fast.enet_coordinate_descent(\n"
     ]
    },
    {
     "name": "stdout",
     "output_type": "stream",
     "text": [
      "[step_eval] step=136, done=2, total=6, hp_idx=1, fe_idx=2, score=1.908833\n"
     ]
    },
    {
     "name": "stderr",
     "output_type": "stream",
     "text": [
      "/Library/Frameworks/Python.framework/Versions/3.12/lib/python3.12/site-packages/sklearn/linear_model/_coordinate_descent.py:697: ConvergenceWarning: Objective did not converge. You might want to increase the number of iterations, check the scale of the features or consider increasing regularisation. Duality gap: 2.237e+00, tolerance: 5.349e-02\n",
      "  model = cd_fast.enet_coordinate_descent(\n"
     ]
    },
    {
     "name": "stdout",
     "output_type": "stream",
     "text": [
      "[step_eval] step=136, done=3, total=6, hp_idx=1, fe_idx=3, score=2.449269\n"
     ]
    },
    {
     "name": "stderr",
     "output_type": "stream",
     "text": [
      "/Library/Frameworks/Python.framework/Versions/3.12/lib/python3.12/site-packages/sklearn/linear_model/_coordinate_descent.py:697: ConvergenceWarning: Objective did not converge. You might want to increase the number of iterations, check the scale of the features or consider increasing regularisation. Duality gap: 1.678e+00, tolerance: 5.462e-02\n",
      "  model = cd_fast.enet_coordinate_descent(\n"
     ]
    },
    {
     "name": "stdout",
     "output_type": "stream",
     "text": [
      "[step_eval] step=136, done=4, total=6, hp_idx=2, fe_idx=1, score=1.431258\n",
      "[step_eval] step=136, done=5, total=6, hp_idx=3, fe_idx=1, score=1.178633\n",
      "[step_eval] step=136, done=6, total=6, hp_idx=4, fe_idx=1, score=1.020256\n",
      "[step_done] step=136, best_score=1.020256\n",
      "[step_predict] step=137, of=299, date=2011-06-01\n",
      "[step_search_start] step=137, hp=4, fe=3, expected_evals=6\n",
      "[step_eval] step=137, done=1, total=6, hp_idx=1, fe_idx=1, score=1.752958\n"
     ]
    },
    {
     "name": "stderr",
     "output_type": "stream",
     "text": [
      "/Library/Frameworks/Python.framework/Versions/3.12/lib/python3.12/site-packages/sklearn/linear_model/_coordinate_descent.py:697: ConvergenceWarning: Objective did not converge. You might want to increase the number of iterations, check the scale of the features or consider increasing regularisation. Duality gap: 1.296e+00, tolerance: 5.469e-02\n",
      "  model = cd_fast.enet_coordinate_descent(\n"
     ]
    },
    {
     "name": "stdout",
     "output_type": "stream",
     "text": [
      "[step_eval] step=137, done=2, total=6, hp_idx=1, fe_idx=2, score=2.190108\n"
     ]
    },
    {
     "name": "stderr",
     "output_type": "stream",
     "text": [
      "/Library/Frameworks/Python.framework/Versions/3.12/lib/python3.12/site-packages/sklearn/linear_model/_coordinate_descent.py:697: ConvergenceWarning: Objective did not converge. You might want to increase the number of iterations, check the scale of the features or consider increasing regularisation. Duality gap: 1.923e+00, tolerance: 5.356e-02\n",
      "  model = cd_fast.enet_coordinate_descent(\n"
     ]
    },
    {
     "name": "stdout",
     "output_type": "stream",
     "text": [
      "[step_eval] step=137, done=3, total=6, hp_idx=1, fe_idx=3, score=2.081665\n"
     ]
    },
    {
     "name": "stderr",
     "output_type": "stream",
     "text": [
      "/Library/Frameworks/Python.framework/Versions/3.12/lib/python3.12/site-packages/sklearn/linear_model/_coordinate_descent.py:697: ConvergenceWarning: Objective did not converge. You might want to increase the number of iterations, check the scale of the features or consider increasing regularisation. Duality gap: 1.482e+00, tolerance: 5.469e-02\n",
      "  model = cd_fast.enet_coordinate_descent(\n"
     ]
    },
    {
     "name": "stdout",
     "output_type": "stream",
     "text": [
      "[step_eval] step=137, done=4, total=6, hp_idx=2, fe_idx=1, score=1.382792\n",
      "[step_eval] step=137, done=5, total=6, hp_idx=3, fe_idx=1, score=1.059953\n",
      "[step_eval] step=137, done=6, total=6, hp_idx=4, fe_idx=1, score=1.236184\n",
      "[step_done] step=137, best_score=1.059953\n",
      "[step_predict] step=138, of=299, date=2011-07-01\n",
      "[step_search_start] step=138, hp=4, fe=3, expected_evals=6\n",
      "[step_eval] step=138, done=1, total=6, hp_idx=1, fe_idx=1, score=4.212608\n"
     ]
    },
    {
     "name": "stderr",
     "output_type": "stream",
     "text": [
      "/Library/Frameworks/Python.framework/Versions/3.12/lib/python3.12/site-packages/sklearn/linear_model/_coordinate_descent.py:697: ConvergenceWarning: Objective did not converge. You might want to increase the number of iterations, check the scale of the features or consider increasing regularisation. Duality gap: 5.456e-01, tolerance: 5.492e-02\n",
      "  model = cd_fast.enet_coordinate_descent(\n"
     ]
    },
    {
     "name": "stdout",
     "output_type": "stream",
     "text": [
      "[step_eval] step=138, done=2, total=6, hp_idx=1, fe_idx=2, score=4.119624\n"
     ]
    },
    {
     "name": "stderr",
     "output_type": "stream",
     "text": [
      "/Library/Frameworks/Python.framework/Versions/3.12/lib/python3.12/site-packages/sklearn/linear_model/_coordinate_descent.py:697: ConvergenceWarning: Objective did not converge. You might want to increase the number of iterations, check the scale of the features or consider increasing regularisation. Duality gap: 1.364e+00, tolerance: 5.379e-02\n",
      "  model = cd_fast.enet_coordinate_descent(\n"
     ]
    },
    {
     "name": "stdout",
     "output_type": "stream",
     "text": [
      "[step_eval] step=138, done=3, total=6, hp_idx=1, fe_idx=3, score=5.625628\n"
     ]
    },
    {
     "name": "stderr",
     "output_type": "stream",
     "text": [
      "/Library/Frameworks/Python.framework/Versions/3.12/lib/python3.12/site-packages/sklearn/linear_model/_coordinate_descent.py:697: ConvergenceWarning: Objective did not converge. You might want to increase the number of iterations, check the scale of the features or consider increasing regularisation. Duality gap: 2.249e+00, tolerance: 5.492e-02\n",
      "  model = cd_fast.enet_coordinate_descent(\n"
     ]
    },
    {
     "name": "stdout",
     "output_type": "stream",
     "text": [
      "[step_eval] step=138, done=4, total=6, hp_idx=2, fe_idx=1, score=4.257169\n",
      "[step_eval] step=138, done=5, total=6, hp_idx=3, fe_idx=1, score=3.539007\n",
      "[step_eval] step=138, done=6, total=6, hp_idx=4, fe_idx=1, score=3.480226\n",
      "[step_done] step=138, best_score=3.480226\n",
      "[step_predict] step=139, of=299, date=2011-08-01\n",
      "[step_search_start] step=139, hp=4, fe=3, expected_evals=6\n",
      "[step_eval] step=139, done=1, total=6, hp_idx=1, fe_idx=1, score=0.47024\n"
     ]
    },
    {
     "name": "stderr",
     "output_type": "stream",
     "text": [
      "/Library/Frameworks/Python.framework/Versions/3.12/lib/python3.12/site-packages/sklearn/linear_model/_coordinate_descent.py:697: ConvergenceWarning: Objective did not converge. You might want to increase the number of iterations, check the scale of the features or consider increasing regularisation. Duality gap: 2.208e+00, tolerance: 5.575e-02\n",
      "  model = cd_fast.enet_coordinate_descent(\n"
     ]
    },
    {
     "name": "stdout",
     "output_type": "stream",
     "text": [
      "[step_eval] step=139, done=2, total=6, hp_idx=1, fe_idx=2, score=1.593675\n"
     ]
    },
    {
     "name": "stderr",
     "output_type": "stream",
     "text": [
      "/Library/Frameworks/Python.framework/Versions/3.12/lib/python3.12/site-packages/sklearn/linear_model/_coordinate_descent.py:697: ConvergenceWarning: Objective did not converge. You might want to increase the number of iterations, check the scale of the features or consider increasing regularisation. Duality gap: 1.495e+00, tolerance: 5.462e-02\n",
      "  model = cd_fast.enet_coordinate_descent(\n"
     ]
    },
    {
     "name": "stdout",
     "output_type": "stream",
     "text": [
      "[step_eval] step=139, done=3, total=6, hp_idx=1, fe_idx=3, score=0.574081\n"
     ]
    },
    {
     "name": "stderr",
     "output_type": "stream",
     "text": [
      "/Library/Frameworks/Python.framework/Versions/3.12/lib/python3.12/site-packages/sklearn/linear_model/_coordinate_descent.py:697: ConvergenceWarning: Objective did not converge. You might want to increase the number of iterations, check the scale of the features or consider increasing regularisation. Duality gap: 1.143e+00, tolerance: 5.575e-02\n",
      "  model = cd_fast.enet_coordinate_descent(\n"
     ]
    },
    {
     "name": "stdout",
     "output_type": "stream",
     "text": [
      "[step_eval] step=139, done=4, total=6, hp_idx=2, fe_idx=1, score=0.475886\n",
      "[step_eval] step=139, done=5, total=6, hp_idx=3, fe_idx=1, score=0.044655\n",
      "[step_eval] step=139, done=6, total=6, hp_idx=4, fe_idx=1, score=0.317471\n",
      "[step_done] step=139, best_score=0.044655\n",
      "[step_predict] step=140, of=299, date=2011-09-01\n",
      "[step_search_start] step=140, hp=4, fe=3, expected_evals=6\n",
      "[step_eval] step=140, done=1, total=6, hp_idx=1, fe_idx=1, score=0.852261\n"
     ]
    },
    {
     "name": "stderr",
     "output_type": "stream",
     "text": [
      "/Library/Frameworks/Python.framework/Versions/3.12/lib/python3.12/site-packages/sklearn/linear_model/_coordinate_descent.py:697: ConvergenceWarning: Objective did not converge. You might want to increase the number of iterations, check the scale of the features or consider increasing regularisation. Duality gap: 1.574e+00, tolerance: 5.580e-02\n",
      "  model = cd_fast.enet_coordinate_descent(\n"
     ]
    },
    {
     "name": "stdout",
     "output_type": "stream",
     "text": [
      "[step_eval] step=140, done=2, total=6, hp_idx=1, fe_idx=2, score=0.812686\n"
     ]
    },
    {
     "name": "stderr",
     "output_type": "stream",
     "text": [
      "/Library/Frameworks/Python.framework/Versions/3.12/lib/python3.12/site-packages/sklearn/linear_model/_coordinate_descent.py:697: ConvergenceWarning: Objective did not converge. You might want to increase the number of iterations, check the scale of the features or consider increasing regularisation. Duality gap: 1.499e+00, tolerance: 5.467e-02\n",
      "  model = cd_fast.enet_coordinate_descent(\n"
     ]
    },
    {
     "name": "stdout",
     "output_type": "stream",
     "text": [
      "[step_eval] step=140, done=3, total=6, hp_idx=1, fe_idx=3, score=1.925967\n"
     ]
    },
    {
     "name": "stderr",
     "output_type": "stream",
     "text": [
      "/Library/Frameworks/Python.framework/Versions/3.12/lib/python3.12/site-packages/sklearn/linear_model/_coordinate_descent.py:697: ConvergenceWarning: Objective did not converge. You might want to increase the number of iterations, check the scale of the features or consider increasing regularisation. Duality gap: 1.474e+00, tolerance: 5.580e-02\n",
      "  model = cd_fast.enet_coordinate_descent(\n"
     ]
    },
    {
     "name": "stdout",
     "output_type": "stream",
     "text": [
      "[step_eval] step=140, done=4, total=6, hp_idx=2, fe_idx=1, score=0.629284\n",
      "[step_eval] step=140, done=5, total=6, hp_idx=3, fe_idx=1, score=0.378387\n",
      "[step_eval] step=140, done=6, total=6, hp_idx=4, fe_idx=1, score=0.607453\n",
      "[step_done] step=140, best_score=0.378387\n",
      "[step_predict] step=141, of=299, date=2011-10-01\n",
      "[step_search_start] step=141, hp=4, fe=3, expected_evals=6\n",
      "[step_eval] step=141, done=1, total=6, hp_idx=1, fe_idx=1, score=1.689806\n"
     ]
    },
    {
     "name": "stderr",
     "output_type": "stream",
     "text": [
      "/Library/Frameworks/Python.framework/Versions/3.12/lib/python3.12/site-packages/sklearn/linear_model/_coordinate_descent.py:697: ConvergenceWarning: Objective did not converge. You might want to increase the number of iterations, check the scale of the features or consider increasing regularisation. Duality gap: 1.583e+00, tolerance: 5.609e-02\n",
      "  model = cd_fast.enet_coordinate_descent(\n"
     ]
    },
    {
     "name": "stdout",
     "output_type": "stream",
     "text": [
      "[step_eval] step=141, done=2, total=6, hp_idx=1, fe_idx=2, score=1.418055\n"
     ]
    },
    {
     "name": "stderr",
     "output_type": "stream",
     "text": [
      "/Library/Frameworks/Python.framework/Versions/3.12/lib/python3.12/site-packages/sklearn/linear_model/_coordinate_descent.py:697: ConvergenceWarning: Objective did not converge. You might want to increase the number of iterations, check the scale of the features or consider increasing regularisation. Duality gap: 1.992e+00, tolerance: 5.496e-02\n",
      "  model = cd_fast.enet_coordinate_descent(\n"
     ]
    },
    {
     "name": "stdout",
     "output_type": "stream",
     "text": [
      "[step_eval] step=141, done=3, total=6, hp_idx=1, fe_idx=3, score=0.840028\n"
     ]
    },
    {
     "name": "stderr",
     "output_type": "stream",
     "text": [
      "/Library/Frameworks/Python.framework/Versions/3.12/lib/python3.12/site-packages/sklearn/linear_model/_coordinate_descent.py:697: ConvergenceWarning: Objective did not converge. You might want to increase the number of iterations, check the scale of the features or consider increasing regularisation. Duality gap: 3.282e+00, tolerance: 5.609e-02\n",
      "  model = cd_fast.enet_coordinate_descent(\n"
     ]
    },
    {
     "name": "stdout",
     "output_type": "stream",
     "text": [
      "[step_eval] step=141, done=4, total=6, hp_idx=2, fe_idx=1, score=0.838573\n",
      "[step_eval] step=141, done=5, total=6, hp_idx=3, fe_idx=1, score=1.202314\n",
      "[step_eval] step=141, done=6, total=6, hp_idx=4, fe_idx=1, score=1.511228\n",
      "[step_done] step=141, best_score=0.838573\n",
      "[step_predict] step=142, of=299, date=2011-11-01\n",
      "[step_search_start] step=142, hp=4, fe=3, expected_evals=6\n",
      "[step_eval] step=142, done=1, total=6, hp_idx=1, fe_idx=1, score=0.359646\n"
     ]
    },
    {
     "name": "stderr",
     "output_type": "stream",
     "text": [
      "/Library/Frameworks/Python.framework/Versions/3.12/lib/python3.12/site-packages/sklearn/linear_model/_coordinate_descent.py:697: ConvergenceWarning: Objective did not converge. You might want to increase the number of iterations, check the scale of the features or consider increasing regularisation. Duality gap: 1.285e+00, tolerance: 5.624e-02\n",
      "  model = cd_fast.enet_coordinate_descent(\n"
     ]
    },
    {
     "name": "stdout",
     "output_type": "stream",
     "text": [
      "[step_eval] step=142, done=2, total=6, hp_idx=1, fe_idx=2, score=0.138906\n"
     ]
    },
    {
     "name": "stderr",
     "output_type": "stream",
     "text": [
      "/Library/Frameworks/Python.framework/Versions/3.12/lib/python3.12/site-packages/sklearn/linear_model/_coordinate_descent.py:697: ConvergenceWarning: Objective did not converge. You might want to increase the number of iterations, check the scale of the features or consider increasing regularisation. Duality gap: 1.768e+00, tolerance: 5.511e-02\n",
      "  model = cd_fast.enet_coordinate_descent(\n"
     ]
    },
    {
     "name": "stdout",
     "output_type": "stream",
     "text": [
      "[step_eval] step=142, done=3, total=6, hp_idx=1, fe_idx=3, score=0.999496\n"
     ]
    },
    {
     "name": "stderr",
     "output_type": "stream",
     "text": [
      "/Library/Frameworks/Python.framework/Versions/3.12/lib/python3.12/site-packages/sklearn/linear_model/_coordinate_descent.py:697: ConvergenceWarning: Objective did not converge. You might want to increase the number of iterations, check the scale of the features or consider increasing regularisation. Duality gap: 2.632e+00, tolerance: 5.624e-02\n",
      "  model = cd_fast.enet_coordinate_descent(\n"
     ]
    },
    {
     "name": "stdout",
     "output_type": "stream",
     "text": [
      "[step_eval] step=142, done=4, total=6, hp_idx=2, fe_idx=1, score=0.099555\n",
      "[step_eval] step=142, done=5, total=6, hp_idx=3, fe_idx=1, score=0.432294\n",
      "[step_eval] step=142, done=6, total=6, hp_idx=4, fe_idx=1, score=0.21479\n",
      "[step_done] step=142, best_score=0.099555\n",
      "[step_predict] step=143, of=299, date=2011-12-01\n",
      "[step_search_start] step=143, hp=4, fe=3, expected_evals=6\n",
      "[step_eval] step=143, done=1, total=6, hp_idx=1, fe_idx=1, score=1.577419\n"
     ]
    },
    {
     "name": "stderr",
     "output_type": "stream",
     "text": [
      "/Library/Frameworks/Python.framework/Versions/3.12/lib/python3.12/site-packages/sklearn/linear_model/_coordinate_descent.py:697: ConvergenceWarning: Objective did not converge. You might want to increase the number of iterations, check the scale of the features or consider increasing regularisation. Duality gap: 1.468e+00, tolerance: 5.626e-02\n",
      "  model = cd_fast.enet_coordinate_descent(\n"
     ]
    },
    {
     "name": "stdout",
     "output_type": "stream",
     "text": [
      "[step_eval] step=143, done=2, total=6, hp_idx=1, fe_idx=2, score=0.759721\n"
     ]
    },
    {
     "name": "stderr",
     "output_type": "stream",
     "text": [
      "/Library/Frameworks/Python.framework/Versions/3.12/lib/python3.12/site-packages/sklearn/linear_model/_coordinate_descent.py:697: ConvergenceWarning: Objective did not converge. You might want to increase the number of iterations, check the scale of the features or consider increasing regularisation. Duality gap: 1.999e+00, tolerance: 5.513e-02\n",
      "  model = cd_fast.enet_coordinate_descent(\n"
     ]
    },
    {
     "name": "stdout",
     "output_type": "stream",
     "text": [
      "[step_eval] step=143, done=3, total=6, hp_idx=1, fe_idx=3, score=1.864696\n"
     ]
    },
    {
     "name": "stderr",
     "output_type": "stream",
     "text": [
      "/Library/Frameworks/Python.framework/Versions/3.12/lib/python3.12/site-packages/sklearn/linear_model/_coordinate_descent.py:697: ConvergenceWarning: Objective did not converge. You might want to increase the number of iterations, check the scale of the features or consider increasing regularisation. Duality gap: 2.508e+00, tolerance: 5.626e-02\n",
      "  model = cd_fast.enet_coordinate_descent(\n"
     ]
    },
    {
     "name": "stdout",
     "output_type": "stream",
     "text": [
      "[step_eval] step=143, done=4, total=6, hp_idx=2, fe_idx=1, score=0.713455\n",
      "[step_eval] step=143, done=5, total=6, hp_idx=3, fe_idx=1, score=0.2388\n",
      "[step_eval] step=143, done=6, total=6, hp_idx=4, fe_idx=1, score=0.585847\n",
      "[step_done] step=143, best_score=0.2388\n",
      "[step_predict] step=144, of=299, date=2012-01-01\n",
      "[step_search_start] step=144, hp=4, fe=3, expected_evals=6\n",
      "[step_eval] step=144, done=1, total=6, hp_idx=1, fe_idx=1, score=0.417057\n"
     ]
    },
    {
     "name": "stderr",
     "output_type": "stream",
     "text": [
      "/Library/Frameworks/Python.framework/Versions/3.12/lib/python3.12/site-packages/sklearn/linear_model/_coordinate_descent.py:697: ConvergenceWarning: Objective did not converge. You might want to increase the number of iterations, check the scale of the features or consider increasing regularisation. Duality gap: 1.086e+00, tolerance: 5.641e-02\n",
      "  model = cd_fast.enet_coordinate_descent(\n"
     ]
    },
    {
     "name": "stdout",
     "output_type": "stream",
     "text": [
      "[step_eval] step=144, done=2, total=6, hp_idx=1, fe_idx=2, score=1.62435\n"
     ]
    },
    {
     "name": "stderr",
     "output_type": "stream",
     "text": [
      "/Library/Frameworks/Python.framework/Versions/3.12/lib/python3.12/site-packages/sklearn/linear_model/_coordinate_descent.py:697: ConvergenceWarning: Objective did not converge. You might want to increase the number of iterations, check the scale of the features or consider increasing regularisation. Duality gap: 2.390e+00, tolerance: 5.528e-02\n",
      "  model = cd_fast.enet_coordinate_descent(\n"
     ]
    },
    {
     "name": "stdout",
     "output_type": "stream",
     "text": [
      "[step_eval] step=144, done=3, total=6, hp_idx=1, fe_idx=3, score=0.383554\n"
     ]
    },
    {
     "name": "stderr",
     "output_type": "stream",
     "text": [
      "/Library/Frameworks/Python.framework/Versions/3.12/lib/python3.12/site-packages/sklearn/linear_model/_coordinate_descent.py:697: ConvergenceWarning: Objective did not converge. You might want to increase the number of iterations, check the scale of the features or consider increasing regularisation. Duality gap: 2.122e+00, tolerance: 5.641e-02\n",
      "  model = cd_fast.enet_coordinate_descent(\n"
     ]
    },
    {
     "name": "stdout",
     "output_type": "stream",
     "text": [
      "[step_eval] step=144, done=4, total=6, hp_idx=2, fe_idx=1, score=0.468303\n",
      "[step_eval] step=144, done=5, total=6, hp_idx=3, fe_idx=1, score=0.351444\n",
      "[step_eval] step=144, done=6, total=6, hp_idx=4, fe_idx=1, score=0.379174\n",
      "[step_done] step=144, best_score=0.351444\n",
      "[step_predict] step=145, of=299, date=2012-02-01\n",
      "[step_search_start] step=145, hp=4, fe=3, expected_evals=6\n",
      "[step_eval] step=145, done=1, total=6, hp_idx=1, fe_idx=1, score=0.955488\n"
     ]
    },
    {
     "name": "stderr",
     "output_type": "stream",
     "text": [
      "/Library/Frameworks/Python.framework/Versions/3.12/lib/python3.12/site-packages/sklearn/linear_model/_coordinate_descent.py:697: ConvergenceWarning: Objective did not converge. You might want to increase the number of iterations, check the scale of the features or consider increasing regularisation. Duality gap: 1.357e+00, tolerance: 5.641e-02\n",
      "  model = cd_fast.enet_coordinate_descent(\n"
     ]
    },
    {
     "name": "stdout",
     "output_type": "stream",
     "text": [
      "[step_eval] step=145, done=2, total=6, hp_idx=1, fe_idx=2, score=0.793976\n"
     ]
    },
    {
     "name": "stderr",
     "output_type": "stream",
     "text": [
      "/Library/Frameworks/Python.framework/Versions/3.12/lib/python3.12/site-packages/sklearn/linear_model/_coordinate_descent.py:697: ConvergenceWarning: Objective did not converge. You might want to increase the number of iterations, check the scale of the features or consider increasing regularisation. Duality gap: 2.419e+00, tolerance: 5.528e-02\n",
      "  model = cd_fast.enet_coordinate_descent(\n"
     ]
    },
    {
     "name": "stdout",
     "output_type": "stream",
     "text": [
      "[step_eval] step=145, done=3, total=6, hp_idx=1, fe_idx=3, score=2.003618\n"
     ]
    },
    {
     "name": "stderr",
     "output_type": "stream",
     "text": [
      "/Library/Frameworks/Python.framework/Versions/3.12/lib/python3.12/site-packages/sklearn/linear_model/_coordinate_descent.py:697: ConvergenceWarning: Objective did not converge. You might want to increase the number of iterations, check the scale of the features or consider increasing regularisation. Duality gap: 2.367e+00, tolerance: 5.641e-02\n",
      "  model = cd_fast.enet_coordinate_descent(\n"
     ]
    },
    {
     "name": "stdout",
     "output_type": "stream",
     "text": [
      "[step_eval] step=145, done=4, total=6, hp_idx=2, fe_idx=1, score=1.132561\n",
      "[step_eval] step=145, done=5, total=6, hp_idx=3, fe_idx=1, score=0.4807\n",
      "[step_eval] step=145, done=6, total=6, hp_idx=4, fe_idx=1, score=0.278346\n",
      "[step_done] step=145, best_score=0.278346\n",
      "[step_predict] step=146, of=299, date=2012-03-01\n",
      "[step_search_start] step=146, hp=4, fe=3, expected_evals=6\n",
      "[step_eval] step=146, done=1, total=6, hp_idx=1, fe_idx=1, score=0.481508\n"
     ]
    },
    {
     "name": "stderr",
     "output_type": "stream",
     "text": [
      "/Library/Frameworks/Python.framework/Versions/3.12/lib/python3.12/site-packages/sklearn/linear_model/_coordinate_descent.py:697: ConvergenceWarning: Objective did not converge. You might want to increase the number of iterations, check the scale of the features or consider increasing regularisation. Duality gap: 1.680e+00, tolerance: 5.648e-02\n",
      "  model = cd_fast.enet_coordinate_descent(\n"
     ]
    },
    {
     "name": "stdout",
     "output_type": "stream",
     "text": [
      "[step_eval] step=146, done=2, total=6, hp_idx=1, fe_idx=2, score=1.63631\n"
     ]
    },
    {
     "name": "stderr",
     "output_type": "stream",
     "text": [
      "/Library/Frameworks/Python.framework/Versions/3.12/lib/python3.12/site-packages/sklearn/linear_model/_coordinate_descent.py:697: ConvergenceWarning: Objective did not converge. You might want to increase the number of iterations, check the scale of the features or consider increasing regularisation. Duality gap: 2.220e+00, tolerance: 5.535e-02\n",
      "  model = cd_fast.enet_coordinate_descent(\n"
     ]
    },
    {
     "name": "stdout",
     "output_type": "stream",
     "text": [
      "[step_eval] step=146, done=3, total=6, hp_idx=1, fe_idx=3, score=1.528354\n"
     ]
    },
    {
     "name": "stderr",
     "output_type": "stream",
     "text": [
      "/Library/Frameworks/Python.framework/Versions/3.12/lib/python3.12/site-packages/sklearn/linear_model/_coordinate_descent.py:697: ConvergenceWarning: Objective did not converge. You might want to increase the number of iterations, check the scale of the features or consider increasing regularisation. Duality gap: 1.520e+00, tolerance: 5.648e-02\n",
      "  model = cd_fast.enet_coordinate_descent(\n"
     ]
    },
    {
     "name": "stdout",
     "output_type": "stream",
     "text": [
      "[step_eval] step=146, done=4, total=6, hp_idx=2, fe_idx=1, score=0.723464\n",
      "[step_eval] step=146, done=5, total=6, hp_idx=3, fe_idx=1, score=1.951705\n",
      "[step_eval] step=146, done=6, total=6, hp_idx=4, fe_idx=1, score=2.090972\n",
      "[step_done] step=146, best_score=0.481508\n",
      "[step_predict] step=147, of=299, date=2012-04-01\n",
      "[step_search_start] step=147, hp=4, fe=3, expected_evals=6\n"
     ]
    },
    {
     "name": "stderr",
     "output_type": "stream",
     "text": [
      "/Library/Frameworks/Python.framework/Versions/3.12/lib/python3.12/site-packages/sklearn/linear_model/_coordinate_descent.py:697: ConvergenceWarning: Objective did not converge. You might want to increase the number of iterations, check the scale of the features or consider increasing regularisation. Duality gap: 1.155e+00, tolerance: 5.686e-02\n",
      "  model = cd_fast.enet_coordinate_descent(\n"
     ]
    },
    {
     "name": "stdout",
     "output_type": "stream",
     "text": [
      "[step_eval] step=147, done=1, total=6, hp_idx=1, fe_idx=1, score=2.185065\n"
     ]
    },
    {
     "name": "stderr",
     "output_type": "stream",
     "text": [
      "/Library/Frameworks/Python.framework/Versions/3.12/lib/python3.12/site-packages/sklearn/linear_model/_coordinate_descent.py:697: ConvergenceWarning: Objective did not converge. You might want to increase the number of iterations, check the scale of the features or consider increasing regularisation. Duality gap: 1.155e+00, tolerance: 5.686e-02\n",
      "  model = cd_fast.enet_coordinate_descent(\n"
     ]
    },
    {
     "name": "stdout",
     "output_type": "stream",
     "text": [
      "[step_eval] step=147, done=2, total=6, hp_idx=1, fe_idx=2, score=2.179761\n"
     ]
    },
    {
     "name": "stderr",
     "output_type": "stream",
     "text": [
      "/Library/Frameworks/Python.framework/Versions/3.12/lib/python3.12/site-packages/sklearn/linear_model/_coordinate_descent.py:697: ConvergenceWarning: Objective did not converge. You might want to increase the number of iterations, check the scale of the features or consider increasing regularisation. Duality gap: 1.959e+00, tolerance: 5.573e-02\n",
      "  model = cd_fast.enet_coordinate_descent(\n"
     ]
    },
    {
     "name": "stdout",
     "output_type": "stream",
     "text": [
      "[step_eval] step=147, done=3, total=6, hp_idx=1, fe_idx=3, score=2.2345\n"
     ]
    },
    {
     "name": "stderr",
     "output_type": "stream",
     "text": [
      "/Library/Frameworks/Python.framework/Versions/3.12/lib/python3.12/site-packages/sklearn/linear_model/_coordinate_descent.py:697: ConvergenceWarning: Objective did not converge. You might want to increase the number of iterations, check the scale of the features or consider increasing regularisation. Duality gap: 1.600e+00, tolerance: 5.686e-02\n",
      "  model = cd_fast.enet_coordinate_descent(\n"
     ]
    },
    {
     "name": "stdout",
     "output_type": "stream",
     "text": [
      "[step_eval] step=147, done=4, total=6, hp_idx=2, fe_idx=1, score=2.268917\n",
      "[step_eval] step=147, done=5, total=6, hp_idx=3, fe_idx=1, score=1.965727\n",
      "[step_eval] step=147, done=6, total=6, hp_idx=4, fe_idx=1, score=1.565476\n",
      "[step_done] step=147, best_score=1.565476\n",
      "[step_predict] step=148, of=299, date=2012-05-01\n",
      "[step_search_start] step=148, hp=4, fe=3, expected_evals=6\n",
      "[step_eval] step=148, done=1, total=6, hp_idx=1, fe_idx=1, score=1.28014\n"
     ]
    },
    {
     "name": "stderr",
     "output_type": "stream",
     "text": [
      "/Library/Frameworks/Python.framework/Versions/3.12/lib/python3.12/site-packages/sklearn/linear_model/_coordinate_descent.py:697: ConvergenceWarning: Objective did not converge. You might want to increase the number of iterations, check the scale of the features or consider increasing regularisation. Duality gap: 2.024e+00, tolerance: 5.722e-02\n",
      "  model = cd_fast.enet_coordinate_descent(\n"
     ]
    },
    {
     "name": "stdout",
     "output_type": "stream",
     "text": [
      "[step_eval] step=148, done=2, total=6, hp_idx=1, fe_idx=2, score=1.522772\n"
     ]
    },
    {
     "name": "stderr",
     "output_type": "stream",
     "text": [
      "/Library/Frameworks/Python.framework/Versions/3.12/lib/python3.12/site-packages/sklearn/linear_model/_coordinate_descent.py:697: ConvergenceWarning: Objective did not converge. You might want to increase the number of iterations, check the scale of the features or consider increasing regularisation. Duality gap: 1.868e+00, tolerance: 5.609e-02\n",
      "  model = cd_fast.enet_coordinate_descent(\n"
     ]
    },
    {
     "name": "stdout",
     "output_type": "stream",
     "text": [
      "[step_eval] step=148, done=3, total=6, hp_idx=1, fe_idx=3, score=1.615454\n",
      "[step_eval] step=148, done=4, total=6, hp_idx=2, fe_idx=1, score=1.461405\n"
     ]
    },
    {
     "name": "stderr",
     "output_type": "stream",
     "text": [
      "/Library/Frameworks/Python.framework/Versions/3.12/lib/python3.12/site-packages/sklearn/linear_model/_coordinate_descent.py:697: ConvergenceWarning: Objective did not converge. You might want to increase the number of iterations, check the scale of the features or consider increasing regularisation. Duality gap: 1.452e+00, tolerance: 5.722e-02\n",
      "  model = cd_fast.enet_coordinate_descent(\n"
     ]
    },
    {
     "name": "stdout",
     "output_type": "stream",
     "text": [
      "[step_eval] step=148, done=5, total=6, hp_idx=3, fe_idx=1, score=2.165531\n",
      "[step_eval] step=148, done=6, total=6, hp_idx=4, fe_idx=1, score=2.117385\n",
      "[step_done] step=148, best_score=1.28014\n",
      "[step_predict] step=149, of=299, date=2012-06-01\n",
      "[step_search_start] step=149, hp=4, fe=3, expected_evals=6\n"
     ]
    },
    {
     "name": "stderr",
     "output_type": "stream",
     "text": [
      "/Library/Frameworks/Python.framework/Versions/3.12/lib/python3.12/site-packages/sklearn/linear_model/_coordinate_descent.py:697: ConvergenceWarning: Objective did not converge. You might want to increase the number of iterations, check the scale of the features or consider increasing regularisation. Duality gap: 1.107e+00, tolerance: 5.749e-02\n",
      "  model = cd_fast.enet_coordinate_descent(\n"
     ]
    },
    {
     "name": "stdout",
     "output_type": "stream",
     "text": [
      "[step_eval] step=149, done=1, total=6, hp_idx=1, fe_idx=1, score=0.358222\n"
     ]
    },
    {
     "name": "stderr",
     "output_type": "stream",
     "text": [
      "/Library/Frameworks/Python.framework/Versions/3.12/lib/python3.12/site-packages/sklearn/linear_model/_coordinate_descent.py:697: ConvergenceWarning: Objective did not converge. You might want to increase the number of iterations, check the scale of the features or consider increasing regularisation. Duality gap: 1.107e+00, tolerance: 5.749e-02\n",
      "  model = cd_fast.enet_coordinate_descent(\n"
     ]
    },
    {
     "name": "stdout",
     "output_type": "stream",
     "text": [
      "[step_eval] step=149, done=2, total=6, hp_idx=1, fe_idx=2, score=0.600385\n"
     ]
    },
    {
     "name": "stderr",
     "output_type": "stream",
     "text": [
      "/Library/Frameworks/Python.framework/Versions/3.12/lib/python3.12/site-packages/sklearn/linear_model/_coordinate_descent.py:697: ConvergenceWarning: Objective did not converge. You might want to increase the number of iterations, check the scale of the features or consider increasing regularisation. Duality gap: 2.053e+00, tolerance: 5.636e-02\n",
      "  model = cd_fast.enet_coordinate_descent(\n"
     ]
    },
    {
     "name": "stdout",
     "output_type": "stream",
     "text": [
      "[step_eval] step=149, done=3, total=6, hp_idx=1, fe_idx=3, score=0.360079\n",
      "[step_eval] step=149, done=4, total=6, hp_idx=2, fe_idx=1, score=0.508651\n"
     ]
    },
    {
     "name": "stderr",
     "output_type": "stream",
     "text": [
      "/Library/Frameworks/Python.framework/Versions/3.12/lib/python3.12/site-packages/sklearn/linear_model/_coordinate_descent.py:697: ConvergenceWarning: Objective did not converge. You might want to increase the number of iterations, check the scale of the features or consider increasing regularisation. Duality gap: 1.300e+00, tolerance: 5.749e-02\n",
      "  model = cd_fast.enet_coordinate_descent(\n"
     ]
    },
    {
     "name": "stdout",
     "output_type": "stream",
     "text": [
      "[step_eval] step=149, done=5, total=6, hp_idx=3, fe_idx=1, score=0.53659\n",
      "[step_eval] step=149, done=6, total=6, hp_idx=4, fe_idx=1, score=0.70011\n",
      "[step_done] step=149, best_score=0.358222\n",
      "[step_predict] step=150, of=299, date=2012-07-01\n",
      "[step_search_start] step=150, hp=4, fe=3, expected_evals=6\n"
     ]
    },
    {
     "name": "stderr",
     "output_type": "stream",
     "text": [
      "/Library/Frameworks/Python.framework/Versions/3.12/lib/python3.12/site-packages/sklearn/linear_model/_coordinate_descent.py:697: ConvergenceWarning: Objective did not converge. You might want to increase the number of iterations, check the scale of the features or consider increasing regularisation. Duality gap: 1.105e+00, tolerance: 5.759e-02\n",
      "  model = cd_fast.enet_coordinate_descent(\n"
     ]
    },
    {
     "name": "stdout",
     "output_type": "stream",
     "text": [
      "[step_eval] step=150, done=1, total=6, hp_idx=1, fe_idx=1, score=1.171309\n"
     ]
    },
    {
     "name": "stderr",
     "output_type": "stream",
     "text": [
      "/Library/Frameworks/Python.framework/Versions/3.12/lib/python3.12/site-packages/sklearn/linear_model/_coordinate_descent.py:697: ConvergenceWarning: Objective did not converge. You might want to increase the number of iterations, check the scale of the features or consider increasing regularisation. Duality gap: 1.105e+00, tolerance: 5.759e-02\n",
      "  model = cd_fast.enet_coordinate_descent(\n"
     ]
    },
    {
     "name": "stdout",
     "output_type": "stream",
     "text": [
      "[step_eval] step=150, done=2, total=6, hp_idx=1, fe_idx=2, score=2.103768\n"
     ]
    },
    {
     "name": "stderr",
     "output_type": "stream",
     "text": [
      "/Library/Frameworks/Python.framework/Versions/3.12/lib/python3.12/site-packages/sklearn/linear_model/_coordinate_descent.py:697: ConvergenceWarning: Objective did not converge. You might want to increase the number of iterations, check the scale of the features or consider increasing regularisation. Duality gap: 2.198e+00, tolerance: 5.646e-02\n",
      "  model = cd_fast.enet_coordinate_descent(\n"
     ]
    },
    {
     "name": "stdout",
     "output_type": "stream",
     "text": [
      "[step_eval] step=150, done=3, total=6, hp_idx=1, fe_idx=3, score=0.110216\n"
     ]
    },
    {
     "name": "stderr",
     "output_type": "stream",
     "text": [
      "/Library/Frameworks/Python.framework/Versions/3.12/lib/python3.12/site-packages/sklearn/linear_model/_coordinate_descent.py:697: ConvergenceWarning: Objective did not converge. You might want to increase the number of iterations, check the scale of the features or consider increasing regularisation. Duality gap: 1.449e+00, tolerance: 5.759e-02\n",
      "  model = cd_fast.enet_coordinate_descent(\n"
     ]
    },
    {
     "name": "stdout",
     "output_type": "stream",
     "text": [
      "[step_eval] step=150, done=4, total=6, hp_idx=2, fe_idx=1, score=0.061345\n",
      "[step_eval] step=150, done=5, total=6, hp_idx=3, fe_idx=1, score=0.406134\n",
      "[step_eval] step=150, done=6, total=6, hp_idx=4, fe_idx=1, score=0.706623\n",
      "[step_done] step=150, best_score=0.061345\n",
      "[step_predict] step=151, of=299, date=2012-08-01\n",
      "[step_search_start] step=151, hp=4, fe=3, expected_evals=6\n",
      "[step_eval] step=151, done=1, total=6, hp_idx=1, fe_idx=1, score=0.238905\n"
     ]
    },
    {
     "name": "stderr",
     "output_type": "stream",
     "text": [
      "/Library/Frameworks/Python.framework/Versions/3.12/lib/python3.12/site-packages/sklearn/linear_model/_coordinate_descent.py:697: ConvergenceWarning: Objective did not converge. You might want to increase the number of iterations, check the scale of the features or consider increasing regularisation. Duality gap: 1.089e+00, tolerance: 5.763e-02\n",
      "  model = cd_fast.enet_coordinate_descent(\n"
     ]
    },
    {
     "name": "stdout",
     "output_type": "stream",
     "text": [
      "[step_eval] step=151, done=2, total=6, hp_idx=1, fe_idx=2, score=0.398397\n"
     ]
    },
    {
     "name": "stderr",
     "output_type": "stream",
     "text": [
      "/Library/Frameworks/Python.framework/Versions/3.12/lib/python3.12/site-packages/sklearn/linear_model/_coordinate_descent.py:697: ConvergenceWarning: Objective did not converge. You might want to increase the number of iterations, check the scale of the features or consider increasing regularisation. Duality gap: 1.800e+00, tolerance: 5.650e-02\n",
      "  model = cd_fast.enet_coordinate_descent(\n"
     ]
    },
    {
     "name": "stdout",
     "output_type": "stream",
     "text": [
      "[step_eval] step=151, done=3, total=6, hp_idx=1, fe_idx=3, score=1.540083\n",
      "[step_eval] step=151, done=4, total=6, hp_idx=2, fe_idx=1, score=0.399099\n"
     ]
    },
    {
     "name": "stderr",
     "output_type": "stream",
     "text": [
      "/Library/Frameworks/Python.framework/Versions/3.12/lib/python3.12/site-packages/sklearn/linear_model/_coordinate_descent.py:697: ConvergenceWarning: Objective did not converge. You might want to increase the number of iterations, check the scale of the features or consider increasing regularisation. Duality gap: 1.434e+00, tolerance: 5.763e-02\n",
      "  model = cd_fast.enet_coordinate_descent(\n"
     ]
    },
    {
     "name": "stdout",
     "output_type": "stream",
     "text": [
      "[step_eval] step=151, done=5, total=6, hp_idx=3, fe_idx=1, score=0.007499\n",
      "[step_eval] step=151, done=6, total=6, hp_idx=4, fe_idx=1, score=0.23608\n",
      "[step_done] step=151, best_score=0.007499\n",
      "[step_predict] step=152, of=299, date=2012-09-01\n",
      "[step_search_start] step=152, hp=4, fe=3, expected_evals=6\n",
      "[step_eval] step=152, done=1, total=6, hp_idx=1, fe_idx=1, score=0.294896\n"
     ]
    },
    {
     "name": "stderr",
     "output_type": "stream",
     "text": [
      "/Library/Frameworks/Python.framework/Versions/3.12/lib/python3.12/site-packages/sklearn/linear_model/_coordinate_descent.py:697: ConvergenceWarning: Objective did not converge. You might want to increase the number of iterations, check the scale of the features or consider increasing regularisation. Duality gap: 9.543e-01, tolerance: 5.763e-02\n",
      "  model = cd_fast.enet_coordinate_descent(\n"
     ]
    },
    {
     "name": "stdout",
     "output_type": "stream",
     "text": [
      "[step_eval] step=152, done=2, total=6, hp_idx=1, fe_idx=2, score=3.358157\n"
     ]
    },
    {
     "name": "stderr",
     "output_type": "stream",
     "text": [
      "/Library/Frameworks/Python.framework/Versions/3.12/lib/python3.12/site-packages/sklearn/linear_model/_coordinate_descent.py:697: ConvergenceWarning: Objective did not converge. You might want to increase the number of iterations, check the scale of the features or consider increasing regularisation. Duality gap: 1.686e+00, tolerance: 5.650e-02\n",
      "  model = cd_fast.enet_coordinate_descent(\n"
     ]
    },
    {
     "name": "stdout",
     "output_type": "stream",
     "text": [
      "[step_eval] step=152, done=3, total=6, hp_idx=1, fe_idx=3, score=0.152775\n"
     ]
    },
    {
     "name": "stderr",
     "output_type": "stream",
     "text": [
      "/Library/Frameworks/Python.framework/Versions/3.12/lib/python3.12/site-packages/sklearn/linear_model/_coordinate_descent.py:697: ConvergenceWarning: Objective did not converge. You might want to increase the number of iterations, check the scale of the features or consider increasing regularisation. Duality gap: 1.044e+00, tolerance: 5.763e-02\n",
      "  model = cd_fast.enet_coordinate_descent(\n"
     ]
    },
    {
     "name": "stdout",
     "output_type": "stream",
     "text": [
      "[step_eval] step=152, done=4, total=6, hp_idx=2, fe_idx=1, score=0.32165\n",
      "[step_eval] step=152, done=5, total=6, hp_idx=3, fe_idx=1, score=0.848711\n",
      "[step_eval] step=152, done=6, total=6, hp_idx=4, fe_idx=1, score=0.598887\n",
      "[step_done] step=152, best_score=0.152775\n",
      "[step_predict] step=153, of=299, date=2012-10-01\n",
      "[step_search_start] step=153, hp=4, fe=3, expected_evals=6\n"
     ]
    },
    {
     "name": "stderr",
     "output_type": "stream",
     "text": [
      "/Library/Frameworks/Python.framework/Versions/3.12/lib/python3.12/site-packages/sklearn/linear_model/_coordinate_descent.py:697: ConvergenceWarning: Objective did not converge. You might want to increase the number of iterations, check the scale of the features or consider increasing regularisation. Duality gap: 9.766e-01, tolerance: 5.771e-02\n",
      "  model = cd_fast.enet_coordinate_descent(\n"
     ]
    },
    {
     "name": "stdout",
     "output_type": "stream",
     "text": [
      "[step_eval] step=153, done=1, total=6, hp_idx=1, fe_idx=1, score=0.450775\n"
     ]
    },
    {
     "name": "stderr",
     "output_type": "stream",
     "text": [
      "/Library/Frameworks/Python.framework/Versions/3.12/lib/python3.12/site-packages/sklearn/linear_model/_coordinate_descent.py:697: ConvergenceWarning: Objective did not converge. You might want to increase the number of iterations, check the scale of the features or consider increasing regularisation. Duality gap: 1.403e+00, tolerance: 5.771e-02\n",
      "  model = cd_fast.enet_coordinate_descent(\n"
     ]
    },
    {
     "name": "stdout",
     "output_type": "stream",
     "text": [
      "[step_eval] step=153, done=2, total=6, hp_idx=1, fe_idx=2, score=0.80063\n"
     ]
    },
    {
     "name": "stderr",
     "output_type": "stream",
     "text": [
      "/Library/Frameworks/Python.framework/Versions/3.12/lib/python3.12/site-packages/sklearn/linear_model/_coordinate_descent.py:697: ConvergenceWarning: Objective did not converge. You might want to increase the number of iterations, check the scale of the features or consider increasing regularisation. Duality gap: 1.972e+00, tolerance: 5.658e-02\n",
      "  model = cd_fast.enet_coordinate_descent(\n"
     ]
    },
    {
     "name": "stdout",
     "output_type": "stream",
     "text": [
      "[step_eval] step=153, done=3, total=6, hp_idx=1, fe_idx=3, score=0.912027\n",
      "[step_eval] step=153, done=4, total=6, hp_idx=2, fe_idx=1, score=0.714138\n"
     ]
    },
    {
     "name": "stderr",
     "output_type": "stream",
     "text": [
      "/Library/Frameworks/Python.framework/Versions/3.12/lib/python3.12/site-packages/sklearn/linear_model/_coordinate_descent.py:697: ConvergenceWarning: Objective did not converge. You might want to increase the number of iterations, check the scale of the features or consider increasing regularisation. Duality gap: 9.766e-01, tolerance: 5.771e-02\n",
      "  model = cd_fast.enet_coordinate_descent(\n"
     ]
    },
    {
     "name": "stdout",
     "output_type": "stream",
     "text": [
      "[step_eval] step=153, done=5, total=6, hp_idx=3, fe_idx=1, score=1.13869\n",
      "[step_eval] step=153, done=6, total=6, hp_idx=4, fe_idx=1, score=1.203153\n",
      "[step_done] step=153, best_score=0.450775\n",
      "[step_predict] step=154, of=299, date=2012-11-01\n",
      "[step_search_start] step=154, hp=4, fe=3, expected_evals=6\n"
     ]
    },
    {
     "name": "stderr",
     "output_type": "stream",
     "text": [
      "/Library/Frameworks/Python.framework/Versions/3.12/lib/python3.12/site-packages/sklearn/linear_model/_coordinate_descent.py:697: ConvergenceWarning: Objective did not converge. You might want to increase the number of iterations, check the scale of the features or consider increasing regularisation. Duality gap: 1.495e+00, tolerance: 5.797e-02\n",
      "  model = cd_fast.enet_coordinate_descent(\n"
     ]
    },
    {
     "name": "stdout",
     "output_type": "stream",
     "text": [
      "[step_eval] step=154, done=1, total=6, hp_idx=1, fe_idx=1, score=0.489198\n"
     ]
    },
    {
     "name": "stderr",
     "output_type": "stream",
     "text": [
      "/Library/Frameworks/Python.framework/Versions/3.12/lib/python3.12/site-packages/sklearn/linear_model/_coordinate_descent.py:697: ConvergenceWarning: Objective did not converge. You might want to increase the number of iterations, check the scale of the features or consider increasing regularisation. Duality gap: 1.495e+00, tolerance: 5.797e-02\n",
      "  model = cd_fast.enet_coordinate_descent(\n"
     ]
    },
    {
     "name": "stdout",
     "output_type": "stream",
     "text": [
      "[step_eval] step=154, done=2, total=6, hp_idx=1, fe_idx=2, score=0.911793\n"
     ]
    },
    {
     "name": "stderr",
     "output_type": "stream",
     "text": [
      "/Library/Frameworks/Python.framework/Versions/3.12/lib/python3.12/site-packages/sklearn/linear_model/_coordinate_descent.py:697: ConvergenceWarning: Objective did not converge. You might want to increase the number of iterations, check the scale of the features or consider increasing regularisation. Duality gap: 2.116e+00, tolerance: 5.684e-02\n",
      "  model = cd_fast.enet_coordinate_descent(\n"
     ]
    },
    {
     "name": "stdout",
     "output_type": "stream",
     "text": [
      "[step_eval] step=154, done=3, total=6, hp_idx=1, fe_idx=3, score=1.902741\n",
      "[step_eval] step=154, done=4, total=6, hp_idx=2, fe_idx=1, score=0.398829\n"
     ]
    },
    {
     "name": "stderr",
     "output_type": "stream",
     "text": [
      "/Library/Frameworks/Python.framework/Versions/3.12/lib/python3.12/site-packages/sklearn/linear_model/_coordinate_descent.py:697: ConvergenceWarning: Objective did not converge. You might want to increase the number of iterations, check the scale of the features or consider increasing regularisation. Duality gap: 1.903e+00, tolerance: 5.797e-02\n",
      "  model = cd_fast.enet_coordinate_descent(\n"
     ]
    },
    {
     "name": "stdout",
     "output_type": "stream",
     "text": [
      "[step_eval] step=154, done=5, total=6, hp_idx=3, fe_idx=1, score=0.182085\n",
      "[step_eval] step=154, done=6, total=6, hp_idx=4, fe_idx=1, score=0.297747\n",
      "[step_done] step=154, best_score=0.182085\n",
      "[step_predict] step=155, of=299, date=2012-12-01\n",
      "[step_search_start] step=155, hp=4, fe=3, expected_evals=6\n",
      "[step_eval] step=155, done=1, total=6, hp_idx=1, fe_idx=1, score=0.171633\n"
     ]
    },
    {
     "name": "stderr",
     "output_type": "stream",
     "text": [
      "/Library/Frameworks/Python.framework/Versions/3.12/lib/python3.12/site-packages/sklearn/linear_model/_coordinate_descent.py:697: ConvergenceWarning: Objective did not converge. You might want to increase the number of iterations, check the scale of the features or consider increasing regularisation. Duality gap: 1.258e+00, tolerance: 5.804e-02\n",
      "  model = cd_fast.enet_coordinate_descent(\n"
     ]
    },
    {
     "name": "stdout",
     "output_type": "stream",
     "text": [
      "[step_eval] step=155, done=2, total=6, hp_idx=1, fe_idx=2, score=0.0146\n"
     ]
    },
    {
     "name": "stderr",
     "output_type": "stream",
     "text": [
      "/Library/Frameworks/Python.framework/Versions/3.12/lib/python3.12/site-packages/sklearn/linear_model/_coordinate_descent.py:697: ConvergenceWarning: Objective did not converge. You might want to increase the number of iterations, check the scale of the features or consider increasing regularisation. Duality gap: 1.675e+00, tolerance: 5.691e-02\n",
      "  model = cd_fast.enet_coordinate_descent(\n"
     ]
    },
    {
     "name": "stdout",
     "output_type": "stream",
     "text": [
      "[step_eval] step=155, done=3, total=6, hp_idx=1, fe_idx=3, score=1.303645\n"
     ]
    },
    {
     "name": "stderr",
     "output_type": "stream",
     "text": [
      "/Library/Frameworks/Python.framework/Versions/3.12/lib/python3.12/site-packages/sklearn/linear_model/_coordinate_descent.py:697: ConvergenceWarning: Objective did not converge. You might want to increase the number of iterations, check the scale of the features or consider increasing regularisation. Duality gap: 2.027e+00, tolerance: 5.804e-02\n",
      "  model = cd_fast.enet_coordinate_descent(\n"
     ]
    },
    {
     "name": "stdout",
     "output_type": "stream",
     "text": [
      "[step_eval] step=155, done=4, total=6, hp_idx=2, fe_idx=1, score=0.058702\n",
      "[step_eval] step=155, done=5, total=6, hp_idx=3, fe_idx=1, score=0.228187\n",
      "[step_eval] step=155, done=6, total=6, hp_idx=4, fe_idx=1, score=0.494685\n",
      "[step_done] step=155, best_score=0.0146\n",
      "[step_predict] step=156, of=299, date=2013-01-01\n",
      "[step_search_start] step=156, hp=4, fe=3, expected_evals=6\n"
     ]
    },
    {
     "name": "stderr",
     "output_type": "stream",
     "text": [
      "/Library/Frameworks/Python.framework/Versions/3.12/lib/python3.12/site-packages/sklearn/linear_model/_coordinate_descent.py:697: ConvergenceWarning: Objective did not converge. You might want to increase the number of iterations, check the scale of the features or consider increasing regularisation. Duality gap: 1.878e+00, tolerance: 5.691e-02\n",
      "  model = cd_fast.enet_coordinate_descent(\n"
     ]
    },
    {
     "name": "stdout",
     "output_type": "stream",
     "text": [
      "[step_eval] step=156, done=1, total=6, hp_idx=1, fe_idx=1, score=2.522164\n"
     ]
    },
    {
     "name": "stderr",
     "output_type": "stream",
     "text": [
      "/Library/Frameworks/Python.framework/Versions/3.12/lib/python3.12/site-packages/sklearn/linear_model/_coordinate_descent.py:697: ConvergenceWarning: Objective did not converge. You might want to increase the number of iterations, check the scale of the features or consider increasing regularisation. Duality gap: 1.307e+00, tolerance: 5.804e-02\n",
      "  model = cd_fast.enet_coordinate_descent(\n"
     ]
    },
    {
     "name": "stdout",
     "output_type": "stream",
     "text": [
      "[step_eval] step=156, done=2, total=6, hp_idx=1, fe_idx=2, score=0.360868\n"
     ]
    },
    {
     "name": "stderr",
     "output_type": "stream",
     "text": [
      "/Library/Frameworks/Python.framework/Versions/3.12/lib/python3.12/site-packages/sklearn/linear_model/_coordinate_descent.py:697: ConvergenceWarning: Objective did not converge. You might want to increase the number of iterations, check the scale of the features or consider increasing regularisation. Duality gap: 1.878e+00, tolerance: 5.691e-02\n",
      "  model = cd_fast.enet_coordinate_descent(\n"
     ]
    },
    {
     "name": "stdout",
     "output_type": "stream",
     "text": [
      "[step_eval] step=156, done=3, total=6, hp_idx=1, fe_idx=3, score=2.685705\n"
     ]
    },
    {
     "name": "stderr",
     "output_type": "stream",
     "text": [
      "/Library/Frameworks/Python.framework/Versions/3.12/lib/python3.12/site-packages/sklearn/linear_model/_coordinate_descent.py:697: ConvergenceWarning: Objective did not converge. You might want to increase the number of iterations, check the scale of the features or consider increasing regularisation. Duality gap: 2.319e+00, tolerance: 5.804e-02\n",
      "  model = cd_fast.enet_coordinate_descent(\n"
     ]
    },
    {
     "name": "stdout",
     "output_type": "stream",
     "text": [
      "[step_eval] step=156, done=4, total=6, hp_idx=2, fe_idx=1, score=0.327882\n",
      "[step_eval] step=156, done=5, total=6, hp_idx=3, fe_idx=1, score=0.913798\n",
      "[step_eval] step=156, done=6, total=6, hp_idx=4, fe_idx=1, score=0.510887\n",
      "[step_done] step=156, best_score=0.327882\n",
      "[step_predict] step=157, of=299, date=2013-02-01\n",
      "[step_search_start] step=157, hp=4, fe=3, expected_evals=6\n",
      "[step_eval] step=157, done=1, total=6, hp_idx=1, fe_idx=1, score=0.34879\n"
     ]
    },
    {
     "name": "stderr",
     "output_type": "stream",
     "text": [
      "/Library/Frameworks/Python.framework/Versions/3.12/lib/python3.12/site-packages/sklearn/linear_model/_coordinate_descent.py:697: ConvergenceWarning: Objective did not converge. You might want to increase the number of iterations, check the scale of the features or consider increasing regularisation. Duality gap: 1.942e+00, tolerance: 5.811e-02\n",
      "  model = cd_fast.enet_coordinate_descent(\n"
     ]
    },
    {
     "name": "stdout",
     "output_type": "stream",
     "text": [
      "[step_eval] step=157, done=2, total=6, hp_idx=1, fe_idx=2, score=0.6537\n"
     ]
    },
    {
     "name": "stderr",
     "output_type": "stream",
     "text": [
      "/Library/Frameworks/Python.framework/Versions/3.12/lib/python3.12/site-packages/sklearn/linear_model/_coordinate_descent.py:697: ConvergenceWarning: Objective did not converge. You might want to increase the number of iterations, check the scale of the features or consider increasing regularisation. Duality gap: 1.101e+00, tolerance: 5.697e-02\n",
      "  model = cd_fast.enet_coordinate_descent(\n"
     ]
    },
    {
     "name": "stdout",
     "output_type": "stream",
     "text": [
      "[step_eval] step=157, done=3, total=6, hp_idx=1, fe_idx=3, score=2.847346\n",
      "[step_eval] step=157, done=4, total=6, hp_idx=2, fe_idx=1, score=0.464051\n"
     ]
    },
    {
     "name": "stderr",
     "output_type": "stream",
     "text": [
      "/Library/Frameworks/Python.framework/Versions/3.12/lib/python3.12/site-packages/sklearn/linear_model/_coordinate_descent.py:697: ConvergenceWarning: Objective did not converge. You might want to increase the number of iterations, check the scale of the features or consider increasing regularisation. Duality gap: 1.160e+00, tolerance: 5.811e-02\n",
      "  model = cd_fast.enet_coordinate_descent(\n"
     ]
    },
    {
     "name": "stdout",
     "output_type": "stream",
     "text": [
      "[step_eval] step=157, done=5, total=6, hp_idx=3, fe_idx=1, score=0.781727\n",
      "[step_eval] step=157, done=6, total=6, hp_idx=4, fe_idx=1, score=0.561188\n",
      "[step_done] step=157, best_score=0.34879\n",
      "[step_predict] step=158, of=299, date=2013-03-01\n",
      "[step_search_start] step=158, hp=4, fe=3, expected_evals=6\n"
     ]
    },
    {
     "name": "stderr",
     "output_type": "stream",
     "text": [
      "/Library/Frameworks/Python.framework/Versions/3.12/lib/python3.12/site-packages/sklearn/linear_model/_coordinate_descent.py:697: ConvergenceWarning: Objective did not converge. You might want to increase the number of iterations, check the scale of the features or consider increasing regularisation. Duality gap: 1.362e+00, tolerance: 5.812e-02\n",
      "  model = cd_fast.enet_coordinate_descent(\n"
     ]
    },
    {
     "name": "stdout",
     "output_type": "stream",
     "text": [
      "[step_eval] step=158, done=1, total=6, hp_idx=1, fe_idx=1, score=1.429558\n"
     ]
    },
    {
     "name": "stderr",
     "output_type": "stream",
     "text": [
      "/Library/Frameworks/Python.framework/Versions/3.12/lib/python3.12/site-packages/sklearn/linear_model/_coordinate_descent.py:697: ConvergenceWarning: Objective did not converge. You might want to increase the number of iterations, check the scale of the features or consider increasing regularisation. Duality gap: 1.362e+00, tolerance: 5.812e-02\n",
      "  model = cd_fast.enet_coordinate_descent(\n"
     ]
    },
    {
     "name": "stdout",
     "output_type": "stream",
     "text": [
      "[step_eval] step=158, done=2, total=6, hp_idx=1, fe_idx=2, score=0.147402\n"
     ]
    },
    {
     "name": "stderr",
     "output_type": "stream",
     "text": [
      "/Library/Frameworks/Python.framework/Versions/3.12/lib/python3.12/site-packages/sklearn/linear_model/_coordinate_descent.py:697: ConvergenceWarning: Objective did not converge. You might want to increase the number of iterations, check the scale of the features or consider increasing regularisation. Duality gap: 1.340e+00, tolerance: 5.698e-02\n",
      "  model = cd_fast.enet_coordinate_descent(\n"
     ]
    },
    {
     "name": "stdout",
     "output_type": "stream",
     "text": [
      "[step_eval] step=158, done=3, total=6, hp_idx=1, fe_idx=3, score=1.335627\n"
     ]
    },
    {
     "name": "stderr",
     "output_type": "stream",
     "text": [
      "/Library/Frameworks/Python.framework/Versions/3.12/lib/python3.12/site-packages/sklearn/linear_model/_coordinate_descent.py:697: ConvergenceWarning: Objective did not converge. You might want to increase the number of iterations, check the scale of the features or consider increasing regularisation. Duality gap: 1.456e+00, tolerance: 5.812e-02\n",
      "  model = cd_fast.enet_coordinate_descent(\n"
     ]
    },
    {
     "name": "stdout",
     "output_type": "stream",
     "text": [
      "[step_eval] step=158, done=4, total=6, hp_idx=2, fe_idx=1, score=0.479874\n",
      "[step_eval] step=158, done=5, total=6, hp_idx=3, fe_idx=1, score=1.102923\n",
      "[step_eval] step=158, done=6, total=6, hp_idx=4, fe_idx=1, score=1.366416\n",
      "[step_done] step=158, best_score=0.147402\n",
      "[step_predict] step=159, of=299, date=2013-04-01\n",
      "[step_search_start] step=159, hp=4, fe=3, expected_evals=6\n"
     ]
    },
    {
     "name": "stderr",
     "output_type": "stream",
     "text": [
      "/Library/Frameworks/Python.framework/Versions/3.12/lib/python3.12/site-packages/sklearn/linear_model/_coordinate_descent.py:697: ConvergenceWarning: Objective did not converge. You might want to increase the number of iterations, check the scale of the features or consider increasing regularisation. Duality gap: 2.363e+00, tolerance: 5.712e-02\n",
      "  model = cd_fast.enet_coordinate_descent(\n"
     ]
    },
    {
     "name": "stdout",
     "output_type": "stream",
     "text": [
      "[step_eval] step=159, done=1, total=6, hp_idx=1, fe_idx=1, score=0.167896\n"
     ]
    },
    {
     "name": "stderr",
     "output_type": "stream",
     "text": [
      "/Library/Frameworks/Python.framework/Versions/3.12/lib/python3.12/site-packages/sklearn/linear_model/_coordinate_descent.py:697: ConvergenceWarning: Objective did not converge. You might want to increase the number of iterations, check the scale of the features or consider increasing regularisation. Duality gap: 1.572e+00, tolerance: 5.825e-02\n",
      "  model = cd_fast.enet_coordinate_descent(\n"
     ]
    },
    {
     "name": "stdout",
     "output_type": "stream",
     "text": [
      "[step_eval] step=159, done=2, total=6, hp_idx=1, fe_idx=2, score=1.665125\n"
     ]
    },
    {
     "name": "stderr",
     "output_type": "stream",
     "text": [
      "/Library/Frameworks/Python.framework/Versions/3.12/lib/python3.12/site-packages/sklearn/linear_model/_coordinate_descent.py:697: ConvergenceWarning: Objective did not converge. You might want to increase the number of iterations, check the scale of the features or consider increasing regularisation. Duality gap: 2.363e+00, tolerance: 5.712e-02\n",
      "  model = cd_fast.enet_coordinate_descent(\n"
     ]
    },
    {
     "name": "stdout",
     "output_type": "stream",
     "text": [
      "[step_eval] step=159, done=3, total=6, hp_idx=1, fe_idx=3, score=1.90183\n"
     ]
    },
    {
     "name": "stderr",
     "output_type": "stream",
     "text": [
      "/Library/Frameworks/Python.framework/Versions/3.12/lib/python3.12/site-packages/sklearn/linear_model/_coordinate_descent.py:697: ConvergenceWarning: Objective did not converge. You might want to increase the number of iterations, check the scale of the features or consider increasing regularisation. Duality gap: 1.375e+00, tolerance: 5.825e-02\n",
      "  model = cd_fast.enet_coordinate_descent(\n"
     ]
    },
    {
     "name": "stdout",
     "output_type": "stream",
     "text": [
      "[step_eval] step=159, done=4, total=6, hp_idx=2, fe_idx=1, score=0.667985\n",
      "[step_eval] step=159, done=5, total=6, hp_idx=3, fe_idx=1, score=0.993446\n",
      "[step_eval] step=159, done=6, total=6, hp_idx=4, fe_idx=1, score=0.840388\n",
      "[step_done] step=159, best_score=0.167896\n",
      "[step_predict] step=160, of=299, date=2013-05-01\n",
      "[step_search_start] step=160, hp=4, fe=3, expected_evals=6\n"
     ]
    },
    {
     "name": "stderr",
     "output_type": "stream",
     "text": [
      "/Library/Frameworks/Python.framework/Versions/3.12/lib/python3.12/site-packages/sklearn/linear_model/_coordinate_descent.py:697: ConvergenceWarning: Objective did not converge. You might want to increase the number of iterations, check the scale of the features or consider increasing regularisation. Duality gap: 1.129e+00, tolerance: 5.831e-02\n",
      "  model = cd_fast.enet_coordinate_descent(\n"
     ]
    },
    {
     "name": "stdout",
     "output_type": "stream",
     "text": [
      "[step_eval] step=160, done=1, total=6, hp_idx=1, fe_idx=1, score=1.932835\n"
     ]
    },
    {
     "name": "stderr",
     "output_type": "stream",
     "text": [
      "/Library/Frameworks/Python.framework/Versions/3.12/lib/python3.12/site-packages/sklearn/linear_model/_coordinate_descent.py:697: ConvergenceWarning: Objective did not converge. You might want to increase the number of iterations, check the scale of the features or consider increasing regularisation. Duality gap: 1.129e+00, tolerance: 5.831e-02\n",
      "  model = cd_fast.enet_coordinate_descent(\n"
     ]
    },
    {
     "name": "stdout",
     "output_type": "stream",
     "text": [
      "[step_eval] step=160, done=2, total=6, hp_idx=1, fe_idx=2, score=1.834447\n"
     ]
    },
    {
     "name": "stderr",
     "output_type": "stream",
     "text": [
      "/Library/Frameworks/Python.framework/Versions/3.12/lib/python3.12/site-packages/sklearn/linear_model/_coordinate_descent.py:697: ConvergenceWarning: Objective did not converge. You might want to increase the number of iterations, check the scale of the features or consider increasing regularisation. Duality gap: 2.182e+00, tolerance: 5.717e-02\n",
      "  model = cd_fast.enet_coordinate_descent(\n"
     ]
    },
    {
     "name": "stdout",
     "output_type": "stream",
     "text": [
      "[step_eval] step=160, done=3, total=6, hp_idx=1, fe_idx=3, score=3.411582\n"
     ]
    },
    {
     "name": "stderr",
     "output_type": "stream",
     "text": [
      "/Library/Frameworks/Python.framework/Versions/3.12/lib/python3.12/site-packages/sklearn/linear_model/_coordinate_descent.py:697: ConvergenceWarning: Objective did not converge. You might want to increase the number of iterations, check the scale of the features or consider increasing regularisation. Duality gap: 1.208e+00, tolerance: 5.831e-02\n",
      "  model = cd_fast.enet_coordinate_descent(\n"
     ]
    },
    {
     "name": "stdout",
     "output_type": "stream",
     "text": [
      "[step_eval] step=160, done=4, total=6, hp_idx=2, fe_idx=1, score=1.545938\n",
      "[step_eval] step=160, done=5, total=6, hp_idx=3, fe_idx=1, score=1.237309\n",
      "[step_eval] step=160, done=6, total=6, hp_idx=4, fe_idx=1, score=1.172612\n",
      "[step_done] step=160, best_score=1.172612\n",
      "[step_predict] step=161, of=299, date=2013-06-01\n",
      "[step_search_start] step=161, hp=4, fe=3, expected_evals=6\n",
      "[step_eval] step=161, done=1, total=6, hp_idx=1, fe_idx=1, score=0.428664\n"
     ]
    },
    {
     "name": "stderr",
     "output_type": "stream",
     "text": [
      "/Library/Frameworks/Python.framework/Versions/3.12/lib/python3.12/site-packages/sklearn/linear_model/_coordinate_descent.py:697: ConvergenceWarning: Objective did not converge. You might want to increase the number of iterations, check the scale of the features or consider increasing regularisation. Duality gap: 1.870e+00, tolerance: 5.843e-02\n",
      "  model = cd_fast.enet_coordinate_descent(\n"
     ]
    },
    {
     "name": "stdout",
     "output_type": "stream",
     "text": [
      "[step_eval] step=161, done=2, total=6, hp_idx=1, fe_idx=2, score=2.90342\n"
     ]
    },
    {
     "name": "stderr",
     "output_type": "stream",
     "text": [
      "/Library/Frameworks/Python.framework/Versions/3.12/lib/python3.12/site-packages/sklearn/linear_model/_coordinate_descent.py:697: ConvergenceWarning: Objective did not converge. You might want to increase the number of iterations, check the scale of the features or consider increasing regularisation. Duality gap: 2.093e+00, tolerance: 5.730e-02\n",
      "  model = cd_fast.enet_coordinate_descent(\n"
     ]
    },
    {
     "name": "stdout",
     "output_type": "stream",
     "text": [
      "[step_eval] step=161, done=3, total=6, hp_idx=1, fe_idx=3, score=1.957965\n"
     ]
    },
    {
     "name": "stderr",
     "output_type": "stream",
     "text": [
      "/Library/Frameworks/Python.framework/Versions/3.12/lib/python3.12/site-packages/sklearn/linear_model/_coordinate_descent.py:697: ConvergenceWarning: Objective did not converge. You might want to increase the number of iterations, check the scale of the features or consider increasing regularisation. Duality gap: 6.317e-01, tolerance: 5.843e-02\n",
      "  model = cd_fast.enet_coordinate_descent(\n"
     ]
    },
    {
     "name": "stdout",
     "output_type": "stream",
     "text": [
      "[step_eval] step=161, done=4, total=6, hp_idx=2, fe_idx=1, score=0.852767\n",
      "[step_eval] step=161, done=5, total=6, hp_idx=3, fe_idx=1, score=1.802509\n",
      "[step_eval] step=161, done=6, total=6, hp_idx=4, fe_idx=1, score=1.722282\n",
      "[step_done] step=161, best_score=0.428664\n",
      "[step_predict] step=162, of=299, date=2013-07-01\n",
      "[step_search_start] step=162, hp=4, fe=3, expected_evals=6\n"
     ]
    },
    {
     "name": "stderr",
     "output_type": "stream",
     "text": [
      "/Library/Frameworks/Python.framework/Versions/3.12/lib/python3.12/site-packages/sklearn/linear_model/_coordinate_descent.py:697: ConvergenceWarning: Objective did not converge. You might want to increase the number of iterations, check the scale of the features or consider increasing regularisation. Duality gap: 9.306e-01, tolerance: 5.874e-02\n",
      "  model = cd_fast.enet_coordinate_descent(\n"
     ]
    },
    {
     "name": "stdout",
     "output_type": "stream",
     "text": [
      "[step_eval] step=162, done=1, total=6, hp_idx=1, fe_idx=1, score=3.754234\n"
     ]
    },
    {
     "name": "stderr",
     "output_type": "stream",
     "text": [
      "/Library/Frameworks/Python.framework/Versions/3.12/lib/python3.12/site-packages/sklearn/linear_model/_coordinate_descent.py:697: ConvergenceWarning: Objective did not converge. You might want to increase the number of iterations, check the scale of the features or consider increasing regularisation. Duality gap: 9.306e-01, tolerance: 5.874e-02\n",
      "  model = cd_fast.enet_coordinate_descent(\n"
     ]
    },
    {
     "name": "stdout",
     "output_type": "stream",
     "text": [
      "[step_eval] step=162, done=2, total=6, hp_idx=1, fe_idx=2, score=2.168974\n"
     ]
    },
    {
     "name": "stderr",
     "output_type": "stream",
     "text": [
      "/Library/Frameworks/Python.framework/Versions/3.12/lib/python3.12/site-packages/sklearn/linear_model/_coordinate_descent.py:697: ConvergenceWarning: Objective did not converge. You might want to increase the number of iterations, check the scale of the features or consider increasing regularisation. Duality gap: 1.856e+00, tolerance: 5.761e-02\n",
      "  model = cd_fast.enet_coordinate_descent(\n"
     ]
    },
    {
     "name": "stdout",
     "output_type": "stream",
     "text": [
      "[step_eval] step=162, done=3, total=6, hp_idx=1, fe_idx=3, score=1.996801\n"
     ]
    },
    {
     "name": "stderr",
     "output_type": "stream",
     "text": [
      "/Library/Frameworks/Python.framework/Versions/3.12/lib/python3.12/site-packages/sklearn/linear_model/_coordinate_descent.py:697: ConvergenceWarning: Objective did not converge. You might want to increase the number of iterations, check the scale of the features or consider increasing regularisation. Duality gap: 6.183e-01, tolerance: 5.874e-02\n",
      "  model = cd_fast.enet_coordinate_descent(\n"
     ]
    },
    {
     "name": "stdout",
     "output_type": "stream",
     "text": [
      "[step_eval] step=162, done=4, total=6, hp_idx=2, fe_idx=1, score=1.722046\n",
      "[step_eval] step=162, done=5, total=6, hp_idx=3, fe_idx=1, score=1.774964\n",
      "[step_eval] step=162, done=6, total=6, hp_idx=4, fe_idx=1, score=1.534738\n",
      "[step_done] step=162, best_score=1.534738\n",
      "[step_predict] step=163, of=299, date=2013-08-01\n",
      "[step_search_start] step=163, hp=4, fe=3, expected_evals=6\n",
      "[step_eval] step=163, done=1, total=6, hp_idx=1, fe_idx=1, score=1.972786\n"
     ]
    },
    {
     "name": "stderr",
     "output_type": "stream",
     "text": [
      "/Library/Frameworks/Python.framework/Versions/3.12/lib/python3.12/site-packages/sklearn/linear_model/_coordinate_descent.py:697: ConvergenceWarning: Objective did not converge. You might want to increase the number of iterations, check the scale of the features or consider increasing regularisation. Duality gap: 2.181e+00, tolerance: 5.889e-02\n",
      "  model = cd_fast.enet_coordinate_descent(\n"
     ]
    },
    {
     "name": "stdout",
     "output_type": "stream",
     "text": [
      "[step_eval] step=163, done=2, total=6, hp_idx=1, fe_idx=2, score=3.483594\n"
     ]
    },
    {
     "name": "stderr",
     "output_type": "stream",
     "text": [
      "/Library/Frameworks/Python.framework/Versions/3.12/lib/python3.12/site-packages/sklearn/linear_model/_coordinate_descent.py:697: ConvergenceWarning: Objective did not converge. You might want to increase the number of iterations, check the scale of the features or consider increasing regularisation. Duality gap: 1.889e+00, tolerance: 5.775e-02\n",
      "  model = cd_fast.enet_coordinate_descent(\n"
     ]
    },
    {
     "name": "stdout",
     "output_type": "stream",
     "text": [
      "[step_eval] step=163, done=3, total=6, hp_idx=1, fe_idx=3, score=1.563931\n",
      "[step_eval] step=163, done=4, total=6, hp_idx=2, fe_idx=1, score=1.691839\n"
     ]
    },
    {
     "name": "stderr",
     "output_type": "stream",
     "text": [
      "/Library/Frameworks/Python.framework/Versions/3.12/lib/python3.12/site-packages/sklearn/linear_model/_coordinate_descent.py:697: ConvergenceWarning: Objective did not converge. You might want to increase the number of iterations, check the scale of the features or consider increasing regularisation. Duality gap: 6.514e-01, tolerance: 5.889e-02\n",
      "  model = cd_fast.enet_coordinate_descent(\n"
     ]
    },
    {
     "name": "stdout",
     "output_type": "stream",
     "text": [
      "[step_eval] step=163, done=5, total=6, hp_idx=3, fe_idx=1, score=1.250749\n",
      "[step_eval] step=163, done=6, total=6, hp_idx=4, fe_idx=1, score=1.263713\n",
      "[step_done] step=163, best_score=1.250749\n",
      "[step_predict] step=164, of=299, date=2013-09-01\n",
      "[step_search_start] step=164, hp=4, fe=3, expected_evals=6\n",
      "[step_eval] step=164, done=1, total=6, hp_idx=1, fe_idx=1, score=1.160897\n"
     ]
    },
    {
     "name": "stderr",
     "output_type": "stream",
     "text": [
      "/Library/Frameworks/Python.framework/Versions/3.12/lib/python3.12/site-packages/sklearn/linear_model/_coordinate_descent.py:697: ConvergenceWarning: Objective did not converge. You might want to increase the number of iterations, check the scale of the features or consider increasing regularisation. Duality gap: 1.272e+00, tolerance: 5.912e-02\n",
      "  model = cd_fast.enet_coordinate_descent(\n"
     ]
    },
    {
     "name": "stdout",
     "output_type": "stream",
     "text": [
      "[step_eval] step=164, done=2, total=6, hp_idx=1, fe_idx=2, score=1.219057\n"
     ]
    },
    {
     "name": "stderr",
     "output_type": "stream",
     "text": [
      "/Library/Frameworks/Python.framework/Versions/3.12/lib/python3.12/site-packages/sklearn/linear_model/_coordinate_descent.py:697: ConvergenceWarning: Objective did not converge. You might want to increase the number of iterations, check the scale of the features or consider increasing regularisation. Duality gap: 1.726e+00, tolerance: 5.799e-02\n",
      "  model = cd_fast.enet_coordinate_descent(\n"
     ]
    },
    {
     "name": "stdout",
     "output_type": "stream",
     "text": [
      "[step_eval] step=164, done=3, total=6, hp_idx=1, fe_idx=3, score=3.073553\n"
     ]
    },
    {
     "name": "stderr",
     "output_type": "stream",
     "text": [
      "/Library/Frameworks/Python.framework/Versions/3.12/lib/python3.12/site-packages/sklearn/linear_model/_coordinate_descent.py:697: ConvergenceWarning: Objective did not converge. You might want to increase the number of iterations, check the scale of the features or consider increasing regularisation. Duality gap: 9.347e-01, tolerance: 5.912e-02\n",
      "  model = cd_fast.enet_coordinate_descent(\n"
     ]
    },
    {
     "name": "stdout",
     "output_type": "stream",
     "text": [
      "[step_eval] step=164, done=4, total=6, hp_idx=2, fe_idx=1, score=1.280679\n",
      "[step_eval] step=164, done=5, total=6, hp_idx=3, fe_idx=1, score=1.059023\n",
      "[step_eval] step=164, done=6, total=6, hp_idx=4, fe_idx=1, score=0.845952\n",
      "[step_done] step=164, best_score=0.845952\n",
      "[step_predict] step=165, of=299, date=2013-10-01\n",
      "[step_search_start] step=165, hp=4, fe=3, expected_evals=6\n",
      "[step_eval] step=165, done=1, total=6, hp_idx=1, fe_idx=1, score=1.332951\n"
     ]
    },
    {
     "name": "stderr",
     "output_type": "stream",
     "text": [
      "/Library/Frameworks/Python.framework/Versions/3.12/lib/python3.12/site-packages/sklearn/linear_model/_coordinate_descent.py:697: ConvergenceWarning: Objective did not converge. You might want to increase the number of iterations, check the scale of the features or consider increasing regularisation. Duality gap: 1.487e+00, tolerance: 5.914e-02\n",
      "  model = cd_fast.enet_coordinate_descent(\n"
     ]
    },
    {
     "name": "stdout",
     "output_type": "stream",
     "text": [
      "[step_eval] step=165, done=2, total=6, hp_idx=1, fe_idx=2, score=1.367449\n"
     ]
    },
    {
     "name": "stderr",
     "output_type": "stream",
     "text": [
      "/Library/Frameworks/Python.framework/Versions/3.12/lib/python3.12/site-packages/sklearn/linear_model/_coordinate_descent.py:697: ConvergenceWarning: Objective did not converge. You might want to increase the number of iterations, check the scale of the features or consider increasing regularisation. Duality gap: 2.251e+00, tolerance: 5.801e-02\n",
      "  model = cd_fast.enet_coordinate_descent(\n"
     ]
    },
    {
     "name": "stdout",
     "output_type": "stream",
     "text": [
      "[step_eval] step=165, done=3, total=6, hp_idx=1, fe_idx=3, score=1.055638\n"
     ]
    },
    {
     "name": "stderr",
     "output_type": "stream",
     "text": [
      "/Library/Frameworks/Python.framework/Versions/3.12/lib/python3.12/site-packages/sklearn/linear_model/_coordinate_descent.py:697: ConvergenceWarning: Objective did not converge. You might want to increase the number of iterations, check the scale of the features or consider increasing regularisation. Duality gap: 6.982e-01, tolerance: 5.914e-02\n",
      "  model = cd_fast.enet_coordinate_descent(\n"
     ]
    },
    {
     "name": "stdout",
     "output_type": "stream",
     "text": [
      "[step_eval] step=165, done=4, total=6, hp_idx=2, fe_idx=1, score=1.035259\n",
      "[step_eval] step=165, done=5, total=6, hp_idx=3, fe_idx=1, score=1.194238\n",
      "[step_eval] step=165, done=6, total=6, hp_idx=4, fe_idx=1, score=1.079166\n",
      "[step_done] step=165, best_score=1.035259\n",
      "[step_predict] step=166, of=299, date=2013-11-01\n",
      "[step_search_start] step=166, hp=4, fe=3, expected_evals=6\n",
      "[step_eval] step=166, done=1, total=6, hp_idx=1, fe_idx=1, score=0.198086\n"
     ]
    },
    {
     "name": "stderr",
     "output_type": "stream",
     "text": [
      "/Library/Frameworks/Python.framework/Versions/3.12/lib/python3.12/site-packages/sklearn/linear_model/_coordinate_descent.py:697: ConvergenceWarning: Objective did not converge. You might want to increase the number of iterations, check the scale of the features or consider increasing regularisation. Duality gap: 1.918e+00, tolerance: 5.919e-02\n",
      "  model = cd_fast.enet_coordinate_descent(\n"
     ]
    },
    {
     "name": "stdout",
     "output_type": "stream",
     "text": [
      "[step_eval] step=166, done=2, total=6, hp_idx=1, fe_idx=2, score=1.025155\n"
     ]
    },
    {
     "name": "stderr",
     "output_type": "stream",
     "text": [
      "/Library/Frameworks/Python.framework/Versions/3.12/lib/python3.12/site-packages/sklearn/linear_model/_coordinate_descent.py:697: ConvergenceWarning: Objective did not converge. You might want to increase the number of iterations, check the scale of the features or consider increasing regularisation. Duality gap: 1.861e+00, tolerance: 5.806e-02\n",
      "  model = cd_fast.enet_coordinate_descent(\n"
     ]
    },
    {
     "name": "stdout",
     "output_type": "stream",
     "text": [
      "[step_eval] step=166, done=3, total=6, hp_idx=1, fe_idx=3, score=0.018038\n"
     ]
    },
    {
     "name": "stderr",
     "output_type": "stream",
     "text": [
      "/Library/Frameworks/Python.framework/Versions/3.12/lib/python3.12/site-packages/sklearn/linear_model/_coordinate_descent.py:697: ConvergenceWarning: Objective did not converge. You might want to increase the number of iterations, check the scale of the features or consider increasing regularisation. Duality gap: 6.067e-01, tolerance: 5.919e-02\n",
      "  model = cd_fast.enet_coordinate_descent(\n"
     ]
    },
    {
     "name": "stdout",
     "output_type": "stream",
     "text": [
      "[step_eval] step=166, done=4, total=6, hp_idx=2, fe_idx=1, score=0.411451\n",
      "[step_eval] step=166, done=5, total=6, hp_idx=3, fe_idx=1, score=0.528827\n",
      "[step_eval] step=166, done=6, total=6, hp_idx=4, fe_idx=1, score=0.890926\n",
      "[step_done] step=166, best_score=0.018038\n",
      "[step_predict] step=167, of=299, date=2013-12-01\n",
      "[step_search_start] step=167, hp=4, fe=3, expected_evals=6\n"
     ]
    },
    {
     "name": "stderr",
     "output_type": "stream",
     "text": [
      "/Library/Frameworks/Python.framework/Versions/3.12/lib/python3.12/site-packages/sklearn/linear_model/_coordinate_descent.py:697: ConvergenceWarning: Objective did not converge. You might want to increase the number of iterations, check the scale of the features or consider increasing regularisation. Duality gap: 6.278e-01, tolerance: 5.942e-02\n",
      "  model = cd_fast.enet_coordinate_descent(\n"
     ]
    },
    {
     "name": "stdout",
     "output_type": "stream",
     "text": [
      "[step_eval] step=167, done=1, total=6, hp_idx=1, fe_idx=1, score=0.5311\n"
     ]
    },
    {
     "name": "stderr",
     "output_type": "stream",
     "text": [
      "/Library/Frameworks/Python.framework/Versions/3.12/lib/python3.12/site-packages/sklearn/linear_model/_coordinate_descent.py:697: ConvergenceWarning: Objective did not converge. You might want to increase the number of iterations, check the scale of the features or consider increasing regularisation. Duality gap: 6.163e-01, tolerance: 5.942e-02\n",
      "  model = cd_fast.enet_coordinate_descent(\n"
     ]
    },
    {
     "name": "stdout",
     "output_type": "stream",
     "text": [
      "[step_eval] step=167, done=2, total=6, hp_idx=1, fe_idx=2, score=0.817907\n"
     ]
    },
    {
     "name": "stderr",
     "output_type": "stream",
     "text": [
      "/Library/Frameworks/Python.framework/Versions/3.12/lib/python3.12/site-packages/sklearn/linear_model/_coordinate_descent.py:697: ConvergenceWarning: Objective did not converge. You might want to increase the number of iterations, check the scale of the features or consider increasing regularisation. Duality gap: 1.398e+00, tolerance: 5.829e-02\n",
      "  model = cd_fast.enet_coordinate_descent(\n"
     ]
    },
    {
     "name": "stdout",
     "output_type": "stream",
     "text": [
      "[step_eval] step=167, done=3, total=6, hp_idx=1, fe_idx=3, score=0.877991\n"
     ]
    },
    {
     "name": "stderr",
     "output_type": "stream",
     "text": [
      "/Library/Frameworks/Python.framework/Versions/3.12/lib/python3.12/site-packages/sklearn/linear_model/_coordinate_descent.py:697: ConvergenceWarning: Objective did not converge. You might want to increase the number of iterations, check the scale of the features or consider increasing regularisation. Duality gap: 6.278e-01, tolerance: 5.942e-02\n",
      "  model = cd_fast.enet_coordinate_descent(\n"
     ]
    },
    {
     "name": "stdout",
     "output_type": "stream",
     "text": [
      "[step_eval] step=167, done=4, total=6, hp_idx=2, fe_idx=1, score=0.211275\n",
      "[step_eval] step=167, done=5, total=6, hp_idx=3, fe_idx=1, score=0.157507\n",
      "[step_eval] step=167, done=6, total=6, hp_idx=4, fe_idx=1, score=0.294231\n",
      "[step_done] step=167, best_score=0.157507\n",
      "[step_predict] step=168, of=299, date=2014-01-01\n",
      "[step_search_start] step=168, hp=4, fe=3, expected_evals=6\n",
      "[step_eval] step=168, done=1, total=6, hp_idx=1, fe_idx=1, score=1.857207\n"
     ]
    },
    {
     "name": "stderr",
     "output_type": "stream",
     "text": [
      "/Library/Frameworks/Python.framework/Versions/3.12/lib/python3.12/site-packages/sklearn/linear_model/_coordinate_descent.py:697: ConvergenceWarning: Objective did not converge. You might want to increase the number of iterations, check the scale of the features or consider increasing regularisation. Duality gap: 5.187e-01, tolerance: 5.943e-02\n",
      "  model = cd_fast.enet_coordinate_descent(\n"
     ]
    },
    {
     "name": "stdout",
     "output_type": "stream",
     "text": [
      "[step_eval] step=168, done=2, total=6, hp_idx=1, fe_idx=2, score=1.790819\n"
     ]
    },
    {
     "name": "stderr",
     "output_type": "stream",
     "text": [
      "/Library/Frameworks/Python.framework/Versions/3.12/lib/python3.12/site-packages/sklearn/linear_model/_coordinate_descent.py:697: ConvergenceWarning: Objective did not converge. You might want to increase the number of iterations, check the scale of the features or consider increasing regularisation. Duality gap: 1.322e+00, tolerance: 5.830e-02\n",
      "  model = cd_fast.enet_coordinate_descent(\n"
     ]
    },
    {
     "name": "stdout",
     "output_type": "stream",
     "text": [
      "[step_eval] step=168, done=3, total=6, hp_idx=1, fe_idx=3, score=0.795926\n"
     ]
    },
    {
     "name": "stderr",
     "output_type": "stream",
     "text": [
      "/Library/Frameworks/Python.framework/Versions/3.12/lib/python3.12/site-packages/sklearn/linear_model/_coordinate_descent.py:697: ConvergenceWarning: Objective did not converge. You might want to increase the number of iterations, check the scale of the features or consider increasing regularisation. Duality gap: 5.891e-01, tolerance: 5.943e-02\n",
      "  model = cd_fast.enet_coordinate_descent(\n"
     ]
    },
    {
     "name": "stdout",
     "output_type": "stream",
     "text": [
      "[step_eval] step=168, done=4, total=6, hp_idx=2, fe_idx=1, score=0.435917\n",
      "[step_eval] step=168, done=5, total=6, hp_idx=3, fe_idx=1, score=0.526188\n",
      "[step_eval] step=168, done=6, total=6, hp_idx=4, fe_idx=1, score=0.631854\n",
      "[step_done] step=168, best_score=0.435917\n",
      "[step_predict] step=169, of=299, date=2014-02-01\n",
      "[step_search_start] step=169, hp=4, fe=3, expected_evals=6\n",
      "[step_eval] step=169, done=1, total=6, hp_idx=1, fe_idx=1, score=0.814087\n"
     ]
    },
    {
     "name": "stderr",
     "output_type": "stream",
     "text": [
      "/Library/Frameworks/Python.framework/Versions/3.12/lib/python3.12/site-packages/sklearn/linear_model/_coordinate_descent.py:697: ConvergenceWarning: Objective did not converge. You might want to increase the number of iterations, check the scale of the features or consider increasing regularisation. Duality gap: 1.438e+00, tolerance: 5.944e-02\n",
      "  model = cd_fast.enet_coordinate_descent(\n"
     ]
    },
    {
     "name": "stdout",
     "output_type": "stream",
     "text": [
      "[step_eval] step=169, done=2, total=6, hp_idx=1, fe_idx=2, score=0.356101\n"
     ]
    },
    {
     "name": "stderr",
     "output_type": "stream",
     "text": [
      "/Library/Frameworks/Python.framework/Versions/3.12/lib/python3.12/site-packages/sklearn/linear_model/_coordinate_descent.py:697: ConvergenceWarning: Objective did not converge. You might want to increase the number of iterations, check the scale of the features or consider increasing regularisation. Duality gap: 1.663e+00, tolerance: 5.831e-02\n",
      "  model = cd_fast.enet_coordinate_descent(\n"
     ]
    },
    {
     "name": "stdout",
     "output_type": "stream",
     "text": [
      "[step_eval] step=169, done=3, total=6, hp_idx=1, fe_idx=3, score=0.87473\n"
     ]
    },
    {
     "name": "stderr",
     "output_type": "stream",
     "text": [
      "/Library/Frameworks/Python.framework/Versions/3.12/lib/python3.12/site-packages/sklearn/linear_model/_coordinate_descent.py:697: ConvergenceWarning: Objective did not converge. You might want to increase the number of iterations, check the scale of the features or consider increasing regularisation. Duality gap: 7.073e-01, tolerance: 5.944e-02\n",
      "  model = cd_fast.enet_coordinate_descent(\n"
     ]
    },
    {
     "name": "stdout",
     "output_type": "stream",
     "text": [
      "[step_eval] step=169, done=4, total=6, hp_idx=2, fe_idx=1, score=0.460217\n",
      "[step_eval] step=169, done=5, total=6, hp_idx=3, fe_idx=1, score=0.39514\n",
      "[step_eval] step=169, done=6, total=6, hp_idx=4, fe_idx=1, score=0.333131\n",
      "[step_done] step=169, best_score=0.333131\n",
      "[step_predict] step=170, of=299, date=2014-03-01\n",
      "[step_search_start] step=170, hp=4, fe=3, expected_evals=6\n",
      "[step_eval] step=170, done=1, total=6, hp_idx=1, fe_idx=1, score=1.098893\n"
     ]
    },
    {
     "name": "stderr",
     "output_type": "stream",
     "text": [
      "/Library/Frameworks/Python.framework/Versions/3.12/lib/python3.12/site-packages/sklearn/linear_model/_coordinate_descent.py:697: ConvergenceWarning: Objective did not converge. You might want to increase the number of iterations, check the scale of the features or consider increasing regularisation. Duality gap: 1.587e+00, tolerance: 5.944e-02\n",
      "  model = cd_fast.enet_coordinate_descent(\n"
     ]
    },
    {
     "name": "stdout",
     "output_type": "stream",
     "text": [
      "[step_eval] step=170, done=2, total=6, hp_idx=1, fe_idx=2, score=0.596033\n"
     ]
    },
    {
     "name": "stderr",
     "output_type": "stream",
     "text": [
      "/Library/Frameworks/Python.framework/Versions/3.12/lib/python3.12/site-packages/sklearn/linear_model/_coordinate_descent.py:697: ConvergenceWarning: Objective did not converge. You might want to increase the number of iterations, check the scale of the features or consider increasing regularisation. Duality gap: 1.808e+00, tolerance: 5.831e-02\n",
      "  model = cd_fast.enet_coordinate_descent(\n"
     ]
    },
    {
     "name": "stdout",
     "output_type": "stream",
     "text": [
      "[step_eval] step=170, done=3, total=6, hp_idx=1, fe_idx=3, score=1.418542\n"
     ]
    },
    {
     "name": "stderr",
     "output_type": "stream",
     "text": [
      "/Library/Frameworks/Python.framework/Versions/3.12/lib/python3.12/site-packages/sklearn/linear_model/_coordinate_descent.py:697: ConvergenceWarning: Objective did not converge. You might want to increase the number of iterations, check the scale of the features or consider increasing regularisation. Duality gap: 7.290e-01, tolerance: 5.944e-02\n",
      "  model = cd_fast.enet_coordinate_descent(\n"
     ]
    },
    {
     "name": "stdout",
     "output_type": "stream",
     "text": [
      "[step_eval] step=170, done=4, total=6, hp_idx=2, fe_idx=1, score=0.51414\n",
      "[step_eval] step=170, done=5, total=6, hp_idx=3, fe_idx=1, score=0.314346\n",
      "[step_eval] step=170, done=6, total=6, hp_idx=4, fe_idx=1, score=0.296662\n",
      "[step_done] step=170, best_score=0.296662\n",
      "[step_predict] step=171, of=299, date=2014-04-01\n",
      "[step_search_start] step=171, hp=4, fe=3, expected_evals=6\n",
      "[step_eval] step=171, done=1, total=6, hp_idx=1, fe_idx=1, score=0.5917\n"
     ]
    },
    {
     "name": "stderr",
     "output_type": "stream",
     "text": [
      "/Library/Frameworks/Python.framework/Versions/3.12/lib/python3.12/site-packages/sklearn/linear_model/_coordinate_descent.py:697: ConvergenceWarning: Objective did not converge. You might want to increase the number of iterations, check the scale of the features or consider increasing regularisation. Duality gap: 1.867e+00, tolerance: 5.945e-02\n",
      "  model = cd_fast.enet_coordinate_descent(\n"
     ]
    },
    {
     "name": "stdout",
     "output_type": "stream",
     "text": [
      "[step_eval] step=171, done=2, total=6, hp_idx=1, fe_idx=2, score=1.51579\n"
     ]
    },
    {
     "name": "stderr",
     "output_type": "stream",
     "text": [
      "/Library/Frameworks/Python.framework/Versions/3.12/lib/python3.12/site-packages/sklearn/linear_model/_coordinate_descent.py:697: ConvergenceWarning: Objective did not converge. You might want to increase the number of iterations, check the scale of the features or consider increasing regularisation. Duality gap: 1.792e+00, tolerance: 5.832e-02\n",
      "  model = cd_fast.enet_coordinate_descent(\n"
     ]
    },
    {
     "name": "stdout",
     "output_type": "stream",
     "text": [
      "[step_eval] step=171, done=3, total=6, hp_idx=1, fe_idx=3, score=0.059451\n"
     ]
    },
    {
     "name": "stderr",
     "output_type": "stream",
     "text": [
      "/Library/Frameworks/Python.framework/Versions/3.12/lib/python3.12/site-packages/sklearn/linear_model/_coordinate_descent.py:697: ConvergenceWarning: Objective did not converge. You might want to increase the number of iterations, check the scale of the features or consider increasing regularisation. Duality gap: 1.029e+00, tolerance: 5.945e-02\n",
      "  model = cd_fast.enet_coordinate_descent(\n"
     ]
    },
    {
     "name": "stdout",
     "output_type": "stream",
     "text": [
      "[step_eval] step=171, done=4, total=6, hp_idx=2, fe_idx=1, score=0.000316\n",
      "[step_eval] step=171, done=5, total=6, hp_idx=3, fe_idx=1, score=0.618091\n",
      "[step_eval] step=171, done=6, total=6, hp_idx=4, fe_idx=1, score=0.775951\n",
      "[step_done] step=171, best_score=0.000316\n",
      "[step_predict] step=172, of=299, date=2014-05-01\n",
      "[step_search_start] step=172, hp=4, fe=3, expected_evals=6\n",
      "[step_eval] step=172, done=1, total=6, hp_idx=1, fe_idx=1, score=0.366301\n"
     ]
    },
    {
     "name": "stderr",
     "output_type": "stream",
     "text": [
      "/Library/Frameworks/Python.framework/Versions/3.12/lib/python3.12/site-packages/sklearn/linear_model/_coordinate_descent.py:697: ConvergenceWarning: Objective did not converge. You might want to increase the number of iterations, check the scale of the features or consider increasing regularisation. Duality gap: 1.844e+00, tolerance: 5.946e-02\n",
      "  model = cd_fast.enet_coordinate_descent(\n"
     ]
    },
    {
     "name": "stdout",
     "output_type": "stream",
     "text": [
      "[step_eval] step=172, done=2, total=6, hp_idx=1, fe_idx=2, score=0.494561\n"
     ]
    },
    {
     "name": "stderr",
     "output_type": "stream",
     "text": [
      "/Library/Frameworks/Python.framework/Versions/3.12/lib/python3.12/site-packages/sklearn/linear_model/_coordinate_descent.py:697: ConvergenceWarning: Objective did not converge. You might want to increase the number of iterations, check the scale of the features or consider increasing regularisation. Duality gap: 1.964e+00, tolerance: 5.833e-02\n",
      "  model = cd_fast.enet_coordinate_descent(\n"
     ]
    },
    {
     "name": "stdout",
     "output_type": "stream",
     "text": [
      "[step_eval] step=172, done=3, total=6, hp_idx=1, fe_idx=3, score=0.477096\n"
     ]
    },
    {
     "name": "stderr",
     "output_type": "stream",
     "text": [
      "/Library/Frameworks/Python.framework/Versions/3.12/lib/python3.12/site-packages/sklearn/linear_model/_coordinate_descent.py:697: ConvergenceWarning: Objective did not converge. You might want to increase the number of iterations, check the scale of the features or consider increasing regularisation. Duality gap: 1.064e+00, tolerance: 5.946e-02\n",
      "  model = cd_fast.enet_coordinate_descent(\n"
     ]
    },
    {
     "name": "stdout",
     "output_type": "stream",
     "text": [
      "[step_eval] step=172, done=4, total=6, hp_idx=2, fe_idx=1, score=0.429125\n",
      "[step_eval] step=172, done=5, total=6, hp_idx=3, fe_idx=1, score=0.798877\n",
      "[step_eval] step=172, done=6, total=6, hp_idx=4, fe_idx=1, score=1.138481\n",
      "[step_done] step=172, best_score=0.366301\n",
      "[step_predict] step=173, of=299, date=2014-06-01\n",
      "[step_search_start] step=173, hp=4, fe=3, expected_evals=6\n"
     ]
    },
    {
     "name": "stderr",
     "output_type": "stream",
     "text": [
      "/Library/Frameworks/Python.framework/Versions/3.12/lib/python3.12/site-packages/sklearn/linear_model/_coordinate_descent.py:697: ConvergenceWarning: Objective did not converge. You might want to increase the number of iterations, check the scale of the features or consider increasing regularisation. Duality gap: 2.748e+00, tolerance: 5.954e-02\n",
      "  model = cd_fast.enet_coordinate_descent(\n"
     ]
    },
    {
     "name": "stdout",
     "output_type": "stream",
     "text": [
      "[step_eval] step=173, done=1, total=6, hp_idx=1, fe_idx=1, score=0.666838\n"
     ]
    },
    {
     "name": "stderr",
     "output_type": "stream",
     "text": [
      "/Library/Frameworks/Python.framework/Versions/3.12/lib/python3.12/site-packages/sklearn/linear_model/_coordinate_descent.py:697: ConvergenceWarning: Objective did not converge. You might want to increase the number of iterations, check the scale of the features or consider increasing regularisation. Duality gap: 2.748e+00, tolerance: 5.954e-02\n",
      "  model = cd_fast.enet_coordinate_descent(\n"
     ]
    },
    {
     "name": "stdout",
     "output_type": "stream",
     "text": [
      "[step_eval] step=173, done=2, total=6, hp_idx=1, fe_idx=2, score=0.573772\n"
     ]
    },
    {
     "name": "stderr",
     "output_type": "stream",
     "text": [
      "/Library/Frameworks/Python.framework/Versions/3.12/lib/python3.12/site-packages/sklearn/linear_model/_coordinate_descent.py:697: ConvergenceWarning: Objective did not converge. You might want to increase the number of iterations, check the scale of the features or consider increasing regularisation. Duality gap: 1.436e+00, tolerance: 5.841e-02\n",
      "  model = cd_fast.enet_coordinate_descent(\n"
     ]
    },
    {
     "name": "stdout",
     "output_type": "stream",
     "text": [
      "[step_eval] step=173, done=3, total=6, hp_idx=1, fe_idx=3, score=0.136249\n"
     ]
    },
    {
     "name": "stderr",
     "output_type": "stream",
     "text": [
      "/Library/Frameworks/Python.framework/Versions/3.12/lib/python3.12/site-packages/sklearn/linear_model/_coordinate_descent.py:697: ConvergenceWarning: Objective did not converge. You might want to increase the number of iterations, check the scale of the features or consider increasing regularisation. Duality gap: 9.448e-01, tolerance: 5.954e-02\n",
      "  model = cd_fast.enet_coordinate_descent(\n"
     ]
    },
    {
     "name": "stdout",
     "output_type": "stream",
     "text": [
      "[step_eval] step=173, done=4, total=6, hp_idx=2, fe_idx=1, score=0.03616\n",
      "[step_eval] step=173, done=5, total=6, hp_idx=3, fe_idx=1, score=0.223329\n",
      "[step_eval] step=173, done=6, total=6, hp_idx=4, fe_idx=1, score=0.032369\n",
      "[step_done] step=173, best_score=0.032369\n",
      "[step_predict] step=174, of=299, date=2014-07-01\n",
      "[step_search_start] step=174, hp=4, fe=3, expected_evals=6\n",
      "[step_eval] step=174, done=1, total=6, hp_idx=1, fe_idx=1, score=2.070819\n"
     ]
    },
    {
     "name": "stderr",
     "output_type": "stream",
     "text": [
      "/Library/Frameworks/Python.framework/Versions/3.12/lib/python3.12/site-packages/sklearn/linear_model/_coordinate_descent.py:697: ConvergenceWarning: Objective did not converge. You might want to increase the number of iterations, check the scale of the features or consider increasing regularisation. Duality gap: 2.670e+00, tolerance: 5.955e-02\n",
      "  model = cd_fast.enet_coordinate_descent(\n"
     ]
    },
    {
     "name": "stdout",
     "output_type": "stream",
     "text": [
      "[step_eval] step=174, done=2, total=6, hp_idx=1, fe_idx=2, score=1.734238\n"
     ]
    },
    {
     "name": "stderr",
     "output_type": "stream",
     "text": [
      "/Library/Frameworks/Python.framework/Versions/3.12/lib/python3.12/site-packages/sklearn/linear_model/_coordinate_descent.py:697: ConvergenceWarning: Objective did not converge. You might want to increase the number of iterations, check the scale of the features or consider increasing regularisation. Duality gap: 1.661e+00, tolerance: 5.842e-02\n",
      "  model = cd_fast.enet_coordinate_descent(\n"
     ]
    },
    {
     "name": "stdout",
     "output_type": "stream",
     "text": [
      "[step_eval] step=174, done=3, total=6, hp_idx=1, fe_idx=3, score=1.344488\n"
     ]
    },
    {
     "name": "stderr",
     "output_type": "stream",
     "text": [
      "/Library/Frameworks/Python.framework/Versions/3.12/lib/python3.12/site-packages/sklearn/linear_model/_coordinate_descent.py:697: ConvergenceWarning: Objective did not converge. You might want to increase the number of iterations, check the scale of the features or consider increasing regularisation. Duality gap: 9.992e-01, tolerance: 5.955e-02\n",
      "  model = cd_fast.enet_coordinate_descent(\n"
     ]
    },
    {
     "name": "stdout",
     "output_type": "stream",
     "text": [
      "[step_eval] step=174, done=4, total=6, hp_idx=2, fe_idx=1, score=1.524838\n",
      "[step_eval] step=174, done=5, total=6, hp_idx=3, fe_idx=1, score=1.407257\n",
      "[step_eval] step=174, done=6, total=6, hp_idx=4, fe_idx=1, score=1.327383\n",
      "[step_done] step=174, best_score=1.327383\n",
      "[step_predict] step=175, of=299, date=2014-08-01\n",
      "[step_search_start] step=175, hp=4, fe=3, expected_evals=6\n",
      "[step_eval] step=175, done=1, total=6, hp_idx=1, fe_idx=1, score=3.89368\n"
     ]
    },
    {
     "name": "stderr",
     "output_type": "stream",
     "text": [
      "/Library/Frameworks/Python.framework/Versions/3.12/lib/python3.12/site-packages/sklearn/linear_model/_coordinate_descent.py:697: ConvergenceWarning: Objective did not converge. You might want to increase the number of iterations, check the scale of the features or consider increasing regularisation. Duality gap: 1.225e+00, tolerance: 5.975e-02\n",
      "  model = cd_fast.enet_coordinate_descent(\n"
     ]
    },
    {
     "name": "stdout",
     "output_type": "stream",
     "text": [
      "[step_eval] step=175, done=2, total=6, hp_idx=1, fe_idx=2, score=2.809759\n"
     ]
    },
    {
     "name": "stderr",
     "output_type": "stream",
     "text": [
      "/Library/Frameworks/Python.framework/Versions/3.12/lib/python3.12/site-packages/sklearn/linear_model/_coordinate_descent.py:697: ConvergenceWarning: Objective did not converge. You might want to increase the number of iterations, check the scale of the features or consider increasing regularisation. Duality gap: 1.616e+00, tolerance: 5.862e-02\n",
      "  model = cd_fast.enet_coordinate_descent(\n"
     ]
    },
    {
     "name": "stdout",
     "output_type": "stream",
     "text": [
      "[step_eval] step=175, done=3, total=6, hp_idx=1, fe_idx=3, score=3.264853\n"
     ]
    },
    {
     "name": "stderr",
     "output_type": "stream",
     "text": [
      "/Library/Frameworks/Python.framework/Versions/3.12/lib/python3.12/site-packages/sklearn/linear_model/_coordinate_descent.py:697: ConvergenceWarning: Objective did not converge. You might want to increase the number of iterations, check the scale of the features or consider increasing regularisation. Duality gap: 8.651e-01, tolerance: 5.975e-02\n",
      "  model = cd_fast.enet_coordinate_descent(\n"
     ]
    },
    {
     "name": "stdout",
     "output_type": "stream",
     "text": [
      "[step_eval] step=175, done=4, total=6, hp_idx=2, fe_idx=1, score=2.885955\n",
      "[step_eval] step=175, done=5, total=6, hp_idx=3, fe_idx=1, score=3.110264\n",
      "[step_eval] step=175, done=6, total=6, hp_idx=4, fe_idx=1, score=3.469053\n",
      "[step_done] step=175, best_score=2.809759\n",
      "[step_predict] step=176, of=299, date=2014-09-01\n",
      "[step_search_start] step=176, hp=4, fe=3, expected_evals=6\n"
     ]
    },
    {
     "name": "stderr",
     "output_type": "stream",
     "text": [
      "/Library/Frameworks/Python.framework/Versions/3.12/lib/python3.12/site-packages/sklearn/linear_model/_coordinate_descent.py:697: ConvergenceWarning: Objective did not converge. You might want to increase the number of iterations, check the scale of the features or consider increasing regularisation. Duality gap: 1.309e+00, tolerance: 5.975e-02\n",
      "  model = cd_fast.enet_coordinate_descent(\n"
     ]
    },
    {
     "name": "stdout",
     "output_type": "stream",
     "text": [
      "[step_eval] step=176, done=1, total=6, hp_idx=1, fe_idx=1, score=3.12798\n"
     ]
    },
    {
     "name": "stderr",
     "output_type": "stream",
     "text": [
      "/Library/Frameworks/Python.framework/Versions/3.12/lib/python3.12/site-packages/sklearn/linear_model/_coordinate_descent.py:697: ConvergenceWarning: Objective did not converge. You might want to increase the number of iterations, check the scale of the features or consider increasing regularisation. Duality gap: 2.223e+00, tolerance: 6.088e-02\n",
      "  model = cd_fast.enet_coordinate_descent(\n"
     ]
    },
    {
     "name": "stdout",
     "output_type": "stream",
     "text": [
      "[step_eval] step=176, done=2, total=6, hp_idx=1, fe_idx=2, score=5.313686\n"
     ]
    },
    {
     "name": "stderr",
     "output_type": "stream",
     "text": [
      "/Library/Frameworks/Python.framework/Versions/3.12/lib/python3.12/site-packages/sklearn/linear_model/_coordinate_descent.py:697: ConvergenceWarning: Objective did not converge. You might want to increase the number of iterations, check the scale of the features or consider increasing regularisation. Duality gap: 1.309e+00, tolerance: 5.975e-02\n",
      "  model = cd_fast.enet_coordinate_descent(\n"
     ]
    },
    {
     "name": "stdout",
     "output_type": "stream",
     "text": [
      "[step_eval] step=176, done=3, total=6, hp_idx=1, fe_idx=3, score=2.503855\n"
     ]
    },
    {
     "name": "stderr",
     "output_type": "stream",
     "text": [
      "/Library/Frameworks/Python.framework/Versions/3.12/lib/python3.12/site-packages/sklearn/linear_model/_coordinate_descent.py:697: ConvergenceWarning: Objective did not converge. You might want to increase the number of iterations, check the scale of the features or consider increasing regularisation. Duality gap: 5.061e-01, tolerance: 6.088e-02\n",
      "  model = cd_fast.enet_coordinate_descent(\n"
     ]
    },
    {
     "name": "stdout",
     "output_type": "stream",
     "text": [
      "[step_eval] step=176, done=4, total=6, hp_idx=2, fe_idx=1, score=2.514084\n",
      "[step_eval] step=176, done=5, total=6, hp_idx=3, fe_idx=1, score=2.326866\n",
      "[step_eval] step=176, done=6, total=6, hp_idx=4, fe_idx=1, score=2.191455\n",
      "[step_done] step=176, best_score=2.191455\n",
      "[step_predict] step=177, of=299, date=2014-10-01\n",
      "[step_search_start] step=177, hp=4, fe=3, expected_evals=6\n",
      "[step_eval] step=177, done=1, total=6, hp_idx=1, fe_idx=1, score=0.03825\n"
     ]
    },
    {
     "name": "stderr",
     "output_type": "stream",
     "text": [
      "/Library/Frameworks/Python.framework/Versions/3.12/lib/python3.12/site-packages/sklearn/linear_model/_coordinate_descent.py:697: ConvergenceWarning: Objective did not converge. You might want to increase the number of iterations, check the scale of the features or consider increasing regularisation. Duality gap: 1.939e+00, tolerance: 6.135e-02\n",
      "  model = cd_fast.enet_coordinate_descent(\n"
     ]
    },
    {
     "name": "stdout",
     "output_type": "stream",
     "text": [
      "[step_eval] step=177, done=2, total=6, hp_idx=1, fe_idx=2, score=1.185073\n"
     ]
    },
    {
     "name": "stderr",
     "output_type": "stream",
     "text": [
      "/Library/Frameworks/Python.framework/Versions/3.12/lib/python3.12/site-packages/sklearn/linear_model/_coordinate_descent.py:697: ConvergenceWarning: Objective did not converge. You might want to increase the number of iterations, check the scale of the features or consider increasing regularisation. Duality gap: 1.808e+00, tolerance: 6.022e-02\n",
      "  model = cd_fast.enet_coordinate_descent(\n"
     ]
    },
    {
     "name": "stdout",
     "output_type": "stream",
     "text": [
      "[step_eval] step=177, done=3, total=6, hp_idx=1, fe_idx=3, score=0.195069\n"
     ]
    },
    {
     "name": "stderr",
     "output_type": "stream",
     "text": [
      "/Library/Frameworks/Python.framework/Versions/3.12/lib/python3.12/site-packages/sklearn/linear_model/_coordinate_descent.py:697: ConvergenceWarning: Objective did not converge. You might want to increase the number of iterations, check the scale of the features or consider increasing regularisation. Duality gap: 7.139e-01, tolerance: 6.135e-02\n",
      "  model = cd_fast.enet_coordinate_descent(\n"
     ]
    },
    {
     "name": "stdout",
     "output_type": "stream",
     "text": [
      "[step_eval] step=177, done=4, total=6, hp_idx=2, fe_idx=1, score=0.276614\n",
      "[step_eval] step=177, done=5, total=6, hp_idx=3, fe_idx=1, score=0.063752\n",
      "[step_eval] step=177, done=6, total=6, hp_idx=4, fe_idx=1, score=0.193013\n",
      "[step_done] step=177, best_score=0.03825\n",
      "[step_predict] step=178, of=299, date=2014-11-01\n",
      "[step_search_start] step=178, hp=4, fe=3, expected_evals=6\n"
     ]
    },
    {
     "name": "stderr",
     "output_type": "stream",
     "text": [
      "/Library/Frameworks/Python.framework/Versions/3.12/lib/python3.12/site-packages/sklearn/linear_model/_coordinate_descent.py:697: ConvergenceWarning: Objective did not converge. You might want to increase the number of iterations, check the scale of the features or consider increasing regularisation. Duality gap: 1.777e+00, tolerance: 6.135e-02\n",
      "  model = cd_fast.enet_coordinate_descent(\n"
     ]
    },
    {
     "name": "stdout",
     "output_type": "stream",
     "text": [
      "[step_eval] step=178, done=1, total=6, hp_idx=1, fe_idx=1, score=0.075339\n"
     ]
    },
    {
     "name": "stderr",
     "output_type": "stream",
     "text": [
      "/Library/Frameworks/Python.framework/Versions/3.12/lib/python3.12/site-packages/sklearn/linear_model/_coordinate_descent.py:697: ConvergenceWarning: Objective did not converge. You might want to increase the number of iterations, check the scale of the features or consider increasing regularisation. Duality gap: 1.777e+00, tolerance: 6.135e-02\n",
      "  model = cd_fast.enet_coordinate_descent(\n"
     ]
    },
    {
     "name": "stdout",
     "output_type": "stream",
     "text": [
      "[step_eval] step=178, done=2, total=6, hp_idx=1, fe_idx=2, score=0.048565\n"
     ]
    },
    {
     "name": "stderr",
     "output_type": "stream",
     "text": [
      "/Library/Frameworks/Python.framework/Versions/3.12/lib/python3.12/site-packages/sklearn/linear_model/_coordinate_descent.py:697: ConvergenceWarning: Objective did not converge. You might want to increase the number of iterations, check the scale of the features or consider increasing regularisation. Duality gap: 1.639e+00, tolerance: 6.022e-02\n",
      "  model = cd_fast.enet_coordinate_descent(\n"
     ]
    },
    {
     "name": "stdout",
     "output_type": "stream",
     "text": [
      "[step_eval] step=178, done=3, total=6, hp_idx=1, fe_idx=3, score=0.49393\n"
     ]
    },
    {
     "name": "stderr",
     "output_type": "stream",
     "text": [
      "/Library/Frameworks/Python.framework/Versions/3.12/lib/python3.12/site-packages/sklearn/linear_model/_coordinate_descent.py:697: ConvergenceWarning: Objective did not converge. You might want to increase the number of iterations, check the scale of the features or consider increasing regularisation. Duality gap: 7.721e-01, tolerance: 6.135e-02\n",
      "  model = cd_fast.enet_coordinate_descent(\n"
     ]
    },
    {
     "name": "stdout",
     "output_type": "stream",
     "text": [
      "[step_eval] step=178, done=4, total=6, hp_idx=2, fe_idx=1, score=0.047713\n",
      "[step_eval] step=178, done=5, total=6, hp_idx=3, fe_idx=1, score=0.14548\n",
      "[step_eval] step=178, done=6, total=6, hp_idx=4, fe_idx=1, score=0.014858\n",
      "[step_done] step=178, best_score=0.014858\n",
      "[step_predict] step=179, of=299, date=2014-12-01\n",
      "[step_search_start] step=179, hp=4, fe=3, expected_evals=6\n",
      "[step_eval] step=179, done=1, total=6, hp_idx=1, fe_idx=1, score=2.618321\n"
     ]
    },
    {
     "name": "stderr",
     "output_type": "stream",
     "text": [
      "/Library/Frameworks/Python.framework/Versions/3.12/lib/python3.12/site-packages/sklearn/linear_model/_coordinate_descent.py:697: ConvergenceWarning: Objective did not converge. You might want to increase the number of iterations, check the scale of the features or consider increasing regularisation. Duality gap: 1.994e+00, tolerance: 6.136e-02\n",
      "  model = cd_fast.enet_coordinate_descent(\n"
     ]
    },
    {
     "name": "stdout",
     "output_type": "stream",
     "text": [
      "[step_eval] step=179, done=2, total=6, hp_idx=1, fe_idx=2, score=2.882895\n"
     ]
    },
    {
     "name": "stderr",
     "output_type": "stream",
     "text": [
      "/Library/Frameworks/Python.framework/Versions/3.12/lib/python3.12/site-packages/sklearn/linear_model/_coordinate_descent.py:697: ConvergenceWarning: Objective did not converge. You might want to increase the number of iterations, check the scale of the features or consider increasing regularisation. Duality gap: 1.617e+00, tolerance: 6.022e-02\n",
      "  model = cd_fast.enet_coordinate_descent(\n"
     ]
    },
    {
     "name": "stdout",
     "output_type": "stream",
     "text": [
      "[step_eval] step=179, done=3, total=6, hp_idx=1, fe_idx=3, score=1.698582\n"
     ]
    },
    {
     "name": "stderr",
     "output_type": "stream",
     "text": [
      "/Library/Frameworks/Python.framework/Versions/3.12/lib/python3.12/site-packages/sklearn/linear_model/_coordinate_descent.py:697: ConvergenceWarning: Objective did not converge. You might want to increase the number of iterations, check the scale of the features or consider increasing regularisation. Duality gap: 8.581e-01, tolerance: 6.136e-02\n",
      "  model = cd_fast.enet_coordinate_descent(\n"
     ]
    },
    {
     "name": "stdout",
     "output_type": "stream",
     "text": [
      "[step_eval] step=179, done=4, total=6, hp_idx=2, fe_idx=1, score=1.375301\n",
      "[step_eval] step=179, done=5, total=6, hp_idx=3, fe_idx=1, score=1.400252\n",
      "[step_eval] step=179, done=6, total=6, hp_idx=4, fe_idx=1, score=1.499865\n",
      "[step_done] step=179, best_score=1.375301\n",
      "[step_predict] step=180, of=299, date=2015-01-01\n",
      "[step_search_start] step=180, hp=4, fe=3, expected_evals=6\n",
      "[step_eval] step=180, done=1, total=6, hp_idx=1, fe_idx=1, score=1.663402\n"
     ]
    },
    {
     "name": "stderr",
     "output_type": "stream",
     "text": [
      "/Library/Frameworks/Python.framework/Versions/3.12/lib/python3.12/site-packages/sklearn/linear_model/_coordinate_descent.py:697: ConvergenceWarning: Objective did not converge. You might want to increase the number of iterations, check the scale of the features or consider increasing regularisation. Duality gap: 1.182e+00, tolerance: 6.158e-02\n",
      "  model = cd_fast.enet_coordinate_descent(\n"
     ]
    },
    {
     "name": "stdout",
     "output_type": "stream",
     "text": [
      "[step_eval] step=180, done=2, total=6, hp_idx=1, fe_idx=2, score=1.987314\n"
     ]
    },
    {
     "name": "stderr",
     "output_type": "stream",
     "text": [
      "/Library/Frameworks/Python.framework/Versions/3.12/lib/python3.12/site-packages/sklearn/linear_model/_coordinate_descent.py:697: ConvergenceWarning: Objective did not converge. You might want to increase the number of iterations, check the scale of the features or consider increasing regularisation. Duality gap: 9.598e-01, tolerance: 6.045e-02\n",
      "  model = cd_fast.enet_coordinate_descent(\n"
     ]
    },
    {
     "name": "stdout",
     "output_type": "stream",
     "text": [
      "[step_eval] step=180, done=3, total=6, hp_idx=1, fe_idx=3, score=2.923181\n",
      "[step_eval] step=180, done=4, total=6, hp_idx=2, fe_idx=1, score=1.637755\n"
     ]
    },
    {
     "name": "stderr",
     "output_type": "stream",
     "text": [
      "/Library/Frameworks/Python.framework/Versions/3.12/lib/python3.12/site-packages/sklearn/linear_model/_coordinate_descent.py:697: ConvergenceWarning: Objective did not converge. You might want to increase the number of iterations, check the scale of the features or consider increasing regularisation. Duality gap: 6.001e-01, tolerance: 6.158e-02\n",
      "  model = cd_fast.enet_coordinate_descent(\n"
     ]
    },
    {
     "name": "stdout",
     "output_type": "stream",
     "text": [
      "[step_eval] step=180, done=5, total=6, hp_idx=3, fe_idx=1, score=1.365887\n",
      "[step_eval] step=180, done=6, total=6, hp_idx=4, fe_idx=1, score=1.677459\n",
      "[step_done] step=180, best_score=1.365887\n",
      "[step_predict] step=181, of=299, date=2015-02-01\n",
      "[step_search_start] step=181, hp=4, fe=3, expected_evals=6\n",
      "[step_eval] step=181, done=1, total=6, hp_idx=1, fe_idx=1, score=1.114701\n"
     ]
    },
    {
     "name": "stderr",
     "output_type": "stream",
     "text": [
      "/Library/Frameworks/Python.framework/Versions/3.12/lib/python3.12/site-packages/sklearn/linear_model/_coordinate_descent.py:697: ConvergenceWarning: Objective did not converge. You might want to increase the number of iterations, check the scale of the features or consider increasing regularisation. Duality gap: 2.267e+00, tolerance: 6.186e-02\n",
      "  model = cd_fast.enet_coordinate_descent(\n"
     ]
    },
    {
     "name": "stdout",
     "output_type": "stream",
     "text": [
      "[step_eval] step=181, done=2, total=6, hp_idx=1, fe_idx=2, score=1.172521\n"
     ]
    },
    {
     "name": "stderr",
     "output_type": "stream",
     "text": [
      "/Library/Frameworks/Python.framework/Versions/3.12/lib/python3.12/site-packages/sklearn/linear_model/_coordinate_descent.py:697: ConvergenceWarning: Objective did not converge. You might want to increase the number of iterations, check the scale of the features or consider increasing regularisation. Duality gap: 1.202e+00, tolerance: 6.073e-02\n",
      "  model = cd_fast.enet_coordinate_descent(\n"
     ]
    },
    {
     "name": "stdout",
     "output_type": "stream",
     "text": [
      "[step_eval] step=181, done=3, total=6, hp_idx=1, fe_idx=3, score=0.141186\n"
     ]
    },
    {
     "name": "stderr",
     "output_type": "stream",
     "text": [
      "/Library/Frameworks/Python.framework/Versions/3.12/lib/python3.12/site-packages/sklearn/linear_model/_coordinate_descent.py:697: ConvergenceWarning: Objective did not converge. You might want to increase the number of iterations, check the scale of the features or consider increasing regularisation. Duality gap: 1.118e+00, tolerance: 6.186e-02\n",
      "  model = cd_fast.enet_coordinate_descent(\n"
     ]
    },
    {
     "name": "stdout",
     "output_type": "stream",
     "text": [
      "[step_eval] step=181, done=4, total=6, hp_idx=2, fe_idx=1, score=0.284798\n",
      "[step_eval] step=181, done=5, total=6, hp_idx=3, fe_idx=1, score=0.638934\n",
      "[step_eval] step=181, done=6, total=6, hp_idx=4, fe_idx=1, score=0.169145\n",
      "[step_done] step=181, best_score=0.141186\n",
      "[step_predict] step=182, of=299, date=2015-03-01\n",
      "[step_search_start] step=182, hp=4, fe=3, expected_evals=6\n"
     ]
    },
    {
     "name": "stderr",
     "output_type": "stream",
     "text": [
      "/Library/Frameworks/Python.framework/Versions/3.12/lib/python3.12/site-packages/sklearn/linear_model/_coordinate_descent.py:697: ConvergenceWarning: Objective did not converge. You might want to increase the number of iterations, check the scale of the features or consider increasing regularisation. Duality gap: 1.069e+00, tolerance: 6.187e-02\n",
      "  model = cd_fast.enet_coordinate_descent(\n"
     ]
    },
    {
     "name": "stdout",
     "output_type": "stream",
     "text": [
      "[step_eval] step=182, done=1, total=6, hp_idx=1, fe_idx=1, score=1.670248\n"
     ]
    },
    {
     "name": "stderr",
     "output_type": "stream",
     "text": [
      "/Library/Frameworks/Python.framework/Versions/3.12/lib/python3.12/site-packages/sklearn/linear_model/_coordinate_descent.py:697: ConvergenceWarning: Objective did not converge. You might want to increase the number of iterations, check the scale of the features or consider increasing regularisation. Duality gap: 2.561e+00, tolerance: 6.187e-02\n",
      "  model = cd_fast.enet_coordinate_descent(\n"
     ]
    },
    {
     "name": "stdout",
     "output_type": "stream",
     "text": [
      "[step_eval] step=182, done=2, total=6, hp_idx=1, fe_idx=2, score=0.244432\n"
     ]
    },
    {
     "name": "stderr",
     "output_type": "stream",
     "text": [
      "/Library/Frameworks/Python.framework/Versions/3.12/lib/python3.12/site-packages/sklearn/linear_model/_coordinate_descent.py:697: ConvergenceWarning: Objective did not converge. You might want to increase the number of iterations, check the scale of the features or consider increasing regularisation. Duality gap: 1.189e+00, tolerance: 6.074e-02\n",
      "  model = cd_fast.enet_coordinate_descent(\n"
     ]
    },
    {
     "name": "stdout",
     "output_type": "stream",
     "text": [
      "[step_eval] step=182, done=3, total=6, hp_idx=1, fe_idx=3, score=1.384943\n"
     ]
    },
    {
     "name": "stderr",
     "output_type": "stream",
     "text": [
      "/Library/Frameworks/Python.framework/Versions/3.12/lib/python3.12/site-packages/sklearn/linear_model/_coordinate_descent.py:697: ConvergenceWarning: Objective did not converge. You might want to increase the number of iterations, check the scale of the features or consider increasing regularisation. Duality gap: 1.069e+00, tolerance: 6.187e-02\n",
      "  model = cd_fast.enet_coordinate_descent(\n"
     ]
    },
    {
     "name": "stdout",
     "output_type": "stream",
     "text": [
      "[step_eval] step=182, done=4, total=6, hp_idx=2, fe_idx=1, score=0.463333\n",
      "[step_eval] step=182, done=5, total=6, hp_idx=3, fe_idx=1, score=0.315319\n",
      "[step_eval] step=182, done=6, total=6, hp_idx=4, fe_idx=1, score=0.23333\n",
      "[step_done] step=182, best_score=0.23333\n",
      "[step_predict] step=183, of=299, date=2015-04-01\n",
      "[step_search_start] step=183, hp=4, fe=3, expected_evals=6\n",
      "[step_eval] step=183, done=1, total=6, hp_idx=1, fe_idx=1, score=0.788829\n"
     ]
    },
    {
     "name": "stderr",
     "output_type": "stream",
     "text": [
      "/Library/Frameworks/Python.framework/Versions/3.12/lib/python3.12/site-packages/sklearn/linear_model/_coordinate_descent.py:697: ConvergenceWarning: Objective did not converge. You might want to increase the number of iterations, check the scale of the features or consider increasing regularisation. Duality gap: 2.410e+00, tolerance: 6.187e-02\n",
      "  model = cd_fast.enet_coordinate_descent(\n"
     ]
    },
    {
     "name": "stdout",
     "output_type": "stream",
     "text": [
      "[step_eval] step=183, done=2, total=6, hp_idx=1, fe_idx=2, score=0.893612\n"
     ]
    },
    {
     "name": "stderr",
     "output_type": "stream",
     "text": [
      "/Library/Frameworks/Python.framework/Versions/3.12/lib/python3.12/site-packages/sklearn/linear_model/_coordinate_descent.py:697: ConvergenceWarning: Objective did not converge. You might want to increase the number of iterations, check the scale of the features or consider increasing regularisation. Duality gap: 1.208e+00, tolerance: 6.074e-02\n",
      "  model = cd_fast.enet_coordinate_descent(\n"
     ]
    },
    {
     "name": "stdout",
     "output_type": "stream",
     "text": [
      "[step_eval] step=183, done=3, total=6, hp_idx=1, fe_idx=3, score=1.597242\n",
      "[step_eval] step=183, done=4, total=6, hp_idx=2, fe_idx=1, score=0.733476\n"
     ]
    },
    {
     "name": "stderr",
     "output_type": "stream",
     "text": [
      "/Library/Frameworks/Python.framework/Versions/3.12/lib/python3.12/site-packages/sklearn/linear_model/_coordinate_descent.py:697: ConvergenceWarning: Objective did not converge. You might want to increase the number of iterations, check the scale of the features or consider increasing regularisation. Duality gap: 6.811e-01, tolerance: 6.187e-02\n",
      "  model = cd_fast.enet_coordinate_descent(\n"
     ]
    },
    {
     "name": "stdout",
     "output_type": "stream",
     "text": [
      "[step_eval] step=183, done=5, total=6, hp_idx=3, fe_idx=1, score=0.843326\n",
      "[step_eval] step=183, done=6, total=6, hp_idx=4, fe_idx=1, score=0.604868\n",
      "[step_done] step=183, best_score=0.604868\n",
      "[step_predict] step=184, of=299, date=2015-05-01\n",
      "[step_search_start] step=184, hp=4, fe=3, expected_evals=6\n",
      "[step_eval] step=184, done=1, total=6, hp_idx=1, fe_idx=1, score=0.565784\n"
     ]
    },
    {
     "name": "stderr",
     "output_type": "stream",
     "text": [
      "/Library/Frameworks/Python.framework/Versions/3.12/lib/python3.12/site-packages/sklearn/linear_model/_coordinate_descent.py:697: ConvergenceWarning: Objective did not converge. You might want to increase the number of iterations, check the scale of the features or consider increasing regularisation. Duality gap: 1.298e+00, tolerance: 6.191e-02\n",
      "  model = cd_fast.enet_coordinate_descent(\n"
     ]
    },
    {
     "name": "stdout",
     "output_type": "stream",
     "text": [
      "[step_eval] step=184, done=2, total=6, hp_idx=1, fe_idx=2, score=2.265025\n"
     ]
    },
    {
     "name": "stderr",
     "output_type": "stream",
     "text": [
      "/Library/Frameworks/Python.framework/Versions/3.12/lib/python3.12/site-packages/sklearn/linear_model/_coordinate_descent.py:697: ConvergenceWarning: Objective did not converge. You might want to increase the number of iterations, check the scale of the features or consider increasing regularisation. Duality gap: 9.031e-01, tolerance: 6.078e-02\n",
      "  model = cd_fast.enet_coordinate_descent(\n"
     ]
    },
    {
     "name": "stdout",
     "output_type": "stream",
     "text": [
      "[step_eval] step=184, done=3, total=6, hp_idx=1, fe_idx=3, score=0.171908\n"
     ]
    },
    {
     "name": "stderr",
     "output_type": "stream",
     "text": [
      "/Library/Frameworks/Python.framework/Versions/3.12/lib/python3.12/site-packages/sklearn/linear_model/_coordinate_descent.py:697: ConvergenceWarning: Objective did not converge. You might want to increase the number of iterations, check the scale of the features or consider increasing regularisation. Duality gap: 6.707e-01, tolerance: 6.191e-02\n",
      "  model = cd_fast.enet_coordinate_descent(\n"
     ]
    },
    {
     "name": "stdout",
     "output_type": "stream",
     "text": [
      "[step_eval] step=184, done=4, total=6, hp_idx=2, fe_idx=1, score=0.644518\n",
      "[step_eval] step=184, done=5, total=6, hp_idx=3, fe_idx=1, score=0.886656\n",
      "[step_eval] step=184, done=6, total=6, hp_idx=4, fe_idx=1, score=0.544044\n",
      "[step_done] step=184, best_score=0.171908\n",
      "[step_predict] step=185, of=299, date=2015-06-01\n",
      "[step_search_start] step=185, hp=4, fe=3, expected_evals=6\n"
     ]
    },
    {
     "name": "stderr",
     "output_type": "stream",
     "text": [
      "/Library/Frameworks/Python.framework/Versions/3.12/lib/python3.12/site-packages/sklearn/linear_model/_coordinate_descent.py:697: ConvergenceWarning: Objective did not converge. You might want to increase the number of iterations, check the scale of the features or consider increasing regularisation. Duality gap: 6.197e-01, tolerance: 6.191e-02\n",
      "  model = cd_fast.enet_coordinate_descent(\n"
     ]
    },
    {
     "name": "stdout",
     "output_type": "stream",
     "text": [
      "[step_eval] step=185, done=1, total=6, hp_idx=1, fe_idx=1, score=0.857639\n"
     ]
    },
    {
     "name": "stderr",
     "output_type": "stream",
     "text": [
      "/Library/Frameworks/Python.framework/Versions/3.12/lib/python3.12/site-packages/sklearn/linear_model/_coordinate_descent.py:697: ConvergenceWarning: Objective did not converge. You might want to increase the number of iterations, check the scale of the features or consider increasing regularisation. Duality gap: 1.579e+00, tolerance: 6.191e-02\n",
      "  model = cd_fast.enet_coordinate_descent(\n"
     ]
    },
    {
     "name": "stdout",
     "output_type": "stream",
     "text": [
      "[step_eval] step=185, done=2, total=6, hp_idx=1, fe_idx=2, score=1.154842\n"
     ]
    },
    {
     "name": "stderr",
     "output_type": "stream",
     "text": [
      "/Library/Frameworks/Python.framework/Versions/3.12/lib/python3.12/site-packages/sklearn/linear_model/_coordinate_descent.py:697: ConvergenceWarning: Objective did not converge. You might want to increase the number of iterations, check the scale of the features or consider increasing regularisation. Duality gap: 1.141e+00, tolerance: 6.078e-02\n",
      "  model = cd_fast.enet_coordinate_descent(\n"
     ]
    },
    {
     "name": "stdout",
     "output_type": "stream",
     "text": [
      "[step_eval] step=185, done=3, total=6, hp_idx=1, fe_idx=3, score=0.854502\n"
     ]
    },
    {
     "name": "stderr",
     "output_type": "stream",
     "text": [
      "/Library/Frameworks/Python.framework/Versions/3.12/lib/python3.12/site-packages/sklearn/linear_model/_coordinate_descent.py:697: ConvergenceWarning: Objective did not converge. You might want to increase the number of iterations, check the scale of the features or consider increasing regularisation. Duality gap: 6.197e-01, tolerance: 6.191e-02\n",
      "  model = cd_fast.enet_coordinate_descent(\n"
     ]
    },
    {
     "name": "stdout",
     "output_type": "stream",
     "text": [
      "[step_eval] step=185, done=4, total=6, hp_idx=2, fe_idx=1, score=0.578254\n",
      "[step_eval] step=185, done=5, total=6, hp_idx=3, fe_idx=1, score=0.713426\n",
      "[step_eval] step=185, done=6, total=6, hp_idx=4, fe_idx=1, score=0.846661\n",
      "[step_done] step=185, best_score=0.578254\n",
      "[step_predict] step=186, of=299, date=2015-07-01\n",
      "[step_search_start] step=186, hp=4, fe=3, expected_evals=6\n",
      "[step_eval] step=186, done=1, total=6, hp_idx=1, fe_idx=1, score=3.873362\n"
     ]
    },
    {
     "name": "stderr",
     "output_type": "stream",
     "text": [
      "/Library/Frameworks/Python.framework/Versions/3.12/lib/python3.12/site-packages/sklearn/linear_model/_coordinate_descent.py:697: ConvergenceWarning: Objective did not converge. You might want to increase the number of iterations, check the scale of the features or consider increasing regularisation. Duality gap: 1.547e+00, tolerance: 6.193e-02\n",
      "  model = cd_fast.enet_coordinate_descent(\n"
     ]
    },
    {
     "name": "stdout",
     "output_type": "stream",
     "text": [
      "[step_eval] step=186, done=2, total=6, hp_idx=1, fe_idx=2, score=0.230056\n"
     ]
    },
    {
     "name": "stderr",
     "output_type": "stream",
     "text": [
      "/Library/Frameworks/Python.framework/Versions/3.12/lib/python3.12/site-packages/sklearn/linear_model/_coordinate_descent.py:697: ConvergenceWarning: Objective did not converge. You might want to increase the number of iterations, check the scale of the features or consider increasing regularisation. Duality gap: 1.243e+00, tolerance: 6.079e-02\n",
      "  model = cd_fast.enet_coordinate_descent(\n"
     ]
    },
    {
     "name": "stdout",
     "output_type": "stream",
     "text": [
      "[step_eval] step=186, done=3, total=6, hp_idx=1, fe_idx=3, score=3.122628\n"
     ]
    },
    {
     "name": "stderr",
     "output_type": "stream",
     "text": [
      "/Library/Frameworks/Python.framework/Versions/3.12/lib/python3.12/site-packages/sklearn/linear_model/_coordinate_descent.py:697: ConvergenceWarning: Objective did not converge. You might want to increase the number of iterations, check the scale of the features or consider increasing regularisation. Duality gap: 6.780e-01, tolerance: 6.193e-02\n",
      "  model = cd_fast.enet_coordinate_descent(\n"
     ]
    },
    {
     "name": "stdout",
     "output_type": "stream",
     "text": [
      "[step_eval] step=186, done=4, total=6, hp_idx=2, fe_idx=1, score=0.33574\n",
      "[step_eval] step=186, done=5, total=6, hp_idx=3, fe_idx=1, score=1.072589\n",
      "[step_eval] step=186, done=6, total=6, hp_idx=4, fe_idx=1, score=1.067985\n",
      "[step_done] step=186, best_score=0.230056\n",
      "[step_predict] step=187, of=299, date=2015-08-01\n",
      "[step_search_start] step=187, hp=4, fe=3, expected_evals=6\n"
     ]
    },
    {
     "name": "stderr",
     "output_type": "stream",
     "text": [
      "/Library/Frameworks/Python.framework/Versions/3.12/lib/python3.12/site-packages/sklearn/linear_model/_coordinate_descent.py:697: ConvergenceWarning: Objective did not converge. You might want to increase the number of iterations, check the scale of the features or consider increasing regularisation. Duality gap: 1.163e+00, tolerance: 6.096e-02\n",
      "  model = cd_fast.enet_coordinate_descent(\n"
     ]
    },
    {
     "name": "stdout",
     "output_type": "stream",
     "text": [
      "[step_eval] step=187, done=1, total=6, hp_idx=1, fe_idx=1, score=3.543146\n"
     ]
    },
    {
     "name": "stderr",
     "output_type": "stream",
     "text": [
      "/Library/Frameworks/Python.framework/Versions/3.12/lib/python3.12/site-packages/sklearn/linear_model/_coordinate_descent.py:697: ConvergenceWarning: Objective did not converge. You might want to increase the number of iterations, check the scale of the features or consider increasing regularisation. Duality gap: 7.419e-01, tolerance: 6.209e-02\n",
      "  model = cd_fast.enet_coordinate_descent(\n"
     ]
    },
    {
     "name": "stdout",
     "output_type": "stream",
     "text": [
      "[step_eval] step=187, done=2, total=6, hp_idx=1, fe_idx=2, score=1.096153\n"
     ]
    },
    {
     "name": "stderr",
     "output_type": "stream",
     "text": [
      "/Library/Frameworks/Python.framework/Versions/3.12/lib/python3.12/site-packages/sklearn/linear_model/_coordinate_descent.py:697: ConvergenceWarning: Objective did not converge. You might want to increase the number of iterations, check the scale of the features or consider increasing regularisation. Duality gap: 1.163e+00, tolerance: 6.096e-02\n",
      "  model = cd_fast.enet_coordinate_descent(\n"
     ]
    },
    {
     "name": "stdout",
     "output_type": "stream",
     "text": [
      "[step_eval] step=187, done=3, total=6, hp_idx=1, fe_idx=3, score=4.346131\n"
     ]
    },
    {
     "name": "stderr",
     "output_type": "stream",
     "text": [
      "/Library/Frameworks/Python.framework/Versions/3.12/lib/python3.12/site-packages/sklearn/linear_model/_coordinate_descent.py:697: ConvergenceWarning: Objective did not converge. You might want to increase the number of iterations, check the scale of the features or consider increasing regularisation. Duality gap: 6.818e-01, tolerance: 6.209e-02\n",
      "  model = cd_fast.enet_coordinate_descent(\n"
     ]
    },
    {
     "name": "stdout",
     "output_type": "stream",
     "text": [
      "[step_eval] step=187, done=4, total=6, hp_idx=2, fe_idx=1, score=1.411274\n",
      "[step_eval] step=187, done=5, total=6, hp_idx=3, fe_idx=1, score=2.085246\n",
      "[step_eval] step=187, done=6, total=6, hp_idx=4, fe_idx=1, score=2.114591\n",
      "[step_done] step=187, best_score=1.096153\n",
      "[step_predict] step=188, of=299, date=2015-09-01\n",
      "[step_search_start] step=188, hp=4, fe=3, expected_evals=6\n"
     ]
    },
    {
     "name": "stderr",
     "output_type": "stream",
     "text": [
      "/Library/Frameworks/Python.framework/Versions/3.12/lib/python3.12/site-packages/sklearn/linear_model/_coordinate_descent.py:697: ConvergenceWarning: Objective did not converge. You might want to increase the number of iterations, check the scale of the features or consider increasing regularisation. Duality gap: 8.662e-01, tolerance: 6.138e-02\n",
      "  model = cd_fast.enet_coordinate_descent(\n"
     ]
    },
    {
     "name": "stdout",
     "output_type": "stream",
     "text": [
      "[step_eval] step=188, done=1, total=6, hp_idx=1, fe_idx=1, score=1.254178\n"
     ]
    },
    {
     "name": "stderr",
     "output_type": "stream",
     "text": [
      "/Library/Frameworks/Python.framework/Versions/3.12/lib/python3.12/site-packages/sklearn/linear_model/_coordinate_descent.py:697: ConvergenceWarning: Objective did not converge. You might want to increase the number of iterations, check the scale of the features or consider increasing regularisation. Duality gap: 1.624e+00, tolerance: 6.251e-02\n",
      "  model = cd_fast.enet_coordinate_descent(\n"
     ]
    },
    {
     "name": "stdout",
     "output_type": "stream",
     "text": [
      "[step_eval] step=188, done=2, total=6, hp_idx=1, fe_idx=2, score=1.213992\n"
     ]
    },
    {
     "name": "stderr",
     "output_type": "stream",
     "text": [
      "/Library/Frameworks/Python.framework/Versions/3.12/lib/python3.12/site-packages/sklearn/linear_model/_coordinate_descent.py:697: ConvergenceWarning: Objective did not converge. You might want to increase the number of iterations, check the scale of the features or consider increasing regularisation. Duality gap: 8.662e-01, tolerance: 6.138e-02\n",
      "  model = cd_fast.enet_coordinate_descent(\n"
     ]
    },
    {
     "name": "stdout",
     "output_type": "stream",
     "text": [
      "[step_eval] step=188, done=3, total=6, hp_idx=1, fe_idx=3, score=0.908441\n"
     ]
    },
    {
     "name": "stderr",
     "output_type": "stream",
     "text": [
      "/Library/Frameworks/Python.framework/Versions/3.12/lib/python3.12/site-packages/sklearn/linear_model/_coordinate_descent.py:697: ConvergenceWarning: Objective did not converge. You might want to increase the number of iterations, check the scale of the features or consider increasing regularisation. Duality gap: 6.193e-01, tolerance: 6.251e-02\n",
      "  model = cd_fast.enet_coordinate_descent(\n"
     ]
    },
    {
     "name": "stdout",
     "output_type": "stream",
     "text": [
      "[step_eval] step=188, done=4, total=6, hp_idx=2, fe_idx=1, score=0.756907\n",
      "[step_eval] step=188, done=5, total=6, hp_idx=3, fe_idx=1, score=0.183542\n",
      "[step_eval] step=188, done=6, total=6, hp_idx=4, fe_idx=1, score=0.240619\n",
      "[step_done] step=188, best_score=0.183542\n",
      "[step_predict] step=189, of=299, date=2015-10-01\n",
      "[step_search_start] step=189, hp=4, fe=3, expected_evals=6\n",
      "[step_eval] step=189, done=1, total=6, hp_idx=1, fe_idx=1, score=1.455281\n"
     ]
    },
    {
     "name": "stderr",
     "output_type": "stream",
     "text": [
      "/Library/Frameworks/Python.framework/Versions/3.12/lib/python3.12/site-packages/sklearn/linear_model/_coordinate_descent.py:697: ConvergenceWarning: Objective did not converge. You might want to increase the number of iterations, check the scale of the features or consider increasing regularisation. Duality gap: 1.470e+00, tolerance: 6.252e-02\n",
      "  model = cd_fast.enet_coordinate_descent(\n"
     ]
    },
    {
     "name": "stdout",
     "output_type": "stream",
     "text": [
      "[step_eval] step=189, done=2, total=6, hp_idx=1, fe_idx=2, score=2.275354\n"
     ]
    },
    {
     "name": "stderr",
     "output_type": "stream",
     "text": [
      "/Library/Frameworks/Python.framework/Versions/3.12/lib/python3.12/site-packages/sklearn/linear_model/_coordinate_descent.py:697: ConvergenceWarning: Objective did not converge. You might want to increase the number of iterations, check the scale of the features or consider increasing regularisation. Duality gap: 6.033e-01, tolerance: 6.138e-02\n",
      "  model = cd_fast.enet_coordinate_descent(\n"
     ]
    },
    {
     "name": "stdout",
     "output_type": "stream",
     "text": [
      "[step_eval] step=189, done=3, total=6, hp_idx=1, fe_idx=3, score=0.484814\n"
     ]
    },
    {
     "name": "stderr",
     "output_type": "stream",
     "text": [
      "/Library/Frameworks/Python.framework/Versions/3.12/lib/python3.12/site-packages/sklearn/linear_model/_coordinate_descent.py:697: ConvergenceWarning: Objective did not converge. You might want to increase the number of iterations, check the scale of the features or consider increasing regularisation. Duality gap: 6.941e-01, tolerance: 6.252e-02\n",
      "  model = cd_fast.enet_coordinate_descent(\n"
     ]
    },
    {
     "name": "stdout",
     "output_type": "stream",
     "text": [
      "[step_eval] step=189, done=4, total=6, hp_idx=2, fe_idx=1, score=0.8924\n",
      "[step_eval] step=189, done=5, total=6, hp_idx=3, fe_idx=1, score=0.697771\n",
      "[step_eval] step=189, done=6, total=6, hp_idx=4, fe_idx=1, score=0.45581\n",
      "[step_done] step=189, best_score=0.45581\n",
      "[step_predict] step=190, of=299, date=2015-11-01\n",
      "[step_search_start] step=190, hp=4, fe=3, expected_evals=6\n",
      "[step_eval] step=190, done=1, total=6, hp_idx=1, fe_idx=1, score=3.388317\n"
     ]
    },
    {
     "name": "stderr",
     "output_type": "stream",
     "text": [
      "/Library/Frameworks/Python.framework/Versions/3.12/lib/python3.12/site-packages/sklearn/linear_model/_coordinate_descent.py:697: ConvergenceWarning: Objective did not converge. You might want to increase the number of iterations, check the scale of the features or consider increasing regularisation. Duality gap: 8.442e-01, tolerance: 6.255e-02\n",
      "  model = cd_fast.enet_coordinate_descent(\n"
     ]
    },
    {
     "name": "stdout",
     "output_type": "stream",
     "text": [
      "[step_eval] step=190, done=2, total=6, hp_idx=1, fe_idx=2, score=2.185636\n"
     ]
    },
    {
     "name": "stderr",
     "output_type": "stream",
     "text": [
      "/Library/Frameworks/Python.framework/Versions/3.12/lib/python3.12/site-packages/sklearn/linear_model/_coordinate_descent.py:697: ConvergenceWarning: Objective did not converge. You might want to increase the number of iterations, check the scale of the features or consider increasing regularisation. Duality gap: 7.927e-01, tolerance: 6.142e-02\n",
      "  model = cd_fast.enet_coordinate_descent(\n"
     ]
    },
    {
     "name": "stdout",
     "output_type": "stream",
     "text": [
      "[step_eval] step=190, done=3, total=6, hp_idx=1, fe_idx=3, score=2.313205\n",
      "[step_eval] step=190, done=4, total=6, hp_idx=2, fe_idx=1, score=1.618076\n"
     ]
    },
    {
     "name": "stderr",
     "output_type": "stream",
     "text": [
      "/Library/Frameworks/Python.framework/Versions/3.12/lib/python3.12/site-packages/sklearn/linear_model/_coordinate_descent.py:697: ConvergenceWarning: Objective did not converge. You might want to increase the number of iterations, check the scale of the features or consider increasing regularisation. Duality gap: 6.876e-01, tolerance: 6.255e-02\n",
      "  model = cd_fast.enet_coordinate_descent(\n"
     ]
    },
    {
     "name": "stdout",
     "output_type": "stream",
     "text": [
      "[step_eval] step=190, done=5, total=6, hp_idx=3, fe_idx=1, score=0.947865\n",
      "[step_eval] step=190, done=6, total=6, hp_idx=4, fe_idx=1, score=1.040461\n",
      "[step_done] step=190, best_score=0.947865\n",
      "[step_predict] step=191, of=299, date=2015-12-01\n",
      "[step_search_start] step=191, hp=4, fe=3, expected_evals=6\n",
      "[step_eval] step=191, done=1, total=6, hp_idx=1, fe_idx=1, score=1.423945\n"
     ]
    },
    {
     "name": "stderr",
     "output_type": "stream",
     "text": [
      "/Library/Frameworks/Python.framework/Versions/3.12/lib/python3.12/site-packages/sklearn/linear_model/_coordinate_descent.py:697: ConvergenceWarning: Objective did not converge. You might want to increase the number of iterations, check the scale of the features or consider increasing regularisation. Duality gap: 1.267e+00, tolerance: 6.265e-02\n",
      "  model = cd_fast.enet_coordinate_descent(\n"
     ]
    },
    {
     "name": "stdout",
     "output_type": "stream",
     "text": [
      "[step_eval] step=191, done=2, total=6, hp_idx=1, fe_idx=2, score=0.477579\n"
     ]
    },
    {
     "name": "stderr",
     "output_type": "stream",
     "text": [
      "/Library/Frameworks/Python.framework/Versions/3.12/lib/python3.12/site-packages/sklearn/linear_model/_coordinate_descent.py:697: ConvergenceWarning: Objective did not converge. You might want to increase the number of iterations, check the scale of the features or consider increasing regularisation. Duality gap: 7.430e-01, tolerance: 6.152e-02\n",
      "  model = cd_fast.enet_coordinate_descent(\n"
     ]
    },
    {
     "name": "stdout",
     "output_type": "stream",
     "text": [
      "[step_eval] step=191, done=3, total=6, hp_idx=1, fe_idx=3, score=0.904757\n",
      "[step_eval] step=191, done=4, total=6, hp_idx=2, fe_idx=1, score=0.687964\n"
     ]
    },
    {
     "name": "stderr",
     "output_type": "stream",
     "text": [
      "/Library/Frameworks/Python.framework/Versions/3.12/lib/python3.12/site-packages/sklearn/linear_model/_coordinate_descent.py:697: ConvergenceWarning: Objective did not converge. You might want to increase the number of iterations, check the scale of the features or consider increasing regularisation. Duality gap: 3.444e-01, tolerance: 6.265e-02\n",
      "  model = cd_fast.enet_coordinate_descent(\n"
     ]
    },
    {
     "name": "stdout",
     "output_type": "stream",
     "text": [
      "[step_eval] step=191, done=5, total=6, hp_idx=3, fe_idx=1, score=0.495401\n",
      "[step_eval] step=191, done=6, total=6, hp_idx=4, fe_idx=1, score=0.523286\n",
      "[step_done] step=191, best_score=0.477579\n",
      "[step_predict] step=192, of=299, date=2016-01-01\n",
      "[step_search_start] step=192, hp=4, fe=3, expected_evals=6\n"
     ]
    },
    {
     "name": "stderr",
     "output_type": "stream",
     "text": [
      "/Library/Frameworks/Python.framework/Versions/3.12/lib/python3.12/site-packages/sklearn/linear_model/_coordinate_descent.py:697: ConvergenceWarning: Objective did not converge. You might want to increase the number of iterations, check the scale of the features or consider increasing regularisation. Duality gap: 8.107e-01, tolerance: 6.155e-02\n",
      "  model = cd_fast.enet_coordinate_descent(\n"
     ]
    },
    {
     "name": "stdout",
     "output_type": "stream",
     "text": [
      "[step_eval] step=192, done=1, total=6, hp_idx=1, fe_idx=1, score=0.717705\n"
     ]
    },
    {
     "name": "stderr",
     "output_type": "stream",
     "text": [
      "/Library/Frameworks/Python.framework/Versions/3.12/lib/python3.12/site-packages/sklearn/linear_model/_coordinate_descent.py:697: ConvergenceWarning: Objective did not converge. You might want to increase the number of iterations, check the scale of the features or consider increasing regularisation. Duality gap: 9.980e-01, tolerance: 6.269e-02\n",
      "  model = cd_fast.enet_coordinate_descent(\n"
     ]
    },
    {
     "name": "stdout",
     "output_type": "stream",
     "text": [
      "[step_eval] step=192, done=2, total=6, hp_idx=1, fe_idx=2, score=0.861143\n"
     ]
    },
    {
     "name": "stderr",
     "output_type": "stream",
     "text": [
      "/Library/Frameworks/Python.framework/Versions/3.12/lib/python3.12/site-packages/sklearn/linear_model/_coordinate_descent.py:697: ConvergenceWarning: Objective did not converge. You might want to increase the number of iterations, check the scale of the features or consider increasing regularisation. Duality gap: 8.107e-01, tolerance: 6.155e-02\n",
      "  model = cd_fast.enet_coordinate_descent(\n"
     ]
    },
    {
     "name": "stdout",
     "output_type": "stream",
     "text": [
      "[step_eval] step=192, done=3, total=6, hp_idx=1, fe_idx=3, score=0.998657\n",
      "[step_eval] step=192, done=4, total=6, hp_idx=2, fe_idx=1, score=0.908115\n"
     ]
    },
    {
     "name": "stderr",
     "output_type": "stream",
     "text": [
      "/Library/Frameworks/Python.framework/Versions/3.12/lib/python3.12/site-packages/sklearn/linear_model/_coordinate_descent.py:697: ConvergenceWarning: Objective did not converge. You might want to increase the number of iterations, check the scale of the features or consider increasing regularisation. Duality gap: 5.511e-01, tolerance: 6.269e-02\n",
      "  model = cd_fast.enet_coordinate_descent(\n"
     ]
    },
    {
     "name": "stdout",
     "output_type": "stream",
     "text": [
      "[step_eval] step=192, done=5, total=6, hp_idx=3, fe_idx=1, score=2.0277\n",
      "[step_eval] step=192, done=6, total=6, hp_idx=4, fe_idx=1, score=1.754408\n",
      "[step_done] step=192, best_score=0.717705\n",
      "[step_predict] step=193, of=299, date=2016-02-01\n",
      "[step_search_start] step=193, hp=4, fe=3, expected_evals=6\n"
     ]
    },
    {
     "name": "stderr",
     "output_type": "stream",
     "text": [
      "/Library/Frameworks/Python.framework/Versions/3.12/lib/python3.12/site-packages/sklearn/linear_model/_coordinate_descent.py:697: ConvergenceWarning: Objective did not converge. You might want to increase the number of iterations, check the scale of the features or consider increasing regularisation. Duality gap: 6.925e-01, tolerance: 6.301e-02\n",
      "  model = cd_fast.enet_coordinate_descent(\n"
     ]
    },
    {
     "name": "stdout",
     "output_type": "stream",
     "text": [
      "[step_eval] step=193, done=1, total=6, hp_idx=1, fe_idx=1, score=0.67377\n"
     ]
    },
    {
     "name": "stderr",
     "output_type": "stream",
     "text": [
      "/Library/Frameworks/Python.framework/Versions/3.12/lib/python3.12/site-packages/sklearn/linear_model/_coordinate_descent.py:697: ConvergenceWarning: Objective did not converge. You might want to increase the number of iterations, check the scale of the features or consider increasing regularisation. Duality gap: 6.925e-01, tolerance: 6.301e-02\n",
      "  model = cd_fast.enet_coordinate_descent(\n"
     ]
    },
    {
     "name": "stdout",
     "output_type": "stream",
     "text": [
      "[step_eval] step=193, done=2, total=6, hp_idx=1, fe_idx=2, score=0.995935\n"
     ]
    },
    {
     "name": "stderr",
     "output_type": "stream",
     "text": [
      "/Library/Frameworks/Python.framework/Versions/3.12/lib/python3.12/site-packages/sklearn/linear_model/_coordinate_descent.py:697: ConvergenceWarning: Objective did not converge. You might want to increase the number of iterations, check the scale of the features or consider increasing regularisation. Duality gap: 7.493e-01, tolerance: 6.188e-02\n",
      "  model = cd_fast.enet_coordinate_descent(\n"
     ]
    },
    {
     "name": "stdout",
     "output_type": "stream",
     "text": [
      "[step_eval] step=193, done=3, total=6, hp_idx=1, fe_idx=3, score=0.737687\n",
      "[step_eval] step=193, done=4, total=6, hp_idx=2, fe_idx=1, score=0.579172\n"
     ]
    },
    {
     "name": "stderr",
     "output_type": "stream",
     "text": [
      "/Library/Frameworks/Python.framework/Versions/3.12/lib/python3.12/site-packages/sklearn/linear_model/_coordinate_descent.py:697: ConvergenceWarning: Objective did not converge. You might want to increase the number of iterations, check the scale of the features or consider increasing regularisation. Duality gap: 4.301e-01, tolerance: 6.301e-02\n",
      "  model = cd_fast.enet_coordinate_descent(\n"
     ]
    },
    {
     "name": "stdout",
     "output_type": "stream",
     "text": [
      "[step_eval] step=193, done=5, total=6, hp_idx=3, fe_idx=1, score=0.194278\n",
      "[step_eval] step=193, done=6, total=6, hp_idx=4, fe_idx=1, score=0.153922\n",
      "[step_done] step=193, best_score=0.153922\n",
      "[step_predict] step=194, of=299, date=2016-03-01\n",
      "[step_search_start] step=194, hp=4, fe=3, expected_evals=6\n",
      "[step_eval] step=194, done=1, total=6, hp_idx=1, fe_idx=1, score=1.705139\n"
     ]
    },
    {
     "name": "stderr",
     "output_type": "stream",
     "text": [
      "/Library/Frameworks/Python.framework/Versions/3.12/lib/python3.12/site-packages/sklearn/linear_model/_coordinate_descent.py:697: ConvergenceWarning: Objective did not converge. You might want to increase the number of iterations, check the scale of the features or consider increasing regularisation. Duality gap: 8.168e-01, tolerance: 6.301e-02\n",
      "  model = cd_fast.enet_coordinate_descent(\n"
     ]
    },
    {
     "name": "stdout",
     "output_type": "stream",
     "text": [
      "[step_eval] step=194, done=2, total=6, hp_idx=1, fe_idx=2, score=1.513527\n"
     ]
    },
    {
     "name": "stderr",
     "output_type": "stream",
     "text": [
      "/Library/Frameworks/Python.framework/Versions/3.12/lib/python3.12/site-packages/sklearn/linear_model/_coordinate_descent.py:697: ConvergenceWarning: Objective did not converge. You might want to increase the number of iterations, check the scale of the features or consider increasing regularisation. Duality gap: 6.838e-01, tolerance: 6.188e-02\n",
      "  model = cd_fast.enet_coordinate_descent(\n"
     ]
    },
    {
     "name": "stdout",
     "output_type": "stream",
     "text": [
      "[step_eval] step=194, done=3, total=6, hp_idx=1, fe_idx=3, score=1.254186\n"
     ]
    },
    {
     "name": "stderr",
     "output_type": "stream",
     "text": [
      "/Library/Frameworks/Python.framework/Versions/3.12/lib/python3.12/site-packages/sklearn/linear_model/_coordinate_descent.py:697: ConvergenceWarning: Objective did not converge. You might want to increase the number of iterations, check the scale of the features or consider increasing regularisation. Duality gap: 3.426e-01, tolerance: 6.301e-02\n",
      "  model = cd_fast.enet_coordinate_descent(\n"
     ]
    },
    {
     "name": "stdout",
     "output_type": "stream",
     "text": [
      "[step_eval] step=194, done=4, total=6, hp_idx=2, fe_idx=1, score=1.213764\n",
      "[step_eval] step=194, done=5, total=6, hp_idx=3, fe_idx=1, score=1.007876\n",
      "[step_eval] step=194, done=6, total=6, hp_idx=4, fe_idx=1, score=1.153831\n",
      "[step_done] step=194, best_score=1.007876\n",
      "[step_predict] step=195, of=299, date=2016-04-01\n",
      "[step_search_start] step=195, hp=4, fe=3, expected_evals=6\n",
      "[step_eval] step=195, done=1, total=6, hp_idx=1, fe_idx=1, score=0.656649\n"
     ]
    },
    {
     "name": "stderr",
     "output_type": "stream",
     "text": [
      "/Library/Frameworks/Python.framework/Versions/3.12/lib/python3.12/site-packages/sklearn/linear_model/_coordinate_descent.py:697: ConvergenceWarning: Objective did not converge. You might want to increase the number of iterations, check the scale of the features or consider increasing regularisation. Duality gap: 1.119e+00, tolerance: 6.310e-02\n",
      "  model = cd_fast.enet_coordinate_descent(\n"
     ]
    },
    {
     "name": "stdout",
     "output_type": "stream",
     "text": [
      "[step_eval] step=195, done=2, total=6, hp_idx=1, fe_idx=2, score=0.287906\n"
     ]
    },
    {
     "name": "stderr",
     "output_type": "stream",
     "text": [
      "/Library/Frameworks/Python.framework/Versions/3.12/lib/python3.12/site-packages/sklearn/linear_model/_coordinate_descent.py:697: ConvergenceWarning: Objective did not converge. You might want to increase the number of iterations, check the scale of the features or consider increasing regularisation. Duality gap: 3.856e-01, tolerance: 6.197e-02\n",
      "  model = cd_fast.enet_coordinate_descent(\n"
     ]
    },
    {
     "name": "stdout",
     "output_type": "stream",
     "text": [
      "[step_eval] step=195, done=3, total=6, hp_idx=1, fe_idx=3, score=0.23444\n"
     ]
    },
    {
     "name": "stderr",
     "output_type": "stream",
     "text": [
      "/Library/Frameworks/Python.framework/Versions/3.12/lib/python3.12/site-packages/sklearn/linear_model/_coordinate_descent.py:697: ConvergenceWarning: Objective did not converge. You might want to increase the number of iterations, check the scale of the features or consider increasing regularisation. Duality gap: 2.935e-01, tolerance: 6.310e-02\n",
      "  model = cd_fast.enet_coordinate_descent(\n"
     ]
    },
    {
     "name": "stdout",
     "output_type": "stream",
     "text": [
      "[step_eval] step=195, done=4, total=6, hp_idx=2, fe_idx=1, score=0.208141\n",
      "[step_eval] step=195, done=5, total=6, hp_idx=3, fe_idx=1, score=0.003836\n",
      "[step_eval] step=195, done=6, total=6, hp_idx=4, fe_idx=1, score=0.034294\n",
      "[step_done] step=195, best_score=0.003836\n",
      "[step_predict] step=196, of=299, date=2016-05-01\n",
      "[step_search_start] step=196, hp=4, fe=3, expected_evals=6\n",
      "[step_eval] step=196, done=1, total=6, hp_idx=1, fe_idx=1, score=1.092948\n"
     ]
    },
    {
     "name": "stderr",
     "output_type": "stream",
     "text": [
      "/Library/Frameworks/Python.framework/Versions/3.12/lib/python3.12/site-packages/sklearn/linear_model/_coordinate_descent.py:697: ConvergenceWarning: Objective did not converge. You might want to increase the number of iterations, check the scale of the features or consider increasing regularisation. Duality gap: 1.219e+00, tolerance: 6.311e-02\n",
      "  model = cd_fast.enet_coordinate_descent(\n"
     ]
    },
    {
     "name": "stdout",
     "output_type": "stream",
     "text": [
      "[step_eval] step=196, done=2, total=6, hp_idx=1, fe_idx=2, score=1.604704\n"
     ]
    },
    {
     "name": "stderr",
     "output_type": "stream",
     "text": [
      "/Library/Frameworks/Python.framework/Versions/3.12/lib/python3.12/site-packages/sklearn/linear_model/_coordinate_descent.py:697: ConvergenceWarning: Objective did not converge. You might want to increase the number of iterations, check the scale of the features or consider increasing regularisation. Duality gap: 3.642e-01, tolerance: 6.198e-02\n",
      "  model = cd_fast.enet_coordinate_descent(\n"
     ]
    },
    {
     "name": "stdout",
     "output_type": "stream",
     "text": [
      "[step_eval] step=196, done=3, total=6, hp_idx=1, fe_idx=3, score=1.419878\n",
      "[step_eval] step=196, done=4, total=6, hp_idx=2, fe_idx=1, score=1.135894\n"
     ]
    },
    {
     "name": "stderr",
     "output_type": "stream",
     "text": [
      "/Library/Frameworks/Python.framework/Versions/3.12/lib/python3.12/site-packages/sklearn/linear_model/_coordinate_descent.py:697: ConvergenceWarning: Objective did not converge. You might want to increase the number of iterations, check the scale of the features or consider increasing regularisation. Duality gap: 3.552e-01, tolerance: 6.311e-02\n",
      "  model = cd_fast.enet_coordinate_descent(\n"
     ]
    },
    {
     "name": "stdout",
     "output_type": "stream",
     "text": [
      "[step_eval] step=196, done=5, total=6, hp_idx=3, fe_idx=1, score=1.165865\n",
      "[step_eval] step=196, done=6, total=6, hp_idx=4, fe_idx=1, score=1.615911\n",
      "[step_done] step=196, best_score=1.092948\n",
      "[step_predict] step=197, of=299, date=2016-06-01\n",
      "[step_search_start] step=197, hp=4, fe=3, expected_evals=6\n"
     ]
    },
    {
     "name": "stderr",
     "output_type": "stream",
     "text": [
      "/Library/Frameworks/Python.framework/Versions/3.12/lib/python3.12/site-packages/sklearn/linear_model/_coordinate_descent.py:697: ConvergenceWarning: Objective did not converge. You might want to increase the number of iterations, check the scale of the features or consider increasing regularisation. Duality gap: 1.373e+00, tolerance: 6.333e-02\n",
      "  model = cd_fast.enet_coordinate_descent(\n"
     ]
    },
    {
     "name": "stdout",
     "output_type": "stream",
     "text": [
      "[step_eval] step=197, done=1, total=6, hp_idx=1, fe_idx=1, score=2.505463\n"
     ]
    },
    {
     "name": "stderr",
     "output_type": "stream",
     "text": [
      "/Library/Frameworks/Python.framework/Versions/3.12/lib/python3.12/site-packages/sklearn/linear_model/_coordinate_descent.py:697: ConvergenceWarning: Objective did not converge. You might want to increase the number of iterations, check the scale of the features or consider increasing regularisation. Duality gap: 1.373e+00, tolerance: 6.333e-02\n",
      "  model = cd_fast.enet_coordinate_descent(\n"
     ]
    },
    {
     "name": "stdout",
     "output_type": "stream",
     "text": [
      "[step_eval] step=197, done=2, total=6, hp_idx=1, fe_idx=2, score=1.708162\n"
     ]
    },
    {
     "name": "stderr",
     "output_type": "stream",
     "text": [
      "/Library/Frameworks/Python.framework/Versions/3.12/lib/python3.12/site-packages/sklearn/linear_model/_coordinate_descent.py:697: ConvergenceWarning: Objective did not converge. You might want to increase the number of iterations, check the scale of the features or consider increasing regularisation. Duality gap: 6.930e-01, tolerance: 6.219e-02\n",
      "  model = cd_fast.enet_coordinate_descent(\n"
     ]
    },
    {
     "name": "stdout",
     "output_type": "stream",
     "text": [
      "[step_eval] step=197, done=3, total=6, hp_idx=1, fe_idx=3, score=1.498421\n"
     ]
    },
    {
     "name": "stderr",
     "output_type": "stream",
     "text": [
      "/Library/Frameworks/Python.framework/Versions/3.12/lib/python3.12/site-packages/sklearn/linear_model/_coordinate_descent.py:697: ConvergenceWarning: Objective did not converge. You might want to increase the number of iterations, check the scale of the features or consider increasing regularisation. Duality gap: 3.075e-01, tolerance: 6.333e-02\n",
      "  model = cd_fast.enet_coordinate_descent(\n"
     ]
    },
    {
     "name": "stdout",
     "output_type": "stream",
     "text": [
      "[step_eval] step=197, done=4, total=6, hp_idx=2, fe_idx=1, score=1.671897\n",
      "[step_eval] step=197, done=5, total=6, hp_idx=3, fe_idx=1, score=1.634724\n",
      "[step_eval] step=197, done=6, total=6, hp_idx=4, fe_idx=1, score=1.370622\n",
      "[step_done] step=197, best_score=1.370622\n",
      "[step_predict] step=198, of=299, date=2016-07-01\n",
      "[step_search_start] step=198, hp=4, fe=3, expected_evals=6\n",
      "[step_eval] step=198, done=1, total=6, hp_idx=1, fe_idx=1, score=0.80463\n"
     ]
    },
    {
     "name": "stderr",
     "output_type": "stream",
     "text": [
      "/Library/Frameworks/Python.framework/Versions/3.12/lib/python3.12/site-packages/sklearn/linear_model/_coordinate_descent.py:697: ConvergenceWarning: Objective did not converge. You might want to increase the number of iterations, check the scale of the features or consider increasing regularisation. Duality gap: 1.352e+00, tolerance: 6.355e-02\n",
      "  model = cd_fast.enet_coordinate_descent(\n"
     ]
    },
    {
     "name": "stdout",
     "output_type": "stream",
     "text": [
      "[step_eval] step=198, done=2, total=6, hp_idx=1, fe_idx=2, score=2.350723\n"
     ]
    },
    {
     "name": "stderr",
     "output_type": "stream",
     "text": [
      "/Library/Frameworks/Python.framework/Versions/3.12/lib/python3.12/site-packages/sklearn/linear_model/_coordinate_descent.py:697: ConvergenceWarning: Objective did not converge. You might want to increase the number of iterations, check the scale of the features or consider increasing regularisation. Duality gap: 6.596e-01, tolerance: 6.242e-02\n",
      "  model = cd_fast.enet_coordinate_descent(\n"
     ]
    },
    {
     "name": "stdout",
     "output_type": "stream",
     "text": [
      "[step_eval] step=198, done=3, total=6, hp_idx=1, fe_idx=3, score=2.010876\n",
      "[step_eval] step=198, done=4, total=6, hp_idx=2, fe_idx=1, score=1.039283\n"
     ]
    },
    {
     "name": "stderr",
     "output_type": "stream",
     "text": [
      "/Library/Frameworks/Python.framework/Versions/3.12/lib/python3.12/site-packages/sklearn/linear_model/_coordinate_descent.py:697: ConvergenceWarning: Objective did not converge. You might want to increase the number of iterations, check the scale of the features or consider increasing regularisation. Duality gap: 4.763e-01, tolerance: 6.355e-02\n",
      "  model = cd_fast.enet_coordinate_descent(\n"
     ]
    },
    {
     "name": "stdout",
     "output_type": "stream",
     "text": [
      "[step_eval] step=198, done=5, total=6, hp_idx=3, fe_idx=1, score=0.902092\n",
      "[step_eval] step=198, done=6, total=6, hp_idx=4, fe_idx=1, score=1.071321\n",
      "[step_done] step=198, best_score=0.80463\n",
      "[step_predict] step=199, of=299, date=2016-08-01\n",
      "[step_search_start] step=199, hp=4, fe=3, expected_evals=6\n"
     ]
    },
    {
     "name": "stderr",
     "output_type": "stream",
     "text": [
      "/Library/Frameworks/Python.framework/Versions/3.12/lib/python3.12/site-packages/sklearn/linear_model/_coordinate_descent.py:697: ConvergenceWarning: Objective did not converge. You might want to increase the number of iterations, check the scale of the features or consider increasing regularisation. Duality gap: 1.426e+00, tolerance: 6.363e-02\n",
      "  model = cd_fast.enet_coordinate_descent(\n"
     ]
    },
    {
     "name": "stdout",
     "output_type": "stream",
     "text": [
      "[step_eval] step=199, done=1, total=6, hp_idx=1, fe_idx=1, score=0.714101\n"
     ]
    },
    {
     "name": "stderr",
     "output_type": "stream",
     "text": [
      "/Library/Frameworks/Python.framework/Versions/3.12/lib/python3.12/site-packages/sklearn/linear_model/_coordinate_descent.py:697: ConvergenceWarning: Objective did not converge. You might want to increase the number of iterations, check the scale of the features or consider increasing regularisation. Duality gap: 1.426e+00, tolerance: 6.363e-02\n",
      "  model = cd_fast.enet_coordinate_descent(\n"
     ]
    },
    {
     "name": "stdout",
     "output_type": "stream",
     "text": [
      "[step_eval] step=199, done=2, total=6, hp_idx=1, fe_idx=2, score=1.227932\n"
     ]
    },
    {
     "name": "stderr",
     "output_type": "stream",
     "text": [
      "/Library/Frameworks/Python.framework/Versions/3.12/lib/python3.12/site-packages/sklearn/linear_model/_coordinate_descent.py:697: ConvergenceWarning: Objective did not converge. You might want to increase the number of iterations, check the scale of the features or consider increasing regularisation. Duality gap: 5.670e-01, tolerance: 6.249e-02\n",
      "  model = cd_fast.enet_coordinate_descent(\n"
     ]
    },
    {
     "name": "stdout",
     "output_type": "stream",
     "text": [
      "[step_eval] step=199, done=3, total=6, hp_idx=1, fe_idx=3, score=0.004469\n"
     ]
    },
    {
     "name": "stderr",
     "output_type": "stream",
     "text": [
      "/Library/Frameworks/Python.framework/Versions/3.12/lib/python3.12/site-packages/sklearn/linear_model/_coordinate_descent.py:697: ConvergenceWarning: Objective did not converge. You might want to increase the number of iterations, check the scale of the features or consider increasing regularisation. Duality gap: 9.458e-02, tolerance: 6.363e-02\n",
      "  model = cd_fast.enet_coordinate_descent(\n"
     ]
    },
    {
     "name": "stdout",
     "output_type": "stream",
     "text": [
      "[step_eval] step=199, done=4, total=6, hp_idx=2, fe_idx=1, score=0.424235\n",
      "[step_eval] step=199, done=5, total=6, hp_idx=3, fe_idx=1, score=0.845627\n",
      "[step_eval] step=199, done=6, total=6, hp_idx=4, fe_idx=1, score=0.916449\n",
      "[step_done] step=199, best_score=0.004469\n",
      "[step_predict] step=200, of=299, date=2016-09-01\n",
      "[step_search_start] step=200, hp=4, fe=3, expected_evals=6\n"
     ]
    },
    {
     "name": "stderr",
     "output_type": "stream",
     "text": [
      "/Library/Frameworks/Python.framework/Versions/3.12/lib/python3.12/site-packages/sklearn/linear_model/_coordinate_descent.py:697: ConvergenceWarning: Objective did not converge. You might want to increase the number of iterations, check the scale of the features or consider increasing regularisation. Duality gap: 1.012e-01, tolerance: 6.377e-02\n",
      "  model = cd_fast.enet_coordinate_descent(\n"
     ]
    },
    {
     "name": "stdout",
     "output_type": "stream",
     "text": [
      "[step_eval] step=200, done=1, total=6, hp_idx=1, fe_idx=1, score=0.426764\n"
     ]
    },
    {
     "name": "stderr",
     "output_type": "stream",
     "text": [
      "/Library/Frameworks/Python.framework/Versions/3.12/lib/python3.12/site-packages/sklearn/linear_model/_coordinate_descent.py:697: ConvergenceWarning: Objective did not converge. You might want to increase the number of iterations, check the scale of the features or consider increasing regularisation. Duality gap: 9.578e-01, tolerance: 6.377e-02\n",
      "  model = cd_fast.enet_coordinate_descent(\n"
     ]
    },
    {
     "name": "stdout",
     "output_type": "stream",
     "text": [
      "[step_eval] step=200, done=2, total=6, hp_idx=1, fe_idx=2, score=1.929327\n"
     ]
    },
    {
     "name": "stderr",
     "output_type": "stream",
     "text": [
      "/Library/Frameworks/Python.framework/Versions/3.12/lib/python3.12/site-packages/sklearn/linear_model/_coordinate_descent.py:697: ConvergenceWarning: Objective did not converge. You might want to increase the number of iterations, check the scale of the features or consider increasing regularisation. Duality gap: 4.318e-01, tolerance: 6.264e-02\n",
      "  model = cd_fast.enet_coordinate_descent(\n"
     ]
    },
    {
     "name": "stdout",
     "output_type": "stream",
     "text": [
      "[step_eval] step=200, done=3, total=6, hp_idx=1, fe_idx=3, score=0.813816\n",
      "[step_eval] step=200, done=4, total=6, hp_idx=2, fe_idx=1, score=0.433095\n"
     ]
    },
    {
     "name": "stderr",
     "output_type": "stream",
     "text": [
      "/Library/Frameworks/Python.framework/Versions/3.12/lib/python3.12/site-packages/sklearn/linear_model/_coordinate_descent.py:697: ConvergenceWarning: Objective did not converge. You might want to increase the number of iterations, check the scale of the features or consider increasing regularisation. Duality gap: 1.012e-01, tolerance: 6.377e-02\n",
      "  model = cd_fast.enet_coordinate_descent(\n"
     ]
    },
    {
     "name": "stdout",
     "output_type": "stream",
     "text": [
      "[step_eval] step=200, done=5, total=6, hp_idx=3, fe_idx=1, score=0.590296\n",
      "[step_eval] step=200, done=6, total=6, hp_idx=4, fe_idx=1, score=0.51635\n",
      "[step_done] step=200, best_score=0.426764\n",
      "[step_predict] step=201, of=299, date=2016-10-01\n",
      "[step_search_start] step=201, hp=4, fe=3, expected_evals=6\n"
     ]
    },
    {
     "name": "stderr",
     "output_type": "stream",
     "text": [
      "/Library/Frameworks/Python.framework/Versions/3.12/lib/python3.12/site-packages/sklearn/linear_model/_coordinate_descent.py:697: ConvergenceWarning: Objective did not converge. You might want to increase the number of iterations, check the scale of the features or consider increasing regularisation. Duality gap: 1.083e+00, tolerance: 6.378e-02\n",
      "  model = cd_fast.enet_coordinate_descent(\n"
     ]
    },
    {
     "name": "stdout",
     "output_type": "stream",
     "text": [
      "[step_eval] step=201, done=1, total=6, hp_idx=1, fe_idx=1, score=0.364365\n"
     ]
    },
    {
     "name": "stderr",
     "output_type": "stream",
     "text": [
      "/Library/Frameworks/Python.framework/Versions/3.12/lib/python3.12/site-packages/sklearn/linear_model/_coordinate_descent.py:697: ConvergenceWarning: Objective did not converge. You might want to increase the number of iterations, check the scale of the features or consider increasing regularisation. Duality gap: 1.083e+00, tolerance: 6.378e-02\n",
      "  model = cd_fast.enet_coordinate_descent(\n"
     ]
    },
    {
     "name": "stdout",
     "output_type": "stream",
     "text": [
      "[step_eval] step=201, done=2, total=6, hp_idx=1, fe_idx=2, score=0.971098\n"
     ]
    },
    {
     "name": "stderr",
     "output_type": "stream",
     "text": [
      "/Library/Frameworks/Python.framework/Versions/3.12/lib/python3.12/site-packages/sklearn/linear_model/_coordinate_descent.py:697: ConvergenceWarning: Objective did not converge. You might want to increase the number of iterations, check the scale of the features or consider increasing regularisation. Duality gap: 3.501e-01, tolerance: 6.265e-02\n",
      "  model = cd_fast.enet_coordinate_descent(\n"
     ]
    },
    {
     "name": "stdout",
     "output_type": "stream",
     "text": [
      "[step_eval] step=201, done=3, total=6, hp_idx=1, fe_idx=3, score=0.186147\n"
     ]
    },
    {
     "name": "stderr",
     "output_type": "stream",
     "text": [
      "/Library/Frameworks/Python.framework/Versions/3.12/lib/python3.12/site-packages/sklearn/linear_model/_coordinate_descent.py:697: ConvergenceWarning: Objective did not converge. You might want to increase the number of iterations, check the scale of the features or consider increasing regularisation. Duality gap: 1.442e-01, tolerance: 6.378e-02\n",
      "  model = cd_fast.enet_coordinate_descent(\n"
     ]
    },
    {
     "name": "stdout",
     "output_type": "stream",
     "text": [
      "[step_eval] step=201, done=4, total=6, hp_idx=2, fe_idx=1, score=0.031421\n",
      "[step_eval] step=201, done=5, total=6, hp_idx=3, fe_idx=1, score=0.299974\n",
      "[step_eval] step=201, done=6, total=6, hp_idx=4, fe_idx=1, score=0.135317\n",
      "[step_done] step=201, best_score=0.031421\n",
      "[step_predict] step=202, of=299, date=2016-11-01\n",
      "[step_search_start] step=202, hp=4, fe=3, expected_evals=6\n",
      "[step_eval] step=202, done=1, total=6, hp_idx=1, fe_idx=1, score=1.030398\n"
     ]
    },
    {
     "name": "stderr",
     "output_type": "stream",
     "text": [
      "/Library/Frameworks/Python.framework/Versions/3.12/lib/python3.12/site-packages/sklearn/linear_model/_coordinate_descent.py:697: ConvergenceWarning: Objective did not converge. You might want to increase the number of iterations, check the scale of the features or consider increasing regularisation. Duality gap: 1.051e+00, tolerance: 6.380e-02\n",
      "  model = cd_fast.enet_coordinate_descent(\n"
     ]
    },
    {
     "name": "stdout",
     "output_type": "stream",
     "text": [
      "[step_eval] step=202, done=2, total=6, hp_idx=1, fe_idx=2, score=0.927427\n"
     ]
    },
    {
     "name": "stderr",
     "output_type": "stream",
     "text": [
      "/Library/Frameworks/Python.framework/Versions/3.12/lib/python3.12/site-packages/sklearn/linear_model/_coordinate_descent.py:697: ConvergenceWarning: Objective did not converge. You might want to increase the number of iterations, check the scale of the features or consider increasing regularisation. Duality gap: 4.229e-01, tolerance: 6.267e-02\n",
      "  model = cd_fast.enet_coordinate_descent(\n"
     ]
    },
    {
     "name": "stdout",
     "output_type": "stream",
     "text": [
      "[step_eval] step=202, done=3, total=6, hp_idx=1, fe_idx=3, score=1.390611\n"
     ]
    },
    {
     "name": "stderr",
     "output_type": "stream",
     "text": [
      "/Library/Frameworks/Python.framework/Versions/3.12/lib/python3.12/site-packages/sklearn/linear_model/_coordinate_descent.py:697: ConvergenceWarning: Objective did not converge. You might want to increase the number of iterations, check the scale of the features or consider increasing regularisation. Duality gap: 1.854e-01, tolerance: 6.380e-02\n",
      "  model = cd_fast.enet_coordinate_descent(\n"
     ]
    },
    {
     "name": "stdout",
     "output_type": "stream",
     "text": [
      "[step_eval] step=202, done=4, total=6, hp_idx=2, fe_idx=1, score=0.480252\n",
      "[step_eval] step=202, done=5, total=6, hp_idx=3, fe_idx=1, score=0.572036\n",
      "[step_eval] step=202, done=6, total=6, hp_idx=4, fe_idx=1, score=0.482114\n",
      "[step_done] step=202, best_score=0.480252\n",
      "[step_predict] step=203, of=299, date=2016-12-01\n",
      "[step_search_start] step=203, hp=4, fe=3, expected_evals=6\n",
      "[step_eval] step=203, done=1, total=6, hp_idx=1, fe_idx=1, score=2.906971\n"
     ]
    },
    {
     "name": "stderr",
     "output_type": "stream",
     "text": [
      "/Library/Frameworks/Python.framework/Versions/3.12/lib/python3.12/site-packages/sklearn/linear_model/_coordinate_descent.py:697: ConvergenceWarning: Objective did not converge. You might want to increase the number of iterations, check the scale of the features or consider increasing regularisation. Duality gap: 1.784e+00, tolerance: 6.380e-02\n",
      "  model = cd_fast.enet_coordinate_descent(\n"
     ]
    },
    {
     "name": "stdout",
     "output_type": "stream",
     "text": [
      "[step_eval] step=203, done=2, total=6, hp_idx=1, fe_idx=2, score=1.856581\n"
     ]
    },
    {
     "name": "stderr",
     "output_type": "stream",
     "text": [
      "/Library/Frameworks/Python.framework/Versions/3.12/lib/python3.12/site-packages/sklearn/linear_model/_coordinate_descent.py:697: ConvergenceWarning: Objective did not converge. You might want to increase the number of iterations, check the scale of the features or consider increasing regularisation. Duality gap: 4.245e-01, tolerance: 6.267e-02\n",
      "  model = cd_fast.enet_coordinate_descent(\n"
     ]
    },
    {
     "name": "stdout",
     "output_type": "stream",
     "text": [
      "[step_eval] step=203, done=3, total=6, hp_idx=1, fe_idx=3, score=0.291851\n"
     ]
    },
    {
     "name": "stderr",
     "output_type": "stream",
     "text": [
      "/Library/Frameworks/Python.framework/Versions/3.12/lib/python3.12/site-packages/sklearn/linear_model/_coordinate_descent.py:697: ConvergenceWarning: Objective did not converge. You might want to increase the number of iterations, check the scale of the features or consider increasing regularisation. Duality gap: 2.032e-01, tolerance: 6.380e-02\n",
      "  model = cd_fast.enet_coordinate_descent(\n"
     ]
    },
    {
     "name": "stdout",
     "output_type": "stream",
     "text": [
      "[step_eval] step=203, done=4, total=6, hp_idx=2, fe_idx=1, score=0.62226\n",
      "[step_eval] step=203, done=5, total=6, hp_idx=3, fe_idx=1, score=2.142108\n",
      "[step_eval] step=203, done=6, total=6, hp_idx=4, fe_idx=1, score=2.051043\n",
      "[step_done] step=203, best_score=0.291851\n",
      "[step_predict] step=204, of=299, date=2017-01-01\n",
      "[step_search_start] step=204, hp=4, fe=3, expected_evals=6\n"
     ]
    },
    {
     "name": "stderr",
     "output_type": "stream",
     "text": [
      "/Library/Frameworks/Python.framework/Versions/3.12/lib/python3.12/site-packages/sklearn/linear_model/_coordinate_descent.py:697: ConvergenceWarning: Objective did not converge. You might want to increase the number of iterations, check the scale of the features or consider increasing regularisation. Duality gap: 1.613e-01, tolerance: 6.414e-02\n",
      "  model = cd_fast.enet_coordinate_descent(\n"
     ]
    },
    {
     "name": "stdout",
     "output_type": "stream",
     "text": [
      "[step_eval] step=204, done=1, total=6, hp_idx=1, fe_idx=1, score=0.268744\n"
     ]
    },
    {
     "name": "stderr",
     "output_type": "stream",
     "text": [
      "/Library/Frameworks/Python.framework/Versions/3.12/lib/python3.12/site-packages/sklearn/linear_model/_coordinate_descent.py:697: ConvergenceWarning: Objective did not converge. You might want to increase the number of iterations, check the scale of the features or consider increasing regularisation. Duality gap: 1.715e+00, tolerance: 6.414e-02\n",
      "  model = cd_fast.enet_coordinate_descent(\n"
     ]
    },
    {
     "name": "stdout",
     "output_type": "stream",
     "text": [
      "[step_eval] step=204, done=2, total=6, hp_idx=1, fe_idx=2, score=0.647564\n"
     ]
    },
    {
     "name": "stderr",
     "output_type": "stream",
     "text": [
      "/Library/Frameworks/Python.framework/Versions/3.12/lib/python3.12/site-packages/sklearn/linear_model/_coordinate_descent.py:697: ConvergenceWarning: Objective did not converge. You might want to increase the number of iterations, check the scale of the features or consider increasing regularisation. Duality gap: 3.855e-01, tolerance: 6.301e-02\n",
      "  model = cd_fast.enet_coordinate_descent(\n"
     ]
    },
    {
     "name": "stdout",
     "output_type": "stream",
     "text": [
      "[step_eval] step=204, done=3, total=6, hp_idx=1, fe_idx=3, score=0.433982\n",
      "[step_eval] step=204, done=4, total=6, hp_idx=2, fe_idx=1, score=0.082772\n"
     ]
    },
    {
     "name": "stderr",
     "output_type": "stream",
     "text": [
      "/Library/Frameworks/Python.framework/Versions/3.12/lib/python3.12/site-packages/sklearn/linear_model/_coordinate_descent.py:697: ConvergenceWarning: Objective did not converge. You might want to increase the number of iterations, check the scale of the features or consider increasing regularisation. Duality gap: 1.613e-01, tolerance: 6.414e-02\n",
      "  model = cd_fast.enet_coordinate_descent(\n"
     ]
    },
    {
     "name": "stdout",
     "output_type": "stream",
     "text": [
      "[step_eval] step=204, done=5, total=6, hp_idx=3, fe_idx=1, score=0.282032\n",
      "[step_eval] step=204, done=6, total=6, hp_idx=4, fe_idx=1, score=0.357555\n",
      "[step_done] step=204, best_score=0.082772\n",
      "[step_predict] step=205, of=299, date=2017-02-01\n",
      "[step_search_start] step=205, hp=4, fe=3, expected_evals=6\n",
      "[step_eval] step=205, done=1, total=6, hp_idx=1, fe_idx=1, score=0.354808\n"
     ]
    },
    {
     "name": "stderr",
     "output_type": "stream",
     "text": [
      "/Library/Frameworks/Python.framework/Versions/3.12/lib/python3.12/site-packages/sklearn/linear_model/_coordinate_descent.py:697: ConvergenceWarning: Objective did not converge. You might want to increase the number of iterations, check the scale of the features or consider increasing regularisation. Duality gap: 9.877e-01, tolerance: 6.418e-02\n",
      "  model = cd_fast.enet_coordinate_descent(\n"
     ]
    },
    {
     "name": "stdout",
     "output_type": "stream",
     "text": [
      "[step_eval] step=205, done=2, total=6, hp_idx=1, fe_idx=2, score=1.80566\n"
     ]
    },
    {
     "name": "stderr",
     "output_type": "stream",
     "text": [
      "/Library/Frameworks/Python.framework/Versions/3.12/lib/python3.12/site-packages/sklearn/linear_model/_coordinate_descent.py:697: ConvergenceWarning: Objective did not converge. You might want to increase the number of iterations, check the scale of the features or consider increasing regularisation. Duality gap: 4.284e-01, tolerance: 6.305e-02\n",
      "  model = cd_fast.enet_coordinate_descent(\n"
     ]
    },
    {
     "name": "stdout",
     "output_type": "stream",
     "text": [
      "[step_eval] step=205, done=3, total=6, hp_idx=1, fe_idx=3, score=1.508022\n",
      "[step_eval] step=205, done=4, total=6, hp_idx=2, fe_idx=1, score=0.400187\n"
     ]
    },
    {
     "name": "stderr",
     "output_type": "stream",
     "text": [
      "/Library/Frameworks/Python.framework/Versions/3.12/lib/python3.12/site-packages/sklearn/linear_model/_coordinate_descent.py:697: ConvergenceWarning: Objective did not converge. You might want to increase the number of iterations, check the scale of the features or consider increasing regularisation. Duality gap: 1.271e-01, tolerance: 6.418e-02\n",
      "  model = cd_fast.enet_coordinate_descent(\n"
     ]
    },
    {
     "name": "stdout",
     "output_type": "stream",
     "text": [
      "[step_eval] step=205, done=5, total=6, hp_idx=3, fe_idx=1, score=1.261862\n",
      "[step_eval] step=205, done=6, total=6, hp_idx=4, fe_idx=1, score=1.429746\n",
      "[step_done] step=205, best_score=0.354808\n",
      "[step_predict] step=206, of=299, date=2017-03-01\n",
      "[step_search_start] step=206, hp=4, fe=3, expected_evals=6\n"
     ]
    },
    {
     "name": "stderr",
     "output_type": "stream",
     "text": [
      "/Library/Frameworks/Python.framework/Versions/3.12/lib/python3.12/site-packages/sklearn/linear_model/_coordinate_descent.py:697: ConvergenceWarning: Objective did not converge. You might want to increase the number of iterations, check the scale of the features or consider increasing regularisation. Duality gap: 1.300e+00, tolerance: 6.443e-02\n",
      "  model = cd_fast.enet_coordinate_descent(\n"
     ]
    },
    {
     "name": "stdout",
     "output_type": "stream",
     "text": [
      "[step_eval] step=206, done=1, total=6, hp_idx=1, fe_idx=1, score=0.626045\n"
     ]
    },
    {
     "name": "stderr",
     "output_type": "stream",
     "text": [
      "/Library/Frameworks/Python.framework/Versions/3.12/lib/python3.12/site-packages/sklearn/linear_model/_coordinate_descent.py:697: ConvergenceWarning: Objective did not converge. You might want to increase the number of iterations, check the scale of the features or consider increasing regularisation. Duality gap: 1.300e+00, tolerance: 6.443e-02\n",
      "  model = cd_fast.enet_coordinate_descent(\n"
     ]
    },
    {
     "name": "stdout",
     "output_type": "stream",
     "text": [
      "[step_eval] step=206, done=2, total=6, hp_idx=1, fe_idx=2, score=2.125378\n"
     ]
    },
    {
     "name": "stderr",
     "output_type": "stream",
     "text": [
      "/Library/Frameworks/Python.framework/Versions/3.12/lib/python3.12/site-packages/sklearn/linear_model/_coordinate_descent.py:697: ConvergenceWarning: Objective did not converge. You might want to increase the number of iterations, check the scale of the features or consider increasing regularisation. Duality gap: 3.964e-01, tolerance: 6.330e-02\n",
      "  model = cd_fast.enet_coordinate_descent(\n"
     ]
    },
    {
     "name": "stdout",
     "output_type": "stream",
     "text": [
      "[step_eval] step=206, done=3, total=6, hp_idx=1, fe_idx=3, score=2.460901\n",
      "[step_eval] step=206, done=4, total=6, hp_idx=2, fe_idx=1, score=0.889571\n",
      "[step_eval] step=206, done=5, total=6, hp_idx=3, fe_idx=1, score=1.383316\n"
     ]
    },
    {
     "name": "stderr",
     "output_type": "stream",
     "text": [
      "/Library/Frameworks/Python.framework/Versions/3.12/lib/python3.12/site-packages/sklearn/linear_model/_coordinate_descent.py:697: ConvergenceWarning: Objective did not converge. You might want to increase the number of iterations, check the scale of the features or consider increasing regularisation. Duality gap: 1.885e-01, tolerance: 6.443e-02\n",
      "  model = cd_fast.enet_coordinate_descent(\n"
     ]
    },
    {
     "name": "stdout",
     "output_type": "stream",
     "text": [
      "[step_eval] step=206, done=6, total=6, hp_idx=4, fe_idx=1, score=1.039225\n",
      "[step_done] step=206, best_score=0.626045\n",
      "[step_predict] step=207, of=299, date=2017-04-01\n",
      "[step_search_start] step=207, hp=4, fe=3, expected_evals=6\n"
     ]
    },
    {
     "name": "stderr",
     "output_type": "stream",
     "text": [
      "/Library/Frameworks/Python.framework/Versions/3.12/lib/python3.12/site-packages/sklearn/linear_model/_coordinate_descent.py:697: ConvergenceWarning: Objective did not converge. You might want to increase the number of iterations, check the scale of the features or consider increasing regularisation. Duality gap: 1.112e+00, tolerance: 6.446e-02\n",
      "  model = cd_fast.enet_coordinate_descent(\n"
     ]
    },
    {
     "name": "stdout",
     "output_type": "stream",
     "text": [
      "[step_eval] step=207, done=1, total=6, hp_idx=1, fe_idx=1, score=1.968398\n"
     ]
    },
    {
     "name": "stderr",
     "output_type": "stream",
     "text": [
      "/Library/Frameworks/Python.framework/Versions/3.12/lib/python3.12/site-packages/sklearn/linear_model/_coordinate_descent.py:697: ConvergenceWarning: Objective did not converge. You might want to increase the number of iterations, check the scale of the features or consider increasing regularisation. Duality gap: 1.112e+00, tolerance: 6.446e-02\n",
      "  model = cd_fast.enet_coordinate_descent(\n"
     ]
    },
    {
     "name": "stdout",
     "output_type": "stream",
     "text": [
      "[step_eval] step=207, done=2, total=6, hp_idx=1, fe_idx=2, score=3.728584\n"
     ]
    },
    {
     "name": "stderr",
     "output_type": "stream",
     "text": [
      "/Library/Frameworks/Python.framework/Versions/3.12/lib/python3.12/site-packages/sklearn/linear_model/_coordinate_descent.py:697: ConvergenceWarning: Objective did not converge. You might want to increase the number of iterations, check the scale of the features or consider increasing regularisation. Duality gap: 3.417e-01, tolerance: 6.333e-02\n",
      "  model = cd_fast.enet_coordinate_descent(\n"
     ]
    },
    {
     "name": "stdout",
     "output_type": "stream",
     "text": [
      "[step_eval] step=207, done=3, total=6, hp_idx=1, fe_idx=3, score=3.315423\n",
      "[step_eval] step=207, done=4, total=6, hp_idx=2, fe_idx=1, score=1.58429\n",
      "[step_eval] step=207, done=5, total=6, hp_idx=3, fe_idx=1, score=1.289025\n"
     ]
    },
    {
     "name": "stderr",
     "output_type": "stream",
     "text": [
      "/Library/Frameworks/Python.framework/Versions/3.12/lib/python3.12/site-packages/sklearn/linear_model/_coordinate_descent.py:697: ConvergenceWarning: Objective did not converge. You might want to increase the number of iterations, check the scale of the features or consider increasing regularisation. Duality gap: 4.254e-01, tolerance: 6.446e-02\n",
      "  model = cd_fast.enet_coordinate_descent(\n"
     ]
    },
    {
     "name": "stdout",
     "output_type": "stream",
     "text": [
      "[step_eval] step=207, done=6, total=6, hp_idx=4, fe_idx=1, score=1.485349\n",
      "[step_done] step=207, best_score=1.289025\n",
      "[step_predict] step=208, of=299, date=2017-05-01\n",
      "[step_search_start] step=208, hp=4, fe=3, expected_evals=6\n",
      "[step_eval] step=208, done=1, total=6, hp_idx=1, fe_idx=1, score=0.685939\n"
     ]
    },
    {
     "name": "stderr",
     "output_type": "stream",
     "text": [
      "/Library/Frameworks/Python.framework/Versions/3.12/lib/python3.12/site-packages/sklearn/linear_model/_coordinate_descent.py:697: ConvergenceWarning: Objective did not converge. You might want to increase the number of iterations, check the scale of the features or consider increasing regularisation. Duality gap: 6.467e-01, tolerance: 6.480e-02\n",
      "  model = cd_fast.enet_coordinate_descent(\n"
     ]
    },
    {
     "name": "stdout",
     "output_type": "stream",
     "text": [
      "[step_eval] step=208, done=2, total=6, hp_idx=1, fe_idx=2, score=1.833397\n"
     ]
    },
    {
     "name": "stderr",
     "output_type": "stream",
     "text": [
      "/Library/Frameworks/Python.framework/Versions/3.12/lib/python3.12/site-packages/sklearn/linear_model/_coordinate_descent.py:697: ConvergenceWarning: Objective did not converge. You might want to increase the number of iterations, check the scale of the features or consider increasing regularisation. Duality gap: 2.129e-01, tolerance: 6.367e-02\n",
      "  model = cd_fast.enet_coordinate_descent(\n"
     ]
    },
    {
     "name": "stdout",
     "output_type": "stream",
     "text": [
      "[step_eval] step=208, done=3, total=6, hp_idx=1, fe_idx=3, score=0.061383\n"
     ]
    },
    {
     "name": "stderr",
     "output_type": "stream",
     "text": [
      "/Library/Frameworks/Python.framework/Versions/3.12/lib/python3.12/site-packages/sklearn/linear_model/_coordinate_descent.py:697: ConvergenceWarning: Objective did not converge. You might want to increase the number of iterations, check the scale of the features or consider increasing regularisation. Duality gap: 4.118e-01, tolerance: 6.480e-02\n",
      "  model = cd_fast.enet_coordinate_descent(\n"
     ]
    },
    {
     "name": "stdout",
     "output_type": "stream",
     "text": [
      "[step_eval] step=208, done=4, total=6, hp_idx=2, fe_idx=1, score=0.088061\n",
      "[step_eval] step=208, done=5, total=6, hp_idx=3, fe_idx=1, score=0.488815\n",
      "[step_eval] step=208, done=6, total=6, hp_idx=4, fe_idx=1, score=0.42765\n",
      "[step_done] step=208, best_score=0.061383\n",
      "[step_predict] step=209, of=299, date=2017-06-01\n",
      "[step_search_start] step=209, hp=4, fe=3, expected_evals=6\n"
     ]
    },
    {
     "name": "stderr",
     "output_type": "stream",
     "text": [
      "/Library/Frameworks/Python.framework/Versions/3.12/lib/python3.12/site-packages/sklearn/linear_model/_coordinate_descent.py:697: ConvergenceWarning: Objective did not converge. You might want to increase the number of iterations, check the scale of the features or consider increasing regularisation. Duality gap: 3.981e-01, tolerance: 6.480e-02\n",
      "  model = cd_fast.enet_coordinate_descent(\n"
     ]
    },
    {
     "name": "stdout",
     "output_type": "stream",
     "text": [
      "[step_eval] step=209, done=1, total=6, hp_idx=1, fe_idx=1, score=0.255687\n"
     ]
    },
    {
     "name": "stderr",
     "output_type": "stream",
     "text": [
      "/Library/Frameworks/Python.framework/Versions/3.12/lib/python3.12/site-packages/sklearn/linear_model/_coordinate_descent.py:697: ConvergenceWarning: Objective did not converge. You might want to increase the number of iterations, check the scale of the features or consider increasing regularisation. Duality gap: 7.757e-01, tolerance: 6.480e-02\n",
      "  model = cd_fast.enet_coordinate_descent(\n"
     ]
    },
    {
     "name": "stdout",
     "output_type": "stream",
     "text": [
      "[step_eval] step=209, done=2, total=6, hp_idx=1, fe_idx=2, score=0.181385\n"
     ]
    },
    {
     "name": "stderr",
     "output_type": "stream",
     "text": [
      "/Library/Frameworks/Python.framework/Versions/3.12/lib/python3.12/site-packages/sklearn/linear_model/_coordinate_descent.py:697: ConvergenceWarning: Objective did not converge. You might want to increase the number of iterations, check the scale of the features or consider increasing regularisation. Duality gap: 1.181e-01, tolerance: 6.367e-02\n",
      "  model = cd_fast.enet_coordinate_descent(\n"
     ]
    },
    {
     "name": "stdout",
     "output_type": "stream",
     "text": [
      "[step_eval] step=209, done=3, total=6, hp_idx=1, fe_idx=3, score=0.401692\n",
      "[step_eval] step=209, done=4, total=6, hp_idx=2, fe_idx=1, score=0.015139\n"
     ]
    },
    {
     "name": "stderr",
     "output_type": "stream",
     "text": [
      "/Library/Frameworks/Python.framework/Versions/3.12/lib/python3.12/site-packages/sklearn/linear_model/_coordinate_descent.py:697: ConvergenceWarning: Objective did not converge. You might want to increase the number of iterations, check the scale of the features or consider increasing regularisation. Duality gap: 3.981e-01, tolerance: 6.480e-02\n",
      "  model = cd_fast.enet_coordinate_descent(\n"
     ]
    },
    {
     "name": "stdout",
     "output_type": "stream",
     "text": [
      "[step_eval] step=209, done=5, total=6, hp_idx=3, fe_idx=1, score=0.671127\n",
      "[step_eval] step=209, done=6, total=6, hp_idx=4, fe_idx=1, score=0.572556\n",
      "[step_done] step=209, best_score=0.015139\n",
      "[step_predict] step=210, of=299, date=2017-07-01\n",
      "[step_search_start] step=210, hp=4, fe=3, expected_evals=6\n",
      "[step_eval] step=210, done=1, total=6, hp_idx=1, fe_idx=1, score=0.819949\n"
     ]
    },
    {
     "name": "stderr",
     "output_type": "stream",
     "text": [
      "/Library/Frameworks/Python.framework/Versions/3.12/lib/python3.12/site-packages/sklearn/linear_model/_coordinate_descent.py:697: ConvergenceWarning: Objective did not converge. You might want to increase the number of iterations, check the scale of the features or consider increasing regularisation. Duality gap: 7.269e-01, tolerance: 6.480e-02\n",
      "  model = cd_fast.enet_coordinate_descent(\n"
     ]
    },
    {
     "name": "stdout",
     "output_type": "stream",
     "text": [
      "[step_eval] step=210, done=2, total=6, hp_idx=1, fe_idx=2, score=0.129834\n"
     ]
    },
    {
     "name": "stderr",
     "output_type": "stream",
     "text": [
      "/Library/Frameworks/Python.framework/Versions/3.12/lib/python3.12/site-packages/sklearn/linear_model/_coordinate_descent.py:697: ConvergenceWarning: Objective did not converge. You might want to increase the number of iterations, check the scale of the features or consider increasing regularisation. Duality gap: 1.477e-01, tolerance: 6.367e-02\n",
      "  model = cd_fast.enet_coordinate_descent(\n"
     ]
    },
    {
     "name": "stdout",
     "output_type": "stream",
     "text": [
      "[step_eval] step=210, done=3, total=6, hp_idx=1, fe_idx=3, score=0.57811\n",
      "[step_eval] step=210, done=4, total=6, hp_idx=2, fe_idx=1, score=0.003102\n"
     ]
    },
    {
     "name": "stderr",
     "output_type": "stream",
     "text": [
      "/Library/Frameworks/Python.framework/Versions/3.12/lib/python3.12/site-packages/sklearn/linear_model/_coordinate_descent.py:697: ConvergenceWarning: Objective did not converge. You might want to increase the number of iterations, check the scale of the features or consider increasing regularisation. Duality gap: 4.990e-01, tolerance: 6.480e-02\n",
      "  model = cd_fast.enet_coordinate_descent(\n"
     ]
    },
    {
     "name": "stdout",
     "output_type": "stream",
     "text": [
      "[step_eval] step=210, done=5, total=6, hp_idx=3, fe_idx=1, score=0.249031\n",
      "[step_eval] step=210, done=6, total=6, hp_idx=4, fe_idx=1, score=0.179465\n",
      "[step_done] step=210, best_score=0.003102\n",
      "[step_predict] step=211, of=299, date=2017-08-01\n",
      "[step_search_start] step=211, hp=4, fe=3, expected_evals=6\n",
      "[step_eval] step=211, done=1, total=6, hp_idx=1, fe_idx=1, score=3.273101\n"
     ]
    },
    {
     "name": "stderr",
     "output_type": "stream",
     "text": [
      "/Library/Frameworks/Python.framework/Versions/3.12/lib/python3.12/site-packages/sklearn/linear_model/_coordinate_descent.py:697: ConvergenceWarning: Objective did not converge. You might want to increase the number of iterations, check the scale of the features or consider increasing regularisation. Duality gap: 9.284e-01, tolerance: 6.481e-02\n",
      "  model = cd_fast.enet_coordinate_descent(\n"
     ]
    },
    {
     "name": "stdout",
     "output_type": "stream",
     "text": [
      "[step_eval] step=211, done=2, total=6, hp_idx=1, fe_idx=2, score=2.509956\n"
     ]
    },
    {
     "name": "stderr",
     "output_type": "stream",
     "text": [
      "/Library/Frameworks/Python.framework/Versions/3.12/lib/python3.12/site-packages/sklearn/linear_model/_coordinate_descent.py:697: ConvergenceWarning: Objective did not converge. You might want to increase the number of iterations, check the scale of the features or consider increasing regularisation. Duality gap: 1.085e-01, tolerance: 6.368e-02\n",
      "  model = cd_fast.enet_coordinate_descent(\n"
     ]
    },
    {
     "name": "stdout",
     "output_type": "stream",
     "text": [
      "[step_eval] step=211, done=3, total=6, hp_idx=1, fe_idx=3, score=2.138472\n"
     ]
    },
    {
     "name": "stderr",
     "output_type": "stream",
     "text": [
      "/Library/Frameworks/Python.framework/Versions/3.12/lib/python3.12/site-packages/sklearn/linear_model/_coordinate_descent.py:697: ConvergenceWarning: Objective did not converge. You might want to increase the number of iterations, check the scale of the features or consider increasing regularisation. Duality gap: 5.509e-01, tolerance: 6.481e-02\n",
      "  model = cd_fast.enet_coordinate_descent(\n"
     ]
    },
    {
     "name": "stdout",
     "output_type": "stream",
     "text": [
      "[step_eval] step=211, done=4, total=6, hp_idx=2, fe_idx=1, score=1.817009\n",
      "[step_eval] step=211, done=5, total=6, hp_idx=3, fe_idx=1, score=1.297569\n",
      "[step_eval] step=211, done=6, total=6, hp_idx=4, fe_idx=1, score=1.412549\n",
      "[step_done] step=211, best_score=1.297569\n",
      "[step_predict] step=212, of=299, date=2017-09-01\n",
      "[step_search_start] step=212, hp=4, fe=3, expected_evals=6\n",
      "[step_eval] step=212, done=1, total=6, hp_idx=1, fe_idx=1, score=1.643703\n"
     ]
    },
    {
     "name": "stderr",
     "output_type": "stream",
     "text": [
      "/Library/Frameworks/Python.framework/Versions/3.12/lib/python3.12/site-packages/sklearn/linear_model/_coordinate_descent.py:697: ConvergenceWarning: Objective did not converge. You might want to increase the number of iterations, check the scale of the features or consider increasing regularisation. Duality gap: 1.130e-01, tolerance: 6.514e-02\n",
      "  model = cd_fast.enet_coordinate_descent(\n"
     ]
    },
    {
     "name": "stdout",
     "output_type": "stream",
     "text": [
      "[step_eval] step=212, done=2, total=6, hp_idx=1, fe_idx=2, score=1.488482\n"
     ]
    },
    {
     "name": "stderr",
     "output_type": "stream",
     "text": [
      "/Library/Frameworks/Python.framework/Versions/3.12/lib/python3.12/site-packages/sklearn/linear_model/_coordinate_descent.py:697: ConvergenceWarning: Objective did not converge. You might want to increase the number of iterations, check the scale of the features or consider increasing regularisation. Duality gap: 3.903e-01, tolerance: 6.401e-02\n",
      "  model = cd_fast.enet_coordinate_descent(\n"
     ]
    },
    {
     "name": "stdout",
     "output_type": "stream",
     "text": [
      "[step_eval] step=212, done=3, total=6, hp_idx=1, fe_idx=3, score=1.464073\n"
     ]
    },
    {
     "name": "stderr",
     "output_type": "stream",
     "text": [
      "/Library/Frameworks/Python.framework/Versions/3.12/lib/python3.12/site-packages/sklearn/linear_model/_coordinate_descent.py:697: ConvergenceWarning: Objective did not converge. You might want to increase the number of iterations, check the scale of the features or consider increasing regularisation. Duality gap: 1.192e+00, tolerance: 6.514e-02\n",
      "  model = cd_fast.enet_coordinate_descent(\n"
     ]
    },
    {
     "name": "stdout",
     "output_type": "stream",
     "text": [
      "[step_eval] step=212, done=4, total=6, hp_idx=2, fe_idx=1, score=1.628708\n",
      "[step_eval] step=212, done=5, total=6, hp_idx=3, fe_idx=1, score=1.693668\n",
      "[step_eval] step=212, done=6, total=6, hp_idx=4, fe_idx=1, score=1.498906\n",
      "[step_done] step=212, best_score=1.464073\n",
      "[step_predict] step=213, of=299, date=2017-10-01\n",
      "[step_search_start] step=213, hp=4, fe=3, expected_evals=6\n"
     ]
    },
    {
     "name": "stderr",
     "output_type": "stream",
     "text": [
      "/Library/Frameworks/Python.framework/Versions/3.12/lib/python3.12/site-packages/sklearn/linear_model/_coordinate_descent.py:697: ConvergenceWarning: Objective did not converge. You might want to increase the number of iterations, check the scale of the features or consider increasing regularisation. Duality gap: 1.451e+00, tolerance: 6.521e-02\n",
      "  model = cd_fast.enet_coordinate_descent(\n"
     ]
    },
    {
     "name": "stdout",
     "output_type": "stream",
     "text": [
      "[step_eval] step=213, done=1, total=6, hp_idx=1, fe_idx=1, score=1.982526\n"
     ]
    },
    {
     "name": "stderr",
     "output_type": "stream",
     "text": [
      "/Library/Frameworks/Python.framework/Versions/3.12/lib/python3.12/site-packages/sklearn/linear_model/_coordinate_descent.py:697: ConvergenceWarning: Objective did not converge. You might want to increase the number of iterations, check the scale of the features or consider increasing regularisation. Duality gap: 3.074e-01, tolerance: 6.521e-02\n",
      "  model = cd_fast.enet_coordinate_descent(\n"
     ]
    },
    {
     "name": "stdout",
     "output_type": "stream",
     "text": [
      "[step_eval] step=213, done=2, total=6, hp_idx=1, fe_idx=2, score=1.465419\n"
     ]
    },
    {
     "name": "stderr",
     "output_type": "stream",
     "text": [
      "/Library/Frameworks/Python.framework/Versions/3.12/lib/python3.12/site-packages/sklearn/linear_model/_coordinate_descent.py:697: ConvergenceWarning: Objective did not converge. You might want to increase the number of iterations, check the scale of the features or consider increasing regularisation. Duality gap: 1.408e-01, tolerance: 6.408e-02\n",
      "  model = cd_fast.enet_coordinate_descent(\n"
     ]
    },
    {
     "name": "stdout",
     "output_type": "stream",
     "text": [
      "[step_eval] step=213, done=3, total=6, hp_idx=1, fe_idx=3, score=0.216351\n"
     ]
    },
    {
     "name": "stderr",
     "output_type": "stream",
     "text": [
      "/Library/Frameworks/Python.framework/Versions/3.12/lib/python3.12/site-packages/sklearn/linear_model/_coordinate_descent.py:697: ConvergenceWarning: Objective did not converge. You might want to increase the number of iterations, check the scale of the features or consider increasing regularisation. Duality gap: 1.451e+00, tolerance: 6.521e-02\n",
      "  model = cd_fast.enet_coordinate_descent(\n"
     ]
    },
    {
     "name": "stdout",
     "output_type": "stream",
     "text": [
      "[step_eval] step=213, done=4, total=6, hp_idx=2, fe_idx=1, score=0.637469\n",
      "[step_eval] step=213, done=5, total=6, hp_idx=3, fe_idx=1, score=1.636278\n",
      "[step_eval] step=213, done=6, total=6, hp_idx=4, fe_idx=1, score=1.736652\n",
      "[step_done] step=213, best_score=0.216351\n",
      "[step_predict] step=214, of=299, date=2017-11-01\n",
      "[step_search_start] step=214, hp=4, fe=3, expected_evals=6\n"
     ]
    },
    {
     "name": "stderr",
     "output_type": "stream",
     "text": [
      "/Library/Frameworks/Python.framework/Versions/3.12/lib/python3.12/site-packages/sklearn/linear_model/_coordinate_descent.py:697: ConvergenceWarning: Objective did not converge. You might want to increase the number of iterations, check the scale of the features or consider increasing regularisation. Duality gap: 1.030e+00, tolerance: 6.538e-02\n",
      "  model = cd_fast.enet_coordinate_descent(\n"
     ]
    },
    {
     "name": "stdout",
     "output_type": "stream",
     "text": [
      "[step_eval] step=214, done=1, total=6, hp_idx=1, fe_idx=1, score=2.06572\n"
     ]
    },
    {
     "name": "stderr",
     "output_type": "stream",
     "text": [
      "/Library/Frameworks/Python.framework/Versions/3.12/lib/python3.12/site-packages/sklearn/linear_model/_coordinate_descent.py:697: ConvergenceWarning: Objective did not converge. You might want to increase the number of iterations, check the scale of the features or consider increasing regularisation. Duality gap: 1.197e+00, tolerance: 6.538e-02\n",
      "  model = cd_fast.enet_coordinate_descent(\n"
     ]
    },
    {
     "name": "stdout",
     "output_type": "stream",
     "text": [
      "[step_eval] step=214, done=2, total=6, hp_idx=1, fe_idx=2, score=3.544146\n"
     ]
    },
    {
     "name": "stderr",
     "output_type": "stream",
     "text": [
      "/Library/Frameworks/Python.framework/Versions/3.12/lib/python3.12/site-packages/sklearn/linear_model/_coordinate_descent.py:697: ConvergenceWarning: Objective did not converge. You might want to increase the number of iterations, check the scale of the features or consider increasing regularisation. Duality gap: 1.804e-01, tolerance: 6.425e-02\n",
      "  model = cd_fast.enet_coordinate_descent(\n"
     ]
    },
    {
     "name": "stdout",
     "output_type": "stream",
     "text": [
      "[step_eval] step=214, done=3, total=6, hp_idx=1, fe_idx=3, score=3.306992\n",
      "[step_eval] step=214, done=4, total=6, hp_idx=2, fe_idx=1, score=2.307006\n",
      "[step_eval] step=214, done=5, total=6, hp_idx=3, fe_idx=1, score=2.627852\n"
     ]
    },
    {
     "name": "stderr",
     "output_type": "stream",
     "text": [
      "/Library/Frameworks/Python.framework/Versions/3.12/lib/python3.12/site-packages/sklearn/linear_model/_coordinate_descent.py:697: ConvergenceWarning: Objective did not converge. You might want to increase the number of iterations, check the scale of the features or consider increasing regularisation. Duality gap: 1.030e+00, tolerance: 6.538e-02\n",
      "  model = cd_fast.enet_coordinate_descent(\n"
     ]
    },
    {
     "name": "stdout",
     "output_type": "stream",
     "text": [
      "[step_eval] step=214, done=6, total=6, hp_idx=4, fe_idx=1, score=2.551164\n",
      "[step_done] step=214, best_score=2.06572\n",
      "[step_predict] step=215, of=299, date=2017-12-01\n",
      "[step_search_start] step=215, hp=4, fe=3, expected_evals=6\n"
     ]
    },
    {
     "name": "stderr",
     "output_type": "stream",
     "text": [
      "/Library/Frameworks/Python.framework/Versions/3.12/lib/python3.12/site-packages/sklearn/linear_model/_coordinate_descent.py:697: ConvergenceWarning: Objective did not converge. You might want to increase the number of iterations, check the scale of the features or consider increasing regularisation. Duality gap: 5.016e-01, tolerance: 6.624e-02\n",
      "  model = cd_fast.enet_coordinate_descent(\n"
     ]
    },
    {
     "name": "stdout",
     "output_type": "stream",
     "text": [
      "[step_eval] step=215, done=1, total=6, hp_idx=1, fe_idx=1, score=0.858453\n"
     ]
    },
    {
     "name": "stderr",
     "output_type": "stream",
     "text": [
      "/Library/Frameworks/Python.framework/Versions/3.12/lib/python3.12/site-packages/sklearn/linear_model/_coordinate_descent.py:697: ConvergenceWarning: Objective did not converge. You might want to increase the number of iterations, check the scale of the features or consider increasing regularisation. Duality gap: 5.016e-01, tolerance: 6.624e-02\n",
      "  model = cd_fast.enet_coordinate_descent(\n"
     ]
    },
    {
     "name": "stdout",
     "output_type": "stream",
     "text": [
      "[step_eval] step=215, done=2, total=6, hp_idx=1, fe_idx=2, score=0.400499\n"
     ]
    },
    {
     "name": "stderr",
     "output_type": "stream",
     "text": [
      "/Library/Frameworks/Python.framework/Versions/3.12/lib/python3.12/site-packages/sklearn/linear_model/_coordinate_descent.py:697: ConvergenceWarning: Objective did not converge. You might want to increase the number of iterations, check the scale of the features or consider increasing regularisation. Duality gap: 3.955e-01, tolerance: 6.511e-02\n",
      "  model = cd_fast.enet_coordinate_descent(\n"
     ]
    },
    {
     "name": "stdout",
     "output_type": "stream",
     "text": [
      "[step_eval] step=215, done=3, total=6, hp_idx=1, fe_idx=3, score=2.299453\n"
     ]
    },
    {
     "name": "stderr",
     "output_type": "stream",
     "text": [
      "/Library/Frameworks/Python.framework/Versions/3.12/lib/python3.12/site-packages/sklearn/linear_model/_coordinate_descent.py:697: ConvergenceWarning: Objective did not converge. You might want to increase the number of iterations, check the scale of the features or consider increasing regularisation. Duality gap: 1.136e+00, tolerance: 6.624e-02\n",
      "  model = cd_fast.enet_coordinate_descent(\n"
     ]
    },
    {
     "name": "stdout",
     "output_type": "stream",
     "text": [
      "[step_eval] step=215, done=4, total=6, hp_idx=2, fe_idx=1, score=0.086816\n",
      "[step_eval] step=215, done=5, total=6, hp_idx=3, fe_idx=1, score=0.785775\n",
      "[step_eval] step=215, done=6, total=6, hp_idx=4, fe_idx=1, score=0.979183\n",
      "[step_done] step=215, best_score=0.086816\n",
      "[step_predict] step=216, of=299, date=2018-01-01\n",
      "[step_search_start] step=216, hp=4, fe=3, expected_evals=6\n",
      "[step_eval] step=216, done=1, total=6, hp_idx=1, fe_idx=1, score=1.184254\n"
     ]
    },
    {
     "name": "stderr",
     "output_type": "stream",
     "text": [
      "/Library/Frameworks/Python.framework/Versions/3.12/lib/python3.12/site-packages/sklearn/linear_model/_coordinate_descent.py:697: ConvergenceWarning: Objective did not converge. You might want to increase the number of iterations, check the scale of the features or consider increasing regularisation. Duality gap: 6.146e-01, tolerance: 6.629e-02\n",
      "  model = cd_fast.enet_coordinate_descent(\n"
     ]
    },
    {
     "name": "stdout",
     "output_type": "stream",
     "text": [
      "[step_eval] step=216, done=2, total=6, hp_idx=1, fe_idx=2, score=1.356058\n"
     ]
    },
    {
     "name": "stderr",
     "output_type": "stream",
     "text": [
      "/Library/Frameworks/Python.framework/Versions/3.12/lib/python3.12/site-packages/sklearn/linear_model/_coordinate_descent.py:697: ConvergenceWarning: Objective did not converge. You might want to increase the number of iterations, check the scale of the features or consider increasing regularisation. Duality gap: 2.293e-01, tolerance: 6.516e-02\n",
      "  model = cd_fast.enet_coordinate_descent(\n"
     ]
    },
    {
     "name": "stdout",
     "output_type": "stream",
     "text": [
      "[step_eval] step=216, done=3, total=6, hp_idx=1, fe_idx=3, score=1.428312\n",
      "[step_eval] step=216, done=4, total=6, hp_idx=2, fe_idx=1, score=1.21429\n"
     ]
    },
    {
     "name": "stderr",
     "output_type": "stream",
     "text": [
      "/Library/Frameworks/Python.framework/Versions/3.12/lib/python3.12/site-packages/sklearn/linear_model/_coordinate_descent.py:697: ConvergenceWarning: Objective did not converge. You might want to increase the number of iterations, check the scale of the features or consider increasing regularisation. Duality gap: 5.881e-01, tolerance: 6.629e-02\n",
      "  model = cd_fast.enet_coordinate_descent(\n"
     ]
    },
    {
     "name": "stdout",
     "output_type": "stream",
     "text": [
      "[step_eval] step=216, done=5, total=6, hp_idx=3, fe_idx=1, score=1.115675\n",
      "[step_eval] step=216, done=6, total=6, hp_idx=4, fe_idx=1, score=1.014956\n",
      "[step_done] step=216, best_score=1.014956\n",
      "[step_predict] step=217, of=299, date=2018-02-01\n",
      "[step_search_start] step=217, hp=4, fe=3, expected_evals=6\n",
      "[step_eval] step=217, done=1, total=6, hp_idx=1, fe_idx=1, score=0.574431\n"
     ]
    },
    {
     "name": "stderr",
     "output_type": "stream",
     "text": [
      "/Library/Frameworks/Python.framework/Versions/3.12/lib/python3.12/site-packages/sklearn/linear_model/_coordinate_descent.py:697: ConvergenceWarning: Objective did not converge. You might want to increase the number of iterations, check the scale of the features or consider increasing regularisation. Duality gap: 3.044e-01, tolerance: 6.634e-02\n",
      "  model = cd_fast.enet_coordinate_descent(\n"
     ]
    },
    {
     "name": "stdout",
     "output_type": "stream",
     "text": [
      "[step_eval] step=217, done=2, total=6, hp_idx=1, fe_idx=2, score=1.639091\n",
      "[step_eval] step=217, done=3, total=6, hp_idx=1, fe_idx=3, score=1.009159\n",
      "[step_eval] step=217, done=4, total=6, hp_idx=2, fe_idx=1, score=1.046019\n"
     ]
    },
    {
     "name": "stderr",
     "output_type": "stream",
     "text": [
      "/Library/Frameworks/Python.framework/Versions/3.12/lib/python3.12/site-packages/sklearn/linear_model/_coordinate_descent.py:697: ConvergenceWarning: Objective did not converge. You might want to increase the number of iterations, check the scale of the features or consider increasing regularisation. Duality gap: 4.462e-01, tolerance: 6.634e-02\n",
      "  model = cd_fast.enet_coordinate_descent(\n"
     ]
    },
    {
     "name": "stdout",
     "output_type": "stream",
     "text": [
      "[step_eval] step=217, done=5, total=6, hp_idx=3, fe_idx=1, score=2.264212\n",
      "[step_eval] step=217, done=6, total=6, hp_idx=4, fe_idx=1, score=2.505333\n",
      "[step_done] step=217, best_score=0.574431\n",
      "[step_predict] step=218, of=299, date=2018-03-01\n",
      "[step_search_start] step=218, hp=4, fe=3, expected_evals=6\n"
     ]
    },
    {
     "name": "stderr",
     "output_type": "stream",
     "text": [
      "/Library/Frameworks/Python.framework/Versions/3.12/lib/python3.12/site-packages/sklearn/linear_model/_coordinate_descent.py:697: ConvergenceWarning: Objective did not converge. You might want to increase the number of iterations, check the scale of the features or consider increasing regularisation. Duality gap: 9.076e-01, tolerance: 6.685e-02\n",
      "  model = cd_fast.enet_coordinate_descent(\n"
     ]
    },
    {
     "name": "stdout",
     "output_type": "stream",
     "text": [
      "[step_eval] step=218, done=1, total=6, hp_idx=1, fe_idx=1, score=1.356439\n"
     ]
    },
    {
     "name": "stderr",
     "output_type": "stream",
     "text": [
      "/Library/Frameworks/Python.framework/Versions/3.12/lib/python3.12/site-packages/sklearn/linear_model/_coordinate_descent.py:697: ConvergenceWarning: Objective did not converge. You might want to increase the number of iterations, check the scale of the features or consider increasing regularisation. Duality gap: 9.076e-01, tolerance: 6.685e-02\n",
      "  model = cd_fast.enet_coordinate_descent(\n"
     ]
    },
    {
     "name": "stdout",
     "output_type": "stream",
     "text": [
      "[step_eval] step=218, done=2, total=6, hp_idx=1, fe_idx=2, score=3.237965\n"
     ]
    },
    {
     "name": "stderr",
     "output_type": "stream",
     "text": [
      "/Library/Frameworks/Python.framework/Versions/3.12/lib/python3.12/site-packages/sklearn/linear_model/_coordinate_descent.py:697: ConvergenceWarning: Objective did not converge. You might want to increase the number of iterations, check the scale of the features or consider increasing regularisation. Duality gap: 4.162e-01, tolerance: 6.572e-02\n",
      "  model = cd_fast.enet_coordinate_descent(\n"
     ]
    },
    {
     "name": "stdout",
     "output_type": "stream",
     "text": [
      "[step_eval] step=218, done=3, total=6, hp_idx=1, fe_idx=3, score=1.414968\n",
      "[step_eval] step=218, done=4, total=6, hp_idx=2, fe_idx=1, score=1.587136\n",
      "[step_eval] step=218, done=5, total=6, hp_idx=3, fe_idx=1, score=1.530989\n"
     ]
    },
    {
     "name": "stderr",
     "output_type": "stream",
     "text": [
      "/Library/Frameworks/Python.framework/Versions/3.12/lib/python3.12/site-packages/sklearn/linear_model/_coordinate_descent.py:697: ConvergenceWarning: Objective did not converge. You might want to increase the number of iterations, check the scale of the features or consider increasing regularisation. Duality gap: 5.300e-01, tolerance: 6.685e-02\n",
      "  model = cd_fast.enet_coordinate_descent(\n"
     ]
    },
    {
     "name": "stdout",
     "output_type": "stream",
     "text": [
      "[step_eval] step=218, done=6, total=6, hp_idx=4, fe_idx=1, score=1.118989\n",
      "[step_done] step=218, best_score=1.118989\n",
      "[step_predict] step=219, of=299, date=2018-04-01\n",
      "[step_search_start] step=219, hp=4, fe=3, expected_evals=6\n",
      "[step_eval] step=219, done=1, total=6, hp_idx=1, fe_idx=1, score=0.624769\n",
      "[step_eval] step=219, done=2, total=6, hp_idx=1, fe_idx=2, score=0.512415\n"
     ]
    },
    {
     "name": "stderr",
     "output_type": "stream",
     "text": [
      "/Library/Frameworks/Python.framework/Versions/3.12/lib/python3.12/site-packages/sklearn/linear_model/_coordinate_descent.py:697: ConvergenceWarning: Objective did not converge. You might want to increase the number of iterations, check the scale of the features or consider increasing regularisation. Duality gap: 1.991e-01, tolerance: 6.589e-02\n",
      "  model = cd_fast.enet_coordinate_descent(\n"
     ]
    },
    {
     "name": "stdout",
     "output_type": "stream",
     "text": [
      "[step_eval] step=219, done=3, total=6, hp_idx=1, fe_idx=3, score=0.458424\n"
     ]
    },
    {
     "name": "stderr",
     "output_type": "stream",
     "text": [
      "/Library/Frameworks/Python.framework/Versions/3.12/lib/python3.12/site-packages/sklearn/linear_model/_coordinate_descent.py:697: ConvergenceWarning: Objective did not converge. You might want to increase the number of iterations, check the scale of the features or consider increasing regularisation. Duality gap: 7.223e-01, tolerance: 6.702e-02\n",
      "  model = cd_fast.enet_coordinate_descent(\n"
     ]
    },
    {
     "name": "stdout",
     "output_type": "stream",
     "text": [
      "[step_eval] step=219, done=4, total=6, hp_idx=2, fe_idx=1, score=0.484158\n",
      "[step_eval] step=219, done=5, total=6, hp_idx=3, fe_idx=1, score=0.072759\n",
      "[step_eval] step=219, done=6, total=6, hp_idx=4, fe_idx=1, score=0.315607\n",
      "[step_done] step=219, best_score=0.072759\n",
      "[step_predict] step=220, of=299, date=2018-05-01\n",
      "[step_search_start] step=220, hp=4, fe=3, expected_evals=6\n",
      "[step_eval] step=220, done=1, total=6, hp_idx=1, fe_idx=1, score=2.712359\n"
     ]
    },
    {
     "name": "stderr",
     "output_type": "stream",
     "text": [
      "/Library/Frameworks/Python.framework/Versions/3.12/lib/python3.12/site-packages/sklearn/linear_model/_coordinate_descent.py:697: ConvergenceWarning: Objective did not converge. You might want to increase the number of iterations, check the scale of the features or consider increasing regularisation. Duality gap: 2.109e-01, tolerance: 6.703e-02\n",
      "  model = cd_fast.enet_coordinate_descent(\n"
     ]
    },
    {
     "name": "stdout",
     "output_type": "stream",
     "text": [
      "[step_eval] step=220, done=2, total=6, hp_idx=1, fe_idx=2, score=2.301874\n"
     ]
    },
    {
     "name": "stderr",
     "output_type": "stream",
     "text": [
      "/Library/Frameworks/Python.framework/Versions/3.12/lib/python3.12/site-packages/sklearn/linear_model/_coordinate_descent.py:697: ConvergenceWarning: Objective did not converge. You might want to increase the number of iterations, check the scale of the features or consider increasing regularisation. Duality gap: 2.041e-01, tolerance: 6.590e-02\n",
      "  model = cd_fast.enet_coordinate_descent(\n"
     ]
    },
    {
     "name": "stdout",
     "output_type": "stream",
     "text": [
      "[step_eval] step=220, done=3, total=6, hp_idx=1, fe_idx=3, score=2.453112\n",
      "[step_eval] step=220, done=4, total=6, hp_idx=2, fe_idx=1, score=2.337278\n",
      "[step_eval] step=220, done=5, total=6, hp_idx=3, fe_idx=1, score=1.852467\n"
     ]
    },
    {
     "name": "stderr",
     "output_type": "stream",
     "text": [
      "/Library/Frameworks/Python.framework/Versions/3.12/lib/python3.12/site-packages/sklearn/linear_model/_coordinate_descent.py:697: ConvergenceWarning: Objective did not converge. You might want to increase the number of iterations, check the scale of the features or consider increasing regularisation. Duality gap: 8.209e-01, tolerance: 6.703e-02\n",
      "  model = cd_fast.enet_coordinate_descent(\n"
     ]
    },
    {
     "name": "stdout",
     "output_type": "stream",
     "text": [
      "[step_eval] step=220, done=6, total=6, hp_idx=4, fe_idx=1, score=1.547731\n",
      "[step_done] step=220, best_score=1.547731\n",
      "[step_predict] step=221, of=299, date=2018-06-01\n",
      "[step_search_start] step=221, hp=4, fe=3, expected_evals=6\n",
      "[step_eval] step=221, done=1, total=6, hp_idx=1, fe_idx=1, score=1.272477\n"
     ]
    },
    {
     "name": "stderr",
     "output_type": "stream",
     "text": [
      "/Library/Frameworks/Python.framework/Versions/3.12/lib/python3.12/site-packages/sklearn/linear_model/_coordinate_descent.py:697: ConvergenceWarning: Objective did not converge. You might want to increase the number of iterations, check the scale of the features or consider increasing regularisation. Duality gap: 3.270e-01, tolerance: 6.729e-02\n",
      "  model = cd_fast.enet_coordinate_descent(\n"
     ]
    },
    {
     "name": "stdout",
     "output_type": "stream",
     "text": [
      "[step_eval] step=221, done=2, total=6, hp_idx=1, fe_idx=2, score=1.145854\n",
      "[step_eval] step=221, done=3, total=6, hp_idx=1, fe_idx=3, score=0.334109\n"
     ]
    },
    {
     "name": "stderr",
     "output_type": "stream",
     "text": [
      "/Library/Frameworks/Python.framework/Versions/3.12/lib/python3.12/site-packages/sklearn/linear_model/_coordinate_descent.py:697: ConvergenceWarning: Objective did not converge. You might want to increase the number of iterations, check the scale of the features or consider increasing regularisation. Duality gap: 4.707e-01, tolerance: 6.729e-02\n",
      "  model = cd_fast.enet_coordinate_descent(\n"
     ]
    },
    {
     "name": "stdout",
     "output_type": "stream",
     "text": [
      "[step_eval] step=221, done=4, total=6, hp_idx=2, fe_idx=1, score=0.313539\n",
      "[step_eval] step=221, done=5, total=6, hp_idx=3, fe_idx=1, score=0.518903\n",
      "[step_eval] step=221, done=6, total=6, hp_idx=4, fe_idx=1, score=0.614103\n",
      "[step_done] step=221, best_score=0.313539\n",
      "[step_predict] step=222, of=299, date=2018-07-01\n",
      "[step_search_start] step=222, hp=4, fe=3, expected_evals=6\n",
      "[step_eval] step=222, done=1, total=6, hp_idx=1, fe_idx=1, score=0.42295\n"
     ]
    },
    {
     "name": "stderr",
     "output_type": "stream",
     "text": [
      "/Library/Frameworks/Python.framework/Versions/3.12/lib/python3.12/site-packages/sklearn/linear_model/_coordinate_descent.py:697: ConvergenceWarning: Objective did not converge. You might want to increase the number of iterations, check the scale of the features or consider increasing regularisation. Duality gap: 4.837e-01, tolerance: 6.732e-02\n",
      "  model = cd_fast.enet_coordinate_descent(\n"
     ]
    },
    {
     "name": "stdout",
     "output_type": "stream",
     "text": [
      "[step_eval] step=222, done=2, total=6, hp_idx=1, fe_idx=2, score=0.11918\n"
     ]
    },
    {
     "name": "stderr",
     "output_type": "stream",
     "text": [
      "/Library/Frameworks/Python.framework/Versions/3.12/lib/python3.12/site-packages/sklearn/linear_model/_coordinate_descent.py:697: ConvergenceWarning: Objective did not converge. You might want to increase the number of iterations, check the scale of the features or consider increasing regularisation. Duality gap: 2.533e-01, tolerance: 6.619e-02\n",
      "  model = cd_fast.enet_coordinate_descent(\n"
     ]
    },
    {
     "name": "stdout",
     "output_type": "stream",
     "text": [
      "[step_eval] step=222, done=3, total=6, hp_idx=1, fe_idx=3, score=0.918178\n",
      "[step_eval] step=222, done=4, total=6, hp_idx=2, fe_idx=1, score=0.683989\n"
     ]
    },
    {
     "name": "stderr",
     "output_type": "stream",
     "text": [
      "/Library/Frameworks/Python.framework/Versions/3.12/lib/python3.12/site-packages/sklearn/linear_model/_coordinate_descent.py:697: ConvergenceWarning: Objective did not converge. You might want to increase the number of iterations, check the scale of the features or consider increasing regularisation. Duality gap: 5.838e-01, tolerance: 6.732e-02\n",
      "  model = cd_fast.enet_coordinate_descent(\n"
     ]
    },
    {
     "name": "stdout",
     "output_type": "stream",
     "text": [
      "[step_eval] step=222, done=5, total=6, hp_idx=3, fe_idx=1, score=1.342497\n",
      "[step_eval] step=222, done=6, total=6, hp_idx=4, fe_idx=1, score=1.515683\n",
      "[step_done] step=222, best_score=0.11918\n",
      "[step_predict] step=223, of=299, date=2018-08-01\n",
      "[step_search_start] step=223, hp=4, fe=3, expected_evals=6\n"
     ]
    },
    {
     "name": "stderr",
     "output_type": "stream",
     "text": [
      "/Library/Frameworks/Python.framework/Versions/3.12/lib/python3.12/site-packages/sklearn/linear_model/_coordinate_descent.py:697: ConvergenceWarning: Objective did not converge. You might want to increase the number of iterations, check the scale of the features or consider increasing regularisation. Duality gap: 9.681e-01, tolerance: 6.641e-02\n",
      "  model = cd_fast.enet_coordinate_descent(\n"
     ]
    },
    {
     "name": "stdout",
     "output_type": "stream",
     "text": [
      "[step_eval] step=223, done=1, total=6, hp_idx=1, fe_idx=1, score=2.658066\n"
     ]
    },
    {
     "name": "stderr",
     "output_type": "stream",
     "text": [
      "/Library/Frameworks/Python.framework/Versions/3.12/lib/python3.12/site-packages/sklearn/linear_model/_coordinate_descent.py:697: ConvergenceWarning: Objective did not converge. You might want to increase the number of iterations, check the scale of the features or consider increasing regularisation. Duality gap: 4.763e-01, tolerance: 6.754e-02\n",
      "  model = cd_fast.enet_coordinate_descent(\n"
     ]
    },
    {
     "name": "stdout",
     "output_type": "stream",
     "text": [
      "[step_eval] step=223, done=2, total=6, hp_idx=1, fe_idx=2, score=1.908849\n"
     ]
    },
    {
     "name": "stderr",
     "output_type": "stream",
     "text": [
      "/Library/Frameworks/Python.framework/Versions/3.12/lib/python3.12/site-packages/sklearn/linear_model/_coordinate_descent.py:697: ConvergenceWarning: Objective did not converge. You might want to increase the number of iterations, check the scale of the features or consider increasing regularisation. Duality gap: 9.681e-01, tolerance: 6.641e-02\n",
      "  model = cd_fast.enet_coordinate_descent(\n"
     ]
    },
    {
     "name": "stdout",
     "output_type": "stream",
     "text": [
      "[step_eval] step=223, done=3, total=6, hp_idx=1, fe_idx=3, score=1.196337\n"
     ]
    },
    {
     "name": "stderr",
     "output_type": "stream",
     "text": [
      "/Library/Frameworks/Python.framework/Versions/3.12/lib/python3.12/site-packages/sklearn/linear_model/_coordinate_descent.py:697: ConvergenceWarning: Objective did not converge. You might want to increase the number of iterations, check the scale of the features or consider increasing regularisation. Duality gap: 7.633e-01, tolerance: 6.754e-02\n",
      "  model = cd_fast.enet_coordinate_descent(\n"
     ]
    },
    {
     "name": "stdout",
     "output_type": "stream",
     "text": [
      "[step_eval] step=223, done=4, total=6, hp_idx=2, fe_idx=1, score=1.58926\n",
      "[step_eval] step=223, done=5, total=6, hp_idx=3, fe_idx=1, score=1.454341\n",
      "[step_eval] step=223, done=6, total=6, hp_idx=4, fe_idx=1, score=1.143089\n",
      "[step_done] step=223, best_score=1.143089\n",
      "[step_predict] step=224, of=299, date=2018-09-01\n",
      "[step_search_start] step=224, hp=4, fe=3, expected_evals=6\n",
      "[step_eval] step=224, done=1, total=6, hp_idx=1, fe_idx=1, score=0.44701\n"
     ]
    },
    {
     "name": "stderr",
     "output_type": "stream",
     "text": [
      "/Library/Frameworks/Python.framework/Versions/3.12/lib/python3.12/site-packages/sklearn/linear_model/_coordinate_descent.py:697: ConvergenceWarning: Objective did not converge. You might want to increase the number of iterations, check the scale of the features or consider increasing regularisation. Duality gap: 1.976e-01, tolerance: 6.765e-02\n",
      "  model = cd_fast.enet_coordinate_descent(\n"
     ]
    },
    {
     "name": "stdout",
     "output_type": "stream",
     "text": [
      "[step_eval] step=224, done=2, total=6, hp_idx=1, fe_idx=2, score=0.432634\n"
     ]
    },
    {
     "name": "stderr",
     "output_type": "stream",
     "text": [
      "/Library/Frameworks/Python.framework/Versions/3.12/lib/python3.12/site-packages/sklearn/linear_model/_coordinate_descent.py:697: ConvergenceWarning: Objective did not converge. You might want to increase the number of iterations, check the scale of the features or consider increasing regularisation. Duality gap: 1.200e+00, tolerance: 6.652e-02\n",
      "  model = cd_fast.enet_coordinate_descent(\n"
     ]
    },
    {
     "name": "stdout",
     "output_type": "stream",
     "text": [
      "[step_eval] step=224, done=3, total=6, hp_idx=1, fe_idx=3, score=1.215064\n"
     ]
    },
    {
     "name": "stderr",
     "output_type": "stream",
     "text": [
      "/Library/Frameworks/Python.framework/Versions/3.12/lib/python3.12/site-packages/sklearn/linear_model/_coordinate_descent.py:697: ConvergenceWarning: Objective did not converge. You might want to increase the number of iterations, check the scale of the features or consider increasing regularisation. Duality gap: 6.827e-01, tolerance: 6.765e-02\n",
      "  model = cd_fast.enet_coordinate_descent(\n"
     ]
    },
    {
     "name": "stdout",
     "output_type": "stream",
     "text": [
      "[step_eval] step=224, done=4, total=6, hp_idx=2, fe_idx=1, score=0.297211\n",
      "[step_eval] step=224, done=5, total=6, hp_idx=3, fe_idx=1, score=0.432585\n",
      "[step_eval] step=224, done=6, total=6, hp_idx=4, fe_idx=1, score=0.663907\n",
      "[step_done] step=224, best_score=0.297211\n",
      "[step_predict] step=225, of=299, date=2018-10-01\n",
      "[step_search_start] step=225, hp=4, fe=3, expected_evals=6\n",
      "[step_eval] step=225, done=1, total=6, hp_idx=1, fe_idx=1, score=1.851232\n"
     ]
    },
    {
     "name": "stderr",
     "output_type": "stream",
     "text": [
      "/Library/Frameworks/Python.framework/Versions/3.12/lib/python3.12/site-packages/sklearn/linear_model/_coordinate_descent.py:697: ConvergenceWarning: Objective did not converge. You might want to increase the number of iterations, check the scale of the features or consider increasing regularisation. Duality gap: 1.378e-01, tolerance: 6.771e-02\n",
      "  model = cd_fast.enet_coordinate_descent(\n"
     ]
    },
    {
     "name": "stdout",
     "output_type": "stream",
     "text": [
      "[step_eval] step=225, done=2, total=6, hp_idx=1, fe_idx=2, score=0.256921\n"
     ]
    },
    {
     "name": "stderr",
     "output_type": "stream",
     "text": [
      "/Library/Frameworks/Python.framework/Versions/3.12/lib/python3.12/site-packages/sklearn/linear_model/_coordinate_descent.py:697: ConvergenceWarning: Objective did not converge. You might want to increase the number of iterations, check the scale of the features or consider increasing regularisation. Duality gap: 8.185e-01, tolerance: 6.657e-02\n",
      "  model = cd_fast.enet_coordinate_descent(\n"
     ]
    },
    {
     "name": "stdout",
     "output_type": "stream",
     "text": [
      "[step_eval] step=225, done=3, total=6, hp_idx=1, fe_idx=3, score=0.426205\n"
     ]
    },
    {
     "name": "stderr",
     "output_type": "stream",
     "text": [
      "/Library/Frameworks/Python.framework/Versions/3.12/lib/python3.12/site-packages/sklearn/linear_model/_coordinate_descent.py:697: ConvergenceWarning: Objective did not converge. You might want to increase the number of iterations, check the scale of the features or consider increasing regularisation. Duality gap: 6.947e-01, tolerance: 6.771e-02\n",
      "  model = cd_fast.enet_coordinate_descent(\n"
     ]
    },
    {
     "name": "stdout",
     "output_type": "stream",
     "text": [
      "[step_eval] step=225, done=4, total=6, hp_idx=2, fe_idx=1, score=0.557176\n",
      "[step_eval] step=225, done=5, total=6, hp_idx=3, fe_idx=1, score=0.039204\n",
      "[step_eval] step=225, done=6, total=6, hp_idx=4, fe_idx=1, score=0.291091\n",
      "[step_done] step=225, best_score=0.039204\n",
      "[step_predict] step=226, of=299, date=2018-11-01\n",
      "[step_search_start] step=226, hp=4, fe=3, expected_evals=6\n",
      "[step_eval] step=226, done=1, total=6, hp_idx=1, fe_idx=1, score=0.703747\n"
     ]
    },
    {
     "name": "stderr",
     "output_type": "stream",
     "text": [
      "/Library/Frameworks/Python.framework/Versions/3.12/lib/python3.12/site-packages/sklearn/linear_model/_coordinate_descent.py:697: ConvergenceWarning: Objective did not converge. You might want to increase the number of iterations, check the scale of the features or consider increasing regularisation. Duality gap: 3.199e-01, tolerance: 6.774e-02\n",
      "  model = cd_fast.enet_coordinate_descent(\n"
     ]
    },
    {
     "name": "stdout",
     "output_type": "stream",
     "text": [
      "[step_eval] step=226, done=2, total=6, hp_idx=1, fe_idx=2, score=0.275106\n"
     ]
    },
    {
     "name": "stderr",
     "output_type": "stream",
     "text": [
      "/Library/Frameworks/Python.framework/Versions/3.12/lib/python3.12/site-packages/sklearn/linear_model/_coordinate_descent.py:697: ConvergenceWarning: Objective did not converge. You might want to increase the number of iterations, check the scale of the features or consider increasing regularisation. Duality gap: 9.444e-01, tolerance: 6.661e-02\n",
      "  model = cd_fast.enet_coordinate_descent(\n"
     ]
    },
    {
     "name": "stdout",
     "output_type": "stream",
     "text": [
      "[step_eval] step=226, done=3, total=6, hp_idx=1, fe_idx=3, score=0.10482\n"
     ]
    },
    {
     "name": "stderr",
     "output_type": "stream",
     "text": [
      "/Library/Frameworks/Python.framework/Versions/3.12/lib/python3.12/site-packages/sklearn/linear_model/_coordinate_descent.py:697: ConvergenceWarning: Objective did not converge. You might want to increase the number of iterations, check the scale of the features or consider increasing regularisation. Duality gap: 9.748e-01, tolerance: 6.774e-02\n",
      "  model = cd_fast.enet_coordinate_descent(\n"
     ]
    },
    {
     "name": "stdout",
     "output_type": "stream",
     "text": [
      "[step_eval] step=226, done=4, total=6, hp_idx=2, fe_idx=1, score=0.014571\n",
      "[step_eval] step=226, done=5, total=6, hp_idx=3, fe_idx=1, score=0.97848\n",
      "[step_eval] step=226, done=6, total=6, hp_idx=4, fe_idx=1, score=1.358781\n",
      "[step_done] step=226, best_score=0.014571\n",
      "[step_predict] step=227, of=299, date=2018-12-01\n",
      "[step_search_start] step=227, hp=4, fe=3, expected_evals=6\n",
      "[step_eval] step=227, done=1, total=6, hp_idx=1, fe_idx=1, score=0.699629\n"
     ]
    },
    {
     "name": "stderr",
     "output_type": "stream",
     "text": [
      "/Library/Frameworks/Python.framework/Versions/3.12/lib/python3.12/site-packages/sklearn/linear_model/_coordinate_descent.py:697: ConvergenceWarning: Objective did not converge. You might want to increase the number of iterations, check the scale of the features or consider increasing regularisation. Duality gap: 5.979e-01, tolerance: 6.806e-02\n",
      "  model = cd_fast.enet_coordinate_descent(\n"
     ]
    },
    {
     "name": "stdout",
     "output_type": "stream",
     "text": [
      "[step_eval] step=227, done=2, total=6, hp_idx=1, fe_idx=2, score=1.624148\n"
     ]
    },
    {
     "name": "stderr",
     "output_type": "stream",
     "text": [
      "/Library/Frameworks/Python.framework/Versions/3.12/lib/python3.12/site-packages/sklearn/linear_model/_coordinate_descent.py:697: ConvergenceWarning: Objective did not converge. You might want to increase the number of iterations, check the scale of the features or consider increasing regularisation. Duality gap: 1.499e+00, tolerance: 6.693e-02\n",
      "  model = cd_fast.enet_coordinate_descent(\n"
     ]
    },
    {
     "name": "stdout",
     "output_type": "stream",
     "text": [
      "[step_eval] step=227, done=3, total=6, hp_idx=1, fe_idx=3, score=0.60757\n"
     ]
    },
    {
     "name": "stderr",
     "output_type": "stream",
     "text": [
      "/Library/Frameworks/Python.framework/Versions/3.12/lib/python3.12/site-packages/sklearn/linear_model/_coordinate_descent.py:697: ConvergenceWarning: Objective did not converge. You might want to increase the number of iterations, check the scale of the features or consider increasing regularisation. Duality gap: 7.938e-01, tolerance: 6.806e-02\n",
      "  model = cd_fast.enet_coordinate_descent(\n"
     ]
    },
    {
     "name": "stdout",
     "output_type": "stream",
     "text": [
      "[step_eval] step=227, done=4, total=6, hp_idx=2, fe_idx=1, score=0.736646\n",
      "[step_eval] step=227, done=5, total=6, hp_idx=3, fe_idx=1, score=1.209873\n",
      "[step_eval] step=227, done=6, total=6, hp_idx=4, fe_idx=1, score=1.339726\n",
      "[step_done] step=227, best_score=0.60757\n",
      "[step_predict] step=228, of=299, date=2019-01-01\n",
      "[step_search_start] step=228, hp=4, fe=3, expected_evals=6\n"
     ]
    },
    {
     "name": "stderr",
     "output_type": "stream",
     "text": [
      "/Library/Frameworks/Python.framework/Versions/3.12/lib/python3.12/site-packages/sklearn/linear_model/_coordinate_descent.py:697: ConvergenceWarning: Objective did not converge. You might want to increase the number of iterations, check the scale of the features or consider increasing regularisation. Duality gap: 1.069e+00, tolerance: 6.822e-02\n",
      "  model = cd_fast.enet_coordinate_descent(\n"
     ]
    },
    {
     "name": "stdout",
     "output_type": "stream",
     "text": [
      "[step_eval] step=228, done=1, total=6, hp_idx=1, fe_idx=1, score=0.55528\n"
     ]
    },
    {
     "name": "stderr",
     "output_type": "stream",
     "text": [
      "/Library/Frameworks/Python.framework/Versions/3.12/lib/python3.12/site-packages/sklearn/linear_model/_coordinate_descent.py:697: ConvergenceWarning: Objective did not converge. You might want to increase the number of iterations, check the scale of the features or consider increasing regularisation. Duality gap: 4.140e-01, tolerance: 6.822e-02\n",
      "  model = cd_fast.enet_coordinate_descent(\n"
     ]
    },
    {
     "name": "stdout",
     "output_type": "stream",
     "text": [
      "[step_eval] step=228, done=2, total=6, hp_idx=1, fe_idx=2, score=0.864292\n"
     ]
    },
    {
     "name": "stderr",
     "output_type": "stream",
     "text": [
      "/Library/Frameworks/Python.framework/Versions/3.12/lib/python3.12/site-packages/sklearn/linear_model/_coordinate_descent.py:697: ConvergenceWarning: Objective did not converge. You might want to increase the number of iterations, check the scale of the features or consider increasing regularisation. Duality gap: 1.636e+00, tolerance: 6.708e-02\n",
      "  model = cd_fast.enet_coordinate_descent(\n"
     ]
    },
    {
     "name": "stdout",
     "output_type": "stream",
     "text": [
      "[step_eval] step=228, done=3, total=6, hp_idx=1, fe_idx=3, score=1.013451\n"
     ]
    },
    {
     "name": "stderr",
     "output_type": "stream",
     "text": [
      "/Library/Frameworks/Python.framework/Versions/3.12/lib/python3.12/site-packages/sklearn/linear_model/_coordinate_descent.py:697: ConvergenceWarning: Objective did not converge. You might want to increase the number of iterations, check the scale of the features or consider increasing regularisation. Duality gap: 1.069e+00, tolerance: 6.822e-02\n",
      "  model = cd_fast.enet_coordinate_descent(\n"
     ]
    },
    {
     "name": "stdout",
     "output_type": "stream",
     "text": [
      "[step_eval] step=228, done=4, total=6, hp_idx=2, fe_idx=1, score=0.503293\n",
      "[step_eval] step=228, done=5, total=6, hp_idx=3, fe_idx=1, score=0.191907\n",
      "[step_eval] step=228, done=6, total=6, hp_idx=4, fe_idx=1, score=0.093806\n",
      "[step_done] step=228, best_score=0.093806\n",
      "[step_predict] step=229, of=299, date=2019-02-01\n",
      "[step_search_start] step=229, hp=4, fe=3, expected_evals=6\n",
      "[step_eval] step=229, done=1, total=6, hp_idx=1, fe_idx=1, score=0.148549\n"
     ]
    },
    {
     "name": "stderr",
     "output_type": "stream",
     "text": [
      "/Library/Frameworks/Python.framework/Versions/3.12/lib/python3.12/site-packages/sklearn/linear_model/_coordinate_descent.py:697: ConvergenceWarning: Objective did not converge. You might want to increase the number of iterations, check the scale of the features or consider increasing regularisation. Duality gap: 6.449e-01, tolerance: 6.825e-02\n",
      "  model = cd_fast.enet_coordinate_descent(\n"
     ]
    },
    {
     "name": "stdout",
     "output_type": "stream",
     "text": [
      "[step_eval] step=229, done=2, total=6, hp_idx=1, fe_idx=2, score=2.836567\n"
     ]
    },
    {
     "name": "stderr",
     "output_type": "stream",
     "text": [
      "/Library/Frameworks/Python.framework/Versions/3.12/lib/python3.12/site-packages/sklearn/linear_model/_coordinate_descent.py:697: ConvergenceWarning: Objective did not converge. You might want to increase the number of iterations, check the scale of the features or consider increasing regularisation. Duality gap: 2.101e+00, tolerance: 6.712e-02\n",
      "  model = cd_fast.enet_coordinate_descent(\n"
     ]
    },
    {
     "name": "stdout",
     "output_type": "stream",
     "text": [
      "[step_eval] step=229, done=3, total=6, hp_idx=1, fe_idx=3, score=0.216203\n"
     ]
    },
    {
     "name": "stderr",
     "output_type": "stream",
     "text": [
      "/Library/Frameworks/Python.framework/Versions/3.12/lib/python3.12/site-packages/sklearn/linear_model/_coordinate_descent.py:697: ConvergenceWarning: Objective did not converge. You might want to increase the number of iterations, check the scale of the features or consider increasing regularisation. Duality gap: 8.047e-01, tolerance: 6.825e-02\n",
      "  model = cd_fast.enet_coordinate_descent(\n"
     ]
    },
    {
     "name": "stdout",
     "output_type": "stream",
     "text": [
      "[step_eval] step=229, done=4, total=6, hp_idx=2, fe_idx=1, score=0.165022\n",
      "[step_eval] step=229, done=5, total=6, hp_idx=3, fe_idx=1, score=0.147721\n",
      "[step_eval] step=229, done=6, total=6, hp_idx=4, fe_idx=1, score=0.066819\n",
      "[step_done] step=229, best_score=0.066819\n",
      "[step_predict] step=230, of=299, date=2019-03-01\n",
      "[step_search_start] step=230, hp=4, fe=3, expected_evals=6\n",
      "[step_eval] step=230, done=1, total=6, hp_idx=1, fe_idx=1, score=2.730004\n"
     ]
    },
    {
     "name": "stderr",
     "output_type": "stream",
     "text": [
      "/Library/Frameworks/Python.framework/Versions/3.12/lib/python3.12/site-packages/sklearn/linear_model/_coordinate_descent.py:697: ConvergenceWarning: Objective did not converge. You might want to increase the number of iterations, check the scale of the features or consider increasing regularisation. Duality gap: 3.949e-01, tolerance: 6.825e-02\n",
      "  model = cd_fast.enet_coordinate_descent(\n"
     ]
    },
    {
     "name": "stdout",
     "output_type": "stream",
     "text": [
      "[step_eval] step=230, done=2, total=6, hp_idx=1, fe_idx=2, score=1.203901\n"
     ]
    },
    {
     "name": "stderr",
     "output_type": "stream",
     "text": [
      "/Library/Frameworks/Python.framework/Versions/3.12/lib/python3.12/site-packages/sklearn/linear_model/_coordinate_descent.py:697: ConvergenceWarning: Objective did not converge. You might want to increase the number of iterations, check the scale of the features or consider increasing regularisation. Duality gap: 2.247e+00, tolerance: 6.712e-02\n",
      "  model = cd_fast.enet_coordinate_descent(\n"
     ]
    },
    {
     "name": "stdout",
     "output_type": "stream",
     "text": [
      "[step_eval] step=230, done=3, total=6, hp_idx=1, fe_idx=3, score=0.995539\n"
     ]
    },
    {
     "name": "stderr",
     "output_type": "stream",
     "text": [
      "/Library/Frameworks/Python.framework/Versions/3.12/lib/python3.12/site-packages/sklearn/linear_model/_coordinate_descent.py:697: ConvergenceWarning: Objective did not converge. You might want to increase the number of iterations, check the scale of the features or consider increasing regularisation. Duality gap: 8.628e-01, tolerance: 6.825e-02\n",
      "  model = cd_fast.enet_coordinate_descent(\n"
     ]
    },
    {
     "name": "stdout",
     "output_type": "stream",
     "text": [
      "[step_eval] step=230, done=4, total=6, hp_idx=2, fe_idx=1, score=1.14879\n",
      "[step_eval] step=230, done=5, total=6, hp_idx=3, fe_idx=1, score=1.243643\n",
      "[step_eval] step=230, done=6, total=6, hp_idx=4, fe_idx=1, score=1.207939\n",
      "[step_done] step=230, best_score=0.995539\n",
      "[step_predict] step=231, of=299, date=2019-04-01\n",
      "[step_search_start] step=231, hp=4, fe=3, expected_evals=6\n"
     ]
    },
    {
     "name": "stderr",
     "output_type": "stream",
     "text": [
      "/Library/Frameworks/Python.framework/Versions/3.12/lib/python3.12/site-packages/sklearn/linear_model/_coordinate_descent.py:697: ConvergenceWarning: Objective did not converge. You might want to increase the number of iterations, check the scale of the features or consider increasing regularisation. Duality gap: 8.577e-01, tolerance: 6.832e-02\n",
      "  model = cd_fast.enet_coordinate_descent(\n"
     ]
    },
    {
     "name": "stdout",
     "output_type": "stream",
     "text": [
      "[step_eval] step=231, done=1, total=6, hp_idx=1, fe_idx=1, score=2.331911\n"
     ]
    },
    {
     "name": "stderr",
     "output_type": "stream",
     "text": [
      "/Library/Frameworks/Python.framework/Versions/3.12/lib/python3.12/site-packages/sklearn/linear_model/_coordinate_descent.py:697: ConvergenceWarning: Objective did not converge. You might want to increase the number of iterations, check the scale of the features or consider increasing regularisation. Duality gap: 4.622e-01, tolerance: 6.832e-02\n",
      "  model = cd_fast.enet_coordinate_descent(\n"
     ]
    },
    {
     "name": "stdout",
     "output_type": "stream",
     "text": [
      "[step_eval] step=231, done=2, total=6, hp_idx=1, fe_idx=2, score=1.519032\n"
     ]
    },
    {
     "name": "stderr",
     "output_type": "stream",
     "text": [
      "/Library/Frameworks/Python.framework/Versions/3.12/lib/python3.12/site-packages/sklearn/linear_model/_coordinate_descent.py:697: ConvergenceWarning: Objective did not converge. You might want to increase the number of iterations, check the scale of the features or consider increasing regularisation. Duality gap: 2.598e+00, tolerance: 6.719e-02\n",
      "  model = cd_fast.enet_coordinate_descent(\n"
     ]
    },
    {
     "name": "stdout",
     "output_type": "stream",
     "text": [
      "[step_eval] step=231, done=3, total=6, hp_idx=1, fe_idx=3, score=0.462287\n"
     ]
    },
    {
     "name": "stderr",
     "output_type": "stream",
     "text": [
      "/Library/Frameworks/Python.framework/Versions/3.12/lib/python3.12/site-packages/sklearn/linear_model/_coordinate_descent.py:697: ConvergenceWarning: Objective did not converge. You might want to increase the number of iterations, check the scale of the features or consider increasing regularisation. Duality gap: 8.577e-01, tolerance: 6.832e-02\n",
      "  model = cd_fast.enet_coordinate_descent(\n"
     ]
    },
    {
     "name": "stdout",
     "output_type": "stream",
     "text": [
      "[step_eval] step=231, done=4, total=6, hp_idx=2, fe_idx=1, score=0.615043\n",
      "[step_eval] step=231, done=5, total=6, hp_idx=3, fe_idx=1, score=0.82721\n",
      "[step_eval] step=231, done=6, total=6, hp_idx=4, fe_idx=1, score=0.902511\n",
      "[step_done] step=231, best_score=0.462287\n",
      "[step_predict] step=232, of=299, date=2019-05-01\n",
      "[step_search_start] step=232, hp=4, fe=3, expected_evals=6\n"
     ]
    },
    {
     "name": "stderr",
     "output_type": "stream",
     "text": [
      "/Library/Frameworks/Python.framework/Versions/3.12/lib/python3.12/site-packages/sklearn/linear_model/_coordinate_descent.py:697: ConvergenceWarning: Objective did not converge. You might want to increase the number of iterations, check the scale of the features or consider increasing regularisation. Duality gap: 7.330e-01, tolerance: 6.850e-02\n",
      "  model = cd_fast.enet_coordinate_descent(\n"
     ]
    },
    {
     "name": "stdout",
     "output_type": "stream",
     "text": [
      "[step_eval] step=232, done=1, total=6, hp_idx=1, fe_idx=1, score=1.637338\n"
     ]
    },
    {
     "name": "stderr",
     "output_type": "stream",
     "text": [
      "/Library/Frameworks/Python.framework/Versions/3.12/lib/python3.12/site-packages/sklearn/linear_model/_coordinate_descent.py:697: ConvergenceWarning: Objective did not converge. You might want to increase the number of iterations, check the scale of the features or consider increasing regularisation. Duality gap: 4.428e-01, tolerance: 6.850e-02\n",
      "  model = cd_fast.enet_coordinate_descent(\n"
     ]
    },
    {
     "name": "stdout",
     "output_type": "stream",
     "text": [
      "[step_eval] step=232, done=2, total=6, hp_idx=1, fe_idx=2, score=0.164681\n"
     ]
    },
    {
     "name": "stderr",
     "output_type": "stream",
     "text": [
      "/Library/Frameworks/Python.framework/Versions/3.12/lib/python3.12/site-packages/sklearn/linear_model/_coordinate_descent.py:697: ConvergenceWarning: Objective did not converge. You might want to increase the number of iterations, check the scale of the features or consider increasing regularisation. Duality gap: 2.488e+00, tolerance: 6.737e-02\n",
      "  model = cd_fast.enet_coordinate_descent(\n"
     ]
    },
    {
     "name": "stdout",
     "output_type": "stream",
     "text": [
      "[step_eval] step=232, done=3, total=6, hp_idx=1, fe_idx=3, score=0.008059\n"
     ]
    },
    {
     "name": "stderr",
     "output_type": "stream",
     "text": [
      "/Library/Frameworks/Python.framework/Versions/3.12/lib/python3.12/site-packages/sklearn/linear_model/_coordinate_descent.py:697: ConvergenceWarning: Objective did not converge. You might want to increase the number of iterations, check the scale of the features or consider increasing regularisation. Duality gap: 7.330e-01, tolerance: 6.850e-02\n",
      "  model = cd_fast.enet_coordinate_descent(\n"
     ]
    },
    {
     "name": "stdout",
     "output_type": "stream",
     "text": [
      "[step_eval] step=232, done=4, total=6, hp_idx=2, fe_idx=1, score=0.280799\n",
      "[step_eval] step=232, done=5, total=6, hp_idx=3, fe_idx=1, score=0.376599\n",
      "[step_eval] step=232, done=6, total=6, hp_idx=4, fe_idx=1, score=0.327368\n",
      "[step_done] step=232, best_score=0.008059\n",
      "[step_predict] step=233, of=299, date=2019-06-01\n",
      "[step_search_start] step=233, hp=4, fe=3, expected_evals=6\n"
     ]
    },
    {
     "name": "stderr",
     "output_type": "stream",
     "text": [
      "/Library/Frameworks/Python.framework/Versions/3.12/lib/python3.12/site-packages/sklearn/linear_model/_coordinate_descent.py:697: ConvergenceWarning: Objective did not converge. You might want to increase the number of iterations, check the scale of the features or consider increasing regularisation. Duality gap: 7.110e-01, tolerance: 6.850e-02\n",
      "  model = cd_fast.enet_coordinate_descent(\n"
     ]
    },
    {
     "name": "stdout",
     "output_type": "stream",
     "text": [
      "[step_eval] step=233, done=1, total=6, hp_idx=1, fe_idx=1, score=1.595078\n"
     ]
    },
    {
     "name": "stderr",
     "output_type": "stream",
     "text": [
      "/Library/Frameworks/Python.framework/Versions/3.12/lib/python3.12/site-packages/sklearn/linear_model/_coordinate_descent.py:697: ConvergenceWarning: Objective did not converge. You might want to increase the number of iterations, check the scale of the features or consider increasing regularisation. Duality gap: 3.699e-01, tolerance: 6.850e-02\n",
      "  model = cd_fast.enet_coordinate_descent(\n"
     ]
    },
    {
     "name": "stdout",
     "output_type": "stream",
     "text": [
      "[step_eval] step=233, done=2, total=6, hp_idx=1, fe_idx=2, score=1.317356\n"
     ]
    },
    {
     "name": "stderr",
     "output_type": "stream",
     "text": [
      "/Library/Frameworks/Python.framework/Versions/3.12/lib/python3.12/site-packages/sklearn/linear_model/_coordinate_descent.py:697: ConvergenceWarning: Objective did not converge. You might want to increase the number of iterations, check the scale of the features or consider increasing regularisation. Duality gap: 2.576e+00, tolerance: 6.737e-02\n",
      "  model = cd_fast.enet_coordinate_descent(\n"
     ]
    },
    {
     "name": "stdout",
     "output_type": "stream",
     "text": [
      "[step_eval] step=233, done=3, total=6, hp_idx=1, fe_idx=3, score=2.089664\n"
     ]
    },
    {
     "name": "stderr",
     "output_type": "stream",
     "text": [
      "/Library/Frameworks/Python.framework/Versions/3.12/lib/python3.12/site-packages/sklearn/linear_model/_coordinate_descent.py:697: ConvergenceWarning: Objective did not converge. You might want to increase the number of iterations, check the scale of the features or consider increasing regularisation. Duality gap: 7.110e-01, tolerance: 6.850e-02\n",
      "  model = cd_fast.enet_coordinate_descent(\n"
     ]
    },
    {
     "name": "stdout",
     "output_type": "stream",
     "text": [
      "[step_eval] step=233, done=4, total=6, hp_idx=2, fe_idx=1, score=1.188743\n",
      "[step_eval] step=233, done=5, total=6, hp_idx=3, fe_idx=1, score=0.578195\n",
      "[step_eval] step=233, done=6, total=6, hp_idx=4, fe_idx=1, score=0.932463\n",
      "[step_done] step=233, best_score=0.578195\n",
      "[step_predict] step=234, of=299, date=2019-07-01\n",
      "[step_search_start] step=234, hp=4, fe=3, expected_evals=6\n",
      "[step_eval] step=234, done=1, total=6, hp_idx=1, fe_idx=1, score=1.198181\n"
     ]
    },
    {
     "name": "stderr",
     "output_type": "stream",
     "text": [
      "/Library/Frameworks/Python.framework/Versions/3.12/lib/python3.12/site-packages/sklearn/linear_model/_coordinate_descent.py:697: ConvergenceWarning: Objective did not converge. You might want to increase the number of iterations, check the scale of the features or consider increasing regularisation. Duality gap: 3.153e-01, tolerance: 6.863e-02\n",
      "  model = cd_fast.enet_coordinate_descent(\n"
     ]
    },
    {
     "name": "stdout",
     "output_type": "stream",
     "text": [
      "[step_eval] step=234, done=2, total=6, hp_idx=1, fe_idx=2, score=2.234184\n"
     ]
    },
    {
     "name": "stderr",
     "output_type": "stream",
     "text": [
      "/Library/Frameworks/Python.framework/Versions/3.12/lib/python3.12/site-packages/sklearn/linear_model/_coordinate_descent.py:697: ConvergenceWarning: Objective did not converge. You might want to increase the number of iterations, check the scale of the features or consider increasing regularisation. Duality gap: 2.865e+00, tolerance: 6.750e-02\n",
      "  model = cd_fast.enet_coordinate_descent(\n"
     ]
    },
    {
     "name": "stdout",
     "output_type": "stream",
     "text": [
      "[step_eval] step=234, done=3, total=6, hp_idx=1, fe_idx=3, score=1.85761\n"
     ]
    },
    {
     "name": "stderr",
     "output_type": "stream",
     "text": [
      "/Library/Frameworks/Python.framework/Versions/3.12/lib/python3.12/site-packages/sklearn/linear_model/_coordinate_descent.py:697: ConvergenceWarning: Objective did not converge. You might want to increase the number of iterations, check the scale of the features or consider increasing regularisation. Duality gap: 5.179e-01, tolerance: 6.863e-02\n",
      "  model = cd_fast.enet_coordinate_descent(\n"
     ]
    },
    {
     "name": "stdout",
     "output_type": "stream",
     "text": [
      "[step_eval] step=234, done=4, total=6, hp_idx=2, fe_idx=1, score=0.998372\n",
      "[step_eval] step=234, done=5, total=6, hp_idx=3, fe_idx=1, score=0.034828\n",
      "[step_eval] step=234, done=6, total=6, hp_idx=4, fe_idx=1, score=0.020568\n",
      "[step_done] step=234, best_score=0.020568\n",
      "[step_predict] step=235, of=299, date=2019-08-01\n",
      "[step_search_start] step=235, hp=4, fe=3, expected_evals=6\n",
      "[step_eval] step=235, done=1, total=6, hp_idx=1, fe_idx=1, score=2.558099\n"
     ]
    },
    {
     "name": "stderr",
     "output_type": "stream",
     "text": [
      "/Library/Frameworks/Python.framework/Versions/3.12/lib/python3.12/site-packages/sklearn/linear_model/_coordinate_descent.py:697: ConvergenceWarning: Objective did not converge. You might want to increase the number of iterations, check the scale of the features or consider increasing regularisation. Duality gap: 6.650e-01, tolerance: 6.863e-02\n",
      "  model = cd_fast.enet_coordinate_descent(\n"
     ]
    },
    {
     "name": "stdout",
     "output_type": "stream",
     "text": [
      "[step_eval] step=235, done=2, total=6, hp_idx=1, fe_idx=2, score=0.06752\n"
     ]
    },
    {
     "name": "stderr",
     "output_type": "stream",
     "text": [
      "/Library/Frameworks/Python.framework/Versions/3.12/lib/python3.12/site-packages/sklearn/linear_model/_coordinate_descent.py:697: ConvergenceWarning: Objective did not converge. You might want to increase the number of iterations, check the scale of the features or consider increasing regularisation. Duality gap: 2.412e+00, tolerance: 6.750e-02\n",
      "  model = cd_fast.enet_coordinate_descent(\n"
     ]
    },
    {
     "name": "stdout",
     "output_type": "stream",
     "text": [
      "[step_eval] step=235, done=3, total=6, hp_idx=1, fe_idx=3, score=0.415121\n"
     ]
    },
    {
     "name": "stderr",
     "output_type": "stream",
     "text": [
      "/Library/Frameworks/Python.framework/Versions/3.12/lib/python3.12/site-packages/sklearn/linear_model/_coordinate_descent.py:697: ConvergenceWarning: Objective did not converge. You might want to increase the number of iterations, check the scale of the features or consider increasing regularisation. Duality gap: 6.129e-01, tolerance: 6.863e-02\n",
      "  model = cd_fast.enet_coordinate_descent(\n"
     ]
    },
    {
     "name": "stdout",
     "output_type": "stream",
     "text": [
      "[step_eval] step=235, done=4, total=6, hp_idx=2, fe_idx=1, score=0.272994\n",
      "[step_eval] step=235, done=5, total=6, hp_idx=3, fe_idx=1, score=0.850548\n",
      "[step_eval] step=235, done=6, total=6, hp_idx=4, fe_idx=1, score=0.641801\n",
      "[step_done] step=235, best_score=0.06752\n",
      "[step_predict] step=236, of=299, date=2019-09-01\n",
      "[step_search_start] step=236, hp=4, fe=3, expected_evals=6\n"
     ]
    },
    {
     "name": "stderr",
     "output_type": "stream",
     "text": [
      "/Library/Frameworks/Python.framework/Versions/3.12/lib/python3.12/site-packages/sklearn/linear_model/_coordinate_descent.py:697: ConvergenceWarning: Objective did not converge. You might want to increase the number of iterations, check the scale of the features or consider increasing regularisation. Duality gap: 2.205e+00, tolerance: 6.751e-02\n",
      "  model = cd_fast.enet_coordinate_descent(\n"
     ]
    },
    {
     "name": "stdout",
     "output_type": "stream",
     "text": [
      "[step_eval] step=236, done=1, total=6, hp_idx=1, fe_idx=1, score=1.42524\n"
     ]
    },
    {
     "name": "stderr",
     "output_type": "stream",
     "text": [
      "/Library/Frameworks/Python.framework/Versions/3.12/lib/python3.12/site-packages/sklearn/linear_model/_coordinate_descent.py:697: ConvergenceWarning: Objective did not converge. You might want to increase the number of iterations, check the scale of the features or consider increasing regularisation. Duality gap: 7.690e-01, tolerance: 6.864e-02\n",
      "  model = cd_fast.enet_coordinate_descent(\n"
     ]
    },
    {
     "name": "stdout",
     "output_type": "stream",
     "text": [
      "[step_eval] step=236, done=2, total=6, hp_idx=1, fe_idx=2, score=0.374444\n"
     ]
    },
    {
     "name": "stderr",
     "output_type": "stream",
     "text": [
      "/Library/Frameworks/Python.framework/Versions/3.12/lib/python3.12/site-packages/sklearn/linear_model/_coordinate_descent.py:697: ConvergenceWarning: Objective did not converge. You might want to increase the number of iterations, check the scale of the features or consider increasing regularisation. Duality gap: 2.205e+00, tolerance: 6.751e-02\n",
      "  model = cd_fast.enet_coordinate_descent(\n"
     ]
    },
    {
     "name": "stdout",
     "output_type": "stream",
     "text": [
      "[step_eval] step=236, done=3, total=6, hp_idx=1, fe_idx=3, score=2.365477\n"
     ]
    },
    {
     "name": "stderr",
     "output_type": "stream",
     "text": [
      "/Library/Frameworks/Python.framework/Versions/3.12/lib/python3.12/site-packages/sklearn/linear_model/_coordinate_descent.py:697: ConvergenceWarning: Objective did not converge. You might want to increase the number of iterations, check the scale of the features or consider increasing regularisation. Duality gap: 5.940e-01, tolerance: 6.864e-02\n",
      "  model = cd_fast.enet_coordinate_descent(\n"
     ]
    },
    {
     "name": "stdout",
     "output_type": "stream",
     "text": [
      "[step_eval] step=236, done=4, total=6, hp_idx=2, fe_idx=1, score=0.648963\n",
      "[step_eval] step=236, done=5, total=6, hp_idx=3, fe_idx=1, score=0.466906\n",
      "[step_eval] step=236, done=6, total=6, hp_idx=4, fe_idx=1, score=0.461938\n",
      "[step_done] step=236, best_score=0.374444\n",
      "[step_predict] step=237, of=299, date=2019-10-01\n",
      "[step_search_start] step=237, hp=4, fe=3, expected_evals=6\n"
     ]
    },
    {
     "name": "stderr",
     "output_type": "stream",
     "text": [
      "/Library/Frameworks/Python.framework/Versions/3.12/lib/python3.12/site-packages/sklearn/linear_model/_coordinate_descent.py:697: ConvergenceWarning: Objective did not converge. You might want to increase the number of iterations, check the scale of the features or consider increasing regularisation. Duality gap: 2.321e+00, tolerance: 6.758e-02\n",
      "  model = cd_fast.enet_coordinate_descent(\n"
     ]
    },
    {
     "name": "stdout",
     "output_type": "stream",
     "text": [
      "[step_eval] step=237, done=1, total=6, hp_idx=1, fe_idx=1, score=0.302849\n"
     ]
    },
    {
     "name": "stderr",
     "output_type": "stream",
     "text": [
      "/Library/Frameworks/Python.framework/Versions/3.12/lib/python3.12/site-packages/sklearn/linear_model/_coordinate_descent.py:697: ConvergenceWarning: Objective did not converge. You might want to increase the number of iterations, check the scale of the features or consider increasing regularisation. Duality gap: 1.401e+00, tolerance: 6.871e-02\n",
      "  model = cd_fast.enet_coordinate_descent(\n"
     ]
    },
    {
     "name": "stdout",
     "output_type": "stream",
     "text": [
      "[step_eval] step=237, done=2, total=6, hp_idx=1, fe_idx=2, score=1.996571\n"
     ]
    },
    {
     "name": "stderr",
     "output_type": "stream",
     "text": [
      "/Library/Frameworks/Python.framework/Versions/3.12/lib/python3.12/site-packages/sklearn/linear_model/_coordinate_descent.py:697: ConvergenceWarning: Objective did not converge. You might want to increase the number of iterations, check the scale of the features or consider increasing regularisation. Duality gap: 2.321e+00, tolerance: 6.758e-02\n",
      "  model = cd_fast.enet_coordinate_descent(\n"
     ]
    },
    {
     "name": "stdout",
     "output_type": "stream",
     "text": [
      "[step_eval] step=237, done=3, total=6, hp_idx=1, fe_idx=3, score=0.043503\n"
     ]
    },
    {
     "name": "stderr",
     "output_type": "stream",
     "text": [
      "/Library/Frameworks/Python.framework/Versions/3.12/lib/python3.12/site-packages/sklearn/linear_model/_coordinate_descent.py:697: ConvergenceWarning: Objective did not converge. You might want to increase the number of iterations, check the scale of the features or consider increasing regularisation. Duality gap: 7.796e-01, tolerance: 6.871e-02\n",
      "  model = cd_fast.enet_coordinate_descent(\n"
     ]
    },
    {
     "name": "stdout",
     "output_type": "stream",
     "text": [
      "[step_eval] step=237, done=4, total=6, hp_idx=2, fe_idx=1, score=0.126131\n",
      "[step_eval] step=237, done=5, total=6, hp_idx=3, fe_idx=1, score=0.491284\n",
      "[step_eval] step=237, done=6, total=6, hp_idx=4, fe_idx=1, score=0.553794\n",
      "[step_done] step=237, best_score=0.043503\n",
      "[step_predict] step=238, of=299, date=2019-11-01\n",
      "[step_search_start] step=238, hp=4, fe=3, expected_evals=6\n"
     ]
    },
    {
     "name": "stderr",
     "output_type": "stream",
     "text": [
      "/Library/Frameworks/Python.framework/Versions/3.12/lib/python3.12/site-packages/sklearn/linear_model/_coordinate_descent.py:697: ConvergenceWarning: Objective did not converge. You might want to increase the number of iterations, check the scale of the features or consider increasing regularisation. Duality gap: 8.543e-01, tolerance: 6.879e-02\n",
      "  model = cd_fast.enet_coordinate_descent(\n"
     ]
    },
    {
     "name": "stdout",
     "output_type": "stream",
     "text": [
      "[step_eval] step=238, done=1, total=6, hp_idx=1, fe_idx=1, score=1.868848\n"
     ]
    },
    {
     "name": "stderr",
     "output_type": "stream",
     "text": [
      "/Library/Frameworks/Python.framework/Versions/3.12/lib/python3.12/site-packages/sklearn/linear_model/_coordinate_descent.py:697: ConvergenceWarning: Objective did not converge. You might want to increase the number of iterations, check the scale of the features or consider increasing regularisation. Duality gap: 2.175e+00, tolerance: 6.879e-02\n",
      "  model = cd_fast.enet_coordinate_descent(\n"
     ]
    },
    {
     "name": "stdout",
     "output_type": "stream",
     "text": [
      "[step_eval] step=238, done=2, total=6, hp_idx=1, fe_idx=2, score=0.283016\n"
     ]
    },
    {
     "name": "stderr",
     "output_type": "stream",
     "text": [
      "/Library/Frameworks/Python.framework/Versions/3.12/lib/python3.12/site-packages/sklearn/linear_model/_coordinate_descent.py:697: ConvergenceWarning: Objective did not converge. You might want to increase the number of iterations, check the scale of the features or consider increasing regularisation. Duality gap: 2.198e+00, tolerance: 6.765e-02\n",
      "  model = cd_fast.enet_coordinate_descent(\n"
     ]
    },
    {
     "name": "stdout",
     "output_type": "stream",
     "text": [
      "[step_eval] step=238, done=3, total=6, hp_idx=1, fe_idx=3, score=1.980082\n",
      "[step_eval] step=238, done=4, total=6, hp_idx=2, fe_idx=1, score=0.137289\n"
     ]
    },
    {
     "name": "stderr",
     "output_type": "stream",
     "text": [
      "/Library/Frameworks/Python.framework/Versions/3.12/lib/python3.12/site-packages/sklearn/linear_model/_coordinate_descent.py:697: ConvergenceWarning: Objective did not converge. You might want to increase the number of iterations, check the scale of the features or consider increasing regularisation. Duality gap: 8.543e-01, tolerance: 6.879e-02\n",
      "  model = cd_fast.enet_coordinate_descent(\n"
     ]
    },
    {
     "name": "stdout",
     "output_type": "stream",
     "text": [
      "[step_eval] step=238, done=5, total=6, hp_idx=3, fe_idx=1, score=0.773002\n",
      "[step_eval] step=238, done=6, total=6, hp_idx=4, fe_idx=1, score=0.900683\n",
      "[step_done] step=238, best_score=0.137289\n",
      "[step_predict] step=239, of=299, date=2019-12-01\n",
      "[step_search_start] step=239, hp=4, fe=3, expected_evals=6\n",
      "[step_eval] step=239, done=1, total=6, hp_idx=1, fe_idx=1, score=2.182642\n"
     ]
    },
    {
     "name": "stderr",
     "output_type": "stream",
     "text": [
      "/Library/Frameworks/Python.framework/Versions/3.12/lib/python3.12/site-packages/sklearn/linear_model/_coordinate_descent.py:697: ConvergenceWarning: Objective did not converge. You might want to increase the number of iterations, check the scale of the features or consider increasing regularisation. Duality gap: 1.405e+00, tolerance: 6.882e-02\n",
      "  model = cd_fast.enet_coordinate_descent(\n"
     ]
    },
    {
     "name": "stdout",
     "output_type": "stream",
     "text": [
      "[step_eval] step=239, done=2, total=6, hp_idx=1, fe_idx=2, score=1.30894\n"
     ]
    },
    {
     "name": "stderr",
     "output_type": "stream",
     "text": [
      "/Library/Frameworks/Python.framework/Versions/3.12/lib/python3.12/site-packages/sklearn/linear_model/_coordinate_descent.py:697: ConvergenceWarning: Objective did not converge. You might want to increase the number of iterations, check the scale of the features or consider increasing regularisation. Duality gap: 2.099e+00, tolerance: 6.769e-02\n",
      "  model = cd_fast.enet_coordinate_descent(\n"
     ]
    },
    {
     "name": "stdout",
     "output_type": "stream",
     "text": [
      "[step_eval] step=239, done=3, total=6, hp_idx=1, fe_idx=3, score=1.932504\n",
      "[step_eval] step=239, done=4, total=6, hp_idx=2, fe_idx=1, score=1.70892\n"
     ]
    },
    {
     "name": "stderr",
     "output_type": "stream",
     "text": [
      "/Library/Frameworks/Python.framework/Versions/3.12/lib/python3.12/site-packages/sklearn/linear_model/_coordinate_descent.py:697: ConvergenceWarning: Objective did not converge. You might want to increase the number of iterations, check the scale of the features or consider increasing regularisation. Duality gap: 6.290e-01, tolerance: 6.882e-02\n",
      "  model = cd_fast.enet_coordinate_descent(\n"
     ]
    },
    {
     "name": "stdout",
     "output_type": "stream",
     "text": [
      "[step_eval] step=239, done=5, total=6, hp_idx=3, fe_idx=1, score=2.109968\n",
      "[step_eval] step=239, done=6, total=6, hp_idx=4, fe_idx=1, score=2.161251\n",
      "[step_done] step=239, best_score=1.30894\n",
      "[step_predict] step=240, of=299, date=2020-01-01\n",
      "[step_search_start] step=240, hp=4, fe=3, expected_evals=6\n"
     ]
    },
    {
     "name": "stderr",
     "output_type": "stream",
     "text": [
      "/Library/Frameworks/Python.framework/Versions/3.12/lib/python3.12/site-packages/sklearn/linear_model/_coordinate_descent.py:697: ConvergenceWarning: Objective did not converge. You might want to increase the number of iterations, check the scale of the features or consider increasing regularisation. Duality gap: 1.420e+00, tolerance: 6.822e-02\n",
      "  model = cd_fast.enet_coordinate_descent(\n"
     ]
    },
    {
     "name": "stdout",
     "output_type": "stream",
     "text": [
      "[step_eval] step=240, done=1, total=6, hp_idx=1, fe_idx=1, score=3.216479\n"
     ]
    },
    {
     "name": "stderr",
     "output_type": "stream",
     "text": [
      "/Library/Frameworks/Python.framework/Versions/3.12/lib/python3.12/site-packages/sklearn/linear_model/_coordinate_descent.py:697: ConvergenceWarning: Objective did not converge. You might want to increase the number of iterations, check the scale of the features or consider increasing regularisation. Duality gap: 1.082e+00, tolerance: 6.936e-02\n",
      "  model = cd_fast.enet_coordinate_descent(\n"
     ]
    },
    {
     "name": "stdout",
     "output_type": "stream",
     "text": [
      "[step_eval] step=240, done=2, total=6, hp_idx=1, fe_idx=2, score=5.402874\n"
     ]
    },
    {
     "name": "stderr",
     "output_type": "stream",
     "text": [
      "/Library/Frameworks/Python.framework/Versions/3.12/lib/python3.12/site-packages/sklearn/linear_model/_coordinate_descent.py:697: ConvergenceWarning: Objective did not converge. You might want to increase the number of iterations, check the scale of the features or consider increasing regularisation. Duality gap: 1.420e+00, tolerance: 6.822e-02\n",
      "  model = cd_fast.enet_coordinate_descent(\n"
     ]
    },
    {
     "name": "stdout",
     "output_type": "stream",
     "text": [
      "[step_eval] step=240, done=3, total=6, hp_idx=1, fe_idx=3, score=4.886774\n"
     ]
    },
    {
     "name": "stderr",
     "output_type": "stream",
     "text": [
      "/Library/Frameworks/Python.framework/Versions/3.12/lib/python3.12/site-packages/sklearn/linear_model/_coordinate_descent.py:697: ConvergenceWarning: Objective did not converge. You might want to increase the number of iterations, check the scale of the features or consider increasing regularisation. Duality gap: 4.710e-01, tolerance: 6.936e-02\n",
      "  model = cd_fast.enet_coordinate_descent(\n"
     ]
    },
    {
     "name": "stdout",
     "output_type": "stream",
     "text": [
      "[step_eval] step=240, done=4, total=6, hp_idx=2, fe_idx=1, score=2.92127\n",
      "[step_eval] step=240, done=5, total=6, hp_idx=3, fe_idx=1, score=3.287986\n",
      "[step_eval] step=240, done=6, total=6, hp_idx=4, fe_idx=1, score=3.572356\n",
      "[step_done] step=240, best_score=2.92127\n",
      "[step_predict] step=241, of=299, date=2020-02-01\n",
      "[step_search_start] step=241, hp=4, fe=3, expected_evals=6\n",
      "[step_eval] step=241, done=1, total=6, hp_idx=1, fe_idx=1, score=0.649452\n"
     ]
    },
    {
     "name": "stderr",
     "output_type": "stream",
     "text": [
      "/Library/Frameworks/Python.framework/Versions/3.12/lib/python3.12/site-packages/sklearn/linear_model/_coordinate_descent.py:697: ConvergenceWarning: Objective did not converge. You might want to increase the number of iterations, check the scale of the features or consider increasing regularisation. Duality gap: 7.762e-01, tolerance: 7.051e-02\n",
      "  model = cd_fast.enet_coordinate_descent(\n"
     ]
    },
    {
     "name": "stdout",
     "output_type": "stream",
     "text": [
      "[step_eval] step=241, done=2, total=6, hp_idx=1, fe_idx=2, score=1.035151\n"
     ]
    },
    {
     "name": "stderr",
     "output_type": "stream",
     "text": [
      "/Library/Frameworks/Python.framework/Versions/3.12/lib/python3.12/site-packages/sklearn/linear_model/_coordinate_descent.py:697: ConvergenceWarning: Objective did not converge. You might want to increase the number of iterations, check the scale of the features or consider increasing regularisation. Duality gap: 2.076e+00, tolerance: 6.937e-02\n",
      "  model = cd_fast.enet_coordinate_descent(\n"
     ]
    },
    {
     "name": "stdout",
     "output_type": "stream",
     "text": [
      "[step_eval] step=241, done=3, total=6, hp_idx=1, fe_idx=3, score=0.799633\n"
     ]
    },
    {
     "name": "stderr",
     "output_type": "stream",
     "text": [
      "/Library/Frameworks/Python.framework/Versions/3.12/lib/python3.12/site-packages/sklearn/linear_model/_coordinate_descent.py:697: ConvergenceWarning: Objective did not converge. You might want to increase the number of iterations, check the scale of the features or consider increasing regularisation. Duality gap: 6.920e-01, tolerance: 7.051e-02\n",
      "  model = cd_fast.enet_coordinate_descent(\n"
     ]
    },
    {
     "name": "stdout",
     "output_type": "stream",
     "text": [
      "[step_eval] step=241, done=4, total=6, hp_idx=2, fe_idx=1, score=0.601701\n",
      "[step_eval] step=241, done=5, total=6, hp_idx=3, fe_idx=1, score=0.043687\n",
      "[step_eval] step=241, done=6, total=6, hp_idx=4, fe_idx=1, score=0.338502\n",
      "[step_done] step=241, best_score=0.043687\n",
      "[step_predict] step=242, of=299, date=2020-03-01\n",
      "[step_search_start] step=242, hp=4, fe=3, expected_evals=6\n",
      "[step_eval] step=242, done=1, total=6, hp_idx=1, fe_idx=1, score=9.475641\n"
     ]
    },
    {
     "name": "stderr",
     "output_type": "stream",
     "text": [
      "/Library/Frameworks/Python.framework/Versions/3.12/lib/python3.12/site-packages/sklearn/linear_model/_coordinate_descent.py:697: ConvergenceWarning: Objective did not converge. You might want to increase the number of iterations, check the scale of the features or consider increasing regularisation. Duality gap: 1.052e+00, tolerance: 7.051e-02\n",
      "  model = cd_fast.enet_coordinate_descent(\n"
     ]
    },
    {
     "name": "stdout",
     "output_type": "stream",
     "text": [
      "[step_eval] step=242, done=2, total=6, hp_idx=1, fe_idx=2, score=10.849657\n"
     ]
    },
    {
     "name": "stderr",
     "output_type": "stream",
     "text": [
      "/Library/Frameworks/Python.framework/Versions/3.12/lib/python3.12/site-packages/sklearn/linear_model/_coordinate_descent.py:697: ConvergenceWarning: Objective did not converge. You might want to increase the number of iterations, check the scale of the features or consider increasing regularisation. Duality gap: 1.640e+00, tolerance: 6.937e-02\n",
      "  model = cd_fast.enet_coordinate_descent(\n"
     ]
    },
    {
     "name": "stdout",
     "output_type": "stream",
     "text": [
      "[step_eval] step=242, done=3, total=6, hp_idx=1, fe_idx=3, score=10.75373\n"
     ]
    },
    {
     "name": "stderr",
     "output_type": "stream",
     "text": [
      "/Library/Frameworks/Python.framework/Versions/3.12/lib/python3.12/site-packages/sklearn/linear_model/_coordinate_descent.py:697: ConvergenceWarning: Objective did not converge. You might want to increase the number of iterations, check the scale of the features or consider increasing regularisation. Duality gap: 6.053e-01, tolerance: 7.051e-02\n",
      "  model = cd_fast.enet_coordinate_descent(\n"
     ]
    },
    {
     "name": "stdout",
     "output_type": "stream",
     "text": [
      "[step_eval] step=242, done=4, total=6, hp_idx=2, fe_idx=1, score=9.368353\n",
      "[step_eval] step=242, done=5, total=6, hp_idx=3, fe_idx=1, score=8.684568\n",
      "[step_eval] step=242, done=6, total=6, hp_idx=4, fe_idx=1, score=8.311776\n",
      "[step_done] step=242, best_score=8.311776\n",
      "[step_predict] step=243, of=299, date=2020-04-01\n",
      "[step_search_start] step=243, hp=4, fe=3, expected_evals=6\n",
      "[step_eval] step=243, done=1, total=6, hp_idx=1, fe_idx=1, score=14.38946\n"
     ]
    },
    {
     "name": "stderr",
     "output_type": "stream",
     "text": [
      "/Library/Frameworks/Python.framework/Versions/3.12/lib/python3.12/site-packages/sklearn/linear_model/_coordinate_descent.py:697: ConvergenceWarning: Objective did not converge. You might want to increase the number of iterations, check the scale of the features or consider increasing regularisation. Duality gap: 1.260e+00, tolerance: 7.790e-02\n",
      "  model = cd_fast.enet_coordinate_descent(\n"
     ]
    },
    {
     "name": "stdout",
     "output_type": "stream",
     "text": [
      "[step_eval] step=243, done=2, total=6, hp_idx=1, fe_idx=2, score=16.107547\n"
     ]
    },
    {
     "name": "stderr",
     "output_type": "stream",
     "text": [
      "/Library/Frameworks/Python.framework/Versions/3.12/lib/python3.12/site-packages/sklearn/linear_model/_coordinate_descent.py:697: ConvergenceWarning: Objective did not converge. You might want to increase the number of iterations, check the scale of the features or consider increasing regularisation. Duality gap: 1.937e+00, tolerance: 7.677e-02\n",
      "  model = cd_fast.enet_coordinate_descent(\n"
     ]
    },
    {
     "name": "stdout",
     "output_type": "stream",
     "text": [
      "[step_eval] step=243, done=3, total=6, hp_idx=1, fe_idx=3, score=15.065549\n"
     ]
    },
    {
     "name": "stderr",
     "output_type": "stream",
     "text": [
      "/Library/Frameworks/Python.framework/Versions/3.12/lib/python3.12/site-packages/sklearn/linear_model/_coordinate_descent.py:697: ConvergenceWarning: Objective did not converge. You might want to increase the number of iterations, check the scale of the features or consider increasing regularisation. Duality gap: 1.025e+00, tolerance: 7.790e-02\n",
      "  model = cd_fast.enet_coordinate_descent(\n"
     ]
    },
    {
     "name": "stdout",
     "output_type": "stream",
     "text": [
      "[step_eval] step=243, done=4, total=6, hp_idx=2, fe_idx=1, score=15.041047\n",
      "[step_eval] step=243, done=5, total=6, hp_idx=3, fe_idx=1, score=17.601511\n",
      "[step_eval] step=243, done=6, total=6, hp_idx=4, fe_idx=1, score=17.950821\n",
      "[step_done] step=243, best_score=14.38946\n",
      "[step_predict] step=244, of=299, date=2020-05-01\n",
      "[step_search_start] step=244, hp=4, fe=3, expected_evals=6\n"
     ]
    },
    {
     "name": "stderr",
     "output_type": "stream",
     "text": [
      "/Library/Frameworks/Python.framework/Versions/3.12/lib/python3.12/site-packages/sklearn/linear_model/_coordinate_descent.py:697: ConvergenceWarning: Objective did not converge. You might want to increase the number of iterations, check the scale of the features or consider increasing regularisation. Duality gap: 3.639e+00, tolerance: 1.112e-01\n",
      "  model = cd_fast.enet_coordinate_descent(\n"
     ]
    },
    {
     "name": "stdout",
     "output_type": "stream",
     "text": [
      "[step_eval] step=244, done=1, total=6, hp_idx=1, fe_idx=1, score=20.260351\n"
     ]
    },
    {
     "name": "stderr",
     "output_type": "stream",
     "text": [
      "/Library/Frameworks/Python.framework/Versions/3.12/lib/python3.12/site-packages/sklearn/linear_model/_coordinate_descent.py:697: ConvergenceWarning: Objective did not converge. You might want to increase the number of iterations, check the scale of the features or consider increasing regularisation. Duality gap: 3.639e+00, tolerance: 1.112e-01\n",
      "  model = cd_fast.enet_coordinate_descent(\n"
     ]
    },
    {
     "name": "stdout",
     "output_type": "stream",
     "text": [
      "[step_eval] step=244, done=2, total=6, hp_idx=1, fe_idx=2, score=19.29787\n"
     ]
    },
    {
     "name": "stderr",
     "output_type": "stream",
     "text": [
      "/Library/Frameworks/Python.framework/Versions/3.12/lib/python3.12/site-packages/sklearn/linear_model/_coordinate_descent.py:697: ConvergenceWarning: Objective did not converge. You might want to increase the number of iterations, check the scale of the features or consider increasing regularisation. Duality gap: 3.575e+00, tolerance: 1.101e-01\n",
      "  model = cd_fast.enet_coordinate_descent(\n"
     ]
    },
    {
     "name": "stdout",
     "output_type": "stream",
     "text": [
      "[step_eval] step=244, done=3, total=6, hp_idx=1, fe_idx=3, score=24.624193\n"
     ]
    },
    {
     "name": "stderr",
     "output_type": "stream",
     "text": [
      "/Library/Frameworks/Python.framework/Versions/3.12/lib/python3.12/site-packages/sklearn/linear_model/_coordinate_descent.py:697: ConvergenceWarning: Objective did not converge. You might want to increase the number of iterations, check the scale of the features or consider increasing regularisation. Duality gap: 3.660e+00, tolerance: 1.112e-01\n",
      "  model = cd_fast.enet_coordinate_descent(\n"
     ]
    },
    {
     "name": "stdout",
     "output_type": "stream",
     "text": [
      "[step_eval] step=244, done=4, total=6, hp_idx=2, fe_idx=1, score=18.327512\n",
      "[step_eval] step=244, done=5, total=6, hp_idx=3, fe_idx=1, score=12.983664\n",
      "[step_eval] step=244, done=6, total=6, hp_idx=4, fe_idx=1, score=11.470493\n",
      "[step_done] step=244, best_score=11.470493\n",
      "[step_predict] step=245, of=299, date=2020-06-01\n",
      "[step_search_start] step=245, hp=4, fe=3, expected_evals=6\n",
      "[step_eval] step=245, done=1, total=6, hp_idx=1, fe_idx=1, score=4.630443\n"
     ]
    },
    {
     "name": "stderr",
     "output_type": "stream",
     "text": [
      "/Library/Frameworks/Python.framework/Versions/3.12/lib/python3.12/site-packages/sklearn/linear_model/_coordinate_descent.py:697: ConvergenceWarning: Objective did not converge. You might want to increase the number of iterations, check the scale of the features or consider increasing regularisation. Duality gap: 2.077e+01, tolerance: 1.190e-01\n",
      "  model = cd_fast.enet_coordinate_descent(\n"
     ]
    },
    {
     "name": "stdout",
     "output_type": "stream",
     "text": [
      "[step_eval] step=245, done=2, total=6, hp_idx=1, fe_idx=2, score=5.476778\n"
     ]
    },
    {
     "name": "stderr",
     "output_type": "stream",
     "text": [
      "/Library/Frameworks/Python.framework/Versions/3.12/lib/python3.12/site-packages/sklearn/linear_model/_coordinate_descent.py:697: ConvergenceWarning: Objective did not converge. You might want to increase the number of iterations, check the scale of the features or consider increasing regularisation. Duality gap: 2.769e+01, tolerance: 1.179e-01\n",
      "  model = cd_fast.enet_coordinate_descent(\n"
     ]
    },
    {
     "name": "stdout",
     "output_type": "stream",
     "text": [
      "[step_eval] step=245, done=3, total=6, hp_idx=1, fe_idx=3, score=3.35104\n"
     ]
    },
    {
     "name": "stderr",
     "output_type": "stream",
     "text": [
      "/Library/Frameworks/Python.framework/Versions/3.12/lib/python3.12/site-packages/sklearn/linear_model/_coordinate_descent.py:697: ConvergenceWarning: Objective did not converge. You might want to increase the number of iterations, check the scale of the features or consider increasing regularisation. Duality gap: 1.364e+01, tolerance: 1.190e-01\n",
      "  model = cd_fast.enet_coordinate_descent(\n"
     ]
    },
    {
     "name": "stdout",
     "output_type": "stream",
     "text": [
      "[step_eval] step=245, done=4, total=6, hp_idx=2, fe_idx=1, score=4.794911\n",
      "[step_eval] step=245, done=5, total=6, hp_idx=3, fe_idx=1, score=9.414264\n",
      "[step_eval] step=245, done=6, total=6, hp_idx=4, fe_idx=1, score=10.305798\n",
      "[step_done] step=245, best_score=3.35104\n",
      "[step_predict] step=246, of=299, date=2020-07-01\n"
     ]
    },
    {
     "name": "stderr",
     "output_type": "stream",
     "text": [
      "/Library/Frameworks/Python.framework/Versions/3.12/lib/python3.12/site-packages/sklearn/linear_model/_coordinate_descent.py:697: ConvergenceWarning: Objective did not converge. You might want to increase the number of iterations, check the scale of the features or consider increasing regularisation. Duality gap: 3.182e-01, tolerance: 1.190e-01\n",
      "  model = cd_fast.enet_coordinate_descent(\n"
     ]
    },
    {
     "name": "stdout",
     "output_type": "stream",
     "text": [
      "[step_search_start] step=246, hp=4, fe=3, expected_evals=6\n"
     ]
    },
    {
     "name": "stderr",
     "output_type": "stream",
     "text": [
      "/Library/Frameworks/Python.framework/Versions/3.12/lib/python3.12/site-packages/sklearn/linear_model/_coordinate_descent.py:697: ConvergenceWarning: Objective did not converge. You might want to increase the number of iterations, check the scale of the features or consider increasing regularisation. Duality gap: 1.191e+01, tolerance: 1.289e-01\n",
      "  model = cd_fast.enet_coordinate_descent(\n"
     ]
    },
    {
     "name": "stdout",
     "output_type": "stream",
     "text": [
      "[step_eval] step=246, done=1, total=6, hp_idx=1, fe_idx=1, score=4.665949\n"
     ]
    },
    {
     "name": "stderr",
     "output_type": "stream",
     "text": [
      "/Library/Frameworks/Python.framework/Versions/3.12/lib/python3.12/site-packages/sklearn/linear_model/_coordinate_descent.py:697: ConvergenceWarning: Objective did not converge. You might want to increase the number of iterations, check the scale of the features or consider increasing regularisation. Duality gap: 1.977e+01, tolerance: 1.289e-01\n",
      "  model = cd_fast.enet_coordinate_descent(\n"
     ]
    },
    {
     "name": "stdout",
     "output_type": "stream",
     "text": [
      "[step_eval] step=246, done=2, total=6, hp_idx=1, fe_idx=2, score=7.880158\n"
     ]
    },
    {
     "name": "stderr",
     "output_type": "stream",
     "text": [
      "/Library/Frameworks/Python.framework/Versions/3.12/lib/python3.12/site-packages/sklearn/linear_model/_coordinate_descent.py:697: ConvergenceWarning: Objective did not converge. You might want to increase the number of iterations, check the scale of the features or consider increasing regularisation. Duality gap: 3.791e+01, tolerance: 1.278e-01\n",
      "  model = cd_fast.enet_coordinate_descent(\n"
     ]
    },
    {
     "name": "stdout",
     "output_type": "stream",
     "text": [
      "[step_eval] step=246, done=3, total=6, hp_idx=1, fe_idx=3, score=5.881987\n"
     ]
    },
    {
     "name": "stderr",
     "output_type": "stream",
     "text": [
      "/Library/Frameworks/Python.framework/Versions/3.12/lib/python3.12/site-packages/sklearn/linear_model/_coordinate_descent.py:697: ConvergenceWarning: Objective did not converge. You might want to increase the number of iterations, check the scale of the features or consider increasing regularisation. Duality gap: 1.191e+01, tolerance: 1.289e-01\n",
      "  model = cd_fast.enet_coordinate_descent(\n"
     ]
    },
    {
     "name": "stdout",
     "output_type": "stream",
     "text": [
      "[step_eval] step=246, done=4, total=6, hp_idx=2, fe_idx=1, score=3.669177\n",
      "[step_eval] step=246, done=5, total=6, hp_idx=3, fe_idx=1, score=0.864189\n",
      "[step_eval] step=246, done=6, total=6, hp_idx=4, fe_idx=1, score=0.390491\n",
      "[step_done] step=246, best_score=0.390491\n",
      "[step_predict] step=247, of=299, date=2020-08-01\n",
      "[step_search_start] step=247, hp=4, fe=3, expected_evals=6\n"
     ]
    },
    {
     "name": "stderr",
     "output_type": "stream",
     "text": [
      "/Library/Frameworks/Python.framework/Versions/3.12/lib/python3.12/site-packages/sklearn/linear_model/_coordinate_descent.py:697: ConvergenceWarning: Objective did not converge. You might want to increase the number of iterations, check the scale of the features or consider increasing regularisation. Duality gap: 7.142e-01, tolerance: 1.289e-01\n",
      "  model = cd_fast.enet_coordinate_descent(\n"
     ]
    },
    {
     "name": "stdout",
     "output_type": "stream",
     "text": [
      "[step_eval] step=247, done=1, total=6, hp_idx=1, fe_idx=1, score=2.110543\n"
     ]
    },
    {
     "name": "stderr",
     "output_type": "stream",
     "text": [
      "/Library/Frameworks/Python.framework/Versions/3.12/lib/python3.12/site-packages/sklearn/linear_model/_coordinate_descent.py:697: ConvergenceWarning: Objective did not converge. You might want to increase the number of iterations, check the scale of the features or consider increasing regularisation. Duality gap: 1.261e+01, tolerance: 1.290e-01\n",
      "  model = cd_fast.enet_coordinate_descent(\n"
     ]
    },
    {
     "name": "stdout",
     "output_type": "stream",
     "text": [
      "[step_eval] step=247, done=2, total=6, hp_idx=1, fe_idx=2, score=1.063536\n"
     ]
    },
    {
     "name": "stderr",
     "output_type": "stream",
     "text": [
      "/Library/Frameworks/Python.framework/Versions/3.12/lib/python3.12/site-packages/sklearn/linear_model/_coordinate_descent.py:697: ConvergenceWarning: Objective did not converge. You might want to increase the number of iterations, check the scale of the features or consider increasing regularisation. Duality gap: 4.238e+01, tolerance: 1.279e-01\n",
      "  model = cd_fast.enet_coordinate_descent(\n"
     ]
    },
    {
     "name": "stdout",
     "output_type": "stream",
     "text": [
      "[step_eval] step=247, done=3, total=6, hp_idx=1, fe_idx=3, score=2.444365\n"
     ]
    },
    {
     "name": "stderr",
     "output_type": "stream",
     "text": [
      "/Library/Frameworks/Python.framework/Versions/3.12/lib/python3.12/site-packages/sklearn/linear_model/_coordinate_descent.py:697: ConvergenceWarning: Objective did not converge. You might want to increase the number of iterations, check the scale of the features or consider increasing regularisation. Duality gap: 1.355e+01, tolerance: 1.290e-01\n",
      "  model = cd_fast.enet_coordinate_descent(\n"
     ]
    },
    {
     "name": "stdout",
     "output_type": "stream",
     "text": [
      "[step_eval] step=247, done=4, total=6, hp_idx=2, fe_idx=1, score=0.391751\n",
      "[step_eval] step=247, done=5, total=6, hp_idx=3, fe_idx=1, score=0.891817\n",
      "[step_eval] step=247, done=6, total=6, hp_idx=4, fe_idx=1, score=0.297431\n",
      "[step_done] step=247, best_score=0.297431\n",
      "[step_predict] step=248, of=299, date=2020-09-01\n",
      "[step_search_start] step=248, hp=4, fe=3, expected_evals=6\n"
     ]
    },
    {
     "name": "stderr",
     "output_type": "stream",
     "text": [
      "/Library/Frameworks/Python.framework/Versions/3.12/lib/python3.12/site-packages/sklearn/linear_model/_coordinate_descent.py:697: ConvergenceWarning: Objective did not converge. You might want to increase the number of iterations, check the scale of the features or consider increasing regularisation. Duality gap: 2.332e-01, tolerance: 1.279e-01\n",
      "  model = cd_fast.enet_coordinate_descent(\n"
     ]
    },
    {
     "name": "stdout",
     "output_type": "stream",
     "text": [
      "[step_eval] step=248, done=1, total=6, hp_idx=1, fe_idx=1, score=2.89688\n"
     ]
    },
    {
     "name": "stderr",
     "output_type": "stream",
     "text": [
      "/Library/Frameworks/Python.framework/Versions/3.12/lib/python3.12/site-packages/sklearn/linear_model/_coordinate_descent.py:697: ConvergenceWarning: Objective did not converge. You might want to increase the number of iterations, check the scale of the features or consider increasing regularisation. Duality gap: 1.376e+01, tolerance: 1.290e-01\n",
      "  model = cd_fast.enet_coordinate_descent(\n"
     ]
    },
    {
     "name": "stdout",
     "output_type": "stream",
     "text": [
      "[step_eval] step=248, done=2, total=6, hp_idx=1, fe_idx=2, score=6.626248\n"
     ]
    },
    {
     "name": "stderr",
     "output_type": "stream",
     "text": [
      "/Library/Frameworks/Python.framework/Versions/3.12/lib/python3.12/site-packages/sklearn/linear_model/_coordinate_descent.py:697: ConvergenceWarning: Objective did not converge. You might want to increase the number of iterations, check the scale of the features or consider increasing regularisation. Duality gap: 4.124e+01, tolerance: 1.279e-01\n",
      "  model = cd_fast.enet_coordinate_descent(\n"
     ]
    },
    {
     "name": "stdout",
     "output_type": "stream",
     "text": [
      "[step_eval] step=248, done=3, total=6, hp_idx=1, fe_idx=3, score=1.871537\n"
     ]
    },
    {
     "name": "stderr",
     "output_type": "stream",
     "text": [
      "/Library/Frameworks/Python.framework/Versions/3.12/lib/python3.12/site-packages/sklearn/linear_model/_coordinate_descent.py:697: ConvergenceWarning: Objective did not converge. You might want to increase the number of iterations, check the scale of the features or consider increasing regularisation. Duality gap: 1.185e+01, tolerance: 1.290e-01\n",
      "  model = cd_fast.enet_coordinate_descent(\n"
     ]
    },
    {
     "name": "stdout",
     "output_type": "stream",
     "text": [
      "[step_eval] step=248, done=4, total=6, hp_idx=2, fe_idx=1, score=2.488598\n",
      "[step_eval] step=248, done=5, total=6, hp_idx=3, fe_idx=1, score=2.120879\n",
      "[step_eval] step=248, done=6, total=6, hp_idx=4, fe_idx=1, score=1.930937\n",
      "[step_done] step=248, best_score=1.871537\n",
      "[step_predict] step=249, of=299, date=2020-10-01\n"
     ]
    },
    {
     "name": "stderr",
     "output_type": "stream",
     "text": [
      "/Library/Frameworks/Python.framework/Versions/3.12/lib/python3.12/site-packages/sklearn/linear_model/_coordinate_descent.py:697: ConvergenceWarning: Objective did not converge. You might want to increase the number of iterations, check the scale of the features or consider increasing regularisation. Duality gap: 2.346e-01, tolerance: 1.290e-01\n",
      "  model = cd_fast.enet_coordinate_descent(\n"
     ]
    },
    {
     "name": "stdout",
     "output_type": "stream",
     "text": [
      "[step_search_start] step=249, hp=4, fe=3, expected_evals=6\n"
     ]
    },
    {
     "name": "stderr",
     "output_type": "stream",
     "text": [
      "/Library/Frameworks/Python.framework/Versions/3.12/lib/python3.12/site-packages/sklearn/linear_model/_coordinate_descent.py:697: ConvergenceWarning: Objective did not converge. You might want to increase the number of iterations, check the scale of the features or consider increasing regularisation. Duality gap: 1.478e+01, tolerance: 1.294e-01\n",
      "  model = cd_fast.enet_coordinate_descent(\n"
     ]
    },
    {
     "name": "stdout",
     "output_type": "stream",
     "text": [
      "[step_eval] step=249, done=1, total=6, hp_idx=1, fe_idx=1, score=2.432223\n"
     ]
    },
    {
     "name": "stderr",
     "output_type": "stream",
     "text": [
      "/Library/Frameworks/Python.framework/Versions/3.12/lib/python3.12/site-packages/sklearn/linear_model/_coordinate_descent.py:697: ConvergenceWarning: Objective did not converge. You might want to increase the number of iterations, check the scale of the features or consider increasing regularisation. Duality gap: 8.993e+00, tolerance: 1.294e-01\n",
      "  model = cd_fast.enet_coordinate_descent(\n"
     ]
    },
    {
     "name": "stdout",
     "output_type": "stream",
     "text": [
      "[step_eval] step=249, done=2, total=6, hp_idx=1, fe_idx=2, score=2.933787\n"
     ]
    },
    {
     "name": "stderr",
     "output_type": "stream",
     "text": [
      "/Library/Frameworks/Python.framework/Versions/3.12/lib/python3.12/site-packages/sklearn/linear_model/_coordinate_descent.py:697: ConvergenceWarning: Objective did not converge. You might want to increase the number of iterations, check the scale of the features or consider increasing regularisation. Duality gap: 2.264e+01, tolerance: 1.282e-01\n",
      "  model = cd_fast.enet_coordinate_descent(\n"
     ]
    },
    {
     "name": "stdout",
     "output_type": "stream",
     "text": [
      "[step_eval] step=249, done=3, total=6, hp_idx=1, fe_idx=3, score=2.924507\n"
     ]
    },
    {
     "name": "stderr",
     "output_type": "stream",
     "text": [
      "/Library/Frameworks/Python.framework/Versions/3.12/lib/python3.12/site-packages/sklearn/linear_model/_coordinate_descent.py:697: ConvergenceWarning: Objective did not converge. You might want to increase the number of iterations, check the scale of the features or consider increasing regularisation. Duality gap: 1.478e+01, tolerance: 1.294e-01\n",
      "  model = cd_fast.enet_coordinate_descent(\n"
     ]
    },
    {
     "name": "stdout",
     "output_type": "stream",
     "text": [
      "[step_eval] step=249, done=4, total=6, hp_idx=2, fe_idx=1, score=3.003096\n",
      "[step_eval] step=249, done=5, total=6, hp_idx=3, fe_idx=1, score=2.755102\n",
      "[step_eval] step=249, done=6, total=6, hp_idx=4, fe_idx=1, score=2.685625\n",
      "[step_done] step=249, best_score=2.432223\n",
      "[step_predict] step=250, of=299, date=2020-11-01\n"
     ]
    },
    {
     "name": "stderr",
     "output_type": "stream",
     "text": [
      "/Library/Frameworks/Python.framework/Versions/3.12/lib/python3.12/site-packages/sklearn/linear_model/_coordinate_descent.py:697: ConvergenceWarning: Objective did not converge. You might want to increase the number of iterations, check the scale of the features or consider increasing regularisation. Duality gap: 2.427e-01, tolerance: 1.294e-01\n",
      "  model = cd_fast.enet_coordinate_descent(\n"
     ]
    },
    {
     "name": "stdout",
     "output_type": "stream",
     "text": [
      "[step_search_start] step=250, hp=4, fe=3, expected_evals=6\n"
     ]
    },
    {
     "name": "stderr",
     "output_type": "stream",
     "text": [
      "/Library/Frameworks/Python.framework/Versions/3.12/lib/python3.12/site-packages/sklearn/linear_model/_coordinate_descent.py:697: ConvergenceWarning: Objective did not converge. You might want to increase the number of iterations, check the scale of the features or consider increasing regularisation. Duality gap: 1.495e+01, tolerance: 1.305e-01\n",
      "  model = cd_fast.enet_coordinate_descent(\n"
     ]
    },
    {
     "name": "stdout",
     "output_type": "stream",
     "text": [
      "[step_eval] step=250, done=1, total=6, hp_idx=1, fe_idx=1, score=0.837147\n"
     ]
    },
    {
     "name": "stderr",
     "output_type": "stream",
     "text": [
      "/Library/Frameworks/Python.framework/Versions/3.12/lib/python3.12/site-packages/sklearn/linear_model/_coordinate_descent.py:697: ConvergenceWarning: Objective did not converge. You might want to increase the number of iterations, check the scale of the features or consider increasing regularisation. Duality gap: 1.495e+01, tolerance: 1.305e-01\n",
      "  model = cd_fast.enet_coordinate_descent(\n"
     ]
    },
    {
     "name": "stdout",
     "output_type": "stream",
     "text": [
      "[step_eval] step=250, done=2, total=6, hp_idx=1, fe_idx=2, score=5.70574\n"
     ]
    },
    {
     "name": "stderr",
     "output_type": "stream",
     "text": [
      "/Library/Frameworks/Python.framework/Versions/3.12/lib/python3.12/site-packages/sklearn/linear_model/_coordinate_descent.py:697: ConvergenceWarning: Objective did not converge. You might want to increase the number of iterations, check the scale of the features or consider increasing regularisation. Duality gap: 2.258e+01, tolerance: 1.294e-01\n",
      "  model = cd_fast.enet_coordinate_descent(\n"
     ]
    },
    {
     "name": "stdout",
     "output_type": "stream",
     "text": [
      "[step_eval] step=250, done=3, total=6, hp_idx=1, fe_idx=3, score=0.287057\n"
     ]
    },
    {
     "name": "stderr",
     "output_type": "stream",
     "text": [
      "/Library/Frameworks/Python.framework/Versions/3.12/lib/python3.12/site-packages/sklearn/linear_model/_coordinate_descent.py:697: ConvergenceWarning: Objective did not converge. You might want to increase the number of iterations, check the scale of the features or consider increasing regularisation. Duality gap: 5.931e+00, tolerance: 1.305e-01\n",
      "  model = cd_fast.enet_coordinate_descent(\n"
     ]
    },
    {
     "name": "stdout",
     "output_type": "stream",
     "text": [
      "[step_eval] step=250, done=4, total=6, hp_idx=2, fe_idx=1, score=0.366795\n",
      "[step_eval] step=250, done=5, total=6, hp_idx=3, fe_idx=1, score=0.385351\n",
      "[step_eval] step=250, done=6, total=6, hp_idx=4, fe_idx=1, score=0.594501\n",
      "[step_done] step=250, best_score=0.287057\n",
      "[step_predict] step=251, of=299, date=2020-12-01\n"
     ]
    },
    {
     "name": "stderr",
     "output_type": "stream",
     "text": [
      "/Library/Frameworks/Python.framework/Versions/3.12/lib/python3.12/site-packages/sklearn/linear_model/_coordinate_descent.py:697: ConvergenceWarning: Objective did not converge. You might want to increase the number of iterations, check the scale of the features or consider increasing regularisation. Duality gap: 2.420e-01, tolerance: 1.305e-01\n",
      "  model = cd_fast.enet_coordinate_descent(\n"
     ]
    },
    {
     "name": "stdout",
     "output_type": "stream",
     "text": [
      "[step_search_start] step=251, hp=4, fe=3, expected_evals=6\n"
     ]
    },
    {
     "name": "stderr",
     "output_type": "stream",
     "text": [
      "/Library/Frameworks/Python.framework/Versions/3.12/lib/python3.12/site-packages/sklearn/linear_model/_coordinate_descent.py:697: ConvergenceWarning: Objective did not converge. You might want to increase the number of iterations, check the scale of the features or consider increasing regularisation. Duality gap: 3.468e+00, tolerance: 1.307e-01\n",
      "  model = cd_fast.enet_coordinate_descent(\n"
     ]
    },
    {
     "name": "stdout",
     "output_type": "stream",
     "text": [
      "[step_eval] step=251, done=1, total=6, hp_idx=1, fe_idx=1, score=0.505941\n"
     ]
    },
    {
     "name": "stderr",
     "output_type": "stream",
     "text": [
      "/Library/Frameworks/Python.framework/Versions/3.12/lib/python3.12/site-packages/sklearn/linear_model/_coordinate_descent.py:697: ConvergenceWarning: Objective did not converge. You might want to increase the number of iterations, check the scale of the features or consider increasing regularisation. Duality gap: 2.044e+01, tolerance: 1.307e-01\n",
      "  model = cd_fast.enet_coordinate_descent(\n"
     ]
    },
    {
     "name": "stdout",
     "output_type": "stream",
     "text": [
      "[step_eval] step=251, done=2, total=6, hp_idx=1, fe_idx=2, score=0.435168\n"
     ]
    },
    {
     "name": "stderr",
     "output_type": "stream",
     "text": [
      "/Library/Frameworks/Python.framework/Versions/3.12/lib/python3.12/site-packages/sklearn/linear_model/_coordinate_descent.py:697: ConvergenceWarning: Objective did not converge. You might want to increase the number of iterations, check the scale of the features or consider increasing regularisation. Duality gap: 8.024e+00, tolerance: 1.295e-01\n",
      "  model = cd_fast.enet_coordinate_descent(\n"
     ]
    },
    {
     "name": "stdout",
     "output_type": "stream",
     "text": [
      "[step_eval] step=251, done=3, total=6, hp_idx=1, fe_idx=3, score=0.986383\n"
     ]
    },
    {
     "name": "stderr",
     "output_type": "stream",
     "text": [
      "/Library/Frameworks/Python.framework/Versions/3.12/lib/python3.12/site-packages/sklearn/linear_model/_coordinate_descent.py:697: ConvergenceWarning: Objective did not converge. You might want to increase the number of iterations, check the scale of the features or consider increasing regularisation. Duality gap: 3.468e+00, tolerance: 1.307e-01\n",
      "  model = cd_fast.enet_coordinate_descent(\n"
     ]
    },
    {
     "name": "stdout",
     "output_type": "stream",
     "text": [
      "[step_eval] step=251, done=4, total=6, hp_idx=2, fe_idx=1, score=0.100614\n",
      "[step_eval] step=251, done=5, total=6, hp_idx=3, fe_idx=1, score=0.46586\n",
      "[step_eval] step=251, done=6, total=6, hp_idx=4, fe_idx=1, score=0.884049\n",
      "[step_done] step=251, best_score=0.100614\n",
      "[step_predict] step=252, of=299, date=2021-01-01\n",
      "[step_search_start] step=252, hp=4, fe=3, expected_evals=6\n",
      "[step_eval] step=252, done=1, total=6, hp_idx=1, fe_idx=1, score=4.980806\n"
     ]
    },
    {
     "name": "stderr",
     "output_type": "stream",
     "text": [
      "/Library/Frameworks/Python.framework/Versions/3.12/lib/python3.12/site-packages/sklearn/linear_model/_coordinate_descent.py:697: ConvergenceWarning: Objective did not converge. You might want to increase the number of iterations, check the scale of the features or consider increasing regularisation. Duality gap: 1.958e+01, tolerance: 1.308e-01\n",
      "  model = cd_fast.enet_coordinate_descent(\n"
     ]
    },
    {
     "name": "stdout",
     "output_type": "stream",
     "text": [
      "[step_eval] step=252, done=2, total=6, hp_idx=1, fe_idx=2, score=3.734531\n"
     ]
    },
    {
     "name": "stderr",
     "output_type": "stream",
     "text": [
      "/Library/Frameworks/Python.framework/Versions/3.12/lib/python3.12/site-packages/sklearn/linear_model/_coordinate_descent.py:697: ConvergenceWarning: Objective did not converge. You might want to increase the number of iterations, check the scale of the features or consider increasing regularisation. Duality gap: 5.501e+00, tolerance: 1.297e-01\n",
      "  model = cd_fast.enet_coordinate_descent(\n"
     ]
    },
    {
     "name": "stdout",
     "output_type": "stream",
     "text": [
      "[step_eval] step=252, done=3, total=6, hp_idx=1, fe_idx=3, score=4.217463\n"
     ]
    },
    {
     "name": "stderr",
     "output_type": "stream",
     "text": [
      "/Library/Frameworks/Python.framework/Versions/3.12/lib/python3.12/site-packages/sklearn/linear_model/_coordinate_descent.py:697: ConvergenceWarning: Objective did not converge. You might want to increase the number of iterations, check the scale of the features or consider increasing regularisation. Duality gap: 6.922e+00, tolerance: 1.308e-01\n",
      "  model = cd_fast.enet_coordinate_descent(\n"
     ]
    },
    {
     "name": "stdout",
     "output_type": "stream",
     "text": [
      "[step_eval] step=252, done=4, total=6, hp_idx=2, fe_idx=1, score=3.234664\n",
      "[step_eval] step=252, done=5, total=6, hp_idx=3, fe_idx=1, score=2.735473\n",
      "[step_eval] step=252, done=6, total=6, hp_idx=4, fe_idx=1, score=2.728279\n",
      "[step_done] step=252, best_score=2.728279\n",
      "[step_predict] step=253, of=299, date=2021-02-01\n",
      "[step_search_start] step=253, hp=4, fe=3, expected_evals=6\n",
      "[step_eval] step=253, done=1, total=6, hp_idx=1, fe_idx=1, score=1.42239\n"
     ]
    },
    {
     "name": "stderr",
     "output_type": "stream",
     "text": [
      "/Library/Frameworks/Python.framework/Versions/3.12/lib/python3.12/site-packages/sklearn/linear_model/_coordinate_descent.py:697: ConvergenceWarning: Objective did not converge. You might want to increase the number of iterations, check the scale of the features or consider increasing regularisation. Duality gap: 1.468e+01, tolerance: 1.313e-01\n",
      "  model = cd_fast.enet_coordinate_descent(\n"
     ]
    },
    {
     "name": "stdout",
     "output_type": "stream",
     "text": [
      "[step_eval] step=253, done=2, total=6, hp_idx=1, fe_idx=2, score=4.041899\n"
     ]
    },
    {
     "name": "stderr",
     "output_type": "stream",
     "text": [
      "/Library/Frameworks/Python.framework/Versions/3.12/lib/python3.12/site-packages/sklearn/linear_model/_coordinate_descent.py:697: ConvergenceWarning: Objective did not converge. You might want to increase the number of iterations, check the scale of the features or consider increasing regularisation. Duality gap: 1.435e+01, tolerance: 1.302e-01\n",
      "  model = cd_fast.enet_coordinate_descent(\n"
     ]
    },
    {
     "name": "stdout",
     "output_type": "stream",
     "text": [
      "[step_eval] step=253, done=3, total=6, hp_idx=1, fe_idx=3, score=2.490851\n"
     ]
    },
    {
     "name": "stderr",
     "output_type": "stream",
     "text": [
      "/Library/Frameworks/Python.framework/Versions/3.12/lib/python3.12/site-packages/sklearn/linear_model/_coordinate_descent.py:697: ConvergenceWarning: Objective did not converge. You might want to increase the number of iterations, check the scale of the features or consider increasing regularisation. Duality gap: 8.742e+00, tolerance: 1.313e-01\n",
      "  model = cd_fast.enet_coordinate_descent(\n"
     ]
    },
    {
     "name": "stdout",
     "output_type": "stream",
     "text": [
      "[step_eval] step=253, done=4, total=6, hp_idx=2, fe_idx=1, score=2.477694\n",
      "[step_eval] step=253, done=5, total=6, hp_idx=3, fe_idx=1, score=3.675405\n",
      "[step_eval] step=253, done=6, total=6, hp_idx=4, fe_idx=1, score=3.122388\n",
      "[step_done] step=253, best_score=1.42239\n",
      "[step_predict] step=254, of=299, date=2021-03-01\n"
     ]
    },
    {
     "name": "stderr",
     "output_type": "stream",
     "text": [
      "/Library/Frameworks/Python.framework/Versions/3.12/lib/python3.12/site-packages/sklearn/linear_model/_coordinate_descent.py:697: ConvergenceWarning: Objective did not converge. You might want to increase the number of iterations, check the scale of the features or consider increasing regularisation. Duality gap: 7.337e-01, tolerance: 1.313e-01\n",
      "  model = cd_fast.enet_coordinate_descent(\n"
     ]
    },
    {
     "name": "stdout",
     "output_type": "stream",
     "text": [
      "[step_search_start] step=254, hp=4, fe=3, expected_evals=6\n"
     ]
    },
    {
     "name": "stderr",
     "output_type": "stream",
     "text": [
      "/Library/Frameworks/Python.framework/Versions/3.12/lib/python3.12/site-packages/sklearn/linear_model/_coordinate_descent.py:697: ConvergenceWarning: Objective did not converge. You might want to increase the number of iterations, check the scale of the features or consider increasing regularisation. Duality gap: 1.657e+01, tolerance: 1.318e-01\n",
      "  model = cd_fast.enet_coordinate_descent(\n"
     ]
    },
    {
     "name": "stdout",
     "output_type": "stream",
     "text": [
      "[step_eval] step=254, done=1, total=6, hp_idx=1, fe_idx=1, score=1.264189\n"
     ]
    },
    {
     "name": "stderr",
     "output_type": "stream",
     "text": [
      "/Library/Frameworks/Python.framework/Versions/3.12/lib/python3.12/site-packages/sklearn/linear_model/_coordinate_descent.py:697: ConvergenceWarning: Objective did not converge. You might want to increase the number of iterations, check the scale of the features or consider increasing regularisation. Duality gap: 1.657e+01, tolerance: 1.318e-01\n",
      "  model = cd_fast.enet_coordinate_descent(\n"
     ]
    },
    {
     "name": "stdout",
     "output_type": "stream",
     "text": [
      "[step_eval] step=254, done=2, total=6, hp_idx=1, fe_idx=2, score=3.804917\n"
     ]
    },
    {
     "name": "stderr",
     "output_type": "stream",
     "text": [
      "/Library/Frameworks/Python.framework/Versions/3.12/lib/python3.12/site-packages/sklearn/linear_model/_coordinate_descent.py:697: ConvergenceWarning: Objective did not converge. You might want to increase the number of iterations, check the scale of the features or consider increasing regularisation. Duality gap: 1.600e+01, tolerance: 1.307e-01\n",
      "  model = cd_fast.enet_coordinate_descent(\n"
     ]
    },
    {
     "name": "stdout",
     "output_type": "stream",
     "text": [
      "[step_eval] step=254, done=3, total=6, hp_idx=1, fe_idx=3, score=4.446414\n"
     ]
    },
    {
     "name": "stderr",
     "output_type": "stream",
     "text": [
      "/Library/Frameworks/Python.framework/Versions/3.12/lib/python3.12/site-packages/sklearn/linear_model/_coordinate_descent.py:697: ConvergenceWarning: Objective did not converge. You might want to increase the number of iterations, check the scale of the features or consider increasing regularisation. Duality gap: 7.602e+00, tolerance: 1.318e-01\n",
      "  model = cd_fast.enet_coordinate_descent(\n"
     ]
    },
    {
     "name": "stdout",
     "output_type": "stream",
     "text": [
      "[step_eval] step=254, done=4, total=6, hp_idx=2, fe_idx=1, score=1.144307\n",
      "[step_eval] step=254, done=5, total=6, hp_idx=3, fe_idx=1, score=2.446405\n",
      "[step_eval] step=254, done=6, total=6, hp_idx=4, fe_idx=1, score=2.878243\n",
      "[step_done] step=254, best_score=1.144307\n",
      "[step_predict] step=255, of=299, date=2021-04-01\n"
     ]
    },
    {
     "name": "stderr",
     "output_type": "stream",
     "text": [
      "/Library/Frameworks/Python.framework/Versions/3.12/lib/python3.12/site-packages/sklearn/linear_model/_coordinate_descent.py:697: ConvergenceWarning: Objective did not converge. You might want to increase the number of iterations, check the scale of the features or consider increasing regularisation. Duality gap: 7.592e-01, tolerance: 1.318e-01\n",
      "  model = cd_fast.enet_coordinate_descent(\n"
     ]
    },
    {
     "name": "stdout",
     "output_type": "stream",
     "text": [
      "[step_search_start] step=255, hp=4, fe=3, expected_evals=6\n"
     ]
    },
    {
     "name": "stderr",
     "output_type": "stream",
     "text": [
      "/Library/Frameworks/Python.framework/Versions/3.12/lib/python3.12/site-packages/sklearn/linear_model/_coordinate_descent.py:697: ConvergenceWarning: Objective did not converge. You might want to increase the number of iterations, check the scale of the features or consider increasing regularisation. Duality gap: 1.127e+00, tolerance: 1.330e-01\n",
      "  model = cd_fast.enet_coordinate_descent(\n"
     ]
    },
    {
     "name": "stdout",
     "output_type": "stream",
     "text": [
      "[step_eval] step=255, done=1, total=6, hp_idx=1, fe_idx=1, score=3.502981\n"
     ]
    },
    {
     "name": "stderr",
     "output_type": "stream",
     "text": [
      "/Library/Frameworks/Python.framework/Versions/3.12/lib/python3.12/site-packages/sklearn/linear_model/_coordinate_descent.py:697: ConvergenceWarning: Objective did not converge. You might want to increase the number of iterations, check the scale of the features or consider increasing regularisation. Duality gap: 7.695e+00, tolerance: 1.330e-01\n",
      "  model = cd_fast.enet_coordinate_descent(\n"
     ]
    },
    {
     "name": "stdout",
     "output_type": "stream",
     "text": [
      "[step_eval] step=255, done=2, total=6, hp_idx=1, fe_idx=2, score=4.268095\n"
     ]
    },
    {
     "name": "stderr",
     "output_type": "stream",
     "text": [
      "/Library/Frameworks/Python.framework/Versions/3.12/lib/python3.12/site-packages/sklearn/linear_model/_coordinate_descent.py:697: ConvergenceWarning: Objective did not converge. You might want to increase the number of iterations, check the scale of the features or consider increasing regularisation. Duality gap: 2.217e+01, tolerance: 1.318e-01\n",
      "  model = cd_fast.enet_coordinate_descent(\n"
     ]
    },
    {
     "name": "stdout",
     "output_type": "stream",
     "text": [
      "[step_eval] step=255, done=3, total=6, hp_idx=1, fe_idx=3, score=0.434221\n"
     ]
    },
    {
     "name": "stderr",
     "output_type": "stream",
     "text": [
      "/Library/Frameworks/Python.framework/Versions/3.12/lib/python3.12/site-packages/sklearn/linear_model/_coordinate_descent.py:697: ConvergenceWarning: Objective did not converge. You might want to increase the number of iterations, check the scale of the features or consider increasing regularisation. Duality gap: 8.630e+00, tolerance: 1.330e-01\n",
      "  model = cd_fast.enet_coordinate_descent(\n"
     ]
    },
    {
     "name": "stdout",
     "output_type": "stream",
     "text": [
      "[step_eval] step=255, done=4, total=6, hp_idx=2, fe_idx=1, score=0.905272\n",
      "[step_eval] step=255, done=5, total=6, hp_idx=3, fe_idx=1, score=2.082317\n",
      "[step_eval] step=255, done=6, total=6, hp_idx=4, fe_idx=1, score=1.519226\n",
      "[step_done] step=255, best_score=0.434221\n",
      "[step_predict] step=256, of=299, date=2021-05-01\n",
      "[step_search_start] step=256, hp=4, fe=3, expected_evals=6\n"
     ]
    },
    {
     "name": "stderr",
     "output_type": "stream",
     "text": [
      "/Library/Frameworks/Python.framework/Versions/3.12/lib/python3.12/site-packages/sklearn/linear_model/_coordinate_descent.py:697: ConvergenceWarning: Objective did not converge. You might want to increase the number of iterations, check the scale of the features or consider increasing regularisation. Duality gap: 7.383e+00, tolerance: 1.330e-01\n",
      "  model = cd_fast.enet_coordinate_descent(\n"
     ]
    },
    {
     "name": "stdout",
     "output_type": "stream",
     "text": [
      "[step_eval] step=256, done=1, total=6, hp_idx=1, fe_idx=1, score=0.753869\n"
     ]
    },
    {
     "name": "stderr",
     "output_type": "stream",
     "text": [
      "/Library/Frameworks/Python.framework/Versions/3.12/lib/python3.12/site-packages/sklearn/linear_model/_coordinate_descent.py:697: ConvergenceWarning: Objective did not converge. You might want to increase the number of iterations, check the scale of the features or consider increasing regularisation. Duality gap: 8.725e+00, tolerance: 1.330e-01\n",
      "  model = cd_fast.enet_coordinate_descent(\n"
     ]
    },
    {
     "name": "stdout",
     "output_type": "stream",
     "text": [
      "[step_eval] step=256, done=2, total=6, hp_idx=1, fe_idx=2, score=0.378589\n"
     ]
    },
    {
     "name": "stderr",
     "output_type": "stream",
     "text": [
      "/Library/Frameworks/Python.framework/Versions/3.12/lib/python3.12/site-packages/sklearn/linear_model/_coordinate_descent.py:697: ConvergenceWarning: Objective did not converge. You might want to increase the number of iterations, check the scale of the features or consider increasing regularisation. Duality gap: 2.148e+01, tolerance: 1.318e-01\n",
      "  model = cd_fast.enet_coordinate_descent(\n"
     ]
    },
    {
     "name": "stdout",
     "output_type": "stream",
     "text": [
      "[step_eval] step=256, done=3, total=6, hp_idx=1, fe_idx=3, score=0.279523\n"
     ]
    },
    {
     "name": "stderr",
     "output_type": "stream",
     "text": [
      "/Library/Frameworks/Python.framework/Versions/3.12/lib/python3.12/site-packages/sklearn/linear_model/_coordinate_descent.py:697: ConvergenceWarning: Objective did not converge. You might want to increase the number of iterations, check the scale of the features or consider increasing regularisation. Duality gap: 7.383e+00, tolerance: 1.330e-01\n",
      "  model = cd_fast.enet_coordinate_descent(\n"
     ]
    },
    {
     "name": "stdout",
     "output_type": "stream",
     "text": [
      "[step_eval] step=256, done=4, total=6, hp_idx=2, fe_idx=1, score=0.442922\n",
      "[step_eval] step=256, done=5, total=6, hp_idx=3, fe_idx=1, score=1.852395\n",
      "[step_eval] step=256, done=6, total=6, hp_idx=4, fe_idx=1, score=2.058492\n",
      "[step_done] step=256, best_score=0.279523\n",
      "[step_predict] step=257, of=299, date=2021-06-01\n",
      "[step_search_start] step=257, hp=4, fe=3, expected_evals=6\n"
     ]
    },
    {
     "name": "stderr",
     "output_type": "stream",
     "text": [
      "/Library/Frameworks/Python.framework/Versions/3.12/lib/python3.12/site-packages/sklearn/linear_model/_coordinate_descent.py:697: ConvergenceWarning: Objective did not converge. You might want to increase the number of iterations, check the scale of the features or consider increasing regularisation. Duality gap: 7.417e+00, tolerance: 1.332e-01\n",
      "  model = cd_fast.enet_coordinate_descent(\n"
     ]
    },
    {
     "name": "stdout",
     "output_type": "stream",
     "text": [
      "[step_eval] step=257, done=1, total=6, hp_idx=1, fe_idx=1, score=0.496832\n"
     ]
    },
    {
     "name": "stderr",
     "output_type": "stream",
     "text": [
      "/Library/Frameworks/Python.framework/Versions/3.12/lib/python3.12/site-packages/sklearn/linear_model/_coordinate_descent.py:697: ConvergenceWarning: Objective did not converge. You might want to increase the number of iterations, check the scale of the features or consider increasing regularisation. Duality gap: 9.419e+00, tolerance: 1.332e-01\n",
      "  model = cd_fast.enet_coordinate_descent(\n"
     ]
    },
    {
     "name": "stdout",
     "output_type": "stream",
     "text": [
      "[step_eval] step=257, done=2, total=6, hp_idx=1, fe_idx=2, score=1.476841\n"
     ]
    },
    {
     "name": "stderr",
     "output_type": "stream",
     "text": [
      "/Library/Frameworks/Python.framework/Versions/3.12/lib/python3.12/site-packages/sklearn/linear_model/_coordinate_descent.py:697: ConvergenceWarning: Objective did not converge. You might want to increase the number of iterations, check the scale of the features or consider increasing regularisation. Duality gap: 2.290e+01, tolerance: 1.320e-01\n",
      "  model = cd_fast.enet_coordinate_descent(\n"
     ]
    },
    {
     "name": "stdout",
     "output_type": "stream",
     "text": [
      "[step_eval] step=257, done=3, total=6, hp_idx=1, fe_idx=3, score=0.116262\n"
     ]
    },
    {
     "name": "stderr",
     "output_type": "stream",
     "text": [
      "/Library/Frameworks/Python.framework/Versions/3.12/lib/python3.12/site-packages/sklearn/linear_model/_coordinate_descent.py:697: ConvergenceWarning: Objective did not converge. You might want to increase the number of iterations, check the scale of the features or consider increasing regularisation. Duality gap: 7.417e+00, tolerance: 1.332e-01\n",
      "  model = cd_fast.enet_coordinate_descent(\n"
     ]
    },
    {
     "name": "stdout",
     "output_type": "stream",
     "text": [
      "[step_eval] step=257, done=4, total=6, hp_idx=2, fe_idx=1, score=0.190297\n",
      "[step_eval] step=257, done=5, total=6, hp_idx=3, fe_idx=1, score=1.501913\n",
      "[step_eval] step=257, done=6, total=6, hp_idx=4, fe_idx=1, score=2.059382\n",
      "[step_done] step=257, best_score=0.116262\n",
      "[step_predict] step=258, of=299, date=2021-07-01\n",
      "[step_search_start] step=258, hp=4, fe=3, expected_evals=6\n"
     ]
    },
    {
     "name": "stderr",
     "output_type": "stream",
     "text": [
      "/Library/Frameworks/Python.framework/Versions/3.12/lib/python3.12/site-packages/sklearn/linear_model/_coordinate_descent.py:697: ConvergenceWarning: Objective did not converge. You might want to increase the number of iterations, check the scale of the features or consider increasing regularisation. Duality gap: 9.369e+00, tolerance: 1.334e-01\n",
      "  model = cd_fast.enet_coordinate_descent(\n"
     ]
    },
    {
     "name": "stdout",
     "output_type": "stream",
     "text": [
      "[step_eval] step=258, done=1, total=6, hp_idx=1, fe_idx=1, score=4.848177\n"
     ]
    },
    {
     "name": "stderr",
     "output_type": "stream",
     "text": [
      "/Library/Frameworks/Python.framework/Versions/3.12/lib/python3.12/site-packages/sklearn/linear_model/_coordinate_descent.py:697: ConvergenceWarning: Objective did not converge. You might want to increase the number of iterations, check the scale of the features or consider increasing regularisation. Duality gap: 7.431e+00, tolerance: 1.334e-01\n",
      "  model = cd_fast.enet_coordinate_descent(\n"
     ]
    },
    {
     "name": "stdout",
     "output_type": "stream",
     "text": [
      "[step_eval] step=258, done=2, total=6, hp_idx=1, fe_idx=2, score=2.23917\n"
     ]
    },
    {
     "name": "stderr",
     "output_type": "stream",
     "text": [
      "/Library/Frameworks/Python.framework/Versions/3.12/lib/python3.12/site-packages/sklearn/linear_model/_coordinate_descent.py:697: ConvergenceWarning: Objective did not converge. You might want to increase the number of iterations, check the scale of the features or consider increasing regularisation. Duality gap: 1.478e+01, tolerance: 1.322e-01\n",
      "  model = cd_fast.enet_coordinate_descent(\n"
     ]
    },
    {
     "name": "stdout",
     "output_type": "stream",
     "text": [
      "[step_eval] step=258, done=3, total=6, hp_idx=1, fe_idx=3, score=4.475754\n"
     ]
    },
    {
     "name": "stderr",
     "output_type": "stream",
     "text": [
      "/Library/Frameworks/Python.framework/Versions/3.12/lib/python3.12/site-packages/sklearn/linear_model/_coordinate_descent.py:697: ConvergenceWarning: Objective did not converge. You might want to increase the number of iterations, check the scale of the features or consider increasing regularisation. Duality gap: 9.369e+00, tolerance: 1.334e-01\n",
      "  model = cd_fast.enet_coordinate_descent(\n"
     ]
    },
    {
     "name": "stdout",
     "output_type": "stream",
     "text": [
      "[step_eval] step=258, done=4, total=6, hp_idx=2, fe_idx=1, score=2.286692\n",
      "[step_eval] step=258, done=5, total=6, hp_idx=3, fe_idx=1, score=1.901355\n",
      "[step_eval] step=258, done=6, total=6, hp_idx=4, fe_idx=1, score=1.49838\n",
      "[step_done] step=258, best_score=1.49838\n",
      "[step_predict] step=259, of=299, date=2021-08-01\n",
      "[step_search_start] step=259, hp=4, fe=3, expected_evals=6\n",
      "[step_eval] step=259, done=1, total=6, hp_idx=1, fe_idx=1, score=4.157683\n"
     ]
    },
    {
     "name": "stderr",
     "output_type": "stream",
     "text": [
      "/Library/Frameworks/Python.framework/Versions/3.12/lib/python3.12/site-packages/sklearn/linear_model/_coordinate_descent.py:697: ConvergenceWarning: Objective did not converge. You might want to increase the number of iterations, check the scale of the features or consider increasing regularisation. Duality gap: 6.979e+00, tolerance: 1.335e-01\n",
      "  model = cd_fast.enet_coordinate_descent(\n"
     ]
    },
    {
     "name": "stdout",
     "output_type": "stream",
     "text": [
      "[step_eval] step=259, done=2, total=6, hp_idx=1, fe_idx=2, score=3.068154\n"
     ]
    },
    {
     "name": "stderr",
     "output_type": "stream",
     "text": [
      "/Library/Frameworks/Python.framework/Versions/3.12/lib/python3.12/site-packages/sklearn/linear_model/_coordinate_descent.py:697: ConvergenceWarning: Objective did not converge. You might want to increase the number of iterations, check the scale of the features or consider increasing regularisation. Duality gap: 2.013e+01, tolerance: 1.324e-01\n",
      "  model = cd_fast.enet_coordinate_descent(\n"
     ]
    },
    {
     "name": "stdout",
     "output_type": "stream",
     "text": [
      "[step_eval] step=259, done=3, total=6, hp_idx=1, fe_idx=3, score=0.154079\n"
     ]
    },
    {
     "name": "stderr",
     "output_type": "stream",
     "text": [
      "/Library/Frameworks/Python.framework/Versions/3.12/lib/python3.12/site-packages/sklearn/linear_model/_coordinate_descent.py:697: ConvergenceWarning: Objective did not converge. You might want to increase the number of iterations, check the scale of the features or consider increasing regularisation. Duality gap: 7.654e+00, tolerance: 1.335e-01\n",
      "  model = cd_fast.enet_coordinate_descent(\n"
     ]
    },
    {
     "name": "stdout",
     "output_type": "stream",
     "text": [
      "[step_eval] step=259, done=4, total=6, hp_idx=2, fe_idx=1, score=0.841553\n",
      "[step_eval] step=259, done=5, total=6, hp_idx=3, fe_idx=1, score=2.980801\n",
      "[step_eval] step=259, done=6, total=6, hp_idx=4, fe_idx=1, score=3.842965\n",
      "[step_done] step=259, best_score=0.154079\n",
      "[step_predict] step=260, of=299, date=2021-09-01\n",
      "[step_search_start] step=260, hp=4, fe=3, expected_evals=6\n"
     ]
    },
    {
     "name": "stderr",
     "output_type": "stream",
     "text": [
      "/Library/Frameworks/Python.framework/Versions/3.12/lib/python3.12/site-packages/sklearn/linear_model/_coordinate_descent.py:697: ConvergenceWarning: Objective did not converge. You might want to increase the number of iterations, check the scale of the features or consider increasing regularisation. Duality gap: 2.320e+01, tolerance: 1.355e-01\n",
      "  model = cd_fast.enet_coordinate_descent(\n"
     ]
    },
    {
     "name": "stdout",
     "output_type": "stream",
     "text": [
      "[step_eval] step=260, done=1, total=6, hp_idx=1, fe_idx=1, score=7.208752\n"
     ]
    },
    {
     "name": "stderr",
     "output_type": "stream",
     "text": [
      "/Library/Frameworks/Python.framework/Versions/3.12/lib/python3.12/site-packages/sklearn/linear_model/_coordinate_descent.py:697: ConvergenceWarning: Objective did not converge. You might want to increase the number of iterations, check the scale of the features or consider increasing regularisation. Duality gap: 1.117e+01, tolerance: 1.355e-01\n",
      "  model = cd_fast.enet_coordinate_descent(\n"
     ]
    },
    {
     "name": "stdout",
     "output_type": "stream",
     "text": [
      "[step_eval] step=260, done=2, total=6, hp_idx=1, fe_idx=2, score=4.223655\n"
     ]
    },
    {
     "name": "stderr",
     "output_type": "stream",
     "text": [
      "/Library/Frameworks/Python.framework/Versions/3.12/lib/python3.12/site-packages/sklearn/linear_model/_coordinate_descent.py:697: ConvergenceWarning: Objective did not converge. You might want to increase the number of iterations, check the scale of the features or consider increasing regularisation. Duality gap: 1.675e+01, tolerance: 1.344e-01\n",
      "  model = cd_fast.enet_coordinate_descent(\n"
     ]
    },
    {
     "name": "stdout",
     "output_type": "stream",
     "text": [
      "[step_eval] step=260, done=3, total=6, hp_idx=1, fe_idx=3, score=3.974308\n"
     ]
    },
    {
     "name": "stderr",
     "output_type": "stream",
     "text": [
      "/Library/Frameworks/Python.framework/Versions/3.12/lib/python3.12/site-packages/sklearn/linear_model/_coordinate_descent.py:697: ConvergenceWarning: Objective did not converge. You might want to increase the number of iterations, check the scale of the features or consider increasing regularisation. Duality gap: 2.320e+01, tolerance: 1.355e-01\n",
      "  model = cd_fast.enet_coordinate_descent(\n"
     ]
    },
    {
     "name": "stdout",
     "output_type": "stream",
     "text": [
      "[step_eval] step=260, done=4, total=6, hp_idx=2, fe_idx=1, score=3.904335\n",
      "[step_eval] step=260, done=5, total=6, hp_idx=3, fe_idx=1, score=2.457855\n",
      "[step_eval] step=260, done=6, total=6, hp_idx=4, fe_idx=1, score=1.793521\n",
      "[step_done] step=260, best_score=1.793521\n",
      "[step_predict] step=261, of=299, date=2021-10-01\n",
      "[step_search_start] step=261, hp=4, fe=3, expected_evals=6\n"
     ]
    },
    {
     "name": "stderr",
     "output_type": "stream",
     "text": [
      "/Library/Frameworks/Python.framework/Versions/3.12/lib/python3.12/site-packages/sklearn/linear_model/_coordinate_descent.py:697: ConvergenceWarning: Objective did not converge. You might want to increase the number of iterations, check the scale of the features or consider increasing regularisation. Duality gap: 5.836e-01, tolerance: 1.355e-01\n",
      "  model = cd_fast.enet_coordinate_descent(\n"
     ]
    },
    {
     "name": "stdout",
     "output_type": "stream",
     "text": [
      "[step_eval] step=261, done=1, total=6, hp_idx=1, fe_idx=1, score=0.61941\n"
     ]
    },
    {
     "name": "stderr",
     "output_type": "stream",
     "text": [
      "/Library/Frameworks/Python.framework/Versions/3.12/lib/python3.12/site-packages/sklearn/linear_model/_coordinate_descent.py:697: ConvergenceWarning: Objective did not converge. You might want to increase the number of iterations, check the scale of the features or consider increasing regularisation. Duality gap: 4.273e+00, tolerance: 1.355e-01\n",
      "  model = cd_fast.enet_coordinate_descent(\n"
     ]
    },
    {
     "name": "stdout",
     "output_type": "stream",
     "text": [
      "[step_eval] step=261, done=2, total=6, hp_idx=1, fe_idx=2, score=2.107521\n"
     ]
    },
    {
     "name": "stderr",
     "output_type": "stream",
     "text": [
      "/Library/Frameworks/Python.framework/Versions/3.12/lib/python3.12/site-packages/sklearn/linear_model/_coordinate_descent.py:697: ConvergenceWarning: Objective did not converge. You might want to increase the number of iterations, check the scale of the features or consider increasing regularisation. Duality gap: 2.137e+01, tolerance: 1.344e-01\n",
      "  model = cd_fast.enet_coordinate_descent(\n"
     ]
    },
    {
     "name": "stdout",
     "output_type": "stream",
     "text": [
      "[step_eval] step=261, done=3, total=6, hp_idx=1, fe_idx=3, score=3.40666\n"
     ]
    },
    {
     "name": "stderr",
     "output_type": "stream",
     "text": [
      "/Library/Frameworks/Python.framework/Versions/3.12/lib/python3.12/site-packages/sklearn/linear_model/_coordinate_descent.py:697: ConvergenceWarning: Objective did not converge. You might want to increase the number of iterations, check the scale of the features or consider increasing regularisation. Duality gap: 1.836e+01, tolerance: 1.355e-01\n",
      "  model = cd_fast.enet_coordinate_descent(\n"
     ]
    },
    {
     "name": "stdout",
     "output_type": "stream",
     "text": [
      "[step_eval] step=261, done=4, total=6, hp_idx=2, fe_idx=1, score=0.728711\n",
      "[step_eval] step=261, done=5, total=6, hp_idx=3, fe_idx=1, score=3.576745\n",
      "[step_eval] step=261, done=6, total=6, hp_idx=4, fe_idx=1, score=4.070994\n",
      "[step_done] step=261, best_score=0.61941\n",
      "[step_predict] step=262, of=299, date=2021-11-01\n"
     ]
    },
    {
     "name": "stderr",
     "output_type": "stream",
     "text": [
      "/Library/Frameworks/Python.framework/Versions/3.12/lib/python3.12/site-packages/sklearn/linear_model/_coordinate_descent.py:697: ConvergenceWarning: Objective did not converge. You might want to increase the number of iterations, check the scale of the features or consider increasing regularisation. Duality gap: 5.657e-01, tolerance: 1.355e-01\n",
      "  model = cd_fast.enet_coordinate_descent(\n"
     ]
    },
    {
     "name": "stdout",
     "output_type": "stream",
     "text": [
      "[step_search_start] step=262, hp=4, fe=3, expected_evals=6\n"
     ]
    },
    {
     "name": "stderr",
     "output_type": "stream",
     "text": [
      "/Library/Frameworks/Python.framework/Versions/3.12/lib/python3.12/site-packages/sklearn/linear_model/_coordinate_descent.py:697: ConvergenceWarning: Objective did not converge. You might want to increase the number of iterations, check the scale of the features or consider increasing regularisation. Duality gap: 6.832e+00, tolerance: 1.365e-01\n",
      "  model = cd_fast.enet_coordinate_descent(\n"
     ]
    },
    {
     "name": "stdout",
     "output_type": "stream",
     "text": [
      "[step_eval] step=262, done=1, total=6, hp_idx=1, fe_idx=1, score=0.89979\n"
     ]
    },
    {
     "name": "stderr",
     "output_type": "stream",
     "text": [
      "/Library/Frameworks/Python.framework/Versions/3.12/lib/python3.12/site-packages/sklearn/linear_model/_coordinate_descent.py:697: ConvergenceWarning: Objective did not converge. You might want to increase the number of iterations, check the scale of the features or consider increasing regularisation. Duality gap: 6.832e+00, tolerance: 1.365e-01\n",
      "  model = cd_fast.enet_coordinate_descent(\n"
     ]
    },
    {
     "name": "stdout",
     "output_type": "stream",
     "text": [
      "[step_eval] step=262, done=2, total=6, hp_idx=1, fe_idx=2, score=3.669499\n"
     ]
    },
    {
     "name": "stderr",
     "output_type": "stream",
     "text": [
      "/Library/Frameworks/Python.framework/Versions/3.12/lib/python3.12/site-packages/sklearn/linear_model/_coordinate_descent.py:697: ConvergenceWarning: Objective did not converge. You might want to increase the number of iterations, check the scale of the features or consider increasing regularisation. Duality gap: 1.496e+01, tolerance: 1.354e-01\n",
      "  model = cd_fast.enet_coordinate_descent(\n"
     ]
    },
    {
     "name": "stdout",
     "output_type": "stream",
     "text": [
      "[step_eval] step=262, done=3, total=6, hp_idx=1, fe_idx=3, score=1.004847\n"
     ]
    },
    {
     "name": "stderr",
     "output_type": "stream",
     "text": [
      "/Library/Frameworks/Python.framework/Versions/3.12/lib/python3.12/site-packages/sklearn/linear_model/_coordinate_descent.py:697: ConvergenceWarning: Objective did not converge. You might want to increase the number of iterations, check the scale of the features or consider increasing regularisation. Duality gap: 1.073e+01, tolerance: 1.365e-01\n",
      "  model = cd_fast.enet_coordinate_descent(\n"
     ]
    },
    {
     "name": "stdout",
     "output_type": "stream",
     "text": [
      "[step_eval] step=262, done=4, total=6, hp_idx=2, fe_idx=1, score=1.068638\n",
      "[step_eval] step=262, done=5, total=6, hp_idx=3, fe_idx=1, score=0.371112\n",
      "[step_eval] step=262, done=6, total=6, hp_idx=4, fe_idx=1, score=1.039681\n",
      "[step_done] step=262, best_score=0.371112\n",
      "[step_predict] step=263, of=299, date=2021-12-01\n",
      "[step_search_start] step=263, hp=4, fe=3, expected_evals=6\n"
     ]
    },
    {
     "name": "stderr",
     "output_type": "stream",
     "text": [
      "/Library/Frameworks/Python.framework/Versions/3.12/lib/python3.12/site-packages/sklearn/linear_model/_coordinate_descent.py:697: ConvergenceWarning: Objective did not converge. You might want to increase the number of iterations, check the scale of the features or consider increasing regularisation. Duality gap: 3.531e-01, tolerance: 1.365e-01\n",
      "  model = cd_fast.enet_coordinate_descent(\n"
     ]
    },
    {
     "name": "stdout",
     "output_type": "stream",
     "text": [
      "[step_eval] step=263, done=1, total=6, hp_idx=1, fe_idx=1, score=0.668865\n"
     ]
    },
    {
     "name": "stderr",
     "output_type": "stream",
     "text": [
      "/Library/Frameworks/Python.framework/Versions/3.12/lib/python3.12/site-packages/sklearn/linear_model/_coordinate_descent.py:697: ConvergenceWarning: Objective did not converge. You might want to increase the number of iterations, check the scale of the features or consider increasing regularisation. Duality gap: 8.641e+00, tolerance: 1.365e-01\n",
      "  model = cd_fast.enet_coordinate_descent(\n"
     ]
    },
    {
     "name": "stdout",
     "output_type": "stream",
     "text": [
      "[step_eval] step=263, done=2, total=6, hp_idx=1, fe_idx=2, score=1.011425\n"
     ]
    },
    {
     "name": "stderr",
     "output_type": "stream",
     "text": [
      "/Library/Frameworks/Python.framework/Versions/3.12/lib/python3.12/site-packages/sklearn/linear_model/_coordinate_descent.py:697: ConvergenceWarning: Objective did not converge. You might want to increase the number of iterations, check the scale of the features or consider increasing regularisation. Duality gap: 1.935e+01, tolerance: 1.354e-01\n",
      "  model = cd_fast.enet_coordinate_descent(\n"
     ]
    },
    {
     "name": "stdout",
     "output_type": "stream",
     "text": [
      "[step_eval] step=263, done=3, total=6, hp_idx=1, fe_idx=3, score=0.790207\n"
     ]
    },
    {
     "name": "stderr",
     "output_type": "stream",
     "text": [
      "/Library/Frameworks/Python.framework/Versions/3.12/lib/python3.12/site-packages/sklearn/linear_model/_coordinate_descent.py:697: ConvergenceWarning: Objective did not converge. You might want to increase the number of iterations, check the scale of the features or consider increasing regularisation. Duality gap: 1.018e+01, tolerance: 1.365e-01\n",
      "  model = cd_fast.enet_coordinate_descent(\n"
     ]
    },
    {
     "name": "stdout",
     "output_type": "stream",
     "text": [
      "[step_eval] step=263, done=4, total=6, hp_idx=2, fe_idx=1, score=0.732658\n",
      "[step_eval] step=263, done=5, total=6, hp_idx=3, fe_idx=1, score=1.010676\n",
      "[step_eval] step=263, done=6, total=6, hp_idx=4, fe_idx=1, score=1.383173\n",
      "[step_done] step=263, best_score=0.668865\n",
      "[step_predict] step=264, of=299, date=2022-01-01\n"
     ]
    },
    {
     "name": "stderr",
     "output_type": "stream",
     "text": [
      "/Library/Frameworks/Python.framework/Versions/3.12/lib/python3.12/site-packages/sklearn/linear_model/_coordinate_descent.py:697: ConvergenceWarning: Objective did not converge. You might want to increase the number of iterations, check the scale of the features or consider increasing regularisation. Duality gap: 3.689e-01, tolerance: 1.365e-01\n",
      "  model = cd_fast.enet_coordinate_descent(\n"
     ]
    },
    {
     "name": "stdout",
     "output_type": "stream",
     "text": [
      "[step_search_start] step=264, hp=4, fe=3, expected_evals=6\n"
     ]
    },
    {
     "name": "stderr",
     "output_type": "stream",
     "text": [
      "/Library/Frameworks/Python.framework/Versions/3.12/lib/python3.12/site-packages/sklearn/linear_model/_coordinate_descent.py:697: ConvergenceWarning: Objective did not converge. You might want to increase the number of iterations, check the scale of the features or consider increasing regularisation. Duality gap: 1.197e+01, tolerance: 1.366e-01\n",
      "  model = cd_fast.enet_coordinate_descent(\n"
     ]
    },
    {
     "name": "stdout",
     "output_type": "stream",
     "text": [
      "[step_eval] step=264, done=1, total=6, hp_idx=1, fe_idx=1, score=1.262812\n"
     ]
    },
    {
     "name": "stderr",
     "output_type": "stream",
     "text": [
      "/Library/Frameworks/Python.framework/Versions/3.12/lib/python3.12/site-packages/sklearn/linear_model/_coordinate_descent.py:697: ConvergenceWarning: Objective did not converge. You might want to increase the number of iterations, check the scale of the features or consider increasing regularisation. Duality gap: 1.197e+01, tolerance: 1.366e-01\n",
      "  model = cd_fast.enet_coordinate_descent(\n"
     ]
    },
    {
     "name": "stdout",
     "output_type": "stream",
     "text": [
      "[step_eval] step=264, done=2, total=6, hp_idx=1, fe_idx=2, score=0.917185\n"
     ]
    },
    {
     "name": "stderr",
     "output_type": "stream",
     "text": [
      "/Library/Frameworks/Python.framework/Versions/3.12/lib/python3.12/site-packages/sklearn/linear_model/_coordinate_descent.py:697: ConvergenceWarning: Objective did not converge. You might want to increase the number of iterations, check the scale of the features or consider increasing regularisation. Duality gap: 1.555e+01, tolerance: 1.354e-01\n",
      "  model = cd_fast.enet_coordinate_descent(\n"
     ]
    },
    {
     "name": "stdout",
     "output_type": "stream",
     "text": [
      "[step_eval] step=264, done=3, total=6, hp_idx=1, fe_idx=3, score=2.040117\n"
     ]
    },
    {
     "name": "stderr",
     "output_type": "stream",
     "text": [
      "/Library/Frameworks/Python.framework/Versions/3.12/lib/python3.12/site-packages/sklearn/linear_model/_coordinate_descent.py:697: ConvergenceWarning: Objective did not converge. You might want to increase the number of iterations, check the scale of the features or consider increasing regularisation. Duality gap: 1.113e+01, tolerance: 1.366e-01\n",
      "  model = cd_fast.enet_coordinate_descent(\n"
     ]
    },
    {
     "name": "stdout",
     "output_type": "stream",
     "text": [
      "[step_eval] step=264, done=4, total=6, hp_idx=2, fe_idx=1, score=0.37397\n",
      "[step_eval] step=264, done=5, total=6, hp_idx=3, fe_idx=1, score=0.106075\n",
      "[step_eval] step=264, done=6, total=6, hp_idx=4, fe_idx=1, score=0.106869\n",
      "[step_done] step=264, best_score=0.106075\n",
      "[step_predict] step=265, of=299, date=2022-02-01\n",
      "[step_search_start] step=265, hp=4, fe=3, expected_evals=6\n"
     ]
    },
    {
     "name": "stderr",
     "output_type": "stream",
     "text": [
      "/Library/Frameworks/Python.framework/Versions/3.12/lib/python3.12/site-packages/sklearn/linear_model/_coordinate_descent.py:697: ConvergenceWarning: Objective did not converge. You might want to increase the number of iterations, check the scale of the features or consider increasing regularisation. Duality gap: 2.850e-01, tolerance: 1.354e-01\n",
      "  model = cd_fast.enet_coordinate_descent(\n"
     ]
    },
    {
     "name": "stdout",
     "output_type": "stream",
     "text": [
      "[step_eval] step=265, done=1, total=6, hp_idx=1, fe_idx=1, score=1.410327\n"
     ]
    },
    {
     "name": "stderr",
     "output_type": "stream",
     "text": [
      "/Library/Frameworks/Python.framework/Versions/3.12/lib/python3.12/site-packages/sklearn/linear_model/_coordinate_descent.py:697: ConvergenceWarning: Objective did not converge. You might want to increase the number of iterations, check the scale of the features or consider increasing regularisation. Duality gap: 1.070e+01, tolerance: 1.366e-01\n",
      "  model = cd_fast.enet_coordinate_descent(\n"
     ]
    },
    {
     "name": "stdout",
     "output_type": "stream",
     "text": [
      "[step_eval] step=265, done=2, total=6, hp_idx=1, fe_idx=2, score=1.11345\n"
     ]
    },
    {
     "name": "stderr",
     "output_type": "stream",
     "text": [
      "/Library/Frameworks/Python.framework/Versions/3.12/lib/python3.12/site-packages/sklearn/linear_model/_coordinate_descent.py:697: ConvergenceWarning: Objective did not converge. You might want to increase the number of iterations, check the scale of the features or consider increasing regularisation. Duality gap: 1.642e+01, tolerance: 1.354e-01\n",
      "  model = cd_fast.enet_coordinate_descent(\n"
     ]
    },
    {
     "name": "stdout",
     "output_type": "stream",
     "text": [
      "[step_eval] step=265, done=3, total=6, hp_idx=1, fe_idx=3, score=1.513429\n"
     ]
    },
    {
     "name": "stderr",
     "output_type": "stream",
     "text": [
      "/Library/Frameworks/Python.framework/Versions/3.12/lib/python3.12/site-packages/sklearn/linear_model/_coordinate_descent.py:697: ConvergenceWarning: Objective did not converge. You might want to increase the number of iterations, check the scale of the features or consider increasing regularisation. Duality gap: 9.375e+00, tolerance: 1.366e-01\n",
      "  model = cd_fast.enet_coordinate_descent(\n"
     ]
    },
    {
     "name": "stdout",
     "output_type": "stream",
     "text": [
      "[step_eval] step=265, done=4, total=6, hp_idx=2, fe_idx=1, score=1.063782\n",
      "[step_eval] step=265, done=5, total=6, hp_idx=3, fe_idx=1, score=0.251117\n",
      "[step_eval] step=265, done=6, total=6, hp_idx=4, fe_idx=1, score=0.229485\n",
      "[step_done] step=265, best_score=0.229485\n",
      "[step_predict] step=266, of=299, date=2022-03-01\n",
      "[step_search_start] step=266, hp=4, fe=3, expected_evals=6\n"
     ]
    },
    {
     "name": "stderr",
     "output_type": "stream",
     "text": [
      "/Library/Frameworks/Python.framework/Versions/3.12/lib/python3.12/site-packages/sklearn/linear_model/_coordinate_descent.py:697: ConvergenceWarning: Objective did not converge. You might want to increase the number of iterations, check the scale of the features or consider increasing regularisation. Duality gap: 2.959e-01, tolerance: 1.354e-01\n",
      "  model = cd_fast.enet_coordinate_descent(\n"
     ]
    },
    {
     "name": "stdout",
     "output_type": "stream",
     "text": [
      "[step_eval] step=266, done=1, total=6, hp_idx=1, fe_idx=1, score=3.59655\n"
     ]
    },
    {
     "name": "stderr",
     "output_type": "stream",
     "text": [
      "/Library/Frameworks/Python.framework/Versions/3.12/lib/python3.12/site-packages/sklearn/linear_model/_coordinate_descent.py:697: ConvergenceWarning: Objective did not converge. You might want to increase the number of iterations, check the scale of the features or consider increasing regularisation. Duality gap: 8.606e+00, tolerance: 1.366e-01\n",
      "  model = cd_fast.enet_coordinate_descent(\n"
     ]
    },
    {
     "name": "stdout",
     "output_type": "stream",
     "text": [
      "[step_eval] step=266, done=2, total=6, hp_idx=1, fe_idx=2, score=3.777149\n"
     ]
    },
    {
     "name": "stderr",
     "output_type": "stream",
     "text": [
      "/Library/Frameworks/Python.framework/Versions/3.12/lib/python3.12/site-packages/sklearn/linear_model/_coordinate_descent.py:697: ConvergenceWarning: Objective did not converge. You might want to increase the number of iterations, check the scale of the features or consider increasing regularisation. Duality gap: 1.660e+01, tolerance: 1.355e-01\n",
      "  model = cd_fast.enet_coordinate_descent(\n"
     ]
    },
    {
     "name": "stdout",
     "output_type": "stream",
     "text": [
      "[step_eval] step=266, done=3, total=6, hp_idx=1, fe_idx=3, score=4.443502\n"
     ]
    },
    {
     "name": "stderr",
     "output_type": "stream",
     "text": [
      "/Library/Frameworks/Python.framework/Versions/3.12/lib/python3.12/site-packages/sklearn/linear_model/_coordinate_descent.py:697: ConvergenceWarning: Objective did not converge. You might want to increase the number of iterations, check the scale of the features or consider increasing regularisation. Duality gap: 9.135e+00, tolerance: 1.366e-01\n",
      "  model = cd_fast.enet_coordinate_descent(\n"
     ]
    },
    {
     "name": "stdout",
     "output_type": "stream",
     "text": [
      "[step_eval] step=266, done=4, total=6, hp_idx=2, fe_idx=1, score=3.513228\n",
      "[step_eval] step=266, done=5, total=6, hp_idx=3, fe_idx=1, score=4.204774\n",
      "[step_eval] step=266, done=6, total=6, hp_idx=4, fe_idx=1, score=3.758903\n",
      "[step_done] step=266, best_score=3.513228\n",
      "[step_predict] step=267, of=299, date=2022-04-01\n"
     ]
    },
    {
     "name": "stderr",
     "output_type": "stream",
     "text": [
      "/Library/Frameworks/Python.framework/Versions/3.12/lib/python3.12/site-packages/sklearn/linear_model/_coordinate_descent.py:697: ConvergenceWarning: Objective did not converge. You might want to increase the number of iterations, check the scale of the features or consider increasing regularisation. Duality gap: 4.348e-01, tolerance: 1.366e-01\n",
      "  model = cd_fast.enet_coordinate_descent(\n"
     ]
    },
    {
     "name": "stdout",
     "output_type": "stream",
     "text": [
      "[step_search_start] step=267, hp=4, fe=3, expected_evals=6\n"
     ]
    },
    {
     "name": "stderr",
     "output_type": "stream",
     "text": [
      "/Library/Frameworks/Python.framework/Versions/3.12/lib/python3.12/site-packages/sklearn/linear_model/_coordinate_descent.py:697: ConvergenceWarning: Objective did not converge. You might want to increase the number of iterations, check the scale of the features or consider increasing regularisation. Duality gap: 5.847e-01, tolerance: 1.381e-01\n",
      "  model = cd_fast.enet_coordinate_descent(\n"
     ]
    },
    {
     "name": "stdout",
     "output_type": "stream",
     "text": [
      "[step_eval] step=267, done=1, total=6, hp_idx=1, fe_idx=1, score=4.819994\n"
     ]
    },
    {
     "name": "stderr",
     "output_type": "stream",
     "text": [
      "/Library/Frameworks/Python.framework/Versions/3.12/lib/python3.12/site-packages/sklearn/linear_model/_coordinate_descent.py:697: ConvergenceWarning: Objective did not converge. You might want to increase the number of iterations, check the scale of the features or consider increasing regularisation. Duality gap: 1.024e+01, tolerance: 1.381e-01\n",
      "  model = cd_fast.enet_coordinate_descent(\n"
     ]
    },
    {
     "name": "stdout",
     "output_type": "stream",
     "text": [
      "[step_eval] step=267, done=2, total=6, hp_idx=1, fe_idx=2, score=0.676692\n"
     ]
    },
    {
     "name": "stderr",
     "output_type": "stream",
     "text": [
      "/Library/Frameworks/Python.framework/Versions/3.12/lib/python3.12/site-packages/sklearn/linear_model/_coordinate_descent.py:697: ConvergenceWarning: Objective did not converge. You might want to increase the number of iterations, check the scale of the features or consider increasing regularisation. Duality gap: 2.291e+01, tolerance: 1.370e-01\n",
      "  model = cd_fast.enet_coordinate_descent(\n"
     ]
    },
    {
     "name": "stdout",
     "output_type": "stream",
     "text": [
      "[step_eval] step=267, done=3, total=6, hp_idx=1, fe_idx=3, score=4.029857\n"
     ]
    },
    {
     "name": "stderr",
     "output_type": "stream",
     "text": [
      "/Library/Frameworks/Python.framework/Versions/3.12/lib/python3.12/site-packages/sklearn/linear_model/_coordinate_descent.py:697: ConvergenceWarning: Objective did not converge. You might want to increase the number of iterations, check the scale of the features or consider increasing regularisation. Duality gap: 2.487e+01, tolerance: 1.381e-01\n",
      "  model = cd_fast.enet_coordinate_descent(\n"
     ]
    },
    {
     "name": "stdout",
     "output_type": "stream",
     "text": [
      "[step_eval] step=267, done=4, total=6, hp_idx=2, fe_idx=1, score=0.319545\n",
      "[step_eval] step=267, done=5, total=6, hp_idx=3, fe_idx=1, score=0.67011\n",
      "[step_eval] step=267, done=6, total=6, hp_idx=4, fe_idx=1, score=1.054426\n",
      "[step_done] step=267, best_score=0.319545\n",
      "[step_predict] step=268, of=299, date=2022-05-01\n",
      "[step_search_start] step=268, hp=4, fe=3, expected_evals=6\n",
      "[step_eval] step=268, done=1, total=6, hp_idx=1, fe_idx=1, score=1.212132\n"
     ]
    },
    {
     "name": "stderr",
     "output_type": "stream",
     "text": [
      "/Library/Frameworks/Python.framework/Versions/3.12/lib/python3.12/site-packages/sklearn/linear_model/_coordinate_descent.py:697: ConvergenceWarning: Objective did not converge. You might want to increase the number of iterations, check the scale of the features or consider increasing regularisation. Duality gap: 2.140e+00, tolerance: 1.383e-01\n",
      "  model = cd_fast.enet_coordinate_descent(\n"
     ]
    },
    {
     "name": "stdout",
     "output_type": "stream",
     "text": [
      "[step_eval] step=268, done=2, total=6, hp_idx=1, fe_idx=2, score=2.101324\n"
     ]
    },
    {
     "name": "stderr",
     "output_type": "stream",
     "text": [
      "/Library/Frameworks/Python.framework/Versions/3.12/lib/python3.12/site-packages/sklearn/linear_model/_coordinate_descent.py:697: ConvergenceWarning: Objective did not converge. You might want to increase the number of iterations, check the scale of the features or consider increasing regularisation. Duality gap: 2.553e+01, tolerance: 1.372e-01\n",
      "  model = cd_fast.enet_coordinate_descent(\n"
     ]
    },
    {
     "name": "stdout",
     "output_type": "stream",
     "text": [
      "[step_eval] step=268, done=3, total=6, hp_idx=1, fe_idx=3, score=0.20334\n"
     ]
    },
    {
     "name": "stderr",
     "output_type": "stream",
     "text": [
      "/Library/Frameworks/Python.framework/Versions/3.12/lib/python3.12/site-packages/sklearn/linear_model/_coordinate_descent.py:697: ConvergenceWarning: Objective did not converge. You might want to increase the number of iterations, check the scale of the features or consider increasing regularisation. Duality gap: 2.702e+01, tolerance: 1.383e-01\n",
      "  model = cd_fast.enet_coordinate_descent(\n"
     ]
    },
    {
     "name": "stdout",
     "output_type": "stream",
     "text": [
      "[step_eval] step=268, done=4, total=6, hp_idx=2, fe_idx=1, score=0.510724\n",
      "[step_eval] step=268, done=5, total=6, hp_idx=3, fe_idx=1, score=2.089735\n",
      "[step_eval] step=268, done=6, total=6, hp_idx=4, fe_idx=1, score=1.856573\n",
      "[step_done] step=268, best_score=0.20334\n",
      "[step_predict] step=269, of=299, date=2022-06-01\n"
     ]
    },
    {
     "name": "stderr",
     "output_type": "stream",
     "text": [
      "/Library/Frameworks/Python.framework/Versions/3.12/lib/python3.12/site-packages/sklearn/linear_model/_coordinate_descent.py:697: ConvergenceWarning: Objective did not converge. You might want to increase the number of iterations, check the scale of the features or consider increasing regularisation. Duality gap: 1.070e+00, tolerance: 1.383e-01\n",
      "  model = cd_fast.enet_coordinate_descent(\n"
     ]
    },
    {
     "name": "stdout",
     "output_type": "stream",
     "text": [
      "[step_search_start] step=269, hp=4, fe=3, expected_evals=6\n"
     ]
    },
    {
     "name": "stderr",
     "output_type": "stream",
     "text": [
      "/Library/Frameworks/Python.framework/Versions/3.12/lib/python3.12/site-packages/sklearn/linear_model/_coordinate_descent.py:697: ConvergenceWarning: Objective did not converge. You might want to increase the number of iterations, check the scale of the features or consider increasing regularisation. Duality gap: 2.580e+01, tolerance: 1.383e-01\n",
      "  model = cd_fast.enet_coordinate_descent(\n"
     ]
    },
    {
     "name": "stdout",
     "output_type": "stream",
     "text": [
      "[step_eval] step=269, done=1, total=6, hp_idx=1, fe_idx=1, score=0.43864\n"
     ]
    },
    {
     "name": "stderr",
     "output_type": "stream",
     "text": [
      "/Library/Frameworks/Python.framework/Versions/3.12/lib/python3.12/site-packages/sklearn/linear_model/_coordinate_descent.py:697: ConvergenceWarning: Objective did not converge. You might want to increase the number of iterations, check the scale of the features or consider increasing regularisation. Duality gap: 3.651e+00, tolerance: 1.383e-01\n",
      "  model = cd_fast.enet_coordinate_descent(\n"
     ]
    },
    {
     "name": "stdout",
     "output_type": "stream",
     "text": [
      "[step_eval] step=269, done=2, total=6, hp_idx=1, fe_idx=2, score=5.445335\n"
     ]
    },
    {
     "name": "stderr",
     "output_type": "stream",
     "text": [
      "/Library/Frameworks/Python.framework/Versions/3.12/lib/python3.12/site-packages/sklearn/linear_model/_coordinate_descent.py:697: ConvergenceWarning: Objective did not converge. You might want to increase the number of iterations, check the scale of the features or consider increasing regularisation. Duality gap: 2.660e+01, tolerance: 1.372e-01\n",
      "  model = cd_fast.enet_coordinate_descent(\n"
     ]
    },
    {
     "name": "stdout",
     "output_type": "stream",
     "text": [
      "[step_eval] step=269, done=3, total=6, hp_idx=1, fe_idx=3, score=0.330231\n"
     ]
    },
    {
     "name": "stderr",
     "output_type": "stream",
     "text": [
      "/Library/Frameworks/Python.framework/Versions/3.12/lib/python3.12/site-packages/sklearn/linear_model/_coordinate_descent.py:697: ConvergenceWarning: Objective did not converge. You might want to increase the number of iterations, check the scale of the features or consider increasing regularisation. Duality gap: 2.580e+01, tolerance: 1.383e-01\n",
      "  model = cd_fast.enet_coordinate_descent(\n"
     ]
    },
    {
     "name": "stdout",
     "output_type": "stream",
     "text": [
      "[step_eval] step=269, done=4, total=6, hp_idx=2, fe_idx=1, score=0.29404\n",
      "[step_eval] step=269, done=5, total=6, hp_idx=3, fe_idx=1, score=1.277\n",
      "[step_eval] step=269, done=6, total=6, hp_idx=4, fe_idx=1, score=1.156416\n",
      "[step_done] step=269, best_score=0.29404\n",
      "[step_predict] step=270, of=299, date=2022-07-01\n"
     ]
    },
    {
     "name": "stderr",
     "output_type": "stream",
     "text": [
      "/Library/Frameworks/Python.framework/Versions/3.12/lib/python3.12/site-packages/sklearn/linear_model/_coordinate_descent.py:697: ConvergenceWarning: Objective did not converge. You might want to increase the number of iterations, check the scale of the features or consider increasing regularisation. Duality gap: 7.996e-01, tolerance: 1.383e-01\n",
      "  model = cd_fast.enet_coordinate_descent(\n"
     ]
    },
    {
     "name": "stdout",
     "output_type": "stream",
     "text": [
      "[step_search_start] step=270, hp=4, fe=3, expected_evals=6\n"
     ]
    },
    {
     "name": "stderr",
     "output_type": "stream",
     "text": [
      "/Library/Frameworks/Python.framework/Versions/3.12/lib/python3.12/site-packages/sklearn/linear_model/_coordinate_descent.py:697: ConvergenceWarning: Objective did not converge. You might want to increase the number of iterations, check the scale of the features or consider increasing regularisation. Duality gap: 7.213e-01, tolerance: 1.384e-01\n",
      "  model = cd_fast.enet_coordinate_descent(\n"
     ]
    },
    {
     "name": "stdout",
     "output_type": "stream",
     "text": [
      "[step_eval] step=270, done=1, total=6, hp_idx=1, fe_idx=1, score=0.730132\n"
     ]
    },
    {
     "name": "stderr",
     "output_type": "stream",
     "text": [
      "/Library/Frameworks/Python.framework/Versions/3.12/lib/python3.12/site-packages/sklearn/linear_model/_coordinate_descent.py:697: ConvergenceWarning: Objective did not converge. You might want to increase the number of iterations, check the scale of the features or consider increasing regularisation. Duality gap: 6.030e+00, tolerance: 1.384e-01\n",
      "  model = cd_fast.enet_coordinate_descent(\n"
     ]
    },
    {
     "name": "stdout",
     "output_type": "stream",
     "text": [
      "[step_eval] step=270, done=2, total=6, hp_idx=1, fe_idx=2, score=1.02415\n"
     ]
    },
    {
     "name": "stderr",
     "output_type": "stream",
     "text": [
      "/Library/Frameworks/Python.framework/Versions/3.12/lib/python3.12/site-packages/sklearn/linear_model/_coordinate_descent.py:697: ConvergenceWarning: Objective did not converge. You might want to increase the number of iterations, check the scale of the features or consider increasing regularisation. Duality gap: 2.825e+01, tolerance: 1.372e-01\n",
      "  model = cd_fast.enet_coordinate_descent(\n"
     ]
    },
    {
     "name": "stdout",
     "output_type": "stream",
     "text": [
      "[step_eval] step=270, done=3, total=6, hp_idx=1, fe_idx=3, score=1.190726\n"
     ]
    },
    {
     "name": "stderr",
     "output_type": "stream",
     "text": [
      "/Library/Frameworks/Python.framework/Versions/3.12/lib/python3.12/site-packages/sklearn/linear_model/_coordinate_descent.py:697: ConvergenceWarning: Objective did not converge. You might want to increase the number of iterations, check the scale of the features or consider increasing regularisation. Duality gap: 2.180e+01, tolerance: 1.384e-01\n",
      "  model = cd_fast.enet_coordinate_descent(\n"
     ]
    },
    {
     "name": "stdout",
     "output_type": "stream",
     "text": [
      "[step_eval] step=270, done=4, total=6, hp_idx=2, fe_idx=1, score=0.998484\n",
      "[step_eval] step=270, done=5, total=6, hp_idx=3, fe_idx=1, score=0.078281\n",
      "[step_eval] step=270, done=6, total=6, hp_idx=4, fe_idx=1, score=0.093499\n",
      "[step_done] step=270, best_score=0.078281\n",
      "[step_predict] step=271, of=299, date=2022-08-01\n",
      "[step_search_start] step=271, hp=4, fe=3, expected_evals=6\n"
     ]
    },
    {
     "name": "stderr",
     "output_type": "stream",
     "text": [
      "/Library/Frameworks/Python.framework/Versions/3.12/lib/python3.12/site-packages/sklearn/linear_model/_coordinate_descent.py:697: ConvergenceWarning: Objective did not converge. You might want to increase the number of iterations, check the scale of the features or consider increasing regularisation. Duality gap: 2.591e-01, tolerance: 1.384e-01\n",
      "  model = cd_fast.enet_coordinate_descent(\n"
     ]
    },
    {
     "name": "stdout",
     "output_type": "stream",
     "text": [
      "[step_eval] step=271, done=1, total=6, hp_idx=1, fe_idx=1, score=1.451484\n"
     ]
    },
    {
     "name": "stderr",
     "output_type": "stream",
     "text": [
      "/Library/Frameworks/Python.framework/Versions/3.12/lib/python3.12/site-packages/sklearn/linear_model/_coordinate_descent.py:697: ConvergenceWarning: Objective did not converge. You might want to increase the number of iterations, check the scale of the features or consider increasing regularisation. Duality gap: 3.722e+00, tolerance: 1.384e-01\n",
      "  model = cd_fast.enet_coordinate_descent(\n"
     ]
    },
    {
     "name": "stdout",
     "output_type": "stream",
     "text": [
      "[step_eval] step=271, done=2, total=6, hp_idx=1, fe_idx=2, score=1.664562\n"
     ]
    },
    {
     "name": "stderr",
     "output_type": "stream",
     "text": [
      "/Library/Frameworks/Python.framework/Versions/3.12/lib/python3.12/site-packages/sklearn/linear_model/_coordinate_descent.py:697: ConvergenceWarning: Objective did not converge. You might want to increase the number of iterations, check the scale of the features or consider increasing regularisation. Duality gap: 3.248e+01, tolerance: 1.373e-01\n",
      "  model = cd_fast.enet_coordinate_descent(\n"
     ]
    },
    {
     "name": "stdout",
     "output_type": "stream",
     "text": [
      "[step_eval] step=271, done=3, total=6, hp_idx=1, fe_idx=3, score=0.821483\n"
     ]
    },
    {
     "name": "stderr",
     "output_type": "stream",
     "text": [
      "/Library/Frameworks/Python.framework/Versions/3.12/lib/python3.12/site-packages/sklearn/linear_model/_coordinate_descent.py:697: ConvergenceWarning: Objective did not converge. You might want to increase the number of iterations, check the scale of the features or consider increasing regularisation. Duality gap: 2.383e+01, tolerance: 1.384e-01\n",
      "  model = cd_fast.enet_coordinate_descent(\n"
     ]
    },
    {
     "name": "stdout",
     "output_type": "stream",
     "text": [
      "[step_eval] step=271, done=4, total=6, hp_idx=2, fe_idx=1, score=0.746705\n",
      "[step_eval] step=271, done=5, total=6, hp_idx=3, fe_idx=1, score=0.572553\n",
      "[step_eval] step=271, done=6, total=6, hp_idx=4, fe_idx=1, score=0.880886\n",
      "[step_done] step=271, best_score=0.572553\n",
      "[step_predict] step=272, of=299, date=2022-09-01\n",
      "[step_search_start] step=272, hp=4, fe=3, expected_evals=6\n"
     ]
    },
    {
     "name": "stderr",
     "output_type": "stream",
     "text": [
      "/Library/Frameworks/Python.framework/Versions/3.12/lib/python3.12/site-packages/sklearn/linear_model/_coordinate_descent.py:697: ConvergenceWarning: Objective did not converge. You might want to increase the number of iterations, check the scale of the features or consider increasing regularisation. Duality gap: 5.737e-01, tolerance: 1.384e-01\n",
      "  model = cd_fast.enet_coordinate_descent(\n"
     ]
    },
    {
     "name": "stdout",
     "output_type": "stream",
     "text": [
      "[step_eval] step=272, done=1, total=6, hp_idx=1, fe_idx=1, score=2.622068\n"
     ]
    },
    {
     "name": "stderr",
     "output_type": "stream",
     "text": [
      "/Library/Frameworks/Python.framework/Versions/3.12/lib/python3.12/site-packages/sklearn/linear_model/_coordinate_descent.py:697: ConvergenceWarning: Objective did not converge. You might want to increase the number of iterations, check the scale of the features or consider increasing regularisation. Duality gap: 4.890e+00, tolerance: 1.385e-01\n",
      "  model = cd_fast.enet_coordinate_descent(\n"
     ]
    },
    {
     "name": "stdout",
     "output_type": "stream",
     "text": [
      "[step_eval] step=272, done=2, total=6, hp_idx=1, fe_idx=2, score=0.685597\n"
     ]
    },
    {
     "name": "stderr",
     "output_type": "stream",
     "text": [
      "/Library/Frameworks/Python.framework/Versions/3.12/lib/python3.12/site-packages/sklearn/linear_model/_coordinate_descent.py:697: ConvergenceWarning: Objective did not converge. You might want to increase the number of iterations, check the scale of the features or consider increasing regularisation. Duality gap: 3.411e+01, tolerance: 1.374e-01\n",
      "  model = cd_fast.enet_coordinate_descent(\n"
     ]
    },
    {
     "name": "stdout",
     "output_type": "stream",
     "text": [
      "[step_eval] step=272, done=3, total=6, hp_idx=1, fe_idx=3, score=2.642237\n"
     ]
    },
    {
     "name": "stderr",
     "output_type": "stream",
     "text": [
      "/Library/Frameworks/Python.framework/Versions/3.12/lib/python3.12/site-packages/sklearn/linear_model/_coordinate_descent.py:697: ConvergenceWarning: Objective did not converge. You might want to increase the number of iterations, check the scale of the features or consider increasing regularisation. Duality gap: 2.043e+01, tolerance: 1.385e-01\n",
      "  model = cd_fast.enet_coordinate_descent(\n"
     ]
    },
    {
     "name": "stdout",
     "output_type": "stream",
     "text": [
      "[step_eval] step=272, done=4, total=6, hp_idx=2, fe_idx=1, score=0.34567\n",
      "[step_eval] step=272, done=5, total=6, hp_idx=3, fe_idx=1, score=1.804658\n",
      "[step_eval] step=272, done=6, total=6, hp_idx=4, fe_idx=1, score=1.548238\n",
      "[step_done] step=272, best_score=0.34567\n",
      "[step_predict] step=273, of=299, date=2022-10-01\n"
     ]
    },
    {
     "name": "stderr",
     "output_type": "stream",
     "text": [
      "/Library/Frameworks/Python.framework/Versions/3.12/lib/python3.12/site-packages/sklearn/linear_model/_coordinate_descent.py:697: ConvergenceWarning: Objective did not converge. You might want to increase the number of iterations, check the scale of the features or consider increasing regularisation. Duality gap: 1.689e-01, tolerance: 1.374e-01\n",
      "  model = cd_fast.enet_coordinate_descent(\n"
     ]
    },
    {
     "name": "stdout",
     "output_type": "stream",
     "text": [
      "[step_search_start] step=273, hp=4, fe=3, expected_evals=6\n"
     ]
    },
    {
     "name": "stderr",
     "output_type": "stream",
     "text": [
      "/Library/Frameworks/Python.framework/Versions/3.12/lib/python3.12/site-packages/sklearn/linear_model/_coordinate_descent.py:697: ConvergenceWarning: Objective did not converge. You might want to increase the number of iterations, check the scale of the features or consider increasing regularisation. Duality gap: 2.818e-01, tolerance: 1.377e-01\n",
      "  model = cd_fast.enet_coordinate_descent(\n"
     ]
    },
    {
     "name": "stdout",
     "output_type": "stream",
     "text": [
      "[step_eval] step=273, done=1, total=6, hp_idx=1, fe_idx=1, score=0.457876\n"
     ]
    },
    {
     "name": "stderr",
     "output_type": "stream",
     "text": [
      "/Library/Frameworks/Python.framework/Versions/3.12/lib/python3.12/site-packages/sklearn/linear_model/_coordinate_descent.py:697: ConvergenceWarning: Objective did not converge. You might want to increase the number of iterations, check the scale of the features or consider increasing regularisation. Duality gap: 3.556e+00, tolerance: 1.388e-01\n",
      "  model = cd_fast.enet_coordinate_descent(\n"
     ]
    },
    {
     "name": "stdout",
     "output_type": "stream",
     "text": [
      "[step_eval] step=273, done=2, total=6, hp_idx=1, fe_idx=2, score=3.17667\n"
     ]
    },
    {
     "name": "stderr",
     "output_type": "stream",
     "text": [
      "/Library/Frameworks/Python.framework/Versions/3.12/lib/python3.12/site-packages/sklearn/linear_model/_coordinate_descent.py:697: ConvergenceWarning: Objective did not converge. You might want to increase the number of iterations, check the scale of the features or consider increasing regularisation. Duality gap: 2.579e+01, tolerance: 1.377e-01\n",
      "  model = cd_fast.enet_coordinate_descent(\n"
     ]
    },
    {
     "name": "stdout",
     "output_type": "stream",
     "text": [
      "[step_eval] step=273, done=3, total=6, hp_idx=1, fe_idx=3, score=1.149217\n"
     ]
    },
    {
     "name": "stderr",
     "output_type": "stream",
     "text": [
      "/Library/Frameworks/Python.framework/Versions/3.12/lib/python3.12/site-packages/sklearn/linear_model/_coordinate_descent.py:697: ConvergenceWarning: Objective did not converge. You might want to increase the number of iterations, check the scale of the features or consider increasing regularisation. Duality gap: 1.784e+01, tolerance: 1.388e-01\n",
      "  model = cd_fast.enet_coordinate_descent(\n"
     ]
    },
    {
     "name": "stdout",
     "output_type": "stream",
     "text": [
      "[step_eval] step=273, done=4, total=6, hp_idx=2, fe_idx=1, score=0.07896\n",
      "[step_eval] step=273, done=5, total=6, hp_idx=3, fe_idx=1, score=0.036743\n",
      "[step_eval] step=273, done=6, total=6, hp_idx=4, fe_idx=1, score=0.137538\n",
      "[step_done] step=273, best_score=0.036743\n",
      "[step_predict] step=274, of=299, date=2022-11-01\n",
      "[step_search_start] step=274, hp=4, fe=3, expected_evals=6\n"
     ]
    },
    {
     "name": "stderr",
     "output_type": "stream",
     "text": [
      "/Library/Frameworks/Python.framework/Versions/3.12/lib/python3.12/site-packages/sklearn/linear_model/_coordinate_descent.py:697: ConvergenceWarning: Objective did not converge. You might want to increase the number of iterations, check the scale of the features or consider increasing regularisation. Duality gap: 4.569e-01, tolerance: 1.388e-01\n",
      "  model = cd_fast.enet_coordinate_descent(\n"
     ]
    },
    {
     "name": "stdout",
     "output_type": "stream",
     "text": [
      "[step_eval] step=274, done=1, total=6, hp_idx=1, fe_idx=1, score=1.471229\n"
     ]
    },
    {
     "name": "stderr",
     "output_type": "stream",
     "text": [
      "/Library/Frameworks/Python.framework/Versions/3.12/lib/python3.12/site-packages/sklearn/linear_model/_coordinate_descent.py:697: ConvergenceWarning: Objective did not converge. You might want to increase the number of iterations, check the scale of the features or consider increasing regularisation. Duality gap: 6.148e+00, tolerance: 1.388e-01\n",
      "  model = cd_fast.enet_coordinate_descent(\n"
     ]
    },
    {
     "name": "stdout",
     "output_type": "stream",
     "text": [
      "[step_eval] step=274, done=2, total=6, hp_idx=1, fe_idx=2, score=3.017772\n"
     ]
    },
    {
     "name": "stderr",
     "output_type": "stream",
     "text": [
      "/Library/Frameworks/Python.framework/Versions/3.12/lib/python3.12/site-packages/sklearn/linear_model/_coordinate_descent.py:697: ConvergenceWarning: Objective did not converge. You might want to increase the number of iterations, check the scale of the features or consider increasing regularisation. Duality gap: 2.125e+01, tolerance: 1.377e-01\n",
      "  model = cd_fast.enet_coordinate_descent(\n"
     ]
    },
    {
     "name": "stdout",
     "output_type": "stream",
     "text": [
      "[step_eval] step=274, done=3, total=6, hp_idx=1, fe_idx=3, score=1.788306\n"
     ]
    },
    {
     "name": "stderr",
     "output_type": "stream",
     "text": [
      "/Library/Frameworks/Python.framework/Versions/3.12/lib/python3.12/site-packages/sklearn/linear_model/_coordinate_descent.py:697: ConvergenceWarning: Objective did not converge. You might want to increase the number of iterations, check the scale of the features or consider increasing regularisation. Duality gap: 1.390e+01, tolerance: 1.388e-01\n",
      "  model = cd_fast.enet_coordinate_descent(\n"
     ]
    },
    {
     "name": "stdout",
     "output_type": "stream",
     "text": [
      "[step_eval] step=274, done=4, total=6, hp_idx=2, fe_idx=1, score=1.548998\n",
      "[step_eval] step=274, done=5, total=6, hp_idx=3, fe_idx=1, score=1.345727\n",
      "[step_eval] step=274, done=6, total=6, hp_idx=4, fe_idx=1, score=1.394189\n",
      "[step_done] step=274, best_score=1.345727\n",
      "[step_predict] step=275, of=299, date=2022-12-01\n",
      "[step_search_start] step=275, hp=4, fe=3, expected_evals=6\n"
     ]
    },
    {
     "name": "stderr",
     "output_type": "stream",
     "text": [
      "/Library/Frameworks/Python.framework/Versions/3.12/lib/python3.12/site-packages/sklearn/linear_model/_coordinate_descent.py:697: ConvergenceWarning: Objective did not converge. You might want to increase the number of iterations, check the scale of the features or consider increasing regularisation. Duality gap: 2.989e-01, tolerance: 1.388e-01\n",
      "  model = cd_fast.enet_coordinate_descent(\n"
     ]
    },
    {
     "name": "stdout",
     "output_type": "stream",
     "text": [
      "[step_eval] step=275, done=1, total=6, hp_idx=1, fe_idx=1, score=1.628575\n"
     ]
    },
    {
     "name": "stderr",
     "output_type": "stream",
     "text": [
      "/Library/Frameworks/Python.framework/Versions/3.12/lib/python3.12/site-packages/sklearn/linear_model/_coordinate_descent.py:697: ConvergenceWarning: Objective did not converge. You might want to increase the number of iterations, check the scale of the features or consider increasing regularisation. Duality gap: 2.378e+00, tolerance: 1.389e-01\n",
      "  model = cd_fast.enet_coordinate_descent(\n"
     ]
    },
    {
     "name": "stdout",
     "output_type": "stream",
     "text": [
      "[step_eval] step=275, done=2, total=6, hp_idx=1, fe_idx=2, score=6.072649\n"
     ]
    },
    {
     "name": "stderr",
     "output_type": "stream",
     "text": [
      "/Library/Frameworks/Python.framework/Versions/3.12/lib/python3.12/site-packages/sklearn/linear_model/_coordinate_descent.py:697: ConvergenceWarning: Objective did not converge. You might want to increase the number of iterations, check the scale of the features or consider increasing regularisation. Duality gap: 2.834e+01, tolerance: 1.378e-01\n",
      "  model = cd_fast.enet_coordinate_descent(\n"
     ]
    },
    {
     "name": "stdout",
     "output_type": "stream",
     "text": [
      "[step_eval] step=275, done=3, total=6, hp_idx=1, fe_idx=3, score=3.917834\n"
     ]
    },
    {
     "name": "stderr",
     "output_type": "stream",
     "text": [
      "/Library/Frameworks/Python.framework/Versions/3.12/lib/python3.12/site-packages/sklearn/linear_model/_coordinate_descent.py:697: ConvergenceWarning: Objective did not converge. You might want to increase the number of iterations, check the scale of the features or consider increasing regularisation. Duality gap: 1.645e+01, tolerance: 1.389e-01\n",
      "  model = cd_fast.enet_coordinate_descent(\n"
     ]
    },
    {
     "name": "stdout",
     "output_type": "stream",
     "text": [
      "[step_eval] step=275, done=4, total=6, hp_idx=2, fe_idx=1, score=1.42609\n",
      "[step_eval] step=275, done=5, total=6, hp_idx=3, fe_idx=1, score=1.464412\n",
      "[step_eval] step=275, done=6, total=6, hp_idx=4, fe_idx=1, score=2.172407\n",
      "[step_done] step=275, best_score=1.42609\n",
      "[step_predict] step=276, of=299, date=2023-01-01\n"
     ]
    },
    {
     "name": "stderr",
     "output_type": "stream",
     "text": [
      "/Library/Frameworks/Python.framework/Versions/3.12/lib/python3.12/site-packages/sklearn/linear_model/_coordinate_descent.py:697: ConvergenceWarning: Objective did not converge. You might want to increase the number of iterations, check the scale of the features or consider increasing regularisation. Duality gap: 4.426e-01, tolerance: 1.389e-01\n",
      "  model = cd_fast.enet_coordinate_descent(\n"
     ]
    },
    {
     "name": "stdout",
     "output_type": "stream",
     "text": [
      "[step_search_start] step=276, hp=4, fe=3, expected_evals=6\n"
     ]
    },
    {
     "name": "stderr",
     "output_type": "stream",
     "text": [
      "/Library/Frameworks/Python.framework/Versions/3.12/lib/python3.12/site-packages/sklearn/linear_model/_coordinate_descent.py:697: ConvergenceWarning: Objective did not converge. You might want to increase the number of iterations, check the scale of the features or consider increasing regularisation. Duality gap: 5.170e-01, tolerance: 1.399e-01\n",
      "  model = cd_fast.enet_coordinate_descent(\n"
     ]
    },
    {
     "name": "stdout",
     "output_type": "stream",
     "text": [
      "[step_eval] step=276, done=1, total=6, hp_idx=1, fe_idx=1, score=4.70461\n"
     ]
    },
    {
     "name": "stderr",
     "output_type": "stream",
     "text": [
      "/Library/Frameworks/Python.framework/Versions/3.12/lib/python3.12/site-packages/sklearn/linear_model/_coordinate_descent.py:697: ConvergenceWarning: Objective did not converge. You might want to increase the number of iterations, check the scale of the features or consider increasing regularisation. Duality gap: 1.011e+01, tolerance: 1.399e-01\n",
      "  model = cd_fast.enet_coordinate_descent(\n"
     ]
    },
    {
     "name": "stdout",
     "output_type": "stream",
     "text": [
      "[step_eval] step=276, done=2, total=6, hp_idx=1, fe_idx=2, score=2.476645\n"
     ]
    },
    {
     "name": "stderr",
     "output_type": "stream",
     "text": [
      "/Library/Frameworks/Python.framework/Versions/3.12/lib/python3.12/site-packages/sklearn/linear_model/_coordinate_descent.py:697: ConvergenceWarning: Objective did not converge. You might want to increase the number of iterations, check the scale of the features or consider increasing regularisation. Duality gap: 8.646e+00, tolerance: 1.388e-01\n",
      "  model = cd_fast.enet_coordinate_descent(\n"
     ]
    },
    {
     "name": "stdout",
     "output_type": "stream",
     "text": [
      "[step_eval] step=276, done=3, total=6, hp_idx=1, fe_idx=3, score=5.355281\n"
     ]
    },
    {
     "name": "stderr",
     "output_type": "stream",
     "text": [
      "/Library/Frameworks/Python.framework/Versions/3.12/lib/python3.12/site-packages/sklearn/linear_model/_coordinate_descent.py:697: ConvergenceWarning: Objective did not converge. You might want to increase the number of iterations, check the scale of the features or consider increasing regularisation. Duality gap: 9.165e+00, tolerance: 1.399e-01\n",
      "  model = cd_fast.enet_coordinate_descent(\n"
     ]
    },
    {
     "name": "stdout",
     "output_type": "stream",
     "text": [
      "[step_eval] step=276, done=4, total=6, hp_idx=2, fe_idx=1, score=2.827515\n",
      "[step_eval] step=276, done=5, total=6, hp_idx=3, fe_idx=1, score=3.274853\n",
      "[step_eval] step=276, done=6, total=6, hp_idx=4, fe_idx=1, score=3.091217\n",
      "[step_done] step=276, best_score=2.476645\n",
      "[step_predict] step=277, of=299, date=2023-02-01\n",
      "[step_search_start] step=277, hp=4, fe=3, expected_evals=6\n"
     ]
    },
    {
     "name": "stderr",
     "output_type": "stream",
     "text": [
      "/Library/Frameworks/Python.framework/Versions/3.12/lib/python3.12/site-packages/sklearn/linear_model/_coordinate_descent.py:697: ConvergenceWarning: Objective did not converge. You might want to increase the number of iterations, check the scale of the features or consider increasing regularisation. Duality gap: 1.282e+01, tolerance: 1.395e-01\n",
      "  model = cd_fast.enet_coordinate_descent(\n"
     ]
    },
    {
     "name": "stdout",
     "output_type": "stream",
     "text": [
      "[step_eval] step=277, done=1, total=6, hp_idx=1, fe_idx=1, score=3.219662\n"
     ]
    },
    {
     "name": "stderr",
     "output_type": "stream",
     "text": [
      "/Library/Frameworks/Python.framework/Versions/3.12/lib/python3.12/site-packages/sklearn/linear_model/_coordinate_descent.py:697: ConvergenceWarning: Objective did not converge. You might want to increase the number of iterations, check the scale of the features or consider increasing regularisation. Duality gap: 8.527e+00, tolerance: 1.406e-01\n",
      "  model = cd_fast.enet_coordinate_descent(\n"
     ]
    },
    {
     "name": "stdout",
     "output_type": "stream",
     "text": [
      "[step_eval] step=277, done=2, total=6, hp_idx=1, fe_idx=2, score=1.700325\n"
     ]
    },
    {
     "name": "stderr",
     "output_type": "stream",
     "text": [
      "/Library/Frameworks/Python.framework/Versions/3.12/lib/python3.12/site-packages/sklearn/linear_model/_coordinate_descent.py:697: ConvergenceWarning: Objective did not converge. You might want to increase the number of iterations, check the scale of the features or consider increasing regularisation. Duality gap: 1.282e+01, tolerance: 1.395e-01\n",
      "  model = cd_fast.enet_coordinate_descent(\n"
     ]
    },
    {
     "name": "stdout",
     "output_type": "stream",
     "text": [
      "[step_eval] step=277, done=3, total=6, hp_idx=1, fe_idx=3, score=2.212075\n"
     ]
    },
    {
     "name": "stderr",
     "output_type": "stream",
     "text": [
      "/Library/Frameworks/Python.framework/Versions/3.12/lib/python3.12/site-packages/sklearn/linear_model/_coordinate_descent.py:697: ConvergenceWarning: Objective did not converge. You might want to increase the number of iterations, check the scale of the features or consider increasing regularisation. Duality gap: 1.113e+01, tolerance: 1.406e-01\n",
      "  model = cd_fast.enet_coordinate_descent(\n"
     ]
    },
    {
     "name": "stdout",
     "output_type": "stream",
     "text": [
      "[step_eval] step=277, done=4, total=6, hp_idx=2, fe_idx=1, score=1.406372\n",
      "[step_eval] step=277, done=5, total=6, hp_idx=3, fe_idx=1, score=1.869855\n",
      "[step_eval] step=277, done=6, total=6, hp_idx=4, fe_idx=1, score=2.000037\n",
      "[step_done] step=277, best_score=1.406372\n",
      "[step_predict] step=278, of=299, date=2023-03-01\n",
      "[step_search_start] step=278, hp=4, fe=3, expected_evals=6\n",
      "[step_eval] step=278, done=1, total=6, hp_idx=1, fe_idx=1, score=0.742697\n"
     ]
    },
    {
     "name": "stderr",
     "output_type": "stream",
     "text": [
      "/Library/Frameworks/Python.framework/Versions/3.12/lib/python3.12/site-packages/sklearn/linear_model/_coordinate_descent.py:697: ConvergenceWarning: Objective did not converge. You might want to increase the number of iterations, check the scale of the features or consider increasing regularisation. Duality gap: 7.216e+00, tolerance: 1.410e-01\n",
      "  model = cd_fast.enet_coordinate_descent(\n"
     ]
    },
    {
     "name": "stdout",
     "output_type": "stream",
     "text": [
      "[step_eval] step=278, done=2, total=6, hp_idx=1, fe_idx=2, score=4.126046\n"
     ]
    },
    {
     "name": "stderr",
     "output_type": "stream",
     "text": [
      "/Library/Frameworks/Python.framework/Versions/3.12/lib/python3.12/site-packages/sklearn/linear_model/_coordinate_descent.py:697: ConvergenceWarning: Objective did not converge. You might want to increase the number of iterations, check the scale of the features or consider increasing regularisation. Duality gap: 2.412e+01, tolerance: 1.398e-01\n",
      "  model = cd_fast.enet_coordinate_descent(\n"
     ]
    },
    {
     "name": "stdout",
     "output_type": "stream",
     "text": [
      "[step_eval] step=278, done=3, total=6, hp_idx=1, fe_idx=3, score=1.065049\n"
     ]
    },
    {
     "name": "stderr",
     "output_type": "stream",
     "text": [
      "/Library/Frameworks/Python.framework/Versions/3.12/lib/python3.12/site-packages/sklearn/linear_model/_coordinate_descent.py:697: ConvergenceWarning: Objective did not converge. You might want to increase the number of iterations, check the scale of the features or consider increasing regularisation. Duality gap: 1.294e+01, tolerance: 1.410e-01\n",
      "  model = cd_fast.enet_coordinate_descent(\n"
     ]
    },
    {
     "name": "stdout",
     "output_type": "stream",
     "text": [
      "[step_eval] step=278, done=4, total=6, hp_idx=2, fe_idx=1, score=0.687138\n",
      "[step_eval] step=278, done=5, total=6, hp_idx=3, fe_idx=1, score=0.794285\n",
      "[step_eval] step=278, done=6, total=6, hp_idx=4, fe_idx=1, score=1.532413\n",
      "[step_done] step=278, best_score=0.687138\n",
      "[step_predict] step=279, of=299, date=2023-04-01\n"
     ]
    },
    {
     "name": "stderr",
     "output_type": "stream",
     "text": [
      "/Library/Frameworks/Python.framework/Versions/3.12/lib/python3.12/site-packages/sklearn/linear_model/_coordinate_descent.py:697: ConvergenceWarning: Objective did not converge. You might want to increase the number of iterations, check the scale of the features or consider increasing regularisation. Duality gap: 8.930e-01, tolerance: 1.410e-01\n",
      "  model = cd_fast.enet_coordinate_descent(\n"
     ]
    },
    {
     "name": "stdout",
     "output_type": "stream",
     "text": [
      "[step_search_start] step=279, hp=4, fe=3, expected_evals=6\n"
     ]
    },
    {
     "name": "stderr",
     "output_type": "stream",
     "text": [
      "/Library/Frameworks/Python.framework/Versions/3.12/lib/python3.12/site-packages/sklearn/linear_model/_coordinate_descent.py:697: ConvergenceWarning: Objective did not converge. You might want to increase the number of iterations, check the scale of the features or consider increasing regularisation. Duality gap: 1.518e+00, tolerance: 1.414e-01\n",
      "  model = cd_fast.enet_coordinate_descent(\n"
     ]
    },
    {
     "name": "stdout",
     "output_type": "stream",
     "text": [
      "[step_eval] step=279, done=1, total=6, hp_idx=1, fe_idx=1, score=0.051822\n"
     ]
    },
    {
     "name": "stderr",
     "output_type": "stream",
     "text": [
      "/Library/Frameworks/Python.framework/Versions/3.12/lib/python3.12/site-packages/sklearn/linear_model/_coordinate_descent.py:697: ConvergenceWarning: Objective did not converge. You might want to increase the number of iterations, check the scale of the features or consider increasing regularisation. Duality gap: 1.003e+01, tolerance: 1.414e-01\n",
      "  model = cd_fast.enet_coordinate_descent(\n"
     ]
    },
    {
     "name": "stdout",
     "output_type": "stream",
     "text": [
      "[step_eval] step=279, done=2, total=6, hp_idx=1, fe_idx=2, score=0.516809\n"
     ]
    },
    {
     "name": "stderr",
     "output_type": "stream",
     "text": [
      "/Library/Frameworks/Python.framework/Versions/3.12/lib/python3.12/site-packages/sklearn/linear_model/_coordinate_descent.py:697: ConvergenceWarning: Objective did not converge. You might want to increase the number of iterations, check the scale of the features or consider increasing regularisation. Duality gap: 1.568e+01, tolerance: 1.403e-01\n",
      "  model = cd_fast.enet_coordinate_descent(\n"
     ]
    },
    {
     "name": "stdout",
     "output_type": "stream",
     "text": [
      "[step_eval] step=279, done=3, total=6, hp_idx=1, fe_idx=3, score=1.852803\n"
     ]
    },
    {
     "name": "stderr",
     "output_type": "stream",
     "text": [
      "/Library/Frameworks/Python.framework/Versions/3.12/lib/python3.12/site-packages/sklearn/linear_model/_coordinate_descent.py:697: ConvergenceWarning: Objective did not converge. You might want to increase the number of iterations, check the scale of the features or consider increasing regularisation. Duality gap: 1.025e+01, tolerance: 1.414e-01\n",
      "  model = cd_fast.enet_coordinate_descent(\n"
     ]
    },
    {
     "name": "stdout",
     "output_type": "stream",
     "text": [
      "[step_eval] step=279, done=4, total=6, hp_idx=2, fe_idx=1, score=0.306973\n",
      "[step_eval] step=279, done=5, total=6, hp_idx=3, fe_idx=1, score=0.3078\n",
      "[step_eval] step=279, done=6, total=6, hp_idx=4, fe_idx=1, score=0.135177\n",
      "[step_done] step=279, best_score=0.051822\n",
      "[step_predict] step=280, of=299, date=2023-05-01\n"
     ]
    },
    {
     "name": "stderr",
     "output_type": "stream",
     "text": [
      "/Library/Frameworks/Python.framework/Versions/3.12/lib/python3.12/site-packages/sklearn/linear_model/_coordinate_descent.py:697: ConvergenceWarning: Objective did not converge. You might want to increase the number of iterations, check the scale of the features or consider increasing regularisation. Duality gap: 1.518e+00, tolerance: 1.414e-01\n",
      "  model = cd_fast.enet_coordinate_descent(\n"
     ]
    },
    {
     "name": "stdout",
     "output_type": "stream",
     "text": [
      "[step_search_start] step=280, hp=4, fe=3, expected_evals=6\n"
     ]
    },
    {
     "name": "stderr",
     "output_type": "stream",
     "text": [
      "/Library/Frameworks/Python.framework/Versions/3.12/lib/python3.12/site-packages/sklearn/linear_model/_coordinate_descent.py:697: ConvergenceWarning: Objective did not converge. You might want to increase the number of iterations, check the scale of the features or consider increasing regularisation. Duality gap: 1.551e+01, tolerance: 1.414e-01\n",
      "  model = cd_fast.enet_coordinate_descent(\n"
     ]
    },
    {
     "name": "stdout",
     "output_type": "stream",
     "text": [
      "[step_eval] step=280, done=1, total=6, hp_idx=1, fe_idx=1, score=4.512442\n"
     ]
    },
    {
     "name": "stderr",
     "output_type": "stream",
     "text": [
      "/Library/Frameworks/Python.framework/Versions/3.12/lib/python3.12/site-packages/sklearn/linear_model/_coordinate_descent.py:697: ConvergenceWarning: Objective did not converge. You might want to increase the number of iterations, check the scale of the features or consider increasing regularisation. Duality gap: 1.551e+01, tolerance: 1.414e-01\n",
      "  model = cd_fast.enet_coordinate_descent(\n"
     ]
    },
    {
     "name": "stdout",
     "output_type": "stream",
     "text": [
      "[step_eval] step=280, done=2, total=6, hp_idx=1, fe_idx=2, score=1.255279\n"
     ]
    },
    {
     "name": "stderr",
     "output_type": "stream",
     "text": [
      "/Library/Frameworks/Python.framework/Versions/3.12/lib/python3.12/site-packages/sklearn/linear_model/_coordinate_descent.py:697: ConvergenceWarning: Objective did not converge. You might want to increase the number of iterations, check the scale of the features or consider increasing regularisation. Duality gap: 1.618e+01, tolerance: 1.403e-01\n",
      "  model = cd_fast.enet_coordinate_descent(\n"
     ]
    },
    {
     "name": "stdout",
     "output_type": "stream",
     "text": [
      "[step_eval] step=280, done=3, total=6, hp_idx=1, fe_idx=3, score=3.916774\n"
     ]
    },
    {
     "name": "stderr",
     "output_type": "stream",
     "text": [
      "/Library/Frameworks/Python.framework/Versions/3.12/lib/python3.12/site-packages/sklearn/linear_model/_coordinate_descent.py:697: ConvergenceWarning: Objective did not converge. You might want to increase the number of iterations, check the scale of the features or consider increasing regularisation. Duality gap: 7.304e+00, tolerance: 1.414e-01\n",
      "  model = cd_fast.enet_coordinate_descent(\n"
     ]
    },
    {
     "name": "stdout",
     "output_type": "stream",
     "text": [
      "[step_eval] step=280, done=4, total=6, hp_idx=2, fe_idx=1, score=1.234454\n",
      "[step_eval] step=280, done=5, total=6, hp_idx=3, fe_idx=1, score=0.373866\n",
      "[step_eval] step=280, done=6, total=6, hp_idx=4, fe_idx=1, score=0.233811\n",
      "[step_done] step=280, best_score=0.233811\n",
      "[step_predict] step=281, of=299, date=2023-06-01\n",
      "[step_search_start] step=281, hp=4, fe=3, expected_evals=6\n"
     ]
    },
    {
     "name": "stderr",
     "output_type": "stream",
     "text": [
      "/Library/Frameworks/Python.framework/Versions/3.12/lib/python3.12/site-packages/sklearn/linear_model/_coordinate_descent.py:697: ConvergenceWarning: Objective did not converge. You might want to increase the number of iterations, check the scale of the features or consider increasing regularisation. Duality gap: 2.284e-01, tolerance: 1.403e-01\n",
      "  model = cd_fast.enet_coordinate_descent(\n"
     ]
    },
    {
     "name": "stdout",
     "output_type": "stream",
     "text": [
      "[step_eval] step=281, done=1, total=6, hp_idx=1, fe_idx=1, score=1.820399\n"
     ]
    },
    {
     "name": "stderr",
     "output_type": "stream",
     "text": [
      "/Library/Frameworks/Python.framework/Versions/3.12/lib/python3.12/site-packages/sklearn/linear_model/_coordinate_descent.py:697: ConvergenceWarning: Objective did not converge. You might want to increase the number of iterations, check the scale of the features or consider increasing regularisation. Duality gap: 8.703e+00, tolerance: 1.415e-01\n",
      "  model = cd_fast.enet_coordinate_descent(\n"
     ]
    },
    {
     "name": "stdout",
     "output_type": "stream",
     "text": [
      "[step_eval] step=281, done=2, total=6, hp_idx=1, fe_idx=2, score=1.226369\n"
     ]
    },
    {
     "name": "stderr",
     "output_type": "stream",
     "text": [
      "/Library/Frameworks/Python.framework/Versions/3.12/lib/python3.12/site-packages/sklearn/linear_model/_coordinate_descent.py:697: ConvergenceWarning: Objective did not converge. You might want to increase the number of iterations, check the scale of the features or consider increasing regularisation. Duality gap: 1.862e+01, tolerance: 1.403e-01\n",
      "  model = cd_fast.enet_coordinate_descent(\n"
     ]
    },
    {
     "name": "stdout",
     "output_type": "stream",
     "text": [
      "[step_eval] step=281, done=3, total=6, hp_idx=1, fe_idx=3, score=3.610264\n"
     ]
    },
    {
     "name": "stderr",
     "output_type": "stream",
     "text": [
      "/Library/Frameworks/Python.framework/Versions/3.12/lib/python3.12/site-packages/sklearn/linear_model/_coordinate_descent.py:697: ConvergenceWarning: Objective did not converge. You might want to increase the number of iterations, check the scale of the features or consider increasing regularisation. Duality gap: 1.060e+01, tolerance: 1.415e-01\n",
      "  model = cd_fast.enet_coordinate_descent(\n"
     ]
    },
    {
     "name": "stdout",
     "output_type": "stream",
     "text": [
      "[step_eval] step=281, done=4, total=6, hp_idx=2, fe_idx=1, score=1.224187\n",
      "[step_eval] step=281, done=5, total=6, hp_idx=3, fe_idx=1, score=1.32329\n",
      "[step_eval] step=281, done=6, total=6, hp_idx=4, fe_idx=1, score=1.964867\n",
      "[step_done] step=281, best_score=1.224187\n",
      "[step_predict] step=282, of=299, date=2023-07-01\n"
     ]
    },
    {
     "name": "stderr",
     "output_type": "stream",
     "text": [
      "/Library/Frameworks/Python.framework/Versions/3.12/lib/python3.12/site-packages/sklearn/linear_model/_coordinate_descent.py:697: ConvergenceWarning: Objective did not converge. You might want to increase the number of iterations, check the scale of the features or consider increasing regularisation. Duality gap: 1.795e-01, tolerance: 1.403e-01\n",
      "  model = cd_fast.enet_coordinate_descent(\n"
     ]
    },
    {
     "name": "stdout",
     "output_type": "stream",
     "text": [
      "[step_search_start] step=282, hp=4, fe=3, expected_evals=6\n",
      "[step_eval] step=282, done=1, total=6, hp_idx=1, fe_idx=1, score=1.034404\n"
     ]
    },
    {
     "name": "stderr",
     "output_type": "stream",
     "text": [
      "/Library/Frameworks/Python.framework/Versions/3.12/lib/python3.12/site-packages/sklearn/linear_model/_coordinate_descent.py:697: ConvergenceWarning: Objective did not converge. You might want to increase the number of iterations, check the scale of the features or consider increasing regularisation. Duality gap: 1.381e+01, tolerance: 1.419e-01\n",
      "  model = cd_fast.enet_coordinate_descent(\n"
     ]
    },
    {
     "name": "stdout",
     "output_type": "stream",
     "text": [
      "[step_eval] step=282, done=2, total=6, hp_idx=1, fe_idx=2, score=0.406151\n"
     ]
    },
    {
     "name": "stderr",
     "output_type": "stream",
     "text": [
      "/Library/Frameworks/Python.framework/Versions/3.12/lib/python3.12/site-packages/sklearn/linear_model/_coordinate_descent.py:697: ConvergenceWarning: Objective did not converge. You might want to increase the number of iterations, check the scale of the features or consider increasing regularisation. Duality gap: 1.473e+01, tolerance: 1.408e-01\n",
      "  model = cd_fast.enet_coordinate_descent(\n"
     ]
    },
    {
     "name": "stdout",
     "output_type": "stream",
     "text": [
      "[step_eval] step=282, done=3, total=6, hp_idx=1, fe_idx=3, score=1.183223\n"
     ]
    },
    {
     "name": "stderr",
     "output_type": "stream",
     "text": [
      "/Library/Frameworks/Python.framework/Versions/3.12/lib/python3.12/site-packages/sklearn/linear_model/_coordinate_descent.py:697: ConvergenceWarning: Objective did not converge. You might want to increase the number of iterations, check the scale of the features or consider increasing regularisation. Duality gap: 8.693e+00, tolerance: 1.419e-01\n",
      "  model = cd_fast.enet_coordinate_descent(\n"
     ]
    },
    {
     "name": "stdout",
     "output_type": "stream",
     "text": [
      "[step_eval] step=282, done=4, total=6, hp_idx=2, fe_idx=1, score=0.184112\n",
      "[step_eval] step=282, done=5, total=6, hp_idx=3, fe_idx=1, score=0.02716\n",
      "[step_eval] step=282, done=6, total=6, hp_idx=4, fe_idx=1, score=0.228183\n",
      "[step_done] step=282, best_score=0.02716\n",
      "[step_predict] step=283, of=299, date=2023-08-01\n",
      "[step_search_start] step=283, hp=4, fe=3, expected_evals=6\n",
      "[step_eval] step=283, done=1, total=6, hp_idx=1, fe_idx=1, score=0.137356\n"
     ]
    },
    {
     "name": "stderr",
     "output_type": "stream",
     "text": [
      "/Library/Frameworks/Python.framework/Versions/3.12/lib/python3.12/site-packages/sklearn/linear_model/_coordinate_descent.py:697: ConvergenceWarning: Objective did not converge. You might want to increase the number of iterations, check the scale of the features or consider increasing regularisation. Duality gap: 1.641e+01, tolerance: 1.419e-01\n",
      "  model = cd_fast.enet_coordinate_descent(\n"
     ]
    },
    {
     "name": "stdout",
     "output_type": "stream",
     "text": [
      "[step_eval] step=283, done=2, total=6, hp_idx=1, fe_idx=2, score=0.492164\n"
     ]
    },
    {
     "name": "stderr",
     "output_type": "stream",
     "text": [
      "/Library/Frameworks/Python.framework/Versions/3.12/lib/python3.12/site-packages/sklearn/linear_model/_coordinate_descent.py:697: ConvergenceWarning: Objective did not converge. You might want to increase the number of iterations, check the scale of the features or consider increasing regularisation. Duality gap: 1.541e+01, tolerance: 1.408e-01\n",
      "  model = cd_fast.enet_coordinate_descent(\n"
     ]
    },
    {
     "name": "stdout",
     "output_type": "stream",
     "text": [
      "[step_eval] step=283, done=3, total=6, hp_idx=1, fe_idx=3, score=0.019605\n"
     ]
    },
    {
     "name": "stderr",
     "output_type": "stream",
     "text": [
      "/Library/Frameworks/Python.framework/Versions/3.12/lib/python3.12/site-packages/sklearn/linear_model/_coordinate_descent.py:697: ConvergenceWarning: Objective did not converge. You might want to increase the number of iterations, check the scale of the features or consider increasing regularisation. Duality gap: 6.403e+00, tolerance: 1.419e-01\n",
      "  model = cd_fast.enet_coordinate_descent(\n"
     ]
    },
    {
     "name": "stdout",
     "output_type": "stream",
     "text": [
      "[step_eval] step=283, done=4, total=6, hp_idx=2, fe_idx=1, score=0.022001\n",
      "[step_eval] step=283, done=5, total=6, hp_idx=3, fe_idx=1, score=0.163976\n",
      "[step_eval] step=283, done=6, total=6, hp_idx=4, fe_idx=1, score=0.242735\n",
      "[step_done] step=283, best_score=0.019605\n",
      "[step_predict] step=284, of=299, date=2023-09-01\n",
      "[step_search_start] step=284, hp=4, fe=3, expected_evals=6\n"
     ]
    },
    {
     "name": "stderr",
     "output_type": "stream",
     "text": [
      "/Library/Frameworks/Python.framework/Versions/3.12/lib/python3.12/site-packages/sklearn/linear_model/_coordinate_descent.py:697: ConvergenceWarning: Objective did not converge. You might want to increase the number of iterations, check the scale of the features or consider increasing regularisation. Duality gap: 5.558e+00, tolerance: 1.420e-01\n",
      "  model = cd_fast.enet_coordinate_descent(\n"
     ]
    },
    {
     "name": "stdout",
     "output_type": "stream",
     "text": [
      "[step_eval] step=284, done=1, total=6, hp_idx=1, fe_idx=1, score=0.675778\n"
     ]
    },
    {
     "name": "stderr",
     "output_type": "stream",
     "text": [
      "/Library/Frameworks/Python.framework/Versions/3.12/lib/python3.12/site-packages/sklearn/linear_model/_coordinate_descent.py:697: ConvergenceWarning: Objective did not converge. You might want to increase the number of iterations, check the scale of the features or consider increasing regularisation. Duality gap: 1.485e+01, tolerance: 1.420e-01\n",
      "  model = cd_fast.enet_coordinate_descent(\n"
     ]
    },
    {
     "name": "stdout",
     "output_type": "stream",
     "text": [
      "[step_eval] step=284, done=2, total=6, hp_idx=1, fe_idx=2, score=1.542329\n"
     ]
    },
    {
     "name": "stderr",
     "output_type": "stream",
     "text": [
      "/Library/Frameworks/Python.framework/Versions/3.12/lib/python3.12/site-packages/sklearn/linear_model/_coordinate_descent.py:697: ConvergenceWarning: Objective did not converge. You might want to increase the number of iterations, check the scale of the features or consider increasing regularisation. Duality gap: 1.745e+01, tolerance: 1.409e-01\n",
      "  model = cd_fast.enet_coordinate_descent(\n"
     ]
    },
    {
     "name": "stdout",
     "output_type": "stream",
     "text": [
      "[step_eval] step=284, done=3, total=6, hp_idx=1, fe_idx=3, score=1.245005\n"
     ]
    },
    {
     "name": "stderr",
     "output_type": "stream",
     "text": [
      "/Library/Frameworks/Python.framework/Versions/3.12/lib/python3.12/site-packages/sklearn/linear_model/_coordinate_descent.py:697: ConvergenceWarning: Objective did not converge. You might want to increase the number of iterations, check the scale of the features or consider increasing regularisation. Duality gap: 5.558e+00, tolerance: 1.420e-01\n",
      "  model = cd_fast.enet_coordinate_descent(\n"
     ]
    },
    {
     "name": "stdout",
     "output_type": "stream",
     "text": [
      "[step_eval] step=284, done=4, total=6, hp_idx=2, fe_idx=1, score=0.756169\n",
      "[step_eval] step=284, done=5, total=6, hp_idx=3, fe_idx=1, score=0.232283\n",
      "[step_eval] step=284, done=6, total=6, hp_idx=4, fe_idx=1, score=0.012056\n",
      "[step_done] step=284, best_score=0.012056\n",
      "[step_predict] step=285, of=299, date=2023-10-01\n",
      "[step_search_start] step=285, hp=4, fe=3, expected_evals=6\n"
     ]
    },
    {
     "name": "stderr",
     "output_type": "stream",
     "text": [
      "/Library/Frameworks/Python.framework/Versions/3.12/lib/python3.12/site-packages/sklearn/linear_model/_coordinate_descent.py:697: ConvergenceWarning: Objective did not converge. You might want to increase the number of iterations, check the scale of the features or consider increasing regularisation. Duality gap: 7.969e-01, tolerance: 1.420e-01\n",
      "  model = cd_fast.enet_coordinate_descent(\n"
     ]
    },
    {
     "name": "stdout",
     "output_type": "stream",
     "text": [
      "[step_eval] step=285, done=1, total=6, hp_idx=1, fe_idx=1, score=0.718416\n"
     ]
    },
    {
     "name": "stderr",
     "output_type": "stream",
     "text": [
      "/Library/Frameworks/Python.framework/Versions/3.12/lib/python3.12/site-packages/sklearn/linear_model/_coordinate_descent.py:697: ConvergenceWarning: Objective did not converge. You might want to increase the number of iterations, check the scale of the features or consider increasing regularisation. Duality gap: 1.529e+01, tolerance: 1.420e-01\n",
      "  model = cd_fast.enet_coordinate_descent(\n"
     ]
    },
    {
     "name": "stdout",
     "output_type": "stream",
     "text": [
      "[step_eval] step=285, done=2, total=6, hp_idx=1, fe_idx=2, score=2.511758\n"
     ]
    },
    {
     "name": "stderr",
     "output_type": "stream",
     "text": [
      "/Library/Frameworks/Python.framework/Versions/3.12/lib/python3.12/site-packages/sklearn/linear_model/_coordinate_descent.py:697: ConvergenceWarning: Objective did not converge. You might want to increase the number of iterations, check the scale of the features or consider increasing regularisation. Duality gap: 1.592e+01, tolerance: 1.409e-01\n",
      "  model = cd_fast.enet_coordinate_descent(\n"
     ]
    },
    {
     "name": "stdout",
     "output_type": "stream",
     "text": [
      "[step_eval] step=285, done=3, total=6, hp_idx=1, fe_idx=3, score=1.334825\n"
     ]
    },
    {
     "name": "stderr",
     "output_type": "stream",
     "text": [
      "/Library/Frameworks/Python.framework/Versions/3.12/lib/python3.12/site-packages/sklearn/linear_model/_coordinate_descent.py:697: ConvergenceWarning: Objective did not converge. You might want to increase the number of iterations, check the scale of the features or consider increasing regularisation. Duality gap: 7.245e+00, tolerance: 1.420e-01\n",
      "  model = cd_fast.enet_coordinate_descent(\n"
     ]
    },
    {
     "name": "stdout",
     "output_type": "stream",
     "text": [
      "[step_eval] step=285, done=4, total=6, hp_idx=2, fe_idx=1, score=0.68899\n",
      "[step_eval] step=285, done=5, total=6, hp_idx=3, fe_idx=1, score=0.73863\n",
      "[step_eval] step=285, done=6, total=6, hp_idx=4, fe_idx=1, score=0.240592\n",
      "[step_done] step=285, best_score=0.240592\n",
      "[step_predict] step=286, of=299, date=2023-11-01\n",
      "[step_search_start] step=286, hp=4, fe=3, expected_evals=6\n"
     ]
    },
    {
     "name": "stderr",
     "output_type": "stream",
     "text": [
      "/Library/Frameworks/Python.framework/Versions/3.12/lib/python3.12/site-packages/sklearn/linear_model/_coordinate_descent.py:697: ConvergenceWarning: Objective did not converge. You might want to increase the number of iterations, check the scale of the features or consider increasing regularisation. Duality gap: 9.460e-01, tolerance: 1.420e-01\n",
      "  model = cd_fast.enet_coordinate_descent(\n"
     ]
    },
    {
     "name": "stdout",
     "output_type": "stream",
     "text": [
      "[step_eval] step=286, done=1, total=6, hp_idx=1, fe_idx=1, score=1.607605\n"
     ]
    },
    {
     "name": "stderr",
     "output_type": "stream",
     "text": [
      "/Library/Frameworks/Python.framework/Versions/3.12/lib/python3.12/site-packages/sklearn/linear_model/_coordinate_descent.py:697: ConvergenceWarning: Objective did not converge. You might want to increase the number of iterations, check the scale of the features or consider increasing regularisation. Duality gap: 1.325e+01, tolerance: 1.421e-01\n",
      "  model = cd_fast.enet_coordinate_descent(\n"
     ]
    },
    {
     "name": "stdout",
     "output_type": "stream",
     "text": [
      "[step_eval] step=286, done=2, total=6, hp_idx=1, fe_idx=2, score=1.023926\n"
     ]
    },
    {
     "name": "stderr",
     "output_type": "stream",
     "text": [
      "/Library/Frameworks/Python.framework/Versions/3.12/lib/python3.12/site-packages/sklearn/linear_model/_coordinate_descent.py:697: ConvergenceWarning: Objective did not converge. You might want to increase the number of iterations, check the scale of the features or consider increasing regularisation. Duality gap: 1.438e+01, tolerance: 1.409e-01\n",
      "  model = cd_fast.enet_coordinate_descent(\n"
     ]
    },
    {
     "name": "stdout",
     "output_type": "stream",
     "text": [
      "[step_eval] step=286, done=3, total=6, hp_idx=1, fe_idx=3, score=2.949644\n"
     ]
    },
    {
     "name": "stderr",
     "output_type": "stream",
     "text": [
      "/Library/Frameworks/Python.framework/Versions/3.12/lib/python3.12/site-packages/sklearn/linear_model/_coordinate_descent.py:697: ConvergenceWarning: Objective did not converge. You might want to increase the number of iterations, check the scale of the features or consider increasing regularisation. Duality gap: 4.936e+00, tolerance: 1.421e-01\n",
      "  model = cd_fast.enet_coordinate_descent(\n"
     ]
    },
    {
     "name": "stdout",
     "output_type": "stream",
     "text": [
      "[step_eval] step=286, done=4, total=6, hp_idx=2, fe_idx=1, score=1.151973\n",
      "[step_eval] step=286, done=5, total=6, hp_idx=3, fe_idx=1, score=1.093235\n",
      "[step_eval] step=286, done=6, total=6, hp_idx=4, fe_idx=1, score=0.651498\n",
      "[step_done] step=286, best_score=0.651498\n",
      "[step_predict] step=287, of=299, date=2023-12-01\n",
      "[step_search_start] step=287, hp=4, fe=3, expected_evals=6\n",
      "[step_eval] step=287, done=1, total=6, hp_idx=1, fe_idx=1, score=1.654198\n"
     ]
    },
    {
     "name": "stderr",
     "output_type": "stream",
     "text": [
      "/Library/Frameworks/Python.framework/Versions/3.12/lib/python3.12/site-packages/sklearn/linear_model/_coordinate_descent.py:697: ConvergenceWarning: Objective did not converge. You might want to increase the number of iterations, check the scale of the features or consider increasing regularisation. Duality gap: 1.140e+01, tolerance: 1.421e-01\n",
      "  model = cd_fast.enet_coordinate_descent(\n"
     ]
    },
    {
     "name": "stdout",
     "output_type": "stream",
     "text": [
      "[step_eval] step=287, done=2, total=6, hp_idx=1, fe_idx=2, score=1.499244\n"
     ]
    },
    {
     "name": "stderr",
     "output_type": "stream",
     "text": [
      "/Library/Frameworks/Python.framework/Versions/3.12/lib/python3.12/site-packages/sklearn/linear_model/_coordinate_descent.py:697: ConvergenceWarning: Objective did not converge. You might want to increase the number of iterations, check the scale of the features or consider increasing regularisation. Duality gap: 1.514e+01, tolerance: 1.409e-01\n",
      "  model = cd_fast.enet_coordinate_descent(\n"
     ]
    },
    {
     "name": "stdout",
     "output_type": "stream",
     "text": [
      "[step_eval] step=287, done=3, total=6, hp_idx=1, fe_idx=3, score=2.009541\n"
     ]
    },
    {
     "name": "stderr",
     "output_type": "stream",
     "text": [
      "/Library/Frameworks/Python.framework/Versions/3.12/lib/python3.12/site-packages/sklearn/linear_model/_coordinate_descent.py:697: ConvergenceWarning: Objective did not converge. You might want to increase the number of iterations, check the scale of the features or consider increasing regularisation. Duality gap: 6.714e+00, tolerance: 1.421e-01\n",
      "  model = cd_fast.enet_coordinate_descent(\n"
     ]
    },
    {
     "name": "stdout",
     "output_type": "stream",
     "text": [
      "[step_eval] step=287, done=4, total=6, hp_idx=2, fe_idx=1, score=1.737228\n",
      "[step_eval] step=287, done=5, total=6, hp_idx=3, fe_idx=1, score=1.915585\n",
      "[step_eval] step=287, done=6, total=6, hp_idx=4, fe_idx=1, score=1.974336\n",
      "[step_done] step=287, best_score=1.499244\n",
      "[step_predict] step=288, of=299, date=2024-01-01\n",
      "[step_search_start] step=288, hp=4, fe=3, expected_evals=6\n"
     ]
    },
    {
     "name": "stderr",
     "output_type": "stream",
     "text": [
      "/Library/Frameworks/Python.framework/Versions/3.12/lib/python3.12/site-packages/sklearn/linear_model/_coordinate_descent.py:697: ConvergenceWarning: Objective did not converge. You might want to increase the number of iterations, check the scale of the features or consider increasing regularisation. Duality gap: 1.233e+01, tolerance: 1.414e-01\n",
      "  model = cd_fast.enet_coordinate_descent(\n"
     ]
    },
    {
     "name": "stdout",
     "output_type": "stream",
     "text": [
      "[step_eval] step=288, done=1, total=6, hp_idx=1, fe_idx=1, score=1.013631\n"
     ]
    },
    {
     "name": "stderr",
     "output_type": "stream",
     "text": [
      "/Library/Frameworks/Python.framework/Versions/3.12/lib/python3.12/site-packages/sklearn/linear_model/_coordinate_descent.py:697: ConvergenceWarning: Objective did not converge. You might want to increase the number of iterations, check the scale of the features or consider increasing regularisation. Duality gap: 1.342e+01, tolerance: 1.426e-01\n",
      "  model = cd_fast.enet_coordinate_descent(\n"
     ]
    },
    {
     "name": "stdout",
     "output_type": "stream",
     "text": [
      "[step_eval] step=288, done=2, total=6, hp_idx=1, fe_idx=2, score=3.606689\n"
     ]
    },
    {
     "name": "stderr",
     "output_type": "stream",
     "text": [
      "/Library/Frameworks/Python.framework/Versions/3.12/lib/python3.12/site-packages/sklearn/linear_model/_coordinate_descent.py:697: ConvergenceWarning: Objective did not converge. You might want to increase the number of iterations, check the scale of the features or consider increasing regularisation. Duality gap: 1.233e+01, tolerance: 1.414e-01\n",
      "  model = cd_fast.enet_coordinate_descent(\n"
     ]
    },
    {
     "name": "stdout",
     "output_type": "stream",
     "text": [
      "[step_eval] step=288, done=3, total=6, hp_idx=1, fe_idx=3, score=0.750131\n"
     ]
    },
    {
     "name": "stderr",
     "output_type": "stream",
     "text": [
      "/Library/Frameworks/Python.framework/Versions/3.12/lib/python3.12/site-packages/sklearn/linear_model/_coordinate_descent.py:697: ConvergenceWarning: Objective did not converge. You might want to increase the number of iterations, check the scale of the features or consider increasing regularisation. Duality gap: 3.549e+00, tolerance: 1.426e-01\n",
      "  model = cd_fast.enet_coordinate_descent(\n"
     ]
    },
    {
     "name": "stdout",
     "output_type": "stream",
     "text": [
      "[step_eval] step=288, done=4, total=6, hp_idx=2, fe_idx=1, score=1.176059\n",
      "[step_eval] step=288, done=5, total=6, hp_idx=3, fe_idx=1, score=1.896553\n",
      "[step_eval] step=288, done=6, total=6, hp_idx=4, fe_idx=1, score=1.776603\n",
      "[step_done] step=288, best_score=0.750131\n",
      "[step_predict] step=289, of=299, date=2024-02-01\n"
     ]
    },
    {
     "name": "stderr",
     "output_type": "stream",
     "text": [
      "/Library/Frameworks/Python.framework/Versions/3.12/lib/python3.12/site-packages/sklearn/linear_model/_coordinate_descent.py:697: ConvergenceWarning: Objective did not converge. You might want to increase the number of iterations, check the scale of the features or consider increasing regularisation. Duality gap: 1.477e-01, tolerance: 1.426e-01\n",
      "  model = cd_fast.enet_coordinate_descent(\n"
     ]
    },
    {
     "name": "stdout",
     "output_type": "stream",
     "text": [
      "[step_search_start] step=289, hp=4, fe=3, expected_evals=6\n"
     ]
    },
    {
     "name": "stderr",
     "output_type": "stream",
     "text": [
      "/Library/Frameworks/Python.framework/Versions/3.12/lib/python3.12/site-packages/sklearn/linear_model/_coordinate_descent.py:697: ConvergenceWarning: Objective did not converge. You might want to increase the number of iterations, check the scale of the features or consider increasing regularisation. Duality gap: 8.531e+00, tolerance: 1.427e-01\n",
      "  model = cd_fast.enet_coordinate_descent(\n"
     ]
    },
    {
     "name": "stdout",
     "output_type": "stream",
     "text": [
      "[step_eval] step=289, done=1, total=6, hp_idx=1, fe_idx=1, score=0.782491\n"
     ]
    },
    {
     "name": "stderr",
     "output_type": "stream",
     "text": [
      "/Library/Frameworks/Python.framework/Versions/3.12/lib/python3.12/site-packages/sklearn/linear_model/_coordinate_descent.py:697: ConvergenceWarning: Objective did not converge. You might want to increase the number of iterations, check the scale of the features or consider increasing regularisation. Duality gap: 1.595e+01, tolerance: 1.427e-01\n",
      "  model = cd_fast.enet_coordinate_descent(\n"
     ]
    },
    {
     "name": "stdout",
     "output_type": "stream",
     "text": [
      "[step_eval] step=289, done=2, total=6, hp_idx=1, fe_idx=2, score=0.039574\n"
     ]
    },
    {
     "name": "stderr",
     "output_type": "stream",
     "text": [
      "/Library/Frameworks/Python.framework/Versions/3.12/lib/python3.12/site-packages/sklearn/linear_model/_coordinate_descent.py:697: ConvergenceWarning: Objective did not converge. You might want to increase the number of iterations, check the scale of the features or consider increasing regularisation. Duality gap: 1.876e+01, tolerance: 1.416e-01\n",
      "  model = cd_fast.enet_coordinate_descent(\n"
     ]
    },
    {
     "name": "stdout",
     "output_type": "stream",
     "text": [
      "[step_eval] step=289, done=3, total=6, hp_idx=1, fe_idx=3, score=0.615822\n"
     ]
    },
    {
     "name": "stderr",
     "output_type": "stream",
     "text": [
      "/Library/Frameworks/Python.framework/Versions/3.12/lib/python3.12/site-packages/sklearn/linear_model/_coordinate_descent.py:697: ConvergenceWarning: Objective did not converge. You might want to increase the number of iterations, check the scale of the features or consider increasing regularisation. Duality gap: 8.531e+00, tolerance: 1.427e-01\n",
      "  model = cd_fast.enet_coordinate_descent(\n"
     ]
    },
    {
     "name": "stdout",
     "output_type": "stream",
     "text": [
      "[step_eval] step=289, done=4, total=6, hp_idx=2, fe_idx=1, score=0.283629\n",
      "[step_eval] step=289, done=5, total=6, hp_idx=3, fe_idx=1, score=1.211812\n",
      "[step_eval] step=289, done=6, total=6, hp_idx=4, fe_idx=1, score=1.365354\n",
      "[step_done] step=289, best_score=0.039574\n",
      "[step_predict] step=290, of=299, date=2024-03-01\n",
      "[step_search_start] step=290, hp=4, fe=3, expected_evals=6\n"
     ]
    },
    {
     "name": "stderr",
     "output_type": "stream",
     "text": [
      "/Library/Frameworks/Python.framework/Versions/3.12/lib/python3.12/site-packages/sklearn/linear_model/_coordinate_descent.py:697: ConvergenceWarning: Objective did not converge. You might want to increase the number of iterations, check the scale of the features or consider increasing regularisation. Duality gap: 1.998e+01, tolerance: 1.417e-01\n",
      "  model = cd_fast.enet_coordinate_descent(\n"
     ]
    },
    {
     "name": "stdout",
     "output_type": "stream",
     "text": [
      "[step_eval] step=290, done=1, total=6, hp_idx=1, fe_idx=1, score=0.289704\n"
     ]
    },
    {
     "name": "stderr",
     "output_type": "stream",
     "text": [
      "/Library/Frameworks/Python.framework/Versions/3.12/lib/python3.12/site-packages/sklearn/linear_model/_coordinate_descent.py:697: ConvergenceWarning: Objective did not converge. You might want to increase the number of iterations, check the scale of the features or consider increasing regularisation. Duality gap: 1.098e+01, tolerance: 1.429e-01\n",
      "  model = cd_fast.enet_coordinate_descent(\n"
     ]
    },
    {
     "name": "stdout",
     "output_type": "stream",
     "text": [
      "[step_eval] step=290, done=2, total=6, hp_idx=1, fe_idx=2, score=0.485739\n"
     ]
    },
    {
     "name": "stderr",
     "output_type": "stream",
     "text": [
      "/Library/Frameworks/Python.framework/Versions/3.12/lib/python3.12/site-packages/sklearn/linear_model/_coordinate_descent.py:697: ConvergenceWarning: Objective did not converge. You might want to increase the number of iterations, check the scale of the features or consider increasing regularisation. Duality gap: 1.998e+01, tolerance: 1.417e-01\n",
      "  model = cd_fast.enet_coordinate_descent(\n"
     ]
    },
    {
     "name": "stdout",
     "output_type": "stream",
     "text": [
      "[step_eval] step=290, done=3, total=6, hp_idx=1, fe_idx=3, score=1.394027\n"
     ]
    },
    {
     "name": "stderr",
     "output_type": "stream",
     "text": [
      "/Library/Frameworks/Python.framework/Versions/3.12/lib/python3.12/site-packages/sklearn/linear_model/_coordinate_descent.py:697: ConvergenceWarning: Objective did not converge. You might want to increase the number of iterations, check the scale of the features or consider increasing regularisation. Duality gap: 1.272e+01, tolerance: 1.429e-01\n",
      "  model = cd_fast.enet_coordinate_descent(\n"
     ]
    },
    {
     "name": "stdout",
     "output_type": "stream",
     "text": [
      "[step_eval] step=290, done=4, total=6, hp_idx=2, fe_idx=1, score=0.477211\n",
      "[step_eval] step=290, done=5, total=6, hp_idx=3, fe_idx=1, score=0.32235\n",
      "[step_eval] step=290, done=6, total=6, hp_idx=4, fe_idx=1, score=0.294775\n",
      "[step_done] step=290, best_score=0.289704\n",
      "[step_predict] step=291, of=299, date=2024-04-01\n"
     ]
    },
    {
     "name": "stderr",
     "output_type": "stream",
     "text": [
      "/Library/Frameworks/Python.framework/Versions/3.12/lib/python3.12/site-packages/sklearn/linear_model/_coordinate_descent.py:697: ConvergenceWarning: Objective did not converge. You might want to increase the number of iterations, check the scale of the features or consider increasing regularisation. Duality gap: 6.779e-01, tolerance: 1.429e-01\n",
      "  model = cd_fast.enet_coordinate_descent(\n"
     ]
    },
    {
     "name": "stdout",
     "output_type": "stream",
     "text": [
      "[step_search_start] step=291, hp=4, fe=3, expected_evals=6\n"
     ]
    },
    {
     "name": "stderr",
     "output_type": "stream",
     "text": [
      "/Library/Frameworks/Python.framework/Versions/3.12/lib/python3.12/site-packages/sklearn/linear_model/_coordinate_descent.py:697: ConvergenceWarning: Objective did not converge. You might want to increase the number of iterations, check the scale of the features or consider increasing regularisation. Duality gap: 1.115e+01, tolerance: 1.429e-01\n",
      "  model = cd_fast.enet_coordinate_descent(\n"
     ]
    },
    {
     "name": "stdout",
     "output_type": "stream",
     "text": [
      "[step_eval] step=291, done=1, total=6, hp_idx=1, fe_idx=1, score=3.564223\n"
     ]
    },
    {
     "name": "stderr",
     "output_type": "stream",
     "text": [
      "/Library/Frameworks/Python.framework/Versions/3.12/lib/python3.12/site-packages/sklearn/linear_model/_coordinate_descent.py:697: ConvergenceWarning: Objective did not converge. You might want to increase the number of iterations, check the scale of the features or consider increasing regularisation. Duality gap: 1.115e+01, tolerance: 1.429e-01\n",
      "  model = cd_fast.enet_coordinate_descent(\n"
     ]
    },
    {
     "name": "stdout",
     "output_type": "stream",
     "text": [
      "[step_eval] step=291, done=2, total=6, hp_idx=1, fe_idx=2, score=1.089361\n"
     ]
    },
    {
     "name": "stderr",
     "output_type": "stream",
     "text": [
      "/Library/Frameworks/Python.framework/Versions/3.12/lib/python3.12/site-packages/sklearn/linear_model/_coordinate_descent.py:697: ConvergenceWarning: Objective did not converge. You might want to increase the number of iterations, check the scale of the features or consider increasing regularisation. Duality gap: 1.813e+01, tolerance: 1.418e-01\n",
      "  model = cd_fast.enet_coordinate_descent(\n"
     ]
    },
    {
     "name": "stdout",
     "output_type": "stream",
     "text": [
      "[step_eval] step=291, done=3, total=6, hp_idx=1, fe_idx=3, score=0.188206\n"
     ]
    },
    {
     "name": "stderr",
     "output_type": "stream",
     "text": [
      "/Library/Frameworks/Python.framework/Versions/3.12/lib/python3.12/site-packages/sklearn/linear_model/_coordinate_descent.py:697: ConvergenceWarning: Objective did not converge. You might want to increase the number of iterations, check the scale of the features or consider increasing regularisation. Duality gap: 1.000e+01, tolerance: 1.429e-01\n",
      "  model = cd_fast.enet_coordinate_descent(\n"
     ]
    },
    {
     "name": "stdout",
     "output_type": "stream",
     "text": [
      "[step_eval] step=291, done=4, total=6, hp_idx=2, fe_idx=1, score=0.145379\n",
      "[step_eval] step=291, done=5, total=6, hp_idx=3, fe_idx=1, score=0.494493\n",
      "[step_eval] step=291, done=6, total=6, hp_idx=4, fe_idx=1, score=0.14523\n",
      "[step_done] step=291, best_score=0.14523\n",
      "[step_predict] step=292, of=299, date=2024-05-01\n",
      "[step_search_start] step=292, hp=4, fe=3, expected_evals=6\n"
     ]
    },
    {
     "name": "stderr",
     "output_type": "stream",
     "text": [
      "/Library/Frameworks/Python.framework/Versions/3.12/lib/python3.12/site-packages/sklearn/linear_model/_coordinate_descent.py:697: ConvergenceWarning: Objective did not converge. You might want to increase the number of iterations, check the scale of the features or consider increasing regularisation. Duality gap: 2.346e-01, tolerance: 1.429e-01\n",
      "  model = cd_fast.enet_coordinate_descent(\n"
     ]
    },
    {
     "name": "stdout",
     "output_type": "stream",
     "text": [
      "[step_eval] step=292, done=1, total=6, hp_idx=1, fe_idx=1, score=2.786985\n"
     ]
    },
    {
     "name": "stderr",
     "output_type": "stream",
     "text": [
      "/Library/Frameworks/Python.framework/Versions/3.12/lib/python3.12/site-packages/sklearn/linear_model/_coordinate_descent.py:697: ConvergenceWarning: Objective did not converge. You might want to increase the number of iterations, check the scale of the features or consider increasing regularisation. Duality gap: 1.136e+01, tolerance: 1.429e-01\n",
      "  model = cd_fast.enet_coordinate_descent(\n"
     ]
    },
    {
     "name": "stdout",
     "output_type": "stream",
     "text": [
      "[step_eval] step=292, done=2, total=6, hp_idx=1, fe_idx=2, score=0.575571\n"
     ]
    },
    {
     "name": "stderr",
     "output_type": "stream",
     "text": [
      "/Library/Frameworks/Python.framework/Versions/3.12/lib/python3.12/site-packages/sklearn/linear_model/_coordinate_descent.py:697: ConvergenceWarning: Objective did not converge. You might want to increase the number of iterations, check the scale of the features or consider increasing regularisation. Duality gap: 1.987e+01, tolerance: 1.418e-01\n",
      "  model = cd_fast.enet_coordinate_descent(\n"
     ]
    },
    {
     "name": "stdout",
     "output_type": "stream",
     "text": [
      "[step_eval] step=292, done=3, total=6, hp_idx=1, fe_idx=3, score=4.246288\n"
     ]
    },
    {
     "name": "stderr",
     "output_type": "stream",
     "text": [
      "/Library/Frameworks/Python.framework/Versions/3.12/lib/python3.12/site-packages/sklearn/linear_model/_coordinate_descent.py:697: ConvergenceWarning: Objective did not converge. You might want to increase the number of iterations, check the scale of the features or consider increasing regularisation. Duality gap: 1.047e+01, tolerance: 1.429e-01\n",
      "  model = cd_fast.enet_coordinate_descent(\n"
     ]
    },
    {
     "name": "stdout",
     "output_type": "stream",
     "text": [
      "[step_eval] step=292, done=4, total=6, hp_idx=2, fe_idx=1, score=1.11333\n",
      "[step_eval] step=292, done=5, total=6, hp_idx=3, fe_idx=1, score=2.102857\n",
      "[step_eval] step=292, done=6, total=6, hp_idx=4, fe_idx=1, score=2.704676\n",
      "[step_done] step=292, best_score=0.575571\n",
      "[step_predict] step=293, of=299, date=2024-06-01\n"
     ]
    },
    {
     "name": "stderr",
     "output_type": "stream",
     "text": [
      "/Library/Frameworks/Python.framework/Versions/3.12/lib/python3.12/site-packages/sklearn/linear_model/_coordinate_descent.py:697: ConvergenceWarning: Objective did not converge. You might want to increase the number of iterations, check the scale of the features or consider increasing regularisation. Duality gap: 2.077e-01, tolerance: 1.418e-01\n",
      "  model = cd_fast.enet_coordinate_descent(\n"
     ]
    },
    {
     "name": "stdout",
     "output_type": "stream",
     "text": [
      "[step_search_start] step=293, hp=4, fe=3, expected_evals=6\n"
     ]
    },
    {
     "name": "stderr",
     "output_type": "stream",
     "text": [
      "/Library/Frameworks/Python.framework/Versions/3.12/lib/python3.12/site-packages/sklearn/linear_model/_coordinate_descent.py:697: ConvergenceWarning: Objective did not converge. You might want to increase the number of iterations, check the scale of the features or consider increasing regularisation. Duality gap: 1.736e+01, tolerance: 1.428e-01\n",
      "  model = cd_fast.enet_coordinate_descent(\n"
     ]
    },
    {
     "name": "stdout",
     "output_type": "stream",
     "text": [
      "[step_eval] step=293, done=1, total=6, hp_idx=1, fe_idx=1, score=3.339867\n"
     ]
    },
    {
     "name": "stderr",
     "output_type": "stream",
     "text": [
      "/Library/Frameworks/Python.framework/Versions/3.12/lib/python3.12/site-packages/sklearn/linear_model/_coordinate_descent.py:697: ConvergenceWarning: Objective did not converge. You might want to increase the number of iterations, check the scale of the features or consider increasing regularisation. Duality gap: 1.006e+01, tolerance: 1.439e-01\n",
      "  model = cd_fast.enet_coordinate_descent(\n"
     ]
    },
    {
     "name": "stdout",
     "output_type": "stream",
     "text": [
      "[step_eval] step=293, done=2, total=6, hp_idx=1, fe_idx=2, score=2.256695\n"
     ]
    },
    {
     "name": "stderr",
     "output_type": "stream",
     "text": [
      "/Library/Frameworks/Python.framework/Versions/3.12/lib/python3.12/site-packages/sklearn/linear_model/_coordinate_descent.py:697: ConvergenceWarning: Objective did not converge. You might want to increase the number of iterations, check the scale of the features or consider increasing regularisation. Duality gap: 1.736e+01, tolerance: 1.428e-01\n",
      "  model = cd_fast.enet_coordinate_descent(\n"
     ]
    },
    {
     "name": "stdout",
     "output_type": "stream",
     "text": [
      "[step_eval] step=293, done=3, total=6, hp_idx=1, fe_idx=3, score=2.09642\n"
     ]
    },
    {
     "name": "stderr",
     "output_type": "stream",
     "text": [
      "/Library/Frameworks/Python.framework/Versions/3.12/lib/python3.12/site-packages/sklearn/linear_model/_coordinate_descent.py:697: ConvergenceWarning: Objective did not converge. You might want to increase the number of iterations, check the scale of the features or consider increasing regularisation. Duality gap: 1.101e+01, tolerance: 1.439e-01\n",
      "  model = cd_fast.enet_coordinate_descent(\n"
     ]
    },
    {
     "name": "stdout",
     "output_type": "stream",
     "text": [
      "[step_eval] step=293, done=4, total=6, hp_idx=2, fe_idx=1, score=2.226463\n",
      "[step_eval] step=293, done=5, total=6, hp_idx=3, fe_idx=1, score=2.413621\n",
      "[step_eval] step=293, done=6, total=6, hp_idx=4, fe_idx=1, score=1.893955\n",
      "[step_done] step=293, best_score=1.893955\n",
      "[step_predict] step=294, of=299, date=2024-07-01\n",
      "[step_search_start] step=294, hp=4, fe=3, expected_evals=6\n",
      "[step_eval] step=294, done=1, total=6, hp_idx=1, fe_idx=1, score=3.778071\n"
     ]
    },
    {
     "name": "stderr",
     "output_type": "stream",
     "text": [
      "/Library/Frameworks/Python.framework/Versions/3.12/lib/python3.12/site-packages/sklearn/linear_model/_coordinate_descent.py:697: ConvergenceWarning: Objective did not converge. You might want to increase the number of iterations, check the scale of the features or consider increasing regularisation. Duality gap: 7.421e+00, tolerance: 1.443e-01\n",
      "  model = cd_fast.enet_coordinate_descent(\n"
     ]
    },
    {
     "name": "stdout",
     "output_type": "stream",
     "text": [
      "[step_eval] step=294, done=2, total=6, hp_idx=1, fe_idx=2, score=4.738487\n"
     ]
    },
    {
     "name": "stderr",
     "output_type": "stream",
     "text": [
      "/Library/Frameworks/Python.framework/Versions/3.12/lib/python3.12/site-packages/sklearn/linear_model/_coordinate_descent.py:697: ConvergenceWarning: Objective did not converge. You might want to increase the number of iterations, check the scale of the features or consider increasing regularisation. Duality gap: 2.028e+01, tolerance: 1.431e-01\n",
      "  model = cd_fast.enet_coordinate_descent(\n"
     ]
    },
    {
     "name": "stdout",
     "output_type": "stream",
     "text": [
      "[step_eval] step=294, done=3, total=6, hp_idx=1, fe_idx=3, score=5.21867\n"
     ]
    },
    {
     "name": "stderr",
     "output_type": "stream",
     "text": [
      "/Library/Frameworks/Python.framework/Versions/3.12/lib/python3.12/site-packages/sklearn/linear_model/_coordinate_descent.py:697: ConvergenceWarning: Objective did not converge. You might want to increase the number of iterations, check the scale of the features or consider increasing regularisation. Duality gap: 1.175e+01, tolerance: 1.443e-01\n",
      "  model = cd_fast.enet_coordinate_descent(\n"
     ]
    },
    {
     "name": "stdout",
     "output_type": "stream",
     "text": [
      "[step_eval] step=294, done=4, total=6, hp_idx=2, fe_idx=1, score=3.952148\n",
      "[step_eval] step=294, done=5, total=6, hp_idx=3, fe_idx=1, score=2.962222\n",
      "[step_eval] step=294, done=6, total=6, hp_idx=4, fe_idx=1, score=2.705128\n",
      "[step_done] step=294, best_score=2.705128\n",
      "[step_predict] step=295, of=299, date=2024-08-01\n",
      "[step_search_start] step=295, hp=4, fe=3, expected_evals=6\n"
     ]
    },
    {
     "name": "stderr",
     "output_type": "stream",
     "text": [
      "/Library/Frameworks/Python.framework/Versions/3.12/lib/python3.12/site-packages/sklearn/linear_model/_coordinate_descent.py:697: ConvergenceWarning: Objective did not converge. You might want to increase the number of iterations, check the scale of the features or consider increasing regularisation. Duality gap: 5.478e-01, tolerance: 1.443e-01\n",
      "  model = cd_fast.enet_coordinate_descent(\n"
     ]
    },
    {
     "name": "stdout",
     "output_type": "stream",
     "text": [
      "[step_eval] step=295, done=1, total=6, hp_idx=1, fe_idx=1, score=1.407663\n"
     ]
    },
    {
     "name": "stderr",
     "output_type": "stream",
     "text": [
      "/Library/Frameworks/Python.framework/Versions/3.12/lib/python3.12/site-packages/sklearn/linear_model/_coordinate_descent.py:697: ConvergenceWarning: Objective did not converge. You might want to increase the number of iterations, check the scale of the features or consider increasing regularisation. Duality gap: 4.281e+00, tolerance: 1.450e-01\n",
      "  model = cd_fast.enet_coordinate_descent(\n"
     ]
    },
    {
     "name": "stdout",
     "output_type": "stream",
     "text": [
      "[step_eval] step=295, done=2, total=6, hp_idx=1, fe_idx=2, score=2.850763\n"
     ]
    },
    {
     "name": "stderr",
     "output_type": "stream",
     "text": [
      "/Library/Frameworks/Python.framework/Versions/3.12/lib/python3.12/site-packages/sklearn/linear_model/_coordinate_descent.py:697: ConvergenceWarning: Objective did not converge. You might want to increase the number of iterations, check the scale of the features or consider increasing regularisation. Duality gap: 1.619e+01, tolerance: 1.439e-01\n",
      "  model = cd_fast.enet_coordinate_descent(\n"
     ]
    },
    {
     "name": "stdout",
     "output_type": "stream",
     "text": [
      "[step_eval] step=295, done=3, total=6, hp_idx=1, fe_idx=3, score=3.309995\n"
     ]
    },
    {
     "name": "stderr",
     "output_type": "stream",
     "text": [
      "/Library/Frameworks/Python.framework/Versions/3.12/lib/python3.12/site-packages/sklearn/linear_model/_coordinate_descent.py:697: ConvergenceWarning: Objective did not converge. You might want to increase the number of iterations, check the scale of the features or consider increasing regularisation. Duality gap: 9.041e+00, tolerance: 1.450e-01\n",
      "  model = cd_fast.enet_coordinate_descent(\n"
     ]
    },
    {
     "name": "stdout",
     "output_type": "stream",
     "text": [
      "[step_eval] step=295, done=4, total=6, hp_idx=2, fe_idx=1, score=1.381626\n",
      "[step_eval] step=295, done=5, total=6, hp_idx=3, fe_idx=1, score=2.264623\n",
      "[step_eval] step=295, done=6, total=6, hp_idx=4, fe_idx=1, score=2.413953\n",
      "[step_done] step=295, best_score=1.381626\n",
      "[step_predict] step=296, of=299, date=2024-09-01\n"
     ]
    },
    {
     "name": "stderr",
     "output_type": "stream",
     "text": [
      "/Library/Frameworks/Python.framework/Versions/3.12/lib/python3.12/site-packages/sklearn/linear_model/_coordinate_descent.py:697: ConvergenceWarning: Objective did not converge. You might want to increase the number of iterations, check the scale of the features or consider increasing regularisation. Duality gap: 6.679e-01, tolerance: 1.450e-01\n",
      "  model = cd_fast.enet_coordinate_descent(\n"
     ]
    },
    {
     "name": "stdout",
     "output_type": "stream",
     "text": [
      "[step_search_start] step=296, hp=4, fe=3, expected_evals=6\n"
     ]
    },
    {
     "name": "stderr",
     "output_type": "stream",
     "text": [
      "/Library/Frameworks/Python.framework/Versions/3.12/lib/python3.12/site-packages/sklearn/linear_model/_coordinate_descent.py:697: ConvergenceWarning: Objective did not converge. You might want to increase the number of iterations, check the scale of the features or consider increasing regularisation. Duality gap: 4.976e-01, tolerance: 1.457e-01\n",
      "  model = cd_fast.enet_coordinate_descent(\n"
     ]
    },
    {
     "name": "stdout",
     "output_type": "stream",
     "text": [
      "[step_eval] step=296, done=1, total=6, hp_idx=1, fe_idx=1, score=1.133511\n"
     ]
    },
    {
     "name": "stderr",
     "output_type": "stream",
     "text": [
      "/Library/Frameworks/Python.framework/Versions/3.12/lib/python3.12/site-packages/sklearn/linear_model/_coordinate_descent.py:697: ConvergenceWarning: Objective did not converge. You might want to increase the number of iterations, check the scale of the features or consider increasing regularisation. Duality gap: 1.648e+00, tolerance: 1.457e-01\n",
      "  model = cd_fast.enet_coordinate_descent(\n"
     ]
    },
    {
     "name": "stdout",
     "output_type": "stream",
     "text": [
      "[step_eval] step=296, done=2, total=6, hp_idx=1, fe_idx=2, score=2.063482\n"
     ]
    },
    {
     "name": "stderr",
     "output_type": "stream",
     "text": [
      "/Library/Frameworks/Python.framework/Versions/3.12/lib/python3.12/site-packages/sklearn/linear_model/_coordinate_descent.py:697: ConvergenceWarning: Objective did not converge. You might want to increase the number of iterations, check the scale of the features or consider increasing regularisation. Duality gap: 1.498e+01, tolerance: 1.445e-01\n",
      "  model = cd_fast.enet_coordinate_descent(\n"
     ]
    },
    {
     "name": "stdout",
     "output_type": "stream",
     "text": [
      "[step_eval] step=296, done=3, total=6, hp_idx=1, fe_idx=3, score=2.330025\n"
     ]
    },
    {
     "name": "stderr",
     "output_type": "stream",
     "text": [
      "/Library/Frameworks/Python.framework/Versions/3.12/lib/python3.12/site-packages/sklearn/linear_model/_coordinate_descent.py:697: ConvergenceWarning: Objective did not converge. You might want to increase the number of iterations, check the scale of the features or consider increasing regularisation. Duality gap: 1.844e+01, tolerance: 1.457e-01\n",
      "  model = cd_fast.enet_coordinate_descent(\n"
     ]
    },
    {
     "name": "stdout",
     "output_type": "stream",
     "text": [
      "[step_eval] step=296, done=4, total=6, hp_idx=2, fe_idx=1, score=1.087281\n",
      "[step_eval] step=296, done=5, total=6, hp_idx=3, fe_idx=1, score=1.585951\n",
      "[step_eval] step=296, done=6, total=6, hp_idx=4, fe_idx=1, score=1.828369\n",
      "[step_done] step=296, best_score=1.087281\n",
      "[step_predict] step=297, of=299, date=2024-10-01\n"
     ]
    },
    {
     "name": "stderr",
     "output_type": "stream",
     "text": [
      "/Library/Frameworks/Python.framework/Versions/3.12/lib/python3.12/site-packages/sklearn/linear_model/_coordinate_descent.py:697: ConvergenceWarning: Objective did not converge. You might want to increase the number of iterations, check the scale of the features or consider increasing regularisation. Duality gap: 4.976e-01, tolerance: 1.457e-01\n",
      "  model = cd_fast.enet_coordinate_descent(\n"
     ]
    },
    {
     "name": "stdout",
     "output_type": "stream",
     "text": [
      "[step_search_start] step=297, hp=4, fe=3, expected_evals=6\n"
     ]
    },
    {
     "name": "stderr",
     "output_type": "stream",
     "text": [
      "/Library/Frameworks/Python.framework/Versions/3.12/lib/python3.12/site-packages/sklearn/linear_model/_coordinate_descent.py:697: ConvergenceWarning: Objective did not converge. You might want to increase the number of iterations, check the scale of the features or consider increasing regularisation. Duality gap: 1.060e+00, tolerance: 1.462e-01\n",
      "  model = cd_fast.enet_coordinate_descent(\n"
     ]
    },
    {
     "name": "stdout",
     "output_type": "stream",
     "text": [
      "[step_eval] step=297, done=1, total=6, hp_idx=1, fe_idx=1, score=0.938593\n"
     ]
    },
    {
     "name": "stderr",
     "output_type": "stream",
     "text": [
      "/Library/Frameworks/Python.framework/Versions/3.12/lib/python3.12/site-packages/sklearn/linear_model/_coordinate_descent.py:697: ConvergenceWarning: Objective did not converge. You might want to increase the number of iterations, check the scale of the features or consider increasing regularisation. Duality gap: 4.319e+00, tolerance: 1.462e-01\n",
      "  model = cd_fast.enet_coordinate_descent(\n"
     ]
    },
    {
     "name": "stdout",
     "output_type": "stream",
     "text": [
      "[step_eval] step=297, done=2, total=6, hp_idx=1, fe_idx=2, score=2.000484\n"
     ]
    },
    {
     "name": "stderr",
     "output_type": "stream",
     "text": [
      "/Library/Frameworks/Python.framework/Versions/3.12/lib/python3.12/site-packages/sklearn/linear_model/_coordinate_descent.py:697: ConvergenceWarning: Objective did not converge. You might want to increase the number of iterations, check the scale of the features or consider increasing regularisation. Duality gap: 1.460e+01, tolerance: 1.450e-01\n",
      "  model = cd_fast.enet_coordinate_descent(\n"
     ]
    },
    {
     "name": "stdout",
     "output_type": "stream",
     "text": [
      "[step_eval] step=297, done=3, total=6, hp_idx=1, fe_idx=3, score=1.872228\n"
     ]
    },
    {
     "name": "stderr",
     "output_type": "stream",
     "text": [
      "/Library/Frameworks/Python.framework/Versions/3.12/lib/python3.12/site-packages/sklearn/linear_model/_coordinate_descent.py:697: ConvergenceWarning: Objective did not converge. You might want to increase the number of iterations, check the scale of the features or consider increasing regularisation. Duality gap: 9.241e+00, tolerance: 1.462e-01\n",
      "  model = cd_fast.enet_coordinate_descent(\n"
     ]
    },
    {
     "name": "stdout",
     "output_type": "stream",
     "text": [
      "[step_eval] step=297, done=4, total=6, hp_idx=2, fe_idx=1, score=0.797383\n",
      "[step_eval] step=297, done=5, total=6, hp_idx=3, fe_idx=1, score=0.223274\n",
      "[step_eval] step=297, done=6, total=6, hp_idx=4, fe_idx=1, score=0.485532\n",
      "[step_done] step=297, best_score=0.223274\n",
      "[step_predict] step=298, of=299, date=2024-11-01\n",
      "[step_search_start] step=298, hp=4, fe=3, expected_evals=6\n"
     ]
    },
    {
     "name": "stderr",
     "output_type": "stream",
     "text": [
      "/Library/Frameworks/Python.framework/Versions/3.12/lib/python3.12/site-packages/sklearn/linear_model/_coordinate_descent.py:697: ConvergenceWarning: Objective did not converge. You might want to increase the number of iterations, check the scale of the features or consider increasing regularisation. Duality gap: 1.060e+00, tolerance: 1.462e-01\n",
      "  model = cd_fast.enet_coordinate_descent(\n"
     ]
    },
    {
     "name": "stdout",
     "output_type": "stream",
     "text": [
      "[step_eval] step=298, done=1, total=6, hp_idx=1, fe_idx=1, score=2.363299\n"
     ]
    },
    {
     "name": "stderr",
     "output_type": "stream",
     "text": [
      "/Library/Frameworks/Python.framework/Versions/3.12/lib/python3.12/site-packages/sklearn/linear_model/_coordinate_descent.py:697: ConvergenceWarning: Objective did not converge. You might want to increase the number of iterations, check the scale of the features or consider increasing regularisation. Duality gap: 4.880e+00, tolerance: 1.462e-01\n",
      "  model = cd_fast.enet_coordinate_descent(\n"
     ]
    },
    {
     "name": "stdout",
     "output_type": "stream",
     "text": [
      "[step_eval] step=298, done=2, total=6, hp_idx=1, fe_idx=2, score=4.663344\n"
     ]
    },
    {
     "name": "stderr",
     "output_type": "stream",
     "text": [
      "/Library/Frameworks/Python.framework/Versions/3.12/lib/python3.12/site-packages/sklearn/linear_model/_coordinate_descent.py:697: ConvergenceWarning: Objective did not converge. You might want to increase the number of iterations, check the scale of the features or consider increasing regularisation. Duality gap: 1.509e+01, tolerance: 1.450e-01\n",
      "  model = cd_fast.enet_coordinate_descent(\n"
     ]
    },
    {
     "name": "stdout",
     "output_type": "stream",
     "text": [
      "[step_eval] step=298, done=3, total=6, hp_idx=1, fe_idx=3, score=4.781576\n"
     ]
    },
    {
     "name": "stderr",
     "output_type": "stream",
     "text": [
      "/Library/Frameworks/Python.framework/Versions/3.12/lib/python3.12/site-packages/sklearn/linear_model/_coordinate_descent.py:697: ConvergenceWarning: Objective did not converge. You might want to increase the number of iterations, check the scale of the features or consider increasing regularisation. Duality gap: 1.028e+01, tolerance: 1.462e-01\n",
      "  model = cd_fast.enet_coordinate_descent(\n"
     ]
    },
    {
     "name": "stdout",
     "output_type": "stream",
     "text": [
      "[step_eval] step=298, done=4, total=6, hp_idx=2, fe_idx=1, score=2.278347\n",
      "[step_eval] step=298, done=5, total=6, hp_idx=3, fe_idx=1, score=1.992862\n",
      "[step_eval] step=298, done=6, total=6, hp_idx=4, fe_idx=1, score=1.389274\n",
      "[step_done] step=298, best_score=1.389274\n",
      "[step_predict] step=299, of=299, date=2024-12-01\n",
      "[step_search_start] step=299, hp=4, fe=3, expected_evals=6\n"
     ]
    },
    {
     "name": "stderr",
     "output_type": "stream",
     "text": [
      "/Library/Frameworks/Python.framework/Versions/3.12/lib/python3.12/site-packages/sklearn/linear_model/_coordinate_descent.py:697: ConvergenceWarning: Objective did not converge. You might want to increase the number of iterations, check the scale of the features or consider increasing regularisation. Duality gap: 1.090e+00, tolerance: 1.462e-01\n",
      "  model = cd_fast.enet_coordinate_descent(\n"
     ]
    },
    {
     "name": "stdout",
     "output_type": "stream",
     "text": [
      "[step_eval] step=299, done=1, total=6, hp_idx=1, fe_idx=1, score=2.175233\n"
     ]
    },
    {
     "name": "stderr",
     "output_type": "stream",
     "text": [
      "/Library/Frameworks/Python.framework/Versions/3.12/lib/python3.12/site-packages/sklearn/linear_model/_coordinate_descent.py:697: ConvergenceWarning: Objective did not converge. You might want to increase the number of iterations, check the scale of the features or consider increasing regularisation. Duality gap: 3.860e+00, tolerance: 1.463e-01\n",
      "  model = cd_fast.enet_coordinate_descent(\n"
     ]
    },
    {
     "name": "stdout",
     "output_type": "stream",
     "text": [
      "[step_eval] step=299, done=2, total=6, hp_idx=1, fe_idx=2, score=0.661001\n"
     ]
    },
    {
     "name": "stderr",
     "output_type": "stream",
     "text": [
      "/Library/Frameworks/Python.framework/Versions/3.12/lib/python3.12/site-packages/sklearn/linear_model/_coordinate_descent.py:697: ConvergenceWarning: Objective did not converge. You might want to increase the number of iterations, check the scale of the features or consider increasing regularisation. Duality gap: 1.493e+01, tolerance: 1.452e-01\n",
      "  model = cd_fast.enet_coordinate_descent(\n"
     ]
    },
    {
     "name": "stdout",
     "output_type": "stream",
     "text": [
      "[step_eval] step=299, done=3, total=6, hp_idx=1, fe_idx=3, score=2.920689\n"
     ]
    },
    {
     "name": "stderr",
     "output_type": "stream",
     "text": [
      "/Library/Frameworks/Python.framework/Versions/3.12/lib/python3.12/site-packages/sklearn/linear_model/_coordinate_descent.py:697: ConvergenceWarning: Objective did not converge. You might want to increase the number of iterations, check the scale of the features or consider increasing regularisation. Duality gap: 9.792e+00, tolerance: 1.463e-01\n",
      "  model = cd_fast.enet_coordinate_descent(\n"
     ]
    },
    {
     "name": "stdout",
     "output_type": "stream",
     "text": [
      "[step_eval] step=299, done=4, total=6, hp_idx=2, fe_idx=1, score=0.500544\n",
      "[step_eval] step=299, done=5, total=6, hp_idx=3, fe_idx=1, score=1.875641\n",
      "[step_eval] step=299, done=6, total=6, hp_idx=4, fe_idx=1, score=2.220552\n",
      "[step_done] step=299, best_score=0.500544\n",
      "[done] n_preds=299\n",
      "2024-08-01    0.226311\n",
      "2024-09-01   -1.056341\n",
      "2024-10-01   -1.235499\n",
      "2024-11-01   -0.672730\n",
      "2024-12-01   -0.085170\n",
      "dtype: float64\n",
      "2024-08-01    2.640264\n",
      "2024-09-01   -2.143623\n",
      "2024-10-01   -0.438116\n",
      "2024-11-01    1.320132\n",
      "2024-12-01   -2.388708\n",
      "dtype: float64\n"
     ]
    },
    {
     "name": "stderr",
     "output_type": "stream",
     "text": [
      "/Library/Frameworks/Python.framework/Versions/3.12/lib/python3.12/site-packages/sklearn/linear_model/_coordinate_descent.py:697: ConvergenceWarning: Objective did not converge. You might want to increase the number of iterations, check the scale of the features or consider increasing regularisation. Duality gap: 1.614e-01, tolerance: 1.452e-01\n",
      "  model = cd_fast.enet_coordinate_descent(\n"
     ]
    },
    {
     "data": {
      "text/plain": [
       "                                               used_model_params  \\\n",
       "time_for_pred                                                      \n",
       "2024-08-01     {'alpha': 0.1, 'l1_ratio': 0.7, 'max_iter': 10...   \n",
       "2024-09-01     {'alpha': 0.01, 'l1_ratio': 0.7, 'max_iter': 1...   \n",
       "2024-10-01     {'alpha': 0.01, 'l1_ratio': 0.7, 'max_iter': 1...   \n",
       "2024-11-01     {'alpha': 0.1, 'l1_ratio': 0.3, 'max_iter': 10...   \n",
       "2024-12-01     {'alpha': 0.1, 'l1_ratio': 0.7, 'max_iter': 10...   \n",
       "\n",
       "                                                    used_fe_spec  \\\n",
       "time_for_pred                                                      \n",
       "2024-08-01     {'pca_stage': 'post', 'pca_n': None, 'pca_var'...   \n",
       "2024-09-01     {'pca_stage': 'post', 'pca_n': None, 'pca_var'...   \n",
       "2024-10-01     {'pca_stage': 'post', 'pca_n': None, 'pca_var'...   \n",
       "2024-11-01     {'pca_stage': 'post', 'pca_n': None, 'pca_var'...   \n",
       "2024-12-01     {'pca_stage': 'post', 'pca_n': None, 'pca_var'...   \n",
       "\n",
       "               n_engineered_cols_used  selected_next_score  \n",
       "time_for_pred                                               \n",
       "2024-08-01                        312             1.381626  \n",
       "2024-09-01                        312             1.087281  \n",
       "2024-10-01                        312             0.223274  \n",
       "2024-11-01                        312             1.389274  \n",
       "2024-12-01                        312             0.500544  "
      ],
      "text/html": [
       "<div>\n",
       "<style scoped>\n",
       "    .dataframe tbody tr th:only-of-type {\n",
       "        vertical-align: middle;\n",
       "    }\n",
       "\n",
       "    .dataframe tbody tr th {\n",
       "        vertical-align: top;\n",
       "    }\n",
       "\n",
       "    .dataframe thead th {\n",
       "        text-align: right;\n",
       "    }\n",
       "</style>\n",
       "<table border=\"1\" class=\"dataframe\">\n",
       "  <thead>\n",
       "    <tr style=\"text-align: right;\">\n",
       "      <th></th>\n",
       "      <th>used_model_params</th>\n",
       "      <th>used_fe_spec</th>\n",
       "      <th>n_engineered_cols_used</th>\n",
       "      <th>selected_next_score</th>\n",
       "    </tr>\n",
       "    <tr>\n",
       "      <th>time_for_pred</th>\n",
       "      <th></th>\n",
       "      <th></th>\n",
       "      <th></th>\n",
       "      <th></th>\n",
       "    </tr>\n",
       "  </thead>\n",
       "  <tbody>\n",
       "    <tr>\n",
       "      <th>2024-08-01</th>\n",
       "      <td>{'alpha': 0.1, 'l1_ratio': 0.7, 'max_iter': 10...</td>\n",
       "      <td>{'pca_stage': 'post', 'pca_n': None, 'pca_var'...</td>\n",
       "      <td>312</td>\n",
       "      <td>1.381626</td>\n",
       "    </tr>\n",
       "    <tr>\n",
       "      <th>2024-09-01</th>\n",
       "      <td>{'alpha': 0.01, 'l1_ratio': 0.7, 'max_iter': 1...</td>\n",
       "      <td>{'pca_stage': 'post', 'pca_n': None, 'pca_var'...</td>\n",
       "      <td>312</td>\n",
       "      <td>1.087281</td>\n",
       "    </tr>\n",
       "    <tr>\n",
       "      <th>2024-10-01</th>\n",
       "      <td>{'alpha': 0.01, 'l1_ratio': 0.7, 'max_iter': 1...</td>\n",
       "      <td>{'pca_stage': 'post', 'pca_n': None, 'pca_var'...</td>\n",
       "      <td>312</td>\n",
       "      <td>0.223274</td>\n",
       "    </tr>\n",
       "    <tr>\n",
       "      <th>2024-11-01</th>\n",
       "      <td>{'alpha': 0.1, 'l1_ratio': 0.3, 'max_iter': 10...</td>\n",
       "      <td>{'pca_stage': 'post', 'pca_n': None, 'pca_var'...</td>\n",
       "      <td>312</td>\n",
       "      <td>1.389274</td>\n",
       "    </tr>\n",
       "    <tr>\n",
       "      <th>2024-12-01</th>\n",
       "      <td>{'alpha': 0.1, 'l1_ratio': 0.7, 'max_iter': 10...</td>\n",
       "      <td>{'pca_stage': 'post', 'pca_n': None, 'pca_var'...</td>\n",
       "      <td>312</td>\n",
       "      <td>0.500544</td>\n",
       "    </tr>\n",
       "  </tbody>\n",
       "</table>\n",
       "</div>"
      ]
     },
     "execution_count": 31,
     "metadata": {},
     "output_type": "execute_result"
    }
   ],
   "execution_count": 31
  },
  {
   "cell_type": "code",
   "id": "ed683f31",
   "metadata": {
    "ExecuteTime": {
     "end_time": "2025-09-21T12:36:24.391588Z",
     "start_time": "2025-09-21T12:36:24.360922Z"
    }
   },
   "source": [
    "\n",
    "# CHUNK 5 — Evaluate & Save\n",
    "from sklearn.metrics import mean_absolute_error, mean_squared_error\n",
    "import numpy as np, os, json\n",
    "\n",
    "rmse = np.sqrt(mean_squared_error(truths, preds))\n",
    "mae  = mean_absolute_error(truths, preds)\n",
    "mse  = mean_squared_error(truths, preds)\n",
    "print(f'RMSE={rmse:.4f}, MAE={mae:.4f}, n={len(truths)}')\n",
    "\n",
    "results = pd.DataFrame({'y_true': truths, 'y_pred': preds})\n",
    "results.index.name = 'date'\n",
    "\n",
    "os.makedirs('../reports', exist_ok=True)\n",
    "# cfglog.to_csv('../reports/rolling_cfglog.csv')\n",
    "# results.to_csv('../reports/rolling_predictions.csv')\n",
    "\n",
    "row = pd.DataFrame([{\n",
    "    'model_name': model_name,\n",
    "    'model_grid': json.dumps(model_grid, ensure_ascii=False),\n",
    "    'candidate_lag_sets': json.dumps(tuple(map(list, fe_cfg.candidate_lag_sets)), ensure_ascii=False),\n",
    "    'candidate_rm_sets':  json.dumps(tuple(map(list, fe_cfg.candidate_rm_sets)), ensure_ascii=False),\n",
    "    'candidate_ema_sets': json.dumps(tuple(map(list, fe_cfg.candidate_ema_sets)), ensure_ascii=False),\n",
    "    'candidate_pca':      json.dumps(fe_cfg.candidate_pca, ensure_ascii=False),\n",
    "    'pca_stage':          online.PCA_STAGE_DEFAULT,\n",
    "    'final_mse':          float(mse),\n",
    "    'n_steps':            int(len(truths)),\n",
    "}])\n",
    "row.to_csv('../reports/tuning_space_and_final_mse.csv', index=False)\n",
    "print('Saved ../reports/tuning_space_and_final_mse.csv')\n"
   ],
   "outputs": [
    {
     "name": "stdout",
     "output_type": "stream",
     "text": [
      "RMSE=2.6892, MAE=1.7271, n=299\n",
      "Saved ../reports/tuning_space_and_final_mse.csv\n"
     ]
    }
   ],
   "execution_count": 32
  }
 ],
 "metadata": {},
 "nbformat": 4,
 "nbformat_minor": 5
}
