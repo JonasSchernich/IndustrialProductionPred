{
 "cells": [
  {
   "cell_type": "markdown",
   "id": "0914a69d",
   "metadata": {},
   "source": [
    "# Tuning Notebook: ensemble_simple\n",
    "Dummy-Daten, kleine Splits, Stage A (3 Blöcke) + kurze Stage B. Exporte unter `outputs/`."
   ]
  },
  {
   "cell_type": "code",
   "execution_count": null,
   "id": "d0e3e5c3",
   "metadata": {},
   "outputs": [],
   "source": [
    "\n",
    "import os, sys\n",
    "from pathlib import Path\n",
    "\n",
    "PROJECT_ROOT = Path.cwd().resolve().parent   # wenn Notebook in repo/notebooks liegt\n",
    "os.environ[\"PROJECT_ROOT\"] = str(PROJECT_ROOT)\n",
    "if str(PROJECT_ROOT) not in sys.path:\n",
    "    sys.path.insert(0, str(PROJECT_ROOT))\n",
    "\n",
    "from src.config import GlobalConfig, DEFAULT_CORR_SPEC, EWMA_CORR_SPEC, outputs_for_model\n",
    "from src.tuning import run_stageA, run_stageB\n",
    "import numpy as np, pandas as pd\n"
   ]
  },
  {
   "cell_type": "code",
   "execution_count": null,
   "id": "c35f63d8",
   "metadata": {},
   "outputs": [],
   "source": [
    "from src.models.ensemble_simple import ForecastModel"
   ]
  },
  {
   "cell_type": "code",
   "execution_count": null,
   "id": "efbbfb5c",
   "metadata": {},
   "outputs": [],
   "source": [
    "\n",
    "# Outputs sicherstellen\n",
    "outputs_for_model(\"ensemble_simple\")\n"
   ]
  },
  {
   "cell_type": "code",
   "execution_count": null,
   "id": "1b633c9f",
   "metadata": {},
   "outputs": [],
   "source": [
    "\n",
    "# --- Dummy monthly data ---\n",
    "rng = np.random.default_rng(7)\n",
    "T = 160  # klein für Demo\n",
    "p = 20\n",
    "\n",
    "dates = pd.date_range(\"2000-01-01\", periods=T, freq=\"MS\")\n",
    "y = pd.Series(rng.normal(size=T), index=dates, name=\"delta_ip\")\n",
    "y = 0.5*y.shift(1).fillna(0) + y + rng.normal(scale=0.3, size=T)\n",
    "X = pd.DataFrame(rng.normal(size=(T,p)), index=dates, columns=[f\"f{i:03d}\" for i in range(p)])\n",
    "for j in range(min(5, p)):\n",
    "    X.iloc[:, j] = y.shift(1).fillna(0).values + rng.normal(scale=0.5, size=T)\n",
    "\n",
    "y.head(), X.head()\n"
   ]
  },
  {
   "cell_type": "code",
   "execution_count": null,
   "id": "3e217fff",
   "metadata": {},
   "outputs": [],
   "source": [
    "\n",
    "# --- Config ---\n",
    "cfg = GlobalConfig()\n",
    "cfg.corr_spec = dict(EWMA_CORR_SPEC)  # global, einheitlich\n",
    "cfg.lag_candidates = tuple(range(1, 4))\n",
    "cfg.top_k_lags_per_feature = 1\n",
    "cfg.k1_topk = 20\n",
    "cfg.redundancy_method = \"greedy\"\n",
    "cfg.redundancy_param = 0.9\n",
    "cfg.dr_method = \"none\"   # Modell-spezifisch ggf. im Grid ändern\n",
    "cfg.nuisance_seasonal = \"off\"\n",
    "\n",
    "# Kleine Blöcke\n",
    "cfg.W0_A = 60\n",
    "cfg.BLOCKS_A = [(61, 70), (71, 80), (81, 90)]\n",
    "cfg.W0_B = 100\n",
    "cfg.policy_window = 6\n",
    "cfg.policy_gain_min = 0.05\n",
    "cfg.policy_cooldown = 2\n"
   ]
  },
  {
   "cell_type": "code",
   "execution_count": null,
   "id": "20a650d9",
   "metadata": {},
   "outputs": [],
   "source": [
    "\n",
    "# Einfaches Ensemble aus lgbm + xgb\n",
    "model_grid = [\n",
    "    {\"members\":[\n",
    "        {\"type\":\"lgbm\",\"hp\":{\"learning_rate\":0.05,\"n_estimators\":150,\"num_leaves\":15}},\n",
    "        {\"type\":\"xgb\",\"hp\":{\"learning_rate\":0.05,\"n_estimators\":150,\"max_depth\":3}}\n",
    "    ], \"weights\": None},\n",
    "    {\"members\":[\n",
    "        {\"type\":\"lgbm\",\"hp\":{\"learning_rate\":0.10,\"n_estimators\":200,\"num_leaves\":31}},\n",
    "        {\"type\":\"xgb\",\"hp\":{\"learning_rate\":0.03,\"n_estimators\":250,\"max_depth\":2}}\n",
    "    ], \"weights\": None},\n",
    "]\n"
   ]
  },
  {
   "cell_type": "code",
   "execution_count": null,
   "id": "b21521f6",
   "metadata": {},
   "outputs": [],
   "source": [
    "\n",
    "# --- Stage A ---\n",
    "shortlist = run_stageA(\n",
    "    model_name=\"ensemble_simple\",\n",
    "    model_ctor=lambda hp: ForecastModel(hp),\n",
    "    model_grid=model_grid,\n",
    "    X=X, y=y, cfg=cfg\n",
    ")\n",
    "shortlist\n"
   ]
  },
  {
   "cell_type": "code",
   "execution_count": null,
   "id": "d6ad0209",
   "metadata": {},
   "outputs": [],
   "source": [
    "\n",
    "# --- Stage B (kurz) ---\n",
    "run_stageB(\n",
    "    model_name=\"ensemble_simple\",\n",
    "    model_ctor=lambda hp: ForecastModel(hp),\n",
    "    shortlist=shortlist,\n",
    "    X=X, y=y, cfg=cfg,\n",
    "    max_months=6\n",
    ")\n",
    "print(\"Stage B done → outputs/stageB/ensemble_simple/\")\n"
   ]
  }
 ],
 "metadata": {},
 "nbformat": 4,
 "nbformat_minor": 5
}
