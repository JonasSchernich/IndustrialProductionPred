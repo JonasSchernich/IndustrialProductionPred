{
 "cells": [
  {
   "cell_type": "markdown",
   "id": "bcd81977",
   "metadata": {},
   "source": [
    "# Tuning Notebook: dfm\n",
    "Dummy-Daten, kleine Splits, Stage A (3 Blöcke) + kurze Stage B. Exporte unter `outputs/`."
   ]
  },
  {
   "cell_type": "code",
   "id": "216e3756",
   "metadata": {
    "ExecuteTime": {
     "end_time": "2025-10-14T14:53:32.979568Z",
     "start_time": "2025-10-14T14:53:30.934351Z"
    }
   },
   "source": [
    "\n",
    "import os, sys\n",
    "from pathlib import Path\n",
    "\n",
    "PROJECT_ROOT = Path.cwd().resolve().parent   # wenn Notebook in repo/notebooks liegt\n",
    "os.environ[\"PROJECT_ROOT\"] = str(PROJECT_ROOT)\n",
    "if str(PROJECT_ROOT) not in sys.path:\n",
    "    sys.path.insert(0, str(PROJECT_ROOT))\n",
    "\n",
    "from src.config import GlobalConfig, DEFAULT_CORR_SPEC, EWMA_CORR_SPEC, outputs_for_model\n",
    "from src.tuning import run_stageA, run_stageB\n",
    "import numpy as np, pandas as pd\n"
   ],
   "outputs": [],
   "execution_count": 1
  },
  {
   "cell_type": "code",
   "id": "eb1c6756",
   "metadata": {
    "ExecuteTime": {
     "end_time": "2025-10-14T14:53:39.134592Z",
     "start_time": "2025-10-14T14:53:39.130810Z"
    }
   },
   "source": [
    "from src.models.dfm import ForecastModel"
   ],
   "outputs": [],
   "execution_count": 2
  },
  {
   "cell_type": "code",
   "id": "1cab196c",
   "metadata": {
    "ExecuteTime": {
     "end_time": "2025-10-14T14:53:41.497668Z",
     "start_time": "2025-10-14T14:53:41.488649Z"
    }
   },
   "source": [
    "\n",
    "# Outputs sicherstellen\n",
    "outputs_for_model(\"dfm\")\n"
   ],
   "outputs": [
    {
     "data": {
      "text/plain": [
       "{'stageA': PosixPath('/Users/jonasschernich/Documents/Masterarbeit/Code/outputs/stageA/dfm'),\n",
       " 'stageB': PosixPath('/Users/jonasschernich/Documents/Masterarbeit/Code/outputs/stageB/dfm'),\n",
       " 'logs': PosixPath('/Users/jonasschernich/Documents/Masterarbeit/Code/outputs/logs/dfm.log')}"
      ]
     },
     "execution_count": 3,
     "metadata": {},
     "output_type": "execute_result"
    }
   ],
   "execution_count": 3
  },
  {
   "cell_type": "code",
   "id": "4ab5ccca",
   "metadata": {
    "ExecuteTime": {
     "end_time": "2025-10-14T15:24:01.088151Z",
     "start_time": "2025-10-14T15:24:00.906512Z"
    }
   },
   "source": [
    "\n",
    "from src.io_timesplits import load_target, load_ifo_features\n",
    "import pandas as pd\n",
    "\n",
    "# 1) Laden\n",
    "from src.io_timesplits import load_target, load_ifo_features\n",
    "y = load_target()\n",
    "X = load_ifo_features()\n",
    "idx = y.index.intersection(X.index)\n",
    "y, X = y.loc[idx], X.loc[idx]\n",
    "\n",
    "# 2) TSFresh/Chronos (optional)\n",
    "import pandas as pd, src.features as F\n",
    "tsfresh_df = pd.read_parquet(PROJECT_ROOT/\"data/processed/tsfresh_slim.parquet\").set_index(\"date\")\n",
    "chronos_df = pd.read_parquet(PROJECT_ROOT/\"data/processed/chronos_1step.parquet\").set_index(\"date\")\n",
    "tsfresh_df.index = pd.to_datetime(tsfresh_df.index)\n",
    "chronos_df.index = pd.to_datetime(chronos_df.index)\n",
    "tsfresh_df = tsfresh_df.reindex(y.index)\n",
    "chronos_df = chronos_df.reindex(y.index)\n",
    "F.tsfresh_block  = lambda y_s, I_t, W=12: tsfresh_df.loc[[y_s.index[I_t-1]]]\n",
    "F.chronos_block  = lambda y_s, I_t, W=12: chronos_df.loc[[y_s.index[I_t-1]]]\n",
    "\n",
    "# 3) Config\n",
    "from src.config import GlobalConfig, DEFAULT_CORR_SPEC\n",
    "cfg = GlobalConfig()\n",
    "cfg.corr_spec = dict(DEFAULT_CORR_SPEC)\n",
    "cfg.nuisance_seasonal = \"auto\"\n",
    "cfg.lag_candidates = tuple(range(1,13))\n",
    "cfg.k1_topk = 600\n",
    "cfg.redundancy_method = \"greedy\"; cfg.redundancy_param = 0.9\n",
    "cfg.W0_A = 180; cfg.BLOCKS_A = [(181,200),(201,220),(221,240)]\n",
    "cfg.W0_B = 240\n",
    "\n",
    "# 4) Run (DFM als Beispiel)\n",
    "from src.tuning import run_stageA, run_stageB\n",
    "from src.models.dfm import ForecastModel\n",
    "shortlist = run_stageA(\"dfm\", lambda hp: ForecastModel(hp), [{\"alpha\":0.0},{\"alpha\":0.1}], X, y, cfg)\n",
    "run_stageB(\"dfm\", lambda hp: ForecastModel(hp), shortlist, X, y, cfg)\n",
    "\n"
   ],
   "outputs": [],
   "execution_count": 10
  },
  {
   "cell_type": "code",
   "id": "683bea55",
   "metadata": {
    "ExecuteTime": {
     "end_time": "2025-10-14T15:25:03.621334Z",
     "start_time": "2025-10-14T15:24:23.754980Z"
    }
   },
   "source": [
    "\n",
    "# --- Stage A ---\n",
    "shortlist = run_stageA(\n",
    "    model_name=\"dfm\",\n",
    "    model_ctor=lambda hp: ForecastModel(hp),\n",
    "    model_grid=model_grid,\n",
    "    X=X, y=y, cfg=cfg\n",
    ")\n",
    "shortlist\n"
   ],
   "outputs": [
    {
     "name": "stdout",
     "output_type": "stream",
     "text": [
      "[Stage A][Block 1] train_end=60, OOS=61-70 | configs=2\n",
      "  - Config 1/2: {'alpha': 0.0}\n",
      "    · Month 1/10 processed | running RMSE=2.1310\n",
      "    · Month 2/10 processed | running RMSE=1.5366\n",
      "    · Month 3/10 processed | running RMSE=1.8537\n",
      "    · Month 4/10 processed | running RMSE=1.8815\n",
      "    · Month 5/10 processed | running RMSE=1.7522\n",
      "    · Month 6/10 processed | running RMSE=1.6234\n",
      "    · Month 7/10 processed | running RMSE=1.6218\n",
      "    · Month 8/10 processed | running RMSE=1.7785\n",
      "    · Month 9/10 processed | running RMSE=1.6785\n",
      "    · Month 10/10 processed | running RMSE=1.7412\n",
      "  - Config 2/2: {'alpha': 0.1}\n",
      "    · Month 1/10 processed | running RMSE=2.4391\n",
      "    · Month 2/10 processed | running RMSE=1.7321\n",
      "    · Month 3/10 processed | running RMSE=1.9372\n",
      "    · Month 4/10 processed | running RMSE=2.0161\n",
      "    · Month 5/10 processed | running RMSE=1.8801\n",
      "    · Month 6/10 processed | running RMSE=1.7414\n",
      "    · Month 7/10 processed | running RMSE=1.7249\n",
      "    · Month 8/10 processed | running RMSE=1.8680\n",
      "    · Month 9/10 processed | running RMSE=1.7630\n",
      "    · Month 10/10 processed | running RMSE=1.7933\n",
      "[Stage A][Block 1] kept 1 configs (top 50%).\n",
      "[Stage A][Block 2] train_end=70, OOS=71-80 | configs=1\n",
      "  - Config 1/1: {'alpha': 0.0}\n",
      "    · Month 1/10 processed | running RMSE=0.0977\n",
      "    · Month 2/10 processed | running RMSE=2.0841\n",
      "    · Month 3/10 processed | running RMSE=1.7187\n",
      "    · Month 4/10 processed | running RMSE=2.3220\n",
      "    · Month 5/10 processed | running RMSE=2.2204\n",
      "    · Month 6/10 processed | running RMSE=2.1640\n",
      "    · Month 7/10 processed | running RMSE=2.0453\n",
      "    · Month 8/10 processed | running RMSE=2.0479\n",
      "    · Month 9/10 processed | running RMSE=2.0070\n",
      "    · Month 10/10 processed | running RMSE=2.2009\n",
      "[Stage A][Block 2] kept 1 configs (top 50%).\n",
      "[Stage A][Block 3] train_end=80, OOS=81-90 | configs=1\n",
      "  - Config 1/1: {'alpha': 0.0}\n",
      "    · Month 1/10 processed | running RMSE=1.5809\n",
      "    · Month 2/10 processed | running RMSE=1.9265\n",
      "    · Month 3/10 processed | running RMSE=1.5816\n",
      "    · Month 4/10 processed | running RMSE=1.3913\n",
      "    · Month 5/10 processed | running RMSE=1.2591\n",
      "    · Month 6/10 processed | running RMSE=1.2929\n",
      "    · Month 7/10 processed | running RMSE=1.2146\n",
      "    · Month 8/10 processed | running RMSE=1.2135\n",
      "    · Month 9/10 processed | running RMSE=1.2118\n",
      "    · Month 10/10 processed | running RMSE=1.3351\n",
      "[Stage A][Block 3] kept 1 configs (top 50%).\n",
      "[Stage A] Shortlist saved with 1 configs.\n"
     ]
    },
    {
     "data": {
      "text/plain": [
       "[{'alpha': 0.0}]"
      ]
     },
     "execution_count": 13,
     "metadata": {},
     "output_type": "execute_result"
    }
   ],
   "execution_count": 13
  },
  {
   "cell_type": "code",
   "id": "f435968d",
   "metadata": {
    "ExecuteTime": {
     "end_time": "2025-10-14T15:25:24.650900Z",
     "start_time": "2025-10-14T15:25:17.589372Z"
    }
   },
   "source": [
    "\n",
    "# --- Stage B (kurz) ---\n",
    "run_stageB(\n",
    "    model_name=\"dfm\",\n",
    "    model_ctor=lambda hp: ForecastModel(hp),\n",
    "    shortlist=shortlist,\n",
    "    X=X, y=y, cfg=cfg,\n",
    "    max_months=6\n",
    ")\n",
    "print(\"Stage B done → outputs/stageB/dfm/\")\n"
   ],
   "outputs": [
    {
     "name": "stdout",
     "output_type": "stream",
     "text": [
      "[Stage B] Month origin t=100 | evaluating 1 configs | active=1\n",
      "[Stage B] Month origin t=101 | evaluating 1 configs | active=1\n",
      "[Stage B] Month origin t=102 | evaluating 1 configs | active=1\n",
      "[Stage B] Month origin t=103 | evaluating 1 configs | active=1\n",
      "[Stage B] Month origin t=104 | evaluating 1 configs | active=1\n",
      "[Stage B] Month origin t=105 | evaluating 1 configs | active=1\n",
      "Stage B done → outputs/stageB/dfm/\n"
     ]
    }
   ],
   "execution_count": 14
  }
 ],
 "metadata": {
  "kernelspec": {
   "name": "python3",
   "language": "python",
   "display_name": "Python 3 (ipykernel)"
  }
 },
 "nbformat": 4,
 "nbformat_minor": 5
}
