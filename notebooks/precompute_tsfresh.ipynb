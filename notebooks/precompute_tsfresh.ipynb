{
 "cells": [
  {
   "metadata": {
    "ExecuteTime": {
     "end_time": "2025-09-21T13:24:07.633515Z",
     "start_time": "2025-09-21T13:24:07.176504Z"
    }
   },
   "cell_type": "code",
   "source": [
    "\n",
    "# CHUNK 1 — Load & optional manual Branchen-Filter\n",
    "import sys, os, re, json\n",
    "sys.path.append(os.path.abspath(\"../src\"))\n",
    "import pandas as pd\n",
    "from tsforecast.types import FeatureSelectCfg, FeEngCfg\n",
    "from tsforecast.evaluation.metrics import get_metric\n",
    "from tsforecast.rolling.online import online_rolling_forecast\n",
    "from tsforecast.rolling import online\n",
    "\n",
    "X = pd.read_csv('../data/processed/cleaned_features.csv', parse_dates=[\"date\"], index_col=\"date\")\n",
    "y_df = pd.read_csv('../data/processed/target.csv', parse_dates=[\"date\"], index_col=\"date\")\n",
    "y = y_df.iloc[:, 1] if y_df.shape[1] >= 2 else y_df.iloc[:, 0]\n",
    "\n",
    "# Optional: manuelle Branchen-Auswahl (leerlassen = alle nehmen)\n",
    "# industry_whitelist = [\n",
    "#     \"Herstellung_von_Nahrungs-_und_Futtermitteln\",\n",
    "#     \"Getränkeherstellung\",\n",
    "#     \"Herstellung_von_Textilien\",\n",
    "#     \"Herstellung_von_Bekleidung\",\n",
    "#     \"Herstellung_von_Leder_Lederwaren_und_Schuhen\",\n",
    "#     \"Holz-_Flecht-_Korb-_und_Korkwarenherstellung_(ohne_Möbel)\",\n",
    "#     \"Papiergewerbe\",\n",
    "#     \"Herstellung_von_Druckerzeugnissen\",\n",
    "#     \"Kokerei_und_Mineralölverarbeitung\",\n",
    "#     \"Herstellung_von_chemischen_Erzeugnissen\",\n",
    "#     \"Herstellung_von_pharmazeutischen_Erzeugnissen\",\n",
    "#     \"Herstellung_von_Gummi-_und_Kunststoffwaren\",\n",
    "#     \"Glas-_Keramikgewerbe_Verarbeitung_von_Steinen_und_Erden\",\n",
    "#     \"Metallerzeugung_und_-bearbeitung\",\n",
    "#     \"Herstellung_von_Metallerzeugnissen\",\n",
    "#     \"Datenverarbeitungsgeräte_elektronische_und_optische_Erzeugnisse\",\n",
    "#     \"Herstellung_von_elektrischen_Ausrüstungen\",\n",
    "#     \"Maschinenbau\",\n",
    "#     \"Herstellung_von_Kraftwagen_und_Kraftwagenteilen\",\n",
    "#     \"Sonstiger_Fahrzeugbau\",\n",
    "#     \"Herstellung_von_Möbeln\",\n",
    "#     \"Herstellung_von_sonstigen_Waren\"\n",
    "# ]\n",
    "\n",
    "\n",
    "industry_whitelist = [\n",
    "    \"Verarbeitendes_Gewerbe\",\n",
    "    \"Verarbeitendes_Gewerbe_(ohne_Ernährungsgewerbe)\",\n",
    "    \"Herstellung_von_Vorleistungsgütern\",\n",
    "    \"Herstellung_von_Investitionsgütern\",\n",
    "    \"Herstellung_von_Konsumgütern_(Ge-_und_Verbrauchsgüter)\",\n",
    "    \"Herstellung_von_Gebrauchsgütern\",\n",
    "    \"Herstellung_von_Verbrauchsgütern\",\n",
    "    \"Herstellung_von_Konsumgütern_(ohne_Ernährungsgewerbe)\",\n",
    "    \"Herstellung_von_Verbrauchsgütern_(ohne_Ernährungsgewerbe)\",\n",
    "    \"Ernährungsgewerbe_und_Tabakverarbeitung\",\n",
    "    \"Herstellung_von_Nahrungs-_und_Futtermitteln\",\n",
    "    \"Schlachten_und_Fleischverarbeitung\"\n",
    "]\n",
    "\n",
    "if industry_whitelist:\n",
    "    keep = []\n",
    "    wl = set(industry_whitelist)\n",
    "    for c in X.columns:\n",
    "        prefix = c.split('.', 1)[0]\n",
    "        if prefix in wl:\n",
    "            keep.append(c)\n",
    "    X = X[keep]\n",
    "    print(f\"Gefilterte Spalten: {len(keep)}\")\n",
    "\n",
    "idx = X.index.intersection(y.index)\n",
    "X = X.loc[idx].copy()\n",
    "y = y.loc[idx].copy()\n",
    "metric_fn = get_metric('rmse')\n",
    "print(X.shape, y.shape)"
   ],
   "id": "9dda5047f477d583",
   "outputs": [
    {
     "name": "stdout",
     "output_type": "stream",
     "text": [
      "Gefilterte Spalten: 156\n",
      "(408, 156) (408,)\n"
     ]
    }
   ],
   "execution_count": 1
  },
  {
   "cell_type": "code",
   "id": "initial_id",
   "metadata": {
    "collapsed": true,
    "ExecuteTime": {
     "end_time": "2025-09-21T13:24:18.568370Z",
     "start_time": "2025-09-21T13:24:17.847137Z"
    }
   },
   "source": [
    "import time, sys\n",
    "import numpy as np\n",
    "import pandas as pd\n",
    "from numpy.lib.stride_tricks import sliding_window_view\n",
    "from tsfresh import extract_features\n",
    "from tsfresh.feature_extraction.settings import MinimalFCParameters, EfficientFCParameters\n",
    "\n",
    "def precompute_tsfresh_rolling(X: pd.DataFrame, window: int = 12,\n",
    "                               mode: str = \"efficient\", n_jobs: int = 0,\n",
    "                               log_every: int = 5) -> pd.DataFrame:\n",
    "    params = EfficientFCParameters() if mode == \"efficient\" else MinimalFCParameters()\n",
    "    idx = X.index\n",
    "    cols = list(X.columns)\n",
    "    recs = []\n",
    "    t0 = time.time()\n",
    "    for i, col in enumerate(cols, 1):\n",
    "        s = X[col].to_numpy()\n",
    "        if len(s) < window:\n",
    "            continue\n",
    "        try:\n",
    "            W = sliding_window_view(s, window_shape=window)            # (n_win, window)\n",
    "            n_win = W.shape[0]\n",
    "            df_long = pd.DataFrame({\n",
    "                \"id\":   np.repeat(np.arange(window-1, window-1+n_win), window),\n",
    "                \"time\": np.tile(np.arange(window), n_win),\n",
    "                \"value\": W.reshape(-1)\n",
    "            })\n",
    "            df_long[\"kind\"] = col\n",
    "            feats = extract_features(\n",
    "                df_long,\n",
    "                column_id=\"id\", column_sort=\"time\",\n",
    "                column_kind=\"kind\", column_value=\"value\",\n",
    "                default_fc_parameters=params,\n",
    "                disable_progressbar=True, n_jobs=n_jobs\n",
    "            )\n",
    "            feats.index = idx[window-1:window-1+n_win]\n",
    "            feats.columns = [f\"tsf_{col}__{c}\" for c in feats.columns]\n",
    "            recs.append(feats)\n",
    "        except Exception as e:\n",
    "            print(f\"[warn] {col}: {e}\")\n",
    "\n",
    "        if (i % log_every == 0) or (i == len(cols)):\n",
    "            dt = time.time() - t0\n",
    "            avg = dt / max(i, 1)\n",
    "            eta = avg * (len(cols) - i)\n",
    "            print(f\"{i}/{len(cols)} cols  avg {avg:.2f}s/col  eta {eta/60:.1f}m\")\n",
    "            sys.stdout.flush()\n",
    "\n",
    "    if not recs:\n",
    "        return pd.DataFrame(index=idx)\n",
    "    F = pd.concat(recs, axis=1).sort_index()\n",
    "    return F\n",
    "\n"
   ],
   "outputs": [],
   "execution_count": 2
  },
  {
   "metadata": {
    "jupyter": {
     "is_executing": true
    },
    "ExecuteTime": {
     "start_time": "2025-09-21T13:24:20.388595Z"
    }
   },
   "cell_type": "code",
   "source": [
    "F = precompute_tsfresh_rolling(X, window=12, mode=\"efficient\", n_jobs=0, log_every=5)\n",
    "F.to_parquet(\"../data/processed/tsfresh_w12.parquet\")\n",
    "\n",
    "\n"
   ],
   "id": "2f273c386ab798c4",
   "outputs": [],
   "execution_count": null
  }
 ],
 "metadata": {
  "kernelspec": {
   "display_name": "Python 3",
   "language": "python",
   "name": "python3"
  },
  "language_info": {
   "codemirror_mode": {
    "name": "ipython",
    "version": 2
   },
   "file_extension": ".py",
   "mimetype": "text/x-python",
   "name": "python",
   "nbconvert_exporter": "python",
   "pygments_lexer": "ipython2",
   "version": "2.7.6"
  }
 },
 "nbformat": 4,
 "nbformat_minor": 5
}
